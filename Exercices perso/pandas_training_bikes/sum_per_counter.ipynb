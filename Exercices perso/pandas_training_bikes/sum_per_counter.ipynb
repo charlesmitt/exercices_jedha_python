{
 "cells": [
  {
   "cell_type": "code",
   "execution_count": 2,
   "metadata": {},
   "outputs": [],
   "source": [
    "import pandas as pd\n",
    "\n",
    "path_to_file = 'c:\\\\Users\\\\Admin\\\\Desktop\\\\introduction_to_python\\\\pandas_training_bikes'\n",
    "\n",
    "\n",
    "data = pd.read_csv(path_to_file + \"/comptage-velo-donnees-compteurs.csv\", sep=\";\")\n",
    "#data.head()"
   ]
  },
  {
   "cell_type": "code",
   "execution_count": 3,
   "metadata": {},
   "outputs": [],
   "source": [
    "list_of_counters = data[\"Nom du site de comptage\"].unique()"
   ]
  },
  {
   "cell_type": "code",
   "execution_count": 33,
   "metadata": {},
   "outputs": [],
   "source": [
    "#print((list_of_counters))\n",
    "bikes_per_counter = {}\n",
    "for i in (list_of_counters):\n",
    "    mask = data[\"Nom du site de comptage\"]==i\n",
    "    nb_bikes=data[mask][\"Comptage horaire\"].sum()\n",
    "    bikes_per_counter[i]=nb_bikes"
   ]
  },
  {
   "cell_type": "code",
   "execution_count": 26,
   "metadata": {},
   "outputs": [
    {
     "data": {
      "text/plain": [
       "{'97 avenue Denfert Rochereau': 636047,\n",
       " '105 rue La Fayette': 0,\n",
       " '106 avenue Denfert Rochereau': 333971,\n",
       " '135 avenue Daumesnil': 680884,\n",
       " '100 rue La Fayette': 0,\n",
       " '28 boulevard Diderot': 696345,\n",
       " '39 quai François Mauriac': 1380632,\n",
       " \"18 quai de l'Hôtel de Ville\": 730445,\n",
       " '27 boulevard Diderot': 617887,\n",
       " 'Voie Georges Pompidou': 1228788,\n",
       " '67 boulevard Voltaire': 1572787,\n",
       " '10 avenue de la Grande Armée': 363866,\n",
       " '7 avenue de la Grande Armée': 413539,\n",
       " '72 boulevard Voltaire': 1631192,\n",
       " '89 boulevard de Magenta': 2232512,\n",
       " '16 avenue de la Porte des Ternes': 257403,\n",
       " 'Pont du Garigliano': 1241760,\n",
       " '102 boulevard de Magenta': 2263947,\n",
       " 'Face au 16 avenue de la  Porte des Ternes': 316298,\n",
       " '21 boulevard Auguste Blanqui': 318294,\n",
       " '72 boulevard Richard Lenoir': 1402503,\n",
       " 'Pont National': 1309256,\n",
       " 'Face au 48 quai de la marne': 2020761,\n",
       " '77 boulevard Richard Lenoir': 1203641,\n",
       " \"Face 104 rue d'Aubervilliers\": 1194870,\n",
       " 'Face au 70 quai de Bercy': 936173,\n",
       " '6 rue Julia Bartet': 1150998,\n",
       " \"Face au 25 quai de l'Oise\": 1249536,\n",
       " '35 boulevard de Ménilmontant': 1813316,\n",
       " '152 boulevard du Montparnasse': 1004219,\n",
       " '10 boulevard Auguste Blanqui': 445137,\n",
       " '243 boulevard Saint Germain': 712455,\n",
       " 'Totem 64 Rue de Rivoli': 4273601,\n",
       " '87 avenue de Flandre': 1039312,\n",
       " '72 avenue de Flandre': 913694,\n",
       " '44 avenue des Champs Elysées': 602223,\n",
       " \"180 avenue d'Italie\": 509281,\n",
       " '129 rue Lecourbe': 503755,\n",
       " \"147 avenue d'Italie\": 517489,\n",
       " '33 avenue des Champs Elysées': 802987,\n",
       " '132 rue Lecourbe': 551528,\n",
       " 'Pont de la Concorde': 2082534,\n",
       " 'Pont des Invalides': 1160673,\n",
       " 'Face au 8 avenue de la porte de Charenton': 351701,\n",
       " 'Face au 4 avenue de la porte de Bagnolet': 862694,\n",
       " 'Pont Charles De Gaulle': 1123222,\n",
       " '36 quai de Grenelle': 1715772,\n",
       " \"Face au 40 quai D'Issy\": 483113,\n",
       " 'Pont de Bercy': 1148210,\n",
       " '38 rue Turbigo': 2725575,\n",
       " \"Quai d'Orsay\": 3291524,\n",
       " '27 quai de la Tournelle': 2624481,\n",
       " \"Totem 85 quai d'Austerlitz\": 2126792,\n",
       " 'Totem Cours la Reine': 840220,\n",
       " 'Totem 73 boulevard de Sébastopol': 5817300,\n",
       " '21 boulevard Saint Michel': 0,\n",
       " 'Quai des Tuileries': 1107480,\n",
       " '9 boulevard Jourdan': 664415,\n",
       " '24 boulevard Jourdan': 656944,\n",
       " '27 boulevard Davout': 243668,\n",
       " '42 boulevard Soult': 1050039,\n",
       " '51 boulevard du Général Martial Valin': 627622,\n",
       " '56 boulevard Kellermann': 593277,\n",
       " '72 boulevard Brune': 513874,\n",
       " '77 boulevard Masséna': 980678,\n",
       " '81 boulevard Mortier': 519867,\n",
       " '98 boulevard Poniatowski': 1033006,\n",
       " '163 boulevard Brune': 684040,\n",
       " 'Face au 49 boulevard du Général Martial Valin': 529232}"
      ]
     },
     "execution_count": 26,
     "metadata": {},
     "output_type": "execute_result"
    }
   ],
   "source": [
    "bikes_per_counter"
   ]
  },
  {
   "cell_type": "code",
   "execution_count": 40,
   "metadata": {},
   "outputs": [],
   "source": [
    "cols = [\"compteur\", \"total_velos\"]\n",
    "\n",
    "data_bikes = pd.DataFrame.from_dict(bikes_per_counter, orient='index', columns=[\"total_velos\"])"
   ]
  },
  {
   "cell_type": "code",
   "execution_count": 41,
   "metadata": {},
   "outputs": [
    {
     "data": {
      "text/html": [
       "<div>\n",
       "<style scoped>\n",
       "    .dataframe tbody tr th:only-of-type {\n",
       "        vertical-align: middle;\n",
       "    }\n",
       "\n",
       "    .dataframe tbody tr th {\n",
       "        vertical-align: top;\n",
       "    }\n",
       "\n",
       "    .dataframe thead th {\n",
       "        text-align: right;\n",
       "    }\n",
       "</style>\n",
       "<table border=\"1\" class=\"dataframe\">\n",
       "  <thead>\n",
       "    <tr style=\"text-align: right;\">\n",
       "      <th></th>\n",
       "      <th>total_velos</th>\n",
       "    </tr>\n",
       "  </thead>\n",
       "  <tbody>\n",
       "    <tr>\n",
       "      <th>97 avenue Denfert Rochereau</th>\n",
       "      <td>636047</td>\n",
       "    </tr>\n",
       "    <tr>\n",
       "      <th>105 rue La Fayette</th>\n",
       "      <td>0</td>\n",
       "    </tr>\n",
       "    <tr>\n",
       "      <th>106 avenue Denfert Rochereau</th>\n",
       "      <td>333971</td>\n",
       "    </tr>\n",
       "    <tr>\n",
       "      <th>135 avenue Daumesnil</th>\n",
       "      <td>680884</td>\n",
       "    </tr>\n",
       "    <tr>\n",
       "      <th>100 rue La Fayette</th>\n",
       "      <td>0</td>\n",
       "    </tr>\n",
       "  </tbody>\n",
       "</table>\n",
       "</div>"
      ],
      "text/plain": [
       "                              total_velos\n",
       "97 avenue Denfert Rochereau        636047\n",
       "105 rue La Fayette                      0\n",
       "106 avenue Denfert Rochereau       333971\n",
       "135 avenue Daumesnil               680884\n",
       "100 rue La Fayette                      0"
      ]
     },
     "execution_count": 41,
     "metadata": {},
     "output_type": "execute_result"
    }
   ],
   "source": [
    "data_bikes[\"\"]"
   ]
  },
  {
   "cell_type": "code",
   "execution_count": null,
   "metadata": {},
   "outputs": [],
   "source": []
  }
 ],
 "metadata": {
  "kernelspec": {
   "display_name": "base",
   "language": "python",
   "name": "python3"
  },
  "language_info": {
   "codemirror_mode": {
    "name": "ipython",
    "version": 3
   },
   "file_extension": ".py",
   "mimetype": "text/x-python",
   "name": "python",
   "nbconvert_exporter": "python",
   "pygments_lexer": "ipython3",
   "version": "3.12.4"
  }
 },
 "nbformat": 4,
 "nbformat_minor": 2
}
