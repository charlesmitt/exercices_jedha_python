{
 "cells": [
  {
   "cell_type": "markdown",
   "metadata": {},
   "source": [
    "# Statistics - Exercises ✍️✍️"
   ]
  },
  {
   "cell_type": "markdown",
   "metadata": {},
   "source": [
    "## Definitions"
   ]
  },
  {
   "cell_type": "markdown",
   "metadata": {},
   "source": [
    "*Use the following information to answer the next two questions: A grocery store is interested in how much money, on average, their customers spend each visit in the produce department. Using their store records, they draw a sample of 1,000 visits and calculate each customer’s average spending on produce.*\n",
    "\n",
    "1. Identify: the population, sample, parameter, statistic, variable, and data for this example.\n",
    "\n",
    "2. What kind of data is “amount of money spent on produce per visit”?"
   ]
  },
  {
   "cell_type": "markdown",
   "metadata": {},
   "source": [
    "3. The manager of a department store decides to measure employee satisfaction by selecting four departments at random, and conducting interviews with all the employees in those four departments. What type of sampling is this?"
   ]
  },
  {
   "cell_type": "markdown",
   "metadata": {},
   "source": [
    "## Basic sample statistics"
   ]
  },
  {
   "cell_type": "markdown",
   "metadata": {},
   "source": [
    "1. Given the sample : 4, 10, 7, 7, 6, 9, 3, 8, 9\n",
    "\n",
    "Find the following sample statistics :\n",
    "\n",
    "a) the mode,\n",
    "\n",
    "b) the median,\n",
    "\n",
    "c) the mean,\n",
    "\n",
    "d) the sample standard deviation (rounded to 2 decimal places).\n",
    "\n",
    "e) If we replace the data value 6 in the data set above by 24, will the standard deviation increase, decrease or stay the same?"
   ]
  },
  {
   "cell_type": "code",
   "execution_count": null,
   "metadata": {},
   "outputs": [],
   "source": [
    "# EXERCICE 1\n",
    "# # On peut utiliser pandas ou statistics pour les fonctions demandées\n",
    "import statistics\n",
    "import pandas as pd\n",
    "\n",
    "list = [ 4, 10, 7, 7, 6, 9, 3, 8, 9]\n",
    "pd_list = pd.Series(list)\n",
    "\n",
    "print(f\"Mode :{pd_list.mode().values}\")\n",
    "print(f\"Median : {statistics.median(list)}\")\n",
    "print(f\"Mean : {statistics.mean(list)}\")\n",
    "print(f\"Std dev : {pd_list.std()}\")\n",
    "\n",
    "# Calcul manuel 'pour le fun' de la std dev (racine de la moyenne des carrés de la dif i-médiane)\n",
    "m = statistics.mean(list)\n",
    "st_dev = [(i-m)**2 for i in list]\n",
    "sum=0\n",
    "for i in st_dev:\n",
    "    sum += i\n",
    "\n",
    "# On travaille avec un sample donc on divise par N-1\n",
    "print(\"std dev is equal to the square root of\",sum, \"divided by\", len(st_dev),\"-1 which is\", ((sum/(len(st_dev)-1))**(1/2)))\n",
    "\n",
    "pd_list= pd_list.replace(6,24)\n",
    "print(f\"Nouvelle std dev après remplacement : {pd_list.std()}\")"
   ]
  },
  {
   "cell_type": "markdown",
   "metadata": {},
   "source": [
    "2. Given the data set: 62 , 65 , 68 , 70 , 72 , 74 , 76 , 78 , 80 , 82 , 96 , 101\n",
    "\n",
    "Find\n",
    "\n",
    "a) the median,\n",
    "\n",
    "b) the first quartile,\n",
    "\n",
    "c) the third quartile,\n",
    "\n",
    "d) the interquartile range (IQR)."
   ]
  },
  {
   "cell_type": "code",
   "execution_count": 17,
   "metadata": {},
   "outputs": [
    {
     "name": "stdout",
     "output_type": "stream",
     "text": [
      "The median : 77.0\n",
      "First quartile : 69.0\n",
      "Third quartile : 81.0\n",
      "Interquartile range is : 12.0\n"
     ]
    }
   ],
   "source": [
    "# EXERCICE 2\n",
    "import pandas as pd\n",
    "data = [62 , 65 , 68 , 70 , 72 , 74 , 76 , 78 , 80 , 82 , 96 , 101]\n",
    "data.sort()\n",
    "\n",
    "ds = pd.Series(data)\n",
    "\n",
    "print(f\"The median : {ds.mean()}\")\n",
    "print(f\"First quartile : {ds.quantile(0.25, interpolation='midpoint')}\")\n",
    "print(f\"Third quartile : {ds.quantile(0.75, interpolation='midpoint')}\")\n",
    "print(f\"Interquartile range is : {ds.quantile(0.75, interpolation='midpoint')-ds.quantile(0.25, interpolation='midpoint')}\")"
   ]
  },
  {
   "cell_type": "markdown",
   "metadata": {},
   "source": [
    "3. In a symmetrical distribution what will be the relationship among the mean, median, and mode?"
   ]
  },
  {
   "cell_type": "markdown",
   "metadata": {},
   "source": [
    "*Use the following sample to answer the next three questions: 10, 11, 15, 15, 17, 22*\n",
    "\n",
    "4. Compute the mean and standard deviation for this data (rounded to two decimal places) \n",
    "\n",
    "5. Are there abnormal values in the sample?\n",
    "\n",
    "6. Express the number 13.7 in terms of the mean and standard deviation of this data."
   ]
  },
  {
   "cell_type": "code",
   "execution_count": 40,
   "metadata": {},
   "outputs": [
    {
     "name": "stdout",
     "output_type": "stream",
     "text": [
      "Mean : 15.0\n",
      "Std dev : 4.34\n",
      "Three std dev below the mean is  1.99\n",
      "Three std dev above the mean is  28.01\n",
      "10 is a normal value (z-score = -1.15 )\n",
      "11 is a normal value (z-score = -0.92 )\n",
      "15 is a normal value (z-score = 0.0 )\n",
      "15 is a normal value (z-score = 0.0 )\n",
      "17 is a normal value (z-score = 0.46 )\n",
      "22 is a normal value (z-score = 1.61 )\n",
      "The z-score of 13.7 is -0.3\n"
     ]
    }
   ],
   "source": [
    "# EXERCICE 3\n",
    "import pandas as pd\n",
    "\n",
    "list = [10, 11, 15, 15, 17, 22]\n",
    "\n",
    "ds = pd.Series(list)\n",
    "\n",
    "m = ds.mean().round(2)\n",
    "s = ds.std()\n",
    "print(f\"Mean : {m}\")\n",
    "print(f\"Std dev : {round(s,2)}\")\n",
    "\n",
    "print(f\"Three std dev below the mean is \", round(m-(3*s),2))\n",
    "print(f\"Three std dev above the mean is \", round(m+(3*s),2))\n",
    "\n",
    "for i in list:\n",
    "    z = (i-m)/s\n",
    "\n",
    "    if abs(z)>3:\n",
    "        print(i, \"is an abnormal value (z-score =\",round(z,2),\")\")\n",
    "    else:\n",
    "        print(i, \"is a normal value (z-score =\",round(z,2),\")\")\n",
    "\n",
    "print(\"The z-score of 13.7 is\",round((13.7-m)/s,2))"
   ]
  },
  {
   "cell_type": "markdown",
   "metadata": {},
   "source": [
    "## Covariance and correlation"
   ]
  },
  {
   "cell_type": "markdown",
   "metadata": {},
   "source": [
    "A supermarket has conducted several advertisement campaigns. They would like to analyze the relationship between the advertisement cost and the sales revenue.\n",
    "\n",
    "Let $X$ and $Y$ be the advertisement cost and the sales revenue. We have a sample of $n=10$ values for $X$ and $Y$, sorted such that $X_i$, $Y_i$ are the results of the $i$-th marketing campaign :\n",
    "\n",
    "$X$ : 39, 65, 62, 90, 82, 75, 25, 98, 36, 78\n",
    "\n",
    "$Y$ : 47, 53, 58, 86, 62, 68, 60, 91, 51, 84\n",
    "\n",
    "1. Compute the sample means $\\bar X$ and $\\bar Y$"
   ]
  },
  {
   "cell_type": "markdown",
   "metadata": {},
   "source": [
    "2. Compute the sample standard deviations $s_X$ and $s_Y$"
   ]
  },
  {
   "cell_type": "markdown",
   "metadata": {},
   "source": [
    "3. Compute the covariance between $X$ and $Y$"
   ]
  },
  {
   "cell_type": "markdown",
   "metadata": {},
   "source": [
    "4. Compute Pearson's correlation coefficient between $X$ and $Y$"
   ]
  },
  {
   "cell_type": "markdown",
   "metadata": {},
   "source": [
    "5. What can you conclude ?"
   ]
  },
  {
   "cell_type": "code",
   "execution_count": 60,
   "metadata": {},
   "outputs": [
    {
     "name": "stdout",
     "output_type": "stream",
     "text": [
      "X mean is 65.0\n",
      "Y mean is 66.0\n",
      "The means are:\n"
     ]
    },
    {
     "data": {
      "text/plain": [
       "x    65.0\n",
       "y    66.0\n",
       "dtype: float64"
      ]
     },
     "metadata": {},
     "output_type": "display_data"
    },
    {
     "name": "stdout",
     "output_type": "stream",
     "text": [
      "The std devs are:\n"
     ]
    },
    {
     "data": {
      "text/plain": [
       "x    24.490361\n",
       "y    15.719768\n",
       "dtype: float64"
      ]
     },
     "metadata": {},
     "output_type": "display_data"
    },
    {
     "name": "stdout",
     "output_type": "stream",
     "text": [
      "The covariance of X and Y is:\n"
     ]
    },
    {
     "data": {
      "text/plain": [
       "300.44"
      ]
     },
     "metadata": {},
     "output_type": "display_data"
    },
    {
     "data": {
      "text/html": [
       "<div>\n",
       "<style scoped>\n",
       "    .dataframe tbody tr th:only-of-type {\n",
       "        vertical-align: middle;\n",
       "    }\n",
       "\n",
       "    .dataframe tbody tr th {\n",
       "        vertical-align: top;\n",
       "    }\n",
       "\n",
       "    .dataframe thead th {\n",
       "        text-align: right;\n",
       "    }\n",
       "</style>\n",
       "<table border=\"1\" class=\"dataframe\">\n",
       "  <thead>\n",
       "    <tr style=\"text-align: right;\">\n",
       "      <th></th>\n",
       "      <th>x</th>\n",
       "      <th>y</th>\n",
       "    </tr>\n",
       "  </thead>\n",
       "  <tbody>\n",
       "    <tr>\n",
       "      <th>x</th>\n",
       "      <td>599.777778</td>\n",
       "      <td>300.444444</td>\n",
       "    </tr>\n",
       "    <tr>\n",
       "      <th>y</th>\n",
       "      <td>300.444444</td>\n",
       "      <td>247.111111</td>\n",
       "    </tr>\n",
       "  </tbody>\n",
       "</table>\n",
       "</div>"
      ],
      "text/plain": [
       "            x           y\n",
       "x  599.777778  300.444444\n",
       "y  300.444444  247.111111"
      ]
     },
     "metadata": {},
     "output_type": "display_data"
    },
    {
     "name": "stdout",
     "output_type": "stream",
     "text": [
      "Pearson's correlation : \n",
      "0.78\n",
      "      x     y\n",
      "x  1.00  0.78\n",
      "y  0.78  1.00\n"
     ]
    },
    {
     "data": {
      "text/plain": [
       "<Axes: xlabel='x', ylabel='y'>"
      ]
     },
     "execution_count": 60,
     "metadata": {},
     "output_type": "execute_result"
    },
    {
     "data": {
      "image/png": "[encoded data removed]",
      "text/plain": [
       "<Figure size 640x480 with 1 Axes>"
      ]
     },
     "metadata": {},
     "output_type": "display_data"
    }
   ],
   "source": [
    "import pandas as pd\n",
    "\n",
    "x = [39, 65, 62, 90, 82, 75, 25, 98, 36, 78]\n",
    "y = [47, 53, 58, 86, 62, 68, 60, 91, 51, 84]\n",
    "\n",
    "ds_x = pd.Series(x)\n",
    "ds_y = pd.Series(y)\n",
    "\n",
    "ds = pd.DataFrame({'x': x, 'y':y})\n",
    "\n",
    "print(\"X mean is\", ds_x.mean())\n",
    "print(\"Y mean is\", ds_y.mean())\n",
    "\n",
    "print(\"The means are:\")\n",
    "display(ds.mean())\n",
    "\n",
    "print(\"The std devs are:\")\n",
    "display(ds.std())\n",
    "\n",
    "# We only want the value between X and Y so we filter the result on first line second column with iloc (iloc[1,0] gives the same result)\n",
    "print(\"The covariance of X and Y is:\")\n",
    "display(ds.cov().iloc[0,1].round(2))\n",
    "\n",
    "display(ds.cov())\n",
    "\n",
    "print(\"Pearson's correlation : \")\n",
    "print(round(ds.cov().iloc[1,0]/ds.std().prod(),2))\n",
    "\n",
    "# or using the function of pandas\n",
    "print(round(ds.corr(method='pearson'),2))\n",
    "\n",
    "ds.plot.scatter(x='x', y='y')"
   ]
  },
  {
   "cell_type": "markdown",
   "metadata": {},
   "source": [
    "## Normal distribution and Central Limit Theorem"
   ]
  },
  {
   "cell_type": "markdown",
   "metadata": {},
   "source": [
    "1. The heights of women in the United States are normally distributed with a mean of 64 inches and a standard deviation of 2.75 inches. What is the percent of women whose heights are between 64 and 69.5 inches ?"
   ]
  },
  {
   "cell_type": "markdown",
   "metadata": {},
   "source": [
    "REPONSE : 69,5 is the mean + 2 std dev. Sachant que mean +- 2 std dev = 95%, il y a aura 47,5% des femmes entre 64 et 69,5 inches"
   ]
  },
  {
   "cell_type": "markdown",
   "metadata": {},
   "source": [
    "2. You repeatedly draw samples of size 100 from a population with a continuous uniform distribution on the interval $[0, 160]$. The mean of this population is $\\mu=80$. For each sample, you calculate the sum $X$ of the 100 values.\n",
    "\n",
    "a) What is the expected distribution of these sums $X$ ?\n",
    "\n",
    "b) What is the probability that the sum for one sample will be less than 8000?"
   ]
  },
  {
   "cell_type": "code",
   "execution_count": 71,
   "metadata": {},
   "outputs": [
    {
     "data": {
      "text/plain": [
       "<Axes: ylabel='Frequency'>"
      ]
     },
     "execution_count": 71,
     "metadata": {},
     "output_type": "execute_result"
    },
    {
     "data": {
      "image/png": "[encoded data removed]",
      "text/plain": [
       "<Figure size 640x480 with 1 Axes>"
      ]
     },
     "metadata": {},
     "output_type": "display_data"
    }
   ],
   "source": [
    "import pandas as pd\n",
    "import random\n",
    "\n",
    "ds = pd.Series(index=range(0,1000), dtype=float)\n",
    "for i in range(0,1000):\n",
    "    sample = pd.Series([random.uniform(0,160) for i in range(100)])\n",
    "    ds[i] = sample.sum()\n",
    "\n",
    "\n",
    "ds.plot.hist(bins=20)"
   ]
  },
  {
   "cell_type": "code",
   "execution_count": null,
   "metadata": {},
   "outputs": [],
   "source": []
  },
  {
   "cell_type": "markdown",
   "metadata": {},
   "source": [
    "## Confidence intervals"
   ]
  },
  {
   "cell_type": "markdown",
   "metadata": {},
   "source": [
    "Use the following information to answer the next seven questions. You draw a sample of size 30 from a normally distributed population with a standard deviation $\\sigma = 4$.\n",
    "\n",
    "1. What is the appropriate z-value and margin of error for a 95% confidence level for this data ?\n",
    "\n",
    "2. Rounding to two decimal places, what is the 95% confidence interval if the sample mean is $\\mu=41$?\n",
    "\n",
    "3. What is the 90% confidence interval if the sample mean is $\\mu=41$ ? Round to two decimal places\n",
    "\n",
    "4. Suppose the sample size in this study had been 50, rather than 30. What would the 95% confidence interval be if the sample mean is 41? Round your answer to two decimal places.\n",
    "\n",
    "5. For any given data set and sampling situation, which would you expect to be wider: a 95% confidence interval or a 99% confidence interval?"
   ]
  },
  {
   "cell_type": "markdown",
   "metadata": {},
   "source": [
    "Use the following information to answer the next three questions. Body temperature is known to be distributed normally among healthy adults. You collect data from a random sample of $n=20$ healthy adults and find that your sample temperatures have a mean $\\bar X = 98.4$ and a sample standard deviation $s = 0.3$ (both in degrees Fahrenheit).\n",
    "\n",
    "6. What is the degrees of freedom (df) for this study?\n",
    "\n",
    "7. For a 95% confidence interval, what is the appropriate t-value to use in the formula?\n",
    "\n",
    "8. What is the 95% confidence interval?"
   ]
  },
  {
   "cell_type": "markdown",
   "metadata": {},
   "source": [
    "Use this information to answer the next three questions. You conduct a poll of 500 randomly selected city residents, asking them if they own an automobile. 280 say they do own an automobile, and 220 say they do not.\n",
    "\n",
    "9. Calculate the sample proportion of residents owning an automobile.\n",
    "\n",
    "10. What is the 95% confidence interval? Round to four decimal places.\n",
    "\n",
    "11. Calculate the 90% confidence interval. Round to four decimal places."
   ]
  },
  {
   "cell_type": "markdown",
   "metadata": {},
   "source": [
    "Use the following information to answer the next two questions. You are planning to conduct a poll of community members age 65 and older, to determine how many own mobile phones. You want to produce an estimate whose 95% confidence interval will be within four percentage points (plus or minus) the true population proportion. Use an estimated population proportion of 0.5.\n",
    "\n",
    "12. What sample size do you need?\n",
    "\n",
    "13. Suppose you knew from prior research that the population proportion was $p = 0.6$. What sample size would you need?\n"
   ]
  },
  {
   "cell_type": "markdown",
   "metadata": {},
   "source": [
    "## Hypothesis testing"
   ]
  },
  {
   "cell_type": "markdown",
   "metadata": {},
   "source": [
    "### Definitions\n",
    "\n",
    "1. The mean household value in a city is \\$268,000. You believe that the mean household value in a particular neighborhood is lower than the city average. Write the null and alternative hypotheses to test this."
   ]
  },
  {
   "cell_type": "markdown",
   "metadata": {},
   "source": [
    "2. State the appropriate alternative hypothesis to this null hypothesis: $H_0$: $\\mu = 107$"
   ]
  },
  {
   "cell_type": "markdown",
   "metadata": {},
   "source": [
    "3. State the appropriate alternative hypothesis to this null hypothesis: $H_0$: $p < 0.25$"
   ]
  },
  {
   "cell_type": "markdown",
   "metadata": {},
   "source": [
    "4. A new blood test is being developed to screen patients for cancer. Positive results are followed up by a more accurate (and expensive) test. It is assumed that the patient does not have cancer. Describe the null hypothesis, the Type I and Type II errors for this situation, and explain which type of error is more serious."
   ]
  },
  {
   "cell_type": "markdown",
   "metadata": {},
   "source": [
    "### Distribution needed for hypothesis testing"
   ]
  },
  {
   "cell_type": "markdown",
   "metadata": {},
   "source": [
    "5. If you are conducting a hypothesis test of a single population mean, and you do not know the population variance, what test will you use if the sample size is 10 and the population is normal?"
   ]
  },
  {
   "cell_type": "markdown",
   "metadata": {},
   "source": [
    "6. If you are conducting a hypothesis test of a single population mean, and you know the population variance, what test will you use?"
   ]
  },
  {
   "cell_type": "markdown",
   "metadata": {},
   "source": [
    "7. Published information indicates that, on average, college students spend less than 20 hours studying per week. You draw a sample of 25 students from your college, and find the sample mean to be 18.5 hours, with a standard deviation of 1.5 hours. What distribution will you use to test whether study habits at your college are the same as the national average, and why?"
   ]
  },
  {
   "cell_type": "markdown",
   "metadata": {},
   "source": [
    "### Conducting a hypothesis test"
   ]
  },
  {
   "cell_type": "markdown",
   "metadata": {},
   "source": [
    "8. You are conducting a study with a significance level $\\alpha = 0.05$. If you get a result with a $p$-value of 0.07, what will be your decision?"
   ]
  },
  {
   "cell_type": "markdown",
   "metadata": {},
   "source": [
    "9. You are conducting a study with $\\alpha = 0.01$. If you get a result with a $p$-value of 0.006, what will be your decision?"
   ]
  }
 ],
 "metadata": {
  "kernelspec": {
   "display_name": "base",
   "language": "python",
   "name": "python3"
  },
  "language_info": {
   "codemirror_mode": {
    "name": "ipython",
    "version": 3
   },
   "file_extension": ".py",
   "mimetype": "text/x-python",
   "name": "python",
   "nbconvert_exporter": "python",
   "pygments_lexer": "ipython3",
   "version": "3.12.4"
  }
 },
 "nbformat": 4,
 "nbformat_minor": 4
}
