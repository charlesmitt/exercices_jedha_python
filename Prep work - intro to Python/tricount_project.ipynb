{
 "cells": [
  {
   "cell_type": "code",
   "execution_count": 1,
   "metadata": {},
   "outputs": [
    {
     "name": "stdout",
     "output_type": "stream",
     "text": [
      "Total amount spent during the trip is 1252.00€\n",
      "Each person must pay 313.00€\n",
      "Harald must receive 687.00€\n",
      " Mohamed owes 311.00€\n",
      " JB owes 313.00€\n",
      " Charles owes 63.00€\n"
     ]
    }
   ],
   "source": [
    "def amount_format_verification(list_of_amounts):\n",
    "    while True:\n",
    "        try:\n",
    "            list_of_amounts = [float(item) for item in list_of_amounts]\n",
    "            break\n",
    "        except ValueError as error:\n",
    "            print(\"Please enter numbers for the amounts spent\")\n",
    "            amounts = input(\"How much did each one pay?\")\n",
    "            list_of_amounts = amounts.split(\",\")\n",
    "    return list_of_amounts\n",
    "\n",
    "#START OF PROGRAM\n",
    "friends = input(\"What are the names of the friends, separated by a comma\")\n",
    "amounts = input(\"How much did each one pay?\")\n",
    "friends_list = friends.split(\",\")\n",
    "list_of_amounts = amount_format_verification(amounts.split(\",\"))\n",
    "\n",
    "while (len(friends_list)!=len(list_of_amounts)):\n",
    "    print(\"You didn't enter the same number of friends and amounts!\")\n",
    "    friends = input(\"What are the names of the friends, separated by a comma\")\n",
    "    amounts = input(\"How much did each one pay?\")\n",
    "    friends_list = friends.split(\",\")\n",
    "    list_of_amounts = amount_format_verification(amounts.split(\",\"))\n",
    "\n",
    "else:\n",
    "    friends = [(friend, amount) for friend, amount in zip(friends_list, list_of_amounts)]\n",
    "    total_spent = sum(amount for _,amount in friends)\n",
    "\n",
    "    print(\"Total amount spent during the trip is {:.2f}€\".format(total_spent))\n",
    "    total_each = total_spent/len(friends_list)\n",
    "    print(\"Each person must pay {:.2f}€\".format(total_each))\n",
    "\n",
    "    for name, amount in zip(friends_list, list_of_amounts):\n",
    "        friend_balance = amount-total_each\n",
    "\n",
    "        if friend_balance < 0 :\n",
    "            print(\"{} owes {:.2f}€\".format(name, -friend_balance))\n",
    "        elif friend_balance > 0:\n",
    "            print(\"{} must receive {:.2f}€\".format(name, friend_balance))\n",
    "        else:\n",
    "            print(\"{} owes nothing\".format(name))"
   ]
  }
 ],
 "metadata": {
  "kernelspec": {
   "display_name": "base",
   "language": "python",
   "name": "python3"
  },
  "language_info": {
   "codemirror_mode": {
    "name": "ipython",
    "version": 3
   },
   "file_extension": ".py",
   "mimetype": "text/x-python",
   "name": "python",
   "nbconvert_exporter": "python",
   "pygments_lexer": "ipython3",
   "version": "3.12.4"
  }
 },
 "nbformat": 4,
 "nbformat_minor": 2
}
