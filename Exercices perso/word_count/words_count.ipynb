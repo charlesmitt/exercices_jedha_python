{
 "cells": [
  {
   "cell_type": "code",
   "execution_count": null,
   "metadata": {},
   "outputs": [],
   "source": [
    "phrase = input(\"Saisir une phrase\")\n",
    "\n",
    "list = phrase.split(\" \")\n",
    "\n",
    "print(f\"Cette phrase contient {len(list)} mots:\")\n",
    "print(list)"
   ]
  },
  {
   "cell_type": "code",
   "execution_count": null,
   "metadata": {},
   "outputs": [],
   "source": [
    "f = open(\"text.txt\", \"r\")\n",
    "word_count= {}\n",
    "total_words = 0\n",
    "for x in f:\n",
    "  line_split = x.split(\" \")\n",
    "  for w in line_split:\n",
    "    w = w.strip(\"\\n.?!,( )\").lower()\n",
    "    try:\n",
    "        word_count[w]+=1\n",
    "    except:\n",
    "        word_count[w]=1\n",
    "    total_words+=1\n",
    "\n",
    "\n",
    "sorted_words = sorted(word_count.items(), key=lambda x:x[1],reverse=True)\n",
    "sorted_words_dict = dict(sorted_words)\n",
    "print(f\"Total words in the file {total_words}\")\n",
    "print(sorted_words_dict)"
   ]
  },
  {
   "cell_type": "code",
   "execution_count": null,
   "metadata": {},
   "outputs": [],
   "source": []
  }
 ],
 "metadata": {
  "kernelspec": {
   "display_name": "base",
   "language": "python",
   "name": "python3"
  },
  "language_info": {
   "codemirror_mode": {
    "name": "ipython",
    "version": 3
   },
   "file_extension": ".py",
   "mimetype": "text/x-python",
   "name": "python",
   "nbconvert_exporter": "python",
   "pygments_lexer": "ipython3",
   "version": "3.12.4"
  }
 },
 "nbformat": 4,
 "nbformat_minor": 2
}
