{
 "cells": [
  {
   "cell_type": "code",
   "execution_count": null,
   "metadata": {},
   "outputs": [],
   "source": [
    "import math \n",
    "\n",
    "count = 0\n",
    "max= 100\n",
    "for a in range(1,10000):\n",
    "    for b in range(1,10000):\n",
    "        c= math.sqrt((a*a) + (b*b))\n",
    "        if(int(c)==c):\n",
    "            count +=1\n",
    "            print(\"{}  : a= {}, b= {}, c= {}\".format(count,a,b,int(c)))\n",
    "        if count ==max:\n",
    "            break\n",
    "    if count ==max:\n",
    "        break"
   ]
  },
  {
   "cell_type": "code",
   "execution_count": null,
   "metadata": {},
   "outputs": [],
   "source": []
  }
 ],
 "metadata": {
  "kernelspec": {
   "display_name": "base",
   "language": "python",
   "name": "python3"
  },
  "language_info": {
   "codemirror_mode": {
    "name": "ipython",
    "version": 3
   },
   "file_extension": ".py",
   "mimetype": "text/x-python",
   "name": "python",
   "nbconvert_exporter": "python",
   "pygments_lexer": "ipython3",
   "version": "3.12.4"
  }
 },
 "nbformat": 4,
 "nbformat_minor": 2
}
