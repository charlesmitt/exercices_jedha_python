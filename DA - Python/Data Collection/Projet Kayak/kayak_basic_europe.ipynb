{
 "cells": [
  {
   "cell_type": "code",
   "execution_count": null,
   "metadata": {},
   "outputs": [],
   "source": [
    "import requests\n",
    "import pandas as pd\n",
    "import plotly.express as px\n",
    "\n",
    "liste_villes = [\"Paris\",\"Londres\",\"New York\",\"Ibiza\",\"Vienne\",\"Valence\",\"Lisbonne\",\"Shanghai\",\"Casablanca\",\"Nairobi\",\"Los Angeles\", \"Tokyo\", \"Rio de Janeiro\", \"Fort-de-France\"]\n"
   ]
  },
  {
   "cell_type": "markdown",
   "metadata": {},
   "source": [
    "COORDONNEES D'UNE SEULE VILLE"
   ]
  },
  {
   "cell_type": "code",
   "execution_count": 147,
   "metadata": {},
   "outputs": [],
   "source": [
    "# ESSAI MANUEL POUR UNE SEULE VILLE \n",
    "\n",
    "url = \"https://nominatim.openstreetmap.org/search?\"\n",
    "headers = {\"accept\": \"application/json\", 'user_agent':'charles.mittempergher@gmail.com'}\n",
    "p = {'city' : 'Toulouse', 'country':'France', 'format':'json', 'limit':1}\n",
    "\n",
    "response = requests.get(url, headers=headers, params=p)"
   ]
  },
  {
   "cell_type": "markdown",
   "metadata": {},
   "source": [
    "BOUCLE POUR LES COORDONNEES TOUTES LES VILLES"
   ]
  },
  {
   "cell_type": "code",
   "execution_count": 148,
   "metadata": {},
   "outputs": [
    {
     "name": "stdout",
     "output_type": "stream",
     "text": [
      "Ajout de Paris effectué\n",
      "Ajout de Londres effectué\n",
      "Ajout de New York effectué\n",
      "Ajout de Ibiza effectué\n",
      "Ajout de Vienne effectué\n",
      "Ajout de Valence effectué\n",
      "Ajout de Riyadh effectué\n",
      "Ajout de Lisbonne effectué\n",
      "Ajout de Shanghai effectué\n",
      "Ajout de Casablanca effectué\n",
      "Ajout de Nairobi effectué\n",
      "Ajout de Los Angeles effectué\n",
      "Ajout de Tokyo effectué\n",
      "Ajout de Rio de Janeiro effectué\n",
      "Ajout de Fort-de-France effectué\n"
     ]
    }
   ],
   "source": [
    "# RECUPERATION DES DONNEES POUR TOUTE LA LISTE DES VILLES\n",
    "url = \"https://nominatim.openstreetmap.org/search?\"\n",
    "headers = {'user_agent':'charles.mittempergher@gmail.com'}\n",
    "\n",
    "df_villes = pd.DataFrame(columns=['ville','lat','lon'])\n",
    "\n",
    "for i in range(len(liste_villes)):\n",
    "    \n",
    "    p = {'city' : {liste_villes[i]}, 'format':'json', 'limit':1, 'email':'charles@gmail.com'}\n",
    "\n",
    "    r = requests.get(url, headers=headers, params=p)\n",
    "    ville = liste_villes[i]\n",
    "    lat   = r.json()[0]['lat']\n",
    "    lon   = r.json()[0]['lon']\n",
    "\n",
    "    df_villes.loc[i] = [ville, lat,lon]\n",
    "    print(f'Ajout de {liste_villes[i]} effectué')"
   ]
  },
  {
   "cell_type": "code",
   "execution_count": 149,
   "metadata": {},
   "outputs": [
    {
     "data": {
      "text/html": [
       "<div>\n",
       "<style scoped>\n",
       "    .dataframe tbody tr th:only-of-type {\n",
       "        vertical-align: middle;\n",
       "    }\n",
       "\n",
       "    .dataframe tbody tr th {\n",
       "        vertical-align: top;\n",
       "    }\n",
       "\n",
       "    .dataframe thead th {\n",
       "        text-align: right;\n",
       "    }\n",
       "</style>\n",
       "<table border=\"1\" class=\"dataframe\">\n",
       "  <thead>\n",
       "    <tr style=\"text-align: right;\">\n",
       "      <th></th>\n",
       "      <th>ville</th>\n",
       "      <th>lat</th>\n",
       "      <th>lon</th>\n",
       "    </tr>\n",
       "  </thead>\n",
       "  <tbody>\n",
       "    <tr>\n",
       "      <th>0</th>\n",
       "      <td>Paris</td>\n",
       "      <td>48.8534951</td>\n",
       "      <td>2.3483915</td>\n",
       "    </tr>\n",
       "    <tr>\n",
       "      <th>1</th>\n",
       "      <td>Londres</td>\n",
       "      <td>51.5074456</td>\n",
       "      <td>-0.1277653</td>\n",
       "    </tr>\n",
       "    <tr>\n",
       "      <th>2</th>\n",
       "      <td>New York</td>\n",
       "      <td>40.7127281</td>\n",
       "      <td>-74.0060152</td>\n",
       "    </tr>\n",
       "    <tr>\n",
       "      <th>3</th>\n",
       "      <td>Ibiza</td>\n",
       "      <td>38.974390099999994</td>\n",
       "      <td>1.4197463178515335</td>\n",
       "    </tr>\n",
       "    <tr>\n",
       "      <th>4</th>\n",
       "      <td>Vienne</td>\n",
       "      <td>48.2083537</td>\n",
       "      <td>16.3725042</td>\n",
       "    </tr>\n",
       "  </tbody>\n",
       "</table>\n",
       "</div>"
      ],
      "text/plain": [
       "      ville                 lat                 lon\n",
       "0     Paris          48.8534951           2.3483915\n",
       "1   Londres          51.5074456          -0.1277653\n",
       "2  New York          40.7127281         -74.0060152\n",
       "3     Ibiza  38.974390099999994  1.4197463178515335\n",
       "4    Vienne          48.2083537          16.3725042"
      ]
     },
     "execution_count": 149,
     "metadata": {},
     "output_type": "execute_result"
    }
   ],
   "source": [
    "df_villes.head()"
   ]
  },
  {
   "cell_type": "markdown",
   "metadata": {},
   "source": [
    " DEBUT DE LA PARTIE AVEC OPENWEATHER"
   ]
  },
  {
   "cell_type": "code",
   "execution_count": 150,
   "metadata": {},
   "outputs": [],
   "source": [
    "url_ow = \"https://api.openweathermap.org/data/2.5/forecast?\"\n",
    "\n",
    "lat = 43.2961743\n",
    "lon = 5.3699525\n",
    "p = {'lat' : lat, 'lon' : lon, 'units':'metric', 'appid' : 'a2fa8b199ebbdb821bb767d8318aa7bd'}\n",
    "response = requests.get(url_ow, params=p)\n"
   ]
  },
  {
   "cell_type": "code",
   "execution_count": 151,
   "metadata": {},
   "outputs": [
    {
     "data": {
      "text/plain": [
       "[{'dt': 1731607200,\n",
       "  'main': {'temp': 11.74,\n",
       "   'feels_like': 10.48,\n",
       "   'temp_min': 11.74,\n",
       "   'temp_max': 14.79,\n",
       "   'pressure': 1022,\n",
       "   'sea_level': 1022,\n",
       "   'grnd_level': 1014,\n",
       "   'humidity': 58,\n",
       "   'temp_kf': -3.05},\n",
       "  'weather': [{'id': 800,\n",
       "    'main': 'Clear',\n",
       "    'description': 'clear sky',\n",
       "    'icon': '01n'}],\n",
       "  'clouds': {'all': 0},\n",
       "  'wind': {'speed': 2.34, 'deg': 318, 'gust': 2.45},\n",
       "  'visibility': 10000,\n",
       "  'pop': 0,\n",
       "  'sys': {'pod': 'n'},\n",
       "  'dt_txt': '2024-11-14 18:00:00'},\n",
       " {'dt': 1731618000,\n",
       "  'main': {'temp': 12.47,\n",
       "   'feels_like': 11.26,\n",
       "   'temp_min': 12.47,\n",
       "   'temp_max': 13.92,\n",
       "   'pressure': 1022,\n",
       "   'sea_level': 1022,\n",
       "   'grnd_level': 1015,\n",
       "   'humidity': 57,\n",
       "   'temp_kf': -1.45},\n",
       "  'weather': [{'id': 800,\n",
       "    'main': 'Clear',\n",
       "    'description': 'clear sky',\n",
       "    'icon': '01n'}],\n",
       "  'clouds': {'all': 2},\n",
       "  'wind': {'speed': 0.83, 'deg': 305, 'gust': 0.86},\n",
       "  'visibility': 10000,\n",
       "  'pop': 0,\n",
       "  'sys': {'pod': 'n'},\n",
       "  'dt_txt': '2024-11-14 21:00:00'},\n",
       " {'dt': 1731628800,\n",
       "  'main': {'temp': 12.91,\n",
       "   'feels_like': 11.8,\n",
       "   'temp_min': 12.91,\n",
       "   'temp_max': 13.5,\n",
       "   'pressure': 1023,\n",
       "   'sea_level': 1023,\n",
       "   'grnd_level': 1016,\n",
       "   'humidity': 59,\n",
       "   'temp_kf': -0.59},\n",
       "  'weather': [{'id': 800,\n",
       "    'main': 'Clear',\n",
       "    'description': 'clear sky',\n",
       "    'icon': '01n'}],\n",
       "  'clouds': {'all': 2},\n",
       "  'wind': {'speed': 0.44, 'deg': 152, 'gust': 1},\n",
       "  'visibility': 10000,\n",
       "  'pop': 0,\n",
       "  'sys': {'pod': 'n'},\n",
       "  'dt_txt': '2024-11-15 00:00:00'},\n",
       " {'dt': 1731639600,\n",
       "  'main': {'temp': 13,\n",
       "   'feels_like': 12,\n",
       "   'temp_min': 13,\n",
       "   'temp_max': 13,\n",
       "   'pressure': 1023,\n",
       "   'sea_level': 1023,\n",
       "   'grnd_level': 1015,\n",
       "   'humidity': 63,\n",
       "   'temp_kf': 0},\n",
       "  'weather': [{'id': 800,\n",
       "    'main': 'Clear',\n",
       "    'description': 'clear sky',\n",
       "    'icon': '01n'}],\n",
       "  'clouds': {'all': 0},\n",
       "  'wind': {'speed': 0.24, 'deg': 343, 'gust': 1.02},\n",
       "  'visibility': 10000,\n",
       "  'pop': 0,\n",
       "  'sys': {'pod': 'n'},\n",
       "  'dt_txt': '2024-11-15 03:00:00'},\n",
       " {'dt': 1731650400,\n",
       "  'main': {'temp': 12.73,\n",
       "   'feels_like': 11.7,\n",
       "   'temp_min': 12.73,\n",
       "   'temp_max': 12.73,\n",
       "   'pressure': 1023,\n",
       "   'sea_level': 1023,\n",
       "   'grnd_level': 1016,\n",
       "   'humidity': 63,\n",
       "   'temp_kf': 0},\n",
       "  'weather': [{'id': 800,\n",
       "    'main': 'Clear',\n",
       "    'description': 'clear sky',\n",
       "    'icon': '01n'}],\n",
       "  'clouds': {'all': 0},\n",
       "  'wind': {'speed': 0.75, 'deg': 16, 'gust': 1.12},\n",
       "  'visibility': 10000,\n",
       "  'pop': 0,\n",
       "  'sys': {'pod': 'n'},\n",
       "  'dt_txt': '2024-11-15 06:00:00'},\n",
       " {'dt': 1731661200,\n",
       "  'main': {'temp': 13.82,\n",
       "   'feels_like': 12.77,\n",
       "   'temp_min': 13.82,\n",
       "   'temp_max': 13.82,\n",
       "   'pressure': 1024,\n",
       "   'sea_level': 1024,\n",
       "   'grnd_level': 1017,\n",
       "   'humidity': 58,\n",
       "   'temp_kf': 0},\n",
       "  'weather': [{'id': 800,\n",
       "    'main': 'Clear',\n",
       "    'description': 'clear sky',\n",
       "    'icon': '01d'}],\n",
       "  'clouds': {'all': 0},\n",
       "  'wind': {'speed': 0.65, 'deg': 316, 'gust': 0.85},\n",
       "  'visibility': 10000,\n",
       "  'pop': 0,\n",
       "  'sys': {'pod': 'd'},\n",
       "  'dt_txt': '2024-11-15 09:00:00'},\n",
       " {'dt': 1731672000,\n",
       "  'main': {'temp': 14.84,\n",
       "   'feels_like': 13.92,\n",
       "   'temp_min': 14.84,\n",
       "   'temp_max': 14.84,\n",
       "   'pressure': 1023,\n",
       "   'sea_level': 1023,\n",
       "   'grnd_level': 1016,\n",
       "   'humidity': 59,\n",
       "   'temp_kf': 0},\n",
       "  'weather': [{'id': 800,\n",
       "    'main': 'Clear',\n",
       "    'description': 'clear sky',\n",
       "    'icon': '01d'}],\n",
       "  'clouds': {'all': 0},\n",
       "  'wind': {'speed': 2.33, 'deg': 265, 'gust': 2.28},\n",
       "  'visibility': 10000,\n",
       "  'pop': 0,\n",
       "  'sys': {'pod': 'd'},\n",
       "  'dt_txt': '2024-11-15 12:00:00'},\n",
       " {'dt': 1731682800,\n",
       "  'main': {'temp': 14.8,\n",
       "   'feels_like': 13.93,\n",
       "   'temp_min': 14.8,\n",
       "   'temp_max': 14.8,\n",
       "   'pressure': 1023,\n",
       "   'sea_level': 1023,\n",
       "   'grnd_level': 1015,\n",
       "   'humidity': 61,\n",
       "   'temp_kf': 0},\n",
       "  'weather': [{'id': 800,\n",
       "    'main': 'Clear',\n",
       "    'description': 'clear sky',\n",
       "    'icon': '01d'}],\n",
       "  'clouds': {'all': 4},\n",
       "  'wind': {'speed': 2.4, 'deg': 272, 'gust': 2.09},\n",
       "  'visibility': 10000,\n",
       "  'pop': 0,\n",
       "  'sys': {'pod': 'd'},\n",
       "  'dt_txt': '2024-11-15 15:00:00'},\n",
       " {'dt': 1731693600,\n",
       "  'main': {'temp': 14.45,\n",
       "   'feels_like': 13.6,\n",
       "   'temp_min': 14.45,\n",
       "   'temp_max': 14.45,\n",
       "   'pressure': 1023,\n",
       "   'sea_level': 1023,\n",
       "   'grnd_level': 1016,\n",
       "   'humidity': 63,\n",
       "   'temp_kf': 0},\n",
       "  'weather': [{'id': 800,\n",
       "    'main': 'Clear',\n",
       "    'description': 'clear sky',\n",
       "    'icon': '01n'}],\n",
       "  'clouds': {'all': 4},\n",
       "  'wind': {'speed': 2.13, 'deg': 259, 'gust': 1.99},\n",
       "  'visibility': 10000,\n",
       "  'pop': 0,\n",
       "  'sys': {'pod': 'n'},\n",
       "  'dt_txt': '2024-11-15 18:00:00'},\n",
       " {'dt': 1731704400,\n",
       "  'main': {'temp': 14.12,\n",
       "   'feels_like': 13.28,\n",
       "   'temp_min': 14.12,\n",
       "   'temp_max': 14.12,\n",
       "   'pressure': 1024,\n",
       "   'sea_level': 1024,\n",
       "   'grnd_level': 1017,\n",
       "   'humidity': 65,\n",
       "   'temp_kf': 0},\n",
       "  'weather': [{'id': 800,\n",
       "    'main': 'Clear',\n",
       "    'description': 'clear sky',\n",
       "    'icon': '01n'}],\n",
       "  'clouds': {'all': 2},\n",
       "  'wind': {'speed': 1.61, 'deg': 261, 'gust': 1.79},\n",
       "  'visibility': 10000,\n",
       "  'pop': 0,\n",
       "  'sys': {'pod': 'n'},\n",
       "  'dt_txt': '2024-11-15 21:00:00'},\n",
       " {'dt': 1731715200,\n",
       "  'main': {'temp': 13.87,\n",
       "   'feels_like': 13.09,\n",
       "   'temp_min': 13.87,\n",
       "   'temp_max': 13.87,\n",
       "   'pressure': 1024,\n",
       "   'sea_level': 1024,\n",
       "   'grnd_level': 1017,\n",
       "   'humidity': 68,\n",
       "   'temp_kf': 0},\n",
       "  'weather': [{'id': 800,\n",
       "    'main': 'Clear',\n",
       "    'description': 'clear sky',\n",
       "    'icon': '01n'}],\n",
       "  'clouds': {'all': 3},\n",
       "  'wind': {'speed': 0.96, 'deg': 288, 'gust': 1.32},\n",
       "  'visibility': 10000,\n",
       "  'pop': 0,\n",
       "  'sys': {'pod': 'n'},\n",
       "  'dt_txt': '2024-11-16 00:00:00'},\n",
       " {'dt': 1731726000,\n",
       "  'main': {'temp': 13.35,\n",
       "   'feels_like': 12.54,\n",
       "   'temp_min': 13.35,\n",
       "   'temp_max': 13.35,\n",
       "   'pressure': 1023,\n",
       "   'sea_level': 1023,\n",
       "   'grnd_level': 1016,\n",
       "   'humidity': 69,\n",
       "   'temp_kf': 0},\n",
       "  'weather': [{'id': 800,\n",
       "    'main': 'Clear',\n",
       "    'description': 'clear sky',\n",
       "    'icon': '01n'}],\n",
       "  'clouds': {'all': 1},\n",
       "  'wind': {'speed': 1.56, 'deg': 24, 'gust': 1.22},\n",
       "  'visibility': 10000,\n",
       "  'pop': 0,\n",
       "  'sys': {'pod': 'n'},\n",
       "  'dt_txt': '2024-11-16 03:00:00'},\n",
       " {'dt': 1731736800,\n",
       "  'main': {'temp': 13.32,\n",
       "   'feels_like': 12.46,\n",
       "   'temp_min': 13.32,\n",
       "   'temp_max': 13.32,\n",
       "   'pressure': 1023,\n",
       "   'sea_level': 1023,\n",
       "   'grnd_level': 1016,\n",
       "   'humidity': 67,\n",
       "   'temp_kf': 0},\n",
       "  'weather': [{'id': 801,\n",
       "    'main': 'Clouds',\n",
       "    'description': 'few clouds',\n",
       "    'icon': '02n'}],\n",
       "  'clouds': {'all': 16},\n",
       "  'wind': {'speed': 1.9, 'deg': 62, 'gust': 1.5},\n",
       "  'visibility': 10000,\n",
       "  'pop': 0,\n",
       "  'sys': {'pod': 'n'},\n",
       "  'dt_txt': '2024-11-16 06:00:00'},\n",
       " {'dt': 1731747600,\n",
       "  'main': {'temp': 14.17,\n",
       "   'feels_like': 13.37,\n",
       "   'temp_min': 14.17,\n",
       "   'temp_max': 14.17,\n",
       "   'pressure': 1023,\n",
       "   'sea_level': 1023,\n",
       "   'grnd_level': 1016,\n",
       "   'humidity': 66,\n",
       "   'temp_kf': 0},\n",
       "  'weather': [{'id': 804,\n",
       "    'main': 'Clouds',\n",
       "    'description': 'overcast clouds',\n",
       "    'icon': '04d'}],\n",
       "  'clouds': {'all': 100},\n",
       "  'wind': {'speed': 1.25, 'deg': 104, 'gust': 1.36},\n",
       "  'visibility': 10000,\n",
       "  'pop': 0,\n",
       "  'sys': {'pod': 'd'},\n",
       "  'dt_txt': '2024-11-16 09:00:00'},\n",
       " {'dt': 1731758400,\n",
       "  'main': {'temp': 14.83,\n",
       "   'feels_like': 14.17,\n",
       "   'temp_min': 14.83,\n",
       "   'temp_max': 14.83,\n",
       "   'pressure': 1022,\n",
       "   'sea_level': 1022,\n",
       "   'grnd_level': 1015,\n",
       "   'humidity': 69,\n",
       "   'temp_kf': 0},\n",
       "  'weather': [{'id': 804,\n",
       "    'main': 'Clouds',\n",
       "    'description': 'overcast clouds',\n",
       "    'icon': '04d'}],\n",
       "  'clouds': {'all': 100},\n",
       "  'wind': {'speed': 0.97, 'deg': 146, 'gust': 1.24},\n",
       "  'visibility': 10000,\n",
       "  'pop': 0,\n",
       "  'sys': {'pod': 'd'},\n",
       "  'dt_txt': '2024-11-16 12:00:00'},\n",
       " {'dt': 1731769200,\n",
       "  'main': {'temp': 15.19,\n",
       "   'feels_like': 14.64,\n",
       "   'temp_min': 15.19,\n",
       "   'temp_max': 15.19,\n",
       "   'pressure': 1021,\n",
       "   'sea_level': 1021,\n",
       "   'grnd_level': 1014,\n",
       "   'humidity': 72,\n",
       "   'temp_kf': 0},\n",
       "  'weather': [{'id': 804,\n",
       "    'main': 'Clouds',\n",
       "    'description': 'overcast clouds',\n",
       "    'icon': '04d'}],\n",
       "  'clouds': {'all': 100},\n",
       "  'wind': {'speed': 0.46, 'deg': 189, 'gust': 1.18},\n",
       "  'visibility': 10000,\n",
       "  'pop': 0,\n",
       "  'sys': {'pod': 'd'},\n",
       "  'dt_txt': '2024-11-16 15:00:00'},\n",
       " {'dt': 1731780000,\n",
       "  'main': {'temp': 15.47,\n",
       "   'feels_like': 15,\n",
       "   'temp_min': 15.47,\n",
       "   'temp_max': 15.47,\n",
       "   'pressure': 1020,\n",
       "   'sea_level': 1020,\n",
       "   'grnd_level': 1013,\n",
       "   'humidity': 74,\n",
       "   'temp_kf': 0},\n",
       "  'weather': [{'id': 804,\n",
       "    'main': 'Clouds',\n",
       "    'description': 'overcast clouds',\n",
       "    'icon': '04n'}],\n",
       "  'clouds': {'all': 100},\n",
       "  'wind': {'speed': 0.73, 'deg': 265, 'gust': 1.7},\n",
       "  'visibility': 10000,\n",
       "  'pop': 0,\n",
       "  'sys': {'pod': 'n'},\n",
       "  'dt_txt': '2024-11-16 18:00:00'},\n",
       " {'dt': 1731790800,\n",
       "  'main': {'temp': 15.29,\n",
       "   'feels_like': 14.91,\n",
       "   'temp_min': 15.29,\n",
       "   'temp_max': 15.29,\n",
       "   'pressure': 1020,\n",
       "   'sea_level': 1020,\n",
       "   'grnd_level': 1013,\n",
       "   'humidity': 78,\n",
       "   'temp_kf': 0},\n",
       "  'weather': [{'id': 804,\n",
       "    'main': 'Clouds',\n",
       "    'description': 'overcast clouds',\n",
       "    'icon': '04n'}],\n",
       "  'clouds': {'all': 100},\n",
       "  'wind': {'speed': 1.09, 'deg': 329, 'gust': 1.45},\n",
       "  'visibility': 10000,\n",
       "  'pop': 0,\n",
       "  'sys': {'pod': 'n'},\n",
       "  'dt_txt': '2024-11-16 21:00:00'},\n",
       " {'dt': 1731801600,\n",
       "  'main': {'temp': 14.8,\n",
       "   'feels_like': 14.45,\n",
       "   'temp_min': 14.8,\n",
       "   'temp_max': 14.8,\n",
       "   'pressure': 1019,\n",
       "   'sea_level': 1019,\n",
       "   'grnd_level': 1011,\n",
       "   'humidity': 81,\n",
       "   'temp_kf': 0},\n",
       "  'weather': [{'id': 804,\n",
       "    'main': 'Clouds',\n",
       "    'description': 'overcast clouds',\n",
       "    'icon': '04n'}],\n",
       "  'clouds': {'all': 100},\n",
       "  'wind': {'speed': 2.27, 'deg': 21, 'gust': 1.86},\n",
       "  'visibility': 10000,\n",
       "  'pop': 0,\n",
       "  'sys': {'pod': 'n'},\n",
       "  'dt_txt': '2024-11-17 00:00:00'},\n",
       " {'dt': 1731812400,\n",
       "  'main': {'temp': 14.49,\n",
       "   'feels_like': 14.11,\n",
       "   'temp_min': 14.49,\n",
       "   'temp_max': 14.49,\n",
       "   'pressure': 1017,\n",
       "   'sea_level': 1017,\n",
       "   'grnd_level': 1010,\n",
       "   'humidity': 81,\n",
       "   'temp_kf': 0},\n",
       "  'weather': [{'id': 804,\n",
       "    'main': 'Clouds',\n",
       "    'description': 'overcast clouds',\n",
       "    'icon': '04n'}],\n",
       "  'clouds': {'all': 100},\n",
       "  'wind': {'speed': 2.26, 'deg': 338, 'gust': 2.72},\n",
       "  'visibility': 10000,\n",
       "  'pop': 0,\n",
       "  'sys': {'pod': 'n'},\n",
       "  'dt_txt': '2024-11-17 03:00:00'},\n",
       " {'dt': 1731823200,\n",
       "  'main': {'temp': 14.22,\n",
       "   'feels_like': 13.73,\n",
       "   'temp_min': 14.22,\n",
       "   'temp_max': 14.22,\n",
       "   'pressure': 1016,\n",
       "   'sea_level': 1016,\n",
       "   'grnd_level': 1009,\n",
       "   'humidity': 78,\n",
       "   'temp_kf': 0},\n",
       "  'weather': [{'id': 804,\n",
       "    'main': 'Clouds',\n",
       "    'description': 'overcast clouds',\n",
       "    'icon': '04n'}],\n",
       "  'clouds': {'all': 100},\n",
       "  'wind': {'speed': 3.15, 'deg': 318, 'gust': 3.79},\n",
       "  'visibility': 10000,\n",
       "  'pop': 0,\n",
       "  'sys': {'pod': 'n'},\n",
       "  'dt_txt': '2024-11-17 06:00:00'},\n",
       " {'dt': 1731834000,\n",
       "  'main': {'temp': 14.25,\n",
       "   'feels_like': 13.64,\n",
       "   'temp_min': 14.25,\n",
       "   'temp_max': 14.25,\n",
       "   'pressure': 1016,\n",
       "   'sea_level': 1016,\n",
       "   'grnd_level': 1009,\n",
       "   'humidity': 73,\n",
       "   'temp_kf': 0},\n",
       "  'weather': [{'id': 804,\n",
       "    'main': 'Clouds',\n",
       "    'description': 'overcast clouds',\n",
       "    'icon': '04d'}],\n",
       "  'clouds': {'all': 100},\n",
       "  'wind': {'speed': 4.42, 'deg': 319, 'gust': 5.85},\n",
       "  'visibility': 10000,\n",
       "  'pop': 0,\n",
       "  'sys': {'pod': 'd'},\n",
       "  'dt_txt': '2024-11-17 09:00:00'},\n",
       " {'dt': 1731844800,\n",
       "  'main': {'temp': 16.21,\n",
       "   'feels_like': 15.45,\n",
       "   'temp_min': 16.21,\n",
       "   'temp_max': 16.21,\n",
       "   'pressure': 1015,\n",
       "   'sea_level': 1015,\n",
       "   'grnd_level': 1007,\n",
       "   'humidity': 60,\n",
       "   'temp_kf': 0},\n",
       "  'weather': [{'id': 803,\n",
       "    'main': 'Clouds',\n",
       "    'description': 'broken clouds',\n",
       "    'icon': '04d'}],\n",
       "  'clouds': {'all': 73},\n",
       "  'wind': {'speed': 5.65, 'deg': 306, 'gust': 7.23},\n",
       "  'visibility': 10000,\n",
       "  'pop': 0,\n",
       "  'sys': {'pod': 'd'},\n",
       "  'dt_txt': '2024-11-17 12:00:00'},\n",
       " {'dt': 1731855600,\n",
       "  'main': {'temp': 17.44,\n",
       "   'feels_like': 16.68,\n",
       "   'temp_min': 17.44,\n",
       "   'temp_max': 17.44,\n",
       "   'pressure': 1013,\n",
       "   'sea_level': 1013,\n",
       "   'grnd_level': 1006,\n",
       "   'humidity': 55,\n",
       "   'temp_kf': 0},\n",
       "  'weather': [{'id': 800,\n",
       "    'main': 'Clear',\n",
       "    'description': 'clear sky',\n",
       "    'icon': '01d'}],\n",
       "  'clouds': {'all': 3},\n",
       "  'wind': {'speed': 6.76, 'deg': 314, 'gust': 9.6},\n",
       "  'visibility': 10000,\n",
       "  'pop': 0,\n",
       "  'sys': {'pod': 'd'},\n",
       "  'dt_txt': '2024-11-17 15:00:00'},\n",
       " {'dt': 1731866400,\n",
       "  'main': {'temp': 16.91,\n",
       "   'feels_like': 16.2,\n",
       "   'temp_min': 16.91,\n",
       "   'temp_max': 16.91,\n",
       "   'pressure': 1014,\n",
       "   'sea_level': 1014,\n",
       "   'grnd_level': 1006,\n",
       "   'humidity': 59,\n",
       "   'temp_kf': 0},\n",
       "  'weather': [{'id': 802,\n",
       "    'main': 'Clouds',\n",
       "    'description': 'scattered clouds',\n",
       "    'icon': '03n'}],\n",
       "  'clouds': {'all': 28},\n",
       "  'wind': {'speed': 6.1, 'deg': 311, 'gust': 11.67},\n",
       "  'visibility': 10000,\n",
       "  'pop': 0,\n",
       "  'sys': {'pod': 'n'},\n",
       "  'dt_txt': '2024-11-17 18:00:00'},\n",
       " {'dt': 1731877200,\n",
       "  'main': {'temp': 15.87,\n",
       "   'feels_like': 15.11,\n",
       "   'temp_min': 15.87,\n",
       "   'temp_max': 15.87,\n",
       "   'pressure': 1014,\n",
       "   'sea_level': 1014,\n",
       "   'grnd_level': 1007,\n",
       "   'humidity': 61,\n",
       "   'temp_kf': 0},\n",
       "  'weather': [{'id': 804,\n",
       "    'main': 'Clouds',\n",
       "    'description': 'overcast clouds',\n",
       "    'icon': '04n'}],\n",
       "  'clouds': {'all': 88},\n",
       "  'wind': {'speed': 7.53, 'deg': 310, 'gust': 13.31},\n",
       "  'visibility': 10000,\n",
       "  'pop': 0,\n",
       "  'sys': {'pod': 'n'},\n",
       "  'dt_txt': '2024-11-17 21:00:00'},\n",
       " {'dt': 1731888000,\n",
       "  'main': {'temp': 14.58,\n",
       "   'feels_like': 13.74,\n",
       "   'temp_min': 14.58,\n",
       "   'temp_max': 14.58,\n",
       "   'pressure': 1014,\n",
       "   'sea_level': 1014,\n",
       "   'grnd_level': 1007,\n",
       "   'humidity': 63,\n",
       "   'temp_kf': 0},\n",
       "  'weather': [{'id': 803,\n",
       "    'main': 'Clouds',\n",
       "    'description': 'broken clouds',\n",
       "    'icon': '04n'}],\n",
       "  'clouds': {'all': 69},\n",
       "  'wind': {'speed': 9.41, 'deg': 309, 'gust': 14.63},\n",
       "  'visibility': 10000,\n",
       "  'pop': 0,\n",
       "  'sys': {'pod': 'n'},\n",
       "  'dt_txt': '2024-11-18 00:00:00'},\n",
       " {'dt': 1731898800,\n",
       "  'main': {'temp': 14,\n",
       "   'feels_like': 13.07,\n",
       "   'temp_min': 14,\n",
       "   'temp_max': 14,\n",
       "   'pressure': 1014,\n",
       "   'sea_level': 1014,\n",
       "   'grnd_level': 1006,\n",
       "   'humidity': 62,\n",
       "   'temp_kf': 0},\n",
       "  'weather': [{'id': 801,\n",
       "    'main': 'Clouds',\n",
       "    'description': 'few clouds',\n",
       "    'icon': '02n'}],\n",
       "  'clouds': {'all': 13},\n",
       "  'wind': {'speed': 10.83, 'deg': 321, 'gust': 16.03},\n",
       "  'visibility': 10000,\n",
       "  'pop': 0,\n",
       "  'sys': {'pod': 'n'},\n",
       "  'dt_txt': '2024-11-18 03:00:00'},\n",
       " {'dt': 1731909600,\n",
       "  'main': {'temp': 13.61,\n",
       "   'feels_like': 12.67,\n",
       "   'temp_min': 13.61,\n",
       "   'temp_max': 13.61,\n",
       "   'pressure': 1014,\n",
       "   'sea_level': 1014,\n",
       "   'grnd_level': 1007,\n",
       "   'humidity': 63,\n",
       "   'temp_kf': 0},\n",
       "  'weather': [{'id': 803,\n",
       "    'main': 'Clouds',\n",
       "    'description': 'broken clouds',\n",
       "    'icon': '04n'}],\n",
       "  'clouds': {'all': 55},\n",
       "  'wind': {'speed': 12.87, 'deg': 319, 'gust': 17.88},\n",
       "  'visibility': 10000,\n",
       "  'pop': 0,\n",
       "  'sys': {'pod': 'n'},\n",
       "  'dt_txt': '2024-11-18 06:00:00'},\n",
       " {'dt': 1731920400,\n",
       "  'main': {'temp': 13.87,\n",
       "   'feels_like': 12.93,\n",
       "   'temp_min': 13.87,\n",
       "   'temp_max': 13.87,\n",
       "   'pressure': 1015,\n",
       "   'sea_level': 1015,\n",
       "   'grnd_level': 1007,\n",
       "   'humidity': 62,\n",
       "   'temp_kf': 0},\n",
       "  'weather': [{'id': 803,\n",
       "    'main': 'Clouds',\n",
       "    'description': 'broken clouds',\n",
       "    'icon': '04d'}],\n",
       "  'clouds': {'all': 60},\n",
       "  'wind': {'speed': 13.78, 'deg': 315, 'gust': 17.97},\n",
       "  'visibility': 10000,\n",
       "  'pop': 0,\n",
       "  'sys': {'pod': 'd'},\n",
       "  'dt_txt': '2024-11-18 09:00:00'},\n",
       " {'dt': 1731931200,\n",
       "  'main': {'temp': 14.95,\n",
       "   'feels_like': 14.02,\n",
       "   'temp_min': 14.95,\n",
       "   'temp_max': 14.95,\n",
       "   'pressure': 1014,\n",
       "   'sea_level': 1014,\n",
       "   'grnd_level': 1006,\n",
       "   'humidity': 58,\n",
       "   'temp_kf': 0},\n",
       "  'weather': [{'id': 802,\n",
       "    'main': 'Clouds',\n",
       "    'description': 'scattered clouds',\n",
       "    'icon': '03d'}],\n",
       "  'clouds': {'all': 31},\n",
       "  'wind': {'speed': 15.03, 'deg': 317, 'gust': 18.61},\n",
       "  'visibility': 10000,\n",
       "  'pop': 0,\n",
       "  'sys': {'pod': 'd'},\n",
       "  'dt_txt': '2024-11-18 12:00:00'},\n",
       " {'dt': 1731942000,\n",
       "  'main': {'temp': 14.88,\n",
       "   'feels_like': 13.83,\n",
       "   'temp_min': 14.88,\n",
       "   'temp_max': 14.88,\n",
       "   'pressure': 1013,\n",
       "   'sea_level': 1013,\n",
       "   'grnd_level': 1006,\n",
       "   'humidity': 54,\n",
       "   'temp_kf': 0},\n",
       "  'weather': [{'id': 802,\n",
       "    'main': 'Clouds',\n",
       "    'description': 'scattered clouds',\n",
       "    'icon': '03d'}],\n",
       "  'clouds': {'all': 44},\n",
       "  'wind': {'speed': 13.98, 'deg': 317, 'gust': 18.1},\n",
       "  'visibility': 10000,\n",
       "  'pop': 0,\n",
       "  'sys': {'pod': 'd'},\n",
       "  'dt_txt': '2024-11-18 15:00:00'},\n",
       " {'dt': 1731952800,\n",
       "  'main': {'temp': 14.51,\n",
       "   'feels_like': 13.32,\n",
       "   'temp_min': 14.51,\n",
       "   'temp_max': 14.51,\n",
       "   'pressure': 1014,\n",
       "   'sea_level': 1014,\n",
       "   'grnd_level': 1006,\n",
       "   'humidity': 50,\n",
       "   'temp_kf': 0},\n",
       "  'weather': [{'id': 802,\n",
       "    'main': 'Clouds',\n",
       "    'description': 'scattered clouds',\n",
       "    'icon': '03n'}],\n",
       "  'clouds': {'all': 25},\n",
       "  'wind': {'speed': 11.74, 'deg': 324, 'gust': 16.37},\n",
       "  'visibility': 10000,\n",
       "  'pop': 0,\n",
       "  'sys': {'pod': 'n'},\n",
       "  'dt_txt': '2024-11-18 18:00:00'},\n",
       " {'dt': 1731963600,\n",
       "  'main': {'temp': 13.72,\n",
       "   'feels_like': 12.53,\n",
       "   'temp_min': 13.72,\n",
       "   'temp_max': 13.72,\n",
       "   'pressure': 1014,\n",
       "   'sea_level': 1014,\n",
       "   'grnd_level': 1007,\n",
       "   'humidity': 53,\n",
       "   'temp_kf': 0},\n",
       "  'weather': [{'id': 801,\n",
       "    'main': 'Clouds',\n",
       "    'description': 'few clouds',\n",
       "    'icon': '02n'}],\n",
       "  'clouds': {'all': 16},\n",
       "  'wind': {'speed': 9.19, 'deg': 322, 'gust': 15.35},\n",
       "  'visibility': 10000,\n",
       "  'pop': 0,\n",
       "  'sys': {'pod': 'n'},\n",
       "  'dt_txt': '2024-11-18 21:00:00'},\n",
       " {'dt': 1731974400,\n",
       "  'main': {'temp': 12.82,\n",
       "   'feels_like': 11.65,\n",
       "   'temp_min': 12.82,\n",
       "   'temp_max': 12.82,\n",
       "   'pressure': 1013,\n",
       "   'sea_level': 1013,\n",
       "   'grnd_level': 1006,\n",
       "   'humidity': 57,\n",
       "   'temp_kf': 0},\n",
       "  'weather': [{'id': 802,\n",
       "    'main': 'Clouds',\n",
       "    'description': 'scattered clouds',\n",
       "    'icon': '03n'}],\n",
       "  'clouds': {'all': 29},\n",
       "  'wind': {'speed': 7.4, 'deg': 324, 'gust': 12.18},\n",
       "  'visibility': 10000,\n",
       "  'pop': 0,\n",
       "  'sys': {'pod': 'n'},\n",
       "  'dt_txt': '2024-11-19 00:00:00'},\n",
       " {'dt': 1731985200,\n",
       "  'main': {'temp': 12.12,\n",
       "   'feels_like': 11.01,\n",
       "   'temp_min': 12.12,\n",
       "   'temp_max': 12.12,\n",
       "   'pressure': 1013,\n",
       "   'sea_level': 1013,\n",
       "   'grnd_level': 1006,\n",
       "   'humidity': 62,\n",
       "   'temp_kf': 0},\n",
       "  'weather': [{'id': 804,\n",
       "    'main': 'Clouds',\n",
       "    'description': 'overcast clouds',\n",
       "    'icon': '04n'}],\n",
       "  'clouds': {'all': 100},\n",
       "  'wind': {'speed': 5.64, 'deg': 310, 'gust': 8.89},\n",
       "  'visibility': 10000,\n",
       "  'pop': 0,\n",
       "  'sys': {'pod': 'n'},\n",
       "  'dt_txt': '2024-11-19 03:00:00'},\n",
       " {'dt': 1731996000,\n",
       "  'main': {'temp': 11.69,\n",
       "   'feels_like': 10.61,\n",
       "   'temp_min': 11.69,\n",
       "   'temp_max': 11.69,\n",
       "   'pressure': 1013,\n",
       "   'sea_level': 1013,\n",
       "   'grnd_level': 1005,\n",
       "   'humidity': 65,\n",
       "   'temp_kf': 0},\n",
       "  'weather': [{'id': 804,\n",
       "    'main': 'Clouds',\n",
       "    'description': 'overcast clouds',\n",
       "    'icon': '04n'}],\n",
       "  'clouds': {'all': 100},\n",
       "  'wind': {'speed': 5.29, 'deg': 311, 'gust': 9.34},\n",
       "  'visibility': 10000,\n",
       "  'pop': 0,\n",
       "  'sys': {'pod': 'n'},\n",
       "  'dt_txt': '2024-11-19 06:00:00'},\n",
       " {'dt': 1732006800,\n",
       "  'main': {'temp': 12.54,\n",
       "   'feels_like': 11.55,\n",
       "   'temp_min': 12.54,\n",
       "   'temp_max': 12.54,\n",
       "   'pressure': 1012,\n",
       "   'sea_level': 1012,\n",
       "   'grnd_level': 1005,\n",
       "   'humidity': 65,\n",
       "   'temp_kf': 0},\n",
       "  'weather': [{'id': 803,\n",
       "    'main': 'Clouds',\n",
       "    'description': 'broken clouds',\n",
       "    'icon': '04d'}],\n",
       "  'clouds': {'all': 56},\n",
       "  'wind': {'speed': 4.88, 'deg': 312, 'gust': 8.53},\n",
       "  'visibility': 10000,\n",
       "  'pop': 0,\n",
       "  'sys': {'pod': 'd'},\n",
       "  'dt_txt': '2024-11-19 09:00:00'},\n",
       " {'dt': 1732017600,\n",
       "  'main': {'temp': 15.5,\n",
       "   'feels_like': 14.78,\n",
       "   'temp_min': 15.5,\n",
       "   'temp_max': 15.5,\n",
       "   'pressure': 1011,\n",
       "   'sea_level': 1011,\n",
       "   'grnd_level': 1003,\n",
       "   'humidity': 64,\n",
       "   'temp_kf': 0},\n",
       "  'weather': [{'id': 802,\n",
       "    'main': 'Clouds',\n",
       "    'description': 'scattered clouds',\n",
       "    'icon': '03d'}],\n",
       "  'clouds': {'all': 33},\n",
       "  'wind': {'speed': 9.58, 'deg': 297, 'gust': 13.68},\n",
       "  'visibility': 10000,\n",
       "  'pop': 0,\n",
       "  'sys': {'pod': 'd'},\n",
       "  'dt_txt': '2024-11-19 12:00:00'},\n",
       " {'dt': 1732028400,\n",
       "  'main': {'temp': 16.42,\n",
       "   'feels_like': 15.79,\n",
       "   'temp_min': 16.42,\n",
       "   'temp_max': 16.42,\n",
       "   'pressure': 1008,\n",
       "   'sea_level': 1008,\n",
       "   'grnd_level': 1001,\n",
       "   'humidity': 64,\n",
       "   'temp_kf': 0},\n",
       "  'weather': [{'id': 804,\n",
       "    'main': 'Clouds',\n",
       "    'description': 'overcast clouds',\n",
       "    'icon': '04d'}],\n",
       "  'clouds': {'all': 86},\n",
       "  'wind': {'speed': 10.96, 'deg': 284, 'gust': 16.92},\n",
       "  'visibility': 10000,\n",
       "  'pop': 0,\n",
       "  'sys': {'pod': 'd'},\n",
       "  'dt_txt': '2024-11-19 15:00:00'}]"
      ]
     },
     "execution_count": 151,
     "metadata": {},
     "output_type": "execute_result"
    }
   ],
   "source": [
    "response.json().get('list')"
   ]
  },
  {
   "cell_type": "markdown",
   "metadata": {},
   "source": [
    "CREATION DU DATAFRAME AVEC LES PREVISIONS METEO POUR UNE SEULE VILLE"
   ]
  },
  {
   "cell_type": "code",
   "execution_count": 152,
   "metadata": {},
   "outputs": [],
   "source": [
    "liste_previsions_une_ville = response.json().get('list')\n",
    "\n",
    "len(liste_previsions_une_ville)\n",
    "df_prevision_une_ville = pd.DataFrame(columns=['Ville','date','heure', 'temp','id_type_temps','type_temps'])\n",
    "for i in range(len(liste_previsions_une_ville)):\n",
    "    \n",
    "    ville = 'Marseille'\n",
    "    dt_text= liste_previsions_une_ville[i]['dt_txt']\n",
    "    date = dt_text.split(\" \")[0]\n",
    "    heure= dt_text.split(\" \")[1]\n",
    "    temp=liste_previsions_une_ville[i]['main']['temp']\n",
    "    id_type_temps=liste_previsions_une_ville[i]['weather'][0]['id']\n",
    "    type_temps=liste_previsions_une_ville[i]['weather'][0]['main']\n",
    "\n",
    "    df_prevision_une_ville.loc[i] = [ville,date,heure,temp,id_type_temps,type_temps]"
   ]
  },
  {
   "cell_type": "code",
   "execution_count": 153,
   "metadata": {},
   "outputs": [
    {
     "data": {
      "text/html": [
       "<div>\n",
       "<style scoped>\n",
       "    .dataframe tbody tr th:only-of-type {\n",
       "        vertical-align: middle;\n",
       "    }\n",
       "\n",
       "    .dataframe tbody tr th {\n",
       "        vertical-align: top;\n",
       "    }\n",
       "\n",
       "    .dataframe thead th {\n",
       "        text-align: right;\n",
       "    }\n",
       "</style>\n",
       "<table border=\"1\" class=\"dataframe\">\n",
       "  <thead>\n",
       "    <tr style=\"text-align: right;\">\n",
       "      <th></th>\n",
       "      <th>Ville</th>\n",
       "      <th>date</th>\n",
       "      <th>heure</th>\n",
       "      <th>temp</th>\n",
       "      <th>id_type_temps</th>\n",
       "      <th>type_temps</th>\n",
       "    </tr>\n",
       "  </thead>\n",
       "  <tbody>\n",
       "    <tr>\n",
       "      <th>0</th>\n",
       "      <td>Marseille</td>\n",
       "      <td>2024-11-14</td>\n",
       "      <td>18:00:00</td>\n",
       "      <td>11.74</td>\n",
       "      <td>800</td>\n",
       "      <td>Clear</td>\n",
       "    </tr>\n",
       "    <tr>\n",
       "      <th>1</th>\n",
       "      <td>Marseille</td>\n",
       "      <td>2024-11-14</td>\n",
       "      <td>21:00:00</td>\n",
       "      <td>12.47</td>\n",
       "      <td>800</td>\n",
       "      <td>Clear</td>\n",
       "    </tr>\n",
       "    <tr>\n",
       "      <th>2</th>\n",
       "      <td>Marseille</td>\n",
       "      <td>2024-11-15</td>\n",
       "      <td>00:00:00</td>\n",
       "      <td>12.91</td>\n",
       "      <td>800</td>\n",
       "      <td>Clear</td>\n",
       "    </tr>\n",
       "    <tr>\n",
       "      <th>3</th>\n",
       "      <td>Marseille</td>\n",
       "      <td>2024-11-15</td>\n",
       "      <td>03:00:00</td>\n",
       "      <td>13.00</td>\n",
       "      <td>800</td>\n",
       "      <td>Clear</td>\n",
       "    </tr>\n",
       "    <tr>\n",
       "      <th>4</th>\n",
       "      <td>Marseille</td>\n",
       "      <td>2024-11-15</td>\n",
       "      <td>06:00:00</td>\n",
       "      <td>12.73</td>\n",
       "      <td>800</td>\n",
       "      <td>Clear</td>\n",
       "    </tr>\n",
       "  </tbody>\n",
       "</table>\n",
       "</div>"
      ],
      "text/plain": [
       "       Ville        date     heure   temp  id_type_temps type_temps\n",
       "0  Marseille  2024-11-14  18:00:00  11.74            800      Clear\n",
       "1  Marseille  2024-11-14  21:00:00  12.47            800      Clear\n",
       "2  Marseille  2024-11-15  00:00:00  12.91            800      Clear\n",
       "3  Marseille  2024-11-15  03:00:00  13.00            800      Clear\n",
       "4  Marseille  2024-11-15  06:00:00  12.73            800      Clear"
      ]
     },
     "execution_count": 153,
     "metadata": {},
     "output_type": "execute_result"
    }
   ],
   "source": [
    "df_prevision_une_ville.head()"
   ]
  },
  {
   "cell_type": "markdown",
   "metadata": {},
   "source": [
    "ON PREND PAS LES PREVISIONS ENTRE MINUIT ET 6H"
   ]
  },
  {
   "cell_type": "code",
   "execution_count": 154,
   "metadata": {},
   "outputs": [],
   "source": [
    "mask = df_prevision_une_ville['heure'] >= '06:00:00'\n",
    "data = df_prevision_une_ville[mask]"
   ]
  },
  {
   "cell_type": "code",
   "execution_count": 155,
   "metadata": {},
   "outputs": [
    {
     "data": {
      "text/html": [
       "<div>\n",
       "<style scoped>\n",
       "    .dataframe tbody tr th:only-of-type {\n",
       "        vertical-align: middle;\n",
       "    }\n",
       "\n",
       "    .dataframe tbody tr th {\n",
       "        vertical-align: top;\n",
       "    }\n",
       "\n",
       "    .dataframe thead th {\n",
       "        text-align: right;\n",
       "    }\n",
       "</style>\n",
       "<table border=\"1\" class=\"dataframe\">\n",
       "  <thead>\n",
       "    <tr style=\"text-align: right;\">\n",
       "      <th></th>\n",
       "      <th>Ville</th>\n",
       "      <th>date</th>\n",
       "      <th>heure</th>\n",
       "      <th>temp</th>\n",
       "      <th>id_type_temps</th>\n",
       "      <th>type_temps</th>\n",
       "    </tr>\n",
       "  </thead>\n",
       "  <tbody>\n",
       "    <tr>\n",
       "      <th>0</th>\n",
       "      <td>Marseille</td>\n",
       "      <td>2024-11-14</td>\n",
       "      <td>18:00:00</td>\n",
       "      <td>11.74</td>\n",
       "      <td>800</td>\n",
       "      <td>Clear</td>\n",
       "    </tr>\n",
       "    <tr>\n",
       "      <th>1</th>\n",
       "      <td>Marseille</td>\n",
       "      <td>2024-11-14</td>\n",
       "      <td>21:00:00</td>\n",
       "      <td>12.47</td>\n",
       "      <td>800</td>\n",
       "      <td>Clear</td>\n",
       "    </tr>\n",
       "    <tr>\n",
       "      <th>4</th>\n",
       "      <td>Marseille</td>\n",
       "      <td>2024-11-15</td>\n",
       "      <td>06:00:00</td>\n",
       "      <td>12.73</td>\n",
       "      <td>800</td>\n",
       "      <td>Clear</td>\n",
       "    </tr>\n",
       "    <tr>\n",
       "      <th>5</th>\n",
       "      <td>Marseille</td>\n",
       "      <td>2024-11-15</td>\n",
       "      <td>09:00:00</td>\n",
       "      <td>13.82</td>\n",
       "      <td>800</td>\n",
       "      <td>Clear</td>\n",
       "    </tr>\n",
       "    <tr>\n",
       "      <th>6</th>\n",
       "      <td>Marseille</td>\n",
       "      <td>2024-11-15</td>\n",
       "      <td>12:00:00</td>\n",
       "      <td>14.84</td>\n",
       "      <td>800</td>\n",
       "      <td>Clear</td>\n",
       "    </tr>\n",
       "  </tbody>\n",
       "</table>\n",
       "</div>"
      ],
      "text/plain": [
       "       Ville        date     heure   temp  id_type_temps type_temps\n",
       "0  Marseille  2024-11-14  18:00:00  11.74            800      Clear\n",
       "1  Marseille  2024-11-14  21:00:00  12.47            800      Clear\n",
       "4  Marseille  2024-11-15  06:00:00  12.73            800      Clear\n",
       "5  Marseille  2024-11-15  09:00:00  13.82            800      Clear\n",
       "6  Marseille  2024-11-15  12:00:00  14.84            800      Clear"
      ]
     },
     "execution_count": 155,
     "metadata": {},
     "output_type": "execute_result"
    }
   ],
   "source": [
    "data.head()"
   ]
  },
  {
   "cell_type": "markdown",
   "metadata": {},
   "source": [
    "+++++++++++++++++++++++++++++++++++++++++++++++++++++++++++++++++++++++++++++++++++++++++++\n",
    "\n",
    "PASSAGE AUX CHOSES SERIEUSES"
   ]
  },
  {
   "cell_type": "markdown",
   "metadata": {},
   "source": [
    "BOUCLE POUR TOUTES LES PREVISIONS DE TOUTES LES VILLES"
   ]
  },
  {
   "cell_type": "code",
   "execution_count": 156,
   "metadata": {},
   "outputs": [],
   "source": [
    "url_ow = \"https://api.openweathermap.org/data/2.5/forecast?\"\n",
    "\n",
    "df_prevision_toutes_les_villes = pd.DataFrame(columns=['Ville','date','heure','Part_of_day', 'temp','id_type_temps','type_temps','couv_nuageuse','vent','prob_pluie','pluie'])\n",
    "\n",
    "# BOUCLE SUR LES VILLES \n",
    "for v in range(len(df_villes)):\n",
    "\n",
    "    lat = df_villes.loc[v,\"lat\"]\n",
    "    lon = df_villes.loc[v,\"lon\"]\n",
    "    p = {'lat' : lat, 'lon' : lon, 'units':'metric', 'appid' : 'a2fa8b199ebbdb821bb767d8318aa7bd'}\n",
    "    response = requests.get(url_ow, params=p)\n",
    "    response.json().get('list')\n",
    "\n",
    "    liste_previsions_une_ville_final = response.json().get('list')\n",
    "    nb_prev = len(liste_previsions_une_ville_final)\n",
    "    # BOUCLES SUR LES PREVISIONS\n",
    "    for i in range(len(liste_previsions_une_ville_final)):\n",
    "        \n",
    "        ville = df_villes.loc[v,\"ville\"]\n",
    "        dt_text= liste_previsions_une_ville_final[i]['dt_txt']\n",
    "        date = dt_text.split(\" \")[0]\n",
    "        heure= dt_text.split(\" \")[1]\n",
    "        temp=liste_previsions_une_ville_final[i]['main']['temp']\n",
    "        id_type_temps=liste_previsions_une_ville_final[i]['weather'][0]['id']\n",
    "        type_temps=liste_previsions_une_ville_final[i]['weather'][0]['main']\n",
    "        couv_nuageuse=liste_previsions_une_ville_final[i]['clouds']['all']\n",
    "        vent=liste_previsions_une_ville_final[i]['wind']['speed']\n",
    "        prob_pluie=liste_previsions_une_ville_final[i]['pop']\n",
    "        pluie = 0\n",
    "        if 'rain' in liste_previsions_une_ville_final[i].keys():\n",
    "            pluie = liste_previsions_une_ville_final[i]['rain']['3h']\n",
    "        pod = liste_previsions_une_ville_final[i]['sys']['pod']\n",
    "\n",
    "        df_prevision_toutes_les_villes.loc[len(df_prevision_toutes_les_villes)+1] = [ville,date,heure,pod,temp,id_type_temps,type_temps,couv_nuageuse,vent,prob_pluie,pluie]\n",
    "        "
   ]
  },
  {
   "cell_type": "code",
   "execution_count": 157,
   "metadata": {},
   "outputs": [],
   "source": [
    "mask = df_prevision_toutes_les_villes['heure'] >= '06:00:00'\n",
    "data_toutes_les_villes = df_prevision_toutes_les_villes[mask]"
   ]
  },
  {
   "cell_type": "markdown",
   "metadata": {},
   "source": [
    "ON REGARDE LES DIFFERENTES VALEURS DU TYPE DE METEO POUR ETABLIR UN CLASSEMENT"
   ]
  },
  {
   "cell_type": "code",
   "execution_count": 158,
   "metadata": {},
   "outputs": [
    {
     "data": {
      "text/plain": [
       "array([800, 801, 802, 804, 803, 500, 501, 601], dtype=int64)"
      ]
     },
     "execution_count": 158,
     "metadata": {},
     "output_type": "execute_result"
    }
   ],
   "source": [
    "data_toutes_les_villes['id_type_temps'].unique()"
   ]
  },
  {
   "cell_type": "markdown",
   "metadata": {},
   "source": [
    "MAPPING ET CREATION D'UNE NOUVELLE COLONNE AVEC LA NOTE DE LA PREVISION"
   ]
  },
  {
   "cell_type": "code",
   "execution_count": 159,
   "metadata": {},
   "outputs": [
    {
     "name": "stderr",
     "output_type": "stream",
     "text": [
      "C:\\Users\\Admin\\AppData\\Local\\Temp\\ipykernel_4300\\3510448894.py:2: SettingWithCopyWarning:\n",
      "\n",
      "\n",
      "A value is trying to be set on a copy of a slice from a DataFrame.\n",
      "Try using .loc[row_indexer,col_indexer] = value instead\n",
      "\n",
      "See the caveats in the documentation: https://pandas.pydata.org/pandas-docs/stable/user_guide/indexing.html#returning-a-view-versus-a-copy\n",
      "\n"
     ]
    }
   ],
   "source": [
    "classement = {800: 10, 801:9,802:8,803:7,804:6,500:4,501:3, 601:2}\n",
    "data_toutes_les_villes['note_type_temps']=data_toutes_les_villes['id_type_temps'].apply(lambda x: classement[x] if x in classement else 1)"
   ]
  },
  {
   "cell_type": "code",
   "execution_count": 160,
   "metadata": {},
   "outputs": [
    {
     "data": {
      "text/html": [
       "<div>\n",
       "<style scoped>\n",
       "    .dataframe tbody tr th:only-of-type {\n",
       "        vertical-align: middle;\n",
       "    }\n",
       "\n",
       "    .dataframe tbody tr th {\n",
       "        vertical-align: top;\n",
       "    }\n",
       "\n",
       "    .dataframe thead th {\n",
       "        text-align: right;\n",
       "    }\n",
       "</style>\n",
       "<table border=\"1\" class=\"dataframe\">\n",
       "  <thead>\n",
       "    <tr style=\"text-align: right;\">\n",
       "      <th></th>\n",
       "      <th>Ville</th>\n",
       "      <th>date</th>\n",
       "      <th>heure</th>\n",
       "      <th>Part_of_day</th>\n",
       "      <th>temp</th>\n",
       "      <th>id_type_temps</th>\n",
       "      <th>type_temps</th>\n",
       "      <th>couv_nuageuse</th>\n",
       "      <th>vent</th>\n",
       "      <th>prob_pluie</th>\n",
       "      <th>pluie</th>\n",
       "      <th>note_type_temps</th>\n",
       "    </tr>\n",
       "  </thead>\n",
       "  <tbody>\n",
       "    <tr>\n",
       "      <th>594</th>\n",
       "      <td>Fort-de-France</td>\n",
       "      <td>2024-11-18</td>\n",
       "      <td>21:00:00</td>\n",
       "      <td>d</td>\n",
       "      <td>27.52</td>\n",
       "      <td>804</td>\n",
       "      <td>Clouds</td>\n",
       "      <td>96</td>\n",
       "      <td>3.98</td>\n",
       "      <td>0.00</td>\n",
       "      <td>0.00</td>\n",
       "      <td>6</td>\n",
       "    </tr>\n",
       "    <tr>\n",
       "      <th>597</th>\n",
       "      <td>Fort-de-France</td>\n",
       "      <td>2024-11-19</td>\n",
       "      <td>06:00:00</td>\n",
       "      <td>n</td>\n",
       "      <td>25.63</td>\n",
       "      <td>500</td>\n",
       "      <td>Rain</td>\n",
       "      <td>88</td>\n",
       "      <td>4.29</td>\n",
       "      <td>0.20</td>\n",
       "      <td>0.20</td>\n",
       "      <td>4</td>\n",
       "    </tr>\n",
       "    <tr>\n",
       "      <th>598</th>\n",
       "      <td>Fort-de-France</td>\n",
       "      <td>2024-11-19</td>\n",
       "      <td>09:00:00</td>\n",
       "      <td>n</td>\n",
       "      <td>25.66</td>\n",
       "      <td>804</td>\n",
       "      <td>Clouds</td>\n",
       "      <td>100</td>\n",
       "      <td>3.46</td>\n",
       "      <td>0.00</td>\n",
       "      <td>0.00</td>\n",
       "      <td>6</td>\n",
       "    </tr>\n",
       "    <tr>\n",
       "      <th>599</th>\n",
       "      <td>Fort-de-France</td>\n",
       "      <td>2024-11-19</td>\n",
       "      <td>12:00:00</td>\n",
       "      <td>d</td>\n",
       "      <td>27.04</td>\n",
       "      <td>500</td>\n",
       "      <td>Rain</td>\n",
       "      <td>100</td>\n",
       "      <td>3.49</td>\n",
       "      <td>0.22</td>\n",
       "      <td>0.30</td>\n",
       "      <td>4</td>\n",
       "    </tr>\n",
       "    <tr>\n",
       "      <th>600</th>\n",
       "      <td>Fort-de-France</td>\n",
       "      <td>2024-11-19</td>\n",
       "      <td>15:00:00</td>\n",
       "      <td>d</td>\n",
       "      <td>27.25</td>\n",
       "      <td>500</td>\n",
       "      <td>Rain</td>\n",
       "      <td>100</td>\n",
       "      <td>2.46</td>\n",
       "      <td>1.00</td>\n",
       "      <td>1.68</td>\n",
       "      <td>4</td>\n",
       "    </tr>\n",
       "  </tbody>\n",
       "</table>\n",
       "</div>"
      ],
      "text/plain": [
       "              Ville        date     heure Part_of_day   temp  id_type_temps  \\\n",
       "594  Fort-de-France  2024-11-18  21:00:00           d  27.52            804   \n",
       "597  Fort-de-France  2024-11-19  06:00:00           n  25.63            500   \n",
       "598  Fort-de-France  2024-11-19  09:00:00           n  25.66            804   \n",
       "599  Fort-de-France  2024-11-19  12:00:00           d  27.04            500   \n",
       "600  Fort-de-France  2024-11-19  15:00:00           d  27.25            500   \n",
       "\n",
       "    type_temps  couv_nuageuse  vent  prob_pluie  pluie  note_type_temps  \n",
       "594     Clouds             96  3.98        0.00   0.00                6  \n",
       "597       Rain             88  4.29        0.20   0.20                4  \n",
       "598     Clouds            100  3.46        0.00   0.00                6  \n",
       "599       Rain            100  3.49        0.22   0.30                4  \n",
       "600       Rain            100  2.46        1.00   1.68                4  "
      ]
     },
     "execution_count": 160,
     "metadata": {},
     "output_type": "execute_result"
    }
   ],
   "source": [
    "data_toutes_les_villes.tail()"
   ]
  },
  {
   "cell_type": "code",
   "execution_count": 161,
   "metadata": {},
   "outputs": [],
   "source": [
    "total_par_ville = data_toutes_les_villes.groupby('Ville')['note_type_temps'].sum()"
   ]
  },
  {
   "cell_type": "code",
   "execution_count": 162,
   "metadata": {},
   "outputs": [
    {
     "data": {
      "text/plain": [
       "Ville\n",
       "Casablanca        224\n",
       "Fort-de-France    157\n",
       "Ibiza             230\n",
       "Lisbonne          190\n",
       "Londres           170\n",
       "Los Angeles       274\n",
       "Nairobi           157\n",
       "New York          246\n",
       "Paris             193\n",
       "Rio de Janeiro    176\n",
       "Riyadh            185\n",
       "Shanghai          172\n",
       "Tokyo             197\n",
       "Valence           202\n",
       "Vienne            223\n",
       "Name: note_type_temps, dtype: int64"
      ]
     },
     "execution_count": 162,
     "metadata": {},
     "output_type": "execute_result"
    }
   ],
   "source": [
    "total_par_ville"
   ]
  },
  {
   "cell_type": "code",
   "execution_count": 163,
   "metadata": {},
   "outputs": [],
   "source": [
    "moyenne_temp_par_ville = data_toutes_les_villes.groupby('Ville')['temp'].mean()"
   ]
  },
  {
   "cell_type": "markdown",
   "metadata": {},
   "source": [
    "ON FUSIONNE LES TROIS TABLES POUR AVOIR NOS DONNEES FINALES (VILLES ET COORDONNEES, SCORE, TEMPERATURE MOYENNE)"
   ]
  },
  {
   "cell_type": "code",
   "execution_count": 164,
   "metadata": {},
   "outputs": [],
   "source": [
    "df_final = df_villes.merge(total_par_ville,left_on='ville',right_on='Ville')\n",
    "df_final = df_final.merge(moyenne_temp_par_ville,left_on='ville', right_on='Ville')"
   ]
  },
  {
   "cell_type": "markdown",
   "metadata": {},
   "source": [
    "CHANGEMENT DU TYPE DE DONNEES POUR LATITUDE ET LONGITUDE"
   ]
  },
  {
   "cell_type": "code",
   "execution_count": 165,
   "metadata": {},
   "outputs": [],
   "source": [
    "df_final['lat'] = df_final['lat'].astype('float64')\n",
    "df_final['lon'] = df_final['lon'].astype('float64')"
   ]
  },
  {
   "cell_type": "markdown",
   "metadata": {},
   "source": [
    "AFFICHAGE DU DATASET FINAL UTILISE POUR LA CARTE"
   ]
  },
  {
   "cell_type": "code",
   "execution_count": 166,
   "metadata": {},
   "outputs": [
    {
     "data": {
      "text/html": [
       "<div>\n",
       "<style scoped>\n",
       "    .dataframe tbody tr th:only-of-type {\n",
       "        vertical-align: middle;\n",
       "    }\n",
       "\n",
       "    .dataframe tbody tr th {\n",
       "        vertical-align: top;\n",
       "    }\n",
       "\n",
       "    .dataframe thead th {\n",
       "        text-align: right;\n",
       "    }\n",
       "</style>\n",
       "<table border=\"1\" class=\"dataframe\">\n",
       "  <thead>\n",
       "    <tr style=\"text-align: right;\">\n",
       "      <th></th>\n",
       "      <th>ville</th>\n",
       "      <th>lat</th>\n",
       "      <th>lon</th>\n",
       "      <th>note_type_temps</th>\n",
       "      <th>temp</th>\n",
       "    </tr>\n",
       "  </thead>\n",
       "  <tbody>\n",
       "    <tr>\n",
       "      <th>11</th>\n",
       "      <td>Los Angeles</td>\n",
       "      <td>34.053691</td>\n",
       "      <td>-118.242766</td>\n",
       "      <td>274</td>\n",
       "      <td>14.623667</td>\n",
       "    </tr>\n",
       "    <tr>\n",
       "      <th>2</th>\n",
       "      <td>New York</td>\n",
       "      <td>40.712728</td>\n",
       "      <td>-74.006015</td>\n",
       "      <td>246</td>\n",
       "      <td>10.611000</td>\n",
       "    </tr>\n",
       "    <tr>\n",
       "      <th>3</th>\n",
       "      <td>Ibiza</td>\n",
       "      <td>38.974390</td>\n",
       "      <td>1.419746</td>\n",
       "      <td>230</td>\n",
       "      <td>17.755667</td>\n",
       "    </tr>\n",
       "    <tr>\n",
       "      <th>9</th>\n",
       "      <td>Casablanca</td>\n",
       "      <td>33.594514</td>\n",
       "      <td>-7.620028</td>\n",
       "      <td>224</td>\n",
       "      <td>20.907667</td>\n",
       "    </tr>\n",
       "    <tr>\n",
       "      <th>4</th>\n",
       "      <td>Vienne</td>\n",
       "      <td>48.208354</td>\n",
       "      <td>16.372504</td>\n",
       "      <td>223</td>\n",
       "      <td>6.890333</td>\n",
       "    </tr>\n",
       "    <tr>\n",
       "      <th>5</th>\n",
       "      <td>Valence</td>\n",
       "      <td>39.469707</td>\n",
       "      <td>-0.376335</td>\n",
       "      <td>202</td>\n",
       "      <td>17.301667</td>\n",
       "    </tr>\n",
       "    <tr>\n",
       "      <th>12</th>\n",
       "      <td>Tokyo</td>\n",
       "      <td>35.676860</td>\n",
       "      <td>139.763895</td>\n",
       "      <td>197</td>\n",
       "      <td>15.997000</td>\n",
       "    </tr>\n",
       "    <tr>\n",
       "      <th>0</th>\n",
       "      <td>Paris</td>\n",
       "      <td>48.853495</td>\n",
       "      <td>2.348391</td>\n",
       "      <td>193</td>\n",
       "      <td>8.784667</td>\n",
       "    </tr>\n",
       "    <tr>\n",
       "      <th>7</th>\n",
       "      <td>Lisbonne</td>\n",
       "      <td>38.707751</td>\n",
       "      <td>-9.136592</td>\n",
       "      <td>190</td>\n",
       "      <td>16.845000</td>\n",
       "    </tr>\n",
       "    <tr>\n",
       "      <th>6</th>\n",
       "      <td>Riyadh</td>\n",
       "      <td>18.010714</td>\n",
       "      <td>-15.955326</td>\n",
       "      <td>185</td>\n",
       "      <td>24.798667</td>\n",
       "    </tr>\n",
       "    <tr>\n",
       "      <th>13</th>\n",
       "      <td>Rio de Janeiro</td>\n",
       "      <td>-22.911014</td>\n",
       "      <td>-43.209373</td>\n",
       "      <td>176</td>\n",
       "      <td>24.043000</td>\n",
       "    </tr>\n",
       "    <tr>\n",
       "      <th>8</th>\n",
       "      <td>Shanghai</td>\n",
       "      <td>31.232344</td>\n",
       "      <td>121.469102</td>\n",
       "      <td>172</td>\n",
       "      <td>17.112000</td>\n",
       "    </tr>\n",
       "    <tr>\n",
       "      <th>1</th>\n",
       "      <td>Londres</td>\n",
       "      <td>51.507446</td>\n",
       "      <td>-0.127765</td>\n",
       "      <td>170</td>\n",
       "      <td>6.859667</td>\n",
       "    </tr>\n",
       "    <tr>\n",
       "      <th>10</th>\n",
       "      <td>Nairobi</td>\n",
       "      <td>-1.302615</td>\n",
       "      <td>36.828842</td>\n",
       "      <td>157</td>\n",
       "      <td>20.723667</td>\n",
       "    </tr>\n",
       "    <tr>\n",
       "      <th>14</th>\n",
       "      <td>Fort-de-France</td>\n",
       "      <td>14.602796</td>\n",
       "      <td>-61.067672</td>\n",
       "      <td>157</td>\n",
       "      <td>27.483000</td>\n",
       "    </tr>\n",
       "  </tbody>\n",
       "</table>\n",
       "</div>"
      ],
      "text/plain": [
       "             ville        lat         lon  note_type_temps       temp\n",
       "11     Los Angeles  34.053691 -118.242766              274  14.623667\n",
       "2         New York  40.712728  -74.006015              246  10.611000\n",
       "3            Ibiza  38.974390    1.419746              230  17.755667\n",
       "9       Casablanca  33.594514   -7.620028              224  20.907667\n",
       "4           Vienne  48.208354   16.372504              223   6.890333\n",
       "5          Valence  39.469707   -0.376335              202  17.301667\n",
       "12           Tokyo  35.676860  139.763895              197  15.997000\n",
       "0            Paris  48.853495    2.348391              193   8.784667\n",
       "7         Lisbonne  38.707751   -9.136592              190  16.845000\n",
       "6           Riyadh  18.010714  -15.955326              185  24.798667\n",
       "13  Rio de Janeiro -22.911014  -43.209373              176  24.043000\n",
       "8         Shanghai  31.232344  121.469102              172  17.112000\n",
       "1          Londres  51.507446   -0.127765              170   6.859667\n",
       "10         Nairobi  -1.302615   36.828842              157  20.723667\n",
       "14  Fort-de-France  14.602796  -61.067672              157  27.483000"
      ]
     },
     "execution_count": 166,
     "metadata": {},
     "output_type": "execute_result"
    }
   ],
   "source": [
    "df_final.sort_values(\"note_type_temps\", ascending=False)"
   ]
  },
  {
   "cell_type": "markdown",
   "metadata": {},
   "source": [
    "CREATION DE LA CARTE"
   ]
  },
  {
   "cell_type": "code",
   "execution_count": 167,
   "metadata": {},
   "outputs": [
    {
     "data": {
      "application/vnd.plotly.v1+json": {
       "config": {
        "plotlyServerURL": "https://plot.ly"
       },
       "data": [
        {
         "customdata": [
          [
           8.784666666666668
          ],
          [
           6.859666666666667
          ],
          [
           10.610999999999999
          ],
          [
           17.755666666666666
          ],
          [
           6.890333333333333
          ],
          [
           17.301666666666666
          ],
          [
           24.79866666666667
          ],
          [
           16.845000000000002
          ],
          [
           17.112000000000002
          ],
          [
           20.907666666666668
          ],
          [
           20.723666666666666
          ],
          [
           14.623666666666667
          ],
          [
           15.996999999999998
          ],
          [
           24.043
          ],
          [
           27.483
          ]
         ],
         "hovertemplate": "<b>%{hovertext}</b><br><br>temp=%{customdata[0]}<br>lat=%{lat}<br>lon=%{lon}<br>note_type_temps=%{marker.color}<extra></extra>",
         "hovertext": [
          "Paris",
          "Londres",
          "New York",
          "Ibiza",
          "Vienne",
          "Valence",
          "Riyadh",
          "Lisbonne",
          "Shanghai",
          "Casablanca",
          "Nairobi",
          "Los Angeles",
          "Tokyo",
          "Rio de Janeiro",
          "Fort-de-France"
         ],
         "lat": [
          48.8534951,
          51.5074456,
          40.7127281,
          38.974390099999994,
          48.2083537,
          39.4697065,
          18.0107143,
          38.7077507,
          31.2323437,
          33.5945144,
          -1.3026148499999999,
          34.0536909,
          35.6768601,
          -22.9110137,
          14.6027962
         ],
         "legendgroup": "",
         "lon": [
          2.3483915,
          -0.1277653,
          -74.0060152,
          1.4197463178515335,
          16.3725042,
          -0.3763353,
          -15.955326,
          -9.1365919,
          121.4691024,
          -7.6200284,
          36.82884201813725,
          -118.242766,
          139.7638947,
          -43.2093727,
          -61.0676724
         ],
         "marker": {
          "color": [
           193,
           170,
           246,
           230,
           223,
           202,
           185,
           190,
           172,
           224,
           157,
           274,
           197,
           176,
           157
          ],
          "coloraxis": "coloraxis",
          "size": [
           8.784666666666668,
           6.859666666666667,
           10.610999999999999,
           17.755666666666666,
           6.890333333333333,
           17.301666666666666,
           24.79866666666667,
           16.845000000000002,
           17.112000000000002,
           20.907666666666668,
           20.723666666666666,
           14.623666666666667,
           15.996999999999998,
           24.043,
           27.483
          ],
          "sizemode": "area",
          "sizeref": 0.0687075
         },
         "mode": "markers",
         "name": "",
         "showlegend": false,
         "subplot": "mapbox",
         "type": "scattermapbox"
        }
       ],
       "layout": {
        "coloraxis": {
         "colorbar": {
          "title": {
           "text": "note_type_temps"
          }
         },
         "colorscale": [
          [
           0,
           "red"
          ],
          [
           0.3333333333333333,
           "orange"
          ],
          [
           0.6666666666666666,
           "yellowgreen"
          ],
          [
           1,
           "green"
          ]
         ]
        },
        "height": 700,
        "legend": {
         "itemsizing": "constant",
         "tracegroupgap": 0
        },
        "mapbox": {
         "center": {
          "lat": 29.95941072333333,
          "lon": -0.7692928042674135
         },
         "domain": {
          "x": [
           0,
           1
          ],
          "y": [
           0,
           1
          ]
         },
         "style": "open-street-map",
         "zoom": 1
        },
        "template": {
         "data": {
          "bar": [
           {
            "error_x": {
             "color": "#2a3f5f"
            },
            "error_y": {
             "color": "#2a3f5f"
            },
            "marker": {
             "line": {
              "color": "#E5ECF6",
              "width": 0.5
             },
             "pattern": {
              "fillmode": "overlay",
              "size": 10,
              "solidity": 0.2
             }
            },
            "type": "bar"
           }
          ],
          "barpolar": [
           {
            "marker": {
             "line": {
              "color": "#E5ECF6",
              "width": 0.5
             },
             "pattern": {
              "fillmode": "overlay",
              "size": 10,
              "solidity": 0.2
             }
            },
            "type": "barpolar"
           }
          ],
          "carpet": [
           {
            "aaxis": {
             "endlinecolor": "#2a3f5f",
             "gridcolor": "white",
             "linecolor": "white",
             "minorgridcolor": "white",
             "startlinecolor": "#2a3f5f"
            },
            "baxis": {
             "endlinecolor": "#2a3f5f",
             "gridcolor": "white",
             "linecolor": "white",
             "minorgridcolor": "white",
             "startlinecolor": "#2a3f5f"
            },
            "type": "carpet"
           }
          ],
          "choropleth": [
           {
            "colorbar": {
             "outlinewidth": 0,
             "ticks": ""
            },
            "type": "choropleth"
           }
          ],
          "contour": [
           {
            "colorbar": {
             "outlinewidth": 0,
             "ticks": ""
            },
            "colorscale": [
             [
              0,
              "#0d0887"
             ],
             [
              0.1111111111111111,
              "#46039f"
             ],
             [
              0.2222222222222222,
              "#7201a8"
             ],
             [
              0.3333333333333333,
              "#9c179e"
             ],
             [
              0.4444444444444444,
              "#bd3786"
             ],
             [
              0.5555555555555556,
              "#d8576b"
             ],
             [
              0.6666666666666666,
              "#ed7953"
             ],
             [
              0.7777777777777778,
              "#fb9f3a"
             ],
             [
              0.8888888888888888,
              "#fdca26"
             ],
             [
              1,
              "#f0f921"
             ]
            ],
            "type": "contour"
           }
          ],
          "contourcarpet": [
           {
            "colorbar": {
             "outlinewidth": 0,
             "ticks": ""
            },
            "type": "contourcarpet"
           }
          ],
          "heatmap": [
           {
            "colorbar": {
             "outlinewidth": 0,
             "ticks": ""
            },
            "colorscale": [
             [
              0,
              "#0d0887"
             ],
             [
              0.1111111111111111,
              "#46039f"
             ],
             [
              0.2222222222222222,
              "#7201a8"
             ],
             [
              0.3333333333333333,
              "#9c179e"
             ],
             [
              0.4444444444444444,
              "#bd3786"
             ],
             [
              0.5555555555555556,
              "#d8576b"
             ],
             [
              0.6666666666666666,
              "#ed7953"
             ],
             [
              0.7777777777777778,
              "#fb9f3a"
             ],
             [
              0.8888888888888888,
              "#fdca26"
             ],
             [
              1,
              "#f0f921"
             ]
            ],
            "type": "heatmap"
           }
          ],
          "heatmapgl": [
           {
            "colorbar": {
             "outlinewidth": 0,
             "ticks": ""
            },
            "colorscale": [
             [
              0,
              "#0d0887"
             ],
             [
              0.1111111111111111,
              "#46039f"
             ],
             [
              0.2222222222222222,
              "#7201a8"
             ],
             [
              0.3333333333333333,
              "#9c179e"
             ],
             [
              0.4444444444444444,
              "#bd3786"
             ],
             [
              0.5555555555555556,
              "#d8576b"
             ],
             [
              0.6666666666666666,
              "#ed7953"
             ],
             [
              0.7777777777777778,
              "#fb9f3a"
             ],
             [
              0.8888888888888888,
              "#fdca26"
             ],
             [
              1,
              "#f0f921"
             ]
            ],
            "type": "heatmapgl"
           }
          ],
          "histogram": [
           {
            "marker": {
             "pattern": {
              "fillmode": "overlay",
              "size": 10,
              "solidity": 0.2
             }
            },
            "type": "histogram"
           }
          ],
          "histogram2d": [
           {
            "colorbar": {
             "outlinewidth": 0,
             "ticks": ""
            },
            "colorscale": [
             [
              0,
              "#0d0887"
             ],
             [
              0.1111111111111111,
              "#46039f"
             ],
             [
              0.2222222222222222,
              "#7201a8"
             ],
             [
              0.3333333333333333,
              "#9c179e"
             ],
             [
              0.4444444444444444,
              "#bd3786"
             ],
             [
              0.5555555555555556,
              "#d8576b"
             ],
             [
              0.6666666666666666,
              "#ed7953"
             ],
             [
              0.7777777777777778,
              "#fb9f3a"
             ],
             [
              0.8888888888888888,
              "#fdca26"
             ],
             [
              1,
              "#f0f921"
             ]
            ],
            "type": "histogram2d"
           }
          ],
          "histogram2dcontour": [
           {
            "colorbar": {
             "outlinewidth": 0,
             "ticks": ""
            },
            "colorscale": [
             [
              0,
              "#0d0887"
             ],
             [
              0.1111111111111111,
              "#46039f"
             ],
             [
              0.2222222222222222,
              "#7201a8"
             ],
             [
              0.3333333333333333,
              "#9c179e"
             ],
             [
              0.4444444444444444,
              "#bd3786"
             ],
             [
              0.5555555555555556,
              "#d8576b"
             ],
             [
              0.6666666666666666,
              "#ed7953"
             ],
             [
              0.7777777777777778,
              "#fb9f3a"
             ],
             [
              0.8888888888888888,
              "#fdca26"
             ],
             [
              1,
              "#f0f921"
             ]
            ],
            "type": "histogram2dcontour"
           }
          ],
          "mesh3d": [
           {
            "colorbar": {
             "outlinewidth": 0,
             "ticks": ""
            },
            "type": "mesh3d"
           }
          ],
          "parcoords": [
           {
            "line": {
             "colorbar": {
              "outlinewidth": 0,
              "ticks": ""
             }
            },
            "type": "parcoords"
           }
          ],
          "pie": [
           {
            "automargin": true,
            "type": "pie"
           }
          ],
          "scatter": [
           {
            "fillpattern": {
             "fillmode": "overlay",
             "size": 10,
             "solidity": 0.2
            },
            "type": "scatter"
           }
          ],
          "scatter3d": [
           {
            "line": {
             "colorbar": {
              "outlinewidth": 0,
              "ticks": ""
             }
            },
            "marker": {
             "colorbar": {
              "outlinewidth": 0,
              "ticks": ""
             }
            },
            "type": "scatter3d"
           }
          ],
          "scattercarpet": [
           {
            "marker": {
             "colorbar": {
              "outlinewidth": 0,
              "ticks": ""
             }
            },
            "type": "scattercarpet"
           }
          ],
          "scattergeo": [
           {
            "marker": {
             "colorbar": {
              "outlinewidth": 0,
              "ticks": ""
             }
            },
            "type": "scattergeo"
           }
          ],
          "scattergl": [
           {
            "marker": {
             "colorbar": {
              "outlinewidth": 0,
              "ticks": ""
             }
            },
            "type": "scattergl"
           }
          ],
          "scattermapbox": [
           {
            "marker": {
             "colorbar": {
              "outlinewidth": 0,
              "ticks": ""
             }
            },
            "type": "scattermapbox"
           }
          ],
          "scatterpolar": [
           {
            "marker": {
             "colorbar": {
              "outlinewidth": 0,
              "ticks": ""
             }
            },
            "type": "scatterpolar"
           }
          ],
          "scatterpolargl": [
           {
            "marker": {
             "colorbar": {
              "outlinewidth": 0,
              "ticks": ""
             }
            },
            "type": "scatterpolargl"
           }
          ],
          "scatterternary": [
           {
            "marker": {
             "colorbar": {
              "outlinewidth": 0,
              "ticks": ""
             }
            },
            "type": "scatterternary"
           }
          ],
          "surface": [
           {
            "colorbar": {
             "outlinewidth": 0,
             "ticks": ""
            },
            "colorscale": [
             [
              0,
              "#0d0887"
             ],
             [
              0.1111111111111111,
              "#46039f"
             ],
             [
              0.2222222222222222,
              "#7201a8"
             ],
             [
              0.3333333333333333,
              "#9c179e"
             ],
             [
              0.4444444444444444,
              "#bd3786"
             ],
             [
              0.5555555555555556,
              "#d8576b"
             ],
             [
              0.6666666666666666,
              "#ed7953"
             ],
             [
              0.7777777777777778,
              "#fb9f3a"
             ],
             [
              0.8888888888888888,
              "#fdca26"
             ],
             [
              1,
              "#f0f921"
             ]
            ],
            "type": "surface"
           }
          ],
          "table": [
           {
            "cells": {
             "fill": {
              "color": "#EBF0F8"
             },
             "line": {
              "color": "white"
             }
            },
            "header": {
             "fill": {
              "color": "#C8D4E3"
             },
             "line": {
              "color": "white"
             }
            },
            "type": "table"
           }
          ]
         },
         "layout": {
          "annotationdefaults": {
           "arrowcolor": "#2a3f5f",
           "arrowhead": 0,
           "arrowwidth": 1
          },
          "autotypenumbers": "strict",
          "coloraxis": {
           "colorbar": {
            "outlinewidth": 0,
            "ticks": ""
           }
          },
          "colorscale": {
           "diverging": [
            [
             0,
             "#8e0152"
            ],
            [
             0.1,
             "#c51b7d"
            ],
            [
             0.2,
             "#de77ae"
            ],
            [
             0.3,
             "#f1b6da"
            ],
            [
             0.4,
             "#fde0ef"
            ],
            [
             0.5,
             "#f7f7f7"
            ],
            [
             0.6,
             "#e6f5d0"
            ],
            [
             0.7,
             "#b8e186"
            ],
            [
             0.8,
             "#7fbc41"
            ],
            [
             0.9,
             "#4d9221"
            ],
            [
             1,
             "#276419"
            ]
           ],
           "sequential": [
            [
             0,
             "#0d0887"
            ],
            [
             0.1111111111111111,
             "#46039f"
            ],
            [
             0.2222222222222222,
             "#7201a8"
            ],
            [
             0.3333333333333333,
             "#9c179e"
            ],
            [
             0.4444444444444444,
             "#bd3786"
            ],
            [
             0.5555555555555556,
             "#d8576b"
            ],
            [
             0.6666666666666666,
             "#ed7953"
            ],
            [
             0.7777777777777778,
             "#fb9f3a"
            ],
            [
             0.8888888888888888,
             "#fdca26"
            ],
            [
             1,
             "#f0f921"
            ]
           ],
           "sequentialminus": [
            [
             0,
             "#0d0887"
            ],
            [
             0.1111111111111111,
             "#46039f"
            ],
            [
             0.2222222222222222,
             "#7201a8"
            ],
            [
             0.3333333333333333,
             "#9c179e"
            ],
            [
             0.4444444444444444,
             "#bd3786"
            ],
            [
             0.5555555555555556,
             "#d8576b"
            ],
            [
             0.6666666666666666,
             "#ed7953"
            ],
            [
             0.7777777777777778,
             "#fb9f3a"
            ],
            [
             0.8888888888888888,
             "#fdca26"
            ],
            [
             1,
             "#f0f921"
            ]
           ]
          },
          "colorway": [
           "#636efa",
           "#EF553B",
           "#00cc96",
           "#ab63fa",
           "#FFA15A",
           "#19d3f3",
           "#FF6692",
           "#B6E880",
           "#FF97FF",
           "#FECB52"
          ],
          "font": {
           "color": "#2a3f5f"
          },
          "geo": {
           "bgcolor": "white",
           "lakecolor": "white",
           "landcolor": "#E5ECF6",
           "showlakes": true,
           "showland": true,
           "subunitcolor": "white"
          },
          "hoverlabel": {
           "align": "left"
          },
          "hovermode": "closest",
          "mapbox": {
           "style": "light"
          },
          "paper_bgcolor": "white",
          "plot_bgcolor": "#E5ECF6",
          "polar": {
           "angularaxis": {
            "gridcolor": "white",
            "linecolor": "white",
            "ticks": ""
           },
           "bgcolor": "#E5ECF6",
           "radialaxis": {
            "gridcolor": "white",
            "linecolor": "white",
            "ticks": ""
           }
          },
          "scene": {
           "xaxis": {
            "backgroundcolor": "#E5ECF6",
            "gridcolor": "white",
            "gridwidth": 2,
            "linecolor": "white",
            "showbackground": true,
            "ticks": "",
            "zerolinecolor": "white"
           },
           "yaxis": {
            "backgroundcolor": "#E5ECF6",
            "gridcolor": "white",
            "gridwidth": 2,
            "linecolor": "white",
            "showbackground": true,
            "ticks": "",
            "zerolinecolor": "white"
           },
           "zaxis": {
            "backgroundcolor": "#E5ECF6",
            "gridcolor": "white",
            "gridwidth": 2,
            "linecolor": "white",
            "showbackground": true,
            "ticks": "",
            "zerolinecolor": "white"
           }
          },
          "shapedefaults": {
           "line": {
            "color": "#2a3f5f"
           }
          },
          "ternary": {
           "aaxis": {
            "gridcolor": "white",
            "linecolor": "white",
            "ticks": ""
           },
           "baxis": {
            "gridcolor": "white",
            "linecolor": "white",
            "ticks": ""
           },
           "bgcolor": "#E5ECF6",
           "caxis": {
            "gridcolor": "white",
            "linecolor": "white",
            "ticks": ""
           }
          },
          "title": {
           "x": 0.05
          },
          "xaxis": {
           "automargin": true,
           "gridcolor": "white",
           "linecolor": "white",
           "ticks": "",
           "title": {
            "standoff": 15
           },
           "zerolinecolor": "white",
           "zerolinewidth": 2
          },
          "yaxis": {
           "automargin": true,
           "gridcolor": "white",
           "linecolor": "white",
           "ticks": "",
           "title": {
            "standoff": 15
           },
           "zerolinecolor": "white",
           "zerolinewidth": 2
          }
         }
        },
        "title": {
         "text": "Où on part ce weekend ?",
         "x": 0.5
        }
       }
      }
     },
     "metadata": {},
     "output_type": "display_data"
    }
   ],
   "source": [
    "fig = px.scatter_mapbox(df_final,lat=\"lat\", lon=\"lon\", color=\"note_type_temps\", hover_name=\"ville\", hover_data='temp', height=700,\n",
    "mapbox_style=\"open-street-map\",title='Où on part ce weekend ?',zoom=1,color_continuous_scale=[\"red\",\"orange\",\"yellowgreen\",\"green\"], size=\"temp\")\n",
    "fig.update_layout(title_x=0.5)\n",
    "fig.show()"
   ]
  }
 ],
 "metadata": {
  "kernelspec": {
   "display_name": "base",
   "language": "python",
   "name": "python3"
  },
  "language_info": {
   "codemirror_mode": {
    "name": "ipython",
    "version": 3
   },
   "file_extension": ".py",
   "mimetype": "text/x-python",
   "name": "python",
   "nbconvert_exporter": "python",
   "pygments_lexer": "ipython3",
   "version": "3.12.4"
  }
 },
 "nbformat": 4,
 "nbformat_minor": 2
}
