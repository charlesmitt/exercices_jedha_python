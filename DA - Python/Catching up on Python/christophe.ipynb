{
 "cells": [
  {
   "cell_type": "code",
   "execution_count": 14,
   "metadata": {},
   "outputs": [],
   "source": [
    "def calcul_interets():\n",
    "    \n",
    "    amount = input(\"Combien voulez-vous placer ?\")\n",
    "    while True:\n",
    "        try:\n",
    "            amount = float(amount)\n",
    "            if(amount <0):\n",
    "                raise\n",
    "            break\n",
    "        except:\n",
    "            amount = input(\"Merci d'entrer un montant correct. Combien voulez-vous placer ?\")\n",
    "            \n",
    "\n",
    "\n",
    "    years = input(\"Pour combien d'années ?\")\n",
    "    while True:\n",
    "        try:\n",
    "            years = float(years)\n",
    "            if years<0:\n",
    "                raise\n",
    "            break\n",
    "        except:\n",
    "            years = input(\"Merci d'entrer un nombre d'années correct.Pour combien d'années ?\")\n",
    "\n",
    "\n",
    "\n",
    "    taux = input(\"A quel taux [en %]?\")\n",
    "    while True:\n",
    "        try:\n",
    "            taux = float(taux)\n",
    "            if taux <0:\n",
    "                raise\n",
    "            break\n",
    "        except:\n",
    "            taux = input(\"Merci d'entrer un taux valide.A quel taux [en %]\")\n",
    "    \n",
    "\n",
    "    result= amount*((1+taux/100)**years)\n",
    "\n",
    "    print(f\"Votre investissement de {amount:.2f}€ après {years:.2f} années à un taux de {taux:.2f}% vaudra la belle somme de {result:.2f}€\")\n",
    "\n"
   ]
  },
  {
   "cell_type": "code",
   "execution_count": 15,
   "metadata": {},
   "outputs": [
    {
     "name": "stdout",
     "output_type": "stream",
     "text": [
      "Votre investissement de 389328.00€ après 893.00 années à un taux de 89.00% vaudra la belle somme de 2956015898261725480351075073994459036908691931785580870769199580759206306930181793141319870685405013853706736601280388091160162984850314845788797000352269057370167014266339453051839873823180162593428539046768405686400206165715330976003803438501853134848.00€\n"
     ]
    }
   ],
   "source": [
    "calcul_interets()"
   ]
  },
  {
   "cell_type": "code",
   "execution_count": null,
   "metadata": {},
   "outputs": [],
   "source": []
  }
 ],
 "metadata": {
  "kernelspec": {
   "display_name": "base",
   "language": "python",
   "name": "python3"
  },
  "language_info": {
   "codemirror_mode": {
    "name": "ipython",
    "version": 3
   },
   "file_extension": ".py",
   "mimetype": "text/x-python",
   "name": "python",
   "nbconvert_exporter": "python",
   "pygments_lexer": "ipython3",
   "version": "3.12.4"
  }
 },
 "nbformat": 4,
 "nbformat_minor": 2
}
