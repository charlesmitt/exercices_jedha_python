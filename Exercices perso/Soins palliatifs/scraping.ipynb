{
 "cells": [
  {
   "cell_type": "markdown",
   "metadata": {},
   "source": [
    "EDA SOINS PALLIATIFS EN FRANCE"
   ]
  },
  {
   "cell_type": "code",
   "execution_count": 81,
   "metadata": {},
   "outputs": [],
   "source": [
    "import os\n",
    "import logging\n",
    "import scrapy\n",
    "from scrapy.crawler import CrawlerProcess\n",
    "import plotly.express as px\n",
    "import pandas as pd\n",
    "import json\n",
    "import requests\n",
    "import re"
   ]
  },
  {
   "cell_type": "markdown",
   "metadata": {},
   "source": [
    "SI LA LISTE BASIQUE DES ETABLISSEMENTS N'A PAS DEJA ETE ENREGISTREE EN JSON ON VA LA RECUPERER"
   ]
  },
  {
   "cell_type": "code",
   "execution_count": 82,
   "metadata": {},
   "outputs": [
    {
     "name": "stdout",
     "output_type": "stream",
     "text": [
      "le fichier existe\n"
     ]
    }
   ],
   "source": [
    "filename = 'toutes_les_pages.json'\n",
    "\n",
    "if filename in os.listdir(\"src/\"):\n",
    "    le_fichier_existe = True\n",
    "    print(\"le fichier existe\")\n",
    "    df = pd.DataFrame(pd.read_json('src/'+filename), dtype='str')\n",
    "else:\n",
    "    print(\"Le fichier existe pas\")\n",
    "    le_fichier_existe = False"
   ]
  },
  {
   "cell_type": "markdown",
   "metadata": {},
   "source": [
    "ON RECUPERE LA LISTE BASIQUE DES ETABLISSEMENTS (CHANGER EN PYTHON POUR L'UTILISER)"
   ]
  },
  {
   "cell_type": "markdown",
   "metadata": {},
   "source": [
    "class SFAPSpider(scrapy.Spider):\n",
    "    # Name of your spider\n",
    "    name = \"sfap\"\n",
    "\n",
    "    # Url to start your spider from\n",
    "    start_urls = [\n",
    "        'https://sfap.org/annuaire?contact_sub_type=Structure&type_6%5B%5D=USP&type_6%5B%5D=LISP'\n",
    "    ]\n",
    "\n",
    "    # Callback function that will be called when starting your spider\n",
    "    def parse(self, response):\n",
    "        # retourne une liste de tous les éléments de classe \"quote\" \n",
    "        entrees = response.css('tbody tr')\n",
    "        for entree in entrees:\n",
    "            nom = entree.css('td.views-field-display-name a::text').get()\n",
    "            type = entree.css('td.views-field-type-6::text').get()\n",
    "            adresse = entree.css('td.views-field-street-address::text').get()\n",
    "            code_postal = entree.css('td.views-field-postal-code::text').get()\n",
    "            commune = entree.css('td.views-field-city::text').get()\n",
    "            telephone = entree.css('td.views-field-phone::text').get()\n",
    "            yield {\n",
    "                'nom': nom,\n",
    "                'type':type.strip('\\n').strip(),\n",
    "                'adresse':adresse.strip('\\n').strip(),\n",
    "                'code_postal':code_postal.strip('\\n').strip(),\n",
    "                'commune':commune.strip('\\n').strip(),\n",
    "                'telephone':telephone.strip('\\n').strip()\n",
    "            }\n",
    "        try:\n",
    "            next_page = response.css('li.pager-next a').attrib['href']\n",
    "        except:\n",
    "            logging.info(\"No next page\")\n",
    "        else:\n",
    "            yield response.follow(next_page, callback=self.parse)\n",
    "\n",
    "if le_fichier_existe==False:\n",
    "    filename = 'toutes_les_pages.json'\n",
    "\n",
    "    if filename in os.listdir(\"src/\"):\n",
    "        os.remove('src/'+filename)\n",
    "\n",
    "    process = CrawlerProcess(settings={\n",
    "        'USER_AGENT': 'Chrome/97.0',\n",
    "        'LOG_LEVEL': logging.INFO,\n",
    "        'FEEDS':{\n",
    "            'src/' + filename : {\"format\": \"json\", 'encoding': 'utf8'},\n",
    "            },\n",
    "        \"AUTOTHROTTLE_ENABLED\": True\n",
    "    }\n",
    "    )\n",
    "\n",
    "    #Lancer le crawler utilisant la spider\n",
    "    process.crawl(SFAPSpider)\n",
    "    process.start()"
   ]
  },
  {
   "cell_type": "markdown",
   "metadata": {},
   "source": [
    "ON VA SUR CHAQUE PAGE POUR RECUPERER DES INFOS SUPPLEMENTAIRES"
   ]
  },
  {
   "cell_type": "code",
   "execution_count": 83,
   "metadata": {},
   "outputs": [
    {
     "name": "stdout",
     "output_type": "stream",
     "text": [
      "le fichier existe\n"
     ]
    }
   ],
   "source": [
    "filename = 'toutes_les_pages_completes.json'\n",
    "\n",
    "if filename in os.listdir(\"src/\"):\n",
    "    le_fichier_existe = True\n",
    "    print(\"le fichier existe\")\n",
    "    df = pd.DataFrame(pd.read_json('src/'+filename), dtype='str')\n",
    "\n",
    "else:\n",
    "    print(\"Le fichier existe pas\")\n",
    "    le_fichier_existe = False"
   ]
  },
  {
   "cell_type": "markdown",
   "metadata": {},
   "source": [
    "SI LE FICHIER N'EXISTE PAS ON SCRAP LES INFOS POUR TOUS LES ETABLISSEMENTS (~ 6 MINUTES)"
   ]
  },
  {
   "cell_type": "code",
   "execution_count": 84,
   "metadata": {},
   "outputs": [],
   "source": [
    "class SFAPSpider(scrapy.Spider):\n",
    "    # Name of your spider\n",
    "    name = \"sfap\"\n",
    "\n",
    "    # Url to start your spider from\n",
    "    start_urls = [\n",
    "        'https://sfap.org/annuaire?contact_sub_type=Structure&type_6%5B%5D=USP&type_6%5B%5D=LISP'\n",
    "    ]\n",
    "\n",
    "    # Callback function that will be called when starting your spider\n",
    "    def parse(self, response):\n",
    "        # retourne une liste de tous les établissements\n",
    "        entrees = response.css('tbody tr')\n",
    "        for entree in entrees:\n",
    "            nom = entree.css('td.views-field-display-name a::text').get()\n",
    "            url = entree.css('td.views-field-display-name a').attrib['href']\n",
    "            type = entree.css('td.views-field-type-6::text').get()\n",
    "            adresse = entree.css('td.views-field-street-address::text').get()\n",
    "            code_postal = entree.css('td.views-field-postal-code::text').get()\n",
    "            commune = entree.css('td.views-field-city::text').get()\n",
    "            telephone = entree.css('td.views-field-phone::text').get()\n",
    "            infos= {\n",
    "                'nom': nom,\n",
    "                'type':type.strip('\\n').strip(),\n",
    "                'adresse':adresse.strip('\\n').strip(),\n",
    "                'code_postal':code_postal.strip('\\n').strip(),\n",
    "                'commune':commune.strip('\\n').strip(),\n",
    "                'telephone':telephone.strip('\\n').strip()\n",
    "            }\n",
    "\n",
    "            yield scrapy.Request(\"https://sfap.org\"+url, callback=self.details, cb_kwargs = {'infos':infos})\n",
    "                \n",
    "        try:\n",
    "            next_page = response.css('li.pager-next a').attrib['href']\n",
    "        except:\n",
    "            logging.info(\"No next page\")\n",
    "        else:\n",
    "            yield response.follow(next_page, callback=self.parse)\n",
    "\n",
    "    # ON VA SUR CHAQUE PAGE ET ON CHOPE TOUS LES CHAMPS\n",
    "    def details(self, response, infos):\n",
    "        lignes = response.css('div.form-item')\n",
    "        for ligne in lignes:\n",
    "            label  = ligne.xpath('./label//text()').get().strip()\n",
    "            if label in infos:\n",
    "                label = f\"{label}_2\"\n",
    "            valeur = ligne.xpath('./div//text()').get()\n",
    "            if valeur is None:\n",
    "                valeur = ligne.css('input::attr(value)').get()\n",
    "\n",
    "            update= {\n",
    "                label: valeur\n",
    "            }\n",
    "            infos.update(update)\n",
    "        yield infos\n",
    "\n",
    "\n",
    "if le_fichier_existe ==False:\n",
    "    filename = 'toutes_les_pages_completes.json'\n",
    "\n",
    "    if filename in os.listdir(\"src/\"):\n",
    "        os.remove('src/'+filename)\n",
    "\n",
    "\n",
    "    process = CrawlerProcess(settings={\n",
    "        'USER_AGENT': 'Chrome/97.0',\n",
    "        'LOG_LEVEL': logging.WARNING,\n",
    "        'FEEDS':{\n",
    "            'src/' + filename : {\"format\": \"json\", 'encoding': 'utf8'},\n",
    "            },\n",
    "        \"AUTOTHROTTLE_ENABLED\": True\n",
    "        }\n",
    "    )\n",
    "\n",
    "    #Lancer le crawler utilisant la spider\n",
    "    process.crawl(SFAPSpider)\n",
    "    process.start()"
   ]
  },
  {
   "cell_type": "markdown",
   "metadata": {},
   "source": [
    "ON CHARGE LE JSON DANS UN DATAFRAME"
   ]
  },
  {
   "cell_type": "code",
   "execution_count": 85,
   "metadata": {},
   "outputs": [],
   "source": [
    "# Open and read the JSON file\n",
    "with open('src/toutes_les_pages_completes.json', 'r') as file:\n",
    "    data = json.load(file)\n",
    "\n",
    "df = pd.DataFrame(data)"
   ]
  },
  {
   "cell_type": "markdown",
   "metadata": {},
   "source": [
    "ON FAIT UNE COPIE AU CAS OU"
   ]
  },
  {
   "cell_type": "code",
   "execution_count": 86,
   "metadata": {},
   "outputs": [],
   "source": [
    "df_backup = df"
   ]
  },
  {
   "cell_type": "markdown",
   "metadata": {},
   "source": [
    "AJOUT DES LATITUDES ET LONGITUDES DE CHAQUE ETABLISSEMENT"
   ]
  },
  {
   "cell_type": "code",
   "execution_count": 87,
   "metadata": {},
   "outputs": [
    {
     "name": "stdout",
     "output_type": "stream",
     "text": [
      "le fichier existe\n"
     ]
    }
   ],
   "source": [
    "filename = 'backup_infos_avec_coordonnees.csv'\n",
    "\n",
    "if filename in os.listdir(\"src/\"):\n",
    "    le_fichier_existe = True\n",
    "    print(\"le fichier existe\")\n",
    "    df = pd.DataFrame(pd.read_csv('src/'+filename), dtype='str')\n",
    "    df['lat'] = df['lat'].astype('float64')\n",
    "    df['lon'] = df['lon'].astype('float64')\n",
    "else:\n",
    "    print(\"Le fichier existe pas\")\n",
    "    le_fichier_existe = False"
   ]
  },
  {
   "cell_type": "markdown",
   "metadata": {},
   "source": [
    "SI LE FICHIER CSV N'EXISTE PAS ENCORE ON RECUPERE TOUTES LES COORDONNEES"
   ]
  },
  {
   "cell_type": "code",
   "execution_count": null,
   "metadata": {},
   "outputs": [],
   "source": [
    "\n",
    "if le_fichier_existe == False:\n",
    "    # RECUPERATION DES DONNEES POUR TOUTE LA LISTE DES VILLES\n",
    "    url = \"https://nominatim.openstreetmap.org/search?\"\n",
    "    headers = {'user_agent':'charles.mittempergher@gmail.com'}\n",
    "\n",
    "    lats = []\n",
    "    longs = []\n",
    "\n",
    "    for i in range(0,len(df)):\n",
    "        street = df.loc[i,'adresse']\n",
    "        postal_code = df.loc[i,'code_postal']\n",
    "        p = {'street':{street},'postalcode' : {postal_code},'country':'France', 'format':'json', 'limit':1, 'email':'charles@gmail.com'}\n",
    "        r = requests.get(url, headers=headers, params=p)\n",
    "\n",
    "        lat = None\n",
    "        lon = None\n",
    "        if len(r.json())>0:\n",
    "            \n",
    "            lats.append(r.json()[0]['lat'])\n",
    "            longs.append(r.json()[0]['lon'])\n",
    "        else:\n",
    "            lats.append(None)\n",
    "            longs.append(None)\n",
    "\n",
    "        print(f'{i}/{len(df)} ({round(i/len(df)*100,2)}%)')\n",
    "        print('*************************')\n",
    "\n",
    "    df.insert(loc=len(df.columns), column='lat', value=lats)\n",
    "    df.insert(loc=len(df.columns), column='lon', value=longs)\n",
    "    df['lat'] = df['lat'].astype('float64')\n",
    "    df['lon'] = df['lon'].astype('float64')\n",
    "\n",
    "    df.to_csv(\"src/backup_infos_avec_coordonnees.csv\", index=False)"
   ]
  },
  {
   "cell_type": "markdown",
   "metadata": {},
   "source": [
    "IL Y A UN CERTAIN NOMBRE D'ETABLISSEMENT POUR LESQUELS ON A PAS REUSSI A RECUPERER LA LOCALISATION AVEC L'ADRESSE\n"
   ]
  },
  {
   "cell_type": "code",
   "execution_count": 135,
   "metadata": {},
   "outputs": [],
   "source": [
    "\n",
    "df_no_loc = df[pd.isna(df['lat'])].reset_index(drop=True)"
   ]
  },
  {
   "cell_type": "code",
   "execution_count": null,
   "metadata": {},
   "outputs": [],
   "source": [
    "df_no_loc.head()"
   ]
  },
  {
   "cell_type": "code",
   "execution_count": 136,
   "metadata": {},
   "outputs": [
    {
     "name": "stdout",
     "output_type": "stream",
     "text": [
      "[]\n",
      "0/52 (0.0%)\n",
      "*************************\n",
      "[]\n",
      "1/52 (1.92%)\n",
      "*************************\n",
      "[{'place_id': 86792543, 'licence': 'Data © OpenStreetMap contributors, ODbL 1.0. http://osm.org/copyright', 'osm_type': 'way', 'osm_id': 761541832, 'lat': '46.5592671', 'lon': '0.381413611169113', 'class': 'landuse', 'type': 'residential', 'place_rank': 22, 'importance': 0.10673675364309146, 'addresstype': 'residential', 'name': \"Aire d'accueil des gens du voyage du CHU de Poitiers\", 'display_name': \"Aire d'accueil des gens du voyage du CHU de Poitiers, Poitiers, Vienne, Nouvelle-Aquitaine, France métropolitaine, 86000, France\", 'boundingbox': ['46.5590591', '46.5594078', '0.3811686', '0.3816081']}]\n",
      "2/52 (3.85%)\n",
      "*************************\n",
      "[]\n",
      "3/52 (5.77%)\n",
      "*************************\n",
      "[]\n",
      "4/52 (7.69%)\n",
      "*************************\n",
      "[]\n",
      "5/52 (9.62%)\n",
      "*************************\n",
      "[{'place_id': 78466142, 'licence': 'Data © OpenStreetMap contributors, ODbL 1.0. http://osm.org/copyright', 'osm_type': 'node', 'osm_id': 9004468627, 'lat': '44.1209126', 'lon': '4.6858137', 'class': 'place', 'type': 'neighbourhood', 'place_rank': 20, 'importance': 0.133395551232166, 'addresstype': 'neighbourhood', 'name': \"Chemin d'Avignon\", 'display_name': \"Chemin d'Avignon, Laudun-l'Ardoise, Nîmes, Gard, Occitanie, France métropolitaine, 30290, France\", 'boundingbox': ['44.1109126', '44.1309126', '4.6758137', '4.6958137']}]\n",
      "6/52 (11.54%)\n",
      "*************************\n",
      "[{'place_id': 75034681, 'licence': 'Data © OpenStreetMap contributors, ODbL 1.0. http://osm.org/copyright', 'osm_type': 'node', 'osm_id': 2464583118, 'lat': '43.9171572', 'lon': '5.047516', 'class': 'railway', 'type': 'stop', 'place_rank': 30, 'importance': 5.804760814827218e-05, 'addresstype': 'railway', 'name': \"L'Isle-sur-Sorgue - Fontaine-de-Vaucluse\", 'display_name': \"L'Isle-sur-Sorgue - Fontaine-de-Vaucluse, Chemin des 5 Cantons, Residence le Mistraou, L'Isle-sur-la-Sorgue, Avignon, Vaucluse, Provence-Alpes-Côte d'Azur, France métropolitaine, 84800, France\", 'boundingbox': ['43.9171072', '43.9172072', '5.0474660', '5.0475660']}]\n",
      "7/52 (13.46%)\n",
      "*************************\n",
      "[{'place_id': 88014878, 'licence': 'Data © OpenStreetMap contributors, ODbL 1.0. http://osm.org/copyright', 'osm_type': 'relation', 'osm_id': 6553470, 'lat': '48.72335695', 'lon': '2.6156711127263437', 'class': 'amenity', 'type': 'hospital', 'place_rank': 30, 'importance': 6.346456092159941e-05, 'addresstype': 'amenity', 'name': 'Hôpital Forcilles', 'display_name': 'Hôpital Forcilles, Route de Servon, Férolles-Attilly, Torcy, Seine-et-Marne, Île-de-France, France métropolitaine, 77150, France', 'boundingbox': ['48.7218030', '48.7250072', '2.6126296', '2.6183841']}]\n",
      "8/52 (15.38%)\n",
      "*************************\n",
      "[]\n",
      "9/52 (17.31%)\n",
      "*************************\n",
      "[{'place_id': 79492946, 'licence': 'Data © OpenStreetMap contributors, ODbL 1.0. http://osm.org/copyright', 'osm_type': 'way', 'osm_id': 1169684412, 'lat': '44.9793912808323', 'lon': '4.9953688796322435', 'class': 'highway', 'type': 'unclassified', 'place_rank': 26, 'importance': 0.05339987258716713, 'addresstype': 'road', 'name': 'Chemin de Tournus', 'display_name': 'Chemin de Tournus, Alixan, Valence, Drôme, Auvergne-Rhône-Alpes, France métropolitaine, 26300, France', 'boundingbox': ['44.9771656', '44.9826343', '4.9905376', '5.0002074']}]\n",
      "10/52 (19.23%)\n",
      "*************************\n",
      "[{'place_id': 79686049, 'licence': 'Data © OpenStreetMap contributors, ODbL 1.0. http://osm.org/copyright', 'osm_type': 'way', 'osm_id': 190274286, 'lat': '44.30231827788966', 'lon': '4.600651518995995', 'class': 'highway', 'type': 'residential', 'place_rank': 26, 'importance': 0.0533939246204318, 'addresstype': 'road', 'name': 'Chemin de Chambéry', 'display_name': \"Chemin de Chambéry, Saint-Just-d'Ardèche, Privas, Ardèche, Auvergne-Rhône-Alpes, France métropolitaine, 07700, France\", 'boundingbox': ['44.3013444', '44.3033478', '4.6006221', '4.6008423']}]\n",
      "11/52 (21.15%)\n",
      "*************************\n",
      "[{'place_id': 87571803, 'licence': 'Data © OpenStreetMap contributors, ODbL 1.0. http://osm.org/copyright', 'osm_type': 'way', 'osm_id': 564167051, 'lat': '48.36015555', 'lon': '0.35842639389065833', 'class': 'amenity', 'type': 'hospital', 'place_rank': 30, 'importance': 6.203936827644797e-05, 'addresstype': 'amenity', 'name': 'Centre Hospitalier intercommunal Alençon-Mamers', 'display_name': 'Centre Hospitalier intercommunal Alençon-Mamers, Route de Mêle-sur-Sarthe, La Dorie, Mamers, Sarthe, Pays de la Loire, France métropolitaine, 72600, France', 'boundingbox': ['48.3589366', '48.3615823', '0.3567184', '0.3607798']}]\n",
      "12/52 (23.08%)\n",
      "*************************\n",
      "[{'place_id': 80940716, 'licence': 'Data © OpenStreetMap contributors, ODbL 1.0. http://osm.org/copyright', 'osm_type': 'way', 'osm_id': 116991035, 'lat': '45.5428105', 'lon': '4.854596332278485', 'class': 'tourism', 'type': 'hotel', 'place_rank': 30, 'importance': 6.656366826881846e-05, 'addresstype': 'tourism', 'name': 'HECO Lyon Sud - Vienne', 'display_name': \"HECO Lyon Sud - Vienne, 19, Chemin des Mines, Lotissement d'Estressin, Vienne, Isère, Auvergne-Rhône-Alpes, France métropolitaine, 38200, France\", 'boundingbox': ['45.5427020', '45.5429210', '4.8544510', '4.8547420']}]\n",
      "13/52 (25.0%)\n",
      "*************************\n",
      "[{'place_id': 277910487, 'licence': 'Data © OpenStreetMap contributors, ODbL 1.0. http://osm.org/copyright', 'osm_type': 'way', 'osm_id': 103405247, 'lat': '16.078111610591282', 'lon': '-61.75801462133215', 'class': 'highway', 'type': 'unclassified', 'place_rank': 26, 'importance': 0.05338729762722206, 'addresstype': 'road', 'name': 'Chemin de Tarare', 'display_name': 'Chemin de Tarare, Tarare, Marigot, Vieux-Habitants, Basse-Terre, Guadeloupe, 97119, France', 'boundingbox': ['16.0730097', '16.0825872', '-61.7620119', '-61.7530302']}]\n",
      "14/52 (26.92%)\n",
      "*************************\n",
      "[{'place_id': 268928148, 'licence': 'Data © OpenStreetMap contributors, ODbL 1.0. http://osm.org/copyright', 'osm_type': 'way', 'osm_id': 551413279, 'lat': '43.37518955', 'lon': '-0.36361455503485907', 'class': 'landuse', 'type': 'residential', 'place_rank': 22, 'importance': 0.10673130464637215, 'addresstype': 'residential', 'name': 'Chemin de Pau', 'display_name': 'Chemin de Pau, Serres-Castet, Pau, Pyrénées-Atlantiques, Nouvelle-Aquitaine, France métropolitaine, 64121, France', 'boundingbox': ['43.3735694', '43.3765026', '-0.3651331', '-0.3619466']}]\n",
      "15/52 (28.85%)\n",
      "*************************\n",
      "[{'place_id': 268401181, 'licence': 'Data © OpenStreetMap contributors, ODbL 1.0. http://osm.org/copyright', 'osm_type': 'way', 'osm_id': 669416558, 'lat': '43.19565035', 'lon': '-0.6179605336832062', 'class': 'aeroway', 'type': 'helipad', 'place_rank': 30, 'importance': 6.632104982066099e-05, 'addresstype': 'aeroway', 'name': 'CH Oloron', 'display_name': 'CH Oloron, Cour Ambulances, Gare, Oloron-Sainte-Marie, Pyrénées-Atlantiques, Nouvelle-Aquitaine, France métropolitaine, 64400, France', 'boundingbox': ['43.1955359', '43.1957757', '-0.6181280', '-0.6178011']}]\n",
      "16/52 (30.77%)\n",
      "*************************\n",
      "[]\n",
      "17/52 (32.69%)\n",
      "*************************\n",
      "[{'place_id': 84289070, 'licence': 'Data © OpenStreetMap contributors, ODbL 1.0. http://osm.org/copyright', 'osm_type': 'node', 'osm_id': 9517443227, 'lat': '47.5540885', 'lon': '7.5942299', 'class': 'tourism', 'type': 'artwork', 'place_rank': 30, 'importance': 7.607461661702933e-05, 'addresstype': 'tourism', 'name': 'Bürger von Calais', 'display_name': 'Bürger von Calais, St. Alban-Graben, Vorstädte, Grossbasel, Basel, Basel-Stadt, 4010, Schweiz/Suisse/Svizzera/Svizra', 'boundingbox': ['47.5540385', '47.5541385', '7.5941799', '7.5942799']}]\n",
      "18/52 (34.62%)\n",
      "*************************\n",
      "[]\n",
      "19/52 (36.54%)\n",
      "*************************\n",
      "[]\n",
      "20/52 (38.46%)\n",
      "*************************\n",
      "[{'place_id': 93796088, 'licence': 'Data © OpenStreetMap contributors, ODbL 1.0. http://osm.org/copyright', 'osm_type': 'way', 'osm_id': 108237980, 'lat': '50.12272935964834', 'lon': '3.4769722142155293', 'class': 'highway', 'type': 'unclassified', 'place_rank': 26, 'importance': 0.3487193345472996, 'addresstype': 'road', 'name': 'Chemin Communal de Valenciennes à Saint-Quentin', 'display_name': 'Chemin Communal de Valenciennes à Saint-Quentin, Inchy, Cambrai, Nord, Hauts-de-France, France métropolitaine, 59540, France', 'boundingbox': ['50.1188783', '50.1266908', '3.4763848', '3.4778394']}]\n",
      "21/52 (40.38%)\n",
      "*************************\n",
      "[]\n",
      "22/52 (42.31%)\n",
      "*************************\n",
      "[]\n",
      "23/52 (44.23%)\n",
      "*************************\n",
      "[{'place_id': 347464389, 'licence': 'Data © OpenStreetMap contributors, ODbL 1.0. http://osm.org/copyright', 'osm_type': 'way', 'osm_id': 713913725, 'lat': '48.4150125', 'lon': '-71.05424187202698', 'class': 'building', 'type': 'yes', 'place_rank': 30, 'importance': 5.924696726935252e-05, 'addresstype': 'building', 'name': 'Polyclinique du Saguenay', 'display_name': \"Polyclinique du Saguenay, Boulevard de l'Université, Université du Québec à Chicoutimi (UQAC), Arrondissement de Chicoutimi, Saguenay, Saguenay–Lac-Saint-Jean, Québec, G7H 4B4, Canada\", 'boundingbox': ['48.4146831', '48.4153622', '-71.0545597', '-71.0538958']}]\n",
      "24/52 (46.15%)\n",
      "*************************\n",
      "[]\n",
      "25/52 (48.08%)\n",
      "*************************\n",
      "[]\n",
      "26/52 (50.0%)\n",
      "*************************\n",
      "[{'place_id': 267528329, 'licence': 'Data © OpenStreetMap contributors, ODbL 1.0. http://osm.org/copyright', 'osm_type': 'way', 'osm_id': 564157904, 'lat': '47.483564799999996', 'lon': '-0.5565212255415586', 'class': 'amenity', 'type': 'hospital', 'place_rank': 30, 'importance': 0.3013600881347566, 'addresstype': 'amenity', 'name': \"CHU d'Angers\", 'display_name': \"CHU d'Angers, Rue Larrey, Hauts de Saint-Aubin, Angers, Maine-et-Loire, Pays de la Loire, France métropolitaine, 49100, France\", 'boundingbox': ['47.4795157', '47.4875878', '-0.5617753', '-0.5524237']}]\n",
      "27/52 (51.92%)\n",
      "*************************\n",
      "[{'place_id': 267528329, 'licence': 'Data © OpenStreetMap contributors, ODbL 1.0. http://osm.org/copyright', 'osm_type': 'way', 'osm_id': 564157904, 'lat': '47.483564799999996', 'lon': '-0.5565212255415586', 'class': 'amenity', 'type': 'hospital', 'place_rank': 30, 'importance': 0.3013600881347566, 'addresstype': 'amenity', 'name': \"CHU d'Angers\", 'display_name': \"CHU d'Angers, Rue Larrey, Hauts de Saint-Aubin, Angers, Maine-et-Loire, Pays de la Loire, France métropolitaine, 49100, France\", 'boundingbox': ['47.4795157', '47.4875878', '-0.5617753', '-0.5524237']}]\n",
      "28/52 (53.85%)\n",
      "*************************\n",
      "[]\n",
      "29/52 (55.77%)\n",
      "*************************\n",
      "[]\n",
      "30/52 (57.69%)\n",
      "*************************\n",
      "[{'place_id': 86745010, 'licence': 'Data © OpenStreetMap contributors, ODbL 1.0. http://osm.org/copyright', 'osm_type': 'way', 'osm_id': 638354499, 'lat': '47.33587315', 'lon': '0.6892065015749753', 'class': 'amenity', 'type': 'clinic', 'place_rank': 30, 'importance': 6.0125886930602236e-05, 'addresstype': 'amenity', 'name': 'Pôle Santé Léonard de Vinci', 'display_name': 'Pôle Santé Léonard de Vinci, Boulevard Alexandre Minkovski, La Vollière, Les Touches, Chambray-lès-Tours, Tours, Indre-et-Loire, Centre-Val de Loire, France métropolitaine, 37170, France', 'boundingbox': ['47.3350193', '47.3367035', '0.6883659', '0.6904584']}]\n",
      "31/52 (59.62%)\n",
      "*************************\n",
      "[{'place_id': 80513576, 'licence': 'Data © OpenStreetMap contributors, ODbL 1.0. http://osm.org/copyright', 'osm_type': 'way', 'osm_id': 192751625, 'lat': '44.709625', 'lon': '6.089838159574467', 'class': 'amenity', 'type': 'place_of_worship', 'place_rank': 30, 'importance': 0.14849832320947157, 'addresstype': 'amenity', 'name': 'Chapelle Saint-Grégoire', 'display_name': \"Chapelle Saint-Grégoire, Chemin de l'Auberie, L'Aubérie, Bénévent-et-Charbillac, Saint-Bonnet-en-Champsaur, Gap, Hautes-Alpes, Provence-Alpes-Côte d'Azur, France métropolitaine, 05500, France\", 'boundingbox': ['44.7095930', '44.7096570', '6.0897810', '6.0898950']}]\n",
      "32/52 (61.54%)\n",
      "*************************\n",
      "[]\n",
      "33/52 (63.46%)\n",
      "*************************\n",
      "[{'place_id': 89636149, 'licence': 'Data © OpenStreetMap contributors, ODbL 1.0. http://osm.org/copyright', 'osm_type': 'way', 'osm_id': 66392631, 'lat': '48.9078698', 'lon': '2.241839128954908', 'class': 'amenity', 'type': 'hospital', 'place_rank': 30, 'importance': 6.103074692907633e-05, 'addresstype': 'amenity', 'name': 'Clinique Lambert', 'display_name': 'Clinique Lambert, Avenue Foch, La Garenne-Colombes, Nanterre, Hauts-de-Seine, Île-de-France, France métropolitaine, 92250, France', 'boundingbox': ['48.9076621', '48.9080578', '2.2416867', '2.2421765']}]\n",
      "34/52 (65.38%)\n",
      "*************************\n",
      "[]\n",
      "35/52 (67.31%)\n",
      "*************************\n",
      "[{'place_id': 80999973, 'licence': 'Data © OpenStreetMap contributors, ODbL 1.0. http://osm.org/copyright', 'osm_type': 'way', 'osm_id': 78658055, 'lat': '45.9465309', 'lon': '6.719583418852459', 'class': 'building', 'type': 'yes', 'place_rank': 30, 'importance': 5.990768291747948e-05, 'addresstype': 'building', 'name': 'Centre médical spécialisé Praz-Coutant', 'display_name': 'Centre médical spécialisé Praz-Coutant, Chemin de Praz à Martel, Praz Coutant, Passy, Bonneville, Haute-Savoie, Auvergne-Rhône-Alpes, France métropolitaine, 74480, France', 'boundingbox': ['45.9462177', '45.9468432', '6.7182874', '6.7201570']}]\n",
      "36/52 (69.23%)\n",
      "*************************\n",
      "[]\n",
      "37/52 (71.15%)\n",
      "*************************\n",
      "[{'place_id': 78259406, 'licence': 'Data © OpenStreetMap contributors, ODbL 1.0. http://osm.org/copyright', 'osm_type': 'node', 'osm_id': 6012336985, 'lat': '43.4193088', 'lon': '1.3949973', 'class': 'amenity', 'type': 'clinic', 'place_rank': 30, 'importance': 6.445944914926402e-05, 'addresstype': 'amenity', 'name': 'Clinique de Lagardelle', 'display_name': 'Clinique de Lagardelle, Chemin du Pradalot, Lotissement de la Fontanasse, Lagardelle-sur-Lèze, Muret, Haute-Garonne, Occitanie, France métropolitaine, 31870, France', 'boundingbox': ['43.4192588', '43.4193588', '1.3949473', '1.3950473']}]\n",
      "38/52 (73.08%)\n",
      "*************************\n",
      "[]\n",
      "39/52 (75.0%)\n",
      "*************************\n",
      "[{'place_id': 84352079, 'licence': 'Data © OpenStreetMap contributors, ODbL 1.0. http://osm.org/copyright', 'osm_type': 'node', 'osm_id': 991955306, 'lat': '47.6444147', 'lon': '6.8497895', 'class': 'highway', 'type': 'bus_stop', 'place_rank': 30, 'importance': 6.648126955057629e-05, 'addresstype': 'highway', 'name': 'Mulhouse', 'display_name': 'Mulhouse, Rue de Mulhouse, Centre Ville - faubourg de Montbéliard, Belfort, Territoire-de-Belfort, Bourgogne-Franche-Comté, France métropolitaine, 90000, France', 'boundingbox': ['47.6443647', '47.6444647', '6.8497395', '6.8498395']}]\n",
      "40/52 (76.92%)\n",
      "*************************\n",
      "[{'place_id': 268868965, 'licence': 'Data © OpenStreetMap contributors, ODbL 1.0. http://osm.org/copyright', 'osm_type': 'node', 'osm_id': 12260605401, 'lat': '44.5863341', 'lon': '-0.0377914', 'class': 'amenity', 'type': 'hospital', 'place_rank': 30, 'importance': 6.436179140912517e-05, 'addresstype': 'amenity', 'name': 'Centre Hospitalier Sud Gironde', 'display_name': 'Centre Hospitalier Sud Gironde, 37, Chemin de Ronde, La Réole, Langon, Gironde, Nouvelle-Aquitaine, France métropolitaine, 33190, France', 'boundingbox': ['44.5862841', '44.5863841', '-0.0378414', '-0.0377414']}]\n",
      "41/52 (78.85%)\n",
      "*************************\n",
      "[{'place_id': 75456070, 'licence': 'Data © OpenStreetMap contributors, ODbL 1.0. http://osm.org/copyright', 'osm_type': 'node', 'osm_id': 6751360212, 'lat': '43.8233417', 'lon': '4.3237603', 'class': 'highway', 'type': 'bus_stop', 'place_rank': 30, 'importance': 7.030670634007809e-05, 'addresstype': 'highway', 'name': 'CHU Carémeau', 'display_name': 'CHU Carémeau, Rue du Professeur Henri Pujol, Valdegour, Nîmes, Gard, Occitanie, France métropolitaine, 30907, France', 'boundingbox': ['43.8232917', '43.8233917', '4.3237103', '4.3238103']}]\n",
      "42/52 (80.77%)\n",
      "*************************\n",
      "[{'place_id': 265884475, 'licence': 'Data © OpenStreetMap contributors, ODbL 1.0. http://osm.org/copyright', 'osm_type': 'way', 'osm_id': 49449795, 'lat': '47.863161832798596', 'lon': '-3.504581187380123', 'class': 'highway', 'type': 'residential', 'place_rank': 26, 'importance': 0.053393988708323764, 'addresstype': 'road', 'name': 'Chemin de Cornouaille', 'display_name': \"Chemin de Cornouaille, L'Hopital Percé, Kerjules, Rédené, Quimper, Finistère, Bretagne, France métropolitaine, 29300, France\", 'boundingbox': ['47.8626195', '47.8637074', '-3.5051311', '-3.5040345']}]\n",
      "43/52 (82.69%)\n",
      "*************************\n",
      "[{'place_id': 83868097, 'licence': 'Data © OpenStreetMap contributors, ODbL 1.0. http://osm.org/copyright', 'osm_type': 'node', 'osm_id': 2334120314, 'lat': '46.528867', 'lon': '6.614853', 'class': 'amenity', 'type': 'restaurant', 'place_rank': 30, 'importance': 7.429846646825387e-05, 'addresstype': 'amenity', 'name': 'Le Petit Ajaccio', 'display_name': \"Le Petit Ajaccio, Avenue d'Echallens, Lausanne, District de Lausanne, Vaud, 1004, Schweiz/Suisse/Svizzera/Svizra\", 'boundingbox': ['46.5288170', '46.5289170', '6.6148030', '6.6149030']}]\n",
      "44/52 (84.62%)\n",
      "*************************\n",
      "[{'place_id': 260873839, 'licence': 'Data © OpenStreetMap contributors, ODbL 1.0. http://osm.org/copyright', 'osm_type': 'way', 'osm_id': 52624919, 'lat': '49.1679704', 'lon': '-0.3450587327269335', 'class': 'amenity', 'type': 'hospital', 'place_rank': 30, 'importance': 7.24368657968569e-05, 'addresstype': 'amenity', 'name': 'Polyclinique du Parc', 'display_name': 'Polyclinique du Parc, 20, Avenue Capitaine Georges Guynemer, Claude Decaen, Caen, Calvados, Normandie, France métropolitaine, 14000, France', 'boundingbox': ['49.1671550', '49.1687883', '-0.3464889', '-0.3436761']}]\n",
      "45/52 (86.54%)\n",
      "*************************\n",
      "[{'place_id': 88941054, 'licence': 'Data © OpenStreetMap contributors, ODbL 1.0. http://osm.org/copyright', 'osm_type': 'way', 'osm_id': 30041687, 'lat': '48.78958425', 'lon': '2.3637046629341003', 'class': 'amenity', 'type': 'college', 'place_rank': 30, 'importance': 0.43599268008861497, 'addresstype': 'amenity', 'name': \"École française d'électronique et d'informatique\", 'display_name': \"École française d'électronique et d'informatique, 30-32, Avenue de la République, Villejuif, L'Haÿ-les-Roses, Val-de-Marne, Île-de-France, France métropolitaine, 94800, France\", 'boundingbox': ['48.7885677', '48.7903527', '2.3633667', '2.3640986']}]\n",
      "46/52 (88.46%)\n",
      "*************************\n",
      "[{'place_id': 109467073, 'licence': 'Data © OpenStreetMap contributors, ODbL 1.0. http://osm.org/copyright', 'osm_type': 'way', 'osm_id': 204907264, 'lat': '48.948943882446606', 'lon': '7.766208531031192', 'class': 'highway', 'type': 'residential', 'place_rank': 26, 'importance': 0.05339795147631033, 'addresstype': 'road', 'name': 'Chemin de Haguenau', 'display_name': 'Chemin de Haguenau, Gœrsdorf, Haguenau-Wissembourg, Bas-Rhin, Grand Est, France métropolitaine, 67360, France', 'boundingbox': ['48.9484472', '48.9494670', '7.7660768', '7.7662204']}]\n",
      "47/52 (90.38%)\n",
      "*************************\n",
      "[]\n",
      "48/52 (92.31%)\n",
      "*************************\n",
      "[{'place_id': 81700631, 'licence': 'Data © OpenStreetMap contributors, ODbL 1.0. http://osm.org/copyright', 'osm_type': 'node', 'osm_id': 2758744748, 'lat': '46.6990118', 'lon': '5.0833428', 'class': 'place', 'type': 'hamlet', 'place_rank': 20, 'importance': 0.13339695963988707, 'addresstype': 'hamlet', 'name': 'Narbonne', 'display_name': 'Narbonne, Saint-Étienne-en-Bresse, Louhans, Saône-et-Loire, Bourgogne-Franche-Comté, France métropolitaine, 71370, France', 'boundingbox': ['46.6790118', '46.7190118', '5.0633428', '5.1033428']}]\n",
      "49/52 (94.23%)\n",
      "*************************\n",
      "[{'place_id': 74963028, 'licence': 'Data © OpenStreetMap contributors, ODbL 1.0. http://osm.org/copyright', 'osm_type': 'way', 'osm_id': 700483391, 'lat': '43.66118125', 'lon': '7.137170894671457', 'class': 'amenity', 'type': 'hospital', 'place_rank': 30, 'importance': 6.112382696264618e-05, 'addresstype': 'amenity', 'name': 'Polyclinique Saint-Jean', 'display_name': \"Polyclinique Saint-Jean, Avenue des Acacias, Haut-de-Cagnes, Cagnes-sur-Mer, Grasse, Alpes-Maritimes, Provence-Alpes-Côte d'Azur, France métropolitaine, 06800, France\", 'boundingbox': ['43.6606463', '43.6615600', '7.1358562', '7.1382881']}]\n",
      "50/52 (96.15%)\n",
      "*************************\n",
      "[{'place_id': 87955937, 'licence': 'Data © OpenStreetMap contributors, ODbL 1.0. http://osm.org/copyright', 'osm_type': 'way', 'osm_id': 937749991, 'lat': '48.998229699999996', 'lon': '3.263904173149653', 'class': 'amenity', 'type': 'hospital', 'place_rank': 30, 'importance': 6.601281757834772e-05, 'addresstype': 'amenity', 'name': 'Hôpital de Villiers-Saint-Denis', 'display_name': 'Hôpital de Villiers-Saint-Denis, Route de Bézu, Villiers-Saint-Denis, Château-Thierry, Aisne, Hauts-de-France, France métropolitaine, 02310, France', 'boundingbox': ['48.9945888', '49.0018158', '3.2589827', '3.2686329']}]\n",
      "51/52 (98.08%)\n",
      "*************************\n"
     ]
    }
   ],
   "source": [
    "# RECUPERATION DES DONNEES POUR TOUTE LA LISTE DES VILLES\n",
    "url = \"https://nominatim.openstreetmap.org/search?\"\n",
    "headers = {'user_agent':'charles.mittempergher@gmail.com'}\n",
    "\n",
    "lats = []\n",
    "longs = []\n",
    "\n",
    "for i in range(0,len(df_no_loc)):\n",
    "    street = df_no_loc.loc[i,'nom'].split(\" - \")[0]\n",
    "    postal_code = df_no_loc.loc[i,'code_postal']\n",
    "    p = {'q':{street}, 'format':'json', 'limit':1, 'email':'charles@gmail.com'}\n",
    "    r = requests.get(url, headers=headers, params=p)\n",
    "\n",
    "    lat = None\n",
    "    lon = None\n",
    "    print(r.json())\n",
    "    if len(r.json())>0:\n",
    "        \n",
    "        lats.append(r.json()[0]['lat'])\n",
    "        longs.append(r.json()[0]['lon'])\n",
    "    else:\n",
    "        lats.append(None)\n",
    "        longs.append(None)\n",
    "\n",
    "    print(f'{i}/{len(df_no_loc)} ({round(i/len(df_no_loc)*100,2)}%)')\n",
    "    print('*************************')\n",
    "\n",
    "df_no_loc.insert(loc=len(df_no_loc.columns), column='lat2', value=lats)\n",
    "df_no_loc.insert(loc=len(df_no_loc.columns), column='lon2', value=longs)\n",
    "df_no_loc['lat2'] = df_no_loc['lat2'].astype('float64')\n",
    "df_no_loc['lon2'] = df_no_loc['lon2'].astype('float64')\n",
    "\n",
    "df_no_loc.to_csv(\"src/backup_infos_avec_coordonnees_deuxieme_round.csv\", index=False)"
   ]
  },
  {
   "cell_type": "code",
   "execution_count": 139,
   "metadata": {},
   "outputs": [
    {
     "data": {
      "application/vnd.plotly.v1+json": {
       "config": {
        "plotlyServerURL": "https://plot.ly"
       },
       "data": [
        {
         "hovertemplate": "<b>%{hovertext}</b><br><br>type=USP<br>lat2=%{lat}<br>lon2=%{lon}<extra></extra>",
         "hovertext": [
          "CENTRE NATIONAL  MGEN LA VERRIÈRE - USP",
          "CHU DE POITIERS - ESPACE USP",
          "CH D'AVIGNON - USP",
          "HÔPITAL FORCILLES - FONDATION COGNACQ-JAY - USP",
          "HÔPITAUX UNIVERSITAIRES PARIS-SEINE SAINT DENIS - USP",
          "CH DE CHAMBÉRY - USP",
          "CH LYON SUD - USP",
          "CH DE PAU - USP",
          "HÔPITAL PRIVÉ ARRAS LES BONETTES - USP",
          "CH CALAIS - USP",
          "CH DU PAYS D'AVESNES - USP",
          "CH VALENCIENNES - USP",
          "CHU ANGERS - USP",
          "CHI  DES ALPES DU SUD - USP",
          "CHU DE TOULOUSE - USP",
          "GHRMSA - SITE EMILE MULLER - USP",
          "CHU CAREMEAU - USP",
          "CH AJACCIO - USP",
          "LA MAISON  -  LA VILLA IZOÏ - USP LD",
          "CH DE HAGUENAU - USP",
          "HÔPITAUX UNIVERSITAIRES DE STRASBOURG-USP"
         ],
         "lat": [
          null,
          46.5592671,
          44.1209126,
          48.72335695,
          null,
          44.30231827788966,
          45.5428105,
          43.37518955,
          null,
          47.5540885,
          null,
          50.12272935964834,
          47.483564799999996,
          null,
          null,
          null,
          43.8233417,
          46.528867,
          48.78958425,
          48.948943882446606,
          null
         ],
         "legendgroup": "USP",
         "lon": [
          null,
          0.381413611169113,
          4.6858137,
          2.6156711127263437,
          null,
          4.600651518995995,
          4.854596332278485,
          -0.36361455503485907,
          null,
          7.5942299,
          null,
          3.4769722142155293,
          -0.5565212255415586,
          null,
          null,
          null,
          4.3237603,
          6.614853,
          2.3637046629341003,
          7.766208531031192,
          null
         ],
         "marker": {
          "color": "#636efa"
         },
         "mode": "markers",
         "name": "USP",
         "showlegend": true,
         "subplot": "mapbox",
         "type": "scattermapbox"
        },
        {
         "hovertemplate": "<b>%{hovertext}</b><br><br>type=LISP<br>lat2=%{lat}<br>lon2=%{lon}<extra></extra>",
         "hovertext": [
          "HÔPITAL DU VAL DE MADON",
          "CHD LES OUDAIRIES - LISP",
          "CHD LES OUDAIRIES - LISP",
          "CHD LES OUDAIRIES - LISP",
          "CH DE L'ISLE SUR LA SORGUE ",
          "CH DE TOURNUS - LISP",
          "CHICAM",
          "CH DE TARARE - LISP",
          "CH OLORON SAINTE MARIE - LISP",
          "CLINIQUE TEISSIER - LISP",
          "HÔPITAL ROBERT SCHUMAN, GROUPE UNEOS",
          "CSSR KORN ER HOUET",
          "POLYCLINIQUE DE LA BAIE",
          "HÔPITAL LOCAL DE MORTAIN",
          "HÔPITAL LOCAL CARENTAN",
          "CHU ANGERS - LISP",
          "CR DE LUTTE CONTRE CANCER PAUL PAPIN",
          "CENTRE DE SOINS MEDICAUX ET DE READAPTION-LE BODIO - LISP",
          "PÔLE SANTÉ LÉONARD DE VINCI - LISP",
          "CHP ST GRÉGOIRE",
          "CHI REDON CARENTOIR",
          "CLINIQUE LAMBERT - LISP",
          "CENTRE MÉDICAL SPÉCIALISÉ DE PRAZ-COUTANT - LISP",
          "CLINIQUE DE LAGARDELLE - LISP",
          "CH DE MULHOUSE - LISP",
          "CH SUD GIRONDE - LISP",
          "CH DE CORNOUAILLE QUIMPER - LISP",
          "POLYCLINIQUE DU PARC",
          "CH NARBONNE - LISP",
          "POLYCLINIQUE SAINT JEAN",
          "HÔPITAL VILLIERS SAINT-DENIS"
         ],
         "lat": [
          null,
          null,
          null,
          null,
          43.9171572,
          44.9793912808323,
          48.36015555,
          16.078111610591282,
          43.19565035,
          null,
          null,
          null,
          48.4150125,
          null,
          null,
          47.483564799999996,
          null,
          null,
          47.33587315,
          44.709625,
          null,
          48.9078698,
          45.9465309,
          43.4193088,
          47.6444147,
          44.5863341,
          47.863161832798596,
          49.1679704,
          46.6990118,
          43.66118125,
          48.998229699999996
         ],
         "legendgroup": "LISP",
         "lon": [
          null,
          null,
          null,
          null,
          5.047516,
          4.9953688796322435,
          0.35842639389065833,
          -61.75801462133215,
          -0.6179605336832062,
          null,
          null,
          null,
          -71.05424187202698,
          null,
          null,
          -0.5565212255415586,
          null,
          null,
          0.6892065015749753,
          6.089838159574467,
          null,
          2.241839128954908,
          6.719583418852459,
          1.3949973,
          6.8497895,
          -0.0377914,
          -3.504581187380123,
          -0.3450587327269335,
          5.0833428,
          7.137170894671457,
          3.263904173149653
         ],
         "marker": {
          "color": "#EF553B"
         },
         "mode": "markers",
         "name": "LISP",
         "showlegend": true,
         "subplot": "mapbox",
         "type": "scattermapbox"
        }
       ],
       "layout": {
        "height": 700,
        "legend": {
         "title": {
          "text": "type"
         },
         "tracegroupgap": 0
        },
        "mapbox": {
         "center": {
          "lat": 45.53886028731896,
          "lon": -1.2389202287379932
         },
         "domain": {
          "x": [
           0,
           1
          ],
          "y": [
           0,
           1
          ]
         },
         "style": "open-street-map",
         "zoom": 4.5
        },
        "template": {
         "data": {
          "bar": [
           {
            "error_x": {
             "color": "#2a3f5f"
            },
            "error_y": {
             "color": "#2a3f5f"
            },
            "marker": {
             "line": {
              "color": "#E5ECF6",
              "width": 0.5
             },
             "pattern": {
              "fillmode": "overlay",
              "size": 10,
              "solidity": 0.2
             }
            },
            "type": "bar"
           }
          ],
          "barpolar": [
           {
            "marker": {
             "line": {
              "color": "#E5ECF6",
              "width": 0.5
             },
             "pattern": {
              "fillmode": "overlay",
              "size": 10,
              "solidity": 0.2
             }
            },
            "type": "barpolar"
           }
          ],
          "carpet": [
           {
            "aaxis": {
             "endlinecolor": "#2a3f5f",
             "gridcolor": "white",
             "linecolor": "white",
             "minorgridcolor": "white",
             "startlinecolor": "#2a3f5f"
            },
            "baxis": {
             "endlinecolor": "#2a3f5f",
             "gridcolor": "white",
             "linecolor": "white",
             "minorgridcolor": "white",
             "startlinecolor": "#2a3f5f"
            },
            "type": "carpet"
           }
          ],
          "choropleth": [
           {
            "colorbar": {
             "outlinewidth": 0,
             "ticks": ""
            },
            "type": "choropleth"
           }
          ],
          "contour": [
           {
            "colorbar": {
             "outlinewidth": 0,
             "ticks": ""
            },
            "colorscale": [
             [
              0,
              "#0d0887"
             ],
             [
              0.1111111111111111,
              "#46039f"
             ],
             [
              0.2222222222222222,
              "#7201a8"
             ],
             [
              0.3333333333333333,
              "#9c179e"
             ],
             [
              0.4444444444444444,
              "#bd3786"
             ],
             [
              0.5555555555555556,
              "#d8576b"
             ],
             [
              0.6666666666666666,
              "#ed7953"
             ],
             [
              0.7777777777777778,
              "#fb9f3a"
             ],
             [
              0.8888888888888888,
              "#fdca26"
             ],
             [
              1,
              "#f0f921"
             ]
            ],
            "type": "contour"
           }
          ],
          "contourcarpet": [
           {
            "colorbar": {
             "outlinewidth": 0,
             "ticks": ""
            },
            "type": "contourcarpet"
           }
          ],
          "heatmap": [
           {
            "colorbar": {
             "outlinewidth": 0,
             "ticks": ""
            },
            "colorscale": [
             [
              0,
              "#0d0887"
             ],
             [
              0.1111111111111111,
              "#46039f"
             ],
             [
              0.2222222222222222,
              "#7201a8"
             ],
             [
              0.3333333333333333,
              "#9c179e"
             ],
             [
              0.4444444444444444,
              "#bd3786"
             ],
             [
              0.5555555555555556,
              "#d8576b"
             ],
             [
              0.6666666666666666,
              "#ed7953"
             ],
             [
              0.7777777777777778,
              "#fb9f3a"
             ],
             [
              0.8888888888888888,
              "#fdca26"
             ],
             [
              1,
              "#f0f921"
             ]
            ],
            "type": "heatmap"
           }
          ],
          "heatmapgl": [
           {
            "colorbar": {
             "outlinewidth": 0,
             "ticks": ""
            },
            "colorscale": [
             [
              0,
              "#0d0887"
             ],
             [
              0.1111111111111111,
              "#46039f"
             ],
             [
              0.2222222222222222,
              "#7201a8"
             ],
             [
              0.3333333333333333,
              "#9c179e"
             ],
             [
              0.4444444444444444,
              "#bd3786"
             ],
             [
              0.5555555555555556,
              "#d8576b"
             ],
             [
              0.6666666666666666,
              "#ed7953"
             ],
             [
              0.7777777777777778,
              "#fb9f3a"
             ],
             [
              0.8888888888888888,
              "#fdca26"
             ],
             [
              1,
              "#f0f921"
             ]
            ],
            "type": "heatmapgl"
           }
          ],
          "histogram": [
           {
            "marker": {
             "pattern": {
              "fillmode": "overlay",
              "size": 10,
              "solidity": 0.2
             }
            },
            "type": "histogram"
           }
          ],
          "histogram2d": [
           {
            "colorbar": {
             "outlinewidth": 0,
             "ticks": ""
            },
            "colorscale": [
             [
              0,
              "#0d0887"
             ],
             [
              0.1111111111111111,
              "#46039f"
             ],
             [
              0.2222222222222222,
              "#7201a8"
             ],
             [
              0.3333333333333333,
              "#9c179e"
             ],
             [
              0.4444444444444444,
              "#bd3786"
             ],
             [
              0.5555555555555556,
              "#d8576b"
             ],
             [
              0.6666666666666666,
              "#ed7953"
             ],
             [
              0.7777777777777778,
              "#fb9f3a"
             ],
             [
              0.8888888888888888,
              "#fdca26"
             ],
             [
              1,
              "#f0f921"
             ]
            ],
            "type": "histogram2d"
           }
          ],
          "histogram2dcontour": [
           {
            "colorbar": {
             "outlinewidth": 0,
             "ticks": ""
            },
            "colorscale": [
             [
              0,
              "#0d0887"
             ],
             [
              0.1111111111111111,
              "#46039f"
             ],
             [
              0.2222222222222222,
              "#7201a8"
             ],
             [
              0.3333333333333333,
              "#9c179e"
             ],
             [
              0.4444444444444444,
              "#bd3786"
             ],
             [
              0.5555555555555556,
              "#d8576b"
             ],
             [
              0.6666666666666666,
              "#ed7953"
             ],
             [
              0.7777777777777778,
              "#fb9f3a"
             ],
             [
              0.8888888888888888,
              "#fdca26"
             ],
             [
              1,
              "#f0f921"
             ]
            ],
            "type": "histogram2dcontour"
           }
          ],
          "mesh3d": [
           {
            "colorbar": {
             "outlinewidth": 0,
             "ticks": ""
            },
            "type": "mesh3d"
           }
          ],
          "parcoords": [
           {
            "line": {
             "colorbar": {
              "outlinewidth": 0,
              "ticks": ""
             }
            },
            "type": "parcoords"
           }
          ],
          "pie": [
           {
            "automargin": true,
            "type": "pie"
           }
          ],
          "scatter": [
           {
            "fillpattern": {
             "fillmode": "overlay",
             "size": 10,
             "solidity": 0.2
            },
            "type": "scatter"
           }
          ],
          "scatter3d": [
           {
            "line": {
             "colorbar": {
              "outlinewidth": 0,
              "ticks": ""
             }
            },
            "marker": {
             "colorbar": {
              "outlinewidth": 0,
              "ticks": ""
             }
            },
            "type": "scatter3d"
           }
          ],
          "scattercarpet": [
           {
            "marker": {
             "colorbar": {
              "outlinewidth": 0,
              "ticks": ""
             }
            },
            "type": "scattercarpet"
           }
          ],
          "scattergeo": [
           {
            "marker": {
             "colorbar": {
              "outlinewidth": 0,
              "ticks": ""
             }
            },
            "type": "scattergeo"
           }
          ],
          "scattergl": [
           {
            "marker": {
             "colorbar": {
              "outlinewidth": 0,
              "ticks": ""
             }
            },
            "type": "scattergl"
           }
          ],
          "scattermapbox": [
           {
            "marker": {
             "colorbar": {
              "outlinewidth": 0,
              "ticks": ""
             }
            },
            "type": "scattermapbox"
           }
          ],
          "scatterpolar": [
           {
            "marker": {
             "colorbar": {
              "outlinewidth": 0,
              "ticks": ""
             }
            },
            "type": "scatterpolar"
           }
          ],
          "scatterpolargl": [
           {
            "marker": {
             "colorbar": {
              "outlinewidth": 0,
              "ticks": ""
             }
            },
            "type": "scatterpolargl"
           }
          ],
          "scatterternary": [
           {
            "marker": {
             "colorbar": {
              "outlinewidth": 0,
              "ticks": ""
             }
            },
            "type": "scatterternary"
           }
          ],
          "surface": [
           {
            "colorbar": {
             "outlinewidth": 0,
             "ticks": ""
            },
            "colorscale": [
             [
              0,
              "#0d0887"
             ],
             [
              0.1111111111111111,
              "#46039f"
             ],
             [
              0.2222222222222222,
              "#7201a8"
             ],
             [
              0.3333333333333333,
              "#9c179e"
             ],
             [
              0.4444444444444444,
              "#bd3786"
             ],
             [
              0.5555555555555556,
              "#d8576b"
             ],
             [
              0.6666666666666666,
              "#ed7953"
             ],
             [
              0.7777777777777778,
              "#fb9f3a"
             ],
             [
              0.8888888888888888,
              "#fdca26"
             ],
             [
              1,
              "#f0f921"
             ]
            ],
            "type": "surface"
           }
          ],
          "table": [
           {
            "cells": {
             "fill": {
              "color": "#EBF0F8"
             },
             "line": {
              "color": "white"
             }
            },
            "header": {
             "fill": {
              "color": "#C8D4E3"
             },
             "line": {
              "color": "white"
             }
            },
            "type": "table"
           }
          ]
         },
         "layout": {
          "annotationdefaults": {
           "arrowcolor": "#2a3f5f",
           "arrowhead": 0,
           "arrowwidth": 1
          },
          "autotypenumbers": "strict",
          "coloraxis": {
           "colorbar": {
            "outlinewidth": 0,
            "ticks": ""
           }
          },
          "colorscale": {
           "diverging": [
            [
             0,
             "#8e0152"
            ],
            [
             0.1,
             "#c51b7d"
            ],
            [
             0.2,
             "#de77ae"
            ],
            [
             0.3,
             "#f1b6da"
            ],
            [
             0.4,
             "#fde0ef"
            ],
            [
             0.5,
             "#f7f7f7"
            ],
            [
             0.6,
             "#e6f5d0"
            ],
            [
             0.7,
             "#b8e186"
            ],
            [
             0.8,
             "#7fbc41"
            ],
            [
             0.9,
             "#4d9221"
            ],
            [
             1,
             "#276419"
            ]
           ],
           "sequential": [
            [
             0,
             "#0d0887"
            ],
            [
             0.1111111111111111,
             "#46039f"
            ],
            [
             0.2222222222222222,
             "#7201a8"
            ],
            [
             0.3333333333333333,
             "#9c179e"
            ],
            [
             0.4444444444444444,
             "#bd3786"
            ],
            [
             0.5555555555555556,
             "#d8576b"
            ],
            [
             0.6666666666666666,
             "#ed7953"
            ],
            [
             0.7777777777777778,
             "#fb9f3a"
            ],
            [
             0.8888888888888888,
             "#fdca26"
            ],
            [
             1,
             "#f0f921"
            ]
           ],
           "sequentialminus": [
            [
             0,
             "#0d0887"
            ],
            [
             0.1111111111111111,
             "#46039f"
            ],
            [
             0.2222222222222222,
             "#7201a8"
            ],
            [
             0.3333333333333333,
             "#9c179e"
            ],
            [
             0.4444444444444444,
             "#bd3786"
            ],
            [
             0.5555555555555556,
             "#d8576b"
            ],
            [
             0.6666666666666666,
             "#ed7953"
            ],
            [
             0.7777777777777778,
             "#fb9f3a"
            ],
            [
             0.8888888888888888,
             "#fdca26"
            ],
            [
             1,
             "#f0f921"
            ]
           ]
          },
          "colorway": [
           "#636efa",
           "#EF553B",
           "#00cc96",
           "#ab63fa",
           "#FFA15A",
           "#19d3f3",
           "#FF6692",
           "#B6E880",
           "#FF97FF",
           "#FECB52"
          ],
          "font": {
           "color": "#2a3f5f"
          },
          "geo": {
           "bgcolor": "white",
           "lakecolor": "white",
           "landcolor": "#E5ECF6",
           "showlakes": true,
           "showland": true,
           "subunitcolor": "white"
          },
          "hoverlabel": {
           "align": "left"
          },
          "hovermode": "closest",
          "mapbox": {
           "style": "light"
          },
          "paper_bgcolor": "white",
          "plot_bgcolor": "#E5ECF6",
          "polar": {
           "angularaxis": {
            "gridcolor": "white",
            "linecolor": "white",
            "ticks": ""
           },
           "bgcolor": "#E5ECF6",
           "radialaxis": {
            "gridcolor": "white",
            "linecolor": "white",
            "ticks": ""
           }
          },
          "scene": {
           "xaxis": {
            "backgroundcolor": "#E5ECF6",
            "gridcolor": "white",
            "gridwidth": 2,
            "linecolor": "white",
            "showbackground": true,
            "ticks": "",
            "zerolinecolor": "white"
           },
           "yaxis": {
            "backgroundcolor": "#E5ECF6",
            "gridcolor": "white",
            "gridwidth": 2,
            "linecolor": "white",
            "showbackground": true,
            "ticks": "",
            "zerolinecolor": "white"
           },
           "zaxis": {
            "backgroundcolor": "#E5ECF6",
            "gridcolor": "white",
            "gridwidth": 2,
            "linecolor": "white",
            "showbackground": true,
            "ticks": "",
            "zerolinecolor": "white"
           }
          },
          "shapedefaults": {
           "line": {
            "color": "#2a3f5f"
           }
          },
          "ternary": {
           "aaxis": {
            "gridcolor": "white",
            "linecolor": "white",
            "ticks": ""
           },
           "baxis": {
            "gridcolor": "white",
            "linecolor": "white",
            "ticks": ""
           },
           "bgcolor": "#E5ECF6",
           "caxis": {
            "gridcolor": "white",
            "linecolor": "white",
            "ticks": ""
           }
          },
          "title": {
           "x": 0.05
          },
          "xaxis": {
           "automargin": true,
           "gridcolor": "white",
           "linecolor": "white",
           "ticks": "",
           "title": {
            "standoff": 15
           },
           "zerolinecolor": "white",
           "zerolinewidth": 2
          },
          "yaxis": {
           "automargin": true,
           "gridcolor": "white",
           "linecolor": "white",
           "ticks": "",
           "title": {
            "standoff": 15
           },
           "zerolinecolor": "white",
           "zerolinewidth": 2
          }
         }
        },
        "title": {
         "text": "Carte des lits SP",
         "x": 0.5
        }
       }
      }
     },
     "metadata": {},
     "output_type": "display_data"
    }
   ],
   "source": [
    "\n",
    "fig = px.scatter_mapbox(df_no_loc,lat=\"lat2\", lon=\"lon2\",  hover_name=\"nom\", height=700, color='type',\n",
    "mapbox_style=\"open-street-map\",title='Carte des lits SP',zoom=4.5,color_continuous_scale=[\"red\",\"orange\",\"yellowgreen\",\"green\"])\n",
    "fig.update_layout(title_x=0.5)\n",
    "fig.show()"
   ]
  },
  {
   "cell_type": "markdown",
   "metadata": {},
   "source": [
    "ON NETTOIE LES CHAMPS \"NOMBRE DE LITS\""
   ]
  },
  {
   "cell_type": "code",
   "execution_count": null,
   "metadata": {},
   "outputs": [],
   "source": [
    "df_no_loc"
   ]
  },
  {
   "cell_type": "code",
   "execution_count": 90,
   "metadata": {},
   "outputs": [],
   "source": [
    "df['Nombre des lits'] = df['Nombre des lits'].apply(lambda x: '0' if x==\"nan\" else x)\n",
    "df['Nombre des lits_2'] = df['Nombre des lits_2'].apply(lambda x: '0' if x==\"nan\" else x)"
   ]
  },
  {
   "cell_type": "code",
   "execution_count": 91,
   "metadata": {},
   "outputs": [],
   "source": [
    "df['Nombre des lits'] = df['Nombre des lits'].apply(lambda x: x.split('.')[0])\n",
    "df['Nombre des lits_2'] = df['Nombre des lits_2'].apply(lambda x: x.split('.')[0])"
   ]
  },
  {
   "cell_type": "code",
   "execution_count": 92,
   "metadata": {},
   "outputs": [],
   "source": [
    "df['Nombre des lits'] = df['Nombre des lits'].astype('int64')\n",
    "df['Nombre des lits_2'] = df['Nombre des lits_2'].astype('int64')"
   ]
  },
  {
   "cell_type": "markdown",
   "metadata": {},
   "source": [
    "ON CALCULE LE TOTAL DANS UNE NOUVELLE COLONNE"
   ]
  },
  {
   "cell_type": "code",
   "execution_count": 93,
   "metadata": {},
   "outputs": [],
   "source": [
    "df[\"total_lits\"] = df.apply(lambda x: x['Nombre des lits']+x['Nombre des lits_2'], axis=1)"
   ]
  },
  {
   "cell_type": "code",
   "execution_count": 94,
   "metadata": {},
   "outputs": [
    {
     "data": {
      "application/vnd.plotly.v1+json": {
       "config": {
        "plotlyServerURL": "https://plot.ly"
       },
       "data": [
        {
         "hovertemplate": "<b>%{hovertext}</b><br><br>total_lits=%{marker.size}<br>lat=%{lat}<br>lon=%{lon}<extra></extra>",
         "hovertext": [
          "CHI  DES ALPES DU SUD - USP",
          "CH GÉRONTOLOGIQUE LA FERE - USP",
          "HÔPITAL VILLIERS SAINT-DENIS",
          "CH GÉNÉRAL DE SOISSONS - USP",
          "CH DU NOUVION EN THIERARCHE - LISP",
          "CH LAON - LISP",
          "CH DE MONTPENSIER - USP",
          "CH PUBLIC D'HAUTEVILLE - LISP",
          "CLINIQUE MÉDICALE PLEIN CIEL - LISP",
          "CHU DE NICE - USP",
          "LA MAISON DE GARDANNE - USP",
          "CENTRE ROGER DUQUESNE - LISP",
          "CHI AIX PERTUIS - LISP",
          "POLYCLINIQUE MONTRÉAL - USP",
          "GH AUBE MARNE - USP",
          "CH TROYES - USP",
          "CH DU VAL D'ARIÈGE - LISP",
          "HÔPITAL LOCAL DONA VIERNA - EMSP",
          "CH DES VALS D'ARDÈCHE - USP",
          "CH ANTIBES-JUAN LES PINS - USP",
          "Hôpitaux de Grand Cognac USP",
          "CENTRE CLINICAL - LISP",
          "UNITÉ RÉGIONALE DE SP MAURICE ABIVEN - USP",
          "POLYCLINIQUE DU PARC",
          "CHU CAEN - LISP",
          "CH SALON DE PROVENCE - USP",
          "CENTRE GÉRONTOLOGIE ST THOMAS DE VILLENEUVE  - USP",
          "HÔPITAL DE LA TIMONE - USP",
          "HÔPITAL SAINT-JOSEPH - USP",
          "CLINIQUE SAINTE ELISABETH - USP",
          "CHU JEAN MINJOZ - USP",
          "CENTRE MÉDICAL LE CHÂTEAU DE BASSY - LISP",
          "CH JEAN LECLAIRE - LISP",
          "CHU PERIGUEUX - ESPACE USP",
          "POLYCLINIQUE FRANCHEVILLE",
          "CH  RENÉ PLEVEN - LISP",
          "CLINIQUE ARMORICAINE DE RADIOLOGIE - LISP",
          "CHU DIJON - USP - LA MIRANDIERE",
          "CLINIQUE DU GOLFE - LISP",
          "HÔPITAUX DU SUD CHARENTE",
          "CLINIQUE PASTEUR-SAINT-ESPRIT - USP",
          "CH DOUARNENEZ  MAURICE ABIVEN - USP",
          "CH DE LA RISLE - LISP",
          "CH VALENCE - USP",
          "CH GÉNÉRAL DE CREST - USP",
          "CHU CAREMEAU - USP",
          "CHRU BREST - SITE DE GUILERS - USP",
          "CLINIQUE KERLENA - LISP",
          "HOPITAUX DROME NORD",
          "HÔPITAL PRIVÉ DRÔME-ARDÈCHE",
          "CLINIQUE DE LAGARDELLE - LISP",
          "CLINIQUE DU CHÂTEAU DE VERNHES - LISP",
          "CLINIQUE MONIÉ - LISP",
          "DOMAINE DE LA CADÈNE",
          "CLINIQUE DE QUINT-FONSEGRIVES - LISP",
          "CLINIQUE PASTEUR - LISP",
          "HÔPITAL JOSEPH DUCUING - USP",
          "CHU DE TOULOUSE - USP",
          "CHU TOULOUSE - LISP",
          "INSTITUT CLAUDIUS REGAUD",
          "HOSPITALITE SAINT THOMAS DE VILLENEUVE - USP",
          "CH FOUGERES - USP",
          "CRLCC EUGÈNE MARQUIS - USP",
          "CHU - HÔPITAL SAINT ELOI - USP",
          "CLINIQUE MÉDICALE DU MAS DU ROCHET - USP",
          "SSR CHÂTEAUNEUF",
          "MAISON DE SANTÉ MARIE GALÈNE - ESPACE USP",
          "CH SUD GIRONDE - LISP",
          "INSTITUT BERGONIÉ",
          "CHU SAINT ANDRÉ - ESPACE USP",
          "POLYCLINIQUE DE BLOIS",
          "HÔPITAL ST SEVER",
          "CH YVES TOURAINE - LISP",
          "CENTRE MEDICAL ROCHEPLANE FOND. AUDAVIE - LISP",
          "CH LUCIEN HUSSEL - LISP",
          "CHU - CLINIQUE DE SOINS PALLIATIFS ET DE COORDINATION EN SOINS DE SUPPORT - USP",
          "CH DE LUYNES - USP",
          "PÔLE SANTÉ LÉONARD DE VINCI - LISP",
          "POLYCLINIQUE SAINT-LAURENT - USP",
          "CENTRE RÉGIONAL DE GÉRIATRIE - USP",
          "CH LOIRE VENDÉE OCÉAN - LISP",
          "CH LOIRE VENDÉE OCÉAN - LISP",
          "CENTRE CATHERINE DE SIENNE - LISP",
          "CENTRE DE SOINS MEDICAUX ET DE READAPTION-LE BODIO - LISP",
          "CH ANCENIS - LISP",
          "CH CHÂTEAUBRIANT - LISP",
          "CLINIQUE SAINT AUGUSTIN - LISP",
          "CHU  HOPITAL NORD - USP",
          "HOPITAL LOCAL ANTOINE MOREAU",
          "CH DE MONTRICHARD - LISP",
          "CH DE MENDE - LISP",
          "HÔPITAL LOCAL FUMEL",
          "CHICMT HÔPITAL DE TONNEINS - LISP",
          "CLINIQUE ESQUIROL SAINT HILAIRE - LISP",
          "CENTRE DE CONVALESCENCE LES SABLONS SSR-SAMEC - LISP",
          "ICO CENTRE RENÉ GAUDUCHEAU",
          "CH DE NANTES - USP",
          "HÔPITAL LOCAL CORCOUE",
          "CLINIQUE MUTUALISTE DE L'ESTUAIRE - LISP",
          "HÔPITAL LOCAL INTERCOMMUNAL DE LA PRESQU'ÎLE-LISP",
          "CH SÉBASTOPOL - USP",
          "HÔPITAL LOCAL VILLEDIEU",
          "HÔPITAL LOCAL CARENTAN",
          "POLYCLINIQUE DE LA BAIE",
          "HÔPITAL LOCAL DE SAINT -JAMES",
          "HÔPITAL LOCAL DE MORTAIN",
          "CR DE LUTTE CONTRE CANCER PAUL PAPIN",
          "CHU ANGERS - LISP",
          "CHU ANGERS - USP",
          "CH DE CHOLET - LISP",
          "CLINIQUE DES AUGUSTINES - USP",
          "CH BASSE VILAINE - LISP",
          "HOPITAL LOCAL DE JOSSELIN",
          "ASSOCIATION HOSPITALIÈRE DE JOEUF - LISP",
          "CH  ST NICOLAS DE PORT - LISP",
          "HÔPITAL SAINT-JULIEN CHU NANCY - USP",
          "HL DU SUD-OUEST MAYENNAIS",
          "HL ERNÉE",
          "CH HAUT ANJOU - LISP",
          "CH D'ARGONNE - LISP",
          "CENTRE OSCAR LAMBRET - USP",
          "POLYCLINIQUE DU BOIS - USP",
          "HOPITAL PIERRE BEREGOVOY - USP",
          "MAISON DE REPOS",
          "CENTRE DE MOYEN SÉJOUR-CONVALESCENCE - LISP",
          "CHR METZ-THIONVILLE - USP",
          "CLINIQUE OCÉANE - LISP",
          "CH DU FAOUET - LISP",
          "CH DE PORT LOUIS - LISP",
          "ÉTABLISSEMENT DE SANTÉ LE DIVIT - USP",
          "CH VALENCIENNES - USP",
          "POLYCLINIQUE VAUBAN - USP",
          "CH BAILLEUL - LISP",
          "CH TOURCOING - USP",
          "MAISON MÉDICALE JEAN XXIII - USP",
          "HÔPITAL MARITIME - USP",
          "GH DE LOOS-HAUBOURDIN - USP",
          "CH DE ROUBAIX - USP",
          "CHRU LILLE - USP",
          "CH SAINT-VINCENT DE PAUL - USP",
          "CH DE COMPIÈGNE-NOYON - USP",
          "GHPSO SITE DE SENLIS - USP",
          "CH BEAUVAIS - USP",
          "CLINIQUE SAINT ROCH - USP",
          "POLYCLINIQUE DE GRANDE SYNTHE - USP",
          "HÔPITAL LÉON SCHWARTZENBERG",
          "CHI DE WASQUEHAL - LISP",
          "CLINIQUE SAINT-ROCH - USP",
          "CH DU PAYS D'AVESNES - USP",
          "CLINIQUE TEISSIER - LISP",
          "CLINIQUE MARZET - LISP",
          "CENTRE D'HOSPITALISATION DE CHANAT - LISP",
          "CENTRE MÉDICAL DE CEYRAT",
          "CHU CLERMONT-FERRAND HÔPITAL NORD - USP",
          "AMÉLIE LOUTRE - USP",
          "SSR CH BAPAUME",
          "CLINIQUE ANNE D'ARTOIS",
          "CH DE LENS - USP",
          "CENTRE MCO  CÔTE D'OPALE - USP",
          "HÔPITAL PRIVÉ ARRAS LES BONETTES - USP",
          "CH DE MULHOUSE - LISP",
          "CH DE HAGUENAU - USP",
          "HOPITAL DE WISSEMBOURG",
          "HÔPITAUX UNIVERSITAIRES DE STRASBOURG-USP",
          "CLINIQUE DE LA TOUSSAINT - USP",
          "CH DE LANNEMEZAN - LISP",
          "CH BAGNERES - LISP",
          "CH LOURDES - LISP",
          "CENTRE MÉDICAL ANNIE ENIA - ESPACE USP",
          "CH DE PAU - USP",
          "HÔPITAL LOCAL DE LOUHANS",
          "HÔPITAL DE CLUNY",
          "CH MACON - USP",
          "CH LYON SUD - USP",
          "HÔPITAL EDOUARD HERRIOT - USP",
          "CH DE TARARE - LISP",
          "CLINIQUE DE RILLIEUX LYON NORD - LISP",
          "HÔPITAL PRIVÉ JEAN MERMOZ",
          "CENTRE DES MASSUES CRF - USP",
          "GHRMSA - SITE EMILE MULLER - USP",
          "HOPITAL GEORGES PIANTA",
          "CENTRE MÉDICAL SPÉCIALISÉ DE PRAZ-COUTANT - LISP",
          "HÔPITAL PRIVÉ MÉDIPOLE DE SAVOIE",
          "SSR ARC EN CIEL TRESSERVE - LISP",
          "CH D'AIX-LES-BAINS - LISP",
          "CH DE CHAMBÉRY - USP",
          "CH DE CHÂTEAU DU LOIR - LISP",
          "CENTRE MEDICAL GEORGES COULON - LISP",
          "CH SAINT CALAIS - LISP",
          "CLINIQUE VICTOR HUGO - LISP",
          "HÔPITAL JACQUES MONOD - USP",
          "CHU DE ROUEN - USP",
          "HÔPITAL JEAN JAURÈS - USP",
          "HÔPITAL BRETONNEAU - USP",
          "HÔPITAL SAINTE PERINE - USP",
          "HÔPITAL COGNACQ-JAY - USP",
          "MAISON MÉDICALE JEANNE GARNIER - USP",
          "HOPITAL SAINT ANTOINE",
          "G.H. DES DIACONESSES CROIX ST SIMON - USP",
          "CENTRE DE SOINS DE SUITE ET RÉADAPTATION LA MARTERAYE - LISP",
          "CENTRE BEAUSÉJOUR - LISP",
          "CHI CASTELSARRASIN MOISSAC - LISP",
          "CH CORBIE - LISP",
          "CH DE ROYE - LISP",
          "CHI DE LA BAIE DE SOMME - LISP",
          "HÔPITAL SAINT VICTOR - USP",
          "CH NORD DEUX-SÈVRES - LISP",
          "HÔPITAL LOCAL DE HOUDAN - USP",
          "CENTRE NATIONAL  MGEN LA VERRIÈRE - USP",
          "HÔPITAL FORCILLES - FONDATION COGNACQ-JAY - USP",
          "CENTRE LA CHIMOTAIE - LISP",
          "CHD SITE DE MONTAIGU - LISP",
          "HÔPITAL LOCAL LA CHÂTAIGNERAIE",
          "CLINIQUE SAINT CHARLES - LISP",
          "CH D'AVIGNON - USP",
          "CH DE L'ISLE SUR LA SORGUE ",
          "CH DE VAISON LA ROMAINE - LISP",
          "INSTITUT SAINTE CATHERINE",
          "ETABLISSEMENT DE SANTÉ JEAN LACHENAUD",
          "CHI DE TOULON LA SEYNE - USP LES COLIBRIS",
          "HÔPITAL RAON - LISP",
          "CH JACQUES BOUTARD",
          "HÔPITAL DUPUYTREN - ESPACE USP",
          "CH DE MONTMORILLON - LISP",
          "CHU DE POITIERS - ESPACE USP",
          "CLINIQUE SAINT CHARLES - LISP",
          "CHD LES OUDAIRIES - LISP",
          "CHD LES OUDAIRIES - LISP",
          "CHD LES OUDAIRIES - LISP",
          "CHD LA ROCHE SUR YON - USP",
          "CENTRE RENÉ HUGUENIN - LISP",
          "AP-HP GEORGES CLÉMENCEAU - USP",
          "CENTRE MÉDICAL BLIGNY - USP",
          "CH DOURDAN - LISP",
          "CH D'ARPAJON - USP",
          "CH DES DEUX VALLÉES, SITE DE JUVISY SUR ORGE - USP",
          "GROUPE HOSPITALIER LES CHEMINOTS",
          "HÔPITAL DUPUYTREN -USP",
          "USSR CROIX-ROUGE FRANÇAISE MIGENNES",
          "HÔPITAL DU VAL DE MADON",
          "HÔPITAL CHENEVIER ALBERT - USP",
          "ETABLISSEMENT HOSPITALIER SAINTE-MARIE",
          "GH INTERCOMMUNAL LE RAINCY-MONTFERMEIL - USP",
          "HÔPITAUX UNIVERSITAIRES PARIS-SEINE SAINT DENIS - USP",
          "CLINIQUE DE L'ESTRÉE - LISP",
          "HÔPITAL CASANOVA - USP",
          "CMC FLORÉAL",
          "CH RIVES DE SEINE",
          "MAISON MÉDICALE NOTRE DAME DU LAC - USP",
          "CLINIQUE LAMBERT - LISP",
          "CLINIQUE CENTRE MÉDICO-SOCIAL - USP",
          "CLINIQUE SAINTE MARIE - LISP",
          "GROUPEMENT HOSPITALIER INTERCOMMUNAL DU VEXIN",
          "CH RENÉ DUBOS - USP",
          "HÔPITAL PRIVÉ NORD PARISIEN",
          "CH VICTOR DUPOUY - USP",
          "HÔPITAL PAUL BROUSSE - USP",
          "HÔPITAL EMILE ROUX -UNITÉ GÉRIATRIQUE",
          "HÔPITAL CHARLES FOIX - USP",
          "POLYCLINIQUE DE VILLENEUVE-ST-GEORGES",
          "CHR METZ-THIONVILLE - USP",
          "HÔPITAL LOCAL ALFRED BRARD",
          "CHR D'ORLÉANS - USP",
          "HÔPITAL DE LA MUSSE - USP",
          "CHD CASTELLUCCIO - LISP",
          "POLYCLINIQUE SAINT JEAN",
          "CLINIQUE SAINTE CLOTILDE - USP",
          "CH ANDRÉE ROSEMON - LISP",
          "CH ANDRÉE ROSEMON - SERV MEDECINE B - ISP",
          "CH ANDRÉE ROSEMON -  LISP",
          "CH LE VIGAN - LISP",
          "CH DE LA REGION DE SAINT OMER - USP",
          "PÔLE DE SANTÉ DE GUINGAMP - USP",
          "HOPITAL DE FREYMING MERLEBACH",
          "CH DE PONT A MOUSSON - LISP",
          "CH AJACCIO - USP",
          "CLINIQUE MÉDICALE DU PARC - LISP",
          "ETABLISSEMENT DE SANTÉ MGEN D'EVIAN",
          "HÔPITAL LOUIS PASTEUR - USP",
          "CH DE DOUAI - USP",
          "LA MAISON  -  LA VILLA IZOÏ - USP LD",
          "CH JEAN COULON - LISP",
          "CH DE BEDARIEUX - LISP",
          "CH DE LA RISLE - USP",
          "CHIC CASTRES ET MAZAMET - USP",
          "MAISON SAINT VINCENT VILLA CONCHA",
          "CLINIQUE DU CÈDRE - LISP",
          "GHCPO - LISP",
          "CH DE BOURG EN BRESSE - USP",
          "CH JACQUES MONOD - LISP",
          "CH DÉPARTEMENTAL - USP",
          "CH DE TOURNUS - LISP",
          "CH \"LA PALMOSA\" DE MENTON - LISP",
          "CH DE LA DRACENIE  -  DRAGUIGNAN - USP",
          "HOPITAL DE GRANDRIS HAUTE-AZERGUES",
          "CLINIQUE SAINT JEAN- ERMITAGE - LISP",
          "CH DES QUATRE VILLES - LISP",
          "CH MONT DE MARSAN - ESPACE USP",
          "CHG CONDOM - LISP",
          "KÉRAMPIR",
          "CENTRE HOSPITALIER D'IS-SUR-TILLE",
          "HOPITAL DE PROXIMITE DU PAYS DUNOIS",
          "CH DE SAINTONGE - USP",
          "HOPITAL CLARAC- CHUM - USP",
          "CLINIQUE DE VILLENEUVE D'ASCQ - LISP",
          "CLINIQUE TIVOLI DUCOS - LISP",
          "CH DE CORNOUAILLE QUIMPER - LISP",
          "CH AGEN - NERAC - USP ",
          "CH NIORT SUD - ESPACE USP",
          "CH DE ROMORANTIN - LISP",
          "CHI MEULAN LES MUREAUX - USP",
          "CH FALAISE - USP",
          "CH CALAIS - USP",
          "POLYCLINIQUE DE BORDEAUX CAUDERAN",
          "CH CARCASSONNE",
          "CSSR KORN ER HOUET",
          "HÔPITAL DU GIER",
          "CH MORTAGNE AU PERCHE",
          "CH DAX - COTE D'ARGENT - USP",
          "CLINIQUE CHARCOT - LISP",
          "CENTRE HOSPITALIER GEORGES CLAUDINON",
          "CHU ROUEN",
          "CLINIQUE MUTUALISTE DU MEDOC - LISP",
          "HOPITAL NORD FRANCHE COMTE - USP",
          "LES PRAZ DE L'ARVE - FONDATION ALIA",
          "CLINIQUE MUTUALISTE JEAN LEON - LISP",
          "CHU RENNES-USP",
          "HÔPITAL PRIVÉ DU VERT GALANT",
          "CH OLORON SAINTE MARIE - LISP",
          "CH DE CAHORS - LISP",
          "CENTRE HOSPITALIER REDON",
          "INSTITUT GODINOT",
          "CHI REDON CARENTOIR",
          "HOPITAL DEEPARTEMENTAL DUFRESNE SOMMEILLE",
          "INSTITUT HÉLIO MARIN",
          "CLINIQUE DU VAL DE LYS-LISP",
          "CH NARBONNE - LISP",
          "CH RODEZ - USP",
          "CLINIQUE DU PARC - LISP",
          "HOPITAL INTERCOMMUNAL DU PAYS DE RETZ-LISP",
          "CH JACQUES LACARIN",
          "CHP ST GRÉGOIRE",
          "CH ARDECHE MERIDIONALE",
          "HÔPITAL ROBERT SCHUMAN, GROUPE UNEOS",
          "CENTRE HOSPITALIER DE BLOIS",
          "JALMALV DEUIL",
          "HOPITAL MICHEL DUBETTIER",
          "CLINIQUE DES CEDRES",
          "CHICAM",
          "CENTRE MÉDICAL FRANÇOIS GALLOUÉDEC",
          "CH SAINT BRIEUC UN.O.P",
          "CHMS SITE D'AIX LES BAINS ",
          "FONDATION ILDYS SITE TY YANN",
          "CENTRE HOSPITALIER ARRAS",
          "CH DE FONTAINEBLEAU - USP",
          "SSR PIERRE CHEVALIER",
          "CSMR LE VALLESPIR",
          "CH EURE SEINE",
          "CLINIQUE SAINT DOMINIQUE",
          "CH EURE SEINE",
          "CH ST NAZAIRE-USP",
          "USP-CH Avranches Granville",
          "HPNL ELSAN",
          "CHICRDD",
          "CH DE SENS- USP",
          "UGECAM - CENTRE MÉDICAL L'EGREGORE",
          "CENTRE HOSPTIALIER DE NOGARO",
          "CLINIQUE SAINT GEORGE",
          "CH LOUIS RAFFALI",
          "CH AURILLAC- USP"
         ],
         "lat": [
          null,
          49.663249,
          null,
          48.5805759,
          50.01451245,
          50.6734728,
          46.3042248,
          45.97942462500372,
          43.6100952,
          43.7205704,
          43.44050073861982,
          43.524408,
          43.524408,
          43.2133023709742,
          49.25407498033583,
          48.956148,
          48.067429581800255,
          44.375749556921,
          42.6183384,
          43.45897256856438,
          45.55192817028632,
          45.638181312640526,
          49.192482,
          null,
          49.20328857594378,
          43.6402892,
          43.531978300000006,
          43.00569471892137,
          43.27629840913102,
          45.6158335012413,
          47.225588,
          45.03639365,
          44.89983845,
          45.1576632,
          45.181114,
          48.44649795,
          48.5097822,
          47.306692,
          41.91711104796049,
          45.347545100000005,
          48.4008789,
          45.7375866,
          49.348323,
          44.9128166,
          45.04443414143933,
          null,
          48.42401374597437,
          48.5156451,
          45.0418908,
          44.9008966,
          null,
          43.84165635,
          43.4058039,
          43.6571529,
          43.5817088,
          43.595245,
          47.066072,
          null,
          43.5992854,
          49.154852552887846,
          47.8403344,
          48.3589602,
          48.12113405,
          43.6295915,
          43.62546563437208,
          44.4673819633319,
          44.8470854,
          null,
          44.8235829,
          44.8335725,
          48.08921076556106,
          43.7573503,
          45.53878665,
          45.178265,
          45.5145472,
          45.1975811136419,
          47.4014777,
          null,
          47.84317930376232,
          45.77617905,
          46.9876811,
          46.9876811,
          47.1951135,
          null,
          47.3742697,
          47.72521416193338,
          47.2256759,
          42.6029532,
          48.17040849999999,
          47.7531834,
          45.148302,
          44.048305,
          44.393007586012615,
          44.1875803,
          47.9156796,
          45.63076682899681,
          45.63076682899681,
          46.9972811,
          47.26675815,
          47.32382192639973,
          49.26531605,
          48.842781,
          null,
          null,
          48.5714348042636,
          null,
          null,
          null,
          null,
          43.4909942,
          47.7183661,
          46.8212757,
          47.878237,
          49.22580707772261,
          48.634089905179856,
          48.6863621,
          47.79512847405255,
          48.7488581,
          47.827387,
          49.0927371029729,
          50.61401718173886,
          43.846980914657685,
          46.0238028,
          49.1171398436607,
          49.1770781,
          49.1117571,
          47.6797166,
          48.0269527,
          47.09981091072196,
          47.74648223900113,
          null,
          50.9722256,
          50.7373562,
          50.7032236,
          50.6524514,
          51.06459896768944,
          50.6127329,
          50.6806938,
          50.61420501159432,
          50.69090588459755,
          49.3840085,
          49.1958422010417,
          43.173362113145934,
          49.1746622,
          51.00950565,
          50.6495635,
          47.60796330048829,
          47.97056435850327,
          null,
          null,
          43.303723,
          45.8531307,
          45.7648483,
          45.842526287140274,
          49.8904461,
          50.2851433,
          50.430064,
          50.4387336,
          50.723425,
          null,
          null,
          null,
          49.04043736618805,
          null,
          48.5873249,
          43.18109329077913,
          48.736544,
          43.10009295,
          44.519417056478176,
          null,
          46.624208,
          46.43055116238899,
          46.31365457073611,
          null,
          45.7433967,
          null,
          45.8222093,
          45.7344632,
          45.7599404,
          null,
          46.3576238,
          null,
          45.544533274574114,
          45.678152441773975,
          45.69986715,
          null,
          49.6070328,
          47.8642532147631,
          48.0073142,
          47.9996468,
          49.4209972,
          49.4407753,
          48.88757185,
          48.8900884,
          48.84047165543545,
          48.8376822,
          48.8466349,
          48.84856235,
          48.8450929,
          45.8337004,
          43.11829259022688,
          44.0353174,
          49.914026,
          49.69652162576688,
          50.1877739,
          49.9044995,
          46.8321579,
          48.7928232,
          null,
          null,
          47.0474857,
          47.196675,
          46.7256862,
          46.65871915,
          null,
          null,
          44.1651309,
          43.927705,
          43.46332485,
          43.11068684329285,
          48.4021605,
          44.56167725,
          43.67556725,
          46.428719,
          null,
          47.1903375,
          null,
          null,
          null,
          46.6703664,
          48.8447941,
          48.6629445,
          47.99770894978882,
          48.53343469584111,
          48.8109212,
          47.260678,
          48.6633586,
          48.6518795,
          47.9637195,
          null,
          48.7886725,
          48.8477026,
          49.83926,
          null,
          48.9641165,
          48.9299166,
          48.8785104,
          48.90092123510354,
          48.8702561,
          null,
          15.997642272857146,
          49.07409215,
          49.0934329,
          49.0613152,
          47.9930346,
          48.9449689,
          48.779195,
          43.702057,
          48.805201,
          48.72108945,
          49.326567,
          48.0699290816581,
          47.8381875,
          49.01124897481568,
          41.96518455840583,
          null,
          -20.9027569,
          4.91270495,
          4.91270495,
          4.91270495,
          43.99238822045215,
          50.70167395971203,
          48.56926,
          -21.27233215,
          48.90581472362832,
          null,
          49.0419177,
          46.39924335,
          46.9783744,
          50.06156478124391,
          null,
          44.732836260501,
          43.61880455,
          49.348323,
          43.56614145,
          43.34936302111692,
          49.4636978,
          49.144795,
          46.224216,
          48.74676782007579,
          48.8943071,
          null,
          43.77555258437428,
          43.57315275355279,
          45.68942519342619,
          48.55449454897981,
          48.23308455554642,
          43.89478407811029,
          43.9556377,
          48.42652165,
          48.26213137363485,
          46.288757700000005,
          48.559304271540086,
          48.82074912066599,
          50.6533906,
          44.8569212,
          null,
          43.92665866326603,
          49.108758,
          47.3576182,
          48.0837485,
          48.89233553223737,
          null,
          44.8593239,
          44.058390102515546,
          null,
          45.4687063,
          48.5232908,
          43.33567215029976,
          45.7500796,
          14.609322252888829,
          49.46213767029854,
          45.5972735,
          47.5768283,
          45.93441,
          43.56083805,
          48.13827470504599,
          48.94201510331102,
          null,
          44.444733114445945,
          47.6536592,
          43.79292,
          null,
          46.13254348285167,
          43.592987034233886,
          50.724769,
          null,
          44.35990617539332,
          49.0419177,
          44.89784657733323,
          46.12473015645095,
          null,
          44.61528954648523,
          null,
          47.59867984395436,
          45.0555759,
          45.56766585008681,
          43.65881783745515,
          null,
          47.93992429741008,
          48.4927763,
          45.69986715,
          48.38953618149761,
          50.294731969596114,
          48.4116798,
          43.951621,
          42.51406972806927,
          49.0325584585672,
          43.72124113684824,
          49.0325584585672,
          45.6937539,
          48.8275422,
          48.7008637,
          45.24434721219422,
          48.4042134,
          43.82274311802958,
          43.7573116,
          43.7331845,
          43.82730873800076,
          44.9259219
         ],
         "legendgroup": "",
         "lon": [
          null,
          3.360378,
          null,
          7.6902886,
          3.7806943,
          3.200149,
          4.6024841,
          5.605382346579722,
          7.0122734,
          7.2723002,
          5.467409242803296,
          5.424628530686874,
          5.424628530686874,
          2.3249642247967053,
          6.17126560884711,
          4.360211,
          5.613563161400763,
          4.646922738561583,
          2.421683700067128,
          5.475862565060568,
          -0.1567295015105294,
          0.2025375089655194,
          -0.3257054904227801,
          null,
          -0.3605950874441566,
          5.1033256,
          5.459032344109339,
          9.40269268604528,
          5.393514108526525,
          -0.2306927576652469,
          5.959617,
          0.3390015865912757,
          1.1943917380875209,
          1.5454043,
          0.7171606,
          -2.0459219500000003,
          -2.7639055,
          5.1078308,
          8.733290392204106,
          -0.1948900914377828,
          -4.4888701,
          4.8855305,
          0.5155844309210527,
          4.9047134,
          5.05398786718043,
          null,
          -4.558749572074859,
          -4.0798039,
          5.021036240802894,
          4.8775197,
          null,
          1.521810973421571,
          1.7349035243878206,
          1.4249392,
          1.5213424604878014,
          1.4172426,
          5.410912,
          null,
          1.4366659,
          5.39062854066318,
          -1.6813583,
          -1.1944535,
          -1.6992424000000002,
          3.8613246,
          3.9066597570907526,
          -0.6289605421161125,
          -0.6070328,
          null,
          -0.5797963,
          -0.578226,
          7.282681747766341,
          -0.5713132,
          5.662968085551441,
          5.7616156,
          4.9161954,
          5.746037586958401,
          0.5544015,
          null,
          -1.6871056701070162,
          4.8121291500000005,
          -1.8026814869573529,
          -1.8026814869573529,
          -1.5472074,
          null,
          -1.1716492,
          -1.3846210592211945,
          -1.5591647,
          2.9692955,
          0.2361808486238502,
          7.4086047,
          4.1274557,
          1.0980024763326226,
          0.3022228933682055,
          0.6289675,
          2.0287558,
          0.153312558750504,
          0.153312558750504,
          -1.7350042,
          -2.2575029823813155,
          -2.4258331593692666,
          4.0486910156235165,
          -1.2217392,
          null,
          null,
          -1.2623773234846931,
          null,
          null,
          null,
          null,
          -1.4736134,
          -1.3701416,
          -1.649779,
          -3.9157382,
          6.01221454307588,
          6.301119137791818,
          6.1936343,
          -1.064109478849277,
          -0.0117174,
          -0.7001462,
          4.907775039781478,
          3.037702941282193,
          4.843392084486689,
          3.200050620287195,
          6.636841102369684,
          6.496202902197881,
          6.1916248,
          -2.7743172,
          -3.4884486,
          -1.301243052523592,
          -3.40883541031423,
          null,
          2.43369,
          2.7382196,
          3.2349639000000003,
          2.972985183524973,
          2.481262833258599,
          2.987215,
          3.1706837,
          3.035983519567526,
          3.187784339575093,
          2.7893605,
          2.5755737989463103,
          6.524233343590616,
          2.3920723,
          2.28711255,
          3.0150339,
          7.000798376709787,
          -4.084932787444416,
          null,
          null,
          -0.3649234,
          3.018219004644734,
          3.0787593,
          3.115852821530448,
          2.3035141,
          2.7805467,
          2.823349,
          2.8175228,
          1.644053,
          null,
          null,
          null,
          7.93289783183422,
          null,
          7.744956308972288,
          0.2481007841438977,
          7.056925,
          -0.0456196488463565,
          0.1225716314522966,
          null,
          5.230107,
          4.660544800595687,
          4.825817849390976,
          null,
          4.8799697,
          null,
          4.8869276,
          4.875879,
          4.7967299,
          null,
          6.480970700711131,
          null,
          5.971409763209672,
          5.900540116824216,
          5.90365295,
          null,
          0.2343604,
          0.4638491188831243,
          0.1876426,
          0.2003658,
          2.0851331,
          1.1077522,
          2.393182060334079,
          2.3312479,
          2.2632302568980696,
          2.2927383,
          2.2897169,
          2.3824304659985795,
          2.3922371,
          6.1461371,
          5.882898141476929,
          1.1126268,
          2.5140718,
          2.790179663199745,
          1.6328041,
          2.3169674,
          -0.3856301,
          1.6006283,
          null,
          null,
          -1.254472500245968,
          -1.5395532,
          -0.5894537,
          -1.41299945,
          null,
          null,
          4.8736116,
          4.8045,
          6.730785762315009,
          5.870744907244605,
          6.8478918154457205,
          2.253762492326768,
          7.206462948803304,
          0.8659605,
          null,
          -0.280195,
          null,
          null,
          null,
          -1.405326549440482,
          2.217725,
          2.556593063432841,
          3.616168475456075,
          2.001476423987029,
          2.3160843,
          5.999641,
          2.4229384,
          2.41784,
          3.511135,
          null,
          2.458564107271433,
          2.4356304,
          3.487555,
          null,
          2.270652,
          2.3610913,
          2.4311673,
          2.253262435887471,
          2.1830333,
          null,
          -61.73200445460438,
          2.0759666827610053,
          1.4858541,
          2.094179,
          3.6147398,
          2.2370543,
          2.010152,
          7.309772669780221,
          2.3942436,
          2.451642245099721,
          6.067826517016446,
          -3.198353524375842,
          1.9229172,
          1.1004243466237495,
          9.19647057055837,
          null,
          55.47740548765337,
          -52.28378105,
          -52.28378105,
          -52.28378105,
          3.61110031630273,
          2.2451557196424528,
          -3.144535,
          55.33568751764706,
          6.05122071303558,
          null,
          2.1094594,
          6.598093902497579,
          -2.2738722,
          3.142978235719025,
          null,
          1.3749581620594005,
          3.16115055,
          0.5155844309210527,
          2.262151515779642,
          -1.7689717003932308,
          1.1133778,
          2.2909344,
          5.2089734,
          -0.5431754324946797,
          8.1030546,
          null,
          7.473787414013489,
          6.494514515769025,
          4.362457366982479,
          2.641576337442244,
          1.9173964926614844,
          -0.4877459767328716,
          0.3779769,
          -4.519934800234092,
          4.07307378167301,
          4.305620443728244,
          7.710639867381629,
          7.786040919650186,
          3.1567444,
          -0.5887652,
          null,
          5.857736754700873,
          6.410012,
          1.7343137,
          1.3481846,
          -0.2030599037048864,
          null,
          -0.6248921,
          1.6709509685473074,
          null,
          4.5205157,
          0.5519388,
          3.2502080381632927,
          4.7974582,
          -61.070015161896094,
          1.1222194747384746,
          -0.0531046818181819,
          6.8725312,
          6.640059,
          4.091156913756199,
          -1.65916550375864,
          2.572192155293442,
          null,
          1.437128460211422,
          -2.0792806,
          4.824876,
          null,
          6.408439283821526,
          -1.4507952683888008,
          3.148042,
          null,
          2.55443147257122,
          2.1094594,
          6.638026962377753,
          3.4350758688316123,
          null,
          4.401114002284965,
          null,
          1.3401456057339476,
          4.8544733,
          6.153343388376255,
          1.312553333817716,
          null,
          0.3621989852057687,
          -2.7488794,
          5.90365295,
          -4.4404227136616425,
          2.7576083127656625,
          2.6958104,
          4.771335,
          2.8321919286228083,
          1.1180105192455698,
          7.26323929459437,
          1.1180105192455698,
          -0.319131,
          -1.5706736,
          6.140741,
          0.3421525431088875,
          2.4711981,
          4.277903509235209,
          -0.03176,
          7.277955630244399,
          5.807905217750304,
          2.4382953
         ],
         "marker": {
          "color": "#636efa",
          "size": [
           0,
           0,
           6,
           0,
           0,
           0,
           0,
           0,
           0,
           13,
           24,
           0,
           0,
           10,
           0,
           0,
           6,
           30,
           6,
           0,
           0,
           0,
           0,
           0,
           0,
           0,
           0,
           0,
           0,
           0,
           0,
           0,
           0,
           12,
           0,
           0,
           0,
           15,
           0,
           0,
           0,
           0,
           0,
           10,
           0,
           0,
           0,
           0,
           0,
           0,
           0,
           0,
           0,
           0,
           0,
           500,
           10,
           10,
           24,
           0,
           10,
           8,
           8,
           8,
           0,
           0,
           0,
           0,
           0,
           0,
           0,
           0,
           0,
           0,
           0,
           10,
           0,
           68,
           0,
           0,
           0,
           0,
           0,
           0,
           0,
           0,
           0,
           0,
           0,
           0,
           0,
           0,
           0,
           0,
           0,
           0,
           0,
           0,
           0,
           0,
           0,
           0,
           0,
           0,
           0,
           0,
           0,
           0,
           0,
           0,
           8,
           0,
           0,
           0,
           0,
           0,
           0,
           0,
           0,
           0,
           0,
           8,
           0,
           0,
           0,
           10,
           0,
           0,
           0,
           0,
           0,
           0,
           0,
           10,
           20,
           0,
           10,
           12,
           0,
           0,
           12,
           12,
           0,
           0,
           10,
           0,
           0,
           0,
           0,
           0,
           10,
           0,
           60,
           14,
           0,
           0,
           10,
           0,
           11,
           0,
           0,
           8,
           0,
           10,
           0,
           0,
           0,
           0,
           0,
           14,
           0,
           0,
           0,
           0,
           12,
           0,
           0,
           0,
           0,
           9,
           0,
           12,
           0,
           0,
           0,
           0,
           0,
           24,
           0,
           14,
           0,
           0,
           0,
           0,
           10,
           40,
           0,
           0,
           17,
           0,
           0,
           0,
           0,
           0,
           0,
           10,
           0,
           0,
           0,
           14,
           0,
           0,
           0,
           4,
           10,
           0,
           0,
           0,
           0,
           0,
           0,
           0,
           0,
           0,
           0,
           0,
           0,
           0,
           0,
           8,
           0,
           10,
           8,
           0,
           0,
           12,
           0,
           11,
           0,
           0,
           10,
           0,
           15,
           0,
           0,
           10,
           0,
           12,
           48,
           0,
           0,
           0,
           0,
           11,
           0,
           10,
           24,
           0,
           0,
           0,
           10,
           0,
           12,
           0,
           0,
           4,
           11,
           0,
           0,
           0,
           3,
           11,
           10,
           10,
           5,
           10,
           0,
           6,
           6,
           12,
           14,
           0,
           0,
           5,
           10,
           5,
           4,
           0,
           8,
           8,
           0,
           3,
           0,
           10,
           0,
           7,
           4,
           7,
           4,
           0,
           2,
           2,
           12,
           11,
           5,
           0,
           12,
           0,
           0,
           0,
           0,
           10,
           10,
           6,
           6,
           5,
           3,
           0,
           0,
           35,
           8,
           11,
           0,
           0,
           0,
           0,
           16,
           6,
           8,
           0,
           5,
           0,
           0,
           10,
           5,
           106,
           8,
           0,
           0,
           6,
           10,
           12,
           0,
           19,
           0,
           3,
           0,
           0,
           10,
           10,
           0,
           4,
           0,
           8,
           0,
           77,
           8,
           10,
           14,
           10,
           12,
           0,
           0,
           7,
           12,
           0,
           5,
           3,
           0,
           0
          ],
          "sizemode": "area",
          "sizeref": 1.25
         },
         "mode": "markers",
         "name": "",
         "showlegend": false,
         "subplot": "mapbox",
         "type": "scattermapbox"
        }
       ],
       "layout": {
        "height": 700,
        "legend": {
         "itemsizing": "constant",
         "tracegroupgap": 0
        },
        "mapbox": {
         "center": {
          "lat": 45.91201667064338,
          "lon": 1.920008196711269
         },
         "domain": {
          "x": [
           0,
           1
          ],
          "y": [
           0,
           1
          ]
         },
         "style": "open-street-map",
         "zoom": 4.5
        },
        "template": {
         "data": {
          "bar": [
           {
            "error_x": {
             "color": "#2a3f5f"
            },
            "error_y": {
             "color": "#2a3f5f"
            },
            "marker": {
             "line": {
              "color": "#E5ECF6",
              "width": 0.5
             },
             "pattern": {
              "fillmode": "overlay",
              "size": 10,
              "solidity": 0.2
             }
            },
            "type": "bar"
           }
          ],
          "barpolar": [
           {
            "marker": {
             "line": {
              "color": "#E5ECF6",
              "width": 0.5
             },
             "pattern": {
              "fillmode": "overlay",
              "size": 10,
              "solidity": 0.2
             }
            },
            "type": "barpolar"
           }
          ],
          "carpet": [
           {
            "aaxis": {
             "endlinecolor": "#2a3f5f",
             "gridcolor": "white",
             "linecolor": "white",
             "minorgridcolor": "white",
             "startlinecolor": "#2a3f5f"
            },
            "baxis": {
             "endlinecolor": "#2a3f5f",
             "gridcolor": "white",
             "linecolor": "white",
             "minorgridcolor": "white",
             "startlinecolor": "#2a3f5f"
            },
            "type": "carpet"
           }
          ],
          "choropleth": [
           {
            "colorbar": {
             "outlinewidth": 0,
             "ticks": ""
            },
            "type": "choropleth"
           }
          ],
          "contour": [
           {
            "colorbar": {
             "outlinewidth": 0,
             "ticks": ""
            },
            "colorscale": [
             [
              0,
              "#0d0887"
             ],
             [
              0.1111111111111111,
              "#46039f"
             ],
             [
              0.2222222222222222,
              "#7201a8"
             ],
             [
              0.3333333333333333,
              "#9c179e"
             ],
             [
              0.4444444444444444,
              "#bd3786"
             ],
             [
              0.5555555555555556,
              "#d8576b"
             ],
             [
              0.6666666666666666,
              "#ed7953"
             ],
             [
              0.7777777777777778,
              "#fb9f3a"
             ],
             [
              0.8888888888888888,
              "#fdca26"
             ],
             [
              1,
              "#f0f921"
             ]
            ],
            "type": "contour"
           }
          ],
          "contourcarpet": [
           {
            "colorbar": {
             "outlinewidth": 0,
             "ticks": ""
            },
            "type": "contourcarpet"
           }
          ],
          "heatmap": [
           {
            "colorbar": {
             "outlinewidth": 0,
             "ticks": ""
            },
            "colorscale": [
             [
              0,
              "#0d0887"
             ],
             [
              0.1111111111111111,
              "#46039f"
             ],
             [
              0.2222222222222222,
              "#7201a8"
             ],
             [
              0.3333333333333333,
              "#9c179e"
             ],
             [
              0.4444444444444444,
              "#bd3786"
             ],
             [
              0.5555555555555556,
              "#d8576b"
             ],
             [
              0.6666666666666666,
              "#ed7953"
             ],
             [
              0.7777777777777778,
              "#fb9f3a"
             ],
             [
              0.8888888888888888,
              "#fdca26"
             ],
             [
              1,
              "#f0f921"
             ]
            ],
            "type": "heatmap"
           }
          ],
          "heatmapgl": [
           {
            "colorbar": {
             "outlinewidth": 0,
             "ticks": ""
            },
            "colorscale": [
             [
              0,
              "#0d0887"
             ],
             [
              0.1111111111111111,
              "#46039f"
             ],
             [
              0.2222222222222222,
              "#7201a8"
             ],
             [
              0.3333333333333333,
              "#9c179e"
             ],
             [
              0.4444444444444444,
              "#bd3786"
             ],
             [
              0.5555555555555556,
              "#d8576b"
             ],
             [
              0.6666666666666666,
              "#ed7953"
             ],
             [
              0.7777777777777778,
              "#fb9f3a"
             ],
             [
              0.8888888888888888,
              "#fdca26"
             ],
             [
              1,
              "#f0f921"
             ]
            ],
            "type": "heatmapgl"
           }
          ],
          "histogram": [
           {
            "marker": {
             "pattern": {
              "fillmode": "overlay",
              "size": 10,
              "solidity": 0.2
             }
            },
            "type": "histogram"
           }
          ],
          "histogram2d": [
           {
            "colorbar": {
             "outlinewidth": 0,
             "ticks": ""
            },
            "colorscale": [
             [
              0,
              "#0d0887"
             ],
             [
              0.1111111111111111,
              "#46039f"
             ],
             [
              0.2222222222222222,
              "#7201a8"
             ],
             [
              0.3333333333333333,
              "#9c179e"
             ],
             [
              0.4444444444444444,
              "#bd3786"
             ],
             [
              0.5555555555555556,
              "#d8576b"
             ],
             [
              0.6666666666666666,
              "#ed7953"
             ],
             [
              0.7777777777777778,
              "#fb9f3a"
             ],
             [
              0.8888888888888888,
              "#fdca26"
             ],
             [
              1,
              "#f0f921"
             ]
            ],
            "type": "histogram2d"
           }
          ],
          "histogram2dcontour": [
           {
            "colorbar": {
             "outlinewidth": 0,
             "ticks": ""
            },
            "colorscale": [
             [
              0,
              "#0d0887"
             ],
             [
              0.1111111111111111,
              "#46039f"
             ],
             [
              0.2222222222222222,
              "#7201a8"
             ],
             [
              0.3333333333333333,
              "#9c179e"
             ],
             [
              0.4444444444444444,
              "#bd3786"
             ],
             [
              0.5555555555555556,
              "#d8576b"
             ],
             [
              0.6666666666666666,
              "#ed7953"
             ],
             [
              0.7777777777777778,
              "#fb9f3a"
             ],
             [
              0.8888888888888888,
              "#fdca26"
             ],
             [
              1,
              "#f0f921"
             ]
            ],
            "type": "histogram2dcontour"
           }
          ],
          "mesh3d": [
           {
            "colorbar": {
             "outlinewidth": 0,
             "ticks": ""
            },
            "type": "mesh3d"
           }
          ],
          "parcoords": [
           {
            "line": {
             "colorbar": {
              "outlinewidth": 0,
              "ticks": ""
             }
            },
            "type": "parcoords"
           }
          ],
          "pie": [
           {
            "automargin": true,
            "type": "pie"
           }
          ],
          "scatter": [
           {
            "fillpattern": {
             "fillmode": "overlay",
             "size": 10,
             "solidity": 0.2
            },
            "type": "scatter"
           }
          ],
          "scatter3d": [
           {
            "line": {
             "colorbar": {
              "outlinewidth": 0,
              "ticks": ""
             }
            },
            "marker": {
             "colorbar": {
              "outlinewidth": 0,
              "ticks": ""
             }
            },
            "type": "scatter3d"
           }
          ],
          "scattercarpet": [
           {
            "marker": {
             "colorbar": {
              "outlinewidth": 0,
              "ticks": ""
             }
            },
            "type": "scattercarpet"
           }
          ],
          "scattergeo": [
           {
            "marker": {
             "colorbar": {
              "outlinewidth": 0,
              "ticks": ""
             }
            },
            "type": "scattergeo"
           }
          ],
          "scattergl": [
           {
            "marker": {
             "colorbar": {
              "outlinewidth": 0,
              "ticks": ""
             }
            },
            "type": "scattergl"
           }
          ],
          "scattermapbox": [
           {
            "marker": {
             "colorbar": {
              "outlinewidth": 0,
              "ticks": ""
             }
            },
            "type": "scattermapbox"
           }
          ],
          "scatterpolar": [
           {
            "marker": {
             "colorbar": {
              "outlinewidth": 0,
              "ticks": ""
             }
            },
            "type": "scatterpolar"
           }
          ],
          "scatterpolargl": [
           {
            "marker": {
             "colorbar": {
              "outlinewidth": 0,
              "ticks": ""
             }
            },
            "type": "scatterpolargl"
           }
          ],
          "scatterternary": [
           {
            "marker": {
             "colorbar": {
              "outlinewidth": 0,
              "ticks": ""
             }
            },
            "type": "scatterternary"
           }
          ],
          "surface": [
           {
            "colorbar": {
             "outlinewidth": 0,
             "ticks": ""
            },
            "colorscale": [
             [
              0,
              "#0d0887"
             ],
             [
              0.1111111111111111,
              "#46039f"
             ],
             [
              0.2222222222222222,
              "#7201a8"
             ],
             [
              0.3333333333333333,
              "#9c179e"
             ],
             [
              0.4444444444444444,
              "#bd3786"
             ],
             [
              0.5555555555555556,
              "#d8576b"
             ],
             [
              0.6666666666666666,
              "#ed7953"
             ],
             [
              0.7777777777777778,
              "#fb9f3a"
             ],
             [
              0.8888888888888888,
              "#fdca26"
             ],
             [
              1,
              "#f0f921"
             ]
            ],
            "type": "surface"
           }
          ],
          "table": [
           {
            "cells": {
             "fill": {
              "color": "#EBF0F8"
             },
             "line": {
              "color": "white"
             }
            },
            "header": {
             "fill": {
              "color": "#C8D4E3"
             },
             "line": {
              "color": "white"
             }
            },
            "type": "table"
           }
          ]
         },
         "layout": {
          "annotationdefaults": {
           "arrowcolor": "#2a3f5f",
           "arrowhead": 0,
           "arrowwidth": 1
          },
          "autotypenumbers": "strict",
          "coloraxis": {
           "colorbar": {
            "outlinewidth": 0,
            "ticks": ""
           }
          },
          "colorscale": {
           "diverging": [
            [
             0,
             "#8e0152"
            ],
            [
             0.1,
             "#c51b7d"
            ],
            [
             0.2,
             "#de77ae"
            ],
            [
             0.3,
             "#f1b6da"
            ],
            [
             0.4,
             "#fde0ef"
            ],
            [
             0.5,
             "#f7f7f7"
            ],
            [
             0.6,
             "#e6f5d0"
            ],
            [
             0.7,
             "#b8e186"
            ],
            [
             0.8,
             "#7fbc41"
            ],
            [
             0.9,
             "#4d9221"
            ],
            [
             1,
             "#276419"
            ]
           ],
           "sequential": [
            [
             0,
             "#0d0887"
            ],
            [
             0.1111111111111111,
             "#46039f"
            ],
            [
             0.2222222222222222,
             "#7201a8"
            ],
            [
             0.3333333333333333,
             "#9c179e"
            ],
            [
             0.4444444444444444,
             "#bd3786"
            ],
            [
             0.5555555555555556,
             "#d8576b"
            ],
            [
             0.6666666666666666,
             "#ed7953"
            ],
            [
             0.7777777777777778,
             "#fb9f3a"
            ],
            [
             0.8888888888888888,
             "#fdca26"
            ],
            [
             1,
             "#f0f921"
            ]
           ],
           "sequentialminus": [
            [
             0,
             "#0d0887"
            ],
            [
             0.1111111111111111,
             "#46039f"
            ],
            [
             0.2222222222222222,
             "#7201a8"
            ],
            [
             0.3333333333333333,
             "#9c179e"
            ],
            [
             0.4444444444444444,
             "#bd3786"
            ],
            [
             0.5555555555555556,
             "#d8576b"
            ],
            [
             0.6666666666666666,
             "#ed7953"
            ],
            [
             0.7777777777777778,
             "#fb9f3a"
            ],
            [
             0.8888888888888888,
             "#fdca26"
            ],
            [
             1,
             "#f0f921"
            ]
           ]
          },
          "colorway": [
           "#636efa",
           "#EF553B",
           "#00cc96",
           "#ab63fa",
           "#FFA15A",
           "#19d3f3",
           "#FF6692",
           "#B6E880",
           "#FF97FF",
           "#FECB52"
          ],
          "font": {
           "color": "#2a3f5f"
          },
          "geo": {
           "bgcolor": "white",
           "lakecolor": "white",
           "landcolor": "#E5ECF6",
           "showlakes": true,
           "showland": true,
           "subunitcolor": "white"
          },
          "hoverlabel": {
           "align": "left"
          },
          "hovermode": "closest",
          "mapbox": {
           "style": "light"
          },
          "paper_bgcolor": "white",
          "plot_bgcolor": "#E5ECF6",
          "polar": {
           "angularaxis": {
            "gridcolor": "white",
            "linecolor": "white",
            "ticks": ""
           },
           "bgcolor": "#E5ECF6",
           "radialaxis": {
            "gridcolor": "white",
            "linecolor": "white",
            "ticks": ""
           }
          },
          "scene": {
           "xaxis": {
            "backgroundcolor": "#E5ECF6",
            "gridcolor": "white",
            "gridwidth": 2,
            "linecolor": "white",
            "showbackground": true,
            "ticks": "",
            "zerolinecolor": "white"
           },
           "yaxis": {
            "backgroundcolor": "#E5ECF6",
            "gridcolor": "white",
            "gridwidth": 2,
            "linecolor": "white",
            "showbackground": true,
            "ticks": "",
            "zerolinecolor": "white"
           },
           "zaxis": {
            "backgroundcolor": "#E5ECF6",
            "gridcolor": "white",
            "gridwidth": 2,
            "linecolor": "white",
            "showbackground": true,
            "ticks": "",
            "zerolinecolor": "white"
           }
          },
          "shapedefaults": {
           "line": {
            "color": "#2a3f5f"
           }
          },
          "ternary": {
           "aaxis": {
            "gridcolor": "white",
            "linecolor": "white",
            "ticks": ""
           },
           "baxis": {
            "gridcolor": "white",
            "linecolor": "white",
            "ticks": ""
           },
           "bgcolor": "#E5ECF6",
           "caxis": {
            "gridcolor": "white",
            "linecolor": "white",
            "ticks": ""
           }
          },
          "title": {
           "x": 0.05
          },
          "xaxis": {
           "automargin": true,
           "gridcolor": "white",
           "linecolor": "white",
           "ticks": "",
           "title": {
            "standoff": 15
           },
           "zerolinecolor": "white",
           "zerolinewidth": 2
          },
          "yaxis": {
           "automargin": true,
           "gridcolor": "white",
           "linecolor": "white",
           "ticks": "",
           "title": {
            "standoff": 15
           },
           "zerolinecolor": "white",
           "zerolinewidth": 2
          }
         }
        },
        "title": {
         "text": "Carte des lits SP",
         "x": 0.5
        }
       }
      }
     },
     "metadata": {},
     "output_type": "display_data"
    }
   ],
   "source": [
    "\n",
    "fig = px.scatter_mapbox(df,lat=\"lat\", lon=\"lon\",  hover_name=\"nom\", height=700, size='total_lits',\n",
    "mapbox_style=\"open-street-map\",title='Carte des lits SP',zoom=4.5,color_continuous_scale=[\"red\",\"orange\",\"yellowgreen\",\"green\"])\n",
    "fig.update_layout(title_x=0.5)\n",
    "fig.show()"
   ]
  },
  {
   "cell_type": "markdown",
   "metadata": {},
   "source": [
    "INFOS DE PAGES PRECISES (ESSAIS)"
   ]
  },
  {
   "cell_type": "code",
   "execution_count": 95,
   "metadata": {},
   "outputs": [
    {
     "data": {
      "text/plain": [
       "<Axes: xlabel='total_lits'>"
      ]
     },
     "execution_count": 95,
     "metadata": {},
     "output_type": "execute_result"
    },
    {
     "data": {
      "image/png": "[encoded data removed]",
      "text/plain": [
       "<Figure size 640x480 with 1 Axes>"
      ]
     },
     "metadata": {},
     "output_type": "display_data"
    }
   ],
   "source": [
    "import seaborn as sns\n",
    "\n",
    "sns.boxplot(df, x='total_lits')"
   ]
  },
  {
   "cell_type": "markdown",
   "metadata": {},
   "source": [
    "ON FAIT DU TRI ET DU MENAGE DANS LA COLONNE ZONE TEXTE LIBRE, ON VEUT GARDER QUE LES INFOS QUI CONCERNENT DES LITS OU DES LISP"
   ]
  },
  {
   "cell_type": "code",
   "execution_count": 96,
   "metadata": {},
   "outputs": [
    {
     "data": {
      "text/plain": [
       "array(['nan', 'Présence de bénévoles de JALMALV.', '6 lits identifiés',\n",
       "       '4 lits Identifiés', '4 lits identifiés',\n",
       "       \"Rayon d'action sur le 69 de 40 km.\",\n",
       "       '10 lits identifiés en soins palliatifs MCO\\r\\n4 lits de SSR polyvalent à orientation palliative',\n",
       "       'USP de 12 lits',\n",
       "       'Accueil de jour : coordinatrice Michelle Fontana',\n",
       "       'Les demandes peuvent se faire par le Répertoire Opérationnel de Ressources PACA',\n",
       "       '10 LITS',\n",
       "       \"présence de bénévoles D'EVA (Ensemble Vie Accompagnée)\",\n",
       "       \"Travail en lien avec l'EMSP du CH Val d'Ariège.\",\n",
       "       \"Capacité d'accueil: 30 lits en SSR  et en SP.\\r\\n présence de bénévoles. Rayon d'intervention en Ardèche mais accueil élargi.\",\n",
       "       \"Service constitué d'une USP de 6 lits  et 4 lits d'oncologie\\r\\n\",\n",
       "       'ANCIENNEMENT USP CRÉE EN 1988',\n",
       "       \"4 lits dédiés\\r\\nRayon d'action sur le 24 est de 30 km.\",\n",
       "       'Unité qui dépend de la clinique privée de la Miséricorde de Caen (cf.site internet).',\n",
       "       '4 à\\xa0 5 lits identifiés pour des patients de la région.',\n",
       "       'Stagiaires en DU de SP ou de douleur  inf',\n",
       "       \"Présence de bénévoles d'accompagnement (les amis de soins palliatifs). \\r\\nStagiaires : psychologues et infirmières\",\n",
       "       '3 à\\xa0 5 lits en chambres indidividuelles pour des malades en soins palliatifs',\n",
       "       '6 lits identifiés; 3 IDE; un medecin formés aux SP',\n",
       "       \"Equipe composée d'un psychologue, d'un kinésithérapeute,d'une diététicienne, d'un ergothérapeute, d'une socioesthéticienne, de bénévoles d'accompagnement.\",\n",
       "       '8 lits identifiés', '2 lits identifiés.',\n",
       "       \"le Dr Cariou exerce un 1/2 temps plein au sein de l'USP\",\n",
       "       '1 lit dédié.',\n",
       "       \"Capacité d'accueil : 5 lits. présence de bénévoles d'Actes\",\n",
       "       'cette structure dépend du CHU de Brest.\\r\\n\\r\\n10 lits identifiés.',\n",
       "       \"2 lits\\n\\nIntervention sur le Finistère Nord et la moitié des Côtes d'armor\",\n",
       "       'service medecine 4 lits identifiés; accueil de stagiaires IDE uniquement.',\n",
       "       '11 lits identifiés',\n",
       "       '14 lits identifiés : 8 en court séjour, 6 en soins de suite',\n",
       "       '9 lits identifiés en court séjour et 5 lits en moyen séjour',\n",
       "       'Etablissement sanitaire et medicosocial, soins longue durée, EHPAD, acceuil de jour ; hébergement temporaire et définitif.',\n",
       "       '14 lits identifiés',\n",
       "       'Directeur Catherine GARCIA ; Médecin resp. USP, Dr Ingrid PAYET ; Cadre infirmier, Caroline JACQUART',\n",
       "       '24 lits identifiés',\n",
       "       'Prise en charge ponctuelle par:\\r\\nKinésithérapeute\\r\\nErgothérapeute\\r\\nDiététicienne\\r\\nAssistante sociale',\n",
       "       'Unité mobile soins palliatifs (UMSP)  \\r\\nEn lien avec Réseau SPHERES\\r\\nAutres professions présentes : Kiné Ergo, Diét ',\n",
       "       'Unité de 12 lits.',\n",
       "       'Nom du cadre de santé responsable des LISP:\\nMme Annie France ROLAND (afroland.chateauneuf@ugecamaq.fr)/ Tel: 05.56.64.41.40',\n",
       "       'LISP de Territoire Sud Gironde',\n",
       "       \"Présence de bénévoles d'Alliance\", '12 lits',\n",
       "       '3 lits identifiés. psychologue, psychomotricienne, kinesithérapeute, ergotherapeute',\n",
       "       '15 lits', '8 lits',\n",
       "       \"Unité en lien avec l'équipe mobile, toutes deux coordonnées par la clinique.\",\n",
       "       \"18 lits identifiés regroupés au sein d'une même unité.\",\n",
       "       '14 Lits identifiés\\nStagiaires: Infirmières & Aides soignantes (2e et 3e année)',\n",
       "       '6 lits', '4 Lits  identifiés', '4 Lits identifiés',\n",
       "       '4 lits identifiés soins palliatifs au sein du service de médecine',\n",
       "       'Entre 8 et 12 lits. Plusieurs établissements: CCAS, Orpéa, Olcéam',\n",
       "       'Reconnaissance de 3 LISP en Mars 2009',\n",
       "       '5 lits identifiés au sein du service de Médecine Gériatrique',\n",
       "       \"Zone d'intervention Fumel et alentours\\nIDE Christine Aldebert\",\n",
       "       '5 lits identifiés en service de médecine polyvalente, 4 ième étage B. \\nMédecin et IDE formés et diplomés en SP. Temps partiel Psychologue dans le service, AS, kinésitherapeute.',\n",
       "       '7 hôpitaux sur Nantes', '6 lits en soins palliatifs',\n",
       "       \"En lien avec l'équipe mobile de soins palliatifs du CH de St NAZAIRE. Stagiaires en DU de SP. 6 lits identifiés.\",\n",
       "       \"Unité de 14 lits, locaux sur le site de l'Hôpital Sébastopol\",\n",
       "       '3 lits',\n",
       "       '3 lits\\n\\nsurveillante = Mme Alexandre; infirmières soins palliatifs = Mme St Lô et douleur = Melle Frémy; psychologue = Mme Marguerie',\n",
       "       '5 lits\\n\\nrapprochement familial possible',\n",
       "       '5 lits\\nIntervention de bénévoles ASP Sud-Manche',\n",
       "       \"8 lits identifiés (trés prochainement ils vont passer à\\xa0 14)\\nPérimètre d'action dans les départements suivant:\\n150 km sur le 72\\n150 km sur le 53\",\n",
       "       \"5 lits identifiés + EMSP qui intervient au sein de l'établissement et dans tout le département ( domicile, maison de retraite... + Beaucoup de formation)\",\n",
       "       '3 lits\\n. stagiaires = psy, inf, AS',\n",
       "       'Notre unité de soins palliatifs accueille des patients en fin de vie complexe et propose également des séjours de répit pour l’équilibration des symptômes d’inconfort en phase palliative.',\n",
       "       '5 lits dédiés en SP dans service de médecine.',\n",
       "       \"5 lits identifiés répartis en 3 à\\xa0l'hôpital et 2 à domicile.\",\n",
       "       '5 lits identifiés',\n",
       "       '2 lits dédiés\\nintervient à\\xa0 20 km sur la partie limitrophe du 49',\n",
       "       '5 lits identifiés\\n. Intervient sur 23 km sur la partie limitrophe du 35',\n",
       "       '6 lits identifiés dont 2 sur Segré et 4 sur Château Gontier',\n",
       "       '11 lits identifiés en SP.',\n",
       "       'Dr Madelaine Valentine\\r\\nDr Charlotte Decherf',\n",
       "       '10 lits identifiés',\n",
       "       'Ergo : 0.75 ; Kiné : 0.5 ; Adr post : USP - Hôp Legouest/Hôp. Mercy - 1, allée du Château - CS 45001 - 57085 METZ CEDEX 03\\r\\n\\r\\n',\n",
       "       \"5 Lits\\n\\nRayon d'intervention cantonnal\",\n",
       "       '6 Lits de SP. Psychologue ; Kiné ; Socio esthéticienne ; Bénévoles.',\n",
       "       'Long séjour - Travaille avec EMSP',\n",
       "       'Médecins de soins palliatifs : Dr Vincent BERRY, Dr Margaux DUPONT-VERCAMBRE',\n",
       "       \"Présence de bénévoles d'AMAVI\",\n",
       "       \"10 lits + 1 chambre d'accompagnant \", 'Communauté urbaine',\n",
       "       \"Groupe hospitalier de l'institut catholique de Lille, 12 lits d'USP, présence de bénévoles\",\n",
       "       '10 lits', '5 Lits en service de médecine gériatrique',\n",
       "       \"Présence de bénévoles de l'ASP Cambrésis\",\n",
       "       \"Consultations externes pour la gestion des symptômes présence de bénévoles de l'asso. Le Jardin d'Emeraude rattachée à  Omega-Lille.\",\n",
       "       '7 lits identifiés, service pneumologie',\n",
       "       \"Interventions de bénévoles de l'ASP-Gilbert Denisselle\",\n",
       "       '10 lits, équipe pluridisciplinaire complète pour une prise en soin globale du patient et de son entourage.',\n",
       "       \"Interventions de bénévoles de JALMALV et de l'association Pierre-Clément. Zone d'intervention Strasbourg essentiellement\",\n",
       "       '2 lits identifiés',\n",
       "       '1 psycho-motricienne\\r\\nMédiation animale\\r\\n2 ASH \\r\\n1 officiaire',\n",
       "       '4 lits\\n\\nSouvent pour rapprochement familial', '4 lits.',\n",
       "       'Fondation VSHA : \\r\\n- USP : 8 lits\\r\\n- LISP : 12 lits\\r\\n- EMASP (en collaboration avec HPMB)',\n",
       "       'Pour plus de renseignements, vous pouvez consulter leur site internet',\n",
       "       '4 à 8 patients accueillis \\r\\nDéveloppement des approches non médicamenteuses (hypnose, sophrologie, art-thérapie)',\n",
       "       \"Travail avec l'EMSP de la fondation Georges Coulon. \\r\\nCompagnonnage par référents en SP sur l'ensemble des sites de la fondation\",\n",
       "       'Consultation interne douleur', 'nombre de lits:40',\n",
       "       'Nombre de lits:8. Intervention sur les arrondissements suivant: 17, 18, 19, 9, 10  ainsi que sur St-Ouen et Asnières.',\n",
       "       'Consultation externe douleur chronique aggrée par ARS, recrutement regional',\n",
       "       'Nombre de lits : 80 lits',\n",
       "       '9 Lits identifiés SP. 2 Medecins qualifiés SP et douleurs.',\n",
       "       \"Nombre de lits : 14 lits + 1 lit d'urgence soit 15 lits\",\n",
       "       '6 LISP \\r\\nArthérapeute / Sophrologue',\n",
       "       \"6 lits dédiés (à\\xa0 partir de 60 ans) regroupés pour l'Hôp. de Hyères, le centre Pierre Chevalier & Beauséjour.\",\n",
       "       '3 lits identifiés',\n",
       "       \"6 LISP au sein du service de médecine. Interventions d'1 AS formée aux soins socio-esthétiques\\r\\n\",\n",
       "       \"6 lits dans le service d'USP. Interventions de bénévoles de JALMALV\",\n",
       "       '14 lits identifiés.\\nStagiaires: inf, méd, psy pour DU de SP.',\n",
       "       \"5 lits identifiés.\\nRayon d'action sur le 79 est de 40 km.\\nStagiaires: 1semaine pour les DU de SP : 3 jrs pour les professionnels.\",\n",
       "       ' 4 LISP au sein du service de médecine (polyvalente et interne) avec deux autres médecins (internistes)',\n",
       "       \"LIEU DE VIE\\r\\nFavoriser les séjours de répit en essayant de rendre un maximum d'autonomie\",\n",
       "       '6 lits identifiés de soins palliatifs',\n",
       "       '18 lits identifiés soins palliatifs dans la clinique',\n",
       "       '6 lits identifiés soins palliatifs\\r\\nformation diplômante et continue des professionnels\\r\\n\\r\\n',\n",
       "       'Unité ouverte depuis le 15 octobre 2012\\r\\n',\n",
       "       'Dr Sylvie Cafardy, médecin référent en soins palliatifs\\nDr Jean-Claude Lorenzo, médecin référent en soins palliatifs\\n.\\nCorinne Leveugle, infirmière en soins palliatifs, à mi-temps',\n",
       "       '5 lits dédiés', '4 Lits dédiés',\n",
       "       \"Il existe dans ce même CHD 3 services qui ont des lits identifiés ( 4 lits par service)\\nIl existe aussi dans ce CHD une EMSP : les lits d'ancrage de l'EMSP sont dans ce service de soins de suite 3\",\n",
       "       'Nombre de lits:10. Bénévoles ASP 91',\n",
       "       'Travail avec les réseaux de soins palliatifs NEPALE et SPES. \\r\\nOrientation Oncologique\\r\\nLa population vient du 91 et autres régions en cas de rapprochement familial sur le 91.',\n",
       "       '4 lits identifiés.', 'Nombre de lits:10',\n",
       "       \"L'équipe intervient dans le Groupe Hospitalier Nord Essonne : - CH des Deux Vallées (sites de Juvisy et de Longjumeau)- CH d'Orsay\",\n",
       "       'Nombre de lits:11. Bénévoles ASP 91',\n",
       "       \"Pas de LISP, mais on fait du soin palliatif malgré tout sur 3 lits en SSR. Développement d'une prise en charge palliative interne à notre EHPAD de 320 lits.\",\n",
       "       \"Nous sommes un SSR de 100 lits (68 lits d'oncologie, 32 lits de gériatrie et 20 lits identifiés en soins palliatifs).\",\n",
       "       'Nombre de lits : 11 lits', '5 à\\xa08 lits identifiés',\n",
       "       '10 lits identifiés. Agrément ARH',\n",
       "       'une équipe entière au service du malade et de ses proches... Art-thérapie Psychomotricité Socioesthéticienne Aromathérapie...',\n",
       "       '4 lits identifiés dans le service de cancérologie',\n",
       "       \"Activité importante d'innovation (biographe,ostéopathe,socioesthéticienne.) et recherche clinique (télétransmission PCA domicile\",\n",
       "       '8 lits. Travail en lien avec le Réseau Onconord',\n",
       "       'USP comprenant 10 lits.',\n",
       "       'Nombre de lits : 4 lits (USP gériatrique > 65 ans)',\n",
       "       'Nombre de lits : 8 lits', '12 lits identifiés',\n",
       "       \"Ergo : 0.75 ; Kiné : 0.5 ; Adresse post. : Hôp d'Hayange - USP - 1-3 rue du Friscaty - BP 60327 -\\r\\n 57126 THIONVILLE CEDEX 1\",\n",
       "       'Socio-estéticienne , ergothérapeute, kiné\\r\\nBalnéothérapie',\n",
       "       \"4 lits identifiés.\\r\\nRayon d'intervention: sur tout le département (06), sur 100 km dans le VAR (83)\",\n",
       "       \"L'unité travaille également avec une psychomotricienne, kinésithérapeute, socio-esthéticien.\",\n",
       "       \"Le médecin de l'EMSP intervient sur les LISP.\\r\\nL'ensemble du personnel du service de Médecine intervient sur les LISP (Aide-Soignantes, Assistante Sociale, Diététicienne, Ergothérapeute, Kiné, AMP, Socio-Esthéticienne)\",\n",
       "       \"Présence de 10 LISP au sein d'un service de l'hôpital.\",\n",
       "       '0.5 kiné',\n",
       "       'Établissement de soins de suite et de réadaptation accueillant 6 lits identifiés en soins palliatifs.',\n",
       "       'La Villa IZOÏ est une USP Longue Durée ouverte depuis le 15 juin 2016.\\r\\n \\r\\n',\n",
       "       \"L'équipe prend en charge les 3 LISP ainsi que 7 lits de médecine à visée gériatrique.\\r\\nAutres : diététicienne, kiné, ergo\",\n",
       "       '2 LISP en service de médecine polyvalente',\n",
       "       \"C'est le médecin de l'EMSP qui, par défaut, intervient sur les LISP en attente d'un médecin dédié. L'IDE travaille en étroite collaboration avec l'ensemble des ressources disponibles (psycho, assistante sociales....)\",\n",
       "       'USP ouverte depuis le 02 janvier 2017.\\r\\nElle est une des 3 unités fonctionnelles du Département de soins d\\'accompagnement du Var Est \"Le Patio\"',\n",
       "       ' Chirurgies cancérologiques, Chimiothérapie ,Radiothérapie et un service de 7 lits LISP. Consultation anti douleur',\n",
       "       'USP provisoire de 7 lits\\r\\néquipe pluridisciplinaire dédiée\\r\\narticulation avec les autres ressources',\n",
       "       \"Le personnel médical et paramédical s'occuppe des 20 lits de médecine y compris les LISP.\\r\\n\",\n",
       "       'Equipe pluridisciplinaire (ergothérapeute, masseur-kiné...), accompagnement des proches, équipes de soins formées',\n",
       "       'UN STUDIO A DISPOSTION DES PROCHES\\r\\nCOLLABORATION EMSP DU CH DE PARAY LE MONIAL\\r\\n',\n",
       "       'Oncologie (6 LISP)\\r\\nPneumologie (3 LISP)\\r\\nConcarneau (3 LISP)',\n",
       "       'Unité de 10 lits : 2 médecins ETP, 1 cadre, 1 psychologue, 1 binôme IDE/AS pour 5 patients le jour, 1 secrétaire,  1 as sociale',\n",
       "       \"Création de l'unité de soins palliatifs du CH falaise en janvier 2018\",\n",
       "       '8 LISP', \"Présence d'un socio esthéticienne 2x/mois \\r\\n\",\n",
       "       \"LISP au sein d'un service SSR polyvalent et gériatrique\",\n",
       "       \"8 LISP dans le CH:\\r\\n4 LISP sont regroupés au sein d'une unité dédiée. \\r\\n4 LISP au sein des services de soins\\r\\n\",\n",
       "       'Service de 6 lits de soins palliatifs réservés à la cancérologie\\r\\nEMSP\\r\\nConsultation douleur et soins de support',\n",
       "       'Autres : 0.5 ETP Psychomotricien; 0.5 ETP Ergothérapeute; 0.4 socio-esthéticienne\\r\\n+1 temps kiné',\n",
       "       'Service de médecine de proximité de 30 lits dont 6 Lits Identifiés Soins Palliatifs',\n",
       "       'Unité de Soins Palliatifs Territoriale',\n",
       "       \"obtention en avril 2019 de 6 LISP en service de SSR polyvalent et unité de 10 lits d'etat vegetatif chronique\",\n",
       "       'Nous avons 10 LISP\\r\\nIntervenants :kiné, ergo, harpe-thérapeute, socio-esthéticienne, APA, sophrologue',\n",
       "       \"Il s'agit d'une Unité à Orientation Palliative disposant de 10 lits\",\n",
       "       'clinique SMR fortement médicalisée,  pluridisciplinaire de 101 lits, disposant de 14 LISP, en plein centre de Nice.',\n",
       "       'Intégrée au service Douleur Soins Palliatifs\\r\\nCollaborations avec EMSP, Espace Ethique, ETSP, Cs Douleur',\n",
       "       \"L'USP se nomme USSA (Unité de Support et d'Accompagnement).\\r\\n\"],\n",
       "      dtype=object)"
      ]
     },
     "execution_count": 96,
     "metadata": {},
     "output_type": "execute_result"
    }
   ],
   "source": [
    "df['Zone de notes libres'].unique()"
   ]
  },
  {
   "cell_type": "code",
   "execution_count": 97,
   "metadata": {},
   "outputs": [
    {
     "data": {
      "text/html": [
       "<div>\n",
       "<style scoped>\n",
       "    .dataframe tbody tr th:only-of-type {\n",
       "        vertical-align: middle;\n",
       "    }\n",
       "\n",
       "    .dataframe tbody tr th {\n",
       "        vertical-align: top;\n",
       "    }\n",
       "\n",
       "    .dataframe thead th {\n",
       "        text-align: right;\n",
       "    }\n",
       "</style>\n",
       "<table border=\"1\" class=\"dataframe\">\n",
       "  <thead>\n",
       "    <tr style=\"text-align: right;\">\n",
       "      <th></th>\n",
       "      <th>nom</th>\n",
       "      <th>type</th>\n",
       "      <th>adresse</th>\n",
       "      <th>code_postal</th>\n",
       "      <th>commune</th>\n",
       "      <th>telephone</th>\n",
       "      <th>Rechercher</th>\n",
       "      <th>Nom de l'établissement</th>\n",
       "      <th>Type de structure</th>\n",
       "      <th>Bât, résidence, escalier...</th>\n",
       "      <th>...</th>\n",
       "      <th>Psychologue(s)</th>\n",
       "      <th>Autres</th>\n",
       "      <th>Présence de bénévoles</th>\n",
       "      <th>Associations de bénévoles présentes</th>\n",
       "      <th>Zone de notes libres</th>\n",
       "      <th>Unnamed: 54</th>\n",
       "      <th>Website URL</th>\n",
       "      <th>lat</th>\n",
       "      <th>lon</th>\n",
       "      <th>total_lits</th>\n",
       "    </tr>\n",
       "  </thead>\n",
       "  <tbody>\n",
       "    <tr>\n",
       "      <th>0</th>\n",
       "      <td>CHI  DES ALPES DU SUD - USP</td>\n",
       "      <td>USP</td>\n",
       "      <td>1 place Auguste Muret</td>\n",
       "      <td>05007</td>\n",
       "      <td>GAP</td>\n",
       "      <td>04 92 40 69 20</td>\n",
       "      <td>nan</td>\n",
       "      <td>CHI  DES ALPES DU SUD - USP</td>\n",
       "      <td>USP</td>\n",
       "      <td>USP 05 - Site ADRET</td>\n",
       "      <td>...</td>\n",
       "      <td>Non précisé</td>\n",
       "      <td>Non précisé</td>\n",
       "      <td>Non précisé</td>\n",
       "      <td>Non précisé</td>\n",
       "      <td>nan</td>\n",
       "      <td>nan</td>\n",
       "      <td>nan</td>\n",
       "      <td>NaN</td>\n",
       "      <td>NaN</td>\n",
       "      <td>0</td>\n",
       "    </tr>\n",
       "    <tr>\n",
       "      <th>1</th>\n",
       "      <td>CH GÉRONTOLOGIQUE LA FERE - USP</td>\n",
       "      <td>USP</td>\n",
       "      <td>2 avenue Dupuis</td>\n",
       "      <td>02800</td>\n",
       "      <td>LA FERE</td>\n",
       "      <td>03 23 56 67 00</td>\n",
       "      <td>nan</td>\n",
       "      <td>CH GÉRONTOLOGIQUE LA FERE - USP</td>\n",
       "      <td>USP</td>\n",
       "      <td>nan</td>\n",
       "      <td>...</td>\n",
       "      <td>Non précisé</td>\n",
       "      <td>Non précisé</td>\n",
       "      <td>Non précisé</td>\n",
       "      <td>Non précisé</td>\n",
       "      <td>Présence de bénévoles de JALMALV.</td>\n",
       "      <td>nan</td>\n",
       "      <td>nan</td>\n",
       "      <td>49.663249</td>\n",
       "      <td>3.360378</td>\n",
       "      <td>0</td>\n",
       "    </tr>\n",
       "    <tr>\n",
       "      <th>2</th>\n",
       "      <td>HÔPITAL VILLIERS SAINT-DENIS</td>\n",
       "      <td>LISP</td>\n",
       "      <td>41 rue Victor et Louise Monfort</td>\n",
       "      <td>02310</td>\n",
       "      <td>VILLIERS SAINT-DENIS</td>\n",
       "      <td>03 23 70 74 77</td>\n",
       "      <td>nan</td>\n",
       "      <td>HÔPITAL VILLIERS SAINT-DENIS</td>\n",
       "      <td>LISP</td>\n",
       "      <td>Service de soins de suite et palliatifs</td>\n",
       "      <td>...</td>\n",
       "      <td>0.5</td>\n",
       "      <td>Non précisé</td>\n",
       "      <td>Non</td>\n",
       "      <td>Non précisé</td>\n",
       "      <td>6 lits identifiés</td>\n",
       "      <td>nan</td>\n",
       "      <td>nan</td>\n",
       "      <td>NaN</td>\n",
       "      <td>NaN</td>\n",
       "      <td>6</td>\n",
       "    </tr>\n",
       "    <tr>\n",
       "      <th>3</th>\n",
       "      <td>CH GÉNÉRAL DE SOISSONS - USP</td>\n",
       "      <td>USP</td>\n",
       "      <td>46 avenue du Général de Gaulle</td>\n",
       "      <td>02209</td>\n",
       "      <td>SOISSONS CEDEX</td>\n",
       "      <td>03 23 75 71 29</td>\n",
       "      <td>nan</td>\n",
       "      <td>CH GÉNÉRAL DE SOISSONS - USP</td>\n",
       "      <td>USP</td>\n",
       "      <td>nan</td>\n",
       "      <td>...</td>\n",
       "      <td>Non précisé</td>\n",
       "      <td>Non précisé</td>\n",
       "      <td>Non précisé</td>\n",
       "      <td>Non précisé</td>\n",
       "      <td>nan</td>\n",
       "      <td>nan</td>\n",
       "      <td>nan</td>\n",
       "      <td>48.580576</td>\n",
       "      <td>7.690289</td>\n",
       "      <td>0</td>\n",
       "    </tr>\n",
       "    <tr>\n",
       "      <th>4</th>\n",
       "      <td>CH DU NOUVION EN THIERARCHE - LISP</td>\n",
       "      <td>LISP</td>\n",
       "      <td>40 rue André Ridders</td>\n",
       "      <td>02170</td>\n",
       "      <td>LE NOUVION EN THIERARCHE</td>\n",
       "      <td>03 23 97 56 33</td>\n",
       "      <td>nan</td>\n",
       "      <td>CH DU NOUVION EN THIERARCHE - LISP</td>\n",
       "      <td>LISP</td>\n",
       "      <td>Service de médecine de moyen séjour</td>\n",
       "      <td>...</td>\n",
       "      <td>Non précisé</td>\n",
       "      <td>Non précisé</td>\n",
       "      <td>Non précisé</td>\n",
       "      <td>Non précisé</td>\n",
       "      <td>4 lits Identifiés</td>\n",
       "      <td>nan</td>\n",
       "      <td>nan</td>\n",
       "      <td>50.014512</td>\n",
       "      <td>3.780694</td>\n",
       "      <td>0</td>\n",
       "    </tr>\n",
       "  </tbody>\n",
       "</table>\n",
       "<p>5 rows × 59 columns</p>\n",
       "</div>"
      ],
      "text/plain": [
       "                                  nom  type                          adresse  \\\n",
       "0         CHI  DES ALPES DU SUD - USP   USP            1 place Auguste Muret   \n",
       "1     CH GÉRONTOLOGIQUE LA FERE - USP   USP                  2 avenue Dupuis   \n",
       "2        HÔPITAL VILLIERS SAINT-DENIS  LISP  41 rue Victor et Louise Monfort   \n",
       "3        CH GÉNÉRAL DE SOISSONS - USP   USP   46 avenue du Général de Gaulle   \n",
       "4  CH DU NOUVION EN THIERARCHE - LISP  LISP             40 rue André Ridders   \n",
       "\n",
       "  code_postal                   commune       telephone Rechercher  \\\n",
       "0       05007                       GAP  04 92 40 69 20        nan   \n",
       "1       02800                   LA FERE  03 23 56 67 00        nan   \n",
       "2       02310      VILLIERS SAINT-DENIS  03 23 70 74 77        nan   \n",
       "3       02209            SOISSONS CEDEX  03 23 75 71 29        nan   \n",
       "4       02170  LE NOUVION EN THIERARCHE  03 23 97 56 33        nan   \n",
       "\n",
       "               Nom de l'établissement Type de structure  \\\n",
       "0         CHI  DES ALPES DU SUD - USP               USP   \n",
       "1     CH GÉRONTOLOGIQUE LA FERE - USP               USP   \n",
       "2        HÔPITAL VILLIERS SAINT-DENIS              LISP   \n",
       "3        CH GÉNÉRAL DE SOISSONS - USP               USP   \n",
       "4  CH DU NOUVION EN THIERARCHE - LISP              LISP   \n",
       "\n",
       "               Bât, résidence, escalier...  ... Psychologue(s)       Autres  \\\n",
       "0                      USP 05 - Site ADRET  ...    Non précisé  Non précisé   \n",
       "1                                      nan  ...    Non précisé  Non précisé   \n",
       "2  Service de soins de suite et palliatifs  ...            0.5  Non précisé   \n",
       "3                                      nan  ...    Non précisé  Non précisé   \n",
       "4      Service de médecine de moyen séjour  ...    Non précisé  Non précisé   \n",
       "\n",
       "  Présence de bénévoles Associations de bénévoles présentes  \\\n",
       "0           Non précisé                         Non précisé   \n",
       "1           Non précisé                         Non précisé   \n",
       "2                   Non                         Non précisé   \n",
       "3           Non précisé                         Non précisé   \n",
       "4           Non précisé                         Non précisé   \n",
       "\n",
       "                Zone de notes libres Unnamed: 54 Website URL        lat  \\\n",
       "0                                nan         nan         nan        NaN   \n",
       "1  Présence de bénévoles de JALMALV.         nan         nan  49.663249   \n",
       "2                  6 lits identifiés         nan         nan        NaN   \n",
       "3                                nan         nan         nan  48.580576   \n",
       "4                  4 lits Identifiés         nan         nan  50.014512   \n",
       "\n",
       "        lon total_lits  \n",
       "0       NaN          0  \n",
       "1  3.360378          0  \n",
       "2       NaN          6  \n",
       "3  7.690289          0  \n",
       "4  3.780694          0  \n",
       "\n",
       "[5 rows x 59 columns]"
      ]
     },
     "execution_count": 97,
     "metadata": {},
     "output_type": "execute_result"
    }
   ],
   "source": [
    "df.head()"
   ]
  },
  {
   "cell_type": "markdown",
   "metadata": {},
   "source": [
    "SI CA CONTIENT \"LITS\" OU \"LISP\" C'EST DES INFOS QU'ON VEUT DONC ON LES GARDE, SINON ON s'EN FICHE UN PEU"
   ]
  },
  {
   "cell_type": "code",
   "execution_count": 98,
   "metadata": {},
   "outputs": [],
   "source": [
    "df['lits_ou_lisp_zone_libre'] = df['Zone de notes libres'].apply(lambda x : x if \"lits\" in x or \"LISP\" in x else 0) "
   ]
  },
  {
   "cell_type": "markdown",
   "metadata": {},
   "source": [
    "ON AIME PAS LES NAN DONC ON LES REMPLACE PAR 0"
   ]
  },
  {
   "cell_type": "code",
   "execution_count": 99,
   "metadata": {},
   "outputs": [],
   "source": [
    "df['lits_ou_lisp_zone_libre'] = df['lits_ou_lisp_zone_libre'].fillna(\"0\")"
   ]
  },
  {
   "cell_type": "code",
   "execution_count": 100,
   "metadata": {},
   "outputs": [
    {
     "data": {
      "text/plain": [
       "array([0, '6 lits identifiés', '4 lits Identifiés', '4 lits identifiés',\n",
       "       '10 lits identifiés en soins palliatifs MCO\\r\\n4 lits de SSR polyvalent à orientation palliative',\n",
       "       'USP de 12 lits',\n",
       "       \"Capacité d'accueil: 30 lits en SSR  et en SP.\\r\\n présence de bénévoles. Rayon d'intervention en Ardèche mais accueil élargi.\",\n",
       "       \"Service constitué d'une USP de 6 lits  et 4 lits d'oncologie\\r\\n\",\n",
       "       \"4 lits dédiés\\r\\nRayon d'action sur le 24 est de 30 km.\",\n",
       "       '4 à\\xa0 5 lits identifiés pour des patients de la région.',\n",
       "       '3 à\\xa0 5 lits en chambres indidividuelles pour des malades en soins palliatifs',\n",
       "       '6 lits identifiés; 3 IDE; un medecin formés aux SP',\n",
       "       '8 lits identifiés', '2 lits identifiés.',\n",
       "       \"Capacité d'accueil : 5 lits. présence de bénévoles d'Actes\",\n",
       "       'cette structure dépend du CHU de Brest.\\r\\n\\r\\n10 lits identifiés.',\n",
       "       \"2 lits\\n\\nIntervention sur le Finistère Nord et la moitié des Côtes d'armor\",\n",
       "       'service medecine 4 lits identifiés; accueil de stagiaires IDE uniquement.',\n",
       "       '11 lits identifiés',\n",
       "       '14 lits identifiés : 8 en court séjour, 6 en soins de suite',\n",
       "       '9 lits identifiés en court séjour et 5 lits en moyen séjour',\n",
       "       '14 lits identifiés', '24 lits identifiés', 'Unité de 12 lits.',\n",
       "       'Nom du cadre de santé responsable des LISP:\\nMme Annie France ROLAND (afroland.chateauneuf@ugecamaq.fr)/ Tel: 05.56.64.41.40',\n",
       "       'LISP de Territoire Sud Gironde', '12 lits',\n",
       "       '3 lits identifiés. psychologue, psychomotricienne, kinesithérapeute, ergotherapeute',\n",
       "       '15 lits', '8 lits',\n",
       "       \"18 lits identifiés regroupés au sein d'une même unité.\", '6 lits',\n",
       "       '4 lits identifiés soins palliatifs au sein du service de médecine',\n",
       "       'Entre 8 et 12 lits. Plusieurs établissements: CCAS, Orpéa, Olcéam',\n",
       "       'Reconnaissance de 3 LISP en Mars 2009',\n",
       "       '5 lits identifiés au sein du service de Médecine Gériatrique',\n",
       "       '5 lits identifiés en service de médecine polyvalente, 4 ième étage B. \\nMédecin et IDE formés et diplomés en SP. Temps partiel Psychologue dans le service, AS, kinésitherapeute.',\n",
       "       '6 lits en soins palliatifs',\n",
       "       \"En lien avec l'équipe mobile de soins palliatifs du CH de St NAZAIRE. Stagiaires en DU de SP. 6 lits identifiés.\",\n",
       "       \"Unité de 14 lits, locaux sur le site de l'Hôpital Sébastopol\",\n",
       "       '3 lits',\n",
       "       '3 lits\\n\\nsurveillante = Mme Alexandre; infirmières soins palliatifs = Mme St Lô et douleur = Melle Frémy; psychologue = Mme Marguerie',\n",
       "       '5 lits\\n\\nrapprochement familial possible',\n",
       "       '5 lits\\nIntervention de bénévoles ASP Sud-Manche',\n",
       "       \"8 lits identifiés (trés prochainement ils vont passer à\\xa0 14)\\nPérimètre d'action dans les départements suivant:\\n150 km sur le 72\\n150 km sur le 53\",\n",
       "       \"5 lits identifiés + EMSP qui intervient au sein de l'établissement et dans tout le département ( domicile, maison de retraite... + Beaucoup de formation)\",\n",
       "       '3 lits\\n. stagiaires = psy, inf, AS',\n",
       "       '5 lits dédiés en SP dans service de médecine.',\n",
       "       \"5 lits identifiés répartis en 3 à\\xa0l'hôpital et 2 à domicile.\",\n",
       "       '5 lits identifiés',\n",
       "       '2 lits dédiés\\nintervient à\\xa0 20 km sur la partie limitrophe du 49',\n",
       "       '5 lits identifiés\\n. Intervient sur 23 km sur la partie limitrophe du 35',\n",
       "       '6 lits identifiés dont 2 sur Segré et 4 sur Château Gontier',\n",
       "       '11 lits identifiés en SP.', '10 lits identifiés',\n",
       "       \"10 lits + 1 chambre d'accompagnant \",\n",
       "       \"Groupe hospitalier de l'institut catholique de Lille, 12 lits d'USP, présence de bénévoles\",\n",
       "       '10 lits', '7 lits identifiés, service pneumologie',\n",
       "       '10 lits, équipe pluridisciplinaire complète pour une prise en soin globale du patient et de son entourage.',\n",
       "       '2 lits identifiés',\n",
       "       '4 lits\\n\\nSouvent pour rapprochement familial', '4 lits.',\n",
       "       'Fondation VSHA : \\r\\n- USP : 8 lits\\r\\n- LISP : 12 lits\\r\\n- EMASP (en collaboration avec HPMB)',\n",
       "       'nombre de lits:40',\n",
       "       'Nombre de lits:8. Intervention sur les arrondissements suivant: 17, 18, 19, 9, 10  ainsi que sur St-Ouen et Asnières.',\n",
       "       'Nombre de lits : 80 lits',\n",
       "       \"Nombre de lits : 14 lits + 1 lit d'urgence soit 15 lits\",\n",
       "       '6 LISP \\r\\nArthérapeute / Sophrologue',\n",
       "       \"6 lits dédiés (à\\xa0 partir de 60 ans) regroupés pour l'Hôp. de Hyères, le centre Pierre Chevalier & Beauséjour.\",\n",
       "       '3 lits identifiés',\n",
       "       \"6 LISP au sein du service de médecine. Interventions d'1 AS formée aux soins socio-esthétiques\\r\\n\",\n",
       "       \"6 lits dans le service d'USP. Interventions de bénévoles de JALMALV\",\n",
       "       '14 lits identifiés.\\nStagiaires: inf, méd, psy pour DU de SP.',\n",
       "       \"5 lits identifiés.\\nRayon d'action sur le 79 est de 40 km.\\nStagiaires: 1semaine pour les DU de SP : 3 jrs pour les professionnels.\",\n",
       "       ' 4 LISP au sein du service de médecine (polyvalente et interne) avec deux autres médecins (internistes)',\n",
       "       '6 lits identifiés de soins palliatifs',\n",
       "       '18 lits identifiés soins palliatifs dans la clinique',\n",
       "       '6 lits identifiés soins palliatifs\\r\\nformation diplômante et continue des professionnels\\r\\n\\r\\n',\n",
       "       '5 lits dédiés',\n",
       "       \"Il existe dans ce même CHD 3 services qui ont des lits identifiés ( 4 lits par service)\\nIl existe aussi dans ce CHD une EMSP : les lits d'ancrage de l'EMSP sont dans ce service de soins de suite 3\",\n",
       "       'Nombre de lits:10. Bénévoles ASP 91', '4 lits identifiés.',\n",
       "       'Nombre de lits:10', 'Nombre de lits:11. Bénévoles ASP 91',\n",
       "       \"Pas de LISP, mais on fait du soin palliatif malgré tout sur 3 lits en SSR. Développement d'une prise en charge palliative interne à notre EHPAD de 320 lits.\",\n",
       "       \"Nous sommes un SSR de 100 lits (68 lits d'oncologie, 32 lits de gériatrie et 20 lits identifiés en soins palliatifs).\",\n",
       "       'Nombre de lits : 11 lits', '5 à\\xa08 lits identifiés',\n",
       "       '10 lits identifiés. Agrément ARH',\n",
       "       '4 lits identifiés dans le service de cancérologie',\n",
       "       '8 lits. Travail en lien avec le Réseau Onconord',\n",
       "       'USP comprenant 10 lits.',\n",
       "       'Nombre de lits : 4 lits (USP gériatrique > 65 ans)',\n",
       "       'Nombre de lits : 8 lits', '12 lits identifiés',\n",
       "       \"4 lits identifiés.\\r\\nRayon d'intervention: sur tout le département (06), sur 100 km dans le VAR (83)\",\n",
       "       \"Le médecin de l'EMSP intervient sur les LISP.\\r\\nL'ensemble du personnel du service de Médecine intervient sur les LISP (Aide-Soignantes, Assistante Sociale, Diététicienne, Ergothérapeute, Kiné, AMP, Socio-Esthéticienne)\",\n",
       "       \"Présence de 10 LISP au sein d'un service de l'hôpital.\",\n",
       "       'Établissement de soins de suite et de réadaptation accueillant 6 lits identifiés en soins palliatifs.',\n",
       "       \"L'équipe prend en charge les 3 LISP ainsi que 7 lits de médecine à visée gériatrique.\\r\\nAutres : diététicienne, kiné, ergo\",\n",
       "       '2 LISP en service de médecine polyvalente',\n",
       "       \"C'est le médecin de l'EMSP qui, par défaut, intervient sur les LISP en attente d'un médecin dédié. L'IDE travaille en étroite collaboration avec l'ensemble des ressources disponibles (psycho, assistante sociales....)\",\n",
       "       ' Chirurgies cancérologiques, Chimiothérapie ,Radiothérapie et un service de 7 lits LISP. Consultation anti douleur',\n",
       "       'USP provisoire de 7 lits\\r\\néquipe pluridisciplinaire dédiée\\r\\narticulation avec les autres ressources',\n",
       "       \"Le personnel médical et paramédical s'occuppe des 20 lits de médecine y compris les LISP.\\r\\n\",\n",
       "       'Oncologie (6 LISP)\\r\\nPneumologie (3 LISP)\\r\\nConcarneau (3 LISP)',\n",
       "       'Unité de 10 lits : 2 médecins ETP, 1 cadre, 1 psychologue, 1 binôme IDE/AS pour 5 patients le jour, 1 secrétaire,  1 as sociale',\n",
       "       '8 LISP',\n",
       "       \"LISP au sein d'un service SSR polyvalent et gériatrique\",\n",
       "       \"8 LISP dans le CH:\\r\\n4 LISP sont regroupés au sein d'une unité dédiée. \\r\\n4 LISP au sein des services de soins\\r\\n\",\n",
       "       'Service de 6 lits de soins palliatifs réservés à la cancérologie\\r\\nEMSP\\r\\nConsultation douleur et soins de support',\n",
       "       'Service de médecine de proximité de 30 lits dont 6 Lits Identifiés Soins Palliatifs',\n",
       "       \"obtention en avril 2019 de 6 LISP en service de SSR polyvalent et unité de 10 lits d'etat vegetatif chronique\",\n",
       "       'Nous avons 10 LISP\\r\\nIntervenants :kiné, ergo, harpe-thérapeute, socio-esthéticienne, APA, sophrologue',\n",
       "       \"Il s'agit d'une Unité à Orientation Palliative disposant de 10 lits\",\n",
       "       'clinique SMR fortement médicalisée,  pluridisciplinaire de 101 lits, disposant de 14 LISP, en plein centre de Nice.'],\n",
       "      dtype=object)"
      ]
     },
     "execution_count": 100,
     "metadata": {},
     "output_type": "execute_result"
    }
   ],
   "source": [
    "df['lits_ou_lisp_zone_libre'].unique()\n"
   ]
  },
  {
   "cell_type": "code",
   "execution_count": 101,
   "metadata": {},
   "outputs": [],
   "source": [
    "liste_textes = df['lits_ou_lisp_zone_libre'].unique()"
   ]
  },
  {
   "cell_type": "code",
   "execution_count": 102,
   "metadata": {},
   "outputs": [
    {
     "name": "stderr",
     "output_type": "stream",
     "text": [
      "<>:4: SyntaxWarning:\n",
      "\n",
      "invalid escape sequence '\\d'\n",
      "\n",
      "<>:5: SyntaxWarning:\n",
      "\n",
      "invalid escape sequence '\\d'\n",
      "\n",
      "<>:4: SyntaxWarning:\n",
      "\n",
      "invalid escape sequence '\\d'\n",
      "\n",
      "<>:5: SyntaxWarning:\n",
      "\n",
      "invalid escape sequence '\\d'\n",
      "\n",
      "C:\\Users\\Admin\\AppData\\Local\\Temp\\ipykernel_8152\\3672976371.py:4: SyntaxWarning:\n",
      "\n",
      "invalid escape sequence '\\d'\n",
      "\n",
      "C:\\Users\\Admin\\AppData\\Local\\Temp\\ipykernel_8152\\3672976371.py:5: SyntaxWarning:\n",
      "\n",
      "invalid escape sequence '\\d'\n",
      "\n"
     ]
    }
   ],
   "source": [
    "\n",
    "x = []\n",
    "for i in liste_textes:\n",
    "    if i!=0:\n",
    "        x.append(re.findall(\"\\d\\d?\\d?[ ][Ll][Ii][Tt][Ss]\",i))\n",
    "        x.append(re.findall(\"\\d\\d?[ ][Ll][Ii][Ss][Pp]\",i))"
   ]
  },
  {
   "cell_type": "code",
   "execution_count": 103,
   "metadata": {},
   "outputs": [
    {
     "data": {
      "text/plain": [
       "[['6 lits'],\n",
       " [],\n",
       " ['4 lits'],\n",
       " [],\n",
       " ['4 lits'],\n",
       " [],\n",
       " ['10 lits', '4 lits'],\n",
       " [],\n",
       " ['12 lits'],\n",
       " [],\n",
       " ['30 lits'],\n",
       " [],\n",
       " ['6 lits', '4 lits'],\n",
       " [],\n",
       " ['4 lits'],\n",
       " [],\n",
       " ['5 lits'],\n",
       " [],\n",
       " ['5 lits'],\n",
       " [],\n",
       " ['6 lits'],\n",
       " [],\n",
       " ['8 lits'],\n",
       " [],\n",
       " ['2 lits'],\n",
       " [],\n",
       " ['5 lits'],\n",
       " [],\n",
       " ['10 lits'],\n",
       " [],\n",
       " ['2 lits'],\n",
       " [],\n",
       " ['4 lits'],\n",
       " [],\n",
       " ['11 lits'],\n",
       " [],\n",
       " ['14 lits'],\n",
       " [],\n",
       " ['9 lits', '5 lits'],\n",
       " [],\n",
       " ['14 lits'],\n",
       " [],\n",
       " ['24 lits'],\n",
       " [],\n",
       " ['12 lits'],\n",
       " [],\n",
       " [],\n",
       " [],\n",
       " [],\n",
       " [],\n",
       " ['12 lits'],\n",
       " [],\n",
       " ['3 lits'],\n",
       " [],\n",
       " ['15 lits'],\n",
       " [],\n",
       " ['8 lits'],\n",
       " [],\n",
       " ['18 lits'],\n",
       " [],\n",
       " ['6 lits'],\n",
       " [],\n",
       " ['4 lits'],\n",
       " [],\n",
       " ['12 lits'],\n",
       " [],\n",
       " [],\n",
       " ['3 LISP'],\n",
       " ['5 lits'],\n",
       " [],\n",
       " ['5 lits'],\n",
       " [],\n",
       " ['6 lits'],\n",
       " [],\n",
       " ['6 lits'],\n",
       " [],\n",
       " ['14 lits'],\n",
       " [],\n",
       " ['3 lits'],\n",
       " [],\n",
       " ['3 lits'],\n",
       " [],\n",
       " ['5 lits'],\n",
       " [],\n",
       " ['5 lits'],\n",
       " [],\n",
       " ['8 lits'],\n",
       " [],\n",
       " ['5 lits'],\n",
       " [],\n",
       " ['3 lits'],\n",
       " [],\n",
       " ['5 lits'],\n",
       " [],\n",
       " ['5 lits'],\n",
       " [],\n",
       " ['5 lits'],\n",
       " [],\n",
       " ['2 lits'],\n",
       " [],\n",
       " ['5 lits'],\n",
       " [],\n",
       " ['6 lits'],\n",
       " [],\n",
       " ['11 lits'],\n",
       " [],\n",
       " ['10 lits'],\n",
       " [],\n",
       " ['10 lits'],\n",
       " [],\n",
       " ['12 lits'],\n",
       " [],\n",
       " ['10 lits'],\n",
       " [],\n",
       " ['7 lits'],\n",
       " [],\n",
       " ['10 lits'],\n",
       " [],\n",
       " ['2 lits'],\n",
       " [],\n",
       " ['4 lits'],\n",
       " [],\n",
       " ['4 lits'],\n",
       " [],\n",
       " ['8 lits', '12 lits'],\n",
       " [],\n",
       " [],\n",
       " [],\n",
       " [],\n",
       " [],\n",
       " ['80 lits'],\n",
       " [],\n",
       " ['14 lits', '15 lits'],\n",
       " [],\n",
       " [],\n",
       " ['6 LISP'],\n",
       " ['6 lits'],\n",
       " [],\n",
       " ['3 lits'],\n",
       " [],\n",
       " [],\n",
       " ['6 LISP'],\n",
       " ['6 lits'],\n",
       " [],\n",
       " ['14 lits'],\n",
       " [],\n",
       " ['5 lits'],\n",
       " [],\n",
       " [],\n",
       " ['4 LISP'],\n",
       " ['6 lits'],\n",
       " [],\n",
       " ['18 lits'],\n",
       " [],\n",
       " ['6 lits'],\n",
       " [],\n",
       " ['5 lits'],\n",
       " [],\n",
       " ['4 lits'],\n",
       " [],\n",
       " [],\n",
       " [],\n",
       " ['4 lits'],\n",
       " [],\n",
       " [],\n",
       " [],\n",
       " [],\n",
       " [],\n",
       " ['3 lits', '320 lits'],\n",
       " [],\n",
       " ['100 lits', '68 lits', '32 lits', '20 lits'],\n",
       " [],\n",
       " ['11 lits'],\n",
       " [],\n",
       " ['8 lits'],\n",
       " [],\n",
       " ['10 lits'],\n",
       " [],\n",
       " ['4 lits'],\n",
       " [],\n",
       " ['8 lits'],\n",
       " [],\n",
       " ['10 lits'],\n",
       " [],\n",
       " ['4 lits'],\n",
       " [],\n",
       " ['8 lits'],\n",
       " [],\n",
       " ['12 lits'],\n",
       " [],\n",
       " ['4 lits'],\n",
       " [],\n",
       " [],\n",
       " [],\n",
       " [],\n",
       " ['10 LISP'],\n",
       " ['6 lits'],\n",
       " [],\n",
       " ['7 lits'],\n",
       " ['3 LISP'],\n",
       " [],\n",
       " ['2 LISP'],\n",
       " [],\n",
       " [],\n",
       " ['7 lits'],\n",
       " [],\n",
       " ['7 lits'],\n",
       " [],\n",
       " ['20 lits'],\n",
       " [],\n",
       " [],\n",
       " ['6 LISP', '3 LISP', '3 LISP'],\n",
       " ['10 lits'],\n",
       " [],\n",
       " [],\n",
       " ['8 LISP'],\n",
       " [],\n",
       " [],\n",
       " [],\n",
       " ['8 LISP', '4 LISP', '4 LISP'],\n",
       " ['6 lits'],\n",
       " [],\n",
       " ['30 lits', '6 Lits'],\n",
       " [],\n",
       " ['10 lits'],\n",
       " ['6 LISP'],\n",
       " [],\n",
       " ['10 LISP'],\n",
       " ['10 lits'],\n",
       " [],\n",
       " ['101 lits'],\n",
       " ['14 LISP']]"
      ]
     },
     "execution_count": 103,
     "metadata": {},
     "output_type": "execute_result"
    }
   ],
   "source": [
    "x"
   ]
  },
  {
   "cell_type": "markdown",
   "metadata": {},
   "source": [
    "SI LA ZONE DE TEXTE CONTIENT \"LITS\" OU \"LISP\", ON EXTRAIT LE NOMBRE ASSOCIE ET LE TYPE DE LITS"
   ]
  },
  {
   "cell_type": "code",
   "execution_count": 104,
   "metadata": {},
   "outputs": [
    {
     "name": "stderr",
     "output_type": "stream",
     "text": [
      "<>:5: SyntaxWarning:\n",
      "\n",
      "invalid escape sequence '\\d'\n",
      "\n",
      "<>:12: SyntaxWarning:\n",
      "\n",
      "invalid escape sequence '\\d'\n",
      "\n",
      "<>:5: SyntaxWarning:\n",
      "\n",
      "invalid escape sequence '\\d'\n",
      "\n",
      "<>:12: SyntaxWarning:\n",
      "\n",
      "invalid escape sequence '\\d'\n",
      "\n",
      "C:\\Users\\Admin\\AppData\\Local\\Temp\\ipykernel_8152\\83400192.py:5: SyntaxWarning:\n",
      "\n",
      "invalid escape sequence '\\d'\n",
      "\n",
      "C:\\Users\\Admin\\AppData\\Local\\Temp\\ipykernel_8152\\83400192.py:12: SyntaxWarning:\n",
      "\n",
      "invalid escape sequence '\\d'\n",
      "\n"
     ]
    }
   ],
   "source": [
    "import re\n",
    "\n",
    "def recherche_nb_lits(x):\n",
    "    liste = []\n",
    "    liste_lits = re.findall(\"\\d\\d?\\d?[ ][Ll][Ii][Tt][Ss]\",x)\n",
    "    if len(liste_lits)>0:\n",
    "        liste.append(liste_lits)\n",
    "    return liste\n",
    "\n",
    "def recherche_nb_LISP(x):\n",
    "    liste = []\n",
    "    liste_lisp = re.findall(\"\\d\\d?[ ][Ll][Ii][Ss][Pp]\",x)\n",
    "    if len(liste_lisp)>0:\n",
    "        liste.append(liste_lisp)\n",
    "    return liste"
   ]
  },
  {
   "cell_type": "code",
   "execution_count": 105,
   "metadata": {},
   "outputs": [],
   "source": [
    "df['liste_lits_zone_libres']= df['Zone de notes libres'].apply(lambda x: recherche_nb_lits(x) if x!=0 else x)\n",
    "df['liste_LISP_zone_libres']= df['Zone de notes libres'].apply(lambda x: recherche_nb_LISP(x) if x!=0 else x)"
   ]
  },
  {
   "cell_type": "code",
   "execution_count": 106,
   "metadata": {},
   "outputs": [
    {
     "name": "stdout",
     "output_type": "stream",
     "text": [
      "[]\n",
      "[]\n",
      "[['6 lits']]\n",
      "6 lits\n",
      "[]\n",
      "[['4 lits']]\n",
      "4 lits\n",
      "[['4 lits']]\n",
      "4 lits\n",
      "[]\n",
      "[['10 lits', '4 lits']]\n",
      "10 lits\n",
      "4 lits\n",
      "[]\n",
      "[['12 lits']]\n",
      "12 lits\n",
      "[]\n",
      "[]\n",
      "[]\n",
      "[['10 LITS']]\n",
      "10 LITS\n",
      "[]\n",
      "[]\n",
      "[]\n",
      "[['30 lits']]\n",
      "30 lits\n",
      "[['6 lits', '4 lits']]\n",
      "6 lits\n",
      "4 lits\n",
      "[]\n",
      "[]\n",
      "[['4 lits']]\n",
      "4 lits\n",
      "[]\n",
      "[]\n",
      "[['5 lits']]\n",
      "5 lits\n",
      "[]\n",
      "[]\n",
      "[]\n",
      "[]\n",
      "[]\n",
      "[]\n",
      "[]\n",
      "[['5 lits']]\n",
      "5 lits\n",
      "[]\n",
      "[['6 lits']]\n",
      "6 lits\n",
      "[]\n",
      "[['8 lits']]\n",
      "8 lits\n",
      "[]\n",
      "[['2 lits']]\n",
      "2 lits\n",
      "[]\n",
      "[]\n",
      "[]\n",
      "[]\n",
      "[]\n",
      "[['5 lits']]\n",
      "5 lits\n",
      "[]\n",
      "[['10 lits']]\n",
      "10 lits\n",
      "[['2 lits']]\n",
      "2 lits\n",
      "[]\n",
      "[['4 lits']]\n",
      "4 lits\n",
      "[['11 lits']]\n",
      "11 lits\n",
      "[['14 lits']]\n",
      "14 lits\n",
      "[['9 lits', '5 lits']]\n",
      "9 lits\n",
      "5 lits\n",
      "[]\n",
      "[]\n",
      "[['14 lits']]\n",
      "14 lits\n",
      "[]\n",
      "[]\n",
      "[['24 lits']]\n",
      "24 lits\n",
      "[['8 lits']]\n",
      "8 lits\n",
      "[]\n",
      "[]\n",
      "[]\n",
      "[]\n",
      "[['12 lits']]\n",
      "12 lits\n",
      "[]\n",
      "[]\n",
      "[]\n",
      "[]\n",
      "[]\n",
      "[['12 lits']]\n",
      "12 lits\n",
      "[['3 lits']]\n",
      "3 lits\n",
      "[]\n",
      "[['15 lits']]\n",
      "15 lits\n",
      "[['8 lits']]\n",
      "8 lits\n",
      "[]\n",
      "[]\n",
      "[['18 lits']]\n",
      "18 lits\n",
      "[]\n",
      "[]\n",
      "[]\n",
      "[]\n",
      "[['14 Lits']]\n",
      "14 Lits\n",
      "[['6 lits']]\n",
      "6 lits\n",
      "[['4 Lits']]\n",
      "4 Lits\n",
      "[['4 Lits']]\n",
      "4 Lits\n",
      "[['4 lits']]\n",
      "4 lits\n",
      "[['12 lits']]\n",
      "12 lits\n",
      "[]\n",
      "[]\n",
      "[['5 lits']]\n",
      "5 lits\n",
      "[]\n",
      "[]\n",
      "[['5 lits']]\n",
      "5 lits\n",
      "[]\n",
      "[]\n",
      "[]\n",
      "[]\n",
      "[['6 lits']]\n",
      "6 lits\n",
      "[['6 lits']]\n",
      "6 lits\n",
      "[['14 lits']]\n",
      "14 lits\n",
      "[['3 lits']]\n",
      "3 lits\n",
      "[['3 lits']]\n",
      "3 lits\n",
      "[['5 lits']]\n",
      "5 lits\n",
      "[['5 lits']]\n",
      "5 lits\n",
      "[['3 lits']]\n",
      "3 lits\n",
      "[['8 lits']]\n",
      "8 lits\n",
      "[['5 lits']]\n",
      "5 lits\n",
      "[]\n",
      "[['3 lits']]\n",
      "3 lits\n",
      "[]\n",
      "[]\n",
      "[['5 lits']]\n",
      "5 lits\n",
      "[['5 lits']]\n",
      "5 lits\n",
      "[['5 lits']]\n",
      "5 lits\n",
      "[]\n",
      "[['2 lits']]\n",
      "2 lits\n",
      "[['5 lits']]\n",
      "5 lits\n",
      "[['6 lits']]\n",
      "6 lits\n",
      "[]\n",
      "[['11 lits']]\n",
      "11 lits\n",
      "[]\n",
      "[]\n",
      "[['10 lits']]\n",
      "10 lits\n",
      "[['6 lits']]\n",
      "6 lits\n",
      "[]\n",
      "[]\n",
      "[]\n",
      "[['5 Lits']]\n",
      "5 Lits\n",
      "[]\n",
      "[]\n",
      "[['6 Lits']]\n",
      "6 Lits\n",
      "[]\n",
      "[]\n",
      "[]\n",
      "[]\n",
      "[['10 lits']]\n",
      "10 lits\n",
      "[]\n",
      "[]\n",
      "[['12 lits']]\n",
      "12 lits\n",
      "[]\n",
      "[]\n",
      "[]\n",
      "[['10 lits']]\n",
      "10 lits\n",
      "[]\n",
      "[['5 Lits']]\n",
      "5 Lits\n",
      "[]\n",
      "[]\n",
      "[]\n",
      "[['7 lits']]\n",
      "7 lits\n",
      "[['10 lits']]\n",
      "10 lits\n",
      "[]\n",
      "[]\n",
      "[]\n",
      "[]\n",
      "[]\n",
      "[['10 lits']]\n",
      "10 lits\n",
      "[]\n",
      "[]\n",
      "[]\n",
      "[]\n",
      "[]\n",
      "[]\n",
      "[]\n",
      "[]\n",
      "[['2 lits']]\n",
      "2 lits\n",
      "[['5 lits']]\n",
      "5 lits\n",
      "[['4 lits']]\n",
      "4 lits\n",
      "[]\n",
      "[]\n",
      "[['4 lits']]\n",
      "4 lits\n",
      "[]\n",
      "[]\n",
      "[['12 lits']]\n",
      "12 lits\n",
      "[]\n",
      "[]\n",
      "[]\n",
      "[]\n",
      "[['10 lits']]\n",
      "10 lits\n",
      "[]\n",
      "[['4 lits']]\n",
      "4 lits\n",
      "[['8 lits', '12 lits']]\n",
      "8 lits\n",
      "12 lits\n",
      "[]\n",
      "[]\n",
      "[]\n",
      "[]\n",
      "[]\n",
      "[]\n",
      "[]\n",
      "[]\n",
      "[]\n",
      "[]\n",
      "[]\n",
      "[]\n",
      "[]\n",
      "[]\n",
      "[['80 lits']]\n",
      "80 lits\n",
      "[['9 Lits']]\n",
      "9 Lits\n",
      "[['14 lits', '15 lits']]\n",
      "14 lits\n",
      "15 lits\n",
      "[]\n",
      "[['6 lits']]\n",
      "6 lits\n",
      "[['3 lits']]\n",
      "3 lits\n",
      "[]\n",
      "[['2 lits']]\n",
      "2 lits\n",
      "[]\n",
      "[]\n",
      "[]\n",
      "[['6 lits']]\n",
      "6 lits\n",
      "[]\n",
      "[]\n",
      "[['14 lits']]\n",
      "14 lits\n",
      "[['3 lits']]\n",
      "3 lits\n",
      "[['5 lits']]\n",
      "5 lits\n",
      "[]\n",
      "[]\n",
      "[]\n",
      "[['6 lits']]\n",
      "6 lits\n",
      "[['18 lits']]\n",
      "18 lits\n",
      "[['6 lits']]\n",
      "6 lits\n",
      "[]\n",
      "[['2 lits']]\n",
      "2 lits\n",
      "[]\n",
      "[]\n",
      "[]\n",
      "[]\n",
      "[['5 lits']]\n",
      "5 lits\n",
      "[['4 Lits']]\n",
      "4 Lits\n",
      "[['4 lits']]\n",
      "4 lits\n",
      "[['4 lits']]\n",
      "4 lits\n",
      "[]\n",
      "[['5 lits']]\n",
      "5 lits\n",
      "[]\n",
      "[]\n",
      "[['4 lits']]\n",
      "4 lits\n",
      "[]\n",
      "[]\n",
      "[]\n",
      "[]\n",
      "[]\n",
      "[['3 lits', '320 lits']]\n",
      "3 lits\n",
      "320 lits\n",
      "[]\n",
      "[['100 lits', '68 lits', '32 lits', '20 lits']]\n",
      "100 lits\n",
      "68 lits\n",
      "32 lits\n",
      "20 lits\n",
      "[]\n",
      "[['11 lits']]\n",
      "11 lits\n",
      "[['8 lits']]\n",
      "8 lits\n",
      "[]\n",
      "[['10 lits']]\n",
      "10 lits\n",
      "[]\n",
      "[]\n",
      "[['4 lits']]\n",
      "4 lits\n",
      "[]\n",
      "[['6 lits']]\n",
      "6 lits\n",
      "[]\n",
      "[]\n",
      "[['8 lits']]\n",
      "8 lits\n",
      "[['10 lits']]\n",
      "10 lits\n",
      "[]\n",
      "[['4 lits']]\n",
      "4 lits\n",
      "[['8 lits']]\n",
      "8 lits\n",
      "[['12 lits']]\n",
      "12 lits\n",
      "[]\n",
      "[]\n",
      "[]\n",
      "[]\n",
      "[]\n",
      "[['4 lits']]\n",
      "4 lits\n",
      "[]\n",
      "[]\n",
      "[]\n",
      "[]\n",
      "[]\n",
      "[]\n",
      "[]\n",
      "[]\n",
      "[]\n",
      "[]\n",
      "[]\n",
      "[['6 lits']]\n",
      "6 lits\n",
      "[]\n",
      "[]\n",
      "[]\n",
      "[]\n",
      "[['7 lits']]\n",
      "7 lits\n",
      "[]\n",
      "[]\n",
      "[]\n",
      "[]\n",
      "[]\n",
      "[]\n",
      "[]\n",
      "[]\n",
      "[]\n",
      "[]\n",
      "[]\n",
      "[]\n",
      "[['7 lits']]\n",
      "7 lits\n",
      "[]\n",
      "[['7 lits']]\n",
      "7 lits\n",
      "[['20 lits']]\n",
      "20 lits\n",
      "[]\n",
      "[]\n",
      "[]\n",
      "[]\n",
      "[]\n",
      "[]\n",
      "[]\n",
      "[]\n",
      "[]\n",
      "[]\n",
      "[]\n",
      "[['10 lits']]\n",
      "10 lits\n",
      "[]\n",
      "[]\n",
      "[]\n",
      "[]\n",
      "[]\n",
      "[]\n",
      "[]\n",
      "[]\n",
      "[]\n",
      "[]\n",
      "[]\n",
      "[]\n",
      "[]\n",
      "[]\n",
      "[]\n",
      "[]\n",
      "[]\n",
      "[]\n",
      "[]\n",
      "[]\n",
      "[['6 lits']]\n",
      "6 lits\n",
      "[['5 lits']]\n",
      "5 lits\n",
      "[]\n",
      "[]\n",
      "[]\n",
      "[]\n",
      "[]\n",
      "[]\n",
      "[['30 lits', '6 Lits']]\n",
      "30 lits\n",
      "6 Lits\n",
      "[]\n",
      "[]\n",
      "[]\n",
      "[]\n",
      "[]\n",
      "[]\n",
      "[['10 lits']]\n",
      "10 lits\n",
      "[]\n",
      "[]\n",
      "[]\n",
      "[['10 lits']]\n",
      "10 lits\n",
      "[]\n",
      "[]\n",
      "[]\n",
      "[]\n",
      "[]\n",
      "[]\n",
      "[]\n",
      "[['101 lits']]\n",
      "101 lits\n",
      "[]\n",
      "[]\n",
      "[]\n",
      "[]\n",
      "[]\n",
      "[]\n",
      "[]\n",
      "[]\n",
      "[]\n",
      "[]\n",
      "[]\n",
      "[]\n",
      "[]\n",
      "[]\n",
      "[]\n",
      "[]\n",
      "[]\n",
      "[]\n",
      "[]\n",
      "[]\n",
      "[]\n",
      "[]\n",
      "[]\n",
      "[]\n",
      "[]\n",
      "[]\n",
      "[]\n",
      "[]\n",
      "[]\n",
      "[]\n",
      "[]\n",
      "[]\n",
      "[]\n",
      "[]\n",
      "[]\n",
      "[]\n",
      "[]\n",
      "[]\n",
      "[]\n",
      "[]\n",
      "[]\n",
      "[]\n",
      "[]\n",
      "[]\n",
      "[]\n",
      "[]\n",
      "[]\n",
      "[]\n",
      "[]\n",
      "[]\n",
      "[]\n",
      "[]\n",
      "[]\n",
      "[]\n",
      "[]\n",
      "[]\n",
      "[]\n",
      "[]\n",
      "[]\n",
      "[]\n",
      "[]\n",
      "[]\n",
      "[]\n",
      "[]\n",
      "[]\n",
      "[]\n",
      "[]\n",
      "[]\n",
      "[]\n",
      "[]\n",
      "[]\n",
      "[]\n",
      "[]\n",
      "[]\n",
      "[]\n",
      "[]\n",
      "[]\n",
      "[]\n",
      "[]\n",
      "[]\n",
      "[]\n",
      "[]\n",
      "[]\n",
      "[]\n",
      "[]\n",
      "[]\n",
      "[]\n",
      "[]\n",
      "[]\n",
      "[]\n",
      "[]\n",
      "[]\n",
      "[]\n",
      "[]\n",
      "[]\n",
      "[]\n",
      "[]\n",
      "[]\n",
      "[]\n",
      "[]\n",
      "[['3 LISP']]\n",
      "3 LISP\n",
      "[]\n",
      "[]\n",
      "[]\n",
      "[]\n",
      "[]\n",
      "[]\n",
      "[]\n",
      "[]\n",
      "[]\n",
      "[]\n",
      "[]\n",
      "[]\n",
      "[]\n",
      "[]\n",
      "[]\n",
      "[]\n",
      "[]\n",
      "[]\n",
      "[]\n",
      "[]\n",
      "[]\n",
      "[]\n",
      "[]\n",
      "[]\n",
      "[]\n",
      "[]\n",
      "[]\n",
      "[]\n",
      "[]\n",
      "[]\n",
      "[]\n",
      "[]\n",
      "[]\n",
      "[]\n",
      "[]\n",
      "[]\n",
      "[]\n",
      "[]\n",
      "[]\n",
      "[]\n",
      "[]\n",
      "[]\n",
      "[]\n",
      "[]\n",
      "[]\n",
      "[]\n",
      "[]\n",
      "[]\n",
      "[]\n",
      "[]\n",
      "[]\n",
      "[]\n",
      "[]\n",
      "[]\n",
      "[]\n",
      "[]\n",
      "[]\n",
      "[]\n",
      "[]\n",
      "[]\n",
      "[]\n",
      "[]\n",
      "[]\n",
      "[]\n",
      "[]\n",
      "[]\n",
      "[]\n",
      "[]\n",
      "[]\n",
      "[]\n",
      "[]\n",
      "[]\n",
      "[]\n",
      "[]\n",
      "[]\n",
      "[]\n",
      "[]\n",
      "[]\n",
      "[]\n",
      "[]\n",
      "[]\n",
      "[]\n",
      "[]\n",
      "[]\n",
      "[]\n",
      "[]\n",
      "[]\n",
      "[]\n",
      "[]\n",
      "[]\n",
      "[]\n",
      "[]\n",
      "[]\n",
      "[]\n",
      "[]\n",
      "[]\n",
      "[]\n",
      "[]\n",
      "[]\n",
      "[]\n",
      "[]\n",
      "[]\n",
      "[]\n",
      "[]\n",
      "[]\n",
      "[]\n",
      "[]\n",
      "[]\n",
      "[]\n",
      "[['6 LISP']]\n",
      "6 LISP\n",
      "[]\n",
      "[]\n",
      "[]\n",
      "[]\n",
      "[]\n",
      "[]\n",
      "[['6 LISP']]\n",
      "6 LISP\n",
      "[]\n",
      "[]\n",
      "[]\n",
      "[]\n",
      "[]\n",
      "[]\n",
      "[['4 LISP']]\n",
      "4 LISP\n",
      "[]\n",
      "[]\n",
      "[]\n",
      "[]\n",
      "[]\n",
      "[]\n",
      "[]\n",
      "[]\n",
      "[]\n",
      "[]\n",
      "[]\n",
      "[]\n",
      "[]\n",
      "[]\n",
      "[]\n",
      "[]\n",
      "[]\n",
      "[]\n",
      "[]\n",
      "[]\n",
      "[]\n",
      "[]\n",
      "[]\n",
      "[]\n",
      "[]\n",
      "[]\n",
      "[]\n",
      "[]\n",
      "[]\n",
      "[]\n",
      "[]\n",
      "[]\n",
      "[]\n",
      "[]\n",
      "[]\n",
      "[]\n",
      "[]\n",
      "[]\n",
      "[]\n",
      "[]\n",
      "[]\n",
      "[]\n",
      "[]\n",
      "[]\n",
      "[]\n",
      "[]\n",
      "[]\n",
      "[]\n",
      "[]\n",
      "[]\n",
      "[]\n",
      "[]\n",
      "[]\n",
      "[]\n",
      "[]\n",
      "[]\n",
      "[]\n",
      "[]\n",
      "[]\n",
      "[['10 LISP']]\n",
      "10 LISP\n",
      "[]\n",
      "[]\n",
      "[]\n",
      "[]\n",
      "[]\n",
      "[]\n",
      "[]\n",
      "[]\n",
      "[['3 LISP']]\n",
      "3 LISP\n",
      "[]\n",
      "[]\n",
      "[]\n",
      "[]\n",
      "[['2 LISP']]\n",
      "2 LISP\n",
      "[]\n",
      "[]\n",
      "[]\n",
      "[]\n",
      "[]\n",
      "[]\n",
      "[]\n",
      "[]\n",
      "[]\n",
      "[]\n",
      "[]\n",
      "[]\n",
      "[]\n",
      "[]\n",
      "[]\n",
      "[]\n",
      "[]\n",
      "[]\n",
      "[['6 LISP', '3 LISP', '3 LISP']]\n",
      "6 LISP\n",
      "3 LISP\n",
      "3 LISP\n",
      "[]\n",
      "[]\n",
      "[]\n",
      "[]\n",
      "[]\n",
      "[]\n",
      "[]\n",
      "[]\n",
      "[]\n",
      "[]\n",
      "[]\n",
      "[]\n",
      "[]\n",
      "[]\n",
      "[]\n",
      "[['8 LISP']]\n",
      "8 LISP\n",
      "[]\n",
      "[]\n",
      "[]\n",
      "[]\n",
      "[]\n",
      "[]\n",
      "[['8 LISP', '4 LISP', '4 LISP']]\n",
      "8 LISP\n",
      "4 LISP\n",
      "4 LISP\n",
      "[]\n",
      "[]\n",
      "[]\n",
      "[]\n",
      "[]\n",
      "[]\n",
      "[]\n",
      "[]\n",
      "[]\n",
      "[]\n",
      "[]\n",
      "[]\n",
      "[]\n",
      "[]\n",
      "[]\n",
      "[]\n",
      "[['6 LISP']]\n",
      "6 LISP\n",
      "[]\n",
      "[]\n",
      "[['10 LISP']]\n",
      "10 LISP\n",
      "[]\n",
      "[]\n",
      "[]\n",
      "[]\n",
      "[]\n",
      "[]\n",
      "[]\n",
      "[]\n",
      "[['14 LISP']]\n",
      "14 LISP\n",
      "[]\n",
      "[]\n",
      "[]\n",
      "[]\n",
      "[]\n",
      "[]\n",
      "[]\n",
      "[]\n",
      "[]\n",
      "[]\n",
      "[]\n"
     ]
    }
   ],
   "source": [
    "def total(liste):\n",
    "    sum = 0\n",
    "    print(liste)\n",
    "    for i in liste: \n",
    "        for k in i:\n",
    "            print(k)\n",
    "            sum += int(str(k).split(' ')[0])\n",
    "        \n",
    "    return sum\n",
    "\n",
    "def total_backup(liste):\n",
    "    sum = 0\n",
    "    for i in liste: \n",
    "        idx = 0\n",
    "        print(i[idx])\n",
    "        sum += int(str(i[idx]).split(' ')[0])\n",
    "        idx +=1\n",
    "    return sum\n",
    "\n",
    "df['total_valeurs_lits_zone_libres'] = df['liste_lits_zone_libres'].apply(lambda x : total(x))\n",
    "df['total_valeurs_LISP_zone_libres'] = df['liste_LISP_zone_libres'].apply(lambda x : total(x))"
   ]
  },
  {
   "cell_type": "code",
   "execution_count": 107,
   "metadata": {},
   "outputs": [
    {
     "data": {
      "text/plain": [
       "array([  0,   6,   4,  14,  12,  10,  30,   5,   8,   2,  11,  24,   3,\n",
       "        15,  18,   7,  20,  80,   9,  29, 323, 220,  36, 101], dtype=int64)"
      ]
     },
     "execution_count": 107,
     "metadata": {},
     "output_type": "execute_result"
    }
   ],
   "source": [
    "df['total_valeurs_lits_zone_libres'].unique()"
   ]
  },
  {
   "cell_type": "code",
   "execution_count": 108,
   "metadata": {},
   "outputs": [
    {
     "data": {
      "text/plain": [
       "array([ 0,  3,  6,  4, 10,  2, 12,  8, 16, 14], dtype=int64)"
      ]
     },
     "execution_count": 108,
     "metadata": {},
     "output_type": "execute_result"
    }
   ],
   "source": [
    "df['total_valeurs_LISP_zone_libres'].unique()"
   ]
  },
  {
   "cell_type": "code",
   "execution_count": 109,
   "metadata": {},
   "outputs": [],
   "source": [
    "df['nombre_pertinent'] = df.apply(lambda x : x['total_valeurs_LISP_zone_libres'] if x['total_valeurs_LISP_zone_libres']>0 else x['total_valeurs_lits_zone_libres'], axis=1)"
   ]
  },
  {
   "cell_type": "code",
   "execution_count": 110,
   "metadata": {},
   "outputs": [
    {
     "data": {
      "text/plain": [
       "86"
      ]
     },
     "execution_count": 110,
     "metadata": {},
     "output_type": "execute_result"
    }
   ],
   "source": [
    "len(df[\"Département\"].unique())"
   ]
  },
  {
   "cell_type": "code",
   "execution_count": 111,
   "metadata": {},
   "outputs": [],
   "source": [
    "df = df.sort_values(\"Département\", ascending=False)"
   ]
  },
  {
   "cell_type": "code",
   "execution_count": 112,
   "metadata": {},
   "outputs": [
    {
     "data": {
      "application/vnd.plotly.v1+json": {
       "config": {
        "plotlyServerURL": "https://plot.ly"
       },
       "data": [
        {
         "alignmentgroup": "True",
         "hovertemplate": "count=%{x}<br>Département=%{y}<extra></extra>",
         "legendgroup": "",
         "marker": {
          "color": "#636efa",
          "pattern": {
           "shape": ""
          }
         },
         "name": "",
         "offsetgroup": "",
         "orientation": "h",
         "showlegend": false,
         "textposition": "auto",
         "type": "bar",
         "x": [
          1,
          1,
          1,
          1,
          1,
          1,
          1,
          1,
          1,
          1,
          1,
          1,
          1,
          1,
          1,
          1,
          1,
          1,
          1,
          1,
          1,
          1,
          1,
          1,
          1,
          1,
          1,
          1,
          1,
          1,
          1,
          1,
          1,
          1,
          1,
          1,
          1,
          1,
          1,
          1,
          1,
          1,
          1,
          1,
          1,
          1,
          1,
          1,
          1,
          1,
          1,
          1,
          1,
          1,
          1,
          1,
          1,
          1,
          1,
          1,
          1,
          1,
          1,
          1,
          1,
          1,
          1,
          1,
          1,
          1,
          1,
          1,
          1,
          1,
          1,
          1,
          1,
          1,
          1,
          1,
          1,
          1,
          1,
          1,
          1,
          1,
          1,
          1,
          1,
          1,
          1,
          1,
          1,
          1,
          1,
          1,
          1,
          1,
          1,
          1,
          1,
          1,
          1,
          1,
          1,
          1,
          1,
          1,
          1,
          1,
          1,
          1,
          1,
          1,
          1,
          1,
          1,
          1,
          1,
          1,
          1,
          1,
          1,
          1,
          1,
          1,
          1,
          1,
          1,
          1,
          1,
          1,
          1,
          1,
          1,
          1,
          1,
          1,
          1,
          1,
          1,
          1,
          1,
          1,
          1,
          1,
          1,
          1,
          1,
          1,
          1,
          1,
          1,
          1,
          1,
          1,
          1,
          1,
          1,
          1,
          1,
          1,
          1,
          1,
          1,
          1,
          1,
          1,
          1,
          1,
          1,
          1,
          1,
          1,
          1,
          1,
          1,
          1,
          1,
          1,
          1,
          1,
          1,
          1,
          1,
          1,
          1,
          1,
          1,
          1,
          1,
          1,
          1,
          1,
          1,
          1,
          1,
          1,
          1,
          1,
          1,
          1,
          1,
          1,
          1,
          1,
          1,
          1,
          1,
          1,
          1,
          1,
          1,
          1,
          1,
          1,
          1,
          1,
          1,
          1,
          1,
          1,
          1,
          1,
          1,
          1,
          1,
          1,
          1,
          1,
          1,
          1,
          1,
          1,
          1,
          1,
          1,
          1,
          1,
          1,
          1,
          1,
          1,
          1,
          1,
          1,
          1,
          1,
          1,
          1,
          1,
          1,
          1,
          1,
          1,
          1,
          1,
          1,
          1,
          1,
          1,
          1,
          1,
          1,
          1,
          1,
          1,
          1,
          1,
          1,
          1,
          1,
          1,
          1,
          1,
          1,
          1,
          1,
          1,
          1,
          1,
          1,
          1,
          1,
          1,
          1,
          1,
          1,
          1,
          1,
          1,
          1,
          1,
          1,
          1,
          1,
          1,
          1,
          1,
          1,
          1,
          1,
          1,
          1,
          1,
          1,
          1,
          1,
          1,
          1,
          1,
          1,
          1,
          1,
          1,
          1,
          1,
          1,
          1,
          1,
          1,
          1,
          1,
          1,
          1,
          1,
          1,
          1,
          1,
          1,
          1,
          1,
          1,
          1,
          1,
          1,
          1,
          1,
          1,
          1,
          1,
          1,
          1,
          1,
          1,
          1,
          1,
          1,
          1,
          1,
          1,
          1,
          1,
          1,
          1,
          1,
          1,
          1,
          1,
          1,
          1,
          1,
          1,
          1,
          1,
          1,
          1,
          1,
          1,
          1
         ],
         "xaxis": "x",
         "y": [
          "nan",
          "nan",
          "nan",
          "nan",
          "nan",
          "Yvelines",
          "Yvelines",
          "Yvelines",
          "Yonne",
          "Yonne",
          "Vosges",
          "Vosges",
          "Vienne",
          "Vienne",
          "Vienne",
          "Vendée",
          "Vendée",
          "Vendée",
          "Vendée",
          "Vendée",
          "Vendée",
          "Vendée",
          "Vendée",
          "Vaucluse",
          "Vaucluse",
          "Vaucluse",
          "Vaucluse",
          "Var",
          "Var",
          "Var",
          "Var",
          "Var",
          "Val-de-Marne",
          "Val-de-Marne",
          "Val-de-Marne",
          "Val-de-Marne",
          "Val-de-Marne",
          "Val d'Oise",
          "Val d'Oise",
          "Val d'Oise",
          "Val d'Oise",
          "Val d'Oise",
          "Val d'Oise",
          "Val d'Oise",
          "Val d'Oise",
          "Territoire de Belfort",
          "Tarn-et-Garonne",
          "Tarn",
          "Somme",
          "Somme",
          "Somme",
          "Somme",
          "Seine-et-Marne",
          "Seine-et-Marne",
          "Seine-et-Marne",
          "Seine-Saint-Denis",
          "Seine-Saint-Denis",
          "Seine-Saint-Denis",
          "Seine-Saint-Denis",
          "Seine-Saint-Denis",
          "Seine-Saint-Denis",
          "Seine-Saint-Denis",
          "Seine-Maritime",
          "Seine-Maritime",
          "Seine-Maritime",
          "Seine-Maritime",
          "Saône-et-Loire",
          "Saône-et-Loire",
          "Saône-et-Loire",
          "Saône-et-Loire",
          "Saône-et-Loire",
          "Savoie",
          "Savoie",
          "Savoie",
          "Savoie",
          "Savoie",
          "Savoie",
          "Sarthe",
          "Sarthe",
          "Sarthe",
          "Sarthe",
          "Sarthe",
          "Sarthe",
          "Rhône",
          "Rhône",
          "Rhône",
          "Rhône",
          "Rhône",
          "Rhône",
          "Rhône",
          "Rhône",
          "Pyrénées-Orientales",
          "Pyrénées-Atlantiques",
          "Pyrénées-Atlantiques",
          "Pyrénées-Atlantiques",
          "Pyrénées-Atlantiques",
          "Pyrénées-Atlantiques",
          "Puy-de-Dôme",
          "Puy-de-Dôme",
          "Puy-de-Dôme",
          "Pas-de-Calais",
          "Pas-de-Calais",
          "Pas-de-Calais",
          "Pas-de-Calais",
          "Pas-de-Calais",
          "Pas-de-Calais",
          "Pas-de-Calais",
          "Pas-de-Calais",
          "Pas-de-Calais",
          "Paris",
          "Paris",
          "Paris",
          "Paris",
          "Paris",
          "Paris",
          "Paris",
          "Orne",
          "Orne",
          "Oise",
          "Oise",
          "Oise",
          "Nord",
          "Nord",
          "Nord",
          "Nord",
          "Nord",
          "Nord",
          "Nord",
          "Nord",
          "Nord",
          "Nord",
          "Nord",
          "Nord",
          "Nord",
          "Nord",
          "Nord",
          "Nord",
          "Nord",
          "Nord",
          "Nord",
          "Nord",
          "Nord",
          "Nord",
          "Nièvre",
          "Moselle",
          "Moselle",
          "Moselle",
          "Moselle",
          "Moselle",
          "Moselle",
          "Morbihan",
          "Morbihan",
          "Morbihan",
          "Morbihan",
          "Morbihan",
          "Morbihan",
          "Morbihan",
          "Morbihan",
          "Morbihan",
          "Meurthe-et-Moselle",
          "Meurthe-et-Moselle",
          "Meurthe-et-Moselle",
          "Meurthe-et-Moselle",
          "Meurthe-et-Moselle",
          "Mayenne",
          "Mayenne",
          "Mayenne",
          "Martinique",
          "Marne",
          "Marne",
          "Marne",
          "Manche",
          "Manche",
          "Manche",
          "Manche",
          "Manche",
          "Manche",
          "Maine-et-Loire",
          "Maine-et-Loire",
          "Maine-et-Loire",
          "Maine-et-Loire",
          "Lozère",
          "Lot-et-Garonne",
          "Lot-et-Garonne",
          "Lot-et-Garonne",
          "Lot-et-Garonne",
          "Lot",
          "Lot",
          "Loiret",
          "Loiret",
          "Loire-Atlantique",
          "Loire-Atlantique",
          "Loire-Atlantique",
          "Loire-Atlantique",
          "Loire-Atlantique",
          "Loire-Atlantique",
          "Loire-Atlantique",
          "Loire-Atlantique",
          "Loire-Atlantique",
          "Loire-Atlantique",
          "Loire-Atlantique",
          "Loire-Atlantique",
          "Loire-Atlantique",
          "Loire-Atlantique",
          "Loire",
          "Loire",
          "Loire",
          "Loir-et-Cher",
          "Loir-et-Cher",
          "Loir-et-Cher",
          "Loir-et-Cher",
          "Loir-et-Cher",
          "Landes",
          "Landes",
          "Landes",
          "Landes",
          "Isère",
          "Isère",
          "Isère",
          "Isère",
          "Indre-et-Loire",
          "Indre-et-Loire",
          "Ille-et-Vilaine",
          "Ille-et-Vilaine",
          "Ille-et-Vilaine",
          "Ille-et-Vilaine",
          "Ille-et-Vilaine",
          "Ille-et-Vilaine",
          "Ille-et-Vilaine",
          "Ille-et-Vilaine",
          "Ille-et-Vilaine",
          "Hérault",
          "Hérault",
          "Hérault",
          "Hérault",
          "Hauts-de-Seine",
          "Hauts-de-Seine",
          "Hauts-de-Seine",
          "Hauts-de-Seine",
          "Hauts-de-Seine",
          "Hautes-Pyrénées",
          "Hautes-Pyrénées",
          "Hautes-Pyrénées",
          "Hautes-Alpes",
          "Haute-Vienne",
          "Haute-Vienne",
          "Haute-Savoie",
          "Haute-Savoie",
          "Haute-Savoie",
          "Haute-Savoie",
          "Haute-Savoie",
          "Haute-Savoie",
          "Haute-Garonne",
          "Haute-Garonne",
          "Haute-Garonne",
          "Haute-Garonne",
          "Haute-Garonne",
          "Haute-Garonne",
          "Haute-Garonne",
          "Haute-Garonne",
          "Haute-Garonne",
          "Haute-Garonne",
          "Haute-Garonne",
          "Haut-Rhin",
          "Haut-Rhin",
          "Haut-Rhin",
          "Gironde",
          "Gironde",
          "Gironde",
          "Gironde",
          "Gironde",
          "Gironde",
          "Gironde",
          "Gironde",
          "Gers",
          "Gers",
          "Gard",
          "Gard",
          "Gard",
          "Finistère",
          "Finistère",
          "Finistère",
          "Finistère",
          "Finistère",
          "Finistère",
          "Finistère",
          "Eure",
          "Eure",
          "Eure",
          "Eure",
          "Eure",
          "Essonne",
          "Essonne",
          "Essonne",
          "Essonne",
          "Essonne",
          "Essonne",
          "Essonne",
          "Drôme",
          "Drôme",
          "Drôme",
          "Drôme",
          "Doubs",
          "Dordogne",
          "Dordogne",
          "Dordogne",
          "Dordogne",
          "Dordogne",
          "Deux-Sèvres",
          "Deux-Sèvres",
          "Côtes-d'Armor",
          "Côtes-d'Armor",
          "Côtes-d'Armor",
          "Côtes-d'Armor",
          "Côte-d'Or",
          "Côte-d'Or",
          "Corse-du-Sud",
          "Corse-du-Sud",
          "Corse-du-Sud",
          "Charente-Maritime",
          "Charente",
          "Charente",
          "Charente",
          "Cantal",
          "Calvados",
          "Calvados",
          "Calvados",
          "Calvados",
          "Bouches-du-Rhône",
          "Bouches-du-Rhône",
          "Bouches-du-Rhône",
          "Bouches-du-Rhône",
          "Bouches-du-Rhône",
          "Bouches-du-Rhône",
          "Bouches-du-Rhône",
          "Bouches-du-Rhône",
          "Bouches-du-Rhône",
          "Bas-Rhin",
          "Bas-Rhin",
          "Bas-Rhin",
          "Bas-Rhin",
          "Bas-Rhin",
          "Aveyron",
          "Aude",
          "Aude",
          "Aude",
          "Aube",
          "Aube",
          "Ariège",
          "Ardèche",
          "Ardèche",
          "Ardèche",
          "Ardèche",
          "Alpes-de-Haute-Provence",
          "Alpes-Maritimes",
          "Alpes-Maritimes",
          "Alpes-Maritimes",
          "Alpes-Maritimes",
          "Alpes-Maritimes",
          "Alpes-Maritimes",
          "Alpes-Maritimes",
          "Allier",
          "Aisne",
          "Aisne",
          "Aisne",
          "Aisne",
          "Aisne",
          "Ain",
          "Ain",
          "Ain"
         ],
         "yaxis": "y"
        }
       ],
       "layout": {
        "barmode": "relative",
        "height": 1800,
        "legend": {
         "tracegroupgap": 0
        },
        "template": {
         "data": {
          "bar": [
           {
            "error_x": {
             "color": "#2a3f5f"
            },
            "error_y": {
             "color": "#2a3f5f"
            },
            "marker": {
             "line": {
              "color": "#E5ECF6",
              "width": 0.5
             },
             "pattern": {
              "fillmode": "overlay",
              "size": 10,
              "solidity": 0.2
             }
            },
            "type": "bar"
           }
          ],
          "barpolar": [
           {
            "marker": {
             "line": {
              "color": "#E5ECF6",
              "width": 0.5
             },
             "pattern": {
              "fillmode": "overlay",
              "size": 10,
              "solidity": 0.2
             }
            },
            "type": "barpolar"
           }
          ],
          "carpet": [
           {
            "aaxis": {
             "endlinecolor": "#2a3f5f",
             "gridcolor": "white",
             "linecolor": "white",
             "minorgridcolor": "white",
             "startlinecolor": "#2a3f5f"
            },
            "baxis": {
             "endlinecolor": "#2a3f5f",
             "gridcolor": "white",
             "linecolor": "white",
             "minorgridcolor": "white",
             "startlinecolor": "#2a3f5f"
            },
            "type": "carpet"
           }
          ],
          "choropleth": [
           {
            "colorbar": {
             "outlinewidth": 0,
             "ticks": ""
            },
            "type": "choropleth"
           }
          ],
          "contour": [
           {
            "colorbar": {
             "outlinewidth": 0,
             "ticks": ""
            },
            "colorscale": [
             [
              0,
              "#0d0887"
             ],
             [
              0.1111111111111111,
              "#46039f"
             ],
             [
              0.2222222222222222,
              "#7201a8"
             ],
             [
              0.3333333333333333,
              "#9c179e"
             ],
             [
              0.4444444444444444,
              "#bd3786"
             ],
             [
              0.5555555555555556,
              "#d8576b"
             ],
             [
              0.6666666666666666,
              "#ed7953"
             ],
             [
              0.7777777777777778,
              "#fb9f3a"
             ],
             [
              0.8888888888888888,
              "#fdca26"
             ],
             [
              1,
              "#f0f921"
             ]
            ],
            "type": "contour"
           }
          ],
          "contourcarpet": [
           {
            "colorbar": {
             "outlinewidth": 0,
             "ticks": ""
            },
            "type": "contourcarpet"
           }
          ],
          "heatmap": [
           {
            "colorbar": {
             "outlinewidth": 0,
             "ticks": ""
            },
            "colorscale": [
             [
              0,
              "#0d0887"
             ],
             [
              0.1111111111111111,
              "#46039f"
             ],
             [
              0.2222222222222222,
              "#7201a8"
             ],
             [
              0.3333333333333333,
              "#9c179e"
             ],
             [
              0.4444444444444444,
              "#bd3786"
             ],
             [
              0.5555555555555556,
              "#d8576b"
             ],
             [
              0.6666666666666666,
              "#ed7953"
             ],
             [
              0.7777777777777778,
              "#fb9f3a"
             ],
             [
              0.8888888888888888,
              "#fdca26"
             ],
             [
              1,
              "#f0f921"
             ]
            ],
            "type": "heatmap"
           }
          ],
          "heatmapgl": [
           {
            "colorbar": {
             "outlinewidth": 0,
             "ticks": ""
            },
            "colorscale": [
             [
              0,
              "#0d0887"
             ],
             [
              0.1111111111111111,
              "#46039f"
             ],
             [
              0.2222222222222222,
              "#7201a8"
             ],
             [
              0.3333333333333333,
              "#9c179e"
             ],
             [
              0.4444444444444444,
              "#bd3786"
             ],
             [
              0.5555555555555556,
              "#d8576b"
             ],
             [
              0.6666666666666666,
              "#ed7953"
             ],
             [
              0.7777777777777778,
              "#fb9f3a"
             ],
             [
              0.8888888888888888,
              "#fdca26"
             ],
             [
              1,
              "#f0f921"
             ]
            ],
            "type": "heatmapgl"
           }
          ],
          "histogram": [
           {
            "marker": {
             "pattern": {
              "fillmode": "overlay",
              "size": 10,
              "solidity": 0.2
             }
            },
            "type": "histogram"
           }
          ],
          "histogram2d": [
           {
            "colorbar": {
             "outlinewidth": 0,
             "ticks": ""
            },
            "colorscale": [
             [
              0,
              "#0d0887"
             ],
             [
              0.1111111111111111,
              "#46039f"
             ],
             [
              0.2222222222222222,
              "#7201a8"
             ],
             [
              0.3333333333333333,
              "#9c179e"
             ],
             [
              0.4444444444444444,
              "#bd3786"
             ],
             [
              0.5555555555555556,
              "#d8576b"
             ],
             [
              0.6666666666666666,
              "#ed7953"
             ],
             [
              0.7777777777777778,
              "#fb9f3a"
             ],
             [
              0.8888888888888888,
              "#fdca26"
             ],
             [
              1,
              "#f0f921"
             ]
            ],
            "type": "histogram2d"
           }
          ],
          "histogram2dcontour": [
           {
            "colorbar": {
             "outlinewidth": 0,
             "ticks": ""
            },
            "colorscale": [
             [
              0,
              "#0d0887"
             ],
             [
              0.1111111111111111,
              "#46039f"
             ],
             [
              0.2222222222222222,
              "#7201a8"
             ],
             [
              0.3333333333333333,
              "#9c179e"
             ],
             [
              0.4444444444444444,
              "#bd3786"
             ],
             [
              0.5555555555555556,
              "#d8576b"
             ],
             [
              0.6666666666666666,
              "#ed7953"
             ],
             [
              0.7777777777777778,
              "#fb9f3a"
             ],
             [
              0.8888888888888888,
              "#fdca26"
             ],
             [
              1,
              "#f0f921"
             ]
            ],
            "type": "histogram2dcontour"
           }
          ],
          "mesh3d": [
           {
            "colorbar": {
             "outlinewidth": 0,
             "ticks": ""
            },
            "type": "mesh3d"
           }
          ],
          "parcoords": [
           {
            "line": {
             "colorbar": {
              "outlinewidth": 0,
              "ticks": ""
             }
            },
            "type": "parcoords"
           }
          ],
          "pie": [
           {
            "automargin": true,
            "type": "pie"
           }
          ],
          "scatter": [
           {
            "fillpattern": {
             "fillmode": "overlay",
             "size": 10,
             "solidity": 0.2
            },
            "type": "scatter"
           }
          ],
          "scatter3d": [
           {
            "line": {
             "colorbar": {
              "outlinewidth": 0,
              "ticks": ""
             }
            },
            "marker": {
             "colorbar": {
              "outlinewidth": 0,
              "ticks": ""
             }
            },
            "type": "scatter3d"
           }
          ],
          "scattercarpet": [
           {
            "marker": {
             "colorbar": {
              "outlinewidth": 0,
              "ticks": ""
             }
            },
            "type": "scattercarpet"
           }
          ],
          "scattergeo": [
           {
            "marker": {
             "colorbar": {
              "outlinewidth": 0,
              "ticks": ""
             }
            },
            "type": "scattergeo"
           }
          ],
          "scattergl": [
           {
            "marker": {
             "colorbar": {
              "outlinewidth": 0,
              "ticks": ""
             }
            },
            "type": "scattergl"
           }
          ],
          "scattermapbox": [
           {
            "marker": {
             "colorbar": {
              "outlinewidth": 0,
              "ticks": ""
             }
            },
            "type": "scattermapbox"
           }
          ],
          "scatterpolar": [
           {
            "marker": {
             "colorbar": {
              "outlinewidth": 0,
              "ticks": ""
             }
            },
            "type": "scatterpolar"
           }
          ],
          "scatterpolargl": [
           {
            "marker": {
             "colorbar": {
              "outlinewidth": 0,
              "ticks": ""
             }
            },
            "type": "scatterpolargl"
           }
          ],
          "scatterternary": [
           {
            "marker": {
             "colorbar": {
              "outlinewidth": 0,
              "ticks": ""
             }
            },
            "type": "scatterternary"
           }
          ],
          "surface": [
           {
            "colorbar": {
             "outlinewidth": 0,
             "ticks": ""
            },
            "colorscale": [
             [
              0,
              "#0d0887"
             ],
             [
              0.1111111111111111,
              "#46039f"
             ],
             [
              0.2222222222222222,
              "#7201a8"
             ],
             [
              0.3333333333333333,
              "#9c179e"
             ],
             [
              0.4444444444444444,
              "#bd3786"
             ],
             [
              0.5555555555555556,
              "#d8576b"
             ],
             [
              0.6666666666666666,
              "#ed7953"
             ],
             [
              0.7777777777777778,
              "#fb9f3a"
             ],
             [
              0.8888888888888888,
              "#fdca26"
             ],
             [
              1,
              "#f0f921"
             ]
            ],
            "type": "surface"
           }
          ],
          "table": [
           {
            "cells": {
             "fill": {
              "color": "#EBF0F8"
             },
             "line": {
              "color": "white"
             }
            },
            "header": {
             "fill": {
              "color": "#C8D4E3"
             },
             "line": {
              "color": "white"
             }
            },
            "type": "table"
           }
          ]
         },
         "layout": {
          "annotationdefaults": {
           "arrowcolor": "#2a3f5f",
           "arrowhead": 0,
           "arrowwidth": 1
          },
          "autotypenumbers": "strict",
          "coloraxis": {
           "colorbar": {
            "outlinewidth": 0,
            "ticks": ""
           }
          },
          "colorscale": {
           "diverging": [
            [
             0,
             "#8e0152"
            ],
            [
             0.1,
             "#c51b7d"
            ],
            [
             0.2,
             "#de77ae"
            ],
            [
             0.3,
             "#f1b6da"
            ],
            [
             0.4,
             "#fde0ef"
            ],
            [
             0.5,
             "#f7f7f7"
            ],
            [
             0.6,
             "#e6f5d0"
            ],
            [
             0.7,
             "#b8e186"
            ],
            [
             0.8,
             "#7fbc41"
            ],
            [
             0.9,
             "#4d9221"
            ],
            [
             1,
             "#276419"
            ]
           ],
           "sequential": [
            [
             0,
             "#0d0887"
            ],
            [
             0.1111111111111111,
             "#46039f"
            ],
            [
             0.2222222222222222,
             "#7201a8"
            ],
            [
             0.3333333333333333,
             "#9c179e"
            ],
            [
             0.4444444444444444,
             "#bd3786"
            ],
            [
             0.5555555555555556,
             "#d8576b"
            ],
            [
             0.6666666666666666,
             "#ed7953"
            ],
            [
             0.7777777777777778,
             "#fb9f3a"
            ],
            [
             0.8888888888888888,
             "#fdca26"
            ],
            [
             1,
             "#f0f921"
            ]
           ],
           "sequentialminus": [
            [
             0,
             "#0d0887"
            ],
            [
             0.1111111111111111,
             "#46039f"
            ],
            [
             0.2222222222222222,
             "#7201a8"
            ],
            [
             0.3333333333333333,
             "#9c179e"
            ],
            [
             0.4444444444444444,
             "#bd3786"
            ],
            [
             0.5555555555555556,
             "#d8576b"
            ],
            [
             0.6666666666666666,
             "#ed7953"
            ],
            [
             0.7777777777777778,
             "#fb9f3a"
            ],
            [
             0.8888888888888888,
             "#fdca26"
            ],
            [
             1,
             "#f0f921"
            ]
           ]
          },
          "colorway": [
           "#636efa",
           "#EF553B",
           "#00cc96",
           "#ab63fa",
           "#FFA15A",
           "#19d3f3",
           "#FF6692",
           "#B6E880",
           "#FF97FF",
           "#FECB52"
          ],
          "font": {
           "color": "#2a3f5f"
          },
          "geo": {
           "bgcolor": "white",
           "lakecolor": "white",
           "landcolor": "#E5ECF6",
           "showlakes": true,
           "showland": true,
           "subunitcolor": "white"
          },
          "hoverlabel": {
           "align": "left"
          },
          "hovermode": "closest",
          "mapbox": {
           "style": "light"
          },
          "paper_bgcolor": "white",
          "plot_bgcolor": "#E5ECF6",
          "polar": {
           "angularaxis": {
            "gridcolor": "white",
            "linecolor": "white",
            "ticks": ""
           },
           "bgcolor": "#E5ECF6",
           "radialaxis": {
            "gridcolor": "white",
            "linecolor": "white",
            "ticks": ""
           }
          },
          "scene": {
           "xaxis": {
            "backgroundcolor": "#E5ECF6",
            "gridcolor": "white",
            "gridwidth": 2,
            "linecolor": "white",
            "showbackground": true,
            "ticks": "",
            "zerolinecolor": "white"
           },
           "yaxis": {
            "backgroundcolor": "#E5ECF6",
            "gridcolor": "white",
            "gridwidth": 2,
            "linecolor": "white",
            "showbackground": true,
            "ticks": "",
            "zerolinecolor": "white"
           },
           "zaxis": {
            "backgroundcolor": "#E5ECF6",
            "gridcolor": "white",
            "gridwidth": 2,
            "linecolor": "white",
            "showbackground": true,
            "ticks": "",
            "zerolinecolor": "white"
           }
          },
          "shapedefaults": {
           "line": {
            "color": "#2a3f5f"
           }
          },
          "ternary": {
           "aaxis": {
            "gridcolor": "white",
            "linecolor": "white",
            "ticks": ""
           },
           "baxis": {
            "gridcolor": "white",
            "linecolor": "white",
            "ticks": ""
           },
           "bgcolor": "#E5ECF6",
           "caxis": {
            "gridcolor": "white",
            "linecolor": "white",
            "ticks": ""
           }
          },
          "title": {
           "x": 0.05
          },
          "xaxis": {
           "automargin": true,
           "gridcolor": "white",
           "linecolor": "white",
           "ticks": "",
           "title": {
            "standoff": 15
           },
           "zerolinecolor": "white",
           "zerolinewidth": 2
          },
          "yaxis": {
           "automargin": true,
           "gridcolor": "white",
           "linecolor": "white",
           "ticks": "",
           "title": {
            "standoff": 15
           },
           "zerolinecolor": "white",
           "zerolinewidth": 2
          }
         }
        },
        "title": {
         "text": "Nombre d'établissement par département"
        },
        "xaxis": {
         "anchor": "y",
         "domain": [
          0,
          1
         ],
         "title": {
          "text": "count"
         }
        },
        "yaxis": {
         "anchor": "x",
         "domain": [
          0,
          1
         ],
         "title": {
          "text": "Département"
         }
        }
       }
      }
     },
     "metadata": {},
     "output_type": "display_data"
    }
   ],
   "source": [
    "fig = px.bar(df, y='Département', orientation='h',height=1800, title=\"Nombre d'établissement par département\")\n",
    "fig.show()"
   ]
  },
  {
   "cell_type": "code",
   "execution_count": 113,
   "metadata": {},
   "outputs": [
    {
     "data": {
      "application/vnd.plotly.v1+json": {
       "config": {
        "plotlyServerURL": "https://plot.ly"
       },
       "data": [
        {
         "hovertemplate": "<b>%{hovertext}</b><br><br>type=USP<br>lat=%{lat}<br>lon=%{lon}<extra></extra>",
         "hovertext": [
          "CLINIQUE SAINTE CLOTILDE - USP",
          "CLINIQUE CENTRE MÉDICO-SOCIAL - USP",
          "HÔPITAL LOCAL DE HOUDAN - USP",
          "CENTRE NATIONAL  MGEN LA VERRIÈRE - USP",
          "CHI MEULAN LES MUREAUX - USP",
          "CH DE SENS- USP",
          "CHU DE POITIERS - ESPACE USP",
          "CHD LA ROCHE SUR YON - USP",
          "CH D'AVIGNON - USP",
          "CHI DE TOULON LA SEYNE - USP LES COLIBRIS",
          "CH DE LA DRACENIE  -  DRAGUIGNAN - USP",
          "HÔPITAL PAUL BROUSSE - USP",
          "HÔPITAL CHENEVIER ALBERT - USP",
          "HÔPITAL CHARLES FOIX - USP",
          "CH RENÉ DUBOS - USP",
          "CH VICTOR DUPOUY - USP",
          "HOPITAL NORD FRANCHE COMTE - USP",
          "CHIC CASTRES ET MAZAMET - USP",
          "HÔPITAL SAINT VICTOR - USP",
          "HÔPITAL FORCILLES - FONDATION COGNACQ-JAY - USP",
          "CH DE FONTAINEBLEAU - USP",
          "GH INTERCOMMUNAL LE RAINCY-MONTFERMEIL - USP",
          "HÔPITAUX UNIVERSITAIRES PARIS-SEINE SAINT DENIS - USP",
          "HÔPITAL CASANOVA - USP",
          "HÔPITAL JACQUES MONOD - USP",
          "CHU DE ROUEN - USP",
          "CH MACON - USP",
          "CH DE CHAMBÉRY - USP",
          "CENTRE DES MASSUES CRF - USP",
          "HÔPITAL EDOUARD HERRIOT - USP",
          "CH LYON SUD - USP",
          "CENTRE MÉDICAL ANNIE ENIA - ESPACE USP",
          "CH DE PAU - USP",
          "CHU CLERMONT-FERRAND HÔPITAL NORD - USP",
          "AMÉLIE LOUTRE - USP",
          "CLINIQUE ANNE D'ARTOIS",
          "CH DE LENS - USP",
          "CENTRE MCO  CÔTE D'OPALE - USP",
          "CH DE LA REGION DE SAINT OMER - USP",
          "HÔPITAL PRIVÉ ARRAS LES BONETTES - USP",
          "CH CALAIS - USP",
          "HÔPITAL JEAN JAURÈS - USP",
          "HÔPITAL BRETONNEAU - USP",
          "HÔPITAL SAINTE PERINE - USP",
          "HÔPITAL COGNACQ-JAY - USP",
          "MAISON MÉDICALE JEANNE GARNIER - USP",
          "G.H. DES DIACONESSES CROIX ST SIMON - USP",
          "CH DE COMPIÈGNE-NOYON - USP",
          "GHPSO SITE DE SENLIS - USP",
          "CH BEAUVAIS - USP",
          "CHRU LILLE - USP",
          "CH SAINT-VINCENT DE PAUL - USP",
          "CLINIQUE SAINT ROCH - USP",
          "POLYCLINIQUE DE GRANDE SYNTHE - USP",
          "GH DE LOOS-HAUBOURDIN - USP",
          "CLINIQUE SAINT-ROCH - USP",
          "CH DU PAYS D'AVESNES - USP",
          "CH DE DOUAI - USP",
          "CH DE ROUBAIX - USP",
          "POLYCLINIQUE DU BOIS - USP",
          "HÔPITAL MARITIME - USP",
          "CH TOURCOING - USP",
          "POLYCLINIQUE VAUBAN - USP",
          "CH VALENCIENNES - USP",
          "MAISON MÉDICALE JEAN XXIII - USP",
          "CENTRE OSCAR LAMBRET - USP",
          "HOPITAL PIERRE BEREGOVOY - USP",
          "CHR METZ-THIONVILLE - USP",
          "CHR METZ-THIONVILLE - USP",
          "CLINIQUE DES AUGUSTINES - USP",
          "ÉTABLISSEMENT DE SANTÉ LE DIVIT - USP",
          "HÔPITAL SAINT-JULIEN CHU NANCY - USP",
          "HOPITAL CLARAC- CHUM - USP",
          "INSTITUT GODINOT",
          "CH SÉBASTOPOL - USP",
          "USP-CH Avranches Granville",
          "CHU ANGERS - USP",
          "CH AGEN - NERAC - USP ",
          "CHR D'ORLÉANS - USP",
          "CH DE NANTES - USP",
          "CH ST NAZAIRE-USP",
          "CHU  HOPITAL NORD - USP",
          "CENTRE HOSPITALIER DE BLOIS",
          "CH DAX - COTE D'ARGENT - USP",
          "CH MONT DE MARSAN - ESPACE USP",
          "CHU - CLINIQUE DE SOINS PALLIATIFS ET DE COORDINATION EN SOINS DE SUPPORT - USP",
          "CH DE LUYNES - USP",
          "CHU RENNES-USP",
          "POLYCLINIQUE SAINT-LAURENT - USP",
          "CENTRE RÉGIONAL DE GÉRIATRIE - USP",
          "CRLCC EUGÈNE MARQUIS - USP",
          "CH FOUGERES - USP",
          "HOSPITALITE SAINT THOMAS DE VILLENEUVE - USP",
          "CLINIQUE MÉDICALE DU MAS DU ROCHET - USP",
          "CHU - HÔPITAL SAINT ELOI - USP",
          "MAISON MÉDICALE NOTRE DAME DU LAC - USP",
          "CH RIVES DE SEINE",
          "CHI  DES ALPES DU SUD - USP",
          "HÔPITAL DUPUYTREN - ESPACE USP",
          "HOPITAL DEEPARTEMENTAL DUFRESNE SOMMEILLE",
          "LES PRAZ DE L'ARVE - FONDATION ALIA",
          "HÔPITAL JOSEPH DUCUING - USP",
          "CHU DE TOULOUSE - USP",
          "HÔPITAL LOUIS PASTEUR - USP",
          "GHRMSA - SITE EMILE MULLER - USP",
          "MAISON DE SANTÉ MARIE GALÈNE - ESPACE USP",
          "CHU SAINT ANDRÉ - ESPACE USP",
          "CHU CAREMEAU - USP",
          "CLINIQUE PASTEUR-SAINT-ESPRIT - USP",
          "CH DOUARNENEZ  MAURICE ABIVEN - USP",
          "CHRU BREST - SITE DE GUILERS - USP",
          "CH DE LA RISLE - USP",
          "HÔPITAL DE LA MUSSE - USP",
          "CH EURE SEINE",
          "CH EURE SEINE",
          "HÔPITAL DUPUYTREN -USP",
          "AP-HP GEORGES CLÉMENCEAU - USP",
          "CH DES DEUX VALLÉES, SITE DE JUVISY SUR ORGE - USP",
          "CH D'ARPAJON - USP",
          "CENTRE MÉDICAL BLIGNY - USP",
          "CH GÉNÉRAL DE CREST - USP",
          "CH VALENCE - USP",
          "CHU JEAN MINJOZ - USP",
          "CHU PERIGUEUX - ESPACE USP",
          "CH NIORT SUD - ESPACE USP",
          "CH SAINT BRIEUC UN.O.P",
          "PÔLE DE SANTÉ DE GUINGAMP - USP",
          "CHU DIJON - USP - LA MIRANDIERE",
          "CH AJACCIO - USP",
          "CH DE SAINTONGE - USP",
          "Hôpitaux de Grand Cognac USP",
          "CH AURILLAC- USP",
          "UNITÉ RÉGIONALE DE SP MAURICE ABIVEN - USP",
          "CH FALAISE - USP",
          "HÔPITAL SAINT-JOSEPH - USP",
          "HÔPITAL DE LA TIMONE - USP",
          "CENTRE GÉRONTOLOGIE ST THOMAS DE VILLENEUVE  - USP",
          "CH SALON DE PROVENCE - USP",
          "CLINIQUE SAINTE ELISABETH - USP",
          "LA MAISON  -  LA VILLA IZOÏ - USP LD",
          "LA MAISON DE GARDANNE - USP",
          "CH DÉPARTEMENTAL - USP",
          "CH DE HAGUENAU - USP",
          "CLINIQUE DE LA TOUSSAINT - USP",
          "HÔPITAUX UNIVERSITAIRES DE STRASBOURG-USP",
          "CH RODEZ - USP",
          "POLYCLINIQUE MONTRÉAL - USP",
          "CH TROYES - USP",
          "GH AUBE MARNE - USP",
          "CH DES VALS D'ARDÈCHE - USP",
          "CH LOUIS RAFFALI",
          "CHU DE NICE - USP",
          "CH ANTIBES-JUAN LES PINS - USP",
          "CH JACQUES LACARIN",
          "CH GÉNÉRAL DE SOISSONS - USP",
          "CH GÉRONTOLOGIQUE LA FERE - USP",
          "CH DE MONTPENSIER - USP",
          "CH DE BOURG EN BRESSE - USP"
         ],
         "lat": [
          -20.9027569,
          15.997642272857146,
          48.7928232,
          null,
          48.0837485,
          48.4042134,
          null,
          46.6703664,
          null,
          43.11068684329285,
          43.57315275355279,
          48.779195,
          48.7886725,
          48.805201,
          49.0613152,
          48.9449689,
          47.5768283,
          43.56614145,
          49.9044995,
          null,
          48.4116798,
          49.83926,
          null,
          48.9299166,
          49.4209972,
          49.4407753,
          46.31365457073611,
          null,
          45.7599404,
          45.7433967,
          null,
          44.519417056478176,
          null,
          45.842526287140274,
          49.8904461,
          50.430064,
          50.4387336,
          50.723425,
          50.70167395971203,
          null,
          null,
          48.88757185,
          48.8900884,
          48.84047165543545,
          48.8376822,
          48.8466349,
          48.8450929,
          49.3840085,
          49.1958422010417,
          43.173362113145934,
          50.61420501159432,
          50.69090588459755,
          49.1746622,
          51.00950565,
          50.6127329,
          47.97056435850327,
          null,
          50.06156478124391,
          50.6806938,
          43.846980914657685,
          51.06459896768944,
          50.7032236,
          50.9722256,
          null,
          50.6524514,
          50.61401718173886,
          46.0238028,
          49.326567,
          49.1117571,
          47.7183661,
          47.74648223900113,
          48.6863621,
          48.82074912066599,
          43.79292,
          49.26531605,
          48.8275422,
          null,
          43.92665866326603,
          47.8381875,
          45.63076682899681,
          45.6937539,
          42.6029532,
          47.59867984395436,
          43.33567215029976,
          43.89478407811029,
          45.1975811136419,
          47.4014777,
          48.13827470504599,
          47.84317930376232,
          45.77617905,
          48.12113405,
          48.3589602,
          47.8403344,
          43.62546563437208,
          43.6295915,
          48.8702561,
          48.90092123510354,
          null,
          43.67556725,
          46.13254348285167,
          45.93441,
          47.066072,
          null,
          46.9783744,
          null,
          44.8470854,
          44.8335725,
          null,
          48.4008789,
          45.7375866,
          48.42401374597437,
          49.348323,
          49.01124897481568,
          49.0325584585672,
          49.0325584585672,
          48.6518795,
          48.6629445,
          47.260678,
          48.8109212,
          47.99770894978882,
          45.04443414143933,
          44.9128166,
          47.225588,
          45.1576632,
          49.108758,
          48.4927763,
          48.56926,
          47.306692,
          null,
          48.559304271540086,
          45.55192817028632,
          44.9259219,
          49.192482,
          48.89233553223737,
          43.27629840913102,
          43.00569471892137,
          43.531978300000006,
          43.6402892,
          45.6158335012413,
          null,
          43.44050073861982,
          48.8943071,
          null,
          48.5873249,
          null,
          44.35990617539332,
          43.2133023709742,
          48.956148,
          49.25407498033583,
          42.6183384,
          43.82730873800076,
          43.7205704,
          43.45897256856438,
          46.12473015645095,
          48.5805759,
          49.663249,
          46.3042248,
          46.224216
         ],
         "legendgroup": "USP",
         "lon": [
          55.47740548765337,
          -61.73200445460438,
          1.6006283,
          null,
          1.3481846,
          2.4711981,
          null,
          -1.405326549440482,
          null,
          5.870744907244605,
          6.494514515769025,
          2.010152,
          2.458564107271433,
          2.3942436,
          2.094179,
          2.2370543,
          6.8725312,
          2.262151515779642,
          2.3169674,
          null,
          2.6958104,
          3.487555,
          null,
          2.3610913,
          2.0851331,
          1.1077522,
          4.825817849390976,
          null,
          4.7967299,
          4.8799697,
          null,
          0.1225716314522966,
          null,
          3.115852821530448,
          2.3035141,
          2.823349,
          2.8175228,
          1.644053,
          2.2451557196424528,
          null,
          null,
          2.393182060334079,
          2.3312479,
          2.2632302568980696,
          2.2927383,
          2.2897169,
          2.3922371,
          2.7893605,
          2.5755737989463103,
          6.524233343590616,
          3.035983519567526,
          3.187784339575093,
          2.3920723,
          2.28711255,
          2.987215,
          -4.084932787444416,
          null,
          3.142978235719025,
          3.1706837,
          4.843392084486689,
          2.481262833258599,
          3.2349639000000003,
          2.43369,
          null,
          2.972985183524973,
          3.037702941282193,
          3.200050620287195,
          6.067826517016446,
          6.1916248,
          -1.3701416,
          -3.40883541031423,
          6.1936343,
          7.786040919650186,
          4.824876,
          4.0486910156235165,
          -1.5706736,
          null,
          5.857736754700873,
          1.9229172,
          0.153312558750504,
          -0.319131,
          2.9692955,
          1.3401456057339476,
          3.2502080381632927,
          -0.4877459767328716,
          5.746037586958401,
          0.5544015,
          -1.65916550375864,
          -1.6871056701070162,
          4.8121291500000005,
          -1.6992424000000002,
          -1.1944535,
          -1.6813583,
          3.9066597570907526,
          3.8613246,
          2.1830333,
          2.253262435887471,
          null,
          7.206462948803304,
          6.408439283821526,
          6.640059,
          5.410912,
          null,
          -2.2738722,
          null,
          -0.6070328,
          -0.578226,
          null,
          -4.4888701,
          4.8855305,
          -4.558749572074859,
          0.5155844309210527,
          1.1004243466237495,
          1.1180105192455698,
          1.1180105192455698,
          2.41784,
          2.556593063432841,
          5.999641,
          2.3160843,
          3.616168475456075,
          5.05398786718043,
          4.9047134,
          5.959617,
          1.5454043,
          6.410012,
          -2.7488794,
          -3.144535,
          5.1078308,
          null,
          7.710639867381629,
          -0.1567295015105294,
          2.4382953,
          -0.3257054904227801,
          -0.2030599037048864,
          5.393514108526525,
          9.40269268604528,
          5.459032344109339,
          5.1033256,
          -0.2306927576652469,
          null,
          5.467409242803296,
          8.1030546,
          null,
          7.744956308972288,
          null,
          2.55443147257122,
          2.3249642247967053,
          4.360211,
          6.17126560884711,
          2.421683700067128,
          5.807905217750304,
          7.2723002,
          5.475862565060568,
          3.4350758688316123,
          7.6902886,
          3.360378,
          4.6024841,
          5.2089734
         ],
         "marker": {
          "color": "#636efa"
         },
         "mode": "markers",
         "name": "USP",
         "showlegend": true,
         "subplot": "mapbox",
         "type": "scattermapbox"
        },
        {
         "hovertemplate": "<b>%{hovertext}</b><br><br>type=LISP<br>lat=%{lat}<br>lon=%{lon}<extra></extra>",
         "hovertext": [
          "CH ANDRÉE ROSEMON - LISP",
          "CH ANDRÉE ROSEMON -  LISP",
          "CH ANDRÉE ROSEMON - SERV MEDECINE B - ISP",
          "USSR CROIX-ROUGE FRANÇAISE MIGENNES",
          "HÔPITAL DU VAL DE MADON",
          "HÔPITAL RAON - LISP",
          "CH DE MONTMORILLON - LISP",
          "CLINIQUE SAINT CHARLES - LISP",
          "HÔPITAL LOCAL LA CHÂTAIGNERAIE",
          "CLINIQUE SAINT CHARLES - LISP",
          "CHD SITE DE MONTAIGU - LISP",
          "CENTRE LA CHIMOTAIE - LISP",
          "CHD LES OUDAIRIES - LISP",
          "CHD LES OUDAIRIES - LISP",
          "CHD LES OUDAIRIES - LISP",
          "INSTITUT SAINTE CATHERINE",
          "CH DE VAISON LA ROMAINE - LISP",
          "CH DE L'ISLE SUR LA SORGUE ",
          "ETABLISSEMENT DE SANTÉ JEAN LACHENAUD",
          "CENTRE BEAUSÉJOUR - LISP",
          "SSR PIERRE CHEVALIER",
          "HÔPITAL EMILE ROUX -UNITÉ GÉRIATRIQUE",
          "POLYCLINIQUE DE VILLENEUVE-ST-GEORGES",
          "HÔPITAL PRIVÉ NORD PARISIEN",
          "CLINIQUE MÉDICALE DU PARC - LISP",
          "GHCPO - LISP",
          "CLINIQUE DU PARC - LISP",
          "CLINIQUE SAINTE MARIE - LISP",
          "GROUPEMENT HOSPITALIER INTERCOMMUNAL DU VEXIN",
          "CHI CASTELSARRASIN MOISSAC - LISP",
          "CHI DE LA BAIE DE SOMME - LISP",
          "CH DE ROYE - LISP",
          "CH CORBIE - LISP",
          "CLINIQUE SAINT JEAN- ERMITAGE - LISP",
          "HÔPITAL PRIVÉ DU VERT GALANT",
          "ETABLISSEMENT HOSPITALIER SAINTE-MARIE",
          "CLINIQUE DE L'ESTRÉE - LISP",
          "CMC FLORÉAL",
          "CLINIQUE DU CÈDRE - LISP",
          "CHU ROUEN",
          "CH DE TOURNUS - LISP",
          "HOPITAL DE PROXIMITE DU PAYS DUNOIS",
          "HÔPITAL DE CLUNY",
          "HÔPITAL LOCAL DE LOUHANS",
          "HÔPITAL PRIVÉ MÉDIPOLE DE SAVOIE",
          "SSR ARC EN CIEL TRESSERVE - LISP",
          "CH D'AIX-LES-BAINS - LISP",
          "CHMS SITE D'AIX LES BAINS ",
          "HOPITAL MICHEL DUBETTIER",
          "CH DE CHÂTEAU DU LOIR - LISP",
          "CENTRE MÉDICAL FRANÇOIS GALLOUÉDEC",
          "CHICAM",
          "CENTRE MEDICAL GEORGES COULON - LISP",
          "CH SAINT CALAIS - LISP",
          "CLINIQUE VICTOR HUGO - LISP",
          "HÔPITAL PRIVÉ JEAN MERMOZ",
          "HOPITAL DE GRANDRIS HAUTE-AZERGUES",
          "CLINIQUE DE RILLIEUX LYON NORD - LISP",
          "CH DE TARARE - LISP",
          "CLINIQUE CHARCOT - LISP",
          "CSMR LE VALLESPIR",
          "MAISON SAINT VINCENT VILLA CONCHA",
          "CH OLORON SAINTE MARIE - LISP",
          "CLINIQUE MARZET - LISP",
          "CENTRE MÉDICAL DE CEYRAT",
          "CENTRE D'HOSPITALISATION DE CHANAT - LISP",
          "SSR CH BAPAUME",
          "CENTRE HOSPITALIER ARRAS",
          "HOPITAL SAINT ANTOINE",
          "CH MORTAGNE AU PERCHE",
          "CH JACQUES MONOD - LISP",
          "HÔPITAL LÉON SCHWARTZENBERG",
          "CHI DE WASQUEHAL - LISP",
          "CLINIQUE TEISSIER - LISP",
          "CLINIQUE DU VAL DE LYS-LISP",
          "CLINIQUE DE VILLENEUVE D'ASCQ - LISP",
          "CH BAILLEUL - LISP",
          "MAISON DE REPOS",
          "HOPITAL DE FREYMING MERLEBACH",
          "HÔPITAL ROBERT SCHUMAN, GROUPE UNEOS",
          "CENTRE DE MOYEN SÉJOUR-CONVALESCENCE - LISP",
          "CH DE PORT LOUIS - LISP",
          "CH DU FAOUET - LISP",
          "HÔPITAL LOCAL ALFRED BRARD",
          "CSSR KORN ER HOUET",
          "HOPITAL LOCAL DE JOSSELIN",
          "CH BASSE VILAINE - LISP",
          "CLINIQUE OCÉANE - LISP",
          "CH  ST NICOLAS DE PORT - LISP",
          "CH DE PONT A MOUSSON - LISP",
          "HPNL ELSAN",
          "ASSOCIATION HOSPITALIÈRE DE JOEUF - LISP",
          "HL DU SUD-OUEST MAYENNAIS",
          "HL ERNÉE",
          "CH HAUT ANJOU - LISP",
          "CH D'ARGONNE - LISP",
          "POLYCLINIQUE DE LA BAIE",
          "HÔPITAL LOCAL DE MORTAIN",
          "HÔPITAL LOCAL DE SAINT -JAMES",
          "HÔPITAL LOCAL VILLEDIEU",
          "HÔPITAL LOCAL CARENTAN",
          "CH DE CHOLET - LISP",
          "CHU ANGERS - LISP",
          "CR DE LUTTE CONTRE CANCER PAUL PAPIN",
          "CH DE MENDE - LISP",
          "CHICMT HÔPITAL DE TONNEINS - LISP",
          "CLINIQUE ESQUIROL SAINT HILAIRE - LISP",
          "HÔPITAL LOCAL FUMEL",
          "CH JEAN COULON - LISP",
          "CH DE CAHORS - LISP",
          "CENTRE DE CONVALESCENCE LES SABLONS SSR-SAMEC - LISP",
          "CH ANCENIS - LISP",
          "ICO CENTRE RENÉ GAUDUCHEAU",
          "CLINIQUE SAINT AUGUSTIN - LISP",
          "HÔPITAL LOCAL CORCOUE",
          "HOPITAL INTERCOMMUNAL DU PAYS DE RETZ-LISP",
          "CH LOIRE VENDÉE OCÉAN - LISP",
          "CH LOIRE VENDÉE OCÉAN - LISP",
          "CLINIQUE MUTUALISTE DE L'ESTUAIRE - LISP",
          "CENTRE CATHERINE DE SIENNE - LISP",
          "CENTRE DE SOINS MEDICAUX ET DE READAPTION-LE BODIO - LISP",
          "HÔPITAL LOCAL INTERCOMMUNAL DE LA PRESQU'ÎLE-LISP",
          "CH CHÂTEAUBRIANT - LISP",
          "CENTRE HOSPITALIER GEORGES CLAUDINON",
          "HÔPITAL DU GIER",
          "CH DE MONTRICHARD - LISP",
          "POLYCLINIQUE DE BLOIS",
          "CH DE ROMORANTIN - LISP",
          "HOPITAL LOCAL ANTOINE MOREAU",
          "INSTITUT HÉLIO MARIN",
          "HÔPITAL ST SEVER",
          "CH YVES TOURAINE - LISP",
          "CH LUCIEN HUSSEL - LISP",
          "CENTRE MEDICAL ROCHEPLANE FOND. AUDAVIE - LISP",
          "PÔLE SANTÉ LÉONARD DE VINCI - LISP",
          "CENTRE HOSPITALIER REDON",
          "CHP ST GRÉGOIRE",
          "CHI REDON CARENTOIR",
          "CH DE BEDARIEUX - LISP",
          "CLINIQUE MUTUALISTE JEAN LEON - LISP",
          "CENTRE RENÉ HUGUENIN - LISP",
          "CLINIQUE LAMBERT - LISP",
          "CH DES QUATRE VILLES - LISP",
          "CH DE LANNEMEZAN - LISP",
          "CH BAGNERES - LISP",
          "CH LOURDES - LISP",
          "CH JACQUES BOUTARD",
          "ETABLISSEMENT DE SANTÉ MGEN D'EVIAN",
          "CENTRE DE SOINS DE SUITE ET RÉADAPTATION LA MARTERAYE - LISP",
          "CENTRE MÉDICAL SPÉCIALISÉ DE PRAZ-COUTANT - LISP",
          "HOPITAL GEORGES PIANTA",
          "CLINIQUE DU CHÂTEAU DE VERNHES - LISP",
          "CLINIQUE MONIÉ - LISP",
          "CHU TOULOUSE - LISP",
          "INSTITUT CLAUDIUS REGAUD",
          "CLINIQUE PASTEUR - LISP",
          "CLINIQUE DE QUINT-FONSEGRIVES - LISP",
          "DOMAINE DE LA CADÈNE",
          "CLINIQUE DE LAGARDELLE - LISP",
          "CLINIQUE DES CEDRES",
          "CH DE MULHOUSE - LISP",
          "POLYCLINIQUE DE BORDEAUX CAUDERAN",
          "SSR CHÂTEAUNEUF",
          "INSTITUT BERGONIÉ",
          "CH SUD GIRONDE - LISP",
          "CLINIQUE TIVOLI DUCOS - LISP",
          "CLINIQUE MUTUALISTE DU MEDOC - LISP",
          "CHG CONDOM - LISP",
          "CENTRE HOSPTIALIER DE NOGARO",
          "UGECAM - CENTRE MÉDICAL L'EGREGORE",
          "CH LE VIGAN - LISP",
          "KÉRAMPIR",
          "CLINIQUE KERLENA - LISP",
          "CH DE CORNOUAILLE QUIMPER - LISP",
          "FONDATION ILDYS SITE TY YANN",
          "CH DE LA RISLE - LISP",
          "GROUPE HOSPITALIER LES CHEMINOTS",
          "CH DOURDAN - LISP",
          "HOPITAUX DROME NORD",
          "HÔPITAL PRIVÉ DRÔME-ARDÈCHE",
          "CHICRDD",
          "CENTRE MÉDICAL LE CHÂTEAU DE BASSY - LISP",
          "CH JEAN LECLAIRE - LISP",
          "POLYCLINIQUE FRANCHEVILLE",
          "CH NORD DEUX-SÈVRES - LISP",
          "CLINIQUE ARMORICAINE DE RADIOLOGIE - LISP",
          "CH  RENÉ PLEVEN - LISP",
          "CENTRE HOSPITALIER D'IS-SUR-TILLE",
          "CLINIQUE DU GOLFE - LISP",
          "CHD CASTELLUCCIO - LISP",
          "HÔPITAUX DU SUD CHARENTE",
          "CENTRE CLINICAL - LISP",
          "CHU CAEN - LISP",
          "POLYCLINIQUE DU PARC",
          "CENTRE ROGER DUQUESNE - LISP",
          "CHI AIX PERTUIS - LISP",
          "HOPITAL DE WISSEMBOURG",
          "CH CARCASSONNE",
          "CH NARBONNE - LISP",
          "CH DU VAL D'ARIÈGE - LISP",
          "JALMALV DEUIL",
          "HÔPITAL LOCAL DONA VIERNA - EMSP",
          "CH ARDECHE MERIDIONALE",
          "CLINIQUE SAINT GEORGE",
          "CH \"LA PALMOSA\" DE MENTON - LISP",
          "CLINIQUE SAINT DOMINIQUE",
          "POLYCLINIQUE SAINT JEAN",
          "CLINIQUE MÉDICALE PLEIN CIEL - LISP",
          "CH LAON - LISP",
          "CH DU NOUVION EN THIERARCHE - LISP",
          "HÔPITAL VILLIERS SAINT-DENIS",
          "CH PUBLIC D'HAUTEVILLE - LISP"
         ],
         "lat": [
          4.91270495,
          4.91270495,
          4.91270495,
          47.9637195,
          null,
          48.4021605,
          46.428719,
          47.1903375,
          46.7256862,
          46.65871915,
          47.196675,
          47.0474857,
          null,
          null,
          null,
          43.927705,
          44.1651309,
          null,
          43.46332485,
          43.11829259022688,
          43.951621,
          43.702057,
          48.72108945,
          47.9930346,
          49.0419177,
          49.144795,
          49.0419177,
          49.07409215,
          49.0934329,
          44.0353174,
          50.1877739,
          49.69652162576688,
          49.914026,
          48.55449454897981,
          48.94201510331102,
          48.8477026,
          48.9641165,
          48.8785104,
          49.4636978,
          49.46213767029854,
          null,
          46.288757700000005,
          46.43055116238899,
          46.624208,
          45.544533274574114,
          45.678152441773975,
          45.69986715,
          45.69986715,
          45.56766585008681,
          49.6070328,
          47.93992429741008,
          null,
          47.8642532147631,
          48.0073142,
          47.9996468,
          45.7344632,
          45.68942519342619,
          45.8222093,
          null,
          45.7500796,
          42.51406972806927,
          43.34936302111692,
          null,
          43.303723,
          45.7648483,
          45.8531307,
          50.2851433,
          50.294731969596114,
          48.84856235,
          48.5232908,
          48.74676782007579,
          50.6495635,
          47.60796330048829,
          null,
          50.724769,
          50.6533906,
          50.7373562,
          49.1171398436607,
          -21.27233215,
          null,
          49.1770781,
          47.09981091072196,
          48.0269527,
          48.0699290816581,
          null,
          47.878237,
          46.8212757,
          47.6797166,
          48.634089905179856,
          48.90581472362832,
          48.7008637,
          49.22580707772261,
          47.79512847405255,
          48.7488581,
          47.827387,
          49.0927371029729,
          null,
          null,
          48.5714348042636,
          48.842781,
          null,
          43.4909942,
          null,
          null,
          45.148302,
          44.393007586012615,
          44.1875803,
          44.048305,
          44.732836260501,
          44.444733114445945,
          47.9156796,
          47.3742697,
          45.63076682899681,
          47.2256759,
          46.9972811,
          44.89784657733323,
          46.9876811,
          46.9876811,
          47.26675815,
          47.1951135,
          null,
          47.32382192639973,
          47.72521416193338,
          14.609322252888829,
          45.4687063,
          47.7531834,
          48.08921076556106,
          47.3576182,
          48.17040849999999,
          43.592987034233886,
          43.7573503,
          45.53878665,
          45.5145472,
          45.178265,
          null,
          47.6536592,
          null,
          null,
          43.61880455,
          43.56083805,
          48.8447941,
          null,
          48.23308455554642,
          43.18109329077913,
          48.736544,
          43.10009295,
          44.56167725,
          46.39924335,
          45.8337004,
          null,
          46.3576238,
          43.84165635,
          43.4058039,
          43.5992854,
          49.154852552887846,
          43.595245,
          43.5817088,
          43.6571529,
          null,
          43.65881783745515,
          null,
          44.8593239,
          44.4673819633319,
          44.8235829,
          null,
          44.8569212,
          45.5972735,
          43.9556377,
          43.7573116,
          43.82274311802958,
          43.99238822045215,
          48.42652165,
          48.5156451,
          null,
          48.38953618149761,
          49.348323,
          48.6633586,
          48.53343469584111,
          45.0418908,
          44.9008966,
          45.24434721219422,
          45.03639365,
          44.89983845,
          45.181114,
          46.8321579,
          48.5097822,
          48.44649795,
          48.26213137363485,
          41.91711104796049,
          41.96518455840583,
          45.347545100000005,
          45.638181312640526,
          49.20328857594378,
          null,
          43.524408,
          43.524408,
          49.04043736618805,
          44.058390102515546,
          null,
          48.067429581800255,
          45.0555759,
          44.375749556921,
          44.61528954648523,
          43.7331845,
          43.77555258437428,
          43.72124113684824,
          null,
          43.6100952,
          50.6734728,
          50.01451245,
          null,
          45.97942462500372
         ],
         "legendgroup": "LISP",
         "lon": [
          -52.28378105,
          -52.28378105,
          -52.28378105,
          3.511135,
          null,
          6.8478918154457205,
          0.8659605,
          -0.280195,
          -0.5894537,
          -1.41299945,
          -1.5395532,
          -1.254472500245968,
          null,
          null,
          null,
          4.8045,
          4.8736116,
          null,
          6.730785762315009,
          5.882898141476929,
          4.771335,
          7.309772669780221,
          2.451642245099721,
          3.6147398,
          2.1094594,
          2.2909344,
          2.1094594,
          2.0759666827610053,
          1.4858541,
          1.1126268,
          1.6328041,
          2.790179663199745,
          2.5140718,
          2.641576337442244,
          2.572192155293442,
          2.4356304,
          2.270652,
          2.4311673,
          1.1133778,
          1.1222194747384746,
          null,
          4.305620443728244,
          4.660544800595687,
          5.230107,
          5.971409763209672,
          5.900540116824216,
          5.90365295,
          5.90365295,
          6.153343388376255,
          0.2343604,
          0.3621989852057687,
          null,
          0.4638491188831243,
          0.1876426,
          0.2003658,
          4.875879,
          4.362457366982479,
          4.8869276,
          null,
          4.7974582,
          2.8321919286228083,
          -1.7689717003932308,
          null,
          -0.3649234,
          3.0787593,
          3.018219004644734,
          2.7805467,
          2.7576083127656625,
          2.3824304659985795,
          0.5519388,
          -0.5431754324946797,
          3.0150339,
          7.000798376709787,
          null,
          3.148042,
          3.1567444,
          2.7382196,
          6.636841102369684,
          55.33568751764706,
          null,
          6.496202902197881,
          -1.301243052523592,
          -3.4884486,
          -3.198353524375842,
          null,
          -3.9157382,
          -1.649779,
          -2.7743172,
          6.301119137791818,
          6.05122071303558,
          6.140741,
          6.01221454307588,
          -1.064109478849277,
          -0.0117174,
          -0.7001462,
          4.907775039781478,
          null,
          null,
          -1.2623773234846931,
          -1.2217392,
          null,
          -1.4736134,
          null,
          null,
          4.1274557,
          0.3022228933682055,
          0.6289675,
          1.0980024763326226,
          1.3749581620594005,
          1.437128460211422,
          2.0287558,
          -1.1716492,
          0.153312558750504,
          -1.5591647,
          -1.7350042,
          6.638026962377753,
          -1.8026814869573529,
          -1.8026814869573529,
          -2.2575029823813155,
          -1.5472074,
          null,
          -2.4258331593692666,
          -1.3846210592211945,
          -61.070015161896094,
          4.5205157,
          7.4086047,
          7.282681747766341,
          1.7343137,
          0.2361808486238502,
          -1.4507952683888008,
          -0.5713132,
          5.662968085551441,
          4.9161954,
          5.7616156,
          null,
          -2.0792806,
          null,
          null,
          3.16115055,
          4.091156913756199,
          2.217725,
          null,
          1.9173964926614844,
          0.2481007841438977,
          7.056925,
          -0.0456196488463565,
          2.253762492326768,
          6.598093902497579,
          6.1461371,
          null,
          6.480970700711131,
          1.521810973421571,
          1.7349035243878206,
          1.4366659,
          5.39062854066318,
          1.4172426,
          1.5213424604878014,
          1.4249392,
          null,
          1.312553333817716,
          null,
          -0.6248921,
          -0.6289605421161125,
          -0.5797963,
          null,
          -0.5887652,
          -0.0531046818181819,
          0.3779769,
          -0.03176,
          4.277903509235209,
          3.61110031630273,
          -4.519934800234092,
          -4.0798039,
          null,
          -4.4404227136616425,
          0.5155844309210527,
          2.4229384,
          2.001476423987029,
          5.021036240802894,
          4.8775197,
          0.3421525431088875,
          0.3390015865912757,
          1.1943917380875209,
          0.7171606,
          -0.3856301,
          -2.7639055,
          -2.0459219500000003,
          4.07307378167301,
          8.733290392204106,
          9.19647057055837,
          -0.1948900914377828,
          0.2025375089655194,
          -0.3605950874441566,
          null,
          5.424628530686874,
          5.424628530686874,
          7.93289783183422,
          1.6709509685473074,
          null,
          5.613563161400763,
          4.8544733,
          4.646922738561583,
          4.401114002284965,
          7.277955630244399,
          7.473787414013489,
          7.26323929459437,
          null,
          7.0122734,
          3.200149,
          3.7806943,
          null,
          5.605382346579722
         ],
         "marker": {
          "color": "#EF553B"
         },
         "mode": "markers",
         "name": "LISP",
         "showlegend": true,
         "subplot": "mapbox",
         "type": "scattermapbox"
        }
       ],
       "layout": {
        "height": 700,
        "legend": {
         "title": {
          "text": "type"
         },
         "tracegroupgap": 0
        },
        "mapbox": {
         "center": {
          "lat": 45.91201667064338,
          "lon": 1.920008196711269
         },
         "domain": {
          "x": [
           0,
           1
          ],
          "y": [
           0,
           1
          ]
         },
         "style": "open-street-map",
         "zoom": 4.5
        },
        "template": {
         "data": {
          "bar": [
           {
            "error_x": {
             "color": "#2a3f5f"
            },
            "error_y": {
             "color": "#2a3f5f"
            },
            "marker": {
             "line": {
              "color": "#E5ECF6",
              "width": 0.5
             },
             "pattern": {
              "fillmode": "overlay",
              "size": 10,
              "solidity": 0.2
             }
            },
            "type": "bar"
           }
          ],
          "barpolar": [
           {
            "marker": {
             "line": {
              "color": "#E5ECF6",
              "width": 0.5
             },
             "pattern": {
              "fillmode": "overlay",
              "size": 10,
              "solidity": 0.2
             }
            },
            "type": "barpolar"
           }
          ],
          "carpet": [
           {
            "aaxis": {
             "endlinecolor": "#2a3f5f",
             "gridcolor": "white",
             "linecolor": "white",
             "minorgridcolor": "white",
             "startlinecolor": "#2a3f5f"
            },
            "baxis": {
             "endlinecolor": "#2a3f5f",
             "gridcolor": "white",
             "linecolor": "white",
             "minorgridcolor": "white",
             "startlinecolor": "#2a3f5f"
            },
            "type": "carpet"
           }
          ],
          "choropleth": [
           {
            "colorbar": {
             "outlinewidth": 0,
             "ticks": ""
            },
            "type": "choropleth"
           }
          ],
          "contour": [
           {
            "colorbar": {
             "outlinewidth": 0,
             "ticks": ""
            },
            "colorscale": [
             [
              0,
              "#0d0887"
             ],
             [
              0.1111111111111111,
              "#46039f"
             ],
             [
              0.2222222222222222,
              "#7201a8"
             ],
             [
              0.3333333333333333,
              "#9c179e"
             ],
             [
              0.4444444444444444,
              "#bd3786"
             ],
             [
              0.5555555555555556,
              "#d8576b"
             ],
             [
              0.6666666666666666,
              "#ed7953"
             ],
             [
              0.7777777777777778,
              "#fb9f3a"
             ],
             [
              0.8888888888888888,
              "#fdca26"
             ],
             [
              1,
              "#f0f921"
             ]
            ],
            "type": "contour"
           }
          ],
          "contourcarpet": [
           {
            "colorbar": {
             "outlinewidth": 0,
             "ticks": ""
            },
            "type": "contourcarpet"
           }
          ],
          "heatmap": [
           {
            "colorbar": {
             "outlinewidth": 0,
             "ticks": ""
            },
            "colorscale": [
             [
              0,
              "#0d0887"
             ],
             [
              0.1111111111111111,
              "#46039f"
             ],
             [
              0.2222222222222222,
              "#7201a8"
             ],
             [
              0.3333333333333333,
              "#9c179e"
             ],
             [
              0.4444444444444444,
              "#bd3786"
             ],
             [
              0.5555555555555556,
              "#d8576b"
             ],
             [
              0.6666666666666666,
              "#ed7953"
             ],
             [
              0.7777777777777778,
              "#fb9f3a"
             ],
             [
              0.8888888888888888,
              "#fdca26"
             ],
             [
              1,
              "#f0f921"
             ]
            ],
            "type": "heatmap"
           }
          ],
          "heatmapgl": [
           {
            "colorbar": {
             "outlinewidth": 0,
             "ticks": ""
            },
            "colorscale": [
             [
              0,
              "#0d0887"
             ],
             [
              0.1111111111111111,
              "#46039f"
             ],
             [
              0.2222222222222222,
              "#7201a8"
             ],
             [
              0.3333333333333333,
              "#9c179e"
             ],
             [
              0.4444444444444444,
              "#bd3786"
             ],
             [
              0.5555555555555556,
              "#d8576b"
             ],
             [
              0.6666666666666666,
              "#ed7953"
             ],
             [
              0.7777777777777778,
              "#fb9f3a"
             ],
             [
              0.8888888888888888,
              "#fdca26"
             ],
             [
              1,
              "#f0f921"
             ]
            ],
            "type": "heatmapgl"
           }
          ],
          "histogram": [
           {
            "marker": {
             "pattern": {
              "fillmode": "overlay",
              "size": 10,
              "solidity": 0.2
             }
            },
            "type": "histogram"
           }
          ],
          "histogram2d": [
           {
            "colorbar": {
             "outlinewidth": 0,
             "ticks": ""
            },
            "colorscale": [
             [
              0,
              "#0d0887"
             ],
             [
              0.1111111111111111,
              "#46039f"
             ],
             [
              0.2222222222222222,
              "#7201a8"
             ],
             [
              0.3333333333333333,
              "#9c179e"
             ],
             [
              0.4444444444444444,
              "#bd3786"
             ],
             [
              0.5555555555555556,
              "#d8576b"
             ],
             [
              0.6666666666666666,
              "#ed7953"
             ],
             [
              0.7777777777777778,
              "#fb9f3a"
             ],
             [
              0.8888888888888888,
              "#fdca26"
             ],
             [
              1,
              "#f0f921"
             ]
            ],
            "type": "histogram2d"
           }
          ],
          "histogram2dcontour": [
           {
            "colorbar": {
             "outlinewidth": 0,
             "ticks": ""
            },
            "colorscale": [
             [
              0,
              "#0d0887"
             ],
             [
              0.1111111111111111,
              "#46039f"
             ],
             [
              0.2222222222222222,
              "#7201a8"
             ],
             [
              0.3333333333333333,
              "#9c179e"
             ],
             [
              0.4444444444444444,
              "#bd3786"
             ],
             [
              0.5555555555555556,
              "#d8576b"
             ],
             [
              0.6666666666666666,
              "#ed7953"
             ],
             [
              0.7777777777777778,
              "#fb9f3a"
             ],
             [
              0.8888888888888888,
              "#fdca26"
             ],
             [
              1,
              "#f0f921"
             ]
            ],
            "type": "histogram2dcontour"
           }
          ],
          "mesh3d": [
           {
            "colorbar": {
             "outlinewidth": 0,
             "ticks": ""
            },
            "type": "mesh3d"
           }
          ],
          "parcoords": [
           {
            "line": {
             "colorbar": {
              "outlinewidth": 0,
              "ticks": ""
             }
            },
            "type": "parcoords"
           }
          ],
          "pie": [
           {
            "automargin": true,
            "type": "pie"
           }
          ],
          "scatter": [
           {
            "fillpattern": {
             "fillmode": "overlay",
             "size": 10,
             "solidity": 0.2
            },
            "type": "scatter"
           }
          ],
          "scatter3d": [
           {
            "line": {
             "colorbar": {
              "outlinewidth": 0,
              "ticks": ""
             }
            },
            "marker": {
             "colorbar": {
              "outlinewidth": 0,
              "ticks": ""
             }
            },
            "type": "scatter3d"
           }
          ],
          "scattercarpet": [
           {
            "marker": {
             "colorbar": {
              "outlinewidth": 0,
              "ticks": ""
             }
            },
            "type": "scattercarpet"
           }
          ],
          "scattergeo": [
           {
            "marker": {
             "colorbar": {
              "outlinewidth": 0,
              "ticks": ""
             }
            },
            "type": "scattergeo"
           }
          ],
          "scattergl": [
           {
            "marker": {
             "colorbar": {
              "outlinewidth": 0,
              "ticks": ""
             }
            },
            "type": "scattergl"
           }
          ],
          "scattermapbox": [
           {
            "marker": {
             "colorbar": {
              "outlinewidth": 0,
              "ticks": ""
             }
            },
            "type": "scattermapbox"
           }
          ],
          "scatterpolar": [
           {
            "marker": {
             "colorbar": {
              "outlinewidth": 0,
              "ticks": ""
             }
            },
            "type": "scatterpolar"
           }
          ],
          "scatterpolargl": [
           {
            "marker": {
             "colorbar": {
              "outlinewidth": 0,
              "ticks": ""
             }
            },
            "type": "scatterpolargl"
           }
          ],
          "scatterternary": [
           {
            "marker": {
             "colorbar": {
              "outlinewidth": 0,
              "ticks": ""
             }
            },
            "type": "scatterternary"
           }
          ],
          "surface": [
           {
            "colorbar": {
             "outlinewidth": 0,
             "ticks": ""
            },
            "colorscale": [
             [
              0,
              "#0d0887"
             ],
             [
              0.1111111111111111,
              "#46039f"
             ],
             [
              0.2222222222222222,
              "#7201a8"
             ],
             [
              0.3333333333333333,
              "#9c179e"
             ],
             [
              0.4444444444444444,
              "#bd3786"
             ],
             [
              0.5555555555555556,
              "#d8576b"
             ],
             [
              0.6666666666666666,
              "#ed7953"
             ],
             [
              0.7777777777777778,
              "#fb9f3a"
             ],
             [
              0.8888888888888888,
              "#fdca26"
             ],
             [
              1,
              "#f0f921"
             ]
            ],
            "type": "surface"
           }
          ],
          "table": [
           {
            "cells": {
             "fill": {
              "color": "#EBF0F8"
             },
             "line": {
              "color": "white"
             }
            },
            "header": {
             "fill": {
              "color": "#C8D4E3"
             },
             "line": {
              "color": "white"
             }
            },
            "type": "table"
           }
          ]
         },
         "layout": {
          "annotationdefaults": {
           "arrowcolor": "#2a3f5f",
           "arrowhead": 0,
           "arrowwidth": 1
          },
          "autotypenumbers": "strict",
          "coloraxis": {
           "colorbar": {
            "outlinewidth": 0,
            "ticks": ""
           }
          },
          "colorscale": {
           "diverging": [
            [
             0,
             "#8e0152"
            ],
            [
             0.1,
             "#c51b7d"
            ],
            [
             0.2,
             "#de77ae"
            ],
            [
             0.3,
             "#f1b6da"
            ],
            [
             0.4,
             "#fde0ef"
            ],
            [
             0.5,
             "#f7f7f7"
            ],
            [
             0.6,
             "#e6f5d0"
            ],
            [
             0.7,
             "#b8e186"
            ],
            [
             0.8,
             "#7fbc41"
            ],
            [
             0.9,
             "#4d9221"
            ],
            [
             1,
             "#276419"
            ]
           ],
           "sequential": [
            [
             0,
             "#0d0887"
            ],
            [
             0.1111111111111111,
             "#46039f"
            ],
            [
             0.2222222222222222,
             "#7201a8"
            ],
            [
             0.3333333333333333,
             "#9c179e"
            ],
            [
             0.4444444444444444,
             "#bd3786"
            ],
            [
             0.5555555555555556,
             "#d8576b"
            ],
            [
             0.6666666666666666,
             "#ed7953"
            ],
            [
             0.7777777777777778,
             "#fb9f3a"
            ],
            [
             0.8888888888888888,
             "#fdca26"
            ],
            [
             1,
             "#f0f921"
            ]
           ],
           "sequentialminus": [
            [
             0,
             "#0d0887"
            ],
            [
             0.1111111111111111,
             "#46039f"
            ],
            [
             0.2222222222222222,
             "#7201a8"
            ],
            [
             0.3333333333333333,
             "#9c179e"
            ],
            [
             0.4444444444444444,
             "#bd3786"
            ],
            [
             0.5555555555555556,
             "#d8576b"
            ],
            [
             0.6666666666666666,
             "#ed7953"
            ],
            [
             0.7777777777777778,
             "#fb9f3a"
            ],
            [
             0.8888888888888888,
             "#fdca26"
            ],
            [
             1,
             "#f0f921"
            ]
           ]
          },
          "colorway": [
           "#636efa",
           "#EF553B",
           "#00cc96",
           "#ab63fa",
           "#FFA15A",
           "#19d3f3",
           "#FF6692",
           "#B6E880",
           "#FF97FF",
           "#FECB52"
          ],
          "font": {
           "color": "#2a3f5f"
          },
          "geo": {
           "bgcolor": "white",
           "lakecolor": "white",
           "landcolor": "#E5ECF6",
           "showlakes": true,
           "showland": true,
           "subunitcolor": "white"
          },
          "hoverlabel": {
           "align": "left"
          },
          "hovermode": "closest",
          "mapbox": {
           "style": "light"
          },
          "paper_bgcolor": "white",
          "plot_bgcolor": "#E5ECF6",
          "polar": {
           "angularaxis": {
            "gridcolor": "white",
            "linecolor": "white",
            "ticks": ""
           },
           "bgcolor": "#E5ECF6",
           "radialaxis": {
            "gridcolor": "white",
            "linecolor": "white",
            "ticks": ""
           }
          },
          "scene": {
           "xaxis": {
            "backgroundcolor": "#E5ECF6",
            "gridcolor": "white",
            "gridwidth": 2,
            "linecolor": "white",
            "showbackground": true,
            "ticks": "",
            "zerolinecolor": "white"
           },
           "yaxis": {
            "backgroundcolor": "#E5ECF6",
            "gridcolor": "white",
            "gridwidth": 2,
            "linecolor": "white",
            "showbackground": true,
            "ticks": "",
            "zerolinecolor": "white"
           },
           "zaxis": {
            "backgroundcolor": "#E5ECF6",
            "gridcolor": "white",
            "gridwidth": 2,
            "linecolor": "white",
            "showbackground": true,
            "ticks": "",
            "zerolinecolor": "white"
           }
          },
          "shapedefaults": {
           "line": {
            "color": "#2a3f5f"
           }
          },
          "ternary": {
           "aaxis": {
            "gridcolor": "white",
            "linecolor": "white",
            "ticks": ""
           },
           "baxis": {
            "gridcolor": "white",
            "linecolor": "white",
            "ticks": ""
           },
           "bgcolor": "#E5ECF6",
           "caxis": {
            "gridcolor": "white",
            "linecolor": "white",
            "ticks": ""
           }
          },
          "title": {
           "x": 0.05
          },
          "xaxis": {
           "automargin": true,
           "gridcolor": "white",
           "linecolor": "white",
           "ticks": "",
           "title": {
            "standoff": 15
           },
           "zerolinecolor": "white",
           "zerolinewidth": 2
          },
          "yaxis": {
           "automargin": true,
           "gridcolor": "white",
           "linecolor": "white",
           "ticks": "",
           "title": {
            "standoff": 15
           },
           "zerolinecolor": "white",
           "zerolinewidth": 2
          }
         }
        },
        "title": {
         "text": "Carte des lits SP",
         "x": 0.5
        }
       }
      }
     },
     "metadata": {},
     "output_type": "display_data"
    }
   ],
   "source": [
    "\n",
    "fig = px.scatter_mapbox(df,lat=\"lat\", lon=\"lon\",  hover_name=\"nom\", height=700, color='type',\n",
    "mapbox_style=\"open-street-map\",title='Carte des lits SP',zoom=4.5,color_continuous_scale=[\"red\",\"orange\",\"yellowgreen\",\"green\"])\n",
    "fig.update_layout(title_x=0.5)\n",
    "fig.show()"
   ]
  },
  {
   "cell_type": "code",
   "execution_count": 114,
   "metadata": {},
   "outputs": [
    {
     "data": {
      "application/vnd.plotly.v1+json": {
       "config": {
        "plotlyServerURL": "https://plot.ly"
       },
       "data": [
        {
         "domain": {
          "x": [
           0,
           1
          ],
          "y": [
           0,
           1
          ]
         },
         "hovertemplate": "type=%{label}<extra></extra>",
         "labels": [
          "USP",
          "LISP",
          "USP",
          "LISP",
          "LISP",
          "USP",
          "USP",
          "USP",
          "LISP",
          "USP",
          "LISP",
          "LISP",
          "USP",
          "LISP",
          "LISP",
          "LISP",
          "LISP",
          "LISP",
          "LISP",
          "LISP",
          "LISP",
          "LISP",
          "USP",
          "USP",
          "LISP",
          "LISP",
          "LISP",
          "USP",
          "LISP",
          "LISP",
          "LISP",
          "USP",
          "LISP",
          "USP",
          "USP",
          "LISP",
          "USP",
          "LISP",
          "LISP",
          "USP",
          "LISP",
          "LISP",
          "USP",
          "LISP",
          "LISP",
          "USP",
          "LISP",
          "USP",
          "LISP",
          "LISP",
          "LISP",
          "USP",
          "USP",
          "LISP",
          "USP",
          "USP",
          "LISP",
          "LISP",
          "LISP",
          "USP",
          "USP",
          "LISP",
          "LISP",
          "USP",
          "USP",
          "LISP",
          "LISP",
          "USP",
          "LISP",
          "LISP",
          "LISP",
          "LISP",
          "LISP",
          "LISP",
          "USP",
          "LISP",
          "LISP",
          "LISP",
          "LISP",
          "LISP",
          "LISP",
          "LISP",
          "LISP",
          "LISP",
          "LISP",
          "USP",
          "USP",
          "USP",
          "LISP",
          "LISP",
          "LISP",
          "LISP",
          "LISP",
          "USP",
          "USP",
          "LISP",
          "LISP",
          "USP",
          "LISP",
          "LISP",
          "USP",
          "USP",
          "USP",
          "USP",
          "USP",
          "LISP",
          "USP",
          "LISP",
          "USP",
          "USP",
          "USP",
          "USP",
          "USP",
          "USP",
          "LISP",
          "USP",
          "LISP",
          "LISP",
          "USP",
          "USP",
          "USP",
          "USP",
          "LISP",
          "USP",
          "USP",
          "USP",
          "USP",
          "LISP",
          "USP",
          "USP",
          "LISP",
          "USP",
          "LISP",
          "LISP",
          "USP",
          "USP",
          "USP",
          "USP",
          "LISP",
          "USP",
          "USP",
          "USP",
          "USP",
          "USP",
          "LISP",
          "LISP",
          "USP",
          "LISP",
          "LISP",
          "USP",
          "USP",
          "USP",
          "LISP",
          "LISP",
          "LISP",
          "LISP",
          "LISP",
          "LISP",
          "LISP",
          "LISP",
          "USP",
          "LISP",
          "LISP",
          "LISP",
          "LISP",
          "LISP",
          "LISP",
          "USP",
          "USP",
          "USP",
          "LISP",
          "LISP",
          "USP",
          "LISP",
          "LISP",
          "LISP",
          "LISP",
          "LISP",
          "USP",
          "LISP",
          "LISP",
          "LISP",
          "LISP",
          "USP",
          "LISP",
          "LISP",
          "LISP",
          "LISP",
          "LISP",
          "USP",
          "LISP",
          "USP",
          "LISP",
          "LISP",
          "LISP",
          "LISP",
          "USP",
          "LISP",
          "LISP",
          "LISP",
          "LISP",
          "LISP",
          "LISP",
          "LISP",
          "USP",
          "LISP",
          "LISP",
          "USP",
          "LISP",
          "LISP",
          "LISP",
          "LISP",
          "LISP",
          "LISP",
          "USP",
          "USP",
          "LISP",
          "LISP",
          "LISP",
          "USP",
          "LISP",
          "USP",
          "LISP",
          "USP",
          "USP",
          "USP",
          "USP",
          "USP",
          "USP",
          "LISP",
          "LISP",
          "USP",
          "LISP",
          "LISP",
          "USP",
          "LISP",
          "LISP",
          "USP",
          "USP",
          "LISP",
          "LISP",
          "LISP",
          "LISP",
          "USP",
          "USP",
          "LISP",
          "LISP",
          "LISP",
          "USP",
          "LISP",
          "LISP",
          "USP",
          "LISP",
          "LISP",
          "LISP",
          "USP",
          "LISP",
          "LISP",
          "LISP",
          "LISP",
          "USP",
          "LISP",
          "LISP",
          "USP",
          "USP",
          "LISP",
          "LISP",
          "USP",
          "LISP",
          "LISP",
          "LISP",
          "USP",
          "LISP",
          "LISP",
          "LISP",
          "LISP",
          "USP",
          "LISP",
          "LISP",
          "LISP",
          "USP",
          "USP",
          "LISP",
          "LISP",
          "LISP",
          "USP",
          "LISP",
          "USP",
          "USP",
          "USP",
          "USP",
          "LISP",
          "USP",
          "USP",
          "USP",
          "USP",
          "LISP",
          "USP",
          "LISP",
          "LISP",
          "USP",
          "USP",
          "USP",
          "LISP",
          "LISP",
          "LISP",
          "USP",
          "LISP",
          "LISP",
          "USP",
          "USP",
          "LISP",
          "LISP",
          "USP",
          "USP",
          "LISP",
          "LISP",
          "LISP",
          "USP",
          "USP",
          "LISP",
          "LISP",
          "USP",
          "USP",
          "USP",
          "LISP",
          "LISP",
          "USP",
          "USP",
          "USP",
          "USP",
          "USP",
          "USP",
          "USP",
          "USP",
          "LISP",
          "LISP",
          "USP",
          "USP",
          "LISP",
          "USP",
          "USP",
          "USP",
          "LISP",
          "USP",
          "LISP",
          "USP",
          "USP",
          "LISP",
          "USP",
          "LISP",
          "LISP",
          "LISP",
          "USP",
          "LISP",
          "LISP",
          "LISP",
          "LISP",
          "LISP",
          "USP",
          "USP",
          "USP",
          "LISP",
          "LISP",
          "USP",
          "USP",
          "LISP",
          "USP",
          "USP",
          "LISP"
         ],
         "legendgroup": "",
         "name": "",
         "showlegend": true,
         "type": "pie"
        }
       ],
       "layout": {
        "legend": {
         "tracegroupgap": 0
        },
        "template": {
         "data": {
          "bar": [
           {
            "error_x": {
             "color": "#2a3f5f"
            },
            "error_y": {
             "color": "#2a3f5f"
            },
            "marker": {
             "line": {
              "color": "#E5ECF6",
              "width": 0.5
             },
             "pattern": {
              "fillmode": "overlay",
              "size": 10,
              "solidity": 0.2
             }
            },
            "type": "bar"
           }
          ],
          "barpolar": [
           {
            "marker": {
             "line": {
              "color": "#E5ECF6",
              "width": 0.5
             },
             "pattern": {
              "fillmode": "overlay",
              "size": 10,
              "solidity": 0.2
             }
            },
            "type": "barpolar"
           }
          ],
          "carpet": [
           {
            "aaxis": {
             "endlinecolor": "#2a3f5f",
             "gridcolor": "white",
             "linecolor": "white",
             "minorgridcolor": "white",
             "startlinecolor": "#2a3f5f"
            },
            "baxis": {
             "endlinecolor": "#2a3f5f",
             "gridcolor": "white",
             "linecolor": "white",
             "minorgridcolor": "white",
             "startlinecolor": "#2a3f5f"
            },
            "type": "carpet"
           }
          ],
          "choropleth": [
           {
            "colorbar": {
             "outlinewidth": 0,
             "ticks": ""
            },
            "type": "choropleth"
           }
          ],
          "contour": [
           {
            "colorbar": {
             "outlinewidth": 0,
             "ticks": ""
            },
            "colorscale": [
             [
              0,
              "#0d0887"
             ],
             [
              0.1111111111111111,
              "#46039f"
             ],
             [
              0.2222222222222222,
              "#7201a8"
             ],
             [
              0.3333333333333333,
              "#9c179e"
             ],
             [
              0.4444444444444444,
              "#bd3786"
             ],
             [
              0.5555555555555556,
              "#d8576b"
             ],
             [
              0.6666666666666666,
              "#ed7953"
             ],
             [
              0.7777777777777778,
              "#fb9f3a"
             ],
             [
              0.8888888888888888,
              "#fdca26"
             ],
             [
              1,
              "#f0f921"
             ]
            ],
            "type": "contour"
           }
          ],
          "contourcarpet": [
           {
            "colorbar": {
             "outlinewidth": 0,
             "ticks": ""
            },
            "type": "contourcarpet"
           }
          ],
          "heatmap": [
           {
            "colorbar": {
             "outlinewidth": 0,
             "ticks": ""
            },
            "colorscale": [
             [
              0,
              "#0d0887"
             ],
             [
              0.1111111111111111,
              "#46039f"
             ],
             [
              0.2222222222222222,
              "#7201a8"
             ],
             [
              0.3333333333333333,
              "#9c179e"
             ],
             [
              0.4444444444444444,
              "#bd3786"
             ],
             [
              0.5555555555555556,
              "#d8576b"
             ],
             [
              0.6666666666666666,
              "#ed7953"
             ],
             [
              0.7777777777777778,
              "#fb9f3a"
             ],
             [
              0.8888888888888888,
              "#fdca26"
             ],
             [
              1,
              "#f0f921"
             ]
            ],
            "type": "heatmap"
           }
          ],
          "heatmapgl": [
           {
            "colorbar": {
             "outlinewidth": 0,
             "ticks": ""
            },
            "colorscale": [
             [
              0,
              "#0d0887"
             ],
             [
              0.1111111111111111,
              "#46039f"
             ],
             [
              0.2222222222222222,
              "#7201a8"
             ],
             [
              0.3333333333333333,
              "#9c179e"
             ],
             [
              0.4444444444444444,
              "#bd3786"
             ],
             [
              0.5555555555555556,
              "#d8576b"
             ],
             [
              0.6666666666666666,
              "#ed7953"
             ],
             [
              0.7777777777777778,
              "#fb9f3a"
             ],
             [
              0.8888888888888888,
              "#fdca26"
             ],
             [
              1,
              "#f0f921"
             ]
            ],
            "type": "heatmapgl"
           }
          ],
          "histogram": [
           {
            "marker": {
             "pattern": {
              "fillmode": "overlay",
              "size": 10,
              "solidity": 0.2
             }
            },
            "type": "histogram"
           }
          ],
          "histogram2d": [
           {
            "colorbar": {
             "outlinewidth": 0,
             "ticks": ""
            },
            "colorscale": [
             [
              0,
              "#0d0887"
             ],
             [
              0.1111111111111111,
              "#46039f"
             ],
             [
              0.2222222222222222,
              "#7201a8"
             ],
             [
              0.3333333333333333,
              "#9c179e"
             ],
             [
              0.4444444444444444,
              "#bd3786"
             ],
             [
              0.5555555555555556,
              "#d8576b"
             ],
             [
              0.6666666666666666,
              "#ed7953"
             ],
             [
              0.7777777777777778,
              "#fb9f3a"
             ],
             [
              0.8888888888888888,
              "#fdca26"
             ],
             [
              1,
              "#f0f921"
             ]
            ],
            "type": "histogram2d"
           }
          ],
          "histogram2dcontour": [
           {
            "colorbar": {
             "outlinewidth": 0,
             "ticks": ""
            },
            "colorscale": [
             [
              0,
              "#0d0887"
             ],
             [
              0.1111111111111111,
              "#46039f"
             ],
             [
              0.2222222222222222,
              "#7201a8"
             ],
             [
              0.3333333333333333,
              "#9c179e"
             ],
             [
              0.4444444444444444,
              "#bd3786"
             ],
             [
              0.5555555555555556,
              "#d8576b"
             ],
             [
              0.6666666666666666,
              "#ed7953"
             ],
             [
              0.7777777777777778,
              "#fb9f3a"
             ],
             [
              0.8888888888888888,
              "#fdca26"
             ],
             [
              1,
              "#f0f921"
             ]
            ],
            "type": "histogram2dcontour"
           }
          ],
          "mesh3d": [
           {
            "colorbar": {
             "outlinewidth": 0,
             "ticks": ""
            },
            "type": "mesh3d"
           }
          ],
          "parcoords": [
           {
            "line": {
             "colorbar": {
              "outlinewidth": 0,
              "ticks": ""
             }
            },
            "type": "parcoords"
           }
          ],
          "pie": [
           {
            "automargin": true,
            "type": "pie"
           }
          ],
          "scatter": [
           {
            "fillpattern": {
             "fillmode": "overlay",
             "size": 10,
             "solidity": 0.2
            },
            "type": "scatter"
           }
          ],
          "scatter3d": [
           {
            "line": {
             "colorbar": {
              "outlinewidth": 0,
              "ticks": ""
             }
            },
            "marker": {
             "colorbar": {
              "outlinewidth": 0,
              "ticks": ""
             }
            },
            "type": "scatter3d"
           }
          ],
          "scattercarpet": [
           {
            "marker": {
             "colorbar": {
              "outlinewidth": 0,
              "ticks": ""
             }
            },
            "type": "scattercarpet"
           }
          ],
          "scattergeo": [
           {
            "marker": {
             "colorbar": {
              "outlinewidth": 0,
              "ticks": ""
             }
            },
            "type": "scattergeo"
           }
          ],
          "scattergl": [
           {
            "marker": {
             "colorbar": {
              "outlinewidth": 0,
              "ticks": ""
             }
            },
            "type": "scattergl"
           }
          ],
          "scattermapbox": [
           {
            "marker": {
             "colorbar": {
              "outlinewidth": 0,
              "ticks": ""
             }
            },
            "type": "scattermapbox"
           }
          ],
          "scatterpolar": [
           {
            "marker": {
             "colorbar": {
              "outlinewidth": 0,
              "ticks": ""
             }
            },
            "type": "scatterpolar"
           }
          ],
          "scatterpolargl": [
           {
            "marker": {
             "colorbar": {
              "outlinewidth": 0,
              "ticks": ""
             }
            },
            "type": "scatterpolargl"
           }
          ],
          "scatterternary": [
           {
            "marker": {
             "colorbar": {
              "outlinewidth": 0,
              "ticks": ""
             }
            },
            "type": "scatterternary"
           }
          ],
          "surface": [
           {
            "colorbar": {
             "outlinewidth": 0,
             "ticks": ""
            },
            "colorscale": [
             [
              0,
              "#0d0887"
             ],
             [
              0.1111111111111111,
              "#46039f"
             ],
             [
              0.2222222222222222,
              "#7201a8"
             ],
             [
              0.3333333333333333,
              "#9c179e"
             ],
             [
              0.4444444444444444,
              "#bd3786"
             ],
             [
              0.5555555555555556,
              "#d8576b"
             ],
             [
              0.6666666666666666,
              "#ed7953"
             ],
             [
              0.7777777777777778,
              "#fb9f3a"
             ],
             [
              0.8888888888888888,
              "#fdca26"
             ],
             [
              1,
              "#f0f921"
             ]
            ],
            "type": "surface"
           }
          ],
          "table": [
           {
            "cells": {
             "fill": {
              "color": "#EBF0F8"
             },
             "line": {
              "color": "white"
             }
            },
            "header": {
             "fill": {
              "color": "#C8D4E3"
             },
             "line": {
              "color": "white"
             }
            },
            "type": "table"
           }
          ]
         },
         "layout": {
          "annotationdefaults": {
           "arrowcolor": "#2a3f5f",
           "arrowhead": 0,
           "arrowwidth": 1
          },
          "autotypenumbers": "strict",
          "coloraxis": {
           "colorbar": {
            "outlinewidth": 0,
            "ticks": ""
           }
          },
          "colorscale": {
           "diverging": [
            [
             0,
             "#8e0152"
            ],
            [
             0.1,
             "#c51b7d"
            ],
            [
             0.2,
             "#de77ae"
            ],
            [
             0.3,
             "#f1b6da"
            ],
            [
             0.4,
             "#fde0ef"
            ],
            [
             0.5,
             "#f7f7f7"
            ],
            [
             0.6,
             "#e6f5d0"
            ],
            [
             0.7,
             "#b8e186"
            ],
            [
             0.8,
             "#7fbc41"
            ],
            [
             0.9,
             "#4d9221"
            ],
            [
             1,
             "#276419"
            ]
           ],
           "sequential": [
            [
             0,
             "#0d0887"
            ],
            [
             0.1111111111111111,
             "#46039f"
            ],
            [
             0.2222222222222222,
             "#7201a8"
            ],
            [
             0.3333333333333333,
             "#9c179e"
            ],
            [
             0.4444444444444444,
             "#bd3786"
            ],
            [
             0.5555555555555556,
             "#d8576b"
            ],
            [
             0.6666666666666666,
             "#ed7953"
            ],
            [
             0.7777777777777778,
             "#fb9f3a"
            ],
            [
             0.8888888888888888,
             "#fdca26"
            ],
            [
             1,
             "#f0f921"
            ]
           ],
           "sequentialminus": [
            [
             0,
             "#0d0887"
            ],
            [
             0.1111111111111111,
             "#46039f"
            ],
            [
             0.2222222222222222,
             "#7201a8"
            ],
            [
             0.3333333333333333,
             "#9c179e"
            ],
            [
             0.4444444444444444,
             "#bd3786"
            ],
            [
             0.5555555555555556,
             "#d8576b"
            ],
            [
             0.6666666666666666,
             "#ed7953"
            ],
            [
             0.7777777777777778,
             "#fb9f3a"
            ],
            [
             0.8888888888888888,
             "#fdca26"
            ],
            [
             1,
             "#f0f921"
            ]
           ]
          },
          "colorway": [
           "#636efa",
           "#EF553B",
           "#00cc96",
           "#ab63fa",
           "#FFA15A",
           "#19d3f3",
           "#FF6692",
           "#B6E880",
           "#FF97FF",
           "#FECB52"
          ],
          "font": {
           "color": "#2a3f5f"
          },
          "geo": {
           "bgcolor": "white",
           "lakecolor": "white",
           "landcolor": "#E5ECF6",
           "showlakes": true,
           "showland": true,
           "subunitcolor": "white"
          },
          "hoverlabel": {
           "align": "left"
          },
          "hovermode": "closest",
          "mapbox": {
           "style": "light"
          },
          "paper_bgcolor": "white",
          "plot_bgcolor": "#E5ECF6",
          "polar": {
           "angularaxis": {
            "gridcolor": "white",
            "linecolor": "white",
            "ticks": ""
           },
           "bgcolor": "#E5ECF6",
           "radialaxis": {
            "gridcolor": "white",
            "linecolor": "white",
            "ticks": ""
           }
          },
          "scene": {
           "xaxis": {
            "backgroundcolor": "#E5ECF6",
            "gridcolor": "white",
            "gridwidth": 2,
            "linecolor": "white",
            "showbackground": true,
            "ticks": "",
            "zerolinecolor": "white"
           },
           "yaxis": {
            "backgroundcolor": "#E5ECF6",
            "gridcolor": "white",
            "gridwidth": 2,
            "linecolor": "white",
            "showbackground": true,
            "ticks": "",
            "zerolinecolor": "white"
           },
           "zaxis": {
            "backgroundcolor": "#E5ECF6",
            "gridcolor": "white",
            "gridwidth": 2,
            "linecolor": "white",
            "showbackground": true,
            "ticks": "",
            "zerolinecolor": "white"
           }
          },
          "shapedefaults": {
           "line": {
            "color": "#2a3f5f"
           }
          },
          "ternary": {
           "aaxis": {
            "gridcolor": "white",
            "linecolor": "white",
            "ticks": ""
           },
           "baxis": {
            "gridcolor": "white",
            "linecolor": "white",
            "ticks": ""
           },
           "bgcolor": "#E5ECF6",
           "caxis": {
            "gridcolor": "white",
            "linecolor": "white",
            "ticks": ""
           }
          },
          "title": {
           "x": 0.05
          },
          "xaxis": {
           "automargin": true,
           "gridcolor": "white",
           "linecolor": "white",
           "ticks": "",
           "title": {
            "standoff": 15
           },
           "zerolinecolor": "white",
           "zerolinewidth": 2
          },
          "yaxis": {
           "automargin": true,
           "gridcolor": "white",
           "linecolor": "white",
           "ticks": "",
           "title": {
            "standoff": 15
           },
           "zerolinecolor": "white",
           "zerolinewidth": 2
          }
         }
        },
        "title": {
         "text": "Répartition LISP/USP"
        }
       }
      }
     },
     "metadata": {},
     "output_type": "display_data"
    }
   ],
   "source": [
    "fig = px.pie(df, names='type', title='Répartition LISP/USP')\n",
    "fig.show()"
   ]
  }
 ],
 "metadata": {
  "kernelspec": {
   "display_name": "base",
   "language": "python",
   "name": "python3"
  },
  "language_info": {
   "codemirror_mode": {
    "name": "ipython",
    "version": 3
   },
   "file_extension": ".py",
   "mimetype": "text/x-python",
   "name": "python",
   "nbconvert_exporter": "python",
   "pygments_lexer": "ipython3",
   "version": "3.12.4"
  }
 },
 "nbformat": 4,
 "nbformat_minor": 2
}
