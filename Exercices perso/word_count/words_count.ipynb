{
 "cells": [
  {
   "cell_type": "code",
   "execution_count": null,
   "metadata": {},
   "outputs": [],
   "source": [
    "import matplotlib.pyplot as plt\n",
    "from wordcloud import WordCloud"
   ]
  },
  {
   "cell_type": "code",
   "execution_count": null,
   "metadata": {},
   "outputs": [],
   "source": [
    "phrase = input(\"Saisir une phrase\")\n",
    "\n",
    "list = phrase.split(\" \")\n",
    "\n",
    "print(f\"Cette phrase contient {len(list)} mots:\")\n",
    "print(list)"
   ]
  },
  {
   "cell_type": "code",
   "execution_count": null,
   "metadata": {},
   "outputs": [],
   "source": [
    "mots_inutiles = []\n",
    "k = open(\"stopwords.txt\", \"r\")\n",
    "for x in k:\n",
    "  mots_inutiles.append(x.strip('\\n'))\n",
    "mots_inutiles.append('')"
   ]
  },
  {
   "cell_type": "code",
   "execution_count": null,
   "metadata": {},
   "outputs": [],
   "source": [
    "afficher_tous_les_mots = False\n",
    "\n",
    "f = open(\"demofile.txt\", \"r\")\n",
    "word_count= {}\n",
    "total_words = 0\n",
    "for x in f:\n",
    "  line_split = x.split(\" \")\n",
    "  for w in line_split:\n",
    "    w = w.strip(\"\\n.?!,( )\").lower()\n",
    "    if w not in mots_inutiles or afficher_tous_les_mots:\n",
    "        try:\n",
    "            word_count[w]+=1\n",
    "        except:\n",
    "            word_count[w]=1\n",
    "        total_words+=1\n",
    "\n",
    "\n",
    "sorted_words = sorted(word_count.items(), key=lambda x:x[1],reverse=True)\n",
    "sorted_words_dict = dict(sorted_words)\n",
    "print(f\"Total words in the file {total_words}\")\n",
    "print(sorted_words_dict)"
   ]
  },
  {
   "cell_type": "code",
   "execution_count": null,
   "metadata": {},
   "outputs": [],
   "source": [
    "mots_inutiles_fr = []\n",
    "k = open(\"stopwords-fr.txt\", \"r\")\n",
    "for x in k:\n",
    "  mots_inutiles_fr.append(x.strip('\\n'))\n",
    "mots_inutiles_fr.append('')"
   ]
  },
  {
   "cell_type": "markdown",
   "metadata": {},
   "source": [
    "GERMINAL / NOTRE DAME DE PARIS / FLEURS DU MAL"
   ]
  },
  {
   "cell_type": "code",
   "execution_count": null,
   "metadata": {},
   "outputs": [],
   "source": [
    "afficher_tous_les_mots = False\n",
    "\n",
    "f = open(\"books/fleursdumal.txt\", \"r\")\n",
    "word_count= {}\n",
    "total_words = 0\n",
    "for x in f:\n",
    "  line_split = x.replace('\\'',' ').split(\" \")\n",
    "  for w in line_split:\n",
    "    w = w.strip(\"\\n.?!,( )«»\").lower()\n",
    "    if w not in mots_inutiles_fr or afficher_tous_les_mots:\n",
    "        try:\n",
    "            word_count[w]+=1\n",
    "        except:\n",
    "            word_count[w]=1\n",
    "        total_words+=1\n",
    "\n",
    "\n",
    "sorted_words = sorted(word_count.items(), key=lambda x:x[1],reverse=True)\n",
    "sorted_words_dict = dict(sorted_words)\n",
    "print(f\"Total words in the file {total_words}\")\n",
    "#print(sorted_words_dict)\n",
    "\n",
    "words_list = [x for x in sorted_words_dict.keys()][:20]\n",
    "\n"
   ]
  },
  {
   "cell_type": "code",
   "execution_count": null,
   "metadata": {},
   "outputs": [],
   "source": [
    "wordcloud = WordCloud(stopwords=mots_inutiles_fr, background_color=\"white\", max_words=20)\n",
    "text = \" \".join(words_list)\n",
    "wordcloud.generate(text)\n",
    "\n",
    "plt.imshow(wordcloud, interpolation='bilinear')\n",
    "plt.axis('off')\n",
    "plt.show()"
   ]
  }
 ],
 "metadata": {
  "kernelspec": {
   "display_name": "base",
   "language": "python",
   "name": "python3"
  },
  "language_info": {
   "codemirror_mode": {
    "name": "ipython",
    "version": 3
   },
   "file_extension": ".py",
   "mimetype": "text/x-python",
   "name": "python",
   "nbconvert_exporter": "python",
   "pygments_lexer": "ipython3",
   "version": "3.12.4"
  }
 },
 "nbformat": 4,
 "nbformat_minor": 2
}
