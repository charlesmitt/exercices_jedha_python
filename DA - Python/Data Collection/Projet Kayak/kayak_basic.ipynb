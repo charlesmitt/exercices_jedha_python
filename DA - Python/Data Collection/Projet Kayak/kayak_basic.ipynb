{
 "cells": [
  {
   "cell_type": "code",
   "execution_count": null,
   "metadata": {},
   "outputs": [],
   "source": [
    "import requests\n",
    "import pandas as pd\n",
    "import plotly.express as px\n",
    "\n",
    "liste_villes = [\"Mont Saint Michel\",\"St Malo\",\"Bayeux\",\"Le Havre\",\"Rouen\",\"Paris\",\"Amiens\",\"Lille\",\"Strasbourg\",\n",
    "\"Chateau du Haut Koenigsbourg\",\"Colmar\",\"Eguisheim\",\"Besancon\",\"Dijon\",\"Annecy\",\"Grenoble\",\"Lyon\",\"Gorges du Verdon\",\n",
    "\"Bormes les Mimosas\",\"Cassis\",\"Marseille\",\"Aix en Provence\",\"Avignon\",\"Uzes\",\"Nimes\",\"Aigues Mortes\",\"Saintes Maries de la mer\",\n",
    "\"Collioure\",\"Carcassonne\",\"Ariege\",\"Toulouse\",\"Montauban\",\"Biarritz\",\"Bayonne\",\"La Rochelle\"]\n"
   ]
  },
  {
   "cell_type": "markdown",
   "metadata": {},
   "source": [
    "COORDONNEES D'UNE SEULE VILLE"
   ]
  },
  {
   "cell_type": "code",
   "execution_count": 40,
   "metadata": {},
   "outputs": [],
   "source": [
    "# ESSAI MANUEL POUR UNE SEULE VILLE \n",
    "\n",
    "url = \"https://nominatim.openstreetmap.org/search?\"\n",
    "headers = {\"accept\": \"application/json\", 'user_agent':'charles.mittempergher@gmail.com'}\n",
    "p = {'city' : 'Toulouse', 'country':'France', 'format':'json', 'limit':1}\n",
    "\n",
    "response = requests.get(url, headers=headers, params=p)"
   ]
  },
  {
   "cell_type": "markdown",
   "metadata": {},
   "source": [
    "BOUCLE POUR LES COORDONNEES TOUTES LES VILLES"
   ]
  },
  {
   "cell_type": "code",
   "execution_count": 41,
   "metadata": {},
   "outputs": [
    {
     "name": "stdout",
     "output_type": "stream",
     "text": [
      "Ajout de Mont Saint Michel effectué\n",
      "Ajout de St Malo effectué\n",
      "Ajout de Bayeux effectué\n",
      "Ajout de Le Havre effectué\n",
      "Ajout de Rouen effectué\n",
      "Ajout de Paris effectué\n",
      "Ajout de Amiens effectué\n",
      "Ajout de Lille effectué\n",
      "Ajout de Strasbourg effectué\n",
      "Ajout de Chateau du Haut Koenigsbourg effectué\n",
      "Ajout de Colmar effectué\n",
      "Ajout de Eguisheim effectué\n",
      "Ajout de Besancon effectué\n",
      "Ajout de Dijon effectué\n",
      "Ajout de Annecy effectué\n",
      "Ajout de Grenoble effectué\n",
      "Ajout de Lyon effectué\n",
      "Ajout de Gorges du Verdon effectué\n",
      "Ajout de Bormes les Mimosas effectué\n",
      "Ajout de Cassis effectué\n",
      "Ajout de Marseille effectué\n",
      "Ajout de Aix en Provence effectué\n",
      "Ajout de Avignon effectué\n",
      "Ajout de Uzes effectué\n",
      "Ajout de Nimes effectué\n",
      "Ajout de Aigues Mortes effectué\n",
      "Ajout de Saintes Maries de la mer effectué\n",
      "Ajout de Collioure effectué\n",
      "Ajout de Carcassonne effectué\n",
      "Ajout de Ariege effectué\n",
      "Ajout de Toulouse effectué\n",
      "Ajout de Montauban effectué\n",
      "Ajout de Biarritz effectué\n",
      "Ajout de Bayonne effectué\n",
      "Ajout de La Rochelle effectué\n"
     ]
    }
   ],
   "source": [
    "# RECUPERATION DES DONNEES POUR TOUTE LA LISTE DES VILLES\n",
    "url = \"https://nominatim.openstreetmap.org/search?\"\n",
    "headers = {'user_agent':'charles.mittempergher@gmail.com'}\n",
    "\n",
    "df_villes = pd.DataFrame(columns=['ville','lat','lon'])\n",
    "\n",
    "for i in range(len(liste_villes)):\n",
    "    \n",
    "    p = {'city' : {liste_villes[i]}, 'country':'France', 'format':'json', 'limit':1, 'email':'charles@gmail.com'}\n",
    "\n",
    "    r = requests.get(url, headers=headers, params=p)\n",
    "    ville = r.json()[0]['name']\n",
    "    lat   = r.json()[0]['lat']\n",
    "    lon   = r.json()[0]['lon']\n",
    "\n",
    "    df_villes.loc[i] = [ville, lat,lon]\n",
    "    print(f'Ajout de {liste_villes[i]} effectué')"
   ]
  },
  {
   "cell_type": "code",
   "execution_count": 42,
   "metadata": {},
   "outputs": [
    {
     "data": {
      "text/plain": [
       "b'[{\"place_id\":266833066,\"licence\":\"Data \\xc2\\xa9 OpenStreetMap contributors, ODbL 1.0. http://osm.org/copyright\",\"osm_type\":\"relation\",\"osm_id\":117858,\"lat\":\"46.159732\",\"lon\":\"-1.1515951\",\"class\":\"boundary\",\"type\":\"administrative\",\"place_rank\":16,\"importance\":0.6409735277294301,\"addresstype\":\"town\",\"name\":\"La Rochelle\",\"display_name\":\"La Rochelle, Charente-Maritime, Nouvelle-Aquitaine, France m\\xc3\\xa9tropolitaine, 17000, France\",\"boundingbox\":[\"46.1331804\",\"46.1908971\",\"-1.2419231\",\"-1.1110970\"]}]'"
      ]
     },
     "execution_count": 42,
     "metadata": {},
     "output_type": "execute_result"
    }
   ],
   "source": [
    "r.content"
   ]
  },
  {
   "cell_type": "code",
   "execution_count": 43,
   "metadata": {},
   "outputs": [
    {
     "data": {
      "text/html": [
       "<div>\n",
       "<style scoped>\n",
       "    .dataframe tbody tr th:only-of-type {\n",
       "        vertical-align: middle;\n",
       "    }\n",
       "\n",
       "    .dataframe tbody tr th {\n",
       "        vertical-align: top;\n",
       "    }\n",
       "\n",
       "    .dataframe thead th {\n",
       "        text-align: right;\n",
       "    }\n",
       "</style>\n",
       "<table border=\"1\" class=\"dataframe\">\n",
       "  <thead>\n",
       "    <tr style=\"text-align: right;\">\n",
       "      <th></th>\n",
       "      <th>ville</th>\n",
       "      <th>lat</th>\n",
       "      <th>lon</th>\n",
       "    </tr>\n",
       "  </thead>\n",
       "  <tbody>\n",
       "    <tr>\n",
       "      <th>0</th>\n",
       "      <td>Mont Saint-Michel</td>\n",
       "      <td>48.6359541</td>\n",
       "      <td>-1.511459954959514</td>\n",
       "    </tr>\n",
       "    <tr>\n",
       "      <th>1</th>\n",
       "      <td>Saint-Malo</td>\n",
       "      <td>48.649518</td>\n",
       "      <td>-2.0260409</td>\n",
       "    </tr>\n",
       "    <tr>\n",
       "      <th>2</th>\n",
       "      <td>Bayeux</td>\n",
       "      <td>49.2764624</td>\n",
       "      <td>-0.7024738</td>\n",
       "    </tr>\n",
       "    <tr>\n",
       "      <th>3</th>\n",
       "      <td>Le Havre</td>\n",
       "      <td>49.4938975</td>\n",
       "      <td>0.1079732</td>\n",
       "    </tr>\n",
       "    <tr>\n",
       "      <th>4</th>\n",
       "      <td>Rouen</td>\n",
       "      <td>49.4404591</td>\n",
       "      <td>1.0939658</td>\n",
       "    </tr>\n",
       "  </tbody>\n",
       "</table>\n",
       "</div>"
      ],
      "text/plain": [
       "               ville         lat                 lon\n",
       "0  Mont Saint-Michel  48.6359541  -1.511459954959514\n",
       "1         Saint-Malo   48.649518          -2.0260409\n",
       "2             Bayeux  49.2764624          -0.7024738\n",
       "3           Le Havre  49.4938975           0.1079732\n",
       "4              Rouen  49.4404591           1.0939658"
      ]
     },
     "execution_count": 43,
     "metadata": {},
     "output_type": "execute_result"
    }
   ],
   "source": [
    "df_villes.head()"
   ]
  },
  {
   "cell_type": "markdown",
   "metadata": {},
   "source": [
    " DEBUT DE LA PARTIE AVEC OPENWEATHER"
   ]
  },
  {
   "cell_type": "code",
   "execution_count": 44,
   "metadata": {},
   "outputs": [],
   "source": [
    "url_ow = \"https://api.openweathermap.org/data/2.5/forecast?\"\n",
    "\n",
    "lat = 43.2961743\n",
    "lon = 5.3699525\n",
    "p = {'lat' : lat, 'lon' : lon, 'units':'metric', 'appid' : 'a2fa8b199ebbdb821bb767d8318aa7bd'}\n",
    "response = requests.get(url_ow, params=p)\n"
   ]
  },
  {
   "cell_type": "code",
   "execution_count": 45,
   "metadata": {},
   "outputs": [
    {
     "data": {
      "text/plain": [
       "[{'dt': 1731607200,\n",
       "  'main': {'temp': 12.29,\n",
       "   'feels_like': 10.98,\n",
       "   'temp_min': 12.29,\n",
       "   'temp_max': 14.79,\n",
       "   'pressure': 1022,\n",
       "   'sea_level': 1022,\n",
       "   'grnd_level': 1014,\n",
       "   'humidity': 54,\n",
       "   'temp_kf': -2.5},\n",
       "  'weather': [{'id': 800,\n",
       "    'main': 'Clear',\n",
       "    'description': 'clear sky',\n",
       "    'icon': '01n'}],\n",
       "  'clouds': {'all': 0},\n",
       "  'wind': {'speed': 2.34, 'deg': 318, 'gust': 2.45},\n",
       "  'visibility': 10000,\n",
       "  'pop': 0,\n",
       "  'sys': {'pod': 'n'},\n",
       "  'dt_txt': '2024-11-14 18:00:00'},\n",
       " {'dt': 1731618000,\n",
       "  'main': {'temp': 12.83,\n",
       "   'feels_like': 11.6,\n",
       "   'temp_min': 12.83,\n",
       "   'temp_max': 13.92,\n",
       "   'pressure': 1022,\n",
       "   'sea_level': 1022,\n",
       "   'grnd_level': 1015,\n",
       "   'humidity': 55,\n",
       "   'temp_kf': -1.09},\n",
       "  'weather': [{'id': 800,\n",
       "    'main': 'Clear',\n",
       "    'description': 'clear sky',\n",
       "    'icon': '01n'}],\n",
       "  'clouds': {'all': 2},\n",
       "  'wind': {'speed': 0.83, 'deg': 305, 'gust': 0.86},\n",
       "  'visibility': 10000,\n",
       "  'pop': 0,\n",
       "  'sys': {'pod': 'n'},\n",
       "  'dt_txt': '2024-11-14 21:00:00'},\n",
       " {'dt': 1731628800,\n",
       "  'main': {'temp': 13.1,\n",
       "   'feels_like': 11.98,\n",
       "   'temp_min': 13.1,\n",
       "   'temp_max': 13.5,\n",
       "   'pressure': 1023,\n",
       "   'sea_level': 1023,\n",
       "   'grnd_level': 1016,\n",
       "   'humidity': 58,\n",
       "   'temp_kf': -0.4},\n",
       "  'weather': [{'id': 800,\n",
       "    'main': 'Clear',\n",
       "    'description': 'clear sky',\n",
       "    'icon': '01n'}],\n",
       "  'clouds': {'all': 2},\n",
       "  'wind': {'speed': 0.44, 'deg': 152, 'gust': 1},\n",
       "  'visibility': 10000,\n",
       "  'pop': 0,\n",
       "  'sys': {'pod': 'n'},\n",
       "  'dt_txt': '2024-11-15 00:00:00'},\n",
       " {'dt': 1731639600,\n",
       "  'main': {'temp': 13,\n",
       "   'feels_like': 12,\n",
       "   'temp_min': 13,\n",
       "   'temp_max': 13,\n",
       "   'pressure': 1023,\n",
       "   'sea_level': 1023,\n",
       "   'grnd_level': 1015,\n",
       "   'humidity': 63,\n",
       "   'temp_kf': 0},\n",
       "  'weather': [{'id': 800,\n",
       "    'main': 'Clear',\n",
       "    'description': 'clear sky',\n",
       "    'icon': '01n'}],\n",
       "  'clouds': {'all': 0},\n",
       "  'wind': {'speed': 0.24, 'deg': 343, 'gust': 1.02},\n",
       "  'visibility': 10000,\n",
       "  'pop': 0,\n",
       "  'sys': {'pod': 'n'},\n",
       "  'dt_txt': '2024-11-15 03:00:00'},\n",
       " {'dt': 1731650400,\n",
       "  'main': {'temp': 12.73,\n",
       "   'feels_like': 11.7,\n",
       "   'temp_min': 12.73,\n",
       "   'temp_max': 12.73,\n",
       "   'pressure': 1023,\n",
       "   'sea_level': 1023,\n",
       "   'grnd_level': 1016,\n",
       "   'humidity': 63,\n",
       "   'temp_kf': 0},\n",
       "  'weather': [{'id': 800,\n",
       "    'main': 'Clear',\n",
       "    'description': 'clear sky',\n",
       "    'icon': '01n'}],\n",
       "  'clouds': {'all': 0},\n",
       "  'wind': {'speed': 0.75, 'deg': 16, 'gust': 1.12},\n",
       "  'visibility': 10000,\n",
       "  'pop': 0,\n",
       "  'sys': {'pod': 'n'},\n",
       "  'dt_txt': '2024-11-15 06:00:00'},\n",
       " {'dt': 1731661200,\n",
       "  'main': {'temp': 13.82,\n",
       "   'feels_like': 12.77,\n",
       "   'temp_min': 13.82,\n",
       "   'temp_max': 13.82,\n",
       "   'pressure': 1024,\n",
       "   'sea_level': 1024,\n",
       "   'grnd_level': 1017,\n",
       "   'humidity': 58,\n",
       "   'temp_kf': 0},\n",
       "  'weather': [{'id': 800,\n",
       "    'main': 'Clear',\n",
       "    'description': 'clear sky',\n",
       "    'icon': '01d'}],\n",
       "  'clouds': {'all': 0},\n",
       "  'wind': {'speed': 0.65, 'deg': 316, 'gust': 0.85},\n",
       "  'visibility': 10000,\n",
       "  'pop': 0,\n",
       "  'sys': {'pod': 'd'},\n",
       "  'dt_txt': '2024-11-15 09:00:00'},\n",
       " {'dt': 1731672000,\n",
       "  'main': {'temp': 14.84,\n",
       "   'feels_like': 13.92,\n",
       "   'temp_min': 14.84,\n",
       "   'temp_max': 14.84,\n",
       "   'pressure': 1023,\n",
       "   'sea_level': 1023,\n",
       "   'grnd_level': 1016,\n",
       "   'humidity': 59,\n",
       "   'temp_kf': 0},\n",
       "  'weather': [{'id': 800,\n",
       "    'main': 'Clear',\n",
       "    'description': 'clear sky',\n",
       "    'icon': '01d'}],\n",
       "  'clouds': {'all': 0},\n",
       "  'wind': {'speed': 2.33, 'deg': 265, 'gust': 2.28},\n",
       "  'visibility': 10000,\n",
       "  'pop': 0,\n",
       "  'sys': {'pod': 'd'},\n",
       "  'dt_txt': '2024-11-15 12:00:00'},\n",
       " {'dt': 1731682800,\n",
       "  'main': {'temp': 14.8,\n",
       "   'feels_like': 13.93,\n",
       "   'temp_min': 14.8,\n",
       "   'temp_max': 14.8,\n",
       "   'pressure': 1023,\n",
       "   'sea_level': 1023,\n",
       "   'grnd_level': 1015,\n",
       "   'humidity': 61,\n",
       "   'temp_kf': 0},\n",
       "  'weather': [{'id': 800,\n",
       "    'main': 'Clear',\n",
       "    'description': 'clear sky',\n",
       "    'icon': '01d'}],\n",
       "  'clouds': {'all': 4},\n",
       "  'wind': {'speed': 2.4, 'deg': 272, 'gust': 2.09},\n",
       "  'visibility': 10000,\n",
       "  'pop': 0,\n",
       "  'sys': {'pod': 'd'},\n",
       "  'dt_txt': '2024-11-15 15:00:00'},\n",
       " {'dt': 1731693600,\n",
       "  'main': {'temp': 14.45,\n",
       "   'feels_like': 13.6,\n",
       "   'temp_min': 14.45,\n",
       "   'temp_max': 14.45,\n",
       "   'pressure': 1023,\n",
       "   'sea_level': 1023,\n",
       "   'grnd_level': 1016,\n",
       "   'humidity': 63,\n",
       "   'temp_kf': 0},\n",
       "  'weather': [{'id': 800,\n",
       "    'main': 'Clear',\n",
       "    'description': 'clear sky',\n",
       "    'icon': '01n'}],\n",
       "  'clouds': {'all': 4},\n",
       "  'wind': {'speed': 2.13, 'deg': 259, 'gust': 1.99},\n",
       "  'visibility': 10000,\n",
       "  'pop': 0,\n",
       "  'sys': {'pod': 'n'},\n",
       "  'dt_txt': '2024-11-15 18:00:00'},\n",
       " {'dt': 1731704400,\n",
       "  'main': {'temp': 14.12,\n",
       "   'feels_like': 13.28,\n",
       "   'temp_min': 14.12,\n",
       "   'temp_max': 14.12,\n",
       "   'pressure': 1024,\n",
       "   'sea_level': 1024,\n",
       "   'grnd_level': 1017,\n",
       "   'humidity': 65,\n",
       "   'temp_kf': 0},\n",
       "  'weather': [{'id': 800,\n",
       "    'main': 'Clear',\n",
       "    'description': 'clear sky',\n",
       "    'icon': '01n'}],\n",
       "  'clouds': {'all': 2},\n",
       "  'wind': {'speed': 1.61, 'deg': 261, 'gust': 1.79},\n",
       "  'visibility': 10000,\n",
       "  'pop': 0,\n",
       "  'sys': {'pod': 'n'},\n",
       "  'dt_txt': '2024-11-15 21:00:00'},\n",
       " {'dt': 1731715200,\n",
       "  'main': {'temp': 13.87,\n",
       "   'feels_like': 13.09,\n",
       "   'temp_min': 13.87,\n",
       "   'temp_max': 13.87,\n",
       "   'pressure': 1024,\n",
       "   'sea_level': 1024,\n",
       "   'grnd_level': 1017,\n",
       "   'humidity': 68,\n",
       "   'temp_kf': 0},\n",
       "  'weather': [{'id': 800,\n",
       "    'main': 'Clear',\n",
       "    'description': 'clear sky',\n",
       "    'icon': '01n'}],\n",
       "  'clouds': {'all': 3},\n",
       "  'wind': {'speed': 0.96, 'deg': 288, 'gust': 1.32},\n",
       "  'visibility': 10000,\n",
       "  'pop': 0,\n",
       "  'sys': {'pod': 'n'},\n",
       "  'dt_txt': '2024-11-16 00:00:00'},\n",
       " {'dt': 1731726000,\n",
       "  'main': {'temp': 13.35,\n",
       "   'feels_like': 12.54,\n",
       "   'temp_min': 13.35,\n",
       "   'temp_max': 13.35,\n",
       "   'pressure': 1023,\n",
       "   'sea_level': 1023,\n",
       "   'grnd_level': 1016,\n",
       "   'humidity': 69,\n",
       "   'temp_kf': 0},\n",
       "  'weather': [{'id': 800,\n",
       "    'main': 'Clear',\n",
       "    'description': 'clear sky',\n",
       "    'icon': '01n'}],\n",
       "  'clouds': {'all': 1},\n",
       "  'wind': {'speed': 1.56, 'deg': 24, 'gust': 1.22},\n",
       "  'visibility': 10000,\n",
       "  'pop': 0,\n",
       "  'sys': {'pod': 'n'},\n",
       "  'dt_txt': '2024-11-16 03:00:00'},\n",
       " {'dt': 1731736800,\n",
       "  'main': {'temp': 13.32,\n",
       "   'feels_like': 12.46,\n",
       "   'temp_min': 13.32,\n",
       "   'temp_max': 13.32,\n",
       "   'pressure': 1023,\n",
       "   'sea_level': 1023,\n",
       "   'grnd_level': 1016,\n",
       "   'humidity': 67,\n",
       "   'temp_kf': 0},\n",
       "  'weather': [{'id': 801,\n",
       "    'main': 'Clouds',\n",
       "    'description': 'few clouds',\n",
       "    'icon': '02n'}],\n",
       "  'clouds': {'all': 16},\n",
       "  'wind': {'speed': 1.9, 'deg': 62, 'gust': 1.5},\n",
       "  'visibility': 10000,\n",
       "  'pop': 0,\n",
       "  'sys': {'pod': 'n'},\n",
       "  'dt_txt': '2024-11-16 06:00:00'},\n",
       " {'dt': 1731747600,\n",
       "  'main': {'temp': 14.17,\n",
       "   'feels_like': 13.37,\n",
       "   'temp_min': 14.17,\n",
       "   'temp_max': 14.17,\n",
       "   'pressure': 1023,\n",
       "   'sea_level': 1023,\n",
       "   'grnd_level': 1016,\n",
       "   'humidity': 66,\n",
       "   'temp_kf': 0},\n",
       "  'weather': [{'id': 804,\n",
       "    'main': 'Clouds',\n",
       "    'description': 'overcast clouds',\n",
       "    'icon': '04d'}],\n",
       "  'clouds': {'all': 100},\n",
       "  'wind': {'speed': 1.25, 'deg': 104, 'gust': 1.36},\n",
       "  'visibility': 10000,\n",
       "  'pop': 0,\n",
       "  'sys': {'pod': 'd'},\n",
       "  'dt_txt': '2024-11-16 09:00:00'},\n",
       " {'dt': 1731758400,\n",
       "  'main': {'temp': 14.83,\n",
       "   'feels_like': 14.17,\n",
       "   'temp_min': 14.83,\n",
       "   'temp_max': 14.83,\n",
       "   'pressure': 1022,\n",
       "   'sea_level': 1022,\n",
       "   'grnd_level': 1015,\n",
       "   'humidity': 69,\n",
       "   'temp_kf': 0},\n",
       "  'weather': [{'id': 804,\n",
       "    'main': 'Clouds',\n",
       "    'description': 'overcast clouds',\n",
       "    'icon': '04d'}],\n",
       "  'clouds': {'all': 100},\n",
       "  'wind': {'speed': 0.97, 'deg': 146, 'gust': 1.24},\n",
       "  'visibility': 10000,\n",
       "  'pop': 0,\n",
       "  'sys': {'pod': 'd'},\n",
       "  'dt_txt': '2024-11-16 12:00:00'},\n",
       " {'dt': 1731769200,\n",
       "  'main': {'temp': 15.19,\n",
       "   'feels_like': 14.64,\n",
       "   'temp_min': 15.19,\n",
       "   'temp_max': 15.19,\n",
       "   'pressure': 1021,\n",
       "   'sea_level': 1021,\n",
       "   'grnd_level': 1014,\n",
       "   'humidity': 72,\n",
       "   'temp_kf': 0},\n",
       "  'weather': [{'id': 804,\n",
       "    'main': 'Clouds',\n",
       "    'description': 'overcast clouds',\n",
       "    'icon': '04d'}],\n",
       "  'clouds': {'all': 100},\n",
       "  'wind': {'speed': 0.46, 'deg': 189, 'gust': 1.18},\n",
       "  'visibility': 10000,\n",
       "  'pop': 0,\n",
       "  'sys': {'pod': 'd'},\n",
       "  'dt_txt': '2024-11-16 15:00:00'},\n",
       " {'dt': 1731780000,\n",
       "  'main': {'temp': 15.47,\n",
       "   'feels_like': 15,\n",
       "   'temp_min': 15.47,\n",
       "   'temp_max': 15.47,\n",
       "   'pressure': 1020,\n",
       "   'sea_level': 1020,\n",
       "   'grnd_level': 1013,\n",
       "   'humidity': 74,\n",
       "   'temp_kf': 0},\n",
       "  'weather': [{'id': 804,\n",
       "    'main': 'Clouds',\n",
       "    'description': 'overcast clouds',\n",
       "    'icon': '04n'}],\n",
       "  'clouds': {'all': 100},\n",
       "  'wind': {'speed': 0.73, 'deg': 265, 'gust': 1.7},\n",
       "  'visibility': 10000,\n",
       "  'pop': 0,\n",
       "  'sys': {'pod': 'n'},\n",
       "  'dt_txt': '2024-11-16 18:00:00'},\n",
       " {'dt': 1731790800,\n",
       "  'main': {'temp': 15.29,\n",
       "   'feels_like': 14.91,\n",
       "   'temp_min': 15.29,\n",
       "   'temp_max': 15.29,\n",
       "   'pressure': 1020,\n",
       "   'sea_level': 1020,\n",
       "   'grnd_level': 1013,\n",
       "   'humidity': 78,\n",
       "   'temp_kf': 0},\n",
       "  'weather': [{'id': 804,\n",
       "    'main': 'Clouds',\n",
       "    'description': 'overcast clouds',\n",
       "    'icon': '04n'}],\n",
       "  'clouds': {'all': 100},\n",
       "  'wind': {'speed': 1.09, 'deg': 329, 'gust': 1.45},\n",
       "  'visibility': 10000,\n",
       "  'pop': 0,\n",
       "  'sys': {'pod': 'n'},\n",
       "  'dt_txt': '2024-11-16 21:00:00'},\n",
       " {'dt': 1731801600,\n",
       "  'main': {'temp': 14.8,\n",
       "   'feels_like': 14.45,\n",
       "   'temp_min': 14.8,\n",
       "   'temp_max': 14.8,\n",
       "   'pressure': 1019,\n",
       "   'sea_level': 1019,\n",
       "   'grnd_level': 1011,\n",
       "   'humidity': 81,\n",
       "   'temp_kf': 0},\n",
       "  'weather': [{'id': 804,\n",
       "    'main': 'Clouds',\n",
       "    'description': 'overcast clouds',\n",
       "    'icon': '04n'}],\n",
       "  'clouds': {'all': 100},\n",
       "  'wind': {'speed': 2.27, 'deg': 21, 'gust': 1.86},\n",
       "  'visibility': 10000,\n",
       "  'pop': 0,\n",
       "  'sys': {'pod': 'n'},\n",
       "  'dt_txt': '2024-11-17 00:00:00'},\n",
       " {'dt': 1731812400,\n",
       "  'main': {'temp': 14.49,\n",
       "   'feels_like': 14.11,\n",
       "   'temp_min': 14.49,\n",
       "   'temp_max': 14.49,\n",
       "   'pressure': 1017,\n",
       "   'sea_level': 1017,\n",
       "   'grnd_level': 1010,\n",
       "   'humidity': 81,\n",
       "   'temp_kf': 0},\n",
       "  'weather': [{'id': 804,\n",
       "    'main': 'Clouds',\n",
       "    'description': 'overcast clouds',\n",
       "    'icon': '04n'}],\n",
       "  'clouds': {'all': 100},\n",
       "  'wind': {'speed': 2.26, 'deg': 338, 'gust': 2.72},\n",
       "  'visibility': 10000,\n",
       "  'pop': 0,\n",
       "  'sys': {'pod': 'n'},\n",
       "  'dt_txt': '2024-11-17 03:00:00'},\n",
       " {'dt': 1731823200,\n",
       "  'main': {'temp': 14.22,\n",
       "   'feels_like': 13.73,\n",
       "   'temp_min': 14.22,\n",
       "   'temp_max': 14.22,\n",
       "   'pressure': 1016,\n",
       "   'sea_level': 1016,\n",
       "   'grnd_level': 1009,\n",
       "   'humidity': 78,\n",
       "   'temp_kf': 0},\n",
       "  'weather': [{'id': 804,\n",
       "    'main': 'Clouds',\n",
       "    'description': 'overcast clouds',\n",
       "    'icon': '04n'}],\n",
       "  'clouds': {'all': 100},\n",
       "  'wind': {'speed': 3.15, 'deg': 318, 'gust': 3.79},\n",
       "  'visibility': 10000,\n",
       "  'pop': 0,\n",
       "  'sys': {'pod': 'n'},\n",
       "  'dt_txt': '2024-11-17 06:00:00'},\n",
       " {'dt': 1731834000,\n",
       "  'main': {'temp': 14.25,\n",
       "   'feels_like': 13.64,\n",
       "   'temp_min': 14.25,\n",
       "   'temp_max': 14.25,\n",
       "   'pressure': 1016,\n",
       "   'sea_level': 1016,\n",
       "   'grnd_level': 1009,\n",
       "   'humidity': 73,\n",
       "   'temp_kf': 0},\n",
       "  'weather': [{'id': 804,\n",
       "    'main': 'Clouds',\n",
       "    'description': 'overcast clouds',\n",
       "    'icon': '04d'}],\n",
       "  'clouds': {'all': 100},\n",
       "  'wind': {'speed': 4.42, 'deg': 319, 'gust': 5.85},\n",
       "  'visibility': 10000,\n",
       "  'pop': 0,\n",
       "  'sys': {'pod': 'd'},\n",
       "  'dt_txt': '2024-11-17 09:00:00'},\n",
       " {'dt': 1731844800,\n",
       "  'main': {'temp': 16.21,\n",
       "   'feels_like': 15.45,\n",
       "   'temp_min': 16.21,\n",
       "   'temp_max': 16.21,\n",
       "   'pressure': 1015,\n",
       "   'sea_level': 1015,\n",
       "   'grnd_level': 1007,\n",
       "   'humidity': 60,\n",
       "   'temp_kf': 0},\n",
       "  'weather': [{'id': 803,\n",
       "    'main': 'Clouds',\n",
       "    'description': 'broken clouds',\n",
       "    'icon': '04d'}],\n",
       "  'clouds': {'all': 73},\n",
       "  'wind': {'speed': 5.65, 'deg': 306, 'gust': 7.23},\n",
       "  'visibility': 10000,\n",
       "  'pop': 0,\n",
       "  'sys': {'pod': 'd'},\n",
       "  'dt_txt': '2024-11-17 12:00:00'},\n",
       " {'dt': 1731855600,\n",
       "  'main': {'temp': 17.44,\n",
       "   'feels_like': 16.68,\n",
       "   'temp_min': 17.44,\n",
       "   'temp_max': 17.44,\n",
       "   'pressure': 1013,\n",
       "   'sea_level': 1013,\n",
       "   'grnd_level': 1006,\n",
       "   'humidity': 55,\n",
       "   'temp_kf': 0},\n",
       "  'weather': [{'id': 800,\n",
       "    'main': 'Clear',\n",
       "    'description': 'clear sky',\n",
       "    'icon': '01d'}],\n",
       "  'clouds': {'all': 3},\n",
       "  'wind': {'speed': 6.76, 'deg': 314, 'gust': 9.6},\n",
       "  'visibility': 10000,\n",
       "  'pop': 0,\n",
       "  'sys': {'pod': 'd'},\n",
       "  'dt_txt': '2024-11-17 15:00:00'},\n",
       " {'dt': 1731866400,\n",
       "  'main': {'temp': 16.91,\n",
       "   'feels_like': 16.2,\n",
       "   'temp_min': 16.91,\n",
       "   'temp_max': 16.91,\n",
       "   'pressure': 1014,\n",
       "   'sea_level': 1014,\n",
       "   'grnd_level': 1006,\n",
       "   'humidity': 59,\n",
       "   'temp_kf': 0},\n",
       "  'weather': [{'id': 802,\n",
       "    'main': 'Clouds',\n",
       "    'description': 'scattered clouds',\n",
       "    'icon': '03n'}],\n",
       "  'clouds': {'all': 28},\n",
       "  'wind': {'speed': 6.1, 'deg': 311, 'gust': 11.67},\n",
       "  'visibility': 10000,\n",
       "  'pop': 0,\n",
       "  'sys': {'pod': 'n'},\n",
       "  'dt_txt': '2024-11-17 18:00:00'},\n",
       " {'dt': 1731877200,\n",
       "  'main': {'temp': 15.87,\n",
       "   'feels_like': 15.11,\n",
       "   'temp_min': 15.87,\n",
       "   'temp_max': 15.87,\n",
       "   'pressure': 1014,\n",
       "   'sea_level': 1014,\n",
       "   'grnd_level': 1007,\n",
       "   'humidity': 61,\n",
       "   'temp_kf': 0},\n",
       "  'weather': [{'id': 804,\n",
       "    'main': 'Clouds',\n",
       "    'description': 'overcast clouds',\n",
       "    'icon': '04n'}],\n",
       "  'clouds': {'all': 88},\n",
       "  'wind': {'speed': 7.53, 'deg': 310, 'gust': 13.31},\n",
       "  'visibility': 10000,\n",
       "  'pop': 0,\n",
       "  'sys': {'pod': 'n'},\n",
       "  'dt_txt': '2024-11-17 21:00:00'},\n",
       " {'dt': 1731888000,\n",
       "  'main': {'temp': 14.58,\n",
       "   'feels_like': 13.74,\n",
       "   'temp_min': 14.58,\n",
       "   'temp_max': 14.58,\n",
       "   'pressure': 1014,\n",
       "   'sea_level': 1014,\n",
       "   'grnd_level': 1007,\n",
       "   'humidity': 63,\n",
       "   'temp_kf': 0},\n",
       "  'weather': [{'id': 803,\n",
       "    'main': 'Clouds',\n",
       "    'description': 'broken clouds',\n",
       "    'icon': '04n'}],\n",
       "  'clouds': {'all': 69},\n",
       "  'wind': {'speed': 9.41, 'deg': 309, 'gust': 14.63},\n",
       "  'visibility': 10000,\n",
       "  'pop': 0,\n",
       "  'sys': {'pod': 'n'},\n",
       "  'dt_txt': '2024-11-18 00:00:00'},\n",
       " {'dt': 1731898800,\n",
       "  'main': {'temp': 14,\n",
       "   'feels_like': 13.07,\n",
       "   'temp_min': 14,\n",
       "   'temp_max': 14,\n",
       "   'pressure': 1014,\n",
       "   'sea_level': 1014,\n",
       "   'grnd_level': 1006,\n",
       "   'humidity': 62,\n",
       "   'temp_kf': 0},\n",
       "  'weather': [{'id': 801,\n",
       "    'main': 'Clouds',\n",
       "    'description': 'few clouds',\n",
       "    'icon': '02n'}],\n",
       "  'clouds': {'all': 13},\n",
       "  'wind': {'speed': 10.83, 'deg': 321, 'gust': 16.03},\n",
       "  'visibility': 10000,\n",
       "  'pop': 0,\n",
       "  'sys': {'pod': 'n'},\n",
       "  'dt_txt': '2024-11-18 03:00:00'},\n",
       " {'dt': 1731909600,\n",
       "  'main': {'temp': 13.61,\n",
       "   'feels_like': 12.67,\n",
       "   'temp_min': 13.61,\n",
       "   'temp_max': 13.61,\n",
       "   'pressure': 1014,\n",
       "   'sea_level': 1014,\n",
       "   'grnd_level': 1007,\n",
       "   'humidity': 63,\n",
       "   'temp_kf': 0},\n",
       "  'weather': [{'id': 803,\n",
       "    'main': 'Clouds',\n",
       "    'description': 'broken clouds',\n",
       "    'icon': '04n'}],\n",
       "  'clouds': {'all': 55},\n",
       "  'wind': {'speed': 12.87, 'deg': 319, 'gust': 17.88},\n",
       "  'visibility': 10000,\n",
       "  'pop': 0,\n",
       "  'sys': {'pod': 'n'},\n",
       "  'dt_txt': '2024-11-18 06:00:00'},\n",
       " {'dt': 1731920400,\n",
       "  'main': {'temp': 13.87,\n",
       "   'feels_like': 12.93,\n",
       "   'temp_min': 13.87,\n",
       "   'temp_max': 13.87,\n",
       "   'pressure': 1015,\n",
       "   'sea_level': 1015,\n",
       "   'grnd_level': 1007,\n",
       "   'humidity': 62,\n",
       "   'temp_kf': 0},\n",
       "  'weather': [{'id': 803,\n",
       "    'main': 'Clouds',\n",
       "    'description': 'broken clouds',\n",
       "    'icon': '04d'}],\n",
       "  'clouds': {'all': 60},\n",
       "  'wind': {'speed': 13.78, 'deg': 315, 'gust': 17.97},\n",
       "  'visibility': 10000,\n",
       "  'pop': 0,\n",
       "  'sys': {'pod': 'd'},\n",
       "  'dt_txt': '2024-11-18 09:00:00'},\n",
       " {'dt': 1731931200,\n",
       "  'main': {'temp': 14.95,\n",
       "   'feels_like': 14.02,\n",
       "   'temp_min': 14.95,\n",
       "   'temp_max': 14.95,\n",
       "   'pressure': 1014,\n",
       "   'sea_level': 1014,\n",
       "   'grnd_level': 1006,\n",
       "   'humidity': 58,\n",
       "   'temp_kf': 0},\n",
       "  'weather': [{'id': 802,\n",
       "    'main': 'Clouds',\n",
       "    'description': 'scattered clouds',\n",
       "    'icon': '03d'}],\n",
       "  'clouds': {'all': 31},\n",
       "  'wind': {'speed': 15.03, 'deg': 317, 'gust': 18.61},\n",
       "  'visibility': 10000,\n",
       "  'pop': 0,\n",
       "  'sys': {'pod': 'd'},\n",
       "  'dt_txt': '2024-11-18 12:00:00'},\n",
       " {'dt': 1731942000,\n",
       "  'main': {'temp': 14.88,\n",
       "   'feels_like': 13.83,\n",
       "   'temp_min': 14.88,\n",
       "   'temp_max': 14.88,\n",
       "   'pressure': 1013,\n",
       "   'sea_level': 1013,\n",
       "   'grnd_level': 1006,\n",
       "   'humidity': 54,\n",
       "   'temp_kf': 0},\n",
       "  'weather': [{'id': 802,\n",
       "    'main': 'Clouds',\n",
       "    'description': 'scattered clouds',\n",
       "    'icon': '03d'}],\n",
       "  'clouds': {'all': 44},\n",
       "  'wind': {'speed': 13.98, 'deg': 317, 'gust': 18.1},\n",
       "  'visibility': 10000,\n",
       "  'pop': 0,\n",
       "  'sys': {'pod': 'd'},\n",
       "  'dt_txt': '2024-11-18 15:00:00'},\n",
       " {'dt': 1731952800,\n",
       "  'main': {'temp': 14.51,\n",
       "   'feels_like': 13.32,\n",
       "   'temp_min': 14.51,\n",
       "   'temp_max': 14.51,\n",
       "   'pressure': 1014,\n",
       "   'sea_level': 1014,\n",
       "   'grnd_level': 1006,\n",
       "   'humidity': 50,\n",
       "   'temp_kf': 0},\n",
       "  'weather': [{'id': 802,\n",
       "    'main': 'Clouds',\n",
       "    'description': 'scattered clouds',\n",
       "    'icon': '03n'}],\n",
       "  'clouds': {'all': 25},\n",
       "  'wind': {'speed': 11.74, 'deg': 324, 'gust': 16.37},\n",
       "  'visibility': 10000,\n",
       "  'pop': 0,\n",
       "  'sys': {'pod': 'n'},\n",
       "  'dt_txt': '2024-11-18 18:00:00'},\n",
       " {'dt': 1731963600,\n",
       "  'main': {'temp': 13.72,\n",
       "   'feels_like': 12.53,\n",
       "   'temp_min': 13.72,\n",
       "   'temp_max': 13.72,\n",
       "   'pressure': 1014,\n",
       "   'sea_level': 1014,\n",
       "   'grnd_level': 1007,\n",
       "   'humidity': 53,\n",
       "   'temp_kf': 0},\n",
       "  'weather': [{'id': 801,\n",
       "    'main': 'Clouds',\n",
       "    'description': 'few clouds',\n",
       "    'icon': '02n'}],\n",
       "  'clouds': {'all': 16},\n",
       "  'wind': {'speed': 9.19, 'deg': 322, 'gust': 15.35},\n",
       "  'visibility': 10000,\n",
       "  'pop': 0,\n",
       "  'sys': {'pod': 'n'},\n",
       "  'dt_txt': '2024-11-18 21:00:00'},\n",
       " {'dt': 1731974400,\n",
       "  'main': {'temp': 12.82,\n",
       "   'feels_like': 11.65,\n",
       "   'temp_min': 12.82,\n",
       "   'temp_max': 12.82,\n",
       "   'pressure': 1013,\n",
       "   'sea_level': 1013,\n",
       "   'grnd_level': 1006,\n",
       "   'humidity': 57,\n",
       "   'temp_kf': 0},\n",
       "  'weather': [{'id': 802,\n",
       "    'main': 'Clouds',\n",
       "    'description': 'scattered clouds',\n",
       "    'icon': '03n'}],\n",
       "  'clouds': {'all': 29},\n",
       "  'wind': {'speed': 7.4, 'deg': 324, 'gust': 12.18},\n",
       "  'visibility': 10000,\n",
       "  'pop': 0,\n",
       "  'sys': {'pod': 'n'},\n",
       "  'dt_txt': '2024-11-19 00:00:00'},\n",
       " {'dt': 1731985200,\n",
       "  'main': {'temp': 12.12,\n",
       "   'feels_like': 11.01,\n",
       "   'temp_min': 12.12,\n",
       "   'temp_max': 12.12,\n",
       "   'pressure': 1013,\n",
       "   'sea_level': 1013,\n",
       "   'grnd_level': 1006,\n",
       "   'humidity': 62,\n",
       "   'temp_kf': 0},\n",
       "  'weather': [{'id': 804,\n",
       "    'main': 'Clouds',\n",
       "    'description': 'overcast clouds',\n",
       "    'icon': '04n'}],\n",
       "  'clouds': {'all': 100},\n",
       "  'wind': {'speed': 5.64, 'deg': 310, 'gust': 8.89},\n",
       "  'visibility': 10000,\n",
       "  'pop': 0,\n",
       "  'sys': {'pod': 'n'},\n",
       "  'dt_txt': '2024-11-19 03:00:00'},\n",
       " {'dt': 1731996000,\n",
       "  'main': {'temp': 11.69,\n",
       "   'feels_like': 10.61,\n",
       "   'temp_min': 11.69,\n",
       "   'temp_max': 11.69,\n",
       "   'pressure': 1013,\n",
       "   'sea_level': 1013,\n",
       "   'grnd_level': 1005,\n",
       "   'humidity': 65,\n",
       "   'temp_kf': 0},\n",
       "  'weather': [{'id': 804,\n",
       "    'main': 'Clouds',\n",
       "    'description': 'overcast clouds',\n",
       "    'icon': '04n'}],\n",
       "  'clouds': {'all': 100},\n",
       "  'wind': {'speed': 5.29, 'deg': 311, 'gust': 9.34},\n",
       "  'visibility': 10000,\n",
       "  'pop': 0,\n",
       "  'sys': {'pod': 'n'},\n",
       "  'dt_txt': '2024-11-19 06:00:00'},\n",
       " {'dt': 1732006800,\n",
       "  'main': {'temp': 12.54,\n",
       "   'feels_like': 11.55,\n",
       "   'temp_min': 12.54,\n",
       "   'temp_max': 12.54,\n",
       "   'pressure': 1012,\n",
       "   'sea_level': 1012,\n",
       "   'grnd_level': 1005,\n",
       "   'humidity': 65,\n",
       "   'temp_kf': 0},\n",
       "  'weather': [{'id': 803,\n",
       "    'main': 'Clouds',\n",
       "    'description': 'broken clouds',\n",
       "    'icon': '04d'}],\n",
       "  'clouds': {'all': 56},\n",
       "  'wind': {'speed': 4.88, 'deg': 312, 'gust': 8.53},\n",
       "  'visibility': 10000,\n",
       "  'pop': 0,\n",
       "  'sys': {'pod': 'd'},\n",
       "  'dt_txt': '2024-11-19 09:00:00'},\n",
       " {'dt': 1732017600,\n",
       "  'main': {'temp': 15.5,\n",
       "   'feels_like': 14.78,\n",
       "   'temp_min': 15.5,\n",
       "   'temp_max': 15.5,\n",
       "   'pressure': 1011,\n",
       "   'sea_level': 1011,\n",
       "   'grnd_level': 1003,\n",
       "   'humidity': 64,\n",
       "   'temp_kf': 0},\n",
       "  'weather': [{'id': 802,\n",
       "    'main': 'Clouds',\n",
       "    'description': 'scattered clouds',\n",
       "    'icon': '03d'}],\n",
       "  'clouds': {'all': 33},\n",
       "  'wind': {'speed': 9.58, 'deg': 297, 'gust': 13.68},\n",
       "  'visibility': 10000,\n",
       "  'pop': 0,\n",
       "  'sys': {'pod': 'd'},\n",
       "  'dt_txt': '2024-11-19 12:00:00'},\n",
       " {'dt': 1732028400,\n",
       "  'main': {'temp': 16.42,\n",
       "   'feels_like': 15.79,\n",
       "   'temp_min': 16.42,\n",
       "   'temp_max': 16.42,\n",
       "   'pressure': 1008,\n",
       "   'sea_level': 1008,\n",
       "   'grnd_level': 1001,\n",
       "   'humidity': 64,\n",
       "   'temp_kf': 0},\n",
       "  'weather': [{'id': 804,\n",
       "    'main': 'Clouds',\n",
       "    'description': 'overcast clouds',\n",
       "    'icon': '04d'}],\n",
       "  'clouds': {'all': 86},\n",
       "  'wind': {'speed': 10.96, 'deg': 284, 'gust': 16.92},\n",
       "  'visibility': 10000,\n",
       "  'pop': 0,\n",
       "  'sys': {'pod': 'd'},\n",
       "  'dt_txt': '2024-11-19 15:00:00'}]"
      ]
     },
     "execution_count": 45,
     "metadata": {},
     "output_type": "execute_result"
    }
   ],
   "source": [
    "response.json().get('list')"
   ]
  },
  {
   "cell_type": "markdown",
   "metadata": {},
   "source": [
    "CREATION DU DATAFRAME AVEC LES PREVISIONS METEO POUR UNE SEULE VILLE"
   ]
  },
  {
   "cell_type": "code",
   "execution_count": 46,
   "metadata": {},
   "outputs": [],
   "source": [
    "liste_previsions_une_ville = response.json().get('list')\n",
    "\n",
    "len(liste_previsions_une_ville)\n",
    "df_prevision_une_ville = pd.DataFrame(columns=['Ville','date','heure', 'temp','id_type_temps','type_temps'])\n",
    "for i in range(len(liste_previsions_une_ville)):\n",
    "    \n",
    "    ville = 'Marseille'\n",
    "    dt_text= liste_previsions_une_ville[i]['dt_txt']\n",
    "    date = dt_text.split(\" \")[0]\n",
    "    heure= dt_text.split(\" \")[1]\n",
    "    temp=liste_previsions_une_ville[i]['main']['temp']\n",
    "    id_type_temps=liste_previsions_une_ville[i]['weather'][0]['id']\n",
    "    type_temps=liste_previsions_une_ville[i]['weather'][0]['main']\n",
    "\n",
    "    df_prevision_une_ville.loc[i] = [ville,date,heure,temp,id_type_temps,type_temps]"
   ]
  },
  {
   "cell_type": "code",
   "execution_count": 47,
   "metadata": {},
   "outputs": [
    {
     "data": {
      "text/html": [
       "<div>\n",
       "<style scoped>\n",
       "    .dataframe tbody tr th:only-of-type {\n",
       "        vertical-align: middle;\n",
       "    }\n",
       "\n",
       "    .dataframe tbody tr th {\n",
       "        vertical-align: top;\n",
       "    }\n",
       "\n",
       "    .dataframe thead th {\n",
       "        text-align: right;\n",
       "    }\n",
       "</style>\n",
       "<table border=\"1\" class=\"dataframe\">\n",
       "  <thead>\n",
       "    <tr style=\"text-align: right;\">\n",
       "      <th></th>\n",
       "      <th>Ville</th>\n",
       "      <th>date</th>\n",
       "      <th>heure</th>\n",
       "      <th>temp</th>\n",
       "      <th>id_type_temps</th>\n",
       "      <th>type_temps</th>\n",
       "    </tr>\n",
       "  </thead>\n",
       "  <tbody>\n",
       "    <tr>\n",
       "      <th>0</th>\n",
       "      <td>Marseille</td>\n",
       "      <td>2024-11-14</td>\n",
       "      <td>18:00:00</td>\n",
       "      <td>12.29</td>\n",
       "      <td>800</td>\n",
       "      <td>Clear</td>\n",
       "    </tr>\n",
       "    <tr>\n",
       "      <th>1</th>\n",
       "      <td>Marseille</td>\n",
       "      <td>2024-11-14</td>\n",
       "      <td>21:00:00</td>\n",
       "      <td>12.83</td>\n",
       "      <td>800</td>\n",
       "      <td>Clear</td>\n",
       "    </tr>\n",
       "    <tr>\n",
       "      <th>2</th>\n",
       "      <td>Marseille</td>\n",
       "      <td>2024-11-15</td>\n",
       "      <td>00:00:00</td>\n",
       "      <td>13.10</td>\n",
       "      <td>800</td>\n",
       "      <td>Clear</td>\n",
       "    </tr>\n",
       "    <tr>\n",
       "      <th>3</th>\n",
       "      <td>Marseille</td>\n",
       "      <td>2024-11-15</td>\n",
       "      <td>03:00:00</td>\n",
       "      <td>13.00</td>\n",
       "      <td>800</td>\n",
       "      <td>Clear</td>\n",
       "    </tr>\n",
       "    <tr>\n",
       "      <th>4</th>\n",
       "      <td>Marseille</td>\n",
       "      <td>2024-11-15</td>\n",
       "      <td>06:00:00</td>\n",
       "      <td>12.73</td>\n",
       "      <td>800</td>\n",
       "      <td>Clear</td>\n",
       "    </tr>\n",
       "  </tbody>\n",
       "</table>\n",
       "</div>"
      ],
      "text/plain": [
       "       Ville        date     heure   temp  id_type_temps type_temps\n",
       "0  Marseille  2024-11-14  18:00:00  12.29            800      Clear\n",
       "1  Marseille  2024-11-14  21:00:00  12.83            800      Clear\n",
       "2  Marseille  2024-11-15  00:00:00  13.10            800      Clear\n",
       "3  Marseille  2024-11-15  03:00:00  13.00            800      Clear\n",
       "4  Marseille  2024-11-15  06:00:00  12.73            800      Clear"
      ]
     },
     "execution_count": 47,
     "metadata": {},
     "output_type": "execute_result"
    }
   ],
   "source": [
    "df_prevision_une_ville.head()"
   ]
  },
  {
   "cell_type": "markdown",
   "metadata": {},
   "source": [
    "ON PREND PAS LES PREVISIONS ENTRE MINUIT ET 6H"
   ]
  },
  {
   "cell_type": "code",
   "execution_count": 48,
   "metadata": {},
   "outputs": [],
   "source": [
    "mask = df_prevision_une_ville['heure'] >= '06:00:00'\n",
    "data = df_prevision_une_ville[mask]"
   ]
  },
  {
   "cell_type": "code",
   "execution_count": 49,
   "metadata": {},
   "outputs": [
    {
     "data": {
      "text/html": [
       "<div>\n",
       "<style scoped>\n",
       "    .dataframe tbody tr th:only-of-type {\n",
       "        vertical-align: middle;\n",
       "    }\n",
       "\n",
       "    .dataframe tbody tr th {\n",
       "        vertical-align: top;\n",
       "    }\n",
       "\n",
       "    .dataframe thead th {\n",
       "        text-align: right;\n",
       "    }\n",
       "</style>\n",
       "<table border=\"1\" class=\"dataframe\">\n",
       "  <thead>\n",
       "    <tr style=\"text-align: right;\">\n",
       "      <th></th>\n",
       "      <th>Ville</th>\n",
       "      <th>date</th>\n",
       "      <th>heure</th>\n",
       "      <th>temp</th>\n",
       "      <th>id_type_temps</th>\n",
       "      <th>type_temps</th>\n",
       "    </tr>\n",
       "  </thead>\n",
       "  <tbody>\n",
       "    <tr>\n",
       "      <th>0</th>\n",
       "      <td>Marseille</td>\n",
       "      <td>2024-11-14</td>\n",
       "      <td>18:00:00</td>\n",
       "      <td>12.29</td>\n",
       "      <td>800</td>\n",
       "      <td>Clear</td>\n",
       "    </tr>\n",
       "    <tr>\n",
       "      <th>1</th>\n",
       "      <td>Marseille</td>\n",
       "      <td>2024-11-14</td>\n",
       "      <td>21:00:00</td>\n",
       "      <td>12.83</td>\n",
       "      <td>800</td>\n",
       "      <td>Clear</td>\n",
       "    </tr>\n",
       "    <tr>\n",
       "      <th>4</th>\n",
       "      <td>Marseille</td>\n",
       "      <td>2024-11-15</td>\n",
       "      <td>06:00:00</td>\n",
       "      <td>12.73</td>\n",
       "      <td>800</td>\n",
       "      <td>Clear</td>\n",
       "    </tr>\n",
       "    <tr>\n",
       "      <th>5</th>\n",
       "      <td>Marseille</td>\n",
       "      <td>2024-11-15</td>\n",
       "      <td>09:00:00</td>\n",
       "      <td>13.82</td>\n",
       "      <td>800</td>\n",
       "      <td>Clear</td>\n",
       "    </tr>\n",
       "    <tr>\n",
       "      <th>6</th>\n",
       "      <td>Marseille</td>\n",
       "      <td>2024-11-15</td>\n",
       "      <td>12:00:00</td>\n",
       "      <td>14.84</td>\n",
       "      <td>800</td>\n",
       "      <td>Clear</td>\n",
       "    </tr>\n",
       "  </tbody>\n",
       "</table>\n",
       "</div>"
      ],
      "text/plain": [
       "       Ville        date     heure   temp  id_type_temps type_temps\n",
       "0  Marseille  2024-11-14  18:00:00  12.29            800      Clear\n",
       "1  Marseille  2024-11-14  21:00:00  12.83            800      Clear\n",
       "4  Marseille  2024-11-15  06:00:00  12.73            800      Clear\n",
       "5  Marseille  2024-11-15  09:00:00  13.82            800      Clear\n",
       "6  Marseille  2024-11-15  12:00:00  14.84            800      Clear"
      ]
     },
     "execution_count": 49,
     "metadata": {},
     "output_type": "execute_result"
    }
   ],
   "source": [
    "data.head()"
   ]
  },
  {
   "cell_type": "markdown",
   "metadata": {},
   "source": [
    "+++++++++++++++++++++++++++++++++++++++++++++++++++++++++++++++++++++++++++++++++++++++++++\n",
    "\n",
    "PASSAGE AUX CHOSES SERIEUSES"
   ]
  },
  {
   "cell_type": "markdown",
   "metadata": {},
   "source": [
    "BOUCLE POUR TOUTES LES PREVISIONS DE TOUTES LES VILLES"
   ]
  },
  {
   "cell_type": "code",
   "execution_count": 50,
   "metadata": {},
   "outputs": [],
   "source": [
    "url_ow = \"https://api.openweathermap.org/data/2.5/forecast?\"\n",
    "\n",
    "df_prevision_toutes_les_villes = pd.DataFrame(columns=['Ville','date','heure','Part_of_day', 'temp','id_type_temps','type_temps','couv_nuageuse','vent','prob_pluie','pluie'])\n",
    "\n",
    "# BOUCLE SUR LES VILLES \n",
    "for v in range(len(df_villes)):\n",
    "\n",
    "    lat = df_villes.loc[v,\"lat\"]\n",
    "    lon = df_villes.loc[v,\"lon\"]\n",
    "    p = {'lat' : lat, 'lon' : lon, 'units':'metric', 'appid' : 'a2fa8b199ebbdb821bb767d8318aa7bd'}\n",
    "    response = requests.get(url_ow, params=p)\n",
    "    response.json().get('list')\n",
    "\n",
    "    liste_previsions_une_ville_final = response.json().get('list')\n",
    "    nb_prev = len(liste_previsions_une_ville_final)\n",
    "    # BOUCLES SUR LES PREVISIONS\n",
    "    for i in range(len(liste_previsions_une_ville_final)):\n",
    "        \n",
    "        ville = df_villes.loc[v,\"ville\"]\n",
    "        dt_text= liste_previsions_une_ville_final[i]['dt_txt']\n",
    "        date = dt_text.split(\" \")[0]\n",
    "        heure= dt_text.split(\" \")[1]\n",
    "        temp=liste_previsions_une_ville_final[i]['main']['temp']\n",
    "        id_type_temps=liste_previsions_une_ville_final[i]['weather'][0]['id']\n",
    "        type_temps=liste_previsions_une_ville_final[i]['weather'][0]['main']\n",
    "        couv_nuageuse=liste_previsions_une_ville_final[i]['clouds']['all']\n",
    "        vent=liste_previsions_une_ville_final[i]['wind']['speed']\n",
    "        prob_pluie=liste_previsions_une_ville_final[i]['pop']\n",
    "        pluie = 0\n",
    "        if 'rain' in liste_previsions_une_ville_final[i].keys():\n",
    "            pluie = liste_previsions_une_ville_final[i]['rain']['3h']\n",
    "        pod = liste_previsions_une_ville_final[i]['sys']['pod']\n",
    "\n",
    "        df_prevision_toutes_les_villes.loc[len(df_prevision_toutes_les_villes)+1] = [ville,date,heure,pod,temp,id_type_temps,type_temps,couv_nuageuse,vent,prob_pluie,pluie]\n",
    "        "
   ]
  },
  {
   "cell_type": "code",
   "execution_count": 51,
   "metadata": {},
   "outputs": [],
   "source": [
    "mask = df_prevision_toutes_les_villes['heure'] >= '06:00:00'\n",
    "data_toutes_les_villes = df_prevision_toutes_les_villes[mask]"
   ]
  },
  {
   "cell_type": "markdown",
   "metadata": {},
   "source": [
    "ON REGARDE LES DIFFERENTES VALEURS DU TYPE DE METEO POUR ETABLIR UN CLASSEMENT"
   ]
  },
  {
   "cell_type": "code",
   "execution_count": 52,
   "metadata": {},
   "outputs": [
    {
     "data": {
      "text/plain": [
       "array([801, 800, 803, 802, 804, 500, 501, 601], dtype=int64)"
      ]
     },
     "execution_count": 52,
     "metadata": {},
     "output_type": "execute_result"
    }
   ],
   "source": [
    "data_toutes_les_villes['id_type_temps'].unique()"
   ]
  },
  {
   "cell_type": "markdown",
   "metadata": {},
   "source": [
    "MAPPING ET CREATION D'UNE NOUVELLE COLONNE AVEC LA NOTE DE LA PREVISION"
   ]
  },
  {
   "cell_type": "code",
   "execution_count": 53,
   "metadata": {},
   "outputs": [
    {
     "name": "stderr",
     "output_type": "stream",
     "text": [
      "C:\\Users\\Admin\\AppData\\Local\\Temp\\ipykernel_19596\\3510448894.py:2: SettingWithCopyWarning:\n",
      "\n",
      "\n",
      "A value is trying to be set on a copy of a slice from a DataFrame.\n",
      "Try using .loc[row_indexer,col_indexer] = value instead\n",
      "\n",
      "See the caveats in the documentation: https://pandas.pydata.org/pandas-docs/stable/user_guide/indexing.html#returning-a-view-versus-a-copy\n",
      "\n"
     ]
    }
   ],
   "source": [
    "classement = {800: 10, 801:9,802:8,803:7,804:6,500:4,501:3, 601:2}\n",
    "data_toutes_les_villes['note_type_temps']=data_toutes_les_villes['id_type_temps'].apply(lambda x: classement[x] if x in classement else 1)"
   ]
  },
  {
   "cell_type": "code",
   "execution_count": 54,
   "metadata": {},
   "outputs": [
    {
     "data": {
      "text/html": [
       "<div>\n",
       "<style scoped>\n",
       "    .dataframe tbody tr th:only-of-type {\n",
       "        vertical-align: middle;\n",
       "    }\n",
       "\n",
       "    .dataframe tbody tr th {\n",
       "        vertical-align: top;\n",
       "    }\n",
       "\n",
       "    .dataframe thead th {\n",
       "        text-align: right;\n",
       "    }\n",
       "</style>\n",
       "<table border=\"1\" class=\"dataframe\">\n",
       "  <thead>\n",
       "    <tr style=\"text-align: right;\">\n",
       "      <th></th>\n",
       "      <th>Ville</th>\n",
       "      <th>date</th>\n",
       "      <th>heure</th>\n",
       "      <th>Part_of_day</th>\n",
       "      <th>temp</th>\n",
       "      <th>id_type_temps</th>\n",
       "      <th>type_temps</th>\n",
       "      <th>couv_nuageuse</th>\n",
       "      <th>vent</th>\n",
       "      <th>prob_pluie</th>\n",
       "      <th>pluie</th>\n",
       "      <th>note_type_temps</th>\n",
       "    </tr>\n",
       "  </thead>\n",
       "  <tbody>\n",
       "    <tr>\n",
       "      <th>1</th>\n",
       "      <td>Mont Saint-Michel</td>\n",
       "      <td>2024-11-14</td>\n",
       "      <td>18:00:00</td>\n",
       "      <td>n</td>\n",
       "      <td>11.29</td>\n",
       "      <td>801</td>\n",
       "      <td>Clouds</td>\n",
       "      <td>14</td>\n",
       "      <td>3.10</td>\n",
       "      <td>0.0</td>\n",
       "      <td>0.0</td>\n",
       "      <td>9</td>\n",
       "    </tr>\n",
       "    <tr>\n",
       "      <th>2</th>\n",
       "      <td>Mont Saint-Michel</td>\n",
       "      <td>2024-11-14</td>\n",
       "      <td>21:00:00</td>\n",
       "      <td>n</td>\n",
       "      <td>10.15</td>\n",
       "      <td>800</td>\n",
       "      <td>Clear</td>\n",
       "      <td>10</td>\n",
       "      <td>2.78</td>\n",
       "      <td>0.0</td>\n",
       "      <td>0.0</td>\n",
       "      <td>10</td>\n",
       "    </tr>\n",
       "    <tr>\n",
       "      <th>5</th>\n",
       "      <td>Mont Saint-Michel</td>\n",
       "      <td>2024-11-15</td>\n",
       "      <td>06:00:00</td>\n",
       "      <td>n</td>\n",
       "      <td>7.17</td>\n",
       "      <td>801</td>\n",
       "      <td>Clouds</td>\n",
       "      <td>14</td>\n",
       "      <td>1.94</td>\n",
       "      <td>0.0</td>\n",
       "      <td>0.0</td>\n",
       "      <td>9</td>\n",
       "    </tr>\n",
       "    <tr>\n",
       "      <th>6</th>\n",
       "      <td>Mont Saint-Michel</td>\n",
       "      <td>2024-11-15</td>\n",
       "      <td>09:00:00</td>\n",
       "      <td>d</td>\n",
       "      <td>9.18</td>\n",
       "      <td>803</td>\n",
       "      <td>Clouds</td>\n",
       "      <td>79</td>\n",
       "      <td>3.25</td>\n",
       "      <td>0.0</td>\n",
       "      <td>0.0</td>\n",
       "      <td>7</td>\n",
       "    </tr>\n",
       "    <tr>\n",
       "      <th>7</th>\n",
       "      <td>Mont Saint-Michel</td>\n",
       "      <td>2024-11-15</td>\n",
       "      <td>12:00:00</td>\n",
       "      <td>d</td>\n",
       "      <td>11.53</td>\n",
       "      <td>802</td>\n",
       "      <td>Clouds</td>\n",
       "      <td>50</td>\n",
       "      <td>2.47</td>\n",
       "      <td>0.0</td>\n",
       "      <td>0.0</td>\n",
       "      <td>8</td>\n",
       "    </tr>\n",
       "  </tbody>\n",
       "</table>\n",
       "</div>"
      ],
      "text/plain": [
       "               Ville        date     heure Part_of_day   temp  id_type_temps  \\\n",
       "1  Mont Saint-Michel  2024-11-14  18:00:00           n  11.29            801   \n",
       "2  Mont Saint-Michel  2024-11-14  21:00:00           n  10.15            800   \n",
       "5  Mont Saint-Michel  2024-11-15  06:00:00           n   7.17            801   \n",
       "6  Mont Saint-Michel  2024-11-15  09:00:00           d   9.18            803   \n",
       "7  Mont Saint-Michel  2024-11-15  12:00:00           d  11.53            802   \n",
       "\n",
       "  type_temps  couv_nuageuse  vent  prob_pluie  pluie  note_type_temps  \n",
       "1     Clouds             14  3.10         0.0    0.0                9  \n",
       "2      Clear             10  2.78         0.0    0.0               10  \n",
       "5     Clouds             14  1.94         0.0    0.0                9  \n",
       "6     Clouds             79  3.25         0.0    0.0                7  \n",
       "7     Clouds             50  2.47         0.0    0.0                8  "
      ]
     },
     "execution_count": 54,
     "metadata": {},
     "output_type": "execute_result"
    }
   ],
   "source": [
    "data_toutes_les_villes.head()"
   ]
  },
  {
   "cell_type": "code",
   "execution_count": 55,
   "metadata": {},
   "outputs": [],
   "source": [
    "total_par_ville = data_toutes_les_villes.groupby('Ville')['note_type_temps'].sum()"
   ]
  },
  {
   "cell_type": "code",
   "execution_count": 56,
   "metadata": {},
   "outputs": [
    {
     "data": {
      "text/plain": [
       "Ville\n",
       "Aigues-Mortes                  231\n",
       "Aix-en-Provence                239\n",
       "Amiens                         176\n",
       "Annecy                         228\n",
       "Avignon                        239\n",
       "Bayeux                         183\n",
       "Bayonne                        194\n",
       "Besançon                       215\n",
       "Biarritz                       191\n",
       "Bormes-les-Mimosas             244\n",
       "Carcassonne                    230\n",
       "Cassis                         236\n",
       "Château du Haut-Kœnigsbourg    196\n",
       "Collioure                      230\n",
       "Colmar                         200\n",
       "Dijon                          206\n",
       "Eguisheim                      201\n",
       "Gorges du Verdon               247\n",
       "Grenoble                       235\n",
       "La Rochelle                    207\n",
       "Le Havre                       164\n",
       "Lille                          173\n",
       "Lyon                           225\n",
       "Marseille                      236\n",
       "Mont Saint-Michel              187\n",
       "Montauban                      223\n",
       "Nîmes                          239\n",
       "Paris                          191\n",
       "Rouen                          177\n",
       "Saint-Malo                     191\n",
       "Saintes-Maries-de-la-Mer       224\n",
       "Strasbourg                     200\n",
       "Tarascon-sur-Ariège            221\n",
       "Toulouse                       228\n",
       "Uzès                           231\n",
       "Name: note_type_temps, dtype: int64"
      ]
     },
     "execution_count": 56,
     "metadata": {},
     "output_type": "execute_result"
    }
   ],
   "source": [
    "total_par_ville"
   ]
  },
  {
   "cell_type": "code",
   "execution_count": 57,
   "metadata": {},
   "outputs": [],
   "source": [
    "moyenne_temp_par_ville = data_toutes_les_villes.groupby('Ville')['temp'].mean()"
   ]
  },
  {
   "cell_type": "markdown",
   "metadata": {},
   "source": [
    "ON FUSIONNE LES TROIS TABLES POUR AVOIR NOS DONNEES FINALES (VILLES ET COORDONNEES, SCORE, TEMPERATURE MOYENNE)"
   ]
  },
  {
   "cell_type": "code",
   "execution_count": 58,
   "metadata": {},
   "outputs": [],
   "source": [
    "df_final = df_villes.merge(total_par_ville,left_on='ville',right_on='Ville')\n",
    "df_final = df_final.merge(moyenne_temp_par_ville,left_on='ville', right_on='Ville')"
   ]
  },
  {
   "cell_type": "markdown",
   "metadata": {},
   "source": [
    "CHANGEMENT DU TYPE DE DONNEES POUR LATITUDE ET LONGITUDE"
   ]
  },
  {
   "cell_type": "code",
   "execution_count": 59,
   "metadata": {},
   "outputs": [],
   "source": [
    "df_final['lat'] = df_final['lat'].astype('float64')\n",
    "df_final['lon'] = df_final['lon'].astype('float64')"
   ]
  },
  {
   "cell_type": "markdown",
   "metadata": {},
   "source": [
    "AFFICHAGE DU DATASET FINAL UTILISE POUR LA CARTE"
   ]
  },
  {
   "cell_type": "code",
   "execution_count": 60,
   "metadata": {},
   "outputs": [
    {
     "data": {
      "text/html": [
       "<div>\n",
       "<style scoped>\n",
       "    .dataframe tbody tr th:only-of-type {\n",
       "        vertical-align: middle;\n",
       "    }\n",
       "\n",
       "    .dataframe tbody tr th {\n",
       "        vertical-align: top;\n",
       "    }\n",
       "\n",
       "    .dataframe thead th {\n",
       "        text-align: right;\n",
       "    }\n",
       "</style>\n",
       "<table border=\"1\" class=\"dataframe\">\n",
       "  <thead>\n",
       "    <tr style=\"text-align: right;\">\n",
       "      <th></th>\n",
       "      <th>ville</th>\n",
       "      <th>lat</th>\n",
       "      <th>lon</th>\n",
       "      <th>note_type_temps</th>\n",
       "      <th>temp</th>\n",
       "    </tr>\n",
       "  </thead>\n",
       "  <tbody>\n",
       "    <tr>\n",
       "      <th>17</th>\n",
       "      <td>Gorges du Verdon</td>\n",
       "      <td>43.749656</td>\n",
       "      <td>6.328562</td>\n",
       "      <td>247</td>\n",
       "      <td>6.569667</td>\n",
       "    </tr>\n",
       "    <tr>\n",
       "      <th>18</th>\n",
       "      <td>Bormes-les-Mimosas</td>\n",
       "      <td>43.150697</td>\n",
       "      <td>6.341928</td>\n",
       "      <td>244</td>\n",
       "      <td>13.256333</td>\n",
       "    </tr>\n",
       "    <tr>\n",
       "      <th>24</th>\n",
       "      <td>Nîmes</td>\n",
       "      <td>43.837425</td>\n",
       "      <td>4.360069</td>\n",
       "      <td>239</td>\n",
       "      <td>11.295667</td>\n",
       "    </tr>\n",
       "    <tr>\n",
       "      <th>21</th>\n",
       "      <td>Aix-en-Provence</td>\n",
       "      <td>43.529842</td>\n",
       "      <td>5.447474</td>\n",
       "      <td>239</td>\n",
       "      <td>12.158667</td>\n",
       "    </tr>\n",
       "    <tr>\n",
       "      <th>22</th>\n",
       "      <td>Avignon</td>\n",
       "      <td>43.949249</td>\n",
       "      <td>4.805901</td>\n",
       "      <td>239</td>\n",
       "      <td>10.872000</td>\n",
       "    </tr>\n",
       "    <tr>\n",
       "      <th>19</th>\n",
       "      <td>Cassis</td>\n",
       "      <td>43.214036</td>\n",
       "      <td>5.539632</td>\n",
       "      <td>236</td>\n",
       "      <td>13.787667</td>\n",
       "    </tr>\n",
       "    <tr>\n",
       "      <th>20</th>\n",
       "      <td>Marseille</td>\n",
       "      <td>43.296174</td>\n",
       "      <td>5.369953</td>\n",
       "      <td>236</td>\n",
       "      <td>14.491333</td>\n",
       "    </tr>\n",
       "    <tr>\n",
       "      <th>15</th>\n",
       "      <td>Grenoble</td>\n",
       "      <td>45.187560</td>\n",
       "      <td>5.735782</td>\n",
       "      <td>235</td>\n",
       "      <td>9.318333</td>\n",
       "    </tr>\n",
       "    <tr>\n",
       "      <th>23</th>\n",
       "      <td>Uzès</td>\n",
       "      <td>44.012128</td>\n",
       "      <td>4.419672</td>\n",
       "      <td>231</td>\n",
       "      <td>10.389333</td>\n",
       "    </tr>\n",
       "    <tr>\n",
       "      <th>25</th>\n",
       "      <td>Aigues-Mortes</td>\n",
       "      <td>43.566152</td>\n",
       "      <td>4.191540</td>\n",
       "      <td>231</td>\n",
       "      <td>13.034333</td>\n",
       "    </tr>\n",
       "    <tr>\n",
       "      <th>27</th>\n",
       "      <td>Collioure</td>\n",
       "      <td>42.525050</td>\n",
       "      <td>3.083155</td>\n",
       "      <td>230</td>\n",
       "      <td>14.321667</td>\n",
       "    </tr>\n",
       "    <tr>\n",
       "      <th>28</th>\n",
       "      <td>Carcassonne</td>\n",
       "      <td>43.213036</td>\n",
       "      <td>2.349107</td>\n",
       "      <td>230</td>\n",
       "      <td>11.868000</td>\n",
       "    </tr>\n",
       "    <tr>\n",
       "      <th>30</th>\n",
       "      <td>Toulouse</td>\n",
       "      <td>43.604462</td>\n",
       "      <td>1.444247</td>\n",
       "      <td>228</td>\n",
       "      <td>12.025000</td>\n",
       "    </tr>\n",
       "    <tr>\n",
       "      <th>14</th>\n",
       "      <td>Annecy</td>\n",
       "      <td>45.899235</td>\n",
       "      <td>6.128885</td>\n",
       "      <td>228</td>\n",
       "      <td>7.058667</td>\n",
       "    </tr>\n",
       "    <tr>\n",
       "      <th>16</th>\n",
       "      <td>Lyon</td>\n",
       "      <td>45.757814</td>\n",
       "      <td>4.832011</td>\n",
       "      <td>225</td>\n",
       "      <td>8.770667</td>\n",
       "    </tr>\n",
       "    <tr>\n",
       "      <th>26</th>\n",
       "      <td>Saintes-Maries-de-la-Mer</td>\n",
       "      <td>43.451592</td>\n",
       "      <td>4.427720</td>\n",
       "      <td>224</td>\n",
       "      <td>13.455333</td>\n",
       "    </tr>\n",
       "    <tr>\n",
       "      <th>31</th>\n",
       "      <td>Montauban</td>\n",
       "      <td>44.017584</td>\n",
       "      <td>1.354999</td>\n",
       "      <td>223</td>\n",
       "      <td>10.813000</td>\n",
       "    </tr>\n",
       "    <tr>\n",
       "      <th>29</th>\n",
       "      <td>Tarascon-sur-Ariège</td>\n",
       "      <td>42.845802</td>\n",
       "      <td>1.606759</td>\n",
       "      <td>221</td>\n",
       "      <td>12.679000</td>\n",
       "    </tr>\n",
       "    <tr>\n",
       "      <th>12</th>\n",
       "      <td>Besançon</td>\n",
       "      <td>47.238022</td>\n",
       "      <td>6.024362</td>\n",
       "      <td>215</td>\n",
       "      <td>6.511333</td>\n",
       "    </tr>\n",
       "    <tr>\n",
       "      <th>34</th>\n",
       "      <td>La Rochelle</td>\n",
       "      <td>46.159732</td>\n",
       "      <td>-1.151595</td>\n",
       "      <td>207</td>\n",
       "      <td>11.491000</td>\n",
       "    </tr>\n",
       "    <tr>\n",
       "      <th>13</th>\n",
       "      <td>Dijon</td>\n",
       "      <td>47.321581</td>\n",
       "      <td>5.041470</td>\n",
       "      <td>206</td>\n",
       "      <td>6.965333</td>\n",
       "    </tr>\n",
       "    <tr>\n",
       "      <th>11</th>\n",
       "      <td>Eguisheim</td>\n",
       "      <td>48.044797</td>\n",
       "      <td>7.307962</td>\n",
       "      <td>201</td>\n",
       "      <td>6.810333</td>\n",
       "    </tr>\n",
       "    <tr>\n",
       "      <th>10</th>\n",
       "      <td>Colmar</td>\n",
       "      <td>48.077752</td>\n",
       "      <td>7.357964</td>\n",
       "      <td>200</td>\n",
       "      <td>7.030333</td>\n",
       "    </tr>\n",
       "    <tr>\n",
       "      <th>8</th>\n",
       "      <td>Strasbourg</td>\n",
       "      <td>48.584614</td>\n",
       "      <td>7.750713</td>\n",
       "      <td>200</td>\n",
       "      <td>6.807667</td>\n",
       "    </tr>\n",
       "    <tr>\n",
       "      <th>9</th>\n",
       "      <td>Château du Haut-Kœnigsbourg</td>\n",
       "      <td>48.249523</td>\n",
       "      <td>7.345492</td>\n",
       "      <td>196</td>\n",
       "      <td>4.296333</td>\n",
       "    </tr>\n",
       "    <tr>\n",
       "      <th>33</th>\n",
       "      <td>Bayonne</td>\n",
       "      <td>43.494514</td>\n",
       "      <td>-1.473666</td>\n",
       "      <td>194</td>\n",
       "      <td>13.717667</td>\n",
       "    </tr>\n",
       "    <tr>\n",
       "      <th>1</th>\n",
       "      <td>Saint-Malo</td>\n",
       "      <td>48.649518</td>\n",
       "      <td>-2.026041</td>\n",
       "      <td>191</td>\n",
       "      <td>10.597667</td>\n",
       "    </tr>\n",
       "    <tr>\n",
       "      <th>5</th>\n",
       "      <td>Paris</td>\n",
       "      <td>48.853495</td>\n",
       "      <td>2.348391</td>\n",
       "      <td>191</td>\n",
       "      <td>8.804000</td>\n",
       "    </tr>\n",
       "    <tr>\n",
       "      <th>32</th>\n",
       "      <td>Biarritz</td>\n",
       "      <td>43.483252</td>\n",
       "      <td>-1.559278</td>\n",
       "      <td>191</td>\n",
       "      <td>14.109667</td>\n",
       "    </tr>\n",
       "    <tr>\n",
       "      <th>0</th>\n",
       "      <td>Mont Saint-Michel</td>\n",
       "      <td>48.635954</td>\n",
       "      <td>-1.511460</td>\n",
       "      <td>187</td>\n",
       "      <td>9.496333</td>\n",
       "    </tr>\n",
       "    <tr>\n",
       "      <th>2</th>\n",
       "      <td>Bayeux</td>\n",
       "      <td>49.276462</td>\n",
       "      <td>-0.702474</td>\n",
       "      <td>183</td>\n",
       "      <td>8.674333</td>\n",
       "    </tr>\n",
       "    <tr>\n",
       "      <th>4</th>\n",
       "      <td>Rouen</td>\n",
       "      <td>49.440459</td>\n",
       "      <td>1.093966</td>\n",
       "      <td>177</td>\n",
       "      <td>8.092667</td>\n",
       "    </tr>\n",
       "    <tr>\n",
       "      <th>6</th>\n",
       "      <td>Amiens</td>\n",
       "      <td>49.894171</td>\n",
       "      <td>2.295695</td>\n",
       "      <td>176</td>\n",
       "      <td>8.197000</td>\n",
       "    </tr>\n",
       "    <tr>\n",
       "      <th>7</th>\n",
       "      <td>Lille</td>\n",
       "      <td>50.636565</td>\n",
       "      <td>3.063528</td>\n",
       "      <td>173</td>\n",
       "      <td>8.504667</td>\n",
       "    </tr>\n",
       "    <tr>\n",
       "      <th>3</th>\n",
       "      <td>Le Havre</td>\n",
       "      <td>49.493898</td>\n",
       "      <td>0.107973</td>\n",
       "      <td>164</td>\n",
       "      <td>10.082333</td>\n",
       "    </tr>\n",
       "  </tbody>\n",
       "</table>\n",
       "</div>"
      ],
      "text/plain": [
       "                          ville        lat       lon  note_type_temps  \\\n",
       "17             Gorges du Verdon  43.749656  6.328562              247   \n",
       "18           Bormes-les-Mimosas  43.150697  6.341928              244   \n",
       "24                        Nîmes  43.837425  4.360069              239   \n",
       "21              Aix-en-Provence  43.529842  5.447474              239   \n",
       "22                      Avignon  43.949249  4.805901              239   \n",
       "19                       Cassis  43.214036  5.539632              236   \n",
       "20                    Marseille  43.296174  5.369953              236   \n",
       "15                     Grenoble  45.187560  5.735782              235   \n",
       "23                         Uzès  44.012128  4.419672              231   \n",
       "25                Aigues-Mortes  43.566152  4.191540              231   \n",
       "27                    Collioure  42.525050  3.083155              230   \n",
       "28                  Carcassonne  43.213036  2.349107              230   \n",
       "30                     Toulouse  43.604462  1.444247              228   \n",
       "14                       Annecy  45.899235  6.128885              228   \n",
       "16                         Lyon  45.757814  4.832011              225   \n",
       "26     Saintes-Maries-de-la-Mer  43.451592  4.427720              224   \n",
       "31                    Montauban  44.017584  1.354999              223   \n",
       "29          Tarascon-sur-Ariège  42.845802  1.606759              221   \n",
       "12                     Besançon  47.238022  6.024362              215   \n",
       "34                  La Rochelle  46.159732 -1.151595              207   \n",
       "13                        Dijon  47.321581  5.041470              206   \n",
       "11                    Eguisheim  48.044797  7.307962              201   \n",
       "10                       Colmar  48.077752  7.357964              200   \n",
       "8                    Strasbourg  48.584614  7.750713              200   \n",
       "9   Château du Haut-Kœnigsbourg  48.249523  7.345492              196   \n",
       "33                      Bayonne  43.494514 -1.473666              194   \n",
       "1                    Saint-Malo  48.649518 -2.026041              191   \n",
       "5                         Paris  48.853495  2.348391              191   \n",
       "32                     Biarritz  43.483252 -1.559278              191   \n",
       "0             Mont Saint-Michel  48.635954 -1.511460              187   \n",
       "2                        Bayeux  49.276462 -0.702474              183   \n",
       "4                         Rouen  49.440459  1.093966              177   \n",
       "6                        Amiens  49.894171  2.295695              176   \n",
       "7                         Lille  50.636565  3.063528              173   \n",
       "3                      Le Havre  49.493898  0.107973              164   \n",
       "\n",
       "         temp  \n",
       "17   6.569667  \n",
       "18  13.256333  \n",
       "24  11.295667  \n",
       "21  12.158667  \n",
       "22  10.872000  \n",
       "19  13.787667  \n",
       "20  14.491333  \n",
       "15   9.318333  \n",
       "23  10.389333  \n",
       "25  13.034333  \n",
       "27  14.321667  \n",
       "28  11.868000  \n",
       "30  12.025000  \n",
       "14   7.058667  \n",
       "16   8.770667  \n",
       "26  13.455333  \n",
       "31  10.813000  \n",
       "29  12.679000  \n",
       "12   6.511333  \n",
       "34  11.491000  \n",
       "13   6.965333  \n",
       "11   6.810333  \n",
       "10   7.030333  \n",
       "8    6.807667  \n",
       "9    4.296333  \n",
       "33  13.717667  \n",
       "1   10.597667  \n",
       "5    8.804000  \n",
       "32  14.109667  \n",
       "0    9.496333  \n",
       "2    8.674333  \n",
       "4    8.092667  \n",
       "6    8.197000  \n",
       "7    8.504667  \n",
       "3   10.082333  "
      ]
     },
     "execution_count": 60,
     "metadata": {},
     "output_type": "execute_result"
    }
   ],
   "source": [
    "df_final.sort_values(\"note_type_temps\", ascending=False)"
   ]
  },
  {
   "cell_type": "markdown",
   "metadata": {},
   "source": [
    "CREATION DE LA CARTE"
   ]
  },
  {
   "cell_type": "code",
   "execution_count": 61,
   "metadata": {},
   "outputs": [
    {
     "data": {
      "application/vnd.plotly.v1+json": {
       "config": {
        "plotlyServerURL": "https://plot.ly"
       },
       "data": [
        {
         "customdata": [
          [
           9.496333333333332
          ],
          [
           10.597666666666667
          ],
          [
           8.674333333333333
          ],
          [
           10.082333333333334
          ],
          [
           8.092666666666666
          ],
          [
           8.804
          ],
          [
           8.197
          ],
          [
           8.504666666666667
          ],
          [
           6.807666666666666
          ],
          [
           4.296333333333333
          ],
          [
           7.030333333333333
          ],
          [
           6.810333333333333
          ],
          [
           6.511333333333334
          ],
          [
           6.965333333333334
          ],
          [
           7.058666666666666
          ],
          [
           9.318333333333333
          ],
          [
           8.770666666666667
          ],
          [
           6.5696666666666665
          ],
          [
           13.256333333333334
          ],
          [
           13.787666666666667
          ],
          [
           14.491333333333333
          ],
          [
           12.158666666666667
          ],
          [
           10.872000000000002
          ],
          [
           10.389333333333333
          ],
          [
           11.295666666666667
          ],
          [
           13.034333333333334
          ],
          [
           13.455333333333332
          ],
          [
           14.321666666666665
          ],
          [
           11.868
          ],
          [
           12.679
          ],
          [
           12.025
          ],
          [
           10.812999999999999
          ],
          [
           14.109666666666667
          ],
          [
           13.717666666666666
          ],
          [
           11.491000000000001
          ]
         ],
         "hovertemplate": "<b>%{hovertext}</b><br><br>temp=%{customdata[0]}<br>lat=%{lat}<br>lon=%{lon}<br>note_type_temps=%{marker.color}<extra></extra>",
         "hovertext": [
          "Mont Saint-Michel",
          "Saint-Malo",
          "Bayeux",
          "Le Havre",
          "Rouen",
          "Paris",
          "Amiens",
          "Lille",
          "Strasbourg",
          "Château du Haut-Kœnigsbourg",
          "Colmar",
          "Eguisheim",
          "Besançon",
          "Dijon",
          "Annecy",
          "Grenoble",
          "Lyon",
          "Gorges du Verdon",
          "Bormes-les-Mimosas",
          "Cassis",
          "Marseille",
          "Aix-en-Provence",
          "Avignon",
          "Uzès",
          "Nîmes",
          "Aigues-Mortes",
          "Saintes-Maries-de-la-Mer",
          "Collioure",
          "Carcassonne",
          "Tarascon-sur-Ariège",
          "Toulouse",
          "Montauban",
          "Biarritz",
          "Bayonne",
          "La Rochelle"
         ],
         "lat": [
          48.6359541,
          48.649518,
          49.2764624,
          49.4938975,
          49.4404591,
          48.8534951,
          49.8941708,
          50.6365654,
          48.584614,
          48.2495226,
          48.0777517,
          48.0447968,
          47.2380222,
          47.3215806,
          45.8992348,
          45.1875602,
          45.7578137,
          43.7496562,
          43.1506968,
          43.2140359,
          43.2961743,
          43.5298424,
          43.9492493,
          44.0121279,
          43.8374249,
          43.5661521,
          43.4515922,
          42.52505,
          43.2130358,
          42.8458016,
          43.6044622,
          44.0175835,
          43.4832523,
          43.4945144,
          46.159732
         ],
         "legendgroup": "",
         "lon": [
          -1.511459954959514,
          -2.0260409,
          -0.7024738,
          0.1079732,
          1.0939658,
          2.3483915,
          2.2956951,
          3.0635282,
          7.7507127,
          7.3454923,
          7.3579641,
          7.3079618,
          6.0243622,
          5.0414701,
          6.1288847,
          5.7357819,
          4.8320114,
          6.3285616,
          6.3419285,
          5.5396318,
          5.3699525,
          5.4474738,
          4.8059012,
          4.4196718,
          4.3600687,
          4.19154,
          4.4277202,
          3.0831554,
          2.3491069,
          1.6067586,
          1.4442469,
          1.3549991,
          -1.5592776,
          -1.4736657,
          -1.1515951
         ],
         "marker": {
          "color": [
           187,
           191,
           183,
           164,
           177,
           191,
           176,
           173,
           200,
           196,
           200,
           201,
           215,
           206,
           228,
           235,
           225,
           247,
           244,
           236,
           236,
           239,
           239,
           231,
           239,
           231,
           224,
           230,
           230,
           221,
           228,
           223,
           191,
           194,
           207
          ],
          "coloraxis": "coloraxis",
          "size": [
           9.496333333333332,
           10.597666666666667,
           8.674333333333333,
           10.082333333333334,
           8.092666666666666,
           8.804,
           8.197,
           8.504666666666667,
           6.807666666666666,
           4.296333333333333,
           7.030333333333333,
           6.810333333333333,
           6.511333333333334,
           6.965333333333334,
           7.058666666666666,
           9.318333333333333,
           8.770666666666667,
           6.5696666666666665,
           13.256333333333334,
           13.787666666666667,
           14.491333333333333,
           12.158666666666667,
           10.872000000000002,
           10.389333333333333,
           11.295666666666667,
           13.034333333333334,
           13.455333333333332,
           14.321666666666665,
           11.868,
           12.679,
           12.025,
           10.812999999999999,
           14.109666666666667,
           13.717666666666666,
           11.491000000000001
          ],
          "sizemode": "area",
          "sizeref": 0.036228333333333335
         },
         "mode": "markers",
         "name": "",
         "showlegend": false,
         "subplot": "mapbox",
         "type": "scattermapbox"
        }
       ],
       "layout": {
        "coloraxis": {
         "colorbar": {
          "title": {
           "text": "note_type_temps"
          }
         },
         "colorscale": [
          [
           0,
           "red"
          ],
          [
           0.3333333333333333,
           "orange"
          ],
          [
           0.6666666666666666,
           "yellowgreen"
          ],
          [
           1,
           "green"
          ]
         ]
        },
        "height": 700,
        "legend": {
         "itemsizing": "constant",
         "tracegroupgap": 0
        },
        "mapbox": {
         "center": {
          "lat": 46.327408,
          "lon": 2.232999
         },
         "domain": {
          "x": [
           0,
           1
          ],
          "y": [
           0,
           1
          ]
         },
         "style": "open-street-map",
         "zoom": 4.5
        },
        "template": {
         "data": {
          "bar": [
           {
            "error_x": {
             "color": "#2a3f5f"
            },
            "error_y": {
             "color": "#2a3f5f"
            },
            "marker": {
             "line": {
              "color": "#E5ECF6",
              "width": 0.5
             },
             "pattern": {
              "fillmode": "overlay",
              "size": 10,
              "solidity": 0.2
             }
            },
            "type": "bar"
           }
          ],
          "barpolar": [
           {
            "marker": {
             "line": {
              "color": "#E5ECF6",
              "width": 0.5
             },
             "pattern": {
              "fillmode": "overlay",
              "size": 10,
              "solidity": 0.2
             }
            },
            "type": "barpolar"
           }
          ],
          "carpet": [
           {
            "aaxis": {
             "endlinecolor": "#2a3f5f",
             "gridcolor": "white",
             "linecolor": "white",
             "minorgridcolor": "white",
             "startlinecolor": "#2a3f5f"
            },
            "baxis": {
             "endlinecolor": "#2a3f5f",
             "gridcolor": "white",
             "linecolor": "white",
             "minorgridcolor": "white",
             "startlinecolor": "#2a3f5f"
            },
            "type": "carpet"
           }
          ],
          "choropleth": [
           {
            "colorbar": {
             "outlinewidth": 0,
             "ticks": ""
            },
            "type": "choropleth"
           }
          ],
          "contour": [
           {
            "colorbar": {
             "outlinewidth": 0,
             "ticks": ""
            },
            "colorscale": [
             [
              0,
              "#0d0887"
             ],
             [
              0.1111111111111111,
              "#46039f"
             ],
             [
              0.2222222222222222,
              "#7201a8"
             ],
             [
              0.3333333333333333,
              "#9c179e"
             ],
             [
              0.4444444444444444,
              "#bd3786"
             ],
             [
              0.5555555555555556,
              "#d8576b"
             ],
             [
              0.6666666666666666,
              "#ed7953"
             ],
             [
              0.7777777777777778,
              "#fb9f3a"
             ],
             [
              0.8888888888888888,
              "#fdca26"
             ],
             [
              1,
              "#f0f921"
             ]
            ],
            "type": "contour"
           }
          ],
          "contourcarpet": [
           {
            "colorbar": {
             "outlinewidth": 0,
             "ticks": ""
            },
            "type": "contourcarpet"
           }
          ],
          "heatmap": [
           {
            "colorbar": {
             "outlinewidth": 0,
             "ticks": ""
            },
            "colorscale": [
             [
              0,
              "#0d0887"
             ],
             [
              0.1111111111111111,
              "#46039f"
             ],
             [
              0.2222222222222222,
              "#7201a8"
             ],
             [
              0.3333333333333333,
              "#9c179e"
             ],
             [
              0.4444444444444444,
              "#bd3786"
             ],
             [
              0.5555555555555556,
              "#d8576b"
             ],
             [
              0.6666666666666666,
              "#ed7953"
             ],
             [
              0.7777777777777778,
              "#fb9f3a"
             ],
             [
              0.8888888888888888,
              "#fdca26"
             ],
             [
              1,
              "#f0f921"
             ]
            ],
            "type": "heatmap"
           }
          ],
          "heatmapgl": [
           {
            "colorbar": {
             "outlinewidth": 0,
             "ticks": ""
            },
            "colorscale": [
             [
              0,
              "#0d0887"
             ],
             [
              0.1111111111111111,
              "#46039f"
             ],
             [
              0.2222222222222222,
              "#7201a8"
             ],
             [
              0.3333333333333333,
              "#9c179e"
             ],
             [
              0.4444444444444444,
              "#bd3786"
             ],
             [
              0.5555555555555556,
              "#d8576b"
             ],
             [
              0.6666666666666666,
              "#ed7953"
             ],
             [
              0.7777777777777778,
              "#fb9f3a"
             ],
             [
              0.8888888888888888,
              "#fdca26"
             ],
             [
              1,
              "#f0f921"
             ]
            ],
            "type": "heatmapgl"
           }
          ],
          "histogram": [
           {
            "marker": {
             "pattern": {
              "fillmode": "overlay",
              "size": 10,
              "solidity": 0.2
             }
            },
            "type": "histogram"
           }
          ],
          "histogram2d": [
           {
            "colorbar": {
             "outlinewidth": 0,
             "ticks": ""
            },
            "colorscale": [
             [
              0,
              "#0d0887"
             ],
             [
              0.1111111111111111,
              "#46039f"
             ],
             [
              0.2222222222222222,
              "#7201a8"
             ],
             [
              0.3333333333333333,
              "#9c179e"
             ],
             [
              0.4444444444444444,
              "#bd3786"
             ],
             [
              0.5555555555555556,
              "#d8576b"
             ],
             [
              0.6666666666666666,
              "#ed7953"
             ],
             [
              0.7777777777777778,
              "#fb9f3a"
             ],
             [
              0.8888888888888888,
              "#fdca26"
             ],
             [
              1,
              "#f0f921"
             ]
            ],
            "type": "histogram2d"
           }
          ],
          "histogram2dcontour": [
           {
            "colorbar": {
             "outlinewidth": 0,
             "ticks": ""
            },
            "colorscale": [
             [
              0,
              "#0d0887"
             ],
             [
              0.1111111111111111,
              "#46039f"
             ],
             [
              0.2222222222222222,
              "#7201a8"
             ],
             [
              0.3333333333333333,
              "#9c179e"
             ],
             [
              0.4444444444444444,
              "#bd3786"
             ],
             [
              0.5555555555555556,
              "#d8576b"
             ],
             [
              0.6666666666666666,
              "#ed7953"
             ],
             [
              0.7777777777777778,
              "#fb9f3a"
             ],
             [
              0.8888888888888888,
              "#fdca26"
             ],
             [
              1,
              "#f0f921"
             ]
            ],
            "type": "histogram2dcontour"
           }
          ],
          "mesh3d": [
           {
            "colorbar": {
             "outlinewidth": 0,
             "ticks": ""
            },
            "type": "mesh3d"
           }
          ],
          "parcoords": [
           {
            "line": {
             "colorbar": {
              "outlinewidth": 0,
              "ticks": ""
             }
            },
            "type": "parcoords"
           }
          ],
          "pie": [
           {
            "automargin": true,
            "type": "pie"
           }
          ],
          "scatter": [
           {
            "fillpattern": {
             "fillmode": "overlay",
             "size": 10,
             "solidity": 0.2
            },
            "type": "scatter"
           }
          ],
          "scatter3d": [
           {
            "line": {
             "colorbar": {
              "outlinewidth": 0,
              "ticks": ""
             }
            },
            "marker": {
             "colorbar": {
              "outlinewidth": 0,
              "ticks": ""
             }
            },
            "type": "scatter3d"
           }
          ],
          "scattercarpet": [
           {
            "marker": {
             "colorbar": {
              "outlinewidth": 0,
              "ticks": ""
             }
            },
            "type": "scattercarpet"
           }
          ],
          "scattergeo": [
           {
            "marker": {
             "colorbar": {
              "outlinewidth": 0,
              "ticks": ""
             }
            },
            "type": "scattergeo"
           }
          ],
          "scattergl": [
           {
            "marker": {
             "colorbar": {
              "outlinewidth": 0,
              "ticks": ""
             }
            },
            "type": "scattergl"
           }
          ],
          "scattermapbox": [
           {
            "marker": {
             "colorbar": {
              "outlinewidth": 0,
              "ticks": ""
             }
            },
            "type": "scattermapbox"
           }
          ],
          "scatterpolar": [
           {
            "marker": {
             "colorbar": {
              "outlinewidth": 0,
              "ticks": ""
             }
            },
            "type": "scatterpolar"
           }
          ],
          "scatterpolargl": [
           {
            "marker": {
             "colorbar": {
              "outlinewidth": 0,
              "ticks": ""
             }
            },
            "type": "scatterpolargl"
           }
          ],
          "scatterternary": [
           {
            "marker": {
             "colorbar": {
              "outlinewidth": 0,
              "ticks": ""
             }
            },
            "type": "scatterternary"
           }
          ],
          "surface": [
           {
            "colorbar": {
             "outlinewidth": 0,
             "ticks": ""
            },
            "colorscale": [
             [
              0,
              "#0d0887"
             ],
             [
              0.1111111111111111,
              "#46039f"
             ],
             [
              0.2222222222222222,
              "#7201a8"
             ],
             [
              0.3333333333333333,
              "#9c179e"
             ],
             [
              0.4444444444444444,
              "#bd3786"
             ],
             [
              0.5555555555555556,
              "#d8576b"
             ],
             [
              0.6666666666666666,
              "#ed7953"
             ],
             [
              0.7777777777777778,
              "#fb9f3a"
             ],
             [
              0.8888888888888888,
              "#fdca26"
             ],
             [
              1,
              "#f0f921"
             ]
            ],
            "type": "surface"
           }
          ],
          "table": [
           {
            "cells": {
             "fill": {
              "color": "#EBF0F8"
             },
             "line": {
              "color": "white"
             }
            },
            "header": {
             "fill": {
              "color": "#C8D4E3"
             },
             "line": {
              "color": "white"
             }
            },
            "type": "table"
           }
          ]
         },
         "layout": {
          "annotationdefaults": {
           "arrowcolor": "#2a3f5f",
           "arrowhead": 0,
           "arrowwidth": 1
          },
          "autotypenumbers": "strict",
          "coloraxis": {
           "colorbar": {
            "outlinewidth": 0,
            "ticks": ""
           }
          },
          "colorscale": {
           "diverging": [
            [
             0,
             "#8e0152"
            ],
            [
             0.1,
             "#c51b7d"
            ],
            [
             0.2,
             "#de77ae"
            ],
            [
             0.3,
             "#f1b6da"
            ],
            [
             0.4,
             "#fde0ef"
            ],
            [
             0.5,
             "#f7f7f7"
            ],
            [
             0.6,
             "#e6f5d0"
            ],
            [
             0.7,
             "#b8e186"
            ],
            [
             0.8,
             "#7fbc41"
            ],
            [
             0.9,
             "#4d9221"
            ],
            [
             1,
             "#276419"
            ]
           ],
           "sequential": [
            [
             0,
             "#0d0887"
            ],
            [
             0.1111111111111111,
             "#46039f"
            ],
            [
             0.2222222222222222,
             "#7201a8"
            ],
            [
             0.3333333333333333,
             "#9c179e"
            ],
            [
             0.4444444444444444,
             "#bd3786"
            ],
            [
             0.5555555555555556,
             "#d8576b"
            ],
            [
             0.6666666666666666,
             "#ed7953"
            ],
            [
             0.7777777777777778,
             "#fb9f3a"
            ],
            [
             0.8888888888888888,
             "#fdca26"
            ],
            [
             1,
             "#f0f921"
            ]
           ],
           "sequentialminus": [
            [
             0,
             "#0d0887"
            ],
            [
             0.1111111111111111,
             "#46039f"
            ],
            [
             0.2222222222222222,
             "#7201a8"
            ],
            [
             0.3333333333333333,
             "#9c179e"
            ],
            [
             0.4444444444444444,
             "#bd3786"
            ],
            [
             0.5555555555555556,
             "#d8576b"
            ],
            [
             0.6666666666666666,
             "#ed7953"
            ],
            [
             0.7777777777777778,
             "#fb9f3a"
            ],
            [
             0.8888888888888888,
             "#fdca26"
            ],
            [
             1,
             "#f0f921"
            ]
           ]
          },
          "colorway": [
           "#636efa",
           "#EF553B",
           "#00cc96",
           "#ab63fa",
           "#FFA15A",
           "#19d3f3",
           "#FF6692",
           "#B6E880",
           "#FF97FF",
           "#FECB52"
          ],
          "font": {
           "color": "#2a3f5f"
          },
          "geo": {
           "bgcolor": "white",
           "lakecolor": "white",
           "landcolor": "#E5ECF6",
           "showlakes": true,
           "showland": true,
           "subunitcolor": "white"
          },
          "hoverlabel": {
           "align": "left"
          },
          "hovermode": "closest",
          "mapbox": {
           "style": "light"
          },
          "paper_bgcolor": "white",
          "plot_bgcolor": "#E5ECF6",
          "polar": {
           "angularaxis": {
            "gridcolor": "white",
            "linecolor": "white",
            "ticks": ""
           },
           "bgcolor": "#E5ECF6",
           "radialaxis": {
            "gridcolor": "white",
            "linecolor": "white",
            "ticks": ""
           }
          },
          "scene": {
           "xaxis": {
            "backgroundcolor": "#E5ECF6",
            "gridcolor": "white",
            "gridwidth": 2,
            "linecolor": "white",
            "showbackground": true,
            "ticks": "",
            "zerolinecolor": "white"
           },
           "yaxis": {
            "backgroundcolor": "#E5ECF6",
            "gridcolor": "white",
            "gridwidth": 2,
            "linecolor": "white",
            "showbackground": true,
            "ticks": "",
            "zerolinecolor": "white"
           },
           "zaxis": {
            "backgroundcolor": "#E5ECF6",
            "gridcolor": "white",
            "gridwidth": 2,
            "linecolor": "white",
            "showbackground": true,
            "ticks": "",
            "zerolinecolor": "white"
           }
          },
          "shapedefaults": {
           "line": {
            "color": "#2a3f5f"
           }
          },
          "ternary": {
           "aaxis": {
            "gridcolor": "white",
            "linecolor": "white",
            "ticks": ""
           },
           "baxis": {
            "gridcolor": "white",
            "linecolor": "white",
            "ticks": ""
           },
           "bgcolor": "#E5ECF6",
           "caxis": {
            "gridcolor": "white",
            "linecolor": "white",
            "ticks": ""
           }
          },
          "title": {
           "x": 0.05
          },
          "xaxis": {
           "automargin": true,
           "gridcolor": "white",
           "linecolor": "white",
           "ticks": "",
           "title": {
            "standoff": 15
           },
           "zerolinecolor": "white",
           "zerolinewidth": 2
          },
          "yaxis": {
           "automargin": true,
           "gridcolor": "white",
           "linecolor": "white",
           "ticks": "",
           "title": {
            "standoff": 15
           },
           "zerolinecolor": "white",
           "zerolinewidth": 2
          }
         }
        },
        "title": {
         "text": "Où on part ce weekend ?",
         "x": 0.5
        }
       }
      }
     },
     "metadata": {},
     "output_type": "display_data"
    }
   ],
   "source": [
    "fig = px.scatter_mapbox(df_final,lat=\"lat\", lon=\"lon\", color=\"note_type_temps\", hover_name=\"ville\", hover_data='temp', height=700,\n",
    "mapbox_style=\"open-street-map\",title='Où on part ce weekend ?',zoom=4.5,color_continuous_scale=[\"red\",\"orange\",\"yellowgreen\",\"green\"], size=\"temp\", center={'lon':2.232999,\"lat\":46.327408})\n",
    "fig.update_layout(title_x=0.5)\n",
    "fig.show()"
   ]
  }
 ],
 "metadata": {
  "kernelspec": {
   "display_name": "base",
   "language": "python",
   "name": "python3"
  },
  "language_info": {
   "codemirror_mode": {
    "name": "ipython",
    "version": 3
   },
   "file_extension": ".py",
   "mimetype": "text/x-python",
   "name": "python",
   "nbconvert_exporter": "python",
   "pygments_lexer": "ipython3",
   "version": "3.12.4"
  }
 },
 "nbformat": 4,
 "nbformat_minor": 2
}
