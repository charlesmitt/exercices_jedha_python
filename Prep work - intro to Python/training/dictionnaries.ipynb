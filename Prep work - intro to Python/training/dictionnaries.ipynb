{
 "cells": [
  {
   "cell_type": "code",
   "execution_count": 1,
   "metadata": {},
   "outputs": [
    {
     "name": "stdout",
     "output_type": "stream",
     "text": [
      "{'Name': 'Antoine', 'Amount': 112}\n"
     ]
    }
   ],
   "source": [
    "friends = {\"Name\": \"Antoine\", \"Amount\": 112}\n",
    "\n",
    "print(friends)"
   ]
  },
  {
   "cell_type": "code",
   "execution_count": 3,
   "metadata": {},
   "outputs": [
    {
     "data": {
      "text/plain": [
       "'Antoine'"
      ]
     },
     "execution_count": 3,
     "metadata": {},
     "output_type": "execute_result"
    }
   ],
   "source": [
    "friends[\"Name\"]"
   ]
  },
  {
   "cell_type": "code",
   "execution_count": 6,
   "metadata": {},
   "outputs": [],
   "source": [
    "friends[\"Last_Name\"] = \"Michel\""
   ]
  },
  {
   "cell_type": "code",
   "execution_count": 12,
   "metadata": {},
   "outputs": [],
   "source": [
    "friends = input(\"What are the names of the friends, separated by a comma\")\n",
    "amounts = input(\"How much did each one pay?\")\n",
    "friends_list = friends.split(\",\")\n",
    "amounts_list = amounts.split(\",\")\n",
    "\n",
    "friends = [\n",
    "    {\"Name\": friends_list[0], \"Amount\" :amounts_list[0]},\n",
    "    {\"Name\": friends_list[1], \"Amount\" :amounts_list[1]}\n",
    "]\n",
    "\n"
   ]
  },
  {
   "cell_type": "code",
   "execution_count": null,
   "metadata": {},
   "outputs": [],
   "source": []
  }
 ],
 "metadata": {
  "kernelspec": {
   "display_name": "base",
   "language": "python",
   "name": "python3"
  },
  "language_info": {
   "codemirror_mode": {
    "name": "ipython",
    "version": 3
   },
   "file_extension": ".py",
   "mimetype": "text/x-python",
   "name": "python",
   "nbconvert_exporter": "python",
   "pygments_lexer": "ipython3",
   "version": "3.12.4"
  }
 },
 "nbformat": 4,
 "nbformat_minor": 2
}
