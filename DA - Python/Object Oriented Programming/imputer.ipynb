{
 "cells": [
  {
   "cell_type": "code",
   "execution_count": 90,
   "metadata": {},
   "outputs": [],
   "source": [
    "import statistics\n",
    "\n",
    "class Imputer():\n",
    "\n",
    "    def __init__(self,str):\n",
    "        self.liste_des_valeurs = str.split(\",\")\n",
    "\n",
    "    def avg(self):\n",
    "        sum = 0\n",
    "        nb_nombres = 0\n",
    "        \n",
    "        for i in self.liste_des_valeurs:        \n",
    "            try:\n",
    "                sum += float(i)\n",
    "                nb_nombres +=1\n",
    "            except:\n",
    "                print()\n",
    "\n",
    "        average = sum/nb_nombres\n",
    "\n",
    "        for i in range(len(self.liste_des_valeurs)):\n",
    "            try:\n",
    "                float(self.liste_des_valeurs[i])\n",
    "            except:\n",
    "                self.liste_des_valeurs[i] = \"%.2f\" % average\n",
    "\n",
    "        print(f\"Here is the list with empty values replaced by the average :{self.liste_des_valeurs}\")\n",
    "\n",
    "    def med(self):\n",
    "        liste_sans_vides = []\n",
    "        for i in self.liste_des_valeurs:\n",
    "            try:\n",
    "                liste_sans_vides.append(float(i))\n",
    "            except:\n",
    "                print()\n",
    "\n",
    "        mediane = statistics.median(liste_sans_vides)\n",
    "        for i in range(len(self.liste_des_valeurs)):\n",
    "            try:\n",
    "                float(self.liste_des_valeurs[i])\n",
    "            except:\n",
    "                self.liste_des_valeurs[i] = mediane\n",
    "\n",
    "        print(f\"Here is the list with empty values replaced by the median value :{self.liste_des_valeurs}\") \n",
    "\n",
    "\n"
   ]
  },
  {
   "cell_type": "code",
   "execution_count": null,
   "metadata": {},
   "outputs": [],
   "source": [
    "str = input(\"Entrer liste valeurs\")\n",
    "\n",
    "imp1 = Imputer(str)\n",
    "imp1.avg()\n",
    "\n",
    "imp2 = Imputer(str)\n",
    "imp2.med()\n"
   ]
  },
  {
   "cell_type": "code",
   "execution_count": null,
   "metadata": {},
   "outputs": [],
   "source": []
  }
 ],
 "metadata": {
  "kernelspec": {
   "display_name": "base",
   "language": "python",
   "name": "python3"
  },
  "language_info": {
   "codemirror_mode": {
    "name": "ipython",
    "version": 3
   },
   "file_extension": ".py",
   "mimetype": "text/x-python",
   "name": "python",
   "nbconvert_exporter": "python",
   "pygments_lexer": "ipython3",
   "version": "3.12.4"
  }
 },
 "nbformat": 4,
 "nbformat_minor": 2
}
