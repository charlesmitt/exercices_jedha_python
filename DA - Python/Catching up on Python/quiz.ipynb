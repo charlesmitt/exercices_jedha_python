{
 "cells": [
  {
   "cell_type": "code",
   "execution_count": 7,
   "metadata": {},
   "outputs": [
    {
     "name": "stdout",
     "output_type": "stream",
     "text": [
      "Here you have our quiz !\n",
      "------------------------\n",
      "C'est juste, bravo\n",
      "Nope, encore 2 essai(s)\n",
      "C'est juste, bravo\n",
      "C'est juste, bravo\n",
      "C'est juste, bravo\n",
      "Vous avez réussi le quiz bravo !!!! \n"
     ]
    }
   ],
   "source": [
    "\n",
    "questions = {   \"Quel nombre y'a t'il entre 1 et 3?\": \"2\",\n",
    "                \"Date de naissance de Michel ?\": \"1976\",\n",
    "                \"Qui a inventé SpaceX ? \": \"Elon Musk\", \n",
    "                \"Quelle heure est-il ? \": \"18h\"\n",
    "            }\n",
    "\n",
    "essais_restants = 3\n",
    "\n",
    "print(\"Here you have our quiz !\")\n",
    "print(\"------------------------\")\n",
    "\n",
    "for question,reponse in questions.items():\n",
    "    if(essais_restants>0):\n",
    "        saisie= input(question)\n",
    "        while(saisie!=reponse):\n",
    "            essais_restants -=1\n",
    "            print(f\"Nope, encore {essais_restants} essai(s)\")\n",
    "\n",
    "            if(essais_restants==0):\n",
    "                print(\"3 essais infructueux, game over\")\n",
    "                break\n",
    "            saisie = input(question)\n",
    "        else:\n",
    "            print(\"C'est juste, bravo\")\n",
    "\n",
    "if(essais_restants>0):\n",
    "    print(\"Vous avez réussi le quiz bravo !!!! \")"
   ]
  },
  {
   "cell_type": "code",
   "execution_count": null,
   "metadata": {},
   "outputs": [],
   "source": []
  }
 ],
 "metadata": {
  "kernelspec": {
   "display_name": "base",
   "language": "python",
   "name": "python3"
  },
  "language_info": {
   "codemirror_mode": {
    "name": "ipython",
    "version": 3
   },
   "file_extension": ".py",
   "mimetype": "text/x-python",
   "name": "python",
   "nbconvert_exporter": "python",
   "pygments_lexer": "ipython3",
   "version": "3.12.4"
  }
 },
 "nbformat": 4,
 "nbformat_minor": 2
}
