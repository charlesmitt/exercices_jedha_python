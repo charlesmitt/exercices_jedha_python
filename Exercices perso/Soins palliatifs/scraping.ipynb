{
 "cells": [
  {
   "cell_type": "markdown",
   "metadata": {},
   "source": [
    "RECUPERATION DE LA LISTE DE TOUS LES ETABLISSEMENTS (AVEC CHANGEMENTS DE PAGE)"
   ]
  },
  {
   "cell_type": "code",
   "execution_count": 1,
   "metadata": {},
   "outputs": [],
   "source": [
    "import os\n",
    "import logging\n",
    "import scrapy\n",
    "from scrapy.crawler import CrawlerProcess\n",
    "import plotly.express as px\n",
    "import pandas as pd\n",
    "import json\n",
    "import requests"
   ]
  },
  {
   "cell_type": "markdown",
   "metadata": {},
   "source": [
    "SI LA LISTE BASIQUE DES ETABLISSEMENTS N'A PAS DEJA ETE ENREGISTREE EN JSON ON VA LA RECUPERER"
   ]
  },
  {
   "cell_type": "code",
   "execution_count": 2,
   "metadata": {},
   "outputs": [
    {
     "name": "stdout",
     "output_type": "stream",
     "text": [
      "le fichier existe\n"
     ]
    }
   ],
   "source": [
    "filename = 'toutes_les_pages.json'\n",
    "\n",
    "if filename in os.listdir(\"src/\"):\n",
    "    le_fichier_existe = True\n",
    "    print(\"le fichier existe\")\n",
    "    df = pd.DataFrame(pd.read_json('src/'+filename), dtype='str')\n",
    "else:\n",
    "    print(\"Le fichier existe pas\")\n",
    "    le_fichier_existe = False"
   ]
  },
  {
   "cell_type": "markdown",
   "metadata": {},
   "source": [
    "ON RECUPERE LA LISTE BASIQUE DES ETABLISSEMENTS (CHANGER EN PYTHON POUR L'UTILISER)"
   ]
  },
  {
   "cell_type": "markdown",
   "metadata": {},
   "source": [
    "class SFAPSpider(scrapy.Spider):\n",
    "    # Name of your spider\n",
    "    name = \"sfap\"\n",
    "\n",
    "    # Url to start your spider from\n",
    "    start_urls = [\n",
    "        'https://sfap.org/annuaire?contact_sub_type=Structure&type_6%5B%5D=USP&type_6%5B%5D=LISP'\n",
    "    ]\n",
    "\n",
    "    # Callback function that will be called when starting your spider\n",
    "    def parse(self, response):\n",
    "        # retourne une liste de tous les éléments de classe \"quote\" \n",
    "        entrees = response.css('tbody tr')\n",
    "        for entree in entrees:\n",
    "            nom = entree.css('td.views-field-display-name a::text').get()\n",
    "            type = entree.css('td.views-field-type-6::text').get()\n",
    "            adresse = entree.css('td.views-field-street-address::text').get()\n",
    "            code_postal = entree.css('td.views-field-postal-code::text').get()\n",
    "            commune = entree.css('td.views-field-city::text').get()\n",
    "            telephone = entree.css('td.views-field-phone::text').get()\n",
    "            yield {\n",
    "                'nom': nom,\n",
    "                'type':type.strip('\\n').strip(),\n",
    "                'adresse':adresse.strip('\\n').strip(),\n",
    "                'code_postal':code_postal.strip('\\n').strip(),\n",
    "                'commune':commune.strip('\\n').strip(),\n",
    "                'telephone':telephone.strip('\\n').strip()\n",
    "            }\n",
    "        try:\n",
    "            next_page = response.css('li.pager-next a').attrib['href']\n",
    "        except:\n",
    "            logging.info(\"No next page\")\n",
    "        else:\n",
    "            yield response.follow(next_page, callback=self.parse)\n",
    "\n",
    "if le_fichier_existe==False:\n",
    "    filename = 'toutes_les_pages.json'\n",
    "\n",
    "    if filename in os.listdir(\"src/\"):\n",
    "        os.remove('src/'+filename)\n",
    "\n",
    "    process = CrawlerProcess(settings={\n",
    "        'USER_AGENT': 'Chrome/97.0',\n",
    "        'LOG_LEVEL': logging.INFO,\n",
    "        'FEEDS':{\n",
    "            'src/' + filename : {\"format\": \"json\", 'encoding': 'utf8'},\n",
    "            },\n",
    "        \"AUTOTHROTTLE_ENABLED\": True\n",
    "    }\n",
    "    )\n",
    "\n",
    "    #Lancer le crawler utilisant la spider\n",
    "    process.crawl(SFAPSpider)\n",
    "    process.start()"
   ]
  },
  {
   "cell_type": "markdown",
   "metadata": {},
   "source": [
    "ON VA SUR CHAQUE PAGE POUR RECUPERER DES INFOS SUPPLEMENTAIRES"
   ]
  },
  {
   "cell_type": "code",
   "execution_count": 4,
   "metadata": {},
   "outputs": [
    {
     "name": "stdout",
     "output_type": "stream",
     "text": [
      "Le fichier existe pas\n"
     ]
    }
   ],
   "source": [
    "filename = 'toutes_les_pages_completes.json'\n",
    "\n",
    "if filename in os.listdir(\"src/\"):\n",
    "    le_fichier_existe = True\n",
    "    print(\"le fichier existe\")\n",
    "    df = pd.DataFrame(pd.read_json('src/'+filename), dtype='str')\n",
    "else:\n",
    "    print(\"Le fichier existe pas\")\n",
    "    le_fichier_existe = False"
   ]
  },
  {
   "cell_type": "markdown",
   "metadata": {},
   "source": [
    "SI LE FICHIER N'EXISTE PAS ON SCRAP LES INFOS POUR TOUS LES ETABLISSEMENTS (~ 6 MINUTES)"
   ]
  },
  {
   "cell_type": "code",
   "execution_count": 5,
   "metadata": {},
   "outputs": [
    {
     "name": "stderr",
     "output_type": "stream",
     "text": [
      "2024-11-17 12:55:59 [py.warnings] WARNING: c:\\Users\\Admin\\anaconda3\\Lib\\site-packages\\scrapy\\utils\\request.py:254: ScrapyDeprecationWarning: '2.6' is a deprecated value for the 'REQUEST_FINGERPRINTER_IMPLEMENTATION' setting.\n",
      "\n",
      "It is also the default value. In other words, it is normal to get this warning if you have not defined a value for the 'REQUEST_FINGERPRINTER_IMPLEMENTATION' setting. This is so for backward compatibility reasons, but it will change in a future version of Scrapy.\n",
      "\n",
      "See the documentation of the 'REQUEST_FINGERPRINTER_IMPLEMENTATION' setting for information on how to handle this deprecation.\n",
      "  return cls(crawler)\n",
      "\n",
      "2024-11-17 12:58:39 [scrapy.downloadermiddlewares.retry] ERROR: Gave up retrying <GET https://sfap.org/annuaire/32691> (failed 3 times): 500 Internal Server Error\n",
      "2024-11-17 12:58:39 [scrapy.downloadermiddlewares.retry] ERROR: Gave up retrying <GET https://sfap.org/annuaire/32687> (failed 3 times): 500 Internal Server Error\n",
      "2024-11-17 12:58:39 [scrapy.downloadermiddlewares.retry] ERROR: Gave up retrying <GET https://sfap.org/annuaire/32703> (failed 3 times): 500 Internal Server Error\n",
      "2024-11-17 12:58:39 [scrapy.downloadermiddlewares.retry] ERROR: Gave up retrying <GET https://sfap.org/annuaire/32705> (failed 3 times): 500 Internal Server Error\n",
      "2024-11-17 12:58:39 [scrapy.downloadermiddlewares.retry] ERROR: Gave up retrying <GET https://sfap.org/annuaire/32599> (failed 3 times): 500 Internal Server Error\n",
      "2024-11-17 12:58:39 [scrapy.downloadermiddlewares.retry] ERROR: Gave up retrying <GET https://sfap.org/annuaire/32677> (failed 3 times): 500 Internal Server Error\n",
      "2024-11-17 12:58:39 [scrapy.downloadermiddlewares.retry] ERROR: Gave up retrying <GET https://sfap.org/annuaire/32621> (failed 3 times): 500 Internal Server Error\n",
      "2024-11-17 12:58:39 [scrapy.downloadermiddlewares.retry] ERROR: Gave up retrying <GET https://sfap.org/annuaire/32675> (failed 3 times): 500 Internal Server Error\n",
      "2024-11-17 12:58:40 [scrapy.downloadermiddlewares.retry] ERROR: Gave up retrying <GET https://sfap.org/annuaire/32653> (failed 3 times): 500 Internal Server Error\n",
      "2024-11-17 12:58:40 [scrapy.downloadermiddlewares.retry] ERROR: Gave up retrying <GET https://sfap.org/annuaire/32671> (failed 3 times): 500 Internal Server Error\n",
      "2024-11-17 12:58:40 [scrapy.downloadermiddlewares.retry] ERROR: Gave up retrying <GET https://sfap.org/annuaire/32647> (failed 3 times): 500 Internal Server Error\n",
      "2024-11-17 12:58:40 [scrapy.downloadermiddlewares.retry] ERROR: Gave up retrying <GET https://sfap.org/annuaire/32605> (failed 3 times): 500 Internal Server Error\n",
      "2024-11-17 12:58:40 [scrapy.downloadermiddlewares.retry] ERROR: Gave up retrying <GET https://sfap.org/annuaire/32659> (failed 3 times): 500 Internal Server Error\n",
      "2024-11-17 12:58:40 [scrapy.downloadermiddlewares.retry] ERROR: Gave up retrying <GET https://sfap.org/annuaire/32635> (failed 3 times): 500 Internal Server Error\n",
      "2024-11-17 12:58:40 [scrapy.downloadermiddlewares.retry] ERROR: Gave up retrying <GET https://sfap.org/annuaire/32591> (failed 3 times): 500 Internal Server Error\n",
      "2024-11-17 12:58:40 [scrapy.downloadermiddlewares.retry] ERROR: Gave up retrying <GET https://sfap.org/annuaire/32593> (failed 3 times): 500 Internal Server Error\n",
      "2024-11-17 12:58:40 [scrapy.downloadermiddlewares.retry] ERROR: Gave up retrying <GET https://sfap.org/annuaire/32697> (failed 3 times): 500 Internal Server Error\n",
      "2024-11-17 12:58:40 [scrapy.downloadermiddlewares.retry] ERROR: Gave up retrying <GET https://sfap.org/annuaire?contact_sub_type=Structure&type_6%5B0%5D=USP&type_6%5B1%5D=LISP&page=14> (failed 3 times): 500 Internal Server Error\n",
      "2024-11-17 12:58:40 [scrapy.downloadermiddlewares.retry] ERROR: Gave up retrying <GET https://sfap.org/annuaire/32629> (failed 3 times): 500 Internal Server Error\n",
      "2024-11-17 12:58:40 [scrapy.downloadermiddlewares.retry] ERROR: Gave up retrying <GET https://sfap.org/annuaire/32609> (failed 3 times): 500 Internal Server Error\n"
     ]
    }
   ],
   "source": [
    "class SFAPSpider(scrapy.Spider):\n",
    "    # Name of your spider\n",
    "    name = \"sfap\"\n",
    "\n",
    "    # Url to start your spider from\n",
    "    start_urls = [\n",
    "        'https://sfap.org/annuaire?contact_sub_type=Structure&type_6%5B%5D=USP&type_6%5B%5D=LISP'\n",
    "    ]\n",
    "\n",
    "    # Callback function that will be called when starting your spider\n",
    "    def parse(self, response):\n",
    "        # retourne une liste de tous les établissements\n",
    "        entrees = response.css('tbody tr')\n",
    "        for entree in entrees:\n",
    "            nom = entree.css('td.views-field-display-name a::text').get()\n",
    "            url = entree.css('td.views-field-display-name a').attrib['href']\n",
    "            type = entree.css('td.views-field-type-6::text').get()\n",
    "            adresse = entree.css('td.views-field-street-address::text').get()\n",
    "            code_postal = entree.css('td.views-field-postal-code::text').get()\n",
    "            commune = entree.css('td.views-field-city::text').get()\n",
    "            telephone = entree.css('td.views-field-phone::text').get()\n",
    "            infos= {\n",
    "                'nom': nom,\n",
    "                'type':type.strip('\\n').strip(),\n",
    "                'adresse':adresse.strip('\\n').strip(),\n",
    "                'code_postal':code_postal.strip('\\n').strip(),\n",
    "                'commune':commune.strip('\\n').strip(),\n",
    "                'telephone':telephone.strip('\\n').strip()\n",
    "            }\n",
    "\n",
    "            yield scrapy.Request(\"https://sfap.org\"+url, callback=self.details, cb_kwargs = {'infos':infos})\n",
    "                \n",
    "        try:\n",
    "            next_page = response.css('li.pager-next a').attrib['href']\n",
    "        except:\n",
    "            logging.info(\"No next page\")\n",
    "        else:\n",
    "            yield response.follow(next_page, callback=self.parse)\n",
    "\n",
    "    # ON VA SUR CHAQUE PAGE ET ON CHOPE TOUS LES CHAMPS\n",
    "    def details(self, response, infos):\n",
    "        lignes = response.css('div.form-item')\n",
    "        for ligne in lignes:\n",
    "            label  = ligne.xpath('./label//text()').get().strip()\n",
    "            if label in infos:\n",
    "                label = f\"{label}_2\"\n",
    "            valeur = ligne.xpath('./div//text()').get()\n",
    "            if valeur is None:\n",
    "                valeur = ligne.css('input::attr(value)').get()\n",
    "\n",
    "            update= {\n",
    "                label: valeur\n",
    "            }\n",
    "            infos.update(update)\n",
    "        yield infos\n",
    "\n",
    "\n",
    "if le_fichier_existe ==False:\n",
    "    filename = 'toutes_les_pages_completes.json'\n",
    "\n",
    "    if filename in os.listdir(\"src/\"):\n",
    "        os.remove('src/'+filename)\n",
    "\n",
    "\n",
    "    process = CrawlerProcess(settings={\n",
    "        'USER_AGENT': 'Chrome/97.0',\n",
    "        'LOG_LEVEL': logging.WARNING,\n",
    "        'FEEDS':{\n",
    "            'src/' + filename : {\"format\": \"json\", 'encoding': 'utf8'},\n",
    "            },\n",
    "        #\"AUTOTHROTTLE_ENABLED\": True\n",
    "        }\n",
    "    )\n",
    "\n",
    "    #Lancer le crawler utilisant la spider\n",
    "    process.crawl(SFAPSpider)\n",
    "    process.start()"
   ]
  },
  {
   "cell_type": "markdown",
   "metadata": {},
   "source": [
    "ON CHARGE LE JSON DANS UN DATAFRAME"
   ]
  },
  {
   "cell_type": "code",
   "execution_count": 6,
   "metadata": {},
   "outputs": [],
   "source": [
    "# Open and read the JSON file\n",
    "with open('src/toutes_les_pages_completes.json', 'r') as file:\n",
    "    data = json.load(file)\n",
    "\n",
    "df = pd.DataFrame(data)"
   ]
  },
  {
   "cell_type": "markdown",
   "metadata": {},
   "source": [
    "ON FAIT UNE COPIE AU CAS OU"
   ]
  },
  {
   "cell_type": "code",
   "execution_count": 7,
   "metadata": {},
   "outputs": [],
   "source": [
    "df_backup = df"
   ]
  },
  {
   "cell_type": "markdown",
   "metadata": {},
   "source": [
    "AJOUT DES LATITUDES ET LONGITUDES DE CHAQUE ETABLISSEMENT"
   ]
  },
  {
   "cell_type": "code",
   "execution_count": 8,
   "metadata": {},
   "outputs": [
    {
     "name": "stdout",
     "output_type": "stream",
     "text": [
      "Le fichier existe pas\n"
     ]
    }
   ],
   "source": [
    "filename = 'backup_infos_avec_coordonnees.csv'\n",
    "\n",
    "if filename in os.listdir(\"src/\"):\n",
    "    le_fichier_existe = True\n",
    "    print(\"le fichier existe\")\n",
    "    df = pd.DataFrame(pd.read_csv('src/'+filename), dtype='str')\n",
    "else:\n",
    "    print(\"Le fichier existe pas\")\n",
    "    le_fichier_existe = False"
   ]
  },
  {
   "cell_type": "markdown",
   "metadata": {},
   "source": [
    "SI LE FICHIER CSV N'EXISTE PAS ENCORE ON RECUPERE TOUTES LES COORDONNEES"
   ]
  },
  {
   "cell_type": "code",
   "execution_count": 9,
   "metadata": {},
   "outputs": [
    {
     "name": "stdout",
     "output_type": "stream",
     "text": [
      "0/121 (0.0%)\n",
      "*************************\n",
      "1/121 (0.83%)\n",
      "*************************\n",
      "2/121 (1.65%)\n",
      "*************************\n",
      "3/121 (2.48%)\n",
      "*************************\n",
      "4/121 (3.31%)\n",
      "*************************\n",
      "5/121 (4.13%)\n",
      "*************************\n",
      "6/121 (4.96%)\n",
      "*************************\n",
      "7/121 (5.79%)\n",
      "*************************\n",
      "8/121 (6.61%)\n",
      "*************************\n",
      "9/121 (7.44%)\n",
      "*************************\n",
      "10/121 (8.26%)\n",
      "*************************\n",
      "11/121 (9.09%)\n",
      "*************************\n",
      "12/121 (9.92%)\n",
      "*************************\n",
      "13/121 (10.74%)\n",
      "*************************\n",
      "14/121 (11.57%)\n",
      "*************************\n",
      "15/121 (12.4%)\n",
      "*************************\n",
      "16/121 (13.22%)\n",
      "*************************\n",
      "17/121 (14.05%)\n",
      "*************************\n",
      "18/121 (14.88%)\n",
      "*************************\n",
      "19/121 (15.7%)\n",
      "*************************\n",
      "20/121 (16.53%)\n",
      "*************************\n",
      "21/121 (17.36%)\n",
      "*************************\n",
      "22/121 (18.18%)\n",
      "*************************\n",
      "23/121 (19.01%)\n",
      "*************************\n",
      "24/121 (19.83%)\n",
      "*************************\n",
      "25/121 (20.66%)\n",
      "*************************\n",
      "26/121 (21.49%)\n",
      "*************************\n",
      "27/121 (22.31%)\n",
      "*************************\n",
      "28/121 (23.14%)\n",
      "*************************\n",
      "29/121 (23.97%)\n",
      "*************************\n",
      "30/121 (24.79%)\n",
      "*************************\n",
      "31/121 (25.62%)\n",
      "*************************\n",
      "32/121 (26.45%)\n",
      "*************************\n",
      "33/121 (27.27%)\n",
      "*************************\n",
      "34/121 (28.1%)\n",
      "*************************\n",
      "35/121 (28.93%)\n",
      "*************************\n",
      "36/121 (29.75%)\n",
      "*************************\n",
      "37/121 (30.58%)\n",
      "*************************\n",
      "38/121 (31.4%)\n",
      "*************************\n",
      "39/121 (32.23%)\n",
      "*************************\n",
      "40/121 (33.06%)\n",
      "*************************\n",
      "41/121 (33.88%)\n",
      "*************************\n",
      "42/121 (34.71%)\n",
      "*************************\n",
      "43/121 (35.54%)\n",
      "*************************\n",
      "44/121 (36.36%)\n",
      "*************************\n",
      "45/121 (37.19%)\n",
      "*************************\n",
      "46/121 (38.02%)\n",
      "*************************\n",
      "47/121 (38.84%)\n",
      "*************************\n",
      "48/121 (39.67%)\n",
      "*************************\n",
      "49/121 (40.5%)\n",
      "*************************\n",
      "50/121 (41.32%)\n",
      "*************************\n",
      "51/121 (42.15%)\n",
      "*************************\n",
      "52/121 (42.98%)\n",
      "*************************\n",
      "53/121 (43.8%)\n",
      "*************************\n",
      "54/121 (44.63%)\n",
      "*************************\n",
      "55/121 (45.45%)\n",
      "*************************\n",
      "56/121 (46.28%)\n",
      "*************************\n",
      "57/121 (47.11%)\n",
      "*************************\n",
      "58/121 (47.93%)\n",
      "*************************\n",
      "59/121 (48.76%)\n",
      "*************************\n",
      "60/121 (49.59%)\n",
      "*************************\n",
      "61/121 (50.41%)\n",
      "*************************\n",
      "62/121 (51.24%)\n",
      "*************************\n",
      "63/121 (52.07%)\n",
      "*************************\n",
      "64/121 (52.89%)\n",
      "*************************\n",
      "65/121 (53.72%)\n",
      "*************************\n",
      "66/121 (54.55%)\n",
      "*************************\n",
      "67/121 (55.37%)\n",
      "*************************\n",
      "68/121 (56.2%)\n",
      "*************************\n",
      "69/121 (57.02%)\n",
      "*************************\n",
      "70/121 (57.85%)\n",
      "*************************\n",
      "71/121 (58.68%)\n",
      "*************************\n",
      "72/121 (59.5%)\n",
      "*************************\n",
      "73/121 (60.33%)\n",
      "*************************\n",
      "74/121 (61.16%)\n",
      "*************************\n",
      "75/121 (61.98%)\n",
      "*************************\n",
      "76/121 (62.81%)\n",
      "*************************\n",
      "77/121 (63.64%)\n",
      "*************************\n",
      "78/121 (64.46%)\n",
      "*************************\n",
      "79/121 (65.29%)\n",
      "*************************\n",
      "80/121 (66.12%)\n",
      "*************************\n",
      "81/121 (66.94%)\n",
      "*************************\n",
      "82/121 (67.77%)\n",
      "*************************\n",
      "83/121 (68.6%)\n",
      "*************************\n",
      "84/121 (69.42%)\n",
      "*************************\n",
      "85/121 (70.25%)\n",
      "*************************\n",
      "86/121 (71.07%)\n",
      "*************************\n",
      "87/121 (71.9%)\n",
      "*************************\n",
      "88/121 (72.73%)\n",
      "*************************\n",
      "89/121 (73.55%)\n",
      "*************************\n",
      "90/121 (74.38%)\n",
      "*************************\n",
      "91/121 (75.21%)\n",
      "*************************\n",
      "92/121 (76.03%)\n",
      "*************************\n",
      "93/121 (76.86%)\n",
      "*************************\n",
      "94/121 (77.69%)\n",
      "*************************\n",
      "95/121 (78.51%)\n",
      "*************************\n",
      "96/121 (79.34%)\n",
      "*************************\n",
      "97/121 (80.17%)\n",
      "*************************\n",
      "98/121 (80.99%)\n",
      "*************************\n",
      "99/121 (81.82%)\n",
      "*************************\n",
      "100/121 (82.64%)\n",
      "*************************\n",
      "101/121 (83.47%)\n",
      "*************************\n",
      "102/121 (84.3%)\n",
      "*************************\n",
      "103/121 (85.12%)\n",
      "*************************\n",
      "104/121 (85.95%)\n",
      "*************************\n",
      "105/121 (86.78%)\n",
      "*************************\n",
      "106/121 (87.6%)\n",
      "*************************\n",
      "107/121 (88.43%)\n",
      "*************************\n",
      "108/121 (89.26%)\n",
      "*************************\n",
      "109/121 (90.08%)\n",
      "*************************\n",
      "110/121 (90.91%)\n",
      "*************************\n",
      "111/121 (91.74%)\n",
      "*************************\n",
      "112/121 (92.56%)\n",
      "*************************\n",
      "113/121 (93.39%)\n",
      "*************************\n",
      "114/121 (94.21%)\n",
      "*************************\n",
      "115/121 (95.04%)\n",
      "*************************\n",
      "116/121 (95.87%)\n",
      "*************************\n",
      "117/121 (96.69%)\n",
      "*************************\n",
      "118/121 (97.52%)\n",
      "*************************\n",
      "119/121 (98.35%)\n",
      "*************************\n",
      "120/121 (99.17%)\n",
      "*************************\n"
     ]
    }
   ],
   "source": [
    "\n",
    "if le_fichier_existe == False:\n",
    "    # RECUPERATION DES DONNEES POUR TOUTE LA LISTE DES VILLES\n",
    "    url = \"https://nominatim.openstreetmap.org/search?\"\n",
    "    headers = {'user_agent':'charles.mittempergher@gmail.com'}\n",
    "\n",
    "    lats = []\n",
    "    longs = []\n",
    "\n",
    "    for i in range(0,len(df)):\n",
    "        street = df.loc[i,'adresse']\n",
    "        postal_code = df.loc[i,'code_postal']\n",
    "        p = {'street':{street},'postalcode' : {postal_code},'country':'France', 'format':'json', 'limit':1, 'email':'charles@gmail.com'}\n",
    "        r = requests.get(url, headers=headers, params=p)\n",
    "\n",
    "        lat = None\n",
    "        lon = None\n",
    "        if len(r.json())>0:\n",
    "            lats.append(r.json()[0]['lat'])\n",
    "            longs.append(r.json()[0]['lon'])\n",
    "        else:\n",
    "            lats.append(None)\n",
    "            longs.append(None)\n",
    "\n",
    "        print(f'{i}/{len(df)} ({round(i/len(df)*100,2)}%)')\n",
    "        print('*************************')\n",
    "\n",
    "    df.insert(loc=len(df.columns), column='lat', value=lats)\n",
    "    df.insert(loc=len(df.columns), column='lon', value=longs)\n",
    "    df['lat'] = df['lat'].astype('float64')\n",
    "    df['lon'] = df['lon'].astype('float64')\n",
    "\n",
    "    df.to_csv(\"src/backup_infos_avec_coordonnees.csv\", index=False)"
   ]
  },
  {
   "cell_type": "markdown",
   "metadata": {},
   "source": [
    "ON A RECUPERE TOUS LES CHAMPS, \n",
    "TODO:\n",
    "- RELANCER LE SCRAPPING CAR ERREUR 500 LA DERNIERE FOIS, ON A QUE 121 LIGNES SUR 372\n",
    "- IL FAUT NETTOYER LES COLONNES NB DES LITS 1 & 2 (ENLEVER LES NAN ET TRANSFORMER EN INT)\n",
    "- AFFICHER SUR LA CARTE AVEC SIZE = NB LITS TOTAUX\n",
    "- + d'autres choses....\n",
    "\n"
   ]
  },
  {
   "cell_type": "code",
   "execution_count": 52,
   "metadata": {},
   "outputs": [
    {
     "data": {
      "application/vnd.plotly.v1+json": {
       "config": {
        "plotlyServerURL": "https://plot.ly"
       },
       "data": [
        {
         "hovertemplate": "<b>%{hovertext}</b><br><br>lat=%{lat}<br>lon=%{lon}<extra></extra>",
         "hovertext": [
          "CHU DE NICE - USP",
          "CH GÉRONTOLOGIQUE LA FERE - USP",
          "HÔPITAL VILLIERS SAINT-DENIS",
          "CHI  DES ALPES DU SUD - USP",
          "CH LAON - LISP",
          "CLINIQUE MÉDICALE PLEIN CIEL - LISP",
          "CH GÉNÉRAL DE SOISSONS - USP",
          "CH DU NOUVION EN THIERARCHE - LISP",
          "CH DE MONTPENSIER - USP",
          "LA MAISON DE GARDANNE - USP",
          "CH PUBLIC D'HAUTEVILLE - LISP",
          "CHI AIX PERTUIS - LISP",
          "CENTRE ROGER DUQUESNE - LISP",
          "GH AUBE MARNE - USP",
          "CH TROYES - USP",
          "POLYCLINIQUE MONTRÉAL - USP",
          "CH DU VAL D'ARIÈGE - LISP",
          "CH DES VALS D'ARDÈCHE - USP",
          "HÔPITAL LOCAL DONA VIERNA - EMSP",
          "Hôpitaux de Grand Cognac USP",
          "UNITÉ RÉGIONALE DE SP MAURICE ABIVEN - USP",
          "CENTRE CLINICAL - LISP",
          "POLYCLINIQUE DU PARC",
          "CHU CAEN - LISP",
          "CH SALON DE PROVENCE - USP",
          "CENTRE GÉRONTOLOGIE ST THOMAS DE VILLENEUVE  - USP",
          "HÔPITAL SAINT-JOSEPH - USP",
          "HÔPITAL DE LA TIMONE - USP",
          "CLINIQUE SAINTE ELISABETH - USP",
          "CHU JEAN MINJOZ - USP",
          "CH JEAN LECLAIRE - LISP",
          "CENTRE MÉDICAL LE CHÂTEAU DE BASSY - LISP",
          "CHU PERIGUEUX - ESPACE USP",
          "CH  RENÉ PLEVEN - LISP",
          "POLYCLINIQUE FRANCHEVILLE",
          "CLINIQUE ARMORICAINE DE RADIOLOGIE - LISP",
          "CHU DIJON - USP - LA MIRANDIERE",
          "HÔPITAUX DU SUD CHARENTE",
          "CH ANTIBES-JUAN LES PINS - USP",
          "CLINIQUE DU GOLFE - LISP",
          "CHRU BREST - SITE DE GUILERS - USP",
          "CHU CAREMEAU - USP",
          "CLINIQUE KERLENA - LISP",
          "CH DOUARNENEZ  MAURICE ABIVEN - USP",
          "CLINIQUE PASTEUR-SAINT-ESPRIT - USP",
          "CH DE LA RISLE - LISP",
          "CH GÉNÉRAL DE CREST - USP",
          "CH VALENCE - USP",
          "HOPITAUX DROME NORD",
          "HÔPITAL PRIVÉ DRÔME-ARDÈCHE",
          "CLINIQUE DE LAGARDELLE - LISP",
          "CLINIQUE MONIÉ - LISP",
          "CLINIQUE DU CHÂTEAU DE VERNHES - LISP",
          "DOMAINE DE LA CADÈNE",
          "CLINIQUE DE QUINT-FONSEGRIVES - LISP",
          "CLINIQUE PASTEUR - LISP",
          "CHU DE TOULOUSE - USP",
          "HÔPITAL JOSEPH DUCUING - USP",
          "CHU TOULOUSE - LISP",
          "HOSPITALITE SAINT THOMAS DE VILLENEUVE - USP",
          "CH FOUGERES - USP",
          "CLINIQUE MÉDICALE DU MAS DU ROCHET - USP",
          "CRLCC EUGÈNE MARQUIS - USP",
          "CHU - HÔPITAL SAINT ELOI - USP",
          "MAISON DE SANTÉ MARIE GALÈNE - ESPACE USP",
          "SSR CHÂTEAUNEUF",
          "CH SUD GIRONDE - LISP",
          "CHU SAINT ANDRÉ - ESPACE USP",
          "INSTITUT BERGONIÉ",
          "INSTITUT CLAUDIUS REGAUD",
          "HÔPITAL ST SEVER",
          "POLYCLINIQUE DE BLOIS",
          "CH YVES TOURAINE - LISP",
          "CENTRE MEDICAL ROCHEPLANE FOND. AUDAVIE - LISP",
          "CH LUCIEN HUSSEL - LISP",
          "CH DE LUYNES - USP",
          "CHU - CLINIQUE DE SOINS PALLIATIFS ET DE COORDINATION EN SOINS DE SUPPORT - USP",
          "PÔLE SANTÉ LÉONARD DE VINCI - LISP",
          "POLYCLINIQUE SAINT-LAURENT - USP",
          "CENTRE RÉGIONAL DE GÉRIATRIE - USP",
          "CH LOIRE VENDÉE OCÉAN - LISP",
          "CH LOIRE VENDÉE OCÉAN - LISP",
          "CENTRE CATHERINE DE SIENNE - LISP",
          "CH ANCENIS - LISP",
          "CENTRE DE SOINS MEDICAUX ET DE READAPTION-LE BODIO - LISP",
          "CH CHÂTEAUBRIANT - LISP",
          "CHU  HOPITAL NORD - USP",
          "CLINIQUE SAINT AUGUSTIN - LISP",
          "CH DE MONTRICHARD - LISP",
          "HOPITAL LOCAL ANTOINE MOREAU",
          "CH DE MENDE - LISP",
          "HÔPITAL LOCAL FUMEL",
          "CHICMT HÔPITAL DE TONNEINS - LISP",
          "CLINIQUE ESQUIROL SAINT HILAIRE - LISP",
          "ICO CENTRE RENÉ GAUDUCHEAU",
          "CENTRE DE CONVALESCENCE LES SABLONS SSR-SAMEC - LISP",
          "HÔPITAL LOCAL CORCOUE",
          "CH DE NANTES - USP",
          "CLINIQUE MUTUALISTE DE L'ESTUAIRE - LISP",
          "HÔPITAL LOCAL VILLEDIEU",
          "CH SÉBASTOPOL - USP",
          "HÔPITAL LOCAL DE SAINT -JAMES",
          "HÔPITAL LOCAL CARENTAN",
          "POLYCLINIQUE DE LA BAIE",
          "HÔPITAL LOCAL DE MORTAIN",
          "CR DE LUTTE CONTRE CANCER PAUL PAPIN",
          "CHU ANGERS - LISP",
          "HÔPITAL LOCAL INTERCOMMUNAL DE LA PRESQU'ÎLE-LISP",
          "CH DE CHOLET - LISP",
          "CHU ANGERS - USP",
          "CLINIQUE DES AUGUSTINES - USP",
          "ASSOCIATION HOSPITALIÈRE DE JOEUF - LISP",
          "CH BASSE VILAINE - LISP",
          "HOPITAL LOCAL DE JOSSELIN",
          "CH  ST NICOLAS DE PORT - LISP",
          "HÔPITAL SAINT-JULIEN CHU NANCY - USP",
          "HL DU SUD-OUEST MAYENNAIS",
          "CH HAUT ANJOU - LISP",
          "HL ERNÉE",
          "CH D'ARGONNE - LISP",
          "CENTRE OSCAR LAMBRET - USP"
         ],
         "lat": [
          43.7205704,
          49.6636338,
          null,
          null,
          50.6734728,
          43.6100952,
          48.5805759,
          50.01451245,
          46.3042248,
          43.44350815335863,
          45.97789389118888,
          43.524408,
          43.524408,
          49.25407498033583,
          48.956148,
          43.2133023709742,
          48.067429581800255,
          42.6183384,
          44.375749556921,
          45.551928170286324,
          49.192482,
          45.638181312640526,
          null,
          49.20328857594378,
          43.6402892,
          43.5314315,
          43.27629840913102,
          43.00569471892137,
          45.6158335012413,
          47.225588,
          44.899838450000004,
          45.03639365,
          45.1576632,
          48.447343155956275,
          45.181114,
          48.5097822,
          47.306692,
          45.347545100000005,
          43.45897256856438,
          41.916884800000005,
          48.42401374597437,
          null,
          48.5156451,
          45.7375866,
          48.4008789,
          49.348085,
          45.04443414143933,
          44.9120097,
          45.041890800000004,
          44.9008966,
          null,
          43.405803899999995,
          43.841656349999994,
          43.6571529,
          43.5817088,
          43.595245,
          null,
          47.066072,
          43.5992854,
          47.8403344,
          48.35935945,
          43.6250202962564,
          48.12113405,
          43.6295915,
          44.8470854,
          44.4673819633319,
          null,
          44.8335725,
          44.8235829,
          49.154852552887846,
          43.7571704,
          48.08921076556106,
          45.53878665,
          45.178265,
          45.5145472,
          47.39116829004097,
          45.1975811136419,
          null,
          47.84317930376232,
          45.776179049999996,
          46.9876811,
          46.9876811,
          47.1951135,
          47.3744666,
          null,
          47.72521416193338,
          42.6029532,
          47.2256759,
          47.7531834,
          48.17040849999999,
          45.148302,
          44.048305,
          44.393007586012615,
          44.1875803,
          45.63076682899681,
          47.9156796,
          46.9972811,
          45.63076682899681,
          47.2671715,
          48.842781,
          49.265316049999996,
          48.5714348042636,
          null,
          null,
          null,
          null,
          null,
          47.32330750360491,
          43.4909942,
          null,
          47.7183661,
          49.22580707772261,
          46.8212757,
          47.878237,
          48.634089905179856,
          48.6863621,
          47.79484351528274,
          47.827387,
          48.7488581,
          49.092737102972904,
          50.61401718173886
         ],
         "legendgroup": "",
         "lon": [
          7.2723002,
          3.3600028,
          null,
          null,
          3.200149,
          7.0122734,
          7.6902886,
          3.7806943000000004,
          4.6024841,
          5.472321129552699,
          5.606819572825305,
          5.424628530686874,
          5.424628530686874,
          6.17126560884711,
          4.360211,
          2.3249642247967053,
          5.613563161400763,
          2.421683700067128,
          4.6469227385615826,
          -0.1567295015105294,
          -0.3257054904227801,
          0.20253750896551945,
          null,
          -0.3605950874441566,
          5.1033256,
          5.4572096,
          5.393514108526525,
          9.402692686045281,
          -0.23069275766524697,
          5.959617,
          1.1943917380875209,
          0.33900158659127577,
          1.5454043,
          -2.0463473487012784,
          0.7171606,
          -2.7639055,
          5.1078308,
          -0.19489009143778285,
          5.4758625650605675,
          8.73696945,
          -4.558749572074859,
          null,
          -4.0798039,
          4.8855305,
          -4.4888701,
          0.51498,
          5.05398786718043,
          4.9059023,
          5.021036240802894,
          4.8775197,
          null,
          1.7349035243878206,
          1.521810973421571,
          1.4249392,
          1.5213424604878014,
          1.4172426,
          null,
          5.410912,
          1.4366659,
          -1.6813583,
          -1.1939732981218976,
          3.9070939388677135,
          -1.6992424000000002,
          3.8613246,
          -0.6070328,
          -0.6289605421161125,
          null,
          -0.578226,
          -0.5797963,
          5.39062854066318,
          -0.5716273,
          7.2826817477663415,
          5.662968085551441,
          5.7616156,
          4.9161954,
          0.5518904597725479,
          5.746037586958401,
          null,
          -1.6871056701070162,
          4.8121291500000005,
          -1.8026814869573529,
          -1.8026814869573529,
          -1.5472074,
          -1.1743207,
          null,
          -1.3846210592211943,
          2.9692955,
          -1.5591647,
          7.4086047,
          0.2361808486238502,
          4.1274557,
          1.0980024763326226,
          0.3022228933682055,
          0.6289675,
          0.15331255875050406,
          2.0287558,
          -1.7350042,
          0.15331255875050406,
          -2.2575554,
          -1.2217392,
          4.0486910156235165,
          -1.2623773234846931,
          null,
          null,
          null,
          null,
          null,
          -2.4244400227082923,
          -1.4736134,
          null,
          -1.3701416,
          6.0122145430758795,
          -1.649779,
          -3.9157382,
          6.301119137791818,
          6.1936343,
          -1.0612902154961645,
          -0.7001462,
          -0.0117174,
          4.907775039781478,
          3.037702941282193
         ],
         "marker": {
          "color": "#636efa"
         },
         "mode": "markers",
         "name": "",
         "showlegend": false,
         "subplot": "mapbox",
         "type": "scattermapbox"
        }
       ],
       "layout": {
        "height": 700,
        "legend": {
         "tracegroupgap": 0
        },
        "mapbox": {
         "center": {
          "lat": 46.25946236855533,
          "lon": 2.0703723875048654
         },
         "domain": {
          "x": [
           0,
           1
          ],
          "y": [
           0,
           1
          ]
         },
         "style": "open-street-map",
         "zoom": 4.5
        },
        "template": {
         "data": {
          "bar": [
           {
            "error_x": {
             "color": "#2a3f5f"
            },
            "error_y": {
             "color": "#2a3f5f"
            },
            "marker": {
             "line": {
              "color": "#E5ECF6",
              "width": 0.5
             },
             "pattern": {
              "fillmode": "overlay",
              "size": 10,
              "solidity": 0.2
             }
            },
            "type": "bar"
           }
          ],
          "barpolar": [
           {
            "marker": {
             "line": {
              "color": "#E5ECF6",
              "width": 0.5
             },
             "pattern": {
              "fillmode": "overlay",
              "size": 10,
              "solidity": 0.2
             }
            },
            "type": "barpolar"
           }
          ],
          "carpet": [
           {
            "aaxis": {
             "endlinecolor": "#2a3f5f",
             "gridcolor": "white",
             "linecolor": "white",
             "minorgridcolor": "white",
             "startlinecolor": "#2a3f5f"
            },
            "baxis": {
             "endlinecolor": "#2a3f5f",
             "gridcolor": "white",
             "linecolor": "white",
             "minorgridcolor": "white",
             "startlinecolor": "#2a3f5f"
            },
            "type": "carpet"
           }
          ],
          "choropleth": [
           {
            "colorbar": {
             "outlinewidth": 0,
             "ticks": ""
            },
            "type": "choropleth"
           }
          ],
          "contour": [
           {
            "colorbar": {
             "outlinewidth": 0,
             "ticks": ""
            },
            "colorscale": [
             [
              0,
              "#0d0887"
             ],
             [
              0.1111111111111111,
              "#46039f"
             ],
             [
              0.2222222222222222,
              "#7201a8"
             ],
             [
              0.3333333333333333,
              "#9c179e"
             ],
             [
              0.4444444444444444,
              "#bd3786"
             ],
             [
              0.5555555555555556,
              "#d8576b"
             ],
             [
              0.6666666666666666,
              "#ed7953"
             ],
             [
              0.7777777777777778,
              "#fb9f3a"
             ],
             [
              0.8888888888888888,
              "#fdca26"
             ],
             [
              1,
              "#f0f921"
             ]
            ],
            "type": "contour"
           }
          ],
          "contourcarpet": [
           {
            "colorbar": {
             "outlinewidth": 0,
             "ticks": ""
            },
            "type": "contourcarpet"
           }
          ],
          "heatmap": [
           {
            "colorbar": {
             "outlinewidth": 0,
             "ticks": ""
            },
            "colorscale": [
             [
              0,
              "#0d0887"
             ],
             [
              0.1111111111111111,
              "#46039f"
             ],
             [
              0.2222222222222222,
              "#7201a8"
             ],
             [
              0.3333333333333333,
              "#9c179e"
             ],
             [
              0.4444444444444444,
              "#bd3786"
             ],
             [
              0.5555555555555556,
              "#d8576b"
             ],
             [
              0.6666666666666666,
              "#ed7953"
             ],
             [
              0.7777777777777778,
              "#fb9f3a"
             ],
             [
              0.8888888888888888,
              "#fdca26"
             ],
             [
              1,
              "#f0f921"
             ]
            ],
            "type": "heatmap"
           }
          ],
          "heatmapgl": [
           {
            "colorbar": {
             "outlinewidth": 0,
             "ticks": ""
            },
            "colorscale": [
             [
              0,
              "#0d0887"
             ],
             [
              0.1111111111111111,
              "#46039f"
             ],
             [
              0.2222222222222222,
              "#7201a8"
             ],
             [
              0.3333333333333333,
              "#9c179e"
             ],
             [
              0.4444444444444444,
              "#bd3786"
             ],
             [
              0.5555555555555556,
              "#d8576b"
             ],
             [
              0.6666666666666666,
              "#ed7953"
             ],
             [
              0.7777777777777778,
              "#fb9f3a"
             ],
             [
              0.8888888888888888,
              "#fdca26"
             ],
             [
              1,
              "#f0f921"
             ]
            ],
            "type": "heatmapgl"
           }
          ],
          "histogram": [
           {
            "marker": {
             "pattern": {
              "fillmode": "overlay",
              "size": 10,
              "solidity": 0.2
             }
            },
            "type": "histogram"
           }
          ],
          "histogram2d": [
           {
            "colorbar": {
             "outlinewidth": 0,
             "ticks": ""
            },
            "colorscale": [
             [
              0,
              "#0d0887"
             ],
             [
              0.1111111111111111,
              "#46039f"
             ],
             [
              0.2222222222222222,
              "#7201a8"
             ],
             [
              0.3333333333333333,
              "#9c179e"
             ],
             [
              0.4444444444444444,
              "#bd3786"
             ],
             [
              0.5555555555555556,
              "#d8576b"
             ],
             [
              0.6666666666666666,
              "#ed7953"
             ],
             [
              0.7777777777777778,
              "#fb9f3a"
             ],
             [
              0.8888888888888888,
              "#fdca26"
             ],
             [
              1,
              "#f0f921"
             ]
            ],
            "type": "histogram2d"
           }
          ],
          "histogram2dcontour": [
           {
            "colorbar": {
             "outlinewidth": 0,
             "ticks": ""
            },
            "colorscale": [
             [
              0,
              "#0d0887"
             ],
             [
              0.1111111111111111,
              "#46039f"
             ],
             [
              0.2222222222222222,
              "#7201a8"
             ],
             [
              0.3333333333333333,
              "#9c179e"
             ],
             [
              0.4444444444444444,
              "#bd3786"
             ],
             [
              0.5555555555555556,
              "#d8576b"
             ],
             [
              0.6666666666666666,
              "#ed7953"
             ],
             [
              0.7777777777777778,
              "#fb9f3a"
             ],
             [
              0.8888888888888888,
              "#fdca26"
             ],
             [
              1,
              "#f0f921"
             ]
            ],
            "type": "histogram2dcontour"
           }
          ],
          "mesh3d": [
           {
            "colorbar": {
             "outlinewidth": 0,
             "ticks": ""
            },
            "type": "mesh3d"
           }
          ],
          "parcoords": [
           {
            "line": {
             "colorbar": {
              "outlinewidth": 0,
              "ticks": ""
             }
            },
            "type": "parcoords"
           }
          ],
          "pie": [
           {
            "automargin": true,
            "type": "pie"
           }
          ],
          "scatter": [
           {
            "fillpattern": {
             "fillmode": "overlay",
             "size": 10,
             "solidity": 0.2
            },
            "type": "scatter"
           }
          ],
          "scatter3d": [
           {
            "line": {
             "colorbar": {
              "outlinewidth": 0,
              "ticks": ""
             }
            },
            "marker": {
             "colorbar": {
              "outlinewidth": 0,
              "ticks": ""
             }
            },
            "type": "scatter3d"
           }
          ],
          "scattercarpet": [
           {
            "marker": {
             "colorbar": {
              "outlinewidth": 0,
              "ticks": ""
             }
            },
            "type": "scattercarpet"
           }
          ],
          "scattergeo": [
           {
            "marker": {
             "colorbar": {
              "outlinewidth": 0,
              "ticks": ""
             }
            },
            "type": "scattergeo"
           }
          ],
          "scattergl": [
           {
            "marker": {
             "colorbar": {
              "outlinewidth": 0,
              "ticks": ""
             }
            },
            "type": "scattergl"
           }
          ],
          "scattermapbox": [
           {
            "marker": {
             "colorbar": {
              "outlinewidth": 0,
              "ticks": ""
             }
            },
            "type": "scattermapbox"
           }
          ],
          "scatterpolar": [
           {
            "marker": {
             "colorbar": {
              "outlinewidth": 0,
              "ticks": ""
             }
            },
            "type": "scatterpolar"
           }
          ],
          "scatterpolargl": [
           {
            "marker": {
             "colorbar": {
              "outlinewidth": 0,
              "ticks": ""
             }
            },
            "type": "scatterpolargl"
           }
          ],
          "scatterternary": [
           {
            "marker": {
             "colorbar": {
              "outlinewidth": 0,
              "ticks": ""
             }
            },
            "type": "scatterternary"
           }
          ],
          "surface": [
           {
            "colorbar": {
             "outlinewidth": 0,
             "ticks": ""
            },
            "colorscale": [
             [
              0,
              "#0d0887"
             ],
             [
              0.1111111111111111,
              "#46039f"
             ],
             [
              0.2222222222222222,
              "#7201a8"
             ],
             [
              0.3333333333333333,
              "#9c179e"
             ],
             [
              0.4444444444444444,
              "#bd3786"
             ],
             [
              0.5555555555555556,
              "#d8576b"
             ],
             [
              0.6666666666666666,
              "#ed7953"
             ],
             [
              0.7777777777777778,
              "#fb9f3a"
             ],
             [
              0.8888888888888888,
              "#fdca26"
             ],
             [
              1,
              "#f0f921"
             ]
            ],
            "type": "surface"
           }
          ],
          "table": [
           {
            "cells": {
             "fill": {
              "color": "#EBF0F8"
             },
             "line": {
              "color": "white"
             }
            },
            "header": {
             "fill": {
              "color": "#C8D4E3"
             },
             "line": {
              "color": "white"
             }
            },
            "type": "table"
           }
          ]
         },
         "layout": {
          "annotationdefaults": {
           "arrowcolor": "#2a3f5f",
           "arrowhead": 0,
           "arrowwidth": 1
          },
          "autotypenumbers": "strict",
          "coloraxis": {
           "colorbar": {
            "outlinewidth": 0,
            "ticks": ""
           }
          },
          "colorscale": {
           "diverging": [
            [
             0,
             "#8e0152"
            ],
            [
             0.1,
             "#c51b7d"
            ],
            [
             0.2,
             "#de77ae"
            ],
            [
             0.3,
             "#f1b6da"
            ],
            [
             0.4,
             "#fde0ef"
            ],
            [
             0.5,
             "#f7f7f7"
            ],
            [
             0.6,
             "#e6f5d0"
            ],
            [
             0.7,
             "#b8e186"
            ],
            [
             0.8,
             "#7fbc41"
            ],
            [
             0.9,
             "#4d9221"
            ],
            [
             1,
             "#276419"
            ]
           ],
           "sequential": [
            [
             0,
             "#0d0887"
            ],
            [
             0.1111111111111111,
             "#46039f"
            ],
            [
             0.2222222222222222,
             "#7201a8"
            ],
            [
             0.3333333333333333,
             "#9c179e"
            ],
            [
             0.4444444444444444,
             "#bd3786"
            ],
            [
             0.5555555555555556,
             "#d8576b"
            ],
            [
             0.6666666666666666,
             "#ed7953"
            ],
            [
             0.7777777777777778,
             "#fb9f3a"
            ],
            [
             0.8888888888888888,
             "#fdca26"
            ],
            [
             1,
             "#f0f921"
            ]
           ],
           "sequentialminus": [
            [
             0,
             "#0d0887"
            ],
            [
             0.1111111111111111,
             "#46039f"
            ],
            [
             0.2222222222222222,
             "#7201a8"
            ],
            [
             0.3333333333333333,
             "#9c179e"
            ],
            [
             0.4444444444444444,
             "#bd3786"
            ],
            [
             0.5555555555555556,
             "#d8576b"
            ],
            [
             0.6666666666666666,
             "#ed7953"
            ],
            [
             0.7777777777777778,
             "#fb9f3a"
            ],
            [
             0.8888888888888888,
             "#fdca26"
            ],
            [
             1,
             "#f0f921"
            ]
           ]
          },
          "colorway": [
           "#636efa",
           "#EF553B",
           "#00cc96",
           "#ab63fa",
           "#FFA15A",
           "#19d3f3",
           "#FF6692",
           "#B6E880",
           "#FF97FF",
           "#FECB52"
          ],
          "font": {
           "color": "#2a3f5f"
          },
          "geo": {
           "bgcolor": "white",
           "lakecolor": "white",
           "landcolor": "#E5ECF6",
           "showlakes": true,
           "showland": true,
           "subunitcolor": "white"
          },
          "hoverlabel": {
           "align": "left"
          },
          "hovermode": "closest",
          "mapbox": {
           "style": "light"
          },
          "paper_bgcolor": "white",
          "plot_bgcolor": "#E5ECF6",
          "polar": {
           "angularaxis": {
            "gridcolor": "white",
            "linecolor": "white",
            "ticks": ""
           },
           "bgcolor": "#E5ECF6",
           "radialaxis": {
            "gridcolor": "white",
            "linecolor": "white",
            "ticks": ""
           }
          },
          "scene": {
           "xaxis": {
            "backgroundcolor": "#E5ECF6",
            "gridcolor": "white",
            "gridwidth": 2,
            "linecolor": "white",
            "showbackground": true,
            "ticks": "",
            "zerolinecolor": "white"
           },
           "yaxis": {
            "backgroundcolor": "#E5ECF6",
            "gridcolor": "white",
            "gridwidth": 2,
            "linecolor": "white",
            "showbackground": true,
            "ticks": "",
            "zerolinecolor": "white"
           },
           "zaxis": {
            "backgroundcolor": "#E5ECF6",
            "gridcolor": "white",
            "gridwidth": 2,
            "linecolor": "white",
            "showbackground": true,
            "ticks": "",
            "zerolinecolor": "white"
           }
          },
          "shapedefaults": {
           "line": {
            "color": "#2a3f5f"
           }
          },
          "ternary": {
           "aaxis": {
            "gridcolor": "white",
            "linecolor": "white",
            "ticks": ""
           },
           "baxis": {
            "gridcolor": "white",
            "linecolor": "white",
            "ticks": ""
           },
           "bgcolor": "#E5ECF6",
           "caxis": {
            "gridcolor": "white",
            "linecolor": "white",
            "ticks": ""
           }
          },
          "title": {
           "x": 0.05
          },
          "xaxis": {
           "automargin": true,
           "gridcolor": "white",
           "linecolor": "white",
           "ticks": "",
           "title": {
            "standoff": 15
           },
           "zerolinecolor": "white",
           "zerolinewidth": 2
          },
          "yaxis": {
           "automargin": true,
           "gridcolor": "white",
           "linecolor": "white",
           "ticks": "",
           "title": {
            "standoff": 15
           },
           "zerolinecolor": "white",
           "zerolinewidth": 2
          }
         }
        },
        "title": {
         "text": "Carte des lits SP",
         "x": 0.5
        }
       }
      }
     },
     "metadata": {},
     "output_type": "display_data"
    }
   ],
   "source": [
    "\n",
    "fig = px.scatter_mapbox(df,lat=\"lat\", lon=\"lon\",  hover_name=\"nom\", height=700,\n",
    "mapbox_style=\"open-street-map\",title='Carte des lits SP',zoom=4.5,color_continuous_scale=[\"red\",\"orange\",\"yellowgreen\",\"green\"])\n",
    "fig.update_layout(title_x=0.5)\n",
    "fig.show()"
   ]
  },
  {
   "cell_type": "markdown",
   "metadata": {},
   "source": [
    "INFOS DE PAGES PRECISES (ESSAIS)"
   ]
  }
 ],
 "metadata": {
  "kernelspec": {
   "display_name": "base",
   "language": "python",
   "name": "python3"
  },
  "language_info": {
   "codemirror_mode": {
    "name": "ipython",
    "version": 3
   },
   "file_extension": ".py",
   "mimetype": "text/x-python",
   "name": "python",
   "nbconvert_exporter": "python",
   "pygments_lexer": "ipython3",
   "version": "3.12.4"
  }
 },
 "nbformat": 4,
 "nbformat_minor": 2
}
