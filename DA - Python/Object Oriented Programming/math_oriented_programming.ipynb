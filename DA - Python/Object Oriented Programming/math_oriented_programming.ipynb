{
 "cells": [
  {
   "cell_type": "code",
   "execution_count": 93,
   "metadata": {},
   "outputs": [],
   "source": [
    "class Math():\n",
    "\n",
    "    # Create a method that will compute the square root of any number.\n",
    "    def sqrt(self,a):\n",
    "        try:\n",
    "            a = float(a)\n",
    "        except:\n",
    "            print(\"Merci de saisir un nombre valable\")\n",
    "        else:\n",
    "            print(f\"The square root of {a} is {(a)**(1/2)}\")\n",
    "\n",
    "    # Create a method that will calculate the average of any list of numbers.\n",
    "    def average(self, str):\n",
    "        \n",
    "        list_nb = str.split(\",\")\n",
    "\n",
    "        sum = 0\n",
    "        for i in list_nb:\n",
    "            sum += int(i)\n",
    "        \n",
    "        print(f\"The average of {str} is {sum/len(list_nb)}\")\n",
    "\n",
    "    # Create a method to find out if a number is even or odd.\n",
    "    def is_odd(self, a):\n",
    "        try:\n",
    "            a = int(a)\n",
    "        except:\n",
    "            print(\"Nombre non valide\")\n",
    "        else:\n",
    "            if (a%2 == 0):\n",
    "                print(f\"{a} is even\")\n",
    "            else:\n",
    "                print(f\"{a} is odd\")\n",
    "        \n",
    "    # Finally, create a method that will give the total sum of a list of numbers.\n",
    "    def sum_list(self, str):\n",
    "        \n",
    "        list_nb = str.split(\",\")\n",
    "\n",
    "        sum = 0\n",
    "        for i in list_nb:\n",
    "            sum += int(i)\n",
    "        \n",
    "        print(f\"The sum of {str} is {sum}\")"
   ]
  },
  {
   "cell_type": "code",
   "execution_count": 95,
   "metadata": {},
   "outputs": [
    {
     "name": "stdout",
     "output_type": "stream",
     "text": [
      "The square root of 0.0 is 0.0\n",
      "The average of 23,23 is 23.0\n",
      "0 is even\n",
      "Nombre non valide\n",
      "The sum of 0 is 0\n"
     ]
    }
   ],
   "source": [
    "m = Math()\n",
    "\n",
    "a = input(\"Racine carrée de :\")\n",
    "m.sqrt(a)\n",
    "\n",
    "str = input(\"Saisir liste des nombres à utiliser séparée par des virgules:\")\n",
    "m.average(str)\n",
    "\n",
    "a = input(\"Est-ce que ce nombre est pair ou impair ?\")\n",
    "m.is_odd(a)\n",
    "\n",
    "a = input(\"Est-ce que ce nombre est pair ou impair ?\")\n",
    "m.is_odd(a)\n",
    "\n",
    "str = input(\"Saisir liste de nombres à additionner :\")\n",
    "m.sum_list(str)\n"
   ]
  },
  {
   "cell_type": "code",
   "execution_count": null,
   "metadata": {},
   "outputs": [],
   "source": []
  }
 ],
 "metadata": {
  "kernelspec": {
   "display_name": "base",
   "language": "python",
   "name": "python3"
  },
  "language_info": {
   "codemirror_mode": {
    "name": "ipython",
    "version": 3
   },
   "file_extension": ".py",
   "mimetype": "text/x-python",
   "name": "python",
   "nbconvert_exporter": "python",
   "pygments_lexer": "ipython3",
   "version": "3.12.4"
  }
 },
 "nbformat": 4,
 "nbformat_minor": 2
}
