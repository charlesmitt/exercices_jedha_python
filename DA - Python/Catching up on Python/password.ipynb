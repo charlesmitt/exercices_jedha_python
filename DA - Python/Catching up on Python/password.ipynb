{
 "cells": [
  {
   "cell_type": "code",
   "execution_count": 16,
   "metadata": {},
   "outputs": [
    {
     "name": "stdout",
     "output_type": "stream",
     "text": [
      "Mot de passe incorrect\n",
      "Mot de passe incorrect\n",
      "Mot de passe correct, bravo \n"
     ]
    }
   ],
   "source": [
    "saisie = input(\"Entrez votre password\")\n",
    "pw = \"123456\"\n",
    "essais_restants = 3\n",
    "\n",
    "while(saisie!=pw):\n",
    "   \n",
    "    print(\"Mot de passe incorrect\")\n",
    "    essais_restants -=1\n",
    "    if(essais_restants==0):\n",
    "        print(\"3 essais infructueux\")\n",
    "        break\n",
    "    saisie = input(\"Entrez votre password\")\n",
    "\n",
    "else:\n",
    "    print(\"Mot de passe correct, bravo \")"
   ]
  },
  {
   "cell_type": "code",
   "execution_count": null,
   "metadata": {},
   "outputs": [],
   "source": []
  }
 ],
 "metadata": {
  "kernelspec": {
   "display_name": "base",
   "language": "python",
   "name": "python3"
  },
  "language_info": {
   "codemirror_mode": {
    "name": "ipython",
    "version": 3
   },
   "file_extension": ".py",
   "mimetype": "text/x-python",
   "name": "python",
   "nbconvert_exporter": "python",
   "pygments_lexer": "ipython3",
   "version": "3.12.4"
  }
 },
 "nbformat": 4,
 "nbformat_minor": 2
}
