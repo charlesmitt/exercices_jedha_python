{
 "cells": [
  {
   "cell_type": "code",
   "execution_count": 21,
   "metadata": {},
   "outputs": [],
   "source": [
    "class Question():\n",
    "    def __init__(self, i, q, a):\n",
    "        self.i = i\n",
    "        self.q = q\n",
    "        self.a = a\n",
    "    \n",
    "    def is_reponse_correcte(self, reponse_user):\n",
    "        return (self.a.lower() == reponse_user.lower())\n",
    "    \n",
    "    def afficher_question(self):\n",
    "        print(f\"Question {self.i} : {self.q}\")\n",
    "\n",
    "    def get_question(self):\n",
    "        return self.q\n",
    "    \n",
    "    def get_reponse(self):\n",
    "        return self.a"
   ]
  },
  {
   "cell_type": "code",
   "execution_count": 23,
   "metadata": {},
   "outputs": [],
   "source": [
    "\n",
    "dict_questions = {  \"Quel nombre y'a t'il entre 1 et 3?\": \"2\",\n",
    "                    \"Date de naissance de Michel ?\": \"1976\",\n",
    "                    \"Qui a inventé SpaceX ? \": \"Elon Musk\", \n",
    "                    \"Quelle heure est-il ? \": \"18h\",\n",
    "                    \"Comment dit-on pommes en anglais ?\":\"Apples\"\n",
    "                }\n",
    "\n",
    "questions = []\n",
    "for index, (question, reponse) in enumerate(dict_questions.items()):\n",
    "    questions.append(Question(index+1, question,reponse))\n"
   ]
  },
  {
   "cell_type": "code",
   "execution_count": null,
   "metadata": {},
   "outputs": [],
   "source": [
    "print(f\"Mon super quizz ({len(questions)} questions)\")\n",
    "print(\"------------------------------\")\n",
    "\n",
    "essais_restants = 3\n",
    "for q in questions:\n",
    "    if(essais_restants>0):\n",
    "        q.afficher_question()\n",
    "        reponse= input(f\"{q.get_question()} : Votre réponse:\")\n",
    "        while(not q.is_reponse_correcte(reponse)):\n",
    "            essais_restants -=1\n",
    "            print(f\"Nope, encore {essais_restants} essai(s)\")\n",
    "\n",
    "            if(essais_restants==0):\n",
    "                print(\"3 essais infructueux, game over\")\n",
    "                break\n",
    "            reponse = input(f\"Mauvaise réponse. {q.get_question()} : Votre réponse:\")\n",
    "        else:\n",
    "            print(f\"C'est juste, bravo, la réponse est {q.get_reponse()}\")\n",
    "\n",
    "if(essais_restants>0):\n",
    "    print(f\"Vous avez répondu correctement aux {len(questions)} questions du quizz, bravo !!!! \")\n"
   ]
  }
 ],
 "metadata": {
  "kernelspec": {
   "display_name": "base",
   "language": "python",
   "name": "python3"
  },
  "language_info": {
   "codemirror_mode": {
    "name": "ipython",
    "version": 3
   },
   "file_extension": ".py",
   "mimetype": "text/x-python",
   "name": "python",
   "nbconvert_exporter": "python",
   "pygments_lexer": "ipython3",
   "version": "3.12.4"
  }
 },
 "nbformat": 4,
 "nbformat_minor": 2
}
