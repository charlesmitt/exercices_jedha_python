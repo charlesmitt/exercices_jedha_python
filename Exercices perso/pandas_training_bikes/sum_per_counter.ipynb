{
 "cells": [
  {
   "cell_type": "code",
   "execution_count": 2,
   "metadata": {},
   "outputs": [],
   "source": [
    "import pandas as pd\n",
    "\n",
    "path_to_file = 'c:\\\\Users\\\\Admin\\\\Desktop\\\\introduction_to_python\\\\pandas_training_bikes'\n",
    "\n",
    "\n",
    "data = pd.read_csv( \"comptage-velo-donnees-compteurs.csv\", sep=\";\")\n",
    "#data.head()"
   ]
  },
  {
   "cell_type": "code",
   "execution_count": 3,
   "metadata": {},
   "outputs": [],
   "source": [
    "list_of_counters = data[\"Nom du site de comptage\"].unique()"
   ]
  },
  {
   "cell_type": "code",
   "execution_count": 4,
   "metadata": {},
   "outputs": [],
   "source": [
    "#print((list_of_counters))\n",
    "bikes_per_counter = {}\n",
    "for i in (list_of_counters):\n",
    "    mask = data[\"Nom du site de comptage\"]==i\n",
    "    nb_bikes=data[mask][\"Comptage horaire\"].sum()\n",
    "    bikes_per_counter[i]=nb_bikes"
   ]
  },
  {
   "cell_type": "code",
   "execution_count": 8,
   "metadata": {},
   "outputs": [
    {
     "data": {
      "text/plain": [
       "{'97 avenue Denfert Rochereau': 58522,\n",
       " '106 avenue Denfert Rochereau': 0,\n",
       " '135 avenue Daumesnil': 50658,\n",
       " '28 boulevard Diderot': 58617,\n",
       " '39 quai François Mauriac': 102213,\n",
       " \"18 quai de l'Hôtel de Ville\": 50331,\n",
       " '27 boulevard Diderot': 43404,\n",
       " 'Voie Georges Pompidou': 92955,\n",
       " '67 boulevard Voltaire': 118111,\n",
       " '10 avenue de la Grande Armée': 30019,\n",
       " '7 avenue de la Grande Armée': 36694,\n",
       " '72 boulevard Voltaire': 106673,\n",
       " '89 boulevard de Magenta': 165514,\n",
       " '16 avenue de la Porte des Ternes': 17386,\n",
       " 'Pont du Garigliano': 92085,\n",
       " '102 boulevard de Magenta': 168153,\n",
       " 'Face au 16 avenue de la  Porte des Ternes': 1952,\n",
       " '21 boulevard Auguste Blanqui': 27862,\n",
       " '72 boulevard Richard Lenoir': 106254,\n",
       " 'Pont National': 96876,\n",
       " 'Face au 48 quai de la marne': 147394,\n",
       " '77 boulevard Richard Lenoir': 88411,\n",
       " \"Face 104 rue d'Aubervilliers\": 83199,\n",
       " 'Face au 70 quai de Bercy': 63727,\n",
       " '6 rue Julia Bartet': 82895,\n",
       " \"Face au 25 quai de l'Oise\": 85843,\n",
       " '35 boulevard de Ménilmontant': 138229,\n",
       " '152 boulevard du Montparnasse': 79529,\n",
       " '10 boulevard Auguste Blanqui': 32803,\n",
       " '243 boulevard Saint Germain': 60019,\n",
       " 'Totem 64 Rue de Rivoli': 326039,\n",
       " '87 avenue de Flandre': 81363,\n",
       " '72 avenue de Flandre': 71629,\n",
       " '44 avenue des Champs Elysées': 66951,\n",
       " \"180 avenue d'Italie\": 34532,\n",
       " '129 rue Lecourbe': 21367,\n",
       " \"147 avenue d'Italie\": 37419,\n",
       " '33 avenue des Champs Elysées': 75993,\n",
       " '132 rue Lecourbe': 43306,\n",
       " 'Pont de la Concorde': 176934,\n",
       " 'Pont des Invalides': 69743,\n",
       " 'Face au 8 avenue de la porte de Charenton': 5526,\n",
       " 'Face au 4 avenue de la porte de Bagnolet': 61133,\n",
       " 'Pont Charles De Gaulle': 76146,\n",
       " '36 quai de Grenelle': 124980,\n",
       " \"Face au 40 quai D'Issy\": 38297,\n",
       " 'Pont de Bercy': 81547,\n",
       " '38 rue Turbigo': 211405,\n",
       " \"Quai d'Orsay\": 238804,\n",
       " '27 quai de la Tournelle': 195866,\n",
       " \"Totem 85 quai d'Austerlitz\": 149861,\n",
       " 'Totem Cours la Reine': 58134,\n",
       " 'Totem 73 boulevard de Sébastopol': 435167,\n",
       " 'Quai des Tuileries': 68443,\n",
       " '9 boulevard Jourdan': 13230,\n",
       " '24 boulevard Jourdan': 7237,\n",
       " '27 boulevard Davout': 18259,\n",
       " '42 boulevard Soult': 77642,\n",
       " '51 boulevard du Général Martial Valin': 44136,\n",
       " '56 boulevard Kellermann': 42977,\n",
       " '72 boulevard Brune': 36507,\n",
       " '77 boulevard Masséna': 66098,\n",
       " '81 boulevard Mortier': 39613,\n",
       " '98 boulevard Poniatowski': 76765,\n",
       " '163 boulevard Brune': 53405,\n",
       " 'Face au 49 boulevard du Général Martial Valin': 40251}"
      ]
     },
     "execution_count": 8,
     "metadata": {},
     "output_type": "execute_result"
    }
   ],
   "source": [
    "bikes_per_counter"
   ]
  },
  {
   "cell_type": "code",
   "execution_count": 9,
   "metadata": {},
   "outputs": [],
   "source": [
    "cols = [\"compteur\", \"total_velos\"]\n",
    "\n",
    "data_bikes = pd.DataFrame.from_dict(bikes_per_counter, orient='index', columns=[\"total_velos\"])"
   ]
  },
  {
   "cell_type": "code",
   "execution_count": 10,
   "metadata": {},
   "outputs": [
    {
     "ename": "KeyError",
     "evalue": "''",
     "output_type": "error",
     "traceback": [
      "\u001b[1;31m---------------------------------------------------------------------------\u001b[0m",
      "\u001b[1;31mKeyError\u001b[0m                                  Traceback (most recent call last)",
      "File \u001b[1;32mc:\\Users\\Admin\\anaconda3\\Lib\\site-packages\\pandas\\core\\indexes\\base.py:3805\u001b[0m, in \u001b[0;36mIndex.get_loc\u001b[1;34m(self, key)\u001b[0m\n\u001b[0;32m   3804\u001b[0m \u001b[38;5;28;01mtry\u001b[39;00m:\n\u001b[1;32m-> 3805\u001b[0m     \u001b[38;5;28;01mreturn\u001b[39;00m \u001b[38;5;28;43mself\u001b[39;49m\u001b[38;5;241;43m.\u001b[39;49m\u001b[43m_engine\u001b[49m\u001b[38;5;241;43m.\u001b[39;49m\u001b[43mget_loc\u001b[49m\u001b[43m(\u001b[49m\u001b[43mcasted_key\u001b[49m\u001b[43m)\u001b[49m\n\u001b[0;32m   3806\u001b[0m \u001b[38;5;28;01mexcept\u001b[39;00m \u001b[38;5;167;01mKeyError\u001b[39;00m \u001b[38;5;28;01mas\u001b[39;00m err:\n",
      "File \u001b[1;32mindex.pyx:167\u001b[0m, in \u001b[0;36mpandas._libs.index.IndexEngine.get_loc\u001b[1;34m()\u001b[0m\n",
      "File \u001b[1;32mindex.pyx:196\u001b[0m, in \u001b[0;36mpandas._libs.index.IndexEngine.get_loc\u001b[1;34m()\u001b[0m\n",
      "File \u001b[1;32mpandas\\\\_libs\\\\hashtable_class_helper.pxi:7081\u001b[0m, in \u001b[0;36mpandas._libs.hashtable.PyObjectHashTable.get_item\u001b[1;34m()\u001b[0m\n",
      "File \u001b[1;32mpandas\\\\_libs\\\\hashtable_class_helper.pxi:7089\u001b[0m, in \u001b[0;36mpandas._libs.hashtable.PyObjectHashTable.get_item\u001b[1;34m()\u001b[0m\n",
      "\u001b[1;31mKeyError\u001b[0m: ''",
      "\nThe above exception was the direct cause of the following exception:\n",
      "\u001b[1;31mKeyError\u001b[0m                                  Traceback (most recent call last)",
      "Cell \u001b[1;32mIn[10], line 1\u001b[0m\n\u001b[1;32m----> 1\u001b[0m \u001b[43mdata_bikes\u001b[49m\u001b[43m[\u001b[49m\u001b[38;5;124;43m\"\u001b[39;49m\u001b[38;5;124;43m\"\u001b[39;49m\u001b[43m]\u001b[49m\n",
      "File \u001b[1;32mc:\\Users\\Admin\\anaconda3\\Lib\\site-packages\\pandas\\core\\frame.py:4102\u001b[0m, in \u001b[0;36mDataFrame.__getitem__\u001b[1;34m(self, key)\u001b[0m\n\u001b[0;32m   4100\u001b[0m \u001b[38;5;28;01mif\u001b[39;00m \u001b[38;5;28mself\u001b[39m\u001b[38;5;241m.\u001b[39mcolumns\u001b[38;5;241m.\u001b[39mnlevels \u001b[38;5;241m>\u001b[39m \u001b[38;5;241m1\u001b[39m:\n\u001b[0;32m   4101\u001b[0m     \u001b[38;5;28;01mreturn\u001b[39;00m \u001b[38;5;28mself\u001b[39m\u001b[38;5;241m.\u001b[39m_getitem_multilevel(key)\n\u001b[1;32m-> 4102\u001b[0m indexer \u001b[38;5;241m=\u001b[39m \u001b[38;5;28;43mself\u001b[39;49m\u001b[38;5;241;43m.\u001b[39;49m\u001b[43mcolumns\u001b[49m\u001b[38;5;241;43m.\u001b[39;49m\u001b[43mget_loc\u001b[49m\u001b[43m(\u001b[49m\u001b[43mkey\u001b[49m\u001b[43m)\u001b[49m\n\u001b[0;32m   4103\u001b[0m \u001b[38;5;28;01mif\u001b[39;00m is_integer(indexer):\n\u001b[0;32m   4104\u001b[0m     indexer \u001b[38;5;241m=\u001b[39m [indexer]\n",
      "File \u001b[1;32mc:\\Users\\Admin\\anaconda3\\Lib\\site-packages\\pandas\\core\\indexes\\base.py:3812\u001b[0m, in \u001b[0;36mIndex.get_loc\u001b[1;34m(self, key)\u001b[0m\n\u001b[0;32m   3807\u001b[0m     \u001b[38;5;28;01mif\u001b[39;00m \u001b[38;5;28misinstance\u001b[39m(casted_key, \u001b[38;5;28mslice\u001b[39m) \u001b[38;5;129;01mor\u001b[39;00m (\n\u001b[0;32m   3808\u001b[0m         \u001b[38;5;28misinstance\u001b[39m(casted_key, abc\u001b[38;5;241m.\u001b[39mIterable)\n\u001b[0;32m   3809\u001b[0m         \u001b[38;5;129;01mand\u001b[39;00m \u001b[38;5;28many\u001b[39m(\u001b[38;5;28misinstance\u001b[39m(x, \u001b[38;5;28mslice\u001b[39m) \u001b[38;5;28;01mfor\u001b[39;00m x \u001b[38;5;129;01min\u001b[39;00m casted_key)\n\u001b[0;32m   3810\u001b[0m     ):\n\u001b[0;32m   3811\u001b[0m         \u001b[38;5;28;01mraise\u001b[39;00m InvalidIndexError(key)\n\u001b[1;32m-> 3812\u001b[0m     \u001b[38;5;28;01mraise\u001b[39;00m \u001b[38;5;167;01mKeyError\u001b[39;00m(key) \u001b[38;5;28;01mfrom\u001b[39;00m \u001b[38;5;21;01merr\u001b[39;00m\n\u001b[0;32m   3813\u001b[0m \u001b[38;5;28;01mexcept\u001b[39;00m \u001b[38;5;167;01mTypeError\u001b[39;00m:\n\u001b[0;32m   3814\u001b[0m     \u001b[38;5;66;03m# If we have a listlike key, _check_indexing_error will raise\u001b[39;00m\n\u001b[0;32m   3815\u001b[0m     \u001b[38;5;66;03m#  InvalidIndexError. Otherwise we fall through and re-raise\u001b[39;00m\n\u001b[0;32m   3816\u001b[0m     \u001b[38;5;66;03m#  the TypeError.\u001b[39;00m\n\u001b[0;32m   3817\u001b[0m     \u001b[38;5;28mself\u001b[39m\u001b[38;5;241m.\u001b[39m_check_indexing_error(key)\n",
      "\u001b[1;31mKeyError\u001b[0m: ''"
     ]
    }
   ],
   "source": [
    "data_bikes[\"\"]"
   ]
  },
  {
   "cell_type": "code",
   "execution_count": null,
   "metadata": {},
   "outputs": [],
   "source": []
  }
 ],
 "metadata": {
  "kernelspec": {
   "display_name": "base",
   "language": "python",
   "name": "python3"
  },
  "language_info": {
   "codemirror_mode": {
    "name": "ipython",
    "version": 3
   },
   "file_extension": ".py",
   "mimetype": "text/x-python",
   "name": "python",
   "nbconvert_exporter": "python",
   "pygments_lexer": "ipython3",
   "version": "3.12.4"
  }
 },
 "nbformat": 4,
 "nbformat_minor": 2
}
