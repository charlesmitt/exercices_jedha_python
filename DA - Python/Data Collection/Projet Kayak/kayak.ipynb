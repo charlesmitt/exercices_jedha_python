{
 "cells": [
  {
   "cell_type": "code",
   "execution_count": null,
   "metadata": {},
   "outputs": [],
   "source": [
    "import requests\n",
    "import pandas as pd\n",
    "\n",
    "liste_villes = [\"Mont Saint Michel\",\"St Malo\",\"Bayeux\",\"Le Havre\",\"Rouen\",\"Paris\",\"Amiens\",\"Lille\",\"Strasbourg\",\n",
    "\"Chateau du Haut Koenigsbourg\",\"Colmar\",\"Eguisheim\",\"Besancon\",\"Dijon\",\"Annecy\",\"Grenoble\",\"Lyon\",\"Gorges du Verdon\",\n",
    "\"Bormes les Mimosas\",\"Cassis\",\"Marseille\",\"Aix en Provence\",\"Avignon\",\"Uzes\",\"Nimes\",\"Aigues Mortes\",\"Saintes Maries de la mer\",\n",
    "\"Collioure\",\"Carcassonne\",\"Ariege\",\"Toulouse\",\"Montauban\",\"Biarritz\",\"Bayonne\",\"La Rochelle\"]\n"
   ]
  },
  {
   "cell_type": "markdown",
   "metadata": {},
   "source": [
    "COORDONNEES D'UNE SEULE VILLE"
   ]
  },
  {
   "cell_type": "code",
   "execution_count": 113,
   "metadata": {},
   "outputs": [],
   "source": [
    "# ESSAI MANUEL POUR UNE SEULE VILLE \n",
    "\n",
    "url = \"https://nominatim.openstreetmap.org/search?\"\n",
    "headers = {\"accept\": \"application/json\", 'user_agent':'charles.mittempergher@gmail.com'}\n",
    "p = {'city' : 'Toulouse', 'country':'France', 'format':'json', 'limit':1}\n",
    "\n",
    "response = requests.get(url, headers=headers, params=p)"
   ]
  },
  {
   "cell_type": "markdown",
   "metadata": {},
   "source": [
    "BOUCLE POUR LES COORDONNEES TOUTES LES VILLES"
   ]
  },
  {
   "cell_type": "code",
   "execution_count": null,
   "metadata": {},
   "outputs": [],
   "source": [
    "# RECUPERATION DES DONNEES POUR TOUTE LA LISTE DES VILLES\n",
    "url = \"https://nominatim.openstreetmap.org/search?\"\n",
    "headers = {'user_agent':'charles.mittempergher@gmail.com'}\n",
    "\n",
    "df_villes = pd.DataFrame(columns=['ville','lat','lon'])\n",
    "\n",
    "for i in range(len(liste_villes)):\n",
    "    \n",
    "    p = {'city' : {liste_villes[i]}, 'country':'France', 'format':'json', 'limit':1}\n",
    "\n",
    "    r = requests.get(url, headers=headers, params=p)\n",
    "    ville = r.json()[0]['name']\n",
    "    lat   = r.json()[0]['lat']\n",
    "    lon   = r.json()[0]['lon']\n",
    "\n",
    "    df_villes.loc[i] = [ville, lat,lon]\n",
    "    print(f'Ajout de {liste_villes[i]} effectué')"
   ]
  },
  {
   "cell_type": "code",
   "execution_count": 411,
   "metadata": {},
   "outputs": [
    {
     "data": {
      "text/html": [
       "<div>\n",
       "<style scoped>\n",
       "    .dataframe tbody tr th:only-of-type {\n",
       "        vertical-align: middle;\n",
       "    }\n",
       "\n",
       "    .dataframe tbody tr th {\n",
       "        vertical-align: top;\n",
       "    }\n",
       "\n",
       "    .dataframe thead th {\n",
       "        text-align: right;\n",
       "    }\n",
       "</style>\n",
       "<table border=\"1\" class=\"dataframe\">\n",
       "  <thead>\n",
       "    <tr style=\"text-align: right;\">\n",
       "      <th></th>\n",
       "      <th>ville</th>\n",
       "      <th>lat</th>\n",
       "      <th>lon</th>\n",
       "    </tr>\n",
       "  </thead>\n",
       "  <tbody>\n",
       "    <tr>\n",
       "      <th>0</th>\n",
       "      <td>Mont Saint-Michel</td>\n",
       "      <td>48.6359541</td>\n",
       "      <td>-1.511459954959514</td>\n",
       "    </tr>\n",
       "    <tr>\n",
       "      <th>1</th>\n",
       "      <td>Saint-Malo</td>\n",
       "      <td>48.649518</td>\n",
       "      <td>-2.0260409</td>\n",
       "    </tr>\n",
       "    <tr>\n",
       "      <th>2</th>\n",
       "      <td>Bayeux</td>\n",
       "      <td>49.2764624</td>\n",
       "      <td>-0.7024738</td>\n",
       "    </tr>\n",
       "    <tr>\n",
       "      <th>3</th>\n",
       "      <td>Le Havre</td>\n",
       "      <td>49.4938975</td>\n",
       "      <td>0.1079732</td>\n",
       "    </tr>\n",
       "    <tr>\n",
       "      <th>4</th>\n",
       "      <td>Rouen</td>\n",
       "      <td>49.4404591</td>\n",
       "      <td>1.0939658</td>\n",
       "    </tr>\n",
       "  </tbody>\n",
       "</table>\n",
       "</div>"
      ],
      "text/plain": [
       "               ville         lat                 lon\n",
       "0  Mont Saint-Michel  48.6359541  -1.511459954959514\n",
       "1         Saint-Malo   48.649518          -2.0260409\n",
       "2             Bayeux  49.2764624          -0.7024738\n",
       "3           Le Havre  49.4938975           0.1079732\n",
       "4              Rouen  49.4404591           1.0939658"
      ]
     },
     "execution_count": 411,
     "metadata": {},
     "output_type": "execute_result"
    }
   ],
   "source": [
    "df_villes.head()"
   ]
  },
  {
   "cell_type": "markdown",
   "metadata": {},
   "source": [
    " DEBUT DE LA PARTIE AVEC OPENWEATHER"
   ]
  },
  {
   "cell_type": "code",
   "execution_count": null,
   "metadata": {},
   "outputs": [],
   "source": [
    "url_ow = \"https://api.openweathermap.org/data/2.5/forecast?\"\n",
    "\n",
    "lat = 43.2961743\n",
    "lon = 5.3699525\n",
    "p = {'lat' : lat, 'lon' : lon, 'units':'metric', 'appid' : 'mykey'}\n",
    "response = requests.get(url_ow, params=p)\n"
   ]
  },
  {
   "cell_type": "code",
   "execution_count": null,
   "metadata": {},
   "outputs": [],
   "source": [
    "response.json().get('list')"
   ]
  },
  {
   "cell_type": "markdown",
   "metadata": {},
   "source": [
    "CREATION DU DATAFRAME AVEC LES PREVISIONS METEO POUR UNE SEULE VILLE"
   ]
  },
  {
   "cell_type": "code",
   "execution_count": 413,
   "metadata": {},
   "outputs": [],
   "source": [
    "liste_previsions_une_ville = response.json().get('list')\n",
    "\n",
    "len(liste_previsions_une_ville)\n",
    "df_prevision_une_ville = pd.DataFrame(columns=['Ville','date','heure','Part_of_day', 'temp','ressenti','min','max','id_type_temps','type_temps','couv_nuageuse','vent','prob_pluie','pluie'])\n",
    "for i in range(len(liste_previsions_une_ville)):\n",
    "    \n",
    "    ville = 'Marseille'\n",
    "    dt_text= liste_previsions_une_ville[i]['dt_txt']\n",
    "    date = dt_text.split(\" \")[0]\n",
    "    heure= dt_text.split(\" \")[1]\n",
    "    temp=liste_previsions_une_ville[i]['main']['temp']\n",
    "    ressenti=liste_previsions_une_ville[i]['main']['feels_like']\n",
    "    min=liste_previsions_une_ville[i]['main']['temp_min']\n",
    "    max=liste_previsions_une_ville[i]['main']['temp_max']\n",
    "    id_type_temps=liste_previsions_une_ville[i]['weather'][0]['id']\n",
    "    type_temps=liste_previsions_une_ville[i]['weather'][0]['main']\n",
    "    couv_nuageuse=liste_previsions_une_ville[i]['clouds']['all']\n",
    "    vent=liste_previsions_une_ville[i]['wind']['speed']\n",
    "    prob_pluie=liste_previsions_une_ville[i]['pop']\n",
    "    pluie = 0\n",
    "    if 'rain' in liste_previsions_une_ville[i].keys():\n",
    "        pluie = liste_previsions_une_ville[i]['rain']['3h']\n",
    "    pod = liste_previsions_une_ville[i]['sys']['pod']\n",
    "\n",
    "    df_prevision_une_ville.loc[i] = [ville,date,heure,pod,temp,ressenti,min,max,id_type_temps,type_temps,couv_nuageuse,vent,prob_pluie,pluie]"
   ]
  },
  {
   "cell_type": "code",
   "execution_count": 414,
   "metadata": {},
   "outputs": [
    {
     "data": {
      "text/html": [
       "<div>\n",
       "<style scoped>\n",
       "    .dataframe tbody tr th:only-of-type {\n",
       "        vertical-align: middle;\n",
       "    }\n",
       "\n",
       "    .dataframe tbody tr th {\n",
       "        vertical-align: top;\n",
       "    }\n",
       "\n",
       "    .dataframe thead th {\n",
       "        text-align: right;\n",
       "    }\n",
       "</style>\n",
       "<table border=\"1\" class=\"dataframe\">\n",
       "  <thead>\n",
       "    <tr style=\"text-align: right;\">\n",
       "      <th></th>\n",
       "      <th>Ville</th>\n",
       "      <th>date</th>\n",
       "      <th>heure</th>\n",
       "      <th>Part_of_day</th>\n",
       "      <th>temp</th>\n",
       "      <th>ressenti</th>\n",
       "      <th>min</th>\n",
       "      <th>max</th>\n",
       "      <th>id_type_temps</th>\n",
       "      <th>type_temps</th>\n",
       "      <th>couv_nuageuse</th>\n",
       "      <th>vent</th>\n",
       "      <th>prob_pluie</th>\n",
       "      <th>pluie</th>\n",
       "    </tr>\n",
       "  </thead>\n",
       "  <tbody>\n",
       "    <tr>\n",
       "      <th>0</th>\n",
       "      <td>Marseille</td>\n",
       "      <td>2024-11-14</td>\n",
       "      <td>18:00:00</td>\n",
       "      <td>n</td>\n",
       "      <td>12.04</td>\n",
       "      <td>11.10</td>\n",
       "      <td>10.24</td>\n",
       "      <td>12.04</td>\n",
       "      <td>802</td>\n",
       "      <td>Clouds</td>\n",
       "      <td>33</td>\n",
       "      <td>8.04</td>\n",
       "      <td>0.0</td>\n",
       "      <td>0.0</td>\n",
       "    </tr>\n",
       "    <tr>\n",
       "      <th>1</th>\n",
       "      <td>Marseille</td>\n",
       "      <td>2024-11-14</td>\n",
       "      <td>21:00:00</td>\n",
       "      <td>n</td>\n",
       "      <td>10.65</td>\n",
       "      <td>9.76</td>\n",
       "      <td>9.51</td>\n",
       "      <td>10.65</td>\n",
       "      <td>800</td>\n",
       "      <td>Clear</td>\n",
       "      <td>10</td>\n",
       "      <td>8.12</td>\n",
       "      <td>0.0</td>\n",
       "      <td>0.0</td>\n",
       "    </tr>\n",
       "    <tr>\n",
       "      <th>2</th>\n",
       "      <td>Marseille</td>\n",
       "      <td>2024-11-15</td>\n",
       "      <td>00:00:00</td>\n",
       "      <td>n</td>\n",
       "      <td>8.83</td>\n",
       "      <td>5.34</td>\n",
       "      <td>8.83</td>\n",
       "      <td>8.83</td>\n",
       "      <td>800</td>\n",
       "      <td>Clear</td>\n",
       "      <td>7</td>\n",
       "      <td>7.31</td>\n",
       "      <td>0.0</td>\n",
       "      <td>0.0</td>\n",
       "    </tr>\n",
       "    <tr>\n",
       "      <th>3</th>\n",
       "      <td>Marseille</td>\n",
       "      <td>2024-11-15</td>\n",
       "      <td>03:00:00</td>\n",
       "      <td>n</td>\n",
       "      <td>8.37</td>\n",
       "      <td>4.60</td>\n",
       "      <td>8.37</td>\n",
       "      <td>8.37</td>\n",
       "      <td>800</td>\n",
       "      <td>Clear</td>\n",
       "      <td>1</td>\n",
       "      <td>7.82</td>\n",
       "      <td>0.0</td>\n",
       "      <td>0.0</td>\n",
       "    </tr>\n",
       "    <tr>\n",
       "      <th>4</th>\n",
       "      <td>Marseille</td>\n",
       "      <td>2024-11-15</td>\n",
       "      <td>06:00:00</td>\n",
       "      <td>n</td>\n",
       "      <td>8.01</td>\n",
       "      <td>4.14</td>\n",
       "      <td>8.01</td>\n",
       "      <td>8.01</td>\n",
       "      <td>800</td>\n",
       "      <td>Clear</td>\n",
       "      <td>1</td>\n",
       "      <td>7.81</td>\n",
       "      <td>0.0</td>\n",
       "      <td>0.0</td>\n",
       "    </tr>\n",
       "  </tbody>\n",
       "</table>\n",
       "</div>"
      ],
      "text/plain": [
       "       Ville        date     heure Part_of_day   temp  ressenti    min    max  \\\n",
       "0  Marseille  2024-11-14  18:00:00           n  12.04     11.10  10.24  12.04   \n",
       "1  Marseille  2024-11-14  21:00:00           n  10.65      9.76   9.51  10.65   \n",
       "2  Marseille  2024-11-15  00:00:00           n   8.83      5.34   8.83   8.83   \n",
       "3  Marseille  2024-11-15  03:00:00           n   8.37      4.60   8.37   8.37   \n",
       "4  Marseille  2024-11-15  06:00:00           n   8.01      4.14   8.01   8.01   \n",
       "\n",
       "   id_type_temps type_temps  couv_nuageuse  vent  prob_pluie  pluie  \n",
       "0            802     Clouds             33  8.04         0.0    0.0  \n",
       "1            800      Clear             10  8.12         0.0    0.0  \n",
       "2            800      Clear              7  7.31         0.0    0.0  \n",
       "3            800      Clear              1  7.82         0.0    0.0  \n",
       "4            800      Clear              1  7.81         0.0    0.0  "
      ]
     },
     "execution_count": 414,
     "metadata": {},
     "output_type": "execute_result"
    }
   ],
   "source": [
    "df_prevision_une_ville.head()"
   ]
  },
  {
   "cell_type": "markdown",
   "metadata": {},
   "source": [
    "MEME VILLE MAIS AVEC MOINS DE CHAMPS RECUPERES"
   ]
  },
  {
   "cell_type": "code",
   "execution_count": null,
   "metadata": {},
   "outputs": [],
   "source": [
    "liste_previsions_une_ville_final = response.json().get('list')\n",
    "\n",
    "len(liste_previsions_une_ville_final)\n",
    "df_prevision_une_ville_final = pd.DataFrame(columns=['Ville','date','heure','Part_of_day', 'temp','id_type_temps','type_temps','couv_nuageuse','vent','prob_pluie','pluie'])\n",
    "for i in range(len(liste_previsions_une_ville_final)):\n",
    "    \n",
    "    ville = 'Marseille bébé'\n",
    "    dt_text= liste_previsions_une_ville_final[i]['dt_txt']\n",
    "    date = dt_text.split(\" \")[0]\n",
    "    heure= dt_text.split(\" \")[1]\n",
    "    temp=liste_previsions_une_ville_final[i]['main']['temp']\n",
    "    id_type_temps=liste_previsions_une_ville_final[i]['weather'][0]['id']\n",
    "    type_temps=liste_previsions_une_ville_final[i]['weather'][0]['main']\n",
    "    couv_nuageuse=liste_previsions_une_ville_final[i]['clouds']['all']\n",
    "    vent=liste_previsions_une_ville_final[i]['wind']['speed']\n",
    "    prob_pluie=liste_previsions_une_ville_final[i]['pop']\n",
    "    pluie = 0\n",
    "    if 'rain' in liste_previsions_une_ville_final[i].keys():\n",
    "        pluie = liste_previsions_une_ville_final[i]['rain']['3h']\n",
    "    pod = liste_previsions_une_ville_final[i]['sys']['pod']\n",
    "\n",
    "    df_prevision_une_ville_final.loc[i] = [ville,date,heure,pod,temp,id_type_temps,type_temps,couv_nuageuse,vent,prob_pluie,pluie]"
   ]
  },
  {
   "cell_type": "code",
   "execution_count": 204,
   "metadata": {},
   "outputs": [
    {
     "data": {
      "text/html": [
       "<div>\n",
       "<style scoped>\n",
       "    .dataframe tbody tr th:only-of-type {\n",
       "        vertical-align: middle;\n",
       "    }\n",
       "\n",
       "    .dataframe tbody tr th {\n",
       "        vertical-align: top;\n",
       "    }\n",
       "\n",
       "    .dataframe thead th {\n",
       "        text-align: right;\n",
       "    }\n",
       "</style>\n",
       "<table border=\"1\" class=\"dataframe\">\n",
       "  <thead>\n",
       "    <tr style=\"text-align: right;\">\n",
       "      <th></th>\n",
       "      <th>Ville</th>\n",
       "      <th>date</th>\n",
       "      <th>heure</th>\n",
       "      <th>Part_of_day</th>\n",
       "      <th>temp</th>\n",
       "      <th>id_type_temps</th>\n",
       "      <th>type_temps</th>\n",
       "      <th>couv_nuageuse</th>\n",
       "      <th>vent</th>\n",
       "      <th>prob_pluie</th>\n",
       "      <th>pluie</th>\n",
       "    </tr>\n",
       "  </thead>\n",
       "  <tbody>\n",
       "    <tr>\n",
       "      <th>0</th>\n",
       "      <td>Marseille bébé</td>\n",
       "      <td>2024-11-14</td>\n",
       "      <td>15:00:00</td>\n",
       "      <td>d</td>\n",
       "      <td>15.81</td>\n",
       "      <td>800</td>\n",
       "      <td>Clear</td>\n",
       "      <td>4</td>\n",
       "      <td>1.94</td>\n",
       "      <td>0</td>\n",
       "      <td>0</td>\n",
       "    </tr>\n",
       "    <tr>\n",
       "      <th>1</th>\n",
       "      <td>Marseille bébé</td>\n",
       "      <td>2024-11-14</td>\n",
       "      <td>18:00:00</td>\n",
       "      <td>n</td>\n",
       "      <td>15.10</td>\n",
       "      <td>800</td>\n",
       "      <td>Clear</td>\n",
       "      <td>7</td>\n",
       "      <td>2.34</td>\n",
       "      <td>0</td>\n",
       "      <td>0</td>\n",
       "    </tr>\n",
       "    <tr>\n",
       "      <th>2</th>\n",
       "      <td>Marseille bébé</td>\n",
       "      <td>2024-11-14</td>\n",
       "      <td>21:00:00</td>\n",
       "      <td>n</td>\n",
       "      <td>13.92</td>\n",
       "      <td>800</td>\n",
       "      <td>Clear</td>\n",
       "      <td>7</td>\n",
       "      <td>0.83</td>\n",
       "      <td>0</td>\n",
       "      <td>0</td>\n",
       "    </tr>\n",
       "    <tr>\n",
       "      <th>3</th>\n",
       "      <td>Marseille bébé</td>\n",
       "      <td>2024-11-15</td>\n",
       "      <td>00:00:00</td>\n",
       "      <td>n</td>\n",
       "      <td>13.50</td>\n",
       "      <td>800</td>\n",
       "      <td>Clear</td>\n",
       "      <td>3</td>\n",
       "      <td>0.44</td>\n",
       "      <td>0</td>\n",
       "      <td>0</td>\n",
       "    </tr>\n",
       "    <tr>\n",
       "      <th>4</th>\n",
       "      <td>Marseille bébé</td>\n",
       "      <td>2024-11-15</td>\n",
       "      <td>03:00:00</td>\n",
       "      <td>n</td>\n",
       "      <td>13.00</td>\n",
       "      <td>800</td>\n",
       "      <td>Clear</td>\n",
       "      <td>0</td>\n",
       "      <td>0.24</td>\n",
       "      <td>0</td>\n",
       "      <td>0</td>\n",
       "    </tr>\n",
       "  </tbody>\n",
       "</table>\n",
       "</div>"
      ],
      "text/plain": [
       "            Ville        date     heure Part_of_day   temp  id_type_temps  \\\n",
       "0  Marseille bébé  2024-11-14  15:00:00           d  15.81            800   \n",
       "1  Marseille bébé  2024-11-14  18:00:00           n  15.10            800   \n",
       "2  Marseille bébé  2024-11-14  21:00:00           n  13.92            800   \n",
       "3  Marseille bébé  2024-11-15  00:00:00           n  13.50            800   \n",
       "4  Marseille bébé  2024-11-15  03:00:00           n  13.00            800   \n",
       "\n",
       "  type_temps  couv_nuageuse  vent  prob_pluie  pluie  \n",
       "0      Clear              4  1.94           0      0  \n",
       "1      Clear              7  2.34           0      0  \n",
       "2      Clear              7  0.83           0      0  \n",
       "3      Clear              3  0.44           0      0  \n",
       "4      Clear              0  0.24           0      0  "
      ]
     },
     "execution_count": 204,
     "metadata": {},
     "output_type": "execute_result"
    }
   ],
   "source": [
    "df_prevision_une_ville_final.head()"
   ]
  },
  {
   "cell_type": "markdown",
   "metadata": {},
   "source": [
    "ON PREND PAS LES PREVISIONS ENTRE MINUIT ET 6H"
   ]
  },
  {
   "cell_type": "code",
   "execution_count": 349,
   "metadata": {},
   "outputs": [],
   "source": [
    "mask = df_prevision_une_ville_final['heure'] >= '06:00:00'\n",
    "data = df_prevision_une_ville_final[mask]"
   ]
  },
  {
   "cell_type": "code",
   "execution_count": null,
   "metadata": {},
   "outputs": [],
   "source": [
    "data.head()"
   ]
  },
  {
   "cell_type": "markdown",
   "metadata": {},
   "source": [
    "+++++++++++++++++++++++++++++++++++++++++++++++++++++++++++++++++++++++++++++++++++++++++++\n",
    "\n",
    "PASSAGE AUX CHOSES SERIEUSES"
   ]
  },
  {
   "cell_type": "markdown",
   "metadata": {},
   "source": [
    "BOUCLE POUR TOUTES LES PREVISIONS DE TOUTES LES VILLES"
   ]
  },
  {
   "cell_type": "code",
   "execution_count": null,
   "metadata": {},
   "outputs": [],
   "source": [
    "url_ow = \"https://api.openweathermap.org/data/2.5/forecast?\"\n",
    "\n",
    "df_prevision_toutes_les_villes = pd.DataFrame(columns=['Ville','date','heure','Part_of_day', 'temp','id_type_temps','type_temps','couv_nuageuse','vent','prob_pluie','pluie'])\n",
    "\n",
    "# BOUCLE SUR LES VILLES \n",
    "for v in range(len(df_villes)):\n",
    "\n",
    "    lat = df_villes.loc[v,\"lat\"]\n",
    "    lon = df_villes.loc[v,\"lon\"]\n",
    "    p = {'lat' : lat, 'lon' : lon, 'units':'metric', 'appid' : 'mykey'}\n",
    "    response = requests.get(url_ow, params=p)\n",
    "    response.json().get('list')\n",
    "\n",
    "    liste_previsions_une_ville_final = response.json().get('list')\n",
    "    nb_prev = len(liste_previsions_une_ville_final)\n",
    "    # BOUCLES SUR LES PREVISIONS\n",
    "    for i in range(len(liste_previsions_une_ville_final)):\n",
    "        \n",
    "        ville = df_villes.loc[v,\"ville\"]\n",
    "        dt_text= liste_previsions_une_ville_final[i]['dt_txt']\n",
    "        date = dt_text.split(\" \")[0]\n",
    "        heure= dt_text.split(\" \")[1]\n",
    "        temp=liste_previsions_une_ville_final[i]['main']['temp']\n",
    "        id_type_temps=liste_previsions_une_ville_final[i]['weather'][0]['id']\n",
    "        type_temps=liste_previsions_une_ville_final[i]['weather'][0]['main']\n",
    "        couv_nuageuse=liste_previsions_une_ville_final[i]['clouds']['all']\n",
    "        vent=liste_previsions_une_ville_final[i]['wind']['speed']\n",
    "        prob_pluie=liste_previsions_une_ville_final[i]['pop']\n",
    "        pluie = 0\n",
    "        if 'rain' in liste_previsions_une_ville_final[i].keys():\n",
    "            pluie = liste_previsions_une_ville_final[i]['rain']['3h']\n",
    "        pod = liste_previsions_une_ville_final[i]['sys']['pod']\n",
    "\n",
    "        df_prevision_toutes_les_villes.loc[len(df_prevision_toutes_les_villes)+1] = [ville,date,heure,pod,temp,id_type_temps,type_temps,couv_nuageuse,vent,prob_pluie,pluie]\n",
    "        "
   ]
  },
  {
   "cell_type": "code",
   "execution_count": 445,
   "metadata": {},
   "outputs": [],
   "source": [
    "mask = df_prevision_toutes_les_villes['heure'] >= '06:00:00'\n",
    "data_toutes_les_villes = df_prevision_toutes_les_villes[mask]"
   ]
  },
  {
   "cell_type": "markdown",
   "metadata": {},
   "source": [
    "ON REGARDE LES DIFFERENTES VALEURS DU TYPE DE METEO POUR ETABLIR UN CLASSEMENT"
   ]
  },
  {
   "cell_type": "code",
   "execution_count": 444,
   "metadata": {},
   "outputs": [
    {
     "data": {
      "text/plain": [
       "array([801, 803, 802, 800, 804, 500, 501, 601], dtype=int64)"
      ]
     },
     "execution_count": 444,
     "metadata": {},
     "output_type": "execute_result"
    }
   ],
   "source": [
    "data_toutes_les_villes['id_type_temps'].unique()"
   ]
  },
  {
   "cell_type": "markdown",
   "metadata": {},
   "source": [
    "MAPPING ET CREATION D'UNE NOUVELLE COLONNE AVEC LA NOTE DE LA PREVISION"
   ]
  },
  {
   "cell_type": "code",
   "execution_count": null,
   "metadata": {},
   "outputs": [],
   "source": [
    "classement = {800: 10, 801:9,802:8,803:7,804:6,500:4,501:3, 601:2}\n",
    "data_toutes_les_villes['note_type_temps']=data_toutes_les_villes['id_type_temps'].apply(lambda x: classement[x] if x in classement else 1)"
   ]
  },
  {
   "cell_type": "code",
   "execution_count": 447,
   "metadata": {},
   "outputs": [
    {
     "data": {
      "text/html": [
       "<div>\n",
       "<style scoped>\n",
       "    .dataframe tbody tr th:only-of-type {\n",
       "        vertical-align: middle;\n",
       "    }\n",
       "\n",
       "    .dataframe tbody tr th {\n",
       "        vertical-align: top;\n",
       "    }\n",
       "\n",
       "    .dataframe thead th {\n",
       "        text-align: right;\n",
       "    }\n",
       "</style>\n",
       "<table border=\"1\" class=\"dataframe\">\n",
       "  <thead>\n",
       "    <tr style=\"text-align: right;\">\n",
       "      <th></th>\n",
       "      <th>Ville</th>\n",
       "      <th>date</th>\n",
       "      <th>heure</th>\n",
       "      <th>Part_of_day</th>\n",
       "      <th>temp</th>\n",
       "      <th>id_type_temps</th>\n",
       "      <th>type_temps</th>\n",
       "      <th>couv_nuageuse</th>\n",
       "      <th>vent</th>\n",
       "      <th>prob_pluie</th>\n",
       "      <th>pluie</th>\n",
       "      <th>note_type_temps</th>\n",
       "    </tr>\n",
       "  </thead>\n",
       "  <tbody>\n",
       "    <tr>\n",
       "      <th>1</th>\n",
       "      <td>Mont Saint-Michel</td>\n",
       "      <td>2024-11-14</td>\n",
       "      <td>18:00:00</td>\n",
       "      <td>n</td>\n",
       "      <td>12.04</td>\n",
       "      <td>801</td>\n",
       "      <td>Clouds</td>\n",
       "      <td>23</td>\n",
       "      <td>3.10</td>\n",
       "      <td>0.0</td>\n",
       "      <td>0.0</td>\n",
       "      <td>9</td>\n",
       "    </tr>\n",
       "    <tr>\n",
       "      <th>2</th>\n",
       "      <td>Mont Saint-Michel</td>\n",
       "      <td>2024-11-14</td>\n",
       "      <td>21:00:00</td>\n",
       "      <td>n</td>\n",
       "      <td>9.74</td>\n",
       "      <td>801</td>\n",
       "      <td>Clouds</td>\n",
       "      <td>11</td>\n",
       "      <td>2.78</td>\n",
       "      <td>0.0</td>\n",
       "      <td>0.0</td>\n",
       "      <td>9</td>\n",
       "    </tr>\n",
       "    <tr>\n",
       "      <th>5</th>\n",
       "      <td>Mont Saint-Michel</td>\n",
       "      <td>2024-11-15</td>\n",
       "      <td>06:00:00</td>\n",
       "      <td>n</td>\n",
       "      <td>7.17</td>\n",
       "      <td>801</td>\n",
       "      <td>Clouds</td>\n",
       "      <td>14</td>\n",
       "      <td>1.94</td>\n",
       "      <td>0.0</td>\n",
       "      <td>0.0</td>\n",
       "      <td>9</td>\n",
       "    </tr>\n",
       "    <tr>\n",
       "      <th>6</th>\n",
       "      <td>Mont Saint-Michel</td>\n",
       "      <td>2024-11-15</td>\n",
       "      <td>09:00:00</td>\n",
       "      <td>d</td>\n",
       "      <td>9.18</td>\n",
       "      <td>803</td>\n",
       "      <td>Clouds</td>\n",
       "      <td>79</td>\n",
       "      <td>3.25</td>\n",
       "      <td>0.0</td>\n",
       "      <td>0.0</td>\n",
       "      <td>7</td>\n",
       "    </tr>\n",
       "    <tr>\n",
       "      <th>7</th>\n",
       "      <td>Mont Saint-Michel</td>\n",
       "      <td>2024-11-15</td>\n",
       "      <td>12:00:00</td>\n",
       "      <td>d</td>\n",
       "      <td>11.53</td>\n",
       "      <td>802</td>\n",
       "      <td>Clouds</td>\n",
       "      <td>50</td>\n",
       "      <td>2.47</td>\n",
       "      <td>0.0</td>\n",
       "      <td>0.0</td>\n",
       "      <td>8</td>\n",
       "    </tr>\n",
       "  </tbody>\n",
       "</table>\n",
       "</div>"
      ],
      "text/plain": [
       "               Ville        date     heure Part_of_day   temp  id_type_temps  \\\n",
       "1  Mont Saint-Michel  2024-11-14  18:00:00           n  12.04            801   \n",
       "2  Mont Saint-Michel  2024-11-14  21:00:00           n   9.74            801   \n",
       "5  Mont Saint-Michel  2024-11-15  06:00:00           n   7.17            801   \n",
       "6  Mont Saint-Michel  2024-11-15  09:00:00           d   9.18            803   \n",
       "7  Mont Saint-Michel  2024-11-15  12:00:00           d  11.53            802   \n",
       "\n",
       "  type_temps  couv_nuageuse  vent  prob_pluie  pluie  note_type_temps  \n",
       "1     Clouds             23  3.10         0.0    0.0                9  \n",
       "2     Clouds             11  2.78         0.0    0.0                9  \n",
       "5     Clouds             14  1.94         0.0    0.0                9  \n",
       "6     Clouds             79  3.25         0.0    0.0                7  \n",
       "7     Clouds             50  2.47         0.0    0.0                8  "
      ]
     },
     "execution_count": 447,
     "metadata": {},
     "output_type": "execute_result"
    }
   ],
   "source": [
    "data_toutes_les_villes.head()"
   ]
  },
  {
   "cell_type": "code",
   "execution_count": 449,
   "metadata": {},
   "outputs": [],
   "source": [
    "total_par_ville = data_toutes_les_villes.groupby('Ville')['note_type_temps'].sum()"
   ]
  },
  {
   "cell_type": "code",
   "execution_count": 450,
   "metadata": {},
   "outputs": [],
   "source": [
    "moyenne_temp_par_ville = data_toutes_les_villes.groupby('Ville')['temp'].mean()"
   ]
  },
  {
   "cell_type": "code",
   "execution_count": null,
   "metadata": {},
   "outputs": [],
   "source": [
    "moyenne_temp_par_ville"
   ]
  },
  {
   "cell_type": "code",
   "execution_count": 452,
   "metadata": {},
   "outputs": [],
   "source": [
    "df_final = df_villes.merge(total_par_ville,left_on='ville',right_on='Ville')\n",
    "\n",
    "df_final = df_final.merge(moyenne_temp_par_ville,left_on='ville', right_on='Ville')"
   ]
  },
  {
   "cell_type": "markdown",
   "metadata": {},
   "source": [
    "CHANGEMENT DU TYPE DE DONNEES POUR LATITUDE ET LONGITUDE"
   ]
  },
  {
   "cell_type": "code",
   "execution_count": 453,
   "metadata": {},
   "outputs": [],
   "source": [
    "df_final['lat'] = df_final['lat'].astype('float64')\n",
    "df_final['lon'] = df_final['lon'].astype('float64')"
   ]
  },
  {
   "cell_type": "code",
   "execution_count": 454,
   "metadata": {},
   "outputs": [
    {
     "data": {
      "text/html": [
       "<div>\n",
       "<style scoped>\n",
       "    .dataframe tbody tr th:only-of-type {\n",
       "        vertical-align: middle;\n",
       "    }\n",
       "\n",
       "    .dataframe tbody tr th {\n",
       "        vertical-align: top;\n",
       "    }\n",
       "\n",
       "    .dataframe thead th {\n",
       "        text-align: right;\n",
       "    }\n",
       "</style>\n",
       "<table border=\"1\" class=\"dataframe\">\n",
       "  <thead>\n",
       "    <tr style=\"text-align: right;\">\n",
       "      <th></th>\n",
       "      <th>ville</th>\n",
       "      <th>lat</th>\n",
       "      <th>lon</th>\n",
       "      <th>note_type_temps</th>\n",
       "      <th>temp</th>\n",
       "    </tr>\n",
       "  </thead>\n",
       "  <tbody>\n",
       "    <tr>\n",
       "      <th>17</th>\n",
       "      <td>Gorges du Verdon</td>\n",
       "      <td>43.749656</td>\n",
       "      <td>6.328562</td>\n",
       "      <td>245</td>\n",
       "      <td>6.632000</td>\n",
       "    </tr>\n",
       "    <tr>\n",
       "      <th>18</th>\n",
       "      <td>Bormes-les-Mimosas</td>\n",
       "      <td>43.150697</td>\n",
       "      <td>6.341928</td>\n",
       "      <td>244</td>\n",
       "      <td>13.263667</td>\n",
       "    </tr>\n",
       "    <tr>\n",
       "      <th>21</th>\n",
       "      <td>Aix-en-Provence</td>\n",
       "      <td>43.529842</td>\n",
       "      <td>5.447474</td>\n",
       "      <td>239</td>\n",
       "      <td>12.206000</td>\n",
       "    </tr>\n",
       "    <tr>\n",
       "      <th>22</th>\n",
       "      <td>Avignon</td>\n",
       "      <td>43.949249</td>\n",
       "      <td>4.805901</td>\n",
       "      <td>239</td>\n",
       "      <td>10.880000</td>\n",
       "    </tr>\n",
       "    <tr>\n",
       "      <th>24</th>\n",
       "      <td>Nîmes</td>\n",
       "      <td>43.837425</td>\n",
       "      <td>4.360069</td>\n",
       "      <td>237</td>\n",
       "      <td>11.307000</td>\n",
       "    </tr>\n",
       "    <tr>\n",
       "      <th>20</th>\n",
       "      <td>Marseille</td>\n",
       "      <td>43.296174</td>\n",
       "      <td>5.369953</td>\n",
       "      <td>236</td>\n",
       "      <td>14.617667</td>\n",
       "    </tr>\n",
       "    <tr>\n",
       "      <th>19</th>\n",
       "      <td>Cassis</td>\n",
       "      <td>43.214036</td>\n",
       "      <td>5.539632</td>\n",
       "      <td>236</td>\n",
       "      <td>13.872333</td>\n",
       "    </tr>\n",
       "    <tr>\n",
       "      <th>15</th>\n",
       "      <td>Grenoble</td>\n",
       "      <td>45.187560</td>\n",
       "      <td>5.735782</td>\n",
       "      <td>235</td>\n",
       "      <td>9.327000</td>\n",
       "    </tr>\n",
       "    <tr>\n",
       "      <th>23</th>\n",
       "      <td>Uzès</td>\n",
       "      <td>44.012128</td>\n",
       "      <td>4.419672</td>\n",
       "      <td>230</td>\n",
       "      <td>10.381333</td>\n",
       "    </tr>\n",
       "    <tr>\n",
       "      <th>27</th>\n",
       "      <td>Collioure</td>\n",
       "      <td>42.525050</td>\n",
       "      <td>3.083155</td>\n",
       "      <td>229</td>\n",
       "      <td>14.318000</td>\n",
       "    </tr>\n",
       "    <tr>\n",
       "      <th>25</th>\n",
       "      <td>Aigues-Mortes</td>\n",
       "      <td>43.566152</td>\n",
       "      <td>4.191540</td>\n",
       "      <td>228</td>\n",
       "      <td>13.090667</td>\n",
       "    </tr>\n",
       "    <tr>\n",
       "      <th>14</th>\n",
       "      <td>Annecy</td>\n",
       "      <td>45.899235</td>\n",
       "      <td>6.128885</td>\n",
       "      <td>228</td>\n",
       "      <td>7.001667</td>\n",
       "    </tr>\n",
       "    <tr>\n",
       "      <th>28</th>\n",
       "      <td>Carcassonne</td>\n",
       "      <td>43.213036</td>\n",
       "      <td>2.349107</td>\n",
       "      <td>227</td>\n",
       "      <td>11.869333</td>\n",
       "    </tr>\n",
       "    <tr>\n",
       "      <th>30</th>\n",
       "      <td>Toulouse</td>\n",
       "      <td>43.604462</td>\n",
       "      <td>1.444247</td>\n",
       "      <td>227</td>\n",
       "      <td>12.055333</td>\n",
       "    </tr>\n",
       "    <tr>\n",
       "      <th>16</th>\n",
       "      <td>Lyon</td>\n",
       "      <td>45.757814</td>\n",
       "      <td>4.832011</td>\n",
       "      <td>225</td>\n",
       "      <td>8.873000</td>\n",
       "    </tr>\n",
       "    <tr>\n",
       "      <th>26</th>\n",
       "      <td>Saintes-Maries-de-la-Mer</td>\n",
       "      <td>43.451592</td>\n",
       "      <td>4.427720</td>\n",
       "      <td>224</td>\n",
       "      <td>13.515667</td>\n",
       "    </tr>\n",
       "    <tr>\n",
       "      <th>31</th>\n",
       "      <td>Montauban</td>\n",
       "      <td>44.017584</td>\n",
       "      <td>1.354999</td>\n",
       "      <td>224</td>\n",
       "      <td>10.803000</td>\n",
       "    </tr>\n",
       "    <tr>\n",
       "      <th>29</th>\n",
       "      <td>Tarascon-sur-Ariège</td>\n",
       "      <td>42.845802</td>\n",
       "      <td>1.606759</td>\n",
       "      <td>221</td>\n",
       "      <td>12.726667</td>\n",
       "    </tr>\n",
       "    <tr>\n",
       "      <th>12</th>\n",
       "      <td>Besançon</td>\n",
       "      <td>47.238022</td>\n",
       "      <td>6.024362</td>\n",
       "      <td>214</td>\n",
       "      <td>6.472667</td>\n",
       "    </tr>\n",
       "    <tr>\n",
       "      <th>13</th>\n",
       "      <td>Dijon</td>\n",
       "      <td>47.321581</td>\n",
       "      <td>5.041470</td>\n",
       "      <td>206</td>\n",
       "      <td>6.929000</td>\n",
       "    </tr>\n",
       "    <tr>\n",
       "      <th>34</th>\n",
       "      <td>La Rochelle</td>\n",
       "      <td>46.159732</td>\n",
       "      <td>-1.151595</td>\n",
       "      <td>205</td>\n",
       "      <td>11.530667</td>\n",
       "    </tr>\n",
       "    <tr>\n",
       "      <th>11</th>\n",
       "      <td>Eguisheim</td>\n",
       "      <td>48.044797</td>\n",
       "      <td>7.307962</td>\n",
       "      <td>201</td>\n",
       "      <td>6.771667</td>\n",
       "    </tr>\n",
       "    <tr>\n",
       "      <th>10</th>\n",
       "      <td>Colmar</td>\n",
       "      <td>48.077752</td>\n",
       "      <td>7.357964</td>\n",
       "      <td>200</td>\n",
       "      <td>7.003000</td>\n",
       "    </tr>\n",
       "    <tr>\n",
       "      <th>8</th>\n",
       "      <td>Strasbourg</td>\n",
       "      <td>48.584614</td>\n",
       "      <td>7.750713</td>\n",
       "      <td>200</td>\n",
       "      <td>6.781667</td>\n",
       "    </tr>\n",
       "    <tr>\n",
       "      <th>9</th>\n",
       "      <td>Château du Haut-Kœnigsbourg</td>\n",
       "      <td>48.249523</td>\n",
       "      <td>7.345492</td>\n",
       "      <td>196</td>\n",
       "      <td>4.270333</td>\n",
       "    </tr>\n",
       "    <tr>\n",
       "      <th>33</th>\n",
       "      <td>Bayonne</td>\n",
       "      <td>43.494514</td>\n",
       "      <td>-1.473666</td>\n",
       "      <td>194</td>\n",
       "      <td>13.756667</td>\n",
       "    </tr>\n",
       "    <tr>\n",
       "      <th>32</th>\n",
       "      <td>Biarritz</td>\n",
       "      <td>43.471144</td>\n",
       "      <td>-1.552727</td>\n",
       "      <td>192</td>\n",
       "      <td>14.118333</td>\n",
       "    </tr>\n",
       "    <tr>\n",
       "      <th>1</th>\n",
       "      <td>Saint-Malo</td>\n",
       "      <td>48.649518</td>\n",
       "      <td>-2.026041</td>\n",
       "      <td>187</td>\n",
       "      <td>10.588000</td>\n",
       "    </tr>\n",
       "    <tr>\n",
       "      <th>5</th>\n",
       "      <td>Paris</td>\n",
       "      <td>48.853495</td>\n",
       "      <td>2.348391</td>\n",
       "      <td>187</td>\n",
       "      <td>8.836000</td>\n",
       "    </tr>\n",
       "    <tr>\n",
       "      <th>0</th>\n",
       "      <td>Mont Saint-Michel</td>\n",
       "      <td>48.635954</td>\n",
       "      <td>-1.511460</td>\n",
       "      <td>186</td>\n",
       "      <td>9.507667</td>\n",
       "    </tr>\n",
       "    <tr>\n",
       "      <th>2</th>\n",
       "      <td>Bayeux</td>\n",
       "      <td>49.276462</td>\n",
       "      <td>-0.702474</td>\n",
       "      <td>182</td>\n",
       "      <td>8.679333</td>\n",
       "    </tr>\n",
       "    <tr>\n",
       "      <th>4</th>\n",
       "      <td>Rouen</td>\n",
       "      <td>49.440459</td>\n",
       "      <td>1.093966</td>\n",
       "      <td>179</td>\n",
       "      <td>8.047000</td>\n",
       "    </tr>\n",
       "    <tr>\n",
       "      <th>6</th>\n",
       "      <td>Amiens</td>\n",
       "      <td>49.894171</td>\n",
       "      <td>2.295695</td>\n",
       "      <td>178</td>\n",
       "      <td>8.136333</td>\n",
       "    </tr>\n",
       "    <tr>\n",
       "      <th>7</th>\n",
       "      <td>Lille</td>\n",
       "      <td>50.636565</td>\n",
       "      <td>3.063528</td>\n",
       "      <td>171</td>\n",
       "      <td>8.528667</td>\n",
       "    </tr>\n",
       "    <tr>\n",
       "      <th>3</th>\n",
       "      <td>Le Havre</td>\n",
       "      <td>49.493898</td>\n",
       "      <td>0.107973</td>\n",
       "      <td>163</td>\n",
       "      <td>10.060000</td>\n",
       "    </tr>\n",
       "  </tbody>\n",
       "</table>\n",
       "</div>"
      ],
      "text/plain": [
       "                          ville        lat       lon  note_type_temps  \\\n",
       "17             Gorges du Verdon  43.749656  6.328562              245   \n",
       "18           Bormes-les-Mimosas  43.150697  6.341928              244   \n",
       "21              Aix-en-Provence  43.529842  5.447474              239   \n",
       "22                      Avignon  43.949249  4.805901              239   \n",
       "24                        Nîmes  43.837425  4.360069              237   \n",
       "20                    Marseille  43.296174  5.369953              236   \n",
       "19                       Cassis  43.214036  5.539632              236   \n",
       "15                     Grenoble  45.187560  5.735782              235   \n",
       "23                         Uzès  44.012128  4.419672              230   \n",
       "27                    Collioure  42.525050  3.083155              229   \n",
       "25                Aigues-Mortes  43.566152  4.191540              228   \n",
       "14                       Annecy  45.899235  6.128885              228   \n",
       "28                  Carcassonne  43.213036  2.349107              227   \n",
       "30                     Toulouse  43.604462  1.444247              227   \n",
       "16                         Lyon  45.757814  4.832011              225   \n",
       "26     Saintes-Maries-de-la-Mer  43.451592  4.427720              224   \n",
       "31                    Montauban  44.017584  1.354999              224   \n",
       "29          Tarascon-sur-Ariège  42.845802  1.606759              221   \n",
       "12                     Besançon  47.238022  6.024362              214   \n",
       "13                        Dijon  47.321581  5.041470              206   \n",
       "34                  La Rochelle  46.159732 -1.151595              205   \n",
       "11                    Eguisheim  48.044797  7.307962              201   \n",
       "10                       Colmar  48.077752  7.357964              200   \n",
       "8                    Strasbourg  48.584614  7.750713              200   \n",
       "9   Château du Haut-Kœnigsbourg  48.249523  7.345492              196   \n",
       "33                      Bayonne  43.494514 -1.473666              194   \n",
       "32                     Biarritz  43.471144 -1.552727              192   \n",
       "1                    Saint-Malo  48.649518 -2.026041              187   \n",
       "5                         Paris  48.853495  2.348391              187   \n",
       "0             Mont Saint-Michel  48.635954 -1.511460              186   \n",
       "2                        Bayeux  49.276462 -0.702474              182   \n",
       "4                         Rouen  49.440459  1.093966              179   \n",
       "6                        Amiens  49.894171  2.295695              178   \n",
       "7                         Lille  50.636565  3.063528              171   \n",
       "3                      Le Havre  49.493898  0.107973              163   \n",
       "\n",
       "         temp  \n",
       "17   6.632000  \n",
       "18  13.263667  \n",
       "21  12.206000  \n",
       "22  10.880000  \n",
       "24  11.307000  \n",
       "20  14.617667  \n",
       "19  13.872333  \n",
       "15   9.327000  \n",
       "23  10.381333  \n",
       "27  14.318000  \n",
       "25  13.090667  \n",
       "14   7.001667  \n",
       "28  11.869333  \n",
       "30  12.055333  \n",
       "16   8.873000  \n",
       "26  13.515667  \n",
       "31  10.803000  \n",
       "29  12.726667  \n",
       "12   6.472667  \n",
       "13   6.929000  \n",
       "34  11.530667  \n",
       "11   6.771667  \n",
       "10   7.003000  \n",
       "8    6.781667  \n",
       "9    4.270333  \n",
       "33  13.756667  \n",
       "32  14.118333  \n",
       "1   10.588000  \n",
       "5    8.836000  \n",
       "0    9.507667  \n",
       "2    8.679333  \n",
       "4    8.047000  \n",
       "6    8.136333  \n",
       "7    8.528667  \n",
       "3   10.060000  "
      ]
     },
     "execution_count": 454,
     "metadata": {},
     "output_type": "execute_result"
    }
   ],
   "source": [
    "df_final.sort_values(\"note_type_temps\", ascending=False)"
   ]
  },
  {
   "cell_type": "code",
   "execution_count": 455,
   "metadata": {},
   "outputs": [
    {
     "data": {
      "application/vnd.plotly.v1+json": {
       "config": {
        "plotlyServerURL": "https://plot.ly"
       },
       "data": [
        {
         "customdata": [
          [
           9.507666666666667
          ],
          [
           10.588
          ],
          [
           8.679333333333334
          ],
          [
           10.06
          ],
          [
           8.047
          ],
          [
           8.836
          ],
          [
           8.136333333333333
          ],
          [
           8.528666666666668
          ],
          [
           6.781666666666666
          ],
          [
           4.270333333333334
          ],
          [
           7.003
          ],
          [
           6.7716666666666665
          ],
          [
           6.472666666666667
          ],
          [
           6.929
          ],
          [
           7.001666666666667
          ],
          [
           9.327
          ],
          [
           8.873
          ],
          [
           6.632000000000001
          ],
          [
           13.263666666666667
          ],
          [
           13.872333333333334
          ],
          [
           14.617666666666667
          ],
          [
           12.206
          ],
          [
           10.879999999999999
          ],
          [
           10.381333333333334
          ],
          [
           11.306999999999999
          ],
          [
           13.090666666666667
          ],
          [
           13.515666666666666
          ],
          [
           14.318000000000001
          ],
          [
           11.869333333333334
          ],
          [
           12.726666666666667
          ],
          [
           12.055333333333333
          ],
          [
           10.802999999999999
          ],
          [
           14.118333333333334
          ],
          [
           13.756666666666666
          ],
          [
           11.530666666666667
          ]
         ],
         "hovertemplate": "<b>%{hovertext}</b><br><br>temp=%{customdata[0]}<br>lat=%{lat}<br>lon=%{lon}<br>note_type_temps=%{marker.color}<extra></extra>",
         "hovertext": [
          "Mont Saint-Michel",
          "Saint-Malo",
          "Bayeux",
          "Le Havre",
          "Rouen",
          "Paris",
          "Amiens",
          "Lille",
          "Strasbourg",
          "Château du Haut-Kœnigsbourg",
          "Colmar",
          "Eguisheim",
          "Besançon",
          "Dijon",
          "Annecy",
          "Grenoble",
          "Lyon",
          "Gorges du Verdon",
          "Bormes-les-Mimosas",
          "Cassis",
          "Marseille",
          "Aix-en-Provence",
          "Avignon",
          "Uzès",
          "Nîmes",
          "Aigues-Mortes",
          "Saintes-Maries-de-la-Mer",
          "Collioure",
          "Carcassonne",
          "Tarascon-sur-Ariège",
          "Toulouse",
          "Montauban",
          "Biarritz",
          "Bayonne",
          "La Rochelle"
         ],
         "lat": [
          48.6359541,
          48.649518,
          49.2764624,
          49.4938975,
          49.4404591,
          48.8534951,
          49.8941708,
          50.6365654,
          48.584614,
          48.2495226,
          48.0777517,
          48.0447968,
          47.2380222,
          47.3215806,
          45.8992348,
          45.1875602,
          45.7578137,
          43.7496562,
          43.1506968,
          43.2140359,
          43.2961743,
          43.5298424,
          43.9492493,
          44.0121279,
          43.8374249,
          43.5661521,
          43.4515922,
          42.52505,
          43.2130358,
          42.8458016,
          43.6044622,
          44.0175835,
          43.471143749999996,
          43.4945144,
          46.159732
         ],
         "legendgroup": "",
         "lon": [
          -1.511459954959514,
          -2.0260409,
          -0.7024738,
          0.1079732,
          1.0939658,
          2.3483915,
          2.2956951,
          3.0635282,
          7.7507127,
          7.3454923,
          7.3579641,
          7.3079618,
          6.0243622,
          5.0414701,
          6.1288847,
          5.7357819,
          4.8320114,
          6.3285616,
          6.3419285,
          5.5396318,
          5.3699525,
          5.4474738,
          4.8059012,
          4.4196718,
          4.3600687,
          4.19154,
          4.4277202,
          3.0831554,
          2.3491069,
          1.6067586,
          1.4442469,
          1.3549991,
          -1.552726590666314,
          -1.4736657,
          -1.1515951
         ],
         "marker": {
          "color": [
           186,
           187,
           182,
           163,
           179,
           187,
           178,
           171,
           200,
           196,
           200,
           201,
           214,
           206,
           228,
           235,
           225,
           245,
           244,
           236,
           236,
           239,
           239,
           230,
           237,
           228,
           224,
           229,
           227,
           221,
           227,
           224,
           192,
           194,
           205
          ],
          "coloraxis": "coloraxis",
          "size": [
           9.507666666666667,
           10.588,
           8.679333333333334,
           10.06,
           8.047,
           8.836,
           8.136333333333333,
           8.528666666666668,
           6.781666666666666,
           4.270333333333334,
           7.003,
           6.7716666666666665,
           6.472666666666667,
           6.929,
           7.001666666666667,
           9.327,
           8.873,
           6.632000000000001,
           13.263666666666667,
           13.872333333333334,
           14.617666666666667,
           12.206,
           10.879999999999999,
           10.381333333333334,
           11.306999999999999,
           13.090666666666667,
           13.515666666666666,
           14.318000000000001,
           11.869333333333334,
           12.726666666666667,
           12.055333333333333,
           10.802999999999999,
           14.118333333333334,
           13.756666666666666,
           11.530666666666667
          ],
          "sizemode": "area",
          "sizeref": 0.03654416666666667
         },
         "mode": "markers",
         "name": "",
         "showlegend": false,
         "subplot": "mapbox",
         "type": "scattermapbox"
        }
       ],
       "layout": {
        "coloraxis": {
         "colorbar": {
          "title": {
           "text": "note_type_temps"
          }
         },
         "colorscale": [
          [
           0,
           "red"
          ],
          [
           0.3333333333333333,
           "orange"
          ],
          [
           0.6666666666666666,
           "yellowgreen"
          ],
          [
           1,
           "green"
          ]
         ]
        },
        "height": 700,
        "legend": {
         "itemsizing": "constant",
         "tracegroupgap": 0
        },
        "mapbox": {
         "center": {
          "lat": 46.327408,
          "lon": 2.232999
         },
         "domain": {
          "x": [
           0,
           1
          ],
          "y": [
           0,
           1
          ]
         },
         "style": "open-street-map",
         "zoom": 4.5
        },
        "template": {
         "data": {
          "bar": [
           {
            "error_x": {
             "color": "#2a3f5f"
            },
            "error_y": {
             "color": "#2a3f5f"
            },
            "marker": {
             "line": {
              "color": "#E5ECF6",
              "width": 0.5
             },
             "pattern": {
              "fillmode": "overlay",
              "size": 10,
              "solidity": 0.2
             }
            },
            "type": "bar"
           }
          ],
          "barpolar": [
           {
            "marker": {
             "line": {
              "color": "#E5ECF6",
              "width": 0.5
             },
             "pattern": {
              "fillmode": "overlay",
              "size": 10,
              "solidity": 0.2
             }
            },
            "type": "barpolar"
           }
          ],
          "carpet": [
           {
            "aaxis": {
             "endlinecolor": "#2a3f5f",
             "gridcolor": "white",
             "linecolor": "white",
             "minorgridcolor": "white",
             "startlinecolor": "#2a3f5f"
            },
            "baxis": {
             "endlinecolor": "#2a3f5f",
             "gridcolor": "white",
             "linecolor": "white",
             "minorgridcolor": "white",
             "startlinecolor": "#2a3f5f"
            },
            "type": "carpet"
           }
          ],
          "choropleth": [
           {
            "colorbar": {
             "outlinewidth": 0,
             "ticks": ""
            },
            "type": "choropleth"
           }
          ],
          "contour": [
           {
            "colorbar": {
             "outlinewidth": 0,
             "ticks": ""
            },
            "colorscale": [
             [
              0,
              "#0d0887"
             ],
             [
              0.1111111111111111,
              "#46039f"
             ],
             [
              0.2222222222222222,
              "#7201a8"
             ],
             [
              0.3333333333333333,
              "#9c179e"
             ],
             [
              0.4444444444444444,
              "#bd3786"
             ],
             [
              0.5555555555555556,
              "#d8576b"
             ],
             [
              0.6666666666666666,
              "#ed7953"
             ],
             [
              0.7777777777777778,
              "#fb9f3a"
             ],
             [
              0.8888888888888888,
              "#fdca26"
             ],
             [
              1,
              "#f0f921"
             ]
            ],
            "type": "contour"
           }
          ],
          "contourcarpet": [
           {
            "colorbar": {
             "outlinewidth": 0,
             "ticks": ""
            },
            "type": "contourcarpet"
           }
          ],
          "heatmap": [
           {
            "colorbar": {
             "outlinewidth": 0,
             "ticks": ""
            },
            "colorscale": [
             [
              0,
              "#0d0887"
             ],
             [
              0.1111111111111111,
              "#46039f"
             ],
             [
              0.2222222222222222,
              "#7201a8"
             ],
             [
              0.3333333333333333,
              "#9c179e"
             ],
             [
              0.4444444444444444,
              "#bd3786"
             ],
             [
              0.5555555555555556,
              "#d8576b"
             ],
             [
              0.6666666666666666,
              "#ed7953"
             ],
             [
              0.7777777777777778,
              "#fb9f3a"
             ],
             [
              0.8888888888888888,
              "#fdca26"
             ],
             [
              1,
              "#f0f921"
             ]
            ],
            "type": "heatmap"
           }
          ],
          "heatmapgl": [
           {
            "colorbar": {
             "outlinewidth": 0,
             "ticks": ""
            },
            "colorscale": [
             [
              0,
              "#0d0887"
             ],
             [
              0.1111111111111111,
              "#46039f"
             ],
             [
              0.2222222222222222,
              "#7201a8"
             ],
             [
              0.3333333333333333,
              "#9c179e"
             ],
             [
              0.4444444444444444,
              "#bd3786"
             ],
             [
              0.5555555555555556,
              "#d8576b"
             ],
             [
              0.6666666666666666,
              "#ed7953"
             ],
             [
              0.7777777777777778,
              "#fb9f3a"
             ],
             [
              0.8888888888888888,
              "#fdca26"
             ],
             [
              1,
              "#f0f921"
             ]
            ],
            "type": "heatmapgl"
           }
          ],
          "histogram": [
           {
            "marker": {
             "pattern": {
              "fillmode": "overlay",
              "size": 10,
              "solidity": 0.2
             }
            },
            "type": "histogram"
           }
          ],
          "histogram2d": [
           {
            "colorbar": {
             "outlinewidth": 0,
             "ticks": ""
            },
            "colorscale": [
             [
              0,
              "#0d0887"
             ],
             [
              0.1111111111111111,
              "#46039f"
             ],
             [
              0.2222222222222222,
              "#7201a8"
             ],
             [
              0.3333333333333333,
              "#9c179e"
             ],
             [
              0.4444444444444444,
              "#bd3786"
             ],
             [
              0.5555555555555556,
              "#d8576b"
             ],
             [
              0.6666666666666666,
              "#ed7953"
             ],
             [
              0.7777777777777778,
              "#fb9f3a"
             ],
             [
              0.8888888888888888,
              "#fdca26"
             ],
             [
              1,
              "#f0f921"
             ]
            ],
            "type": "histogram2d"
           }
          ],
          "histogram2dcontour": [
           {
            "colorbar": {
             "outlinewidth": 0,
             "ticks": ""
            },
            "colorscale": [
             [
              0,
              "#0d0887"
             ],
             [
              0.1111111111111111,
              "#46039f"
             ],
             [
              0.2222222222222222,
              "#7201a8"
             ],
             [
              0.3333333333333333,
              "#9c179e"
             ],
             [
              0.4444444444444444,
              "#bd3786"
             ],
             [
              0.5555555555555556,
              "#d8576b"
             ],
             [
              0.6666666666666666,
              "#ed7953"
             ],
             [
              0.7777777777777778,
              "#fb9f3a"
             ],
             [
              0.8888888888888888,
              "#fdca26"
             ],
             [
              1,
              "#f0f921"
             ]
            ],
            "type": "histogram2dcontour"
           }
          ],
          "mesh3d": [
           {
            "colorbar": {
             "outlinewidth": 0,
             "ticks": ""
            },
            "type": "mesh3d"
           }
          ],
          "parcoords": [
           {
            "line": {
             "colorbar": {
              "outlinewidth": 0,
              "ticks": ""
             }
            },
            "type": "parcoords"
           }
          ],
          "pie": [
           {
            "automargin": true,
            "type": "pie"
           }
          ],
          "scatter": [
           {
            "fillpattern": {
             "fillmode": "overlay",
             "size": 10,
             "solidity": 0.2
            },
            "type": "scatter"
           }
          ],
          "scatter3d": [
           {
            "line": {
             "colorbar": {
              "outlinewidth": 0,
              "ticks": ""
             }
            },
            "marker": {
             "colorbar": {
              "outlinewidth": 0,
              "ticks": ""
             }
            },
            "type": "scatter3d"
           }
          ],
          "scattercarpet": [
           {
            "marker": {
             "colorbar": {
              "outlinewidth": 0,
              "ticks": ""
             }
            },
            "type": "scattercarpet"
           }
          ],
          "scattergeo": [
           {
            "marker": {
             "colorbar": {
              "outlinewidth": 0,
              "ticks": ""
             }
            },
            "type": "scattergeo"
           }
          ],
          "scattergl": [
           {
            "marker": {
             "colorbar": {
              "outlinewidth": 0,
              "ticks": ""
             }
            },
            "type": "scattergl"
           }
          ],
          "scattermapbox": [
           {
            "marker": {
             "colorbar": {
              "outlinewidth": 0,
              "ticks": ""
             }
            },
            "type": "scattermapbox"
           }
          ],
          "scatterpolar": [
           {
            "marker": {
             "colorbar": {
              "outlinewidth": 0,
              "ticks": ""
             }
            },
            "type": "scatterpolar"
           }
          ],
          "scatterpolargl": [
           {
            "marker": {
             "colorbar": {
              "outlinewidth": 0,
              "ticks": ""
             }
            },
            "type": "scatterpolargl"
           }
          ],
          "scatterternary": [
           {
            "marker": {
             "colorbar": {
              "outlinewidth": 0,
              "ticks": ""
             }
            },
            "type": "scatterternary"
           }
          ],
          "surface": [
           {
            "colorbar": {
             "outlinewidth": 0,
             "ticks": ""
            },
            "colorscale": [
             [
              0,
              "#0d0887"
             ],
             [
              0.1111111111111111,
              "#46039f"
             ],
             [
              0.2222222222222222,
              "#7201a8"
             ],
             [
              0.3333333333333333,
              "#9c179e"
             ],
             [
              0.4444444444444444,
              "#bd3786"
             ],
             [
              0.5555555555555556,
              "#d8576b"
             ],
             [
              0.6666666666666666,
              "#ed7953"
             ],
             [
              0.7777777777777778,
              "#fb9f3a"
             ],
             [
              0.8888888888888888,
              "#fdca26"
             ],
             [
              1,
              "#f0f921"
             ]
            ],
            "type": "surface"
           }
          ],
          "table": [
           {
            "cells": {
             "fill": {
              "color": "#EBF0F8"
             },
             "line": {
              "color": "white"
             }
            },
            "header": {
             "fill": {
              "color": "#C8D4E3"
             },
             "line": {
              "color": "white"
             }
            },
            "type": "table"
           }
          ]
         },
         "layout": {
          "annotationdefaults": {
           "arrowcolor": "#2a3f5f",
           "arrowhead": 0,
           "arrowwidth": 1
          },
          "autotypenumbers": "strict",
          "coloraxis": {
           "colorbar": {
            "outlinewidth": 0,
            "ticks": ""
           }
          },
          "colorscale": {
           "diverging": [
            [
             0,
             "#8e0152"
            ],
            [
             0.1,
             "#c51b7d"
            ],
            [
             0.2,
             "#de77ae"
            ],
            [
             0.3,
             "#f1b6da"
            ],
            [
             0.4,
             "#fde0ef"
            ],
            [
             0.5,
             "#f7f7f7"
            ],
            [
             0.6,
             "#e6f5d0"
            ],
            [
             0.7,
             "#b8e186"
            ],
            [
             0.8,
             "#7fbc41"
            ],
            [
             0.9,
             "#4d9221"
            ],
            [
             1,
             "#276419"
            ]
           ],
           "sequential": [
            [
             0,
             "#0d0887"
            ],
            [
             0.1111111111111111,
             "#46039f"
            ],
            [
             0.2222222222222222,
             "#7201a8"
            ],
            [
             0.3333333333333333,
             "#9c179e"
            ],
            [
             0.4444444444444444,
             "#bd3786"
            ],
            [
             0.5555555555555556,
             "#d8576b"
            ],
            [
             0.6666666666666666,
             "#ed7953"
            ],
            [
             0.7777777777777778,
             "#fb9f3a"
            ],
            [
             0.8888888888888888,
             "#fdca26"
            ],
            [
             1,
             "#f0f921"
            ]
           ],
           "sequentialminus": [
            [
             0,
             "#0d0887"
            ],
            [
             0.1111111111111111,
             "#46039f"
            ],
            [
             0.2222222222222222,
             "#7201a8"
            ],
            [
             0.3333333333333333,
             "#9c179e"
            ],
            [
             0.4444444444444444,
             "#bd3786"
            ],
            [
             0.5555555555555556,
             "#d8576b"
            ],
            [
             0.6666666666666666,
             "#ed7953"
            ],
            [
             0.7777777777777778,
             "#fb9f3a"
            ],
            [
             0.8888888888888888,
             "#fdca26"
            ],
            [
             1,
             "#f0f921"
            ]
           ]
          },
          "colorway": [
           "#636efa",
           "#EF553B",
           "#00cc96",
           "#ab63fa",
           "#FFA15A",
           "#19d3f3",
           "#FF6692",
           "#B6E880",
           "#FF97FF",
           "#FECB52"
          ],
          "font": {
           "color": "#2a3f5f"
          },
          "geo": {
           "bgcolor": "white",
           "lakecolor": "white",
           "landcolor": "#E5ECF6",
           "showlakes": true,
           "showland": true,
           "subunitcolor": "white"
          },
          "hoverlabel": {
           "align": "left"
          },
          "hovermode": "closest",
          "mapbox": {
           "style": "light"
          },
          "paper_bgcolor": "white",
          "plot_bgcolor": "#E5ECF6",
          "polar": {
           "angularaxis": {
            "gridcolor": "white",
            "linecolor": "white",
            "ticks": ""
           },
           "bgcolor": "#E5ECF6",
           "radialaxis": {
            "gridcolor": "white",
            "linecolor": "white",
            "ticks": ""
           }
          },
          "scene": {
           "xaxis": {
            "backgroundcolor": "#E5ECF6",
            "gridcolor": "white",
            "gridwidth": 2,
            "linecolor": "white",
            "showbackground": true,
            "ticks": "",
            "zerolinecolor": "white"
           },
           "yaxis": {
            "backgroundcolor": "#E5ECF6",
            "gridcolor": "white",
            "gridwidth": 2,
            "linecolor": "white",
            "showbackground": true,
            "ticks": "",
            "zerolinecolor": "white"
           },
           "zaxis": {
            "backgroundcolor": "#E5ECF6",
            "gridcolor": "white",
            "gridwidth": 2,
            "linecolor": "white",
            "showbackground": true,
            "ticks": "",
            "zerolinecolor": "white"
           }
          },
          "shapedefaults": {
           "line": {
            "color": "#2a3f5f"
           }
          },
          "ternary": {
           "aaxis": {
            "gridcolor": "white",
            "linecolor": "white",
            "ticks": ""
           },
           "baxis": {
            "gridcolor": "white",
            "linecolor": "white",
            "ticks": ""
           },
           "bgcolor": "#E5ECF6",
           "caxis": {
            "gridcolor": "white",
            "linecolor": "white",
            "ticks": ""
           }
          },
          "title": {
           "x": 0.05
          },
          "xaxis": {
           "automargin": true,
           "gridcolor": "white",
           "linecolor": "white",
           "ticks": "",
           "title": {
            "standoff": 15
           },
           "zerolinecolor": "white",
           "zerolinewidth": 2
          },
          "yaxis": {
           "automargin": true,
           "gridcolor": "white",
           "linecolor": "white",
           "ticks": "",
           "title": {
            "standoff": 15
           },
           "zerolinecolor": "white",
           "zerolinewidth": 2
          }
         }
        },
        "title": {
         "text": "Où on part ce weekend ?",
         "x": 0.5
        }
       }
      }
     },
     "metadata": {},
     "output_type": "display_data"
    }
   ],
   "source": [
    "import plotly.express as px\n",
    "\n",
    "fig = px.scatter_mapbox(df_final,lat=\"lat\", lon=\"lon\", color=\"note_type_temps\", hover_name=\"ville\", hover_data='temp', height=700,\n",
    "mapbox_style=\"open-street-map\",title='Où on part ce weekend ?',zoom=4.5,color_continuous_scale=[\"red\",\"orange\",\"yellowgreen\",\"green\"], size=\"temp\", center={'lon':2.232999,\"lat\":46.327408})\n",
    "fig.update_layout(title_x=0.5)\n",
    "fig.show()"
   ]
  },
  {
   "cell_type": "code",
   "execution_count": null,
   "metadata": {},
   "outputs": [],
   "source": []
  }
 ],
 "metadata": {
  "kernelspec": {
   "display_name": "base",
   "language": "python",
   "name": "python3"
  },
  "language_info": {
   "codemirror_mode": {
    "name": "ipython",
    "version": 3
   },
   "file_extension": ".py",
   "mimetype": "text/x-python",
   "name": "python",
   "nbconvert_exporter": "python",
   "pygments_lexer": "ipython3",
   "version": "3.12.4"
  }
 },
 "nbformat": 4,
 "nbformat_minor": 2
}
