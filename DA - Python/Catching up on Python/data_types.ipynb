{
 "cells": [
  {
   "cell_type": "code",
   "execution_count": null,
   "metadata": {},
   "outputs": [],
   "source": [
    "michel = [\"Hello\", \"I\", \"Michel\", \"am\"]\n",
    "\n",
    "for i in michel:\n",
    "    print(i)"
   ]
  },
  {
   "cell_type": "code",
   "execution_count": null,
   "metadata": {},
   "outputs": [],
   "source": [
    "michel = [\"Hello\", \"I\", \"Michel\", \"am\"]\n",
    "\n",
    "mi = michel.pop(2)\n",
    "michel.append(mi)\n",
    "\n",
    "\n",
    "for i in michel:\n",
    "    print(i)"
   ]
  },
  {
   "cell_type": "code",
   "execution_count": null,
   "metadata": {},
   "outputs": [],
   "source": [
    "age = [12, 34, 16, 58, 9]\n",
    "\n",
    "nb_elem = len(age)\n",
    "print(nb_elem)\n",
    "\n",
    "for i in range(0, nb_elem):\n",
    "    \n",
    "    for b in range(i+1,nb_elem):\n",
    "    \n",
    "        if(age[i]>age[b]):\n",
    "            age[i], age[b]=age[b],age[i]\n",
    "\n",
    "#age.sort()\n",
    "print(age)"
   ]
  },
  {
   "cell_type": "code",
   "execution_count": null,
   "metadata": {},
   "outputs": [],
   "source": [
    "import requests\n",
    "request = requests.get(\"https://swapi.dev/api/people/1/\")\n",
    "dic = request.json()\n",
    "\n",
    "\n",
    "print(f\"{dic['name']} is {dic['height']} cm tall and weighs {dic['mass']} kg. He was born in {dic['birth_year']}\")\n"
   ]
  },
  {
   "cell_type": "code",
   "execution_count": null,
   "metadata": {},
   "outputs": [],
   "source": [
    "import requests\n",
    "\n",
    "for i in range(1, 17):\n",
    "    request = requests.get(f\"https://swapi.dev/api/people/{i}/\")\n",
    "    dic = request.json()\n",
    "\n",
    "    if (dic['gender']==\"female\"):\n",
    "        print(f\"{dic['name']} is {dic['height']} cm tall and weighs {dic['mass']} kg. She was born in {dic['birth_year']}\")\n",
    "    else:\n",
    "        print(f\"{dic['name']} is {dic['height']} cm tall and weighs {dic['mass']} kg. He was born in {dic['birth_year']}\")\n",
    "\n",
    "\n",
    "\n",
    "\n",
    "\n",
    "\n"
   ]
  },
  {
   "cell_type": "code",
   "execution_count": null,
   "metadata": {},
   "outputs": [],
   "source": [
    "kilometres_travelled = [50, 10, 100, 25, 1000, 21, 12,30]\n",
    "\n",
    "sum = 0\n",
    "for i in kilometres_travelled:\n",
    "    sum += i/len(kilometres_travelled)\n",
    "\n",
    "print(f\"On average, users travelled {sum} km to get to work.\")"
   ]
  },
  {
   "cell_type": "code",
   "execution_count": null,
   "metadata": {},
   "outputs": [],
   "source": [
    "kilometres_travelled = [30,35,36,37,24,25,61]\n",
    "\n",
    "sum = 0\n",
    "for i in kilometres_travelled:\n",
    "    sum += i/len(kilometres_travelled)\n",
    "\n",
    "print(f\"On average, users travelled {sum} km to get to work.\")"
   ]
  },
  {
   "cell_type": "code",
   "execution_count": null,
   "metadata": {},
   "outputs": [],
   "source": []
  }
 ],
 "metadata": {
  "kernelspec": {
   "display_name": "base",
   "language": "python",
   "name": "python3"
  },
  "language_info": {
   "codemirror_mode": {
    "name": "ipython",
    "version": 3
   },
   "file_extension": ".py",
   "mimetype": "text/x-python",
   "name": "python",
   "nbconvert_exporter": "python",
   "pygments_lexer": "ipython3",
   "version": "3.12.4"
  }
 },
 "nbformat": 4,
 "nbformat_minor": 2
}
