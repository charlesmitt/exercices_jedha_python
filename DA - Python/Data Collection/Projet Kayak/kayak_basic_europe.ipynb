{
 "cells": [
  {
   "cell_type": "code",
   "execution_count": 7,
   "metadata": {},
   "outputs": [],
   "source": [
    "import requests\n",
    "import pandas as pd\n",
    "import plotly.express as px\n",
    "from dotenv import load_dotenv   #for python-dotenv method\n",
    "load_dotenv()                    #for python-dotenv method\n",
    "import os\n",
    "liste_villes = [\"Paris\",\"Londres\",\"New York\",\"Ibiza\",\"Vienne\",\"Valence\",\"Lisbonne\",\"Shanghai\",\"Casablanca\",\"Nairobi\",\"Los Angeles\", \"Tokyo\", \"Rio de Janeiro\", \"Fort-de-France\"]\n"
   ]
  },
  {
   "cell_type": "markdown",
   "metadata": {},
   "source": [
    "COORDONNEES D'UNE SEULE VILLE"
   ]
  },
  {
   "cell_type": "code",
   "execution_count": 8,
   "metadata": {},
   "outputs": [],
   "source": [
    "# ESSAI MANUEL POUR UNE SEULE VILLE \n",
    "\n",
    "url = \"https://nominatim.openstreetmap.org/search?\"\n",
    "headers = {\"accept\": \"application/json\", 'user_agent':'charles.mittempergher@gmail.com'}\n",
    "p = {'city' : 'Toulouse', 'country':'France', 'format':'json', 'limit':1}\n",
    "\n",
    "response = requests.get(url, headers=headers, params=p)"
   ]
  },
  {
   "cell_type": "markdown",
   "metadata": {},
   "source": [
    "BOUCLE POUR LES COORDONNEES TOUTES LES VILLES"
   ]
  },
  {
   "cell_type": "code",
   "execution_count": 9,
   "metadata": {},
   "outputs": [
    {
     "name": "stdout",
     "output_type": "stream",
     "text": [
      "Ajout de Paris effectué\n",
      "Ajout de Londres effectué\n",
      "Ajout de New York effectué\n",
      "Ajout de Ibiza effectué\n",
      "Ajout de Vienne effectué\n",
      "Ajout de Valence effectué\n",
      "Ajout de Lisbonne effectué\n",
      "Ajout de Shanghai effectué\n",
      "Ajout de Casablanca effectué\n",
      "Ajout de Nairobi effectué\n",
      "Ajout de Los Angeles effectué\n",
      "Ajout de Tokyo effectué\n",
      "Ajout de Rio de Janeiro effectué\n",
      "Ajout de Fort-de-France effectué\n"
     ]
    }
   ],
   "source": [
    "# RECUPERATION DES DONNEES POUR TOUTE LA LISTE DES VILLES\n",
    "url = \"https://nominatim.openstreetmap.org/search?\"\n",
    "headers = {'user_agent':'charles.mittempergher@gmail.com'}\n",
    "\n",
    "df_villes = pd.DataFrame(columns=['ville','lat','lon'])\n",
    "\n",
    "for i in range(len(liste_villes)):\n",
    "    \n",
    "    p = {'city' : {liste_villes[i]}, 'format':'json', 'limit':1, 'email':'charles@gmail.com'}\n",
    "\n",
    "    r = requests.get(url, headers=headers, params=p)\n",
    "    ville = liste_villes[i]\n",
    "    lat   = r.json()[0]['lat']\n",
    "    lon   = r.json()[0]['lon']\n",
    "\n",
    "    df_villes.loc[i] = [ville, lat,lon]\n",
    "    print(f'Ajout de {liste_villes[i]} effectué')"
   ]
  },
  {
   "cell_type": "code",
   "execution_count": 10,
   "metadata": {},
   "outputs": [
    {
     "data": {
      "text/html": [
       "<div>\n",
       "<style scoped>\n",
       "    .dataframe tbody tr th:only-of-type {\n",
       "        vertical-align: middle;\n",
       "    }\n",
       "\n",
       "    .dataframe tbody tr th {\n",
       "        vertical-align: top;\n",
       "    }\n",
       "\n",
       "    .dataframe thead th {\n",
       "        text-align: right;\n",
       "    }\n",
       "</style>\n",
       "<table border=\"1\" class=\"dataframe\">\n",
       "  <thead>\n",
       "    <tr style=\"text-align: right;\">\n",
       "      <th></th>\n",
       "      <th>ville</th>\n",
       "      <th>lat</th>\n",
       "      <th>lon</th>\n",
       "    </tr>\n",
       "  </thead>\n",
       "  <tbody>\n",
       "    <tr>\n",
       "      <th>0</th>\n",
       "      <td>Paris</td>\n",
       "      <td>48.8588897</td>\n",
       "      <td>2.3200410217200766</td>\n",
       "    </tr>\n",
       "    <tr>\n",
       "      <th>1</th>\n",
       "      <td>Londres</td>\n",
       "      <td>51.5074456</td>\n",
       "      <td>-0.1277653</td>\n",
       "    </tr>\n",
       "    <tr>\n",
       "      <th>2</th>\n",
       "      <td>New York</td>\n",
       "      <td>40.7127281</td>\n",
       "      <td>-74.0060152</td>\n",
       "    </tr>\n",
       "    <tr>\n",
       "      <th>3</th>\n",
       "      <td>Ibiza</td>\n",
       "      <td>38.974390099999994</td>\n",
       "      <td>1.4197463178515335</td>\n",
       "    </tr>\n",
       "    <tr>\n",
       "      <th>4</th>\n",
       "      <td>Vienne</td>\n",
       "      <td>48.2083537</td>\n",
       "      <td>16.3725042</td>\n",
       "    </tr>\n",
       "  </tbody>\n",
       "</table>\n",
       "</div>"
      ],
      "text/plain": [
       "      ville                 lat                 lon\n",
       "0     Paris          48.8588897  2.3200410217200766\n",
       "1   Londres          51.5074456          -0.1277653\n",
       "2  New York          40.7127281         -74.0060152\n",
       "3     Ibiza  38.974390099999994  1.4197463178515335\n",
       "4    Vienne          48.2083537          16.3725042"
      ]
     },
     "execution_count": 10,
     "metadata": {},
     "output_type": "execute_result"
    }
   ],
   "source": [
    "df_villes.head()"
   ]
  },
  {
   "cell_type": "markdown",
   "metadata": {},
   "source": [
    " DEBUT DE LA PARTIE AVEC OPENWEATHER"
   ]
  },
  {
   "cell_type": "code",
   "execution_count": 11,
   "metadata": {},
   "outputs": [],
   "source": [
    "url_ow = \"https://api.openweathermap.org/data/2.5/forecast?\"\n",
    "\n",
    "lat = 43.2961743\n",
    "lon = 5.3699525\n",
    "p = {'lat' : lat, 'lon' : lon, 'units':'metric', 'appid' :  os.environ.get('openweather_active')}\n",
    "response = requests.get(url_ow, params=p)\n"
   ]
  },
  {
   "cell_type": "code",
   "execution_count": 12,
   "metadata": {},
   "outputs": [
    {
     "data": {
      "text/plain": [
       "[{'dt': 1731693600,\n",
       "  'main': {'temp': 14.42,\n",
       "   'feels_like': 13.72,\n",
       "   'temp_min': 14.42,\n",
       "   'temp_max': 14.43,\n",
       "   'pressure': 1022,\n",
       "   'sea_level': 1022,\n",
       "   'grnd_level': 1015,\n",
       "   'humidity': 69,\n",
       "   'temp_kf': -0.01},\n",
       "  'weather': [{'id': 800,\n",
       "    'main': 'Clear',\n",
       "    'description': 'clear sky',\n",
       "    'icon': '01n'}],\n",
       "  'clouds': {'all': 0},\n",
       "  'wind': {'speed': 1.57, 'deg': 185, 'gust': 1.62},\n",
       "  'visibility': 10000,\n",
       "  'pop': 0,\n",
       "  'sys': {'pod': 'n'},\n",
       "  'dt_txt': '2024-11-15 18:00:00'},\n",
       " {'dt': 1731704400,\n",
       "  'main': {'temp': 14.59,\n",
       "   'feels_like': 13.8,\n",
       "   'temp_min': 14.59,\n",
       "   'temp_max': 14.68,\n",
       "   'pressure': 1023,\n",
       "   'sea_level': 1023,\n",
       "   'grnd_level': 1016,\n",
       "   'humidity': 65,\n",
       "   'temp_kf': -0.09},\n",
       "  'weather': [{'id': 800,\n",
       "    'main': 'Clear',\n",
       "    'description': 'clear sky',\n",
       "    'icon': '01n'}],\n",
       "  'clouds': {'all': 3},\n",
       "  'wind': {'speed': 1.31, 'deg': 214, 'gust': 1.72},\n",
       "  'visibility': 10000,\n",
       "  'pop': 0,\n",
       "  'sys': {'pod': 'n'},\n",
       "  'dt_txt': '2024-11-15 21:00:00'},\n",
       " {'dt': 1731715200,\n",
       "  'main': {'temp': 14.34,\n",
       "   'feels_like': 13.47,\n",
       "   'temp_min': 14.34,\n",
       "   'temp_max': 14.34,\n",
       "   'pressure': 1024,\n",
       "   'sea_level': 1024,\n",
       "   'grnd_level': 1016,\n",
       "   'humidity': 63,\n",
       "   'temp_kf': 0},\n",
       "  'weather': [{'id': 800,\n",
       "    'main': 'Clear',\n",
       "    'description': 'clear sky',\n",
       "    'icon': '01n'}],\n",
       "  'clouds': {'all': 3},\n",
       "  'wind': {'speed': 1.12, 'deg': 243, 'gust': 1.65},\n",
       "  'visibility': 10000,\n",
       "  'pop': 0,\n",
       "  'sys': {'pod': 'n'},\n",
       "  'dt_txt': '2024-11-16 00:00:00'},\n",
       " {'dt': 1731726000,\n",
       "  'main': {'temp': 13.87,\n",
       "   'feels_like': 13.01,\n",
       "   'temp_min': 13.87,\n",
       "   'temp_max': 13.87,\n",
       "   'pressure': 1023,\n",
       "   'sea_level': 1023,\n",
       "   'grnd_level': 1016,\n",
       "   'humidity': 65,\n",
       "   'temp_kf': 0},\n",
       "  'weather': [{'id': 800,\n",
       "    'main': 'Clear',\n",
       "    'description': 'clear sky',\n",
       "    'icon': '01n'}],\n",
       "  'clouds': {'all': 0},\n",
       "  'wind': {'speed': 0.8, 'deg': 332, 'gust': 1.23},\n",
       "  'visibility': 10000,\n",
       "  'pop': 0,\n",
       "  'sys': {'pod': 'n'},\n",
       "  'dt_txt': '2024-11-16 03:00:00'},\n",
       " {'dt': 1731736800,\n",
       "  'main': {'temp': 13.42,\n",
       "   'feels_like': 12.57,\n",
       "   'temp_min': 13.42,\n",
       "   'temp_max': 13.42,\n",
       "   'pressure': 1023,\n",
       "   'sea_level': 1023,\n",
       "   'grnd_level': 1016,\n",
       "   'humidity': 67,\n",
       "   'temp_kf': 0},\n",
       "  'weather': [{'id': 800,\n",
       "    'main': 'Clear',\n",
       "    'description': 'clear sky',\n",
       "    'icon': '01n'}],\n",
       "  'clouds': {'all': 0},\n",
       "  'wind': {'speed': 0.97, 'deg': 20, 'gust': 0.96},\n",
       "  'visibility': 10000,\n",
       "  'pop': 0,\n",
       "  'sys': {'pod': 'n'},\n",
       "  'dt_txt': '2024-11-16 06:00:00'},\n",
       " {'dt': 1731747600,\n",
       "  'main': {'temp': 14.33,\n",
       "   'feels_like': 13.49,\n",
       "   'temp_min': 14.33,\n",
       "   'temp_max': 14.33,\n",
       "   'pressure': 1024,\n",
       "   'sea_level': 1024,\n",
       "   'grnd_level': 1016,\n",
       "   'humidity': 64,\n",
       "   'temp_kf': 0},\n",
       "  'weather': [{'id': 800,\n",
       "    'main': 'Clear',\n",
       "    'description': 'clear sky',\n",
       "    'icon': '01d'}],\n",
       "  'clouds': {'all': 2},\n",
       "  'wind': {'speed': 1.02, 'deg': 74, 'gust': 0.72},\n",
       "  'visibility': 10000,\n",
       "  'pop': 0,\n",
       "  'sys': {'pod': 'd'},\n",
       "  'dt_txt': '2024-11-16 09:00:00'},\n",
       " {'dt': 1731758400,\n",
       "  'main': {'temp': 15.7,\n",
       "   'feels_like': 15.02,\n",
       "   'temp_min': 15.7,\n",
       "   'temp_max': 15.7,\n",
       "   'pressure': 1022,\n",
       "   'sea_level': 1022,\n",
       "   'grnd_level': 1015,\n",
       "   'humidity': 65,\n",
       "   'temp_kf': 0},\n",
       "  'weather': [{'id': 800,\n",
       "    'main': 'Clear',\n",
       "    'description': 'clear sky',\n",
       "    'icon': '01d'}],\n",
       "  'clouds': {'all': 0},\n",
       "  'wind': {'speed': 2.03, 'deg': 191, 'gust': 2.08},\n",
       "  'visibility': 10000,\n",
       "  'pop': 0,\n",
       "  'sys': {'pod': 'd'},\n",
       "  'dt_txt': '2024-11-16 12:00:00'},\n",
       " {'dt': 1731769200,\n",
       "  'main': {'temp': 15.79,\n",
       "   'feels_like': 15.17,\n",
       "   'temp_min': 15.79,\n",
       "   'temp_max': 15.79,\n",
       "   'pressure': 1021,\n",
       "   'sea_level': 1021,\n",
       "   'grnd_level': 1014,\n",
       "   'humidity': 67,\n",
       "   'temp_kf': 0},\n",
       "  'weather': [{'id': 802,\n",
       "    'main': 'Clouds',\n",
       "    'description': 'scattered clouds',\n",
       "    'icon': '03d'}],\n",
       "  'clouds': {'all': 25},\n",
       "  'wind': {'speed': 1.92, 'deg': 195, 'gust': 2.21},\n",
       "  'visibility': 10000,\n",
       "  'pop': 0,\n",
       "  'sys': {'pod': 'd'},\n",
       "  'dt_txt': '2024-11-16 15:00:00'},\n",
       " {'dt': 1731780000,\n",
       "  'main': {'temp': 15.92,\n",
       "   'feels_like': 15.45,\n",
       "   'temp_min': 15.92,\n",
       "   'temp_max': 15.92,\n",
       "   'pressure': 1021,\n",
       "   'sea_level': 1021,\n",
       "   'grnd_level': 1013,\n",
       "   'humidity': 72,\n",
       "   'temp_kf': 0},\n",
       "  'weather': [{'id': 803,\n",
       "    'main': 'Clouds',\n",
       "    'description': 'broken clouds',\n",
       "    'icon': '04n'}],\n",
       "  'clouds': {'all': 65},\n",
       "  'wind': {'speed': 1.6, 'deg': 197, 'gust': 2.56},\n",
       "  'visibility': 10000,\n",
       "  'pop': 0,\n",
       "  'sys': {'pod': 'n'},\n",
       "  'dt_txt': '2024-11-16 18:00:00'},\n",
       " {'dt': 1731790800,\n",
       "  'main': {'temp': 16.13,\n",
       "   'feels_like': 15.7,\n",
       "   'temp_min': 16.13,\n",
       "   'temp_max': 16.13,\n",
       "   'pressure': 1021,\n",
       "   'sea_level': 1021,\n",
       "   'grnd_level': 1013,\n",
       "   'humidity': 73,\n",
       "   'temp_kf': 0},\n",
       "  'weather': [{'id': 500,\n",
       "    'main': 'Rain',\n",
       "    'description': 'light rain',\n",
       "    'icon': '10n'}],\n",
       "  'clouds': {'all': 100},\n",
       "  'wind': {'speed': 1.69, 'deg': 215, 'gust': 2.54},\n",
       "  'visibility': 10000,\n",
       "  'pop': 0.2,\n",
       "  'rain': {'3h': 0.14},\n",
       "  'sys': {'pod': 'n'},\n",
       "  'dt_txt': '2024-11-16 21:00:00'},\n",
       " {'dt': 1731801600,\n",
       "  'main': {'temp': 16.05,\n",
       "   'feels_like': 15.69,\n",
       "   'temp_min': 16.05,\n",
       "   'temp_max': 16.05,\n",
       "   'pressure': 1019,\n",
       "   'sea_level': 1019,\n",
       "   'grnd_level': 1012,\n",
       "   'humidity': 76,\n",
       "   'temp_kf': 0},\n",
       "  'weather': [{'id': 804,\n",
       "    'main': 'Clouds',\n",
       "    'description': 'overcast clouds',\n",
       "    'icon': '04n'}],\n",
       "  'clouds': {'all': 100},\n",
       "  'wind': {'speed': 1.11, 'deg': 289, 'gust': 1.86},\n",
       "  'visibility': 10000,\n",
       "  'pop': 0,\n",
       "  'sys': {'pod': 'n'},\n",
       "  'dt_txt': '2024-11-17 00:00:00'},\n",
       " {'dt': 1731812400,\n",
       "  'main': {'temp': 15.33,\n",
       "   'feels_like': 15.06,\n",
       "   'temp_min': 15.33,\n",
       "   'temp_max': 15.33,\n",
       "   'pressure': 1018,\n",
       "   'sea_level': 1018,\n",
       "   'grnd_level': 1010,\n",
       "   'humidity': 82,\n",
       "   'temp_kf': 0},\n",
       "  'weather': [{'id': 804,\n",
       "    'main': 'Clouds',\n",
       "    'description': 'overcast clouds',\n",
       "    'icon': '04n'}],\n",
       "  'clouds': {'all': 100},\n",
       "  'wind': {'speed': 1.88, 'deg': 332, 'gust': 2.44},\n",
       "  'visibility': 10000,\n",
       "  'pop': 0,\n",
       "  'sys': {'pod': 'n'},\n",
       "  'dt_txt': '2024-11-17 03:00:00'},\n",
       " {'dt': 1731823200,\n",
       "  'main': {'temp': 14.57,\n",
       "   'feels_like': 14.3,\n",
       "   'temp_min': 14.57,\n",
       "   'temp_max': 14.57,\n",
       "   'pressure': 1017,\n",
       "   'sea_level': 1017,\n",
       "   'grnd_level': 1010,\n",
       "   'humidity': 85,\n",
       "   'temp_kf': 0},\n",
       "  'weather': [{'id': 804,\n",
       "    'main': 'Clouds',\n",
       "    'description': 'overcast clouds',\n",
       "    'icon': '04n'}],\n",
       "  'clouds': {'all': 100},\n",
       "  'wind': {'speed': 2.88, 'deg': 329, 'gust': 3.44},\n",
       "  'visibility': 10000,\n",
       "  'pop': 0,\n",
       "  'sys': {'pod': 'n'},\n",
       "  'dt_txt': '2024-11-17 06:00:00'},\n",
       " {'dt': 1731834000,\n",
       "  'main': {'temp': 14.55,\n",
       "   'feels_like': 13.99,\n",
       "   'temp_min': 14.55,\n",
       "   'temp_max': 14.55,\n",
       "   'pressure': 1017,\n",
       "   'sea_level': 1017,\n",
       "   'grnd_level': 1009,\n",
       "   'humidity': 74,\n",
       "   'temp_kf': 0},\n",
       "  'weather': [{'id': 803,\n",
       "    'main': 'Clouds',\n",
       "    'description': 'broken clouds',\n",
       "    'icon': '04d'}],\n",
       "  'clouds': {'all': 68},\n",
       "  'wind': {'speed': 4.93, 'deg': 320, 'gust': 6.78},\n",
       "  'visibility': 10000,\n",
       "  'pop': 0,\n",
       "  'sys': {'pod': 'd'},\n",
       "  'dt_txt': '2024-11-17 09:00:00'},\n",
       " {'dt': 1731844800,\n",
       "  'main': {'temp': 16.16,\n",
       "   'feels_like': 15.42,\n",
       "   'temp_min': 16.16,\n",
       "   'temp_max': 16.16,\n",
       "   'pressure': 1015,\n",
       "   'sea_level': 1015,\n",
       "   'grnd_level': 1008,\n",
       "   'humidity': 61,\n",
       "   'temp_kf': 0},\n",
       "  'weather': [{'id': 802,\n",
       "    'main': 'Clouds',\n",
       "    'description': 'scattered clouds',\n",
       "    'icon': '03d'}],\n",
       "  'clouds': {'all': 39},\n",
       "  'wind': {'speed': 6.52, 'deg': 309, 'gust': 8.16},\n",
       "  'visibility': 10000,\n",
       "  'pop': 0,\n",
       "  'sys': {'pod': 'd'},\n",
       "  'dt_txt': '2024-11-17 12:00:00'},\n",
       " {'dt': 1731855600,\n",
       "  'main': {'temp': 17.21,\n",
       "   'feels_like': 16.37,\n",
       "   'temp_min': 17.21,\n",
       "   'temp_max': 17.21,\n",
       "   'pressure': 1014,\n",
       "   'sea_level': 1014,\n",
       "   'grnd_level': 1007,\n",
       "   'humidity': 53,\n",
       "   'temp_kf': 0},\n",
       "  'weather': [{'id': 803,\n",
       "    'main': 'Clouds',\n",
       "    'description': 'broken clouds',\n",
       "    'icon': '04d'}],\n",
       "  'clouds': {'all': 54},\n",
       "  'wind': {'speed': 7.77, 'deg': 314, 'gust': 11.92},\n",
       "  'visibility': 10000,\n",
       "  'pop': 0,\n",
       "  'sys': {'pod': 'd'},\n",
       "  'dt_txt': '2024-11-17 15:00:00'},\n",
       " {'dt': 1731866400,\n",
       "  'main': {'temp': 16.53,\n",
       "   'feels_like': 15.6,\n",
       "   'temp_min': 16.53,\n",
       "   'temp_max': 16.53,\n",
       "   'pressure': 1014,\n",
       "   'sea_level': 1014,\n",
       "   'grnd_level': 1007,\n",
       "   'humidity': 52,\n",
       "   'temp_kf': 0},\n",
       "  'weather': [{'id': 803,\n",
       "    'main': 'Clouds',\n",
       "    'description': 'broken clouds',\n",
       "    'icon': '04n'}],\n",
       "  'clouds': {'all': 77},\n",
       "  'wind': {'speed': 7.75, 'deg': 311, 'gust': 13.1},\n",
       "  'visibility': 10000,\n",
       "  'pop': 0,\n",
       "  'sys': {'pod': 'n'},\n",
       "  'dt_txt': '2024-11-17 18:00:00'},\n",
       " {'dt': 1731877200,\n",
       "  'main': {'temp': 15.47,\n",
       "   'feels_like': 14.43,\n",
       "   'temp_min': 15.47,\n",
       "   'temp_max': 15.47,\n",
       "   'pressure': 1015,\n",
       "   'sea_level': 1015,\n",
       "   'grnd_level': 1007,\n",
       "   'humidity': 52,\n",
       "   'temp_kf': 0},\n",
       "  'weather': [{'id': 804,\n",
       "    'main': 'Clouds',\n",
       "    'description': 'overcast clouds',\n",
       "    'icon': '04n'}],\n",
       "  'clouds': {'all': 98},\n",
       "  'wind': {'speed': 8.5, 'deg': 319, 'gust': 14.95},\n",
       "  'visibility': 10000,\n",
       "  'pop': 0,\n",
       "  'sys': {'pod': 'n'},\n",
       "  'dt_txt': '2024-11-17 21:00:00'},\n",
       " {'dt': 1731888000,\n",
       "  'main': {'temp': 14.56,\n",
       "   'feels_like': 13.51,\n",
       "   'temp_min': 14.56,\n",
       "   'temp_max': 14.56,\n",
       "   'pressure': 1015,\n",
       "   'sea_level': 1015,\n",
       "   'grnd_level': 1007,\n",
       "   'humidity': 55,\n",
       "   'temp_kf': 0},\n",
       "  'weather': [{'id': 804,\n",
       "    'main': 'Clouds',\n",
       "    'description': 'overcast clouds',\n",
       "    'icon': '04n'}],\n",
       "  'clouds': {'all': 99},\n",
       "  'wind': {'speed': 11.45, 'deg': 324, 'gust': 16.89},\n",
       "  'visibility': 10000,\n",
       "  'pop': 0,\n",
       "  'sys': {'pod': 'n'},\n",
       "  'dt_txt': '2024-11-18 00:00:00'},\n",
       " {'dt': 1731898800,\n",
       "  'main': {'temp': 13.49,\n",
       "   'feels_like': 12.51,\n",
       "   'temp_min': 13.49,\n",
       "   'temp_max': 13.49,\n",
       "   'pressure': 1014,\n",
       "   'sea_level': 1014,\n",
       "   'grnd_level': 1007,\n",
       "   'humidity': 62,\n",
       "   'temp_kf': 0},\n",
       "  'weather': [{'id': 804,\n",
       "    'main': 'Clouds',\n",
       "    'description': 'overcast clouds',\n",
       "    'icon': '04n'}],\n",
       "  'clouds': {'all': 100},\n",
       "  'wind': {'speed': 12.49, 'deg': 324, 'gust': 18.38},\n",
       "  'visibility': 10000,\n",
       "  'pop': 0,\n",
       "  'sys': {'pod': 'n'},\n",
       "  'dt_txt': '2024-11-18 03:00:00'},\n",
       " {'dt': 1731909600,\n",
       "  'main': {'temp': 12.68,\n",
       "   'feels_like': 11.75,\n",
       "   'temp_min': 12.68,\n",
       "   'temp_max': 12.68,\n",
       "   'pressure': 1014,\n",
       "   'sea_level': 1014,\n",
       "   'grnd_level': 1007,\n",
       "   'humidity': 67,\n",
       "   'temp_kf': 0},\n",
       "  'weather': [{'id': 804,\n",
       "    'main': 'Clouds',\n",
       "    'description': 'overcast clouds',\n",
       "    'icon': '04n'}],\n",
       "  'clouds': {'all': 91},\n",
       "  'wind': {'speed': 13.81, 'deg': 319, 'gust': 19.41},\n",
       "  'visibility': 10000,\n",
       "  'pop': 0,\n",
       "  'sys': {'pod': 'n'},\n",
       "  'dt_txt': '2024-11-18 06:00:00'},\n",
       " {'dt': 1731920400,\n",
       "  'main': {'temp': 13.41,\n",
       "   'feels_like': 12.37,\n",
       "   'temp_min': 13.41,\n",
       "   'temp_max': 13.41,\n",
       "   'pressure': 1015,\n",
       "   'sea_level': 1015,\n",
       "   'grnd_level': 1007,\n",
       "   'humidity': 60,\n",
       "   'temp_kf': 0},\n",
       "  'weather': [{'id': 804,\n",
       "    'main': 'Clouds',\n",
       "    'description': 'overcast clouds',\n",
       "    'icon': '04d'}],\n",
       "  'clouds': {'all': 96},\n",
       "  'wind': {'speed': 14.84, 'deg': 319, 'gust': 19.75},\n",
       "  'visibility': 10000,\n",
       "  'pop': 0,\n",
       "  'sys': {'pod': 'd'},\n",
       "  'dt_txt': '2024-11-18 09:00:00'},\n",
       " {'dt': 1731931200,\n",
       "  'main': {'temp': 14.41,\n",
       "   'feels_like': 13.34,\n",
       "   'temp_min': 14.41,\n",
       "   'temp_max': 14.41,\n",
       "   'pressure': 1015,\n",
       "   'sea_level': 1015,\n",
       "   'grnd_level': 1007,\n",
       "   'humidity': 55,\n",
       "   'temp_kf': 0},\n",
       "  'weather': [{'id': 803,\n",
       "    'main': 'Clouds',\n",
       "    'description': 'broken clouds',\n",
       "    'icon': '04d'}],\n",
       "  'clouds': {'all': 84},\n",
       "  'wind': {'speed': 12.38, 'deg': 325, 'gust': 15.5},\n",
       "  'visibility': 10000,\n",
       "  'pop': 0,\n",
       "  'sys': {'pod': 'd'},\n",
       "  'dt_txt': '2024-11-18 12:00:00'},\n",
       " {'dt': 1731942000,\n",
       "  'main': {'temp': 14.28,\n",
       "   'feels_like': 13.23,\n",
       "   'temp_min': 14.28,\n",
       "   'temp_max': 14.28,\n",
       "   'pressure': 1014,\n",
       "   'sea_level': 1014,\n",
       "   'grnd_level': 1007,\n",
       "   'humidity': 56,\n",
       "   'temp_kf': 0},\n",
       "  'weather': [{'id': 804,\n",
       "    'main': 'Clouds',\n",
       "    'description': 'overcast clouds',\n",
       "    'icon': '04d'}],\n",
       "  'clouds': {'all': 88},\n",
       "  'wind': {'speed': 10.5, 'deg': 319, 'gust': 13.92},\n",
       "  'visibility': 10000,\n",
       "  'pop': 0,\n",
       "  'sys': {'pod': 'd'},\n",
       "  'dt_txt': '2024-11-18 15:00:00'},\n",
       " {'dt': 1731952800,\n",
       "  'main': {'temp': 14.62,\n",
       "   'feels_like': 13.42,\n",
       "   'temp_min': 14.62,\n",
       "   'temp_max': 14.62,\n",
       "   'pressure': 1014,\n",
       "   'sea_level': 1014,\n",
       "   'grnd_level': 1007,\n",
       "   'humidity': 49,\n",
       "   'temp_kf': 0},\n",
       "  'weather': [{'id': 804,\n",
       "    'main': 'Clouds',\n",
       "    'description': 'overcast clouds',\n",
       "    'icon': '04n'}],\n",
       "  'clouds': {'all': 90},\n",
       "  'wind': {'speed': 7.17, 'deg': 324, 'gust': 13.31},\n",
       "  'visibility': 10000,\n",
       "  'pop': 0,\n",
       "  'sys': {'pod': 'n'},\n",
       "  'dt_txt': '2024-11-18 18:00:00'},\n",
       " {'dt': 1731963600,\n",
       "  'main': {'temp': 13.76,\n",
       "   'feels_like': 12.58,\n",
       "   'temp_min': 13.76,\n",
       "   'temp_max': 13.76,\n",
       "   'pressure': 1015,\n",
       "   'sea_level': 1015,\n",
       "   'grnd_level': 1008,\n",
       "   'humidity': 53,\n",
       "   'temp_kf': 0},\n",
       "  'weather': [{'id': 800,\n",
       "    'main': 'Clear',\n",
       "    'description': 'clear sky',\n",
       "    'icon': '01n'}],\n",
       "  'clouds': {'all': 7},\n",
       "  'wind': {'speed': 6.34, 'deg': 313, 'gust': 11.61},\n",
       "  'visibility': 10000,\n",
       "  'pop': 0,\n",
       "  'sys': {'pod': 'n'},\n",
       "  'dt_txt': '2024-11-18 21:00:00'},\n",
       " {'dt': 1731974400,\n",
       "  'main': {'temp': 12.63,\n",
       "   'feels_like': 11.49,\n",
       "   'temp_min': 12.63,\n",
       "   'temp_max': 12.63,\n",
       "   'pressure': 1015,\n",
       "   'sea_level': 1015,\n",
       "   'grnd_level': 1007,\n",
       "   'humidity': 59,\n",
       "   'temp_kf': 0},\n",
       "  'weather': [{'id': 801,\n",
       "    'main': 'Clouds',\n",
       "    'description': 'few clouds',\n",
       "    'icon': '02n'}],\n",
       "  'clouds': {'all': 22},\n",
       "  'wind': {'speed': 7.02, 'deg': 316, 'gust': 11.53},\n",
       "  'visibility': 10000,\n",
       "  'pop': 0,\n",
       "  'sys': {'pod': 'n'},\n",
       "  'dt_txt': '2024-11-19 00:00:00'},\n",
       " {'dt': 1731985200,\n",
       "  'main': {'temp': 12.17,\n",
       "   'feels_like': 11.14,\n",
       "   'temp_min': 12.17,\n",
       "   'temp_max': 12.17,\n",
       "   'pressure': 1014,\n",
       "   'sea_level': 1014,\n",
       "   'grnd_level': 1007,\n",
       "   'humidity': 65,\n",
       "   'temp_kf': 0},\n",
       "  'weather': [{'id': 804,\n",
       "    'main': 'Clouds',\n",
       "    'description': 'overcast clouds',\n",
       "    'icon': '04n'}],\n",
       "  'clouds': {'all': 100},\n",
       "  'wind': {'speed': 6.45, 'deg': 316, 'gust': 10.63},\n",
       "  'visibility': 10000,\n",
       "  'pop': 0,\n",
       "  'sys': {'pod': 'n'},\n",
       "  'dt_txt': '2024-11-19 03:00:00'},\n",
       " {'dt': 1731996000,\n",
       "  'main': {'temp': 11.74,\n",
       "   'feels_like': 10.72,\n",
       "   'temp_min': 11.74,\n",
       "   'temp_max': 11.74,\n",
       "   'pressure': 1014,\n",
       "   'sea_level': 1014,\n",
       "   'grnd_level': 1007,\n",
       "   'humidity': 67,\n",
       "   'temp_kf': 0},\n",
       "  'weather': [{'id': 804,\n",
       "    'main': 'Clouds',\n",
       "    'description': 'overcast clouds',\n",
       "    'icon': '04n'}],\n",
       "  'clouds': {'all': 100},\n",
       "  'wind': {'speed': 5.91, 'deg': 313, 'gust': 10.3},\n",
       "  'visibility': 10000,\n",
       "  'pop': 0,\n",
       "  'sys': {'pod': 'n'},\n",
       "  'dt_txt': '2024-11-19 06:00:00'},\n",
       " {'dt': 1732006800,\n",
       "  'main': {'temp': 12.46,\n",
       "   'feels_like': 11.48,\n",
       "   'temp_min': 12.46,\n",
       "   'temp_max': 12.46,\n",
       "   'pressure': 1015,\n",
       "   'sea_level': 1015,\n",
       "   'grnd_level': 1008,\n",
       "   'humidity': 66,\n",
       "   'temp_kf': 0},\n",
       "  'weather': [{'id': 803,\n",
       "    'main': 'Clouds',\n",
       "    'description': 'broken clouds',\n",
       "    'icon': '04d'}],\n",
       "  'clouds': {'all': 73},\n",
       "  'wind': {'speed': 6.89, 'deg': 316, 'gust': 10.85},\n",
       "  'visibility': 10000,\n",
       "  'pop': 0,\n",
       "  'sys': {'pod': 'd'},\n",
       "  'dt_txt': '2024-11-19 09:00:00'},\n",
       " {'dt': 1732017600,\n",
       "  'main': {'temp': 14.98,\n",
       "   'feels_like': 14.1,\n",
       "   'temp_min': 14.98,\n",
       "   'temp_max': 14.98,\n",
       "   'pressure': 1014,\n",
       "   'sea_level': 1014,\n",
       "   'grnd_level': 1007,\n",
       "   'humidity': 60,\n",
       "   'temp_kf': 0},\n",
       "  'weather': [{'id': 802,\n",
       "    'main': 'Clouds',\n",
       "    'description': 'scattered clouds',\n",
       "    'icon': '03d'}],\n",
       "  'clouds': {'all': 39},\n",
       "  'wind': {'speed': 8.62, 'deg': 303, 'gust': 12.07},\n",
       "  'visibility': 10000,\n",
       "  'pop': 0,\n",
       "  'sys': {'pod': 'd'},\n",
       "  'dt_txt': '2024-11-19 12:00:00'},\n",
       " {'dt': 1732028400,\n",
       "  'main': {'temp': 16.31,\n",
       "   'feels_like': 15.56,\n",
       "   'temp_min': 16.31,\n",
       "   'temp_max': 16.31,\n",
       "   'pressure': 1013,\n",
       "   'sea_level': 1013,\n",
       "   'grnd_level': 1006,\n",
       "   'humidity': 60,\n",
       "   'temp_kf': 0},\n",
       "  'weather': [{'id': 800,\n",
       "    'main': 'Clear',\n",
       "    'description': 'clear sky',\n",
       "    'icon': '01d'}],\n",
       "  'clouds': {'all': 0},\n",
       "  'wind': {'speed': 10.53, 'deg': 300, 'gust': 13.96},\n",
       "  'visibility': 10000,\n",
       "  'pop': 0,\n",
       "  'sys': {'pod': 'd'},\n",
       "  'dt_txt': '2024-11-19 15:00:00'},\n",
       " {'dt': 1732039200,\n",
       "  'main': {'temp': 15.04,\n",
       "   'feels_like': 14.4,\n",
       "   'temp_min': 15.04,\n",
       "   'temp_max': 15.04,\n",
       "   'pressure': 1013,\n",
       "   'sea_level': 1013,\n",
       "   'grnd_level': 1006,\n",
       "   'humidity': 69,\n",
       "   'temp_kf': 0},\n",
       "  'weather': [{'id': 800,\n",
       "    'main': 'Clear',\n",
       "    'description': 'clear sky',\n",
       "    'icon': '01n'}],\n",
       "  'clouds': {'all': 3},\n",
       "  'wind': {'speed': 9.52, 'deg': 307, 'gust': 14.76},\n",
       "  'visibility': 10000,\n",
       "  'pop': 0,\n",
       "  'sys': {'pod': 'n'},\n",
       "  'dt_txt': '2024-11-19 18:00:00'},\n",
       " {'dt': 1732050000,\n",
       "  'main': {'temp': 15.39,\n",
       "   'feels_like': 14.86,\n",
       "   'temp_min': 15.39,\n",
       "   'temp_max': 15.39,\n",
       "   'pressure': 1013,\n",
       "   'sea_level': 1013,\n",
       "   'grnd_level': 1006,\n",
       "   'humidity': 72,\n",
       "   'temp_kf': 0},\n",
       "  'weather': [{'id': 802,\n",
       "    'main': 'Clouds',\n",
       "    'description': 'scattered clouds',\n",
       "    'icon': '03n'}],\n",
       "  'clouds': {'all': 42},\n",
       "  'wind': {'speed': 10.99, 'deg': 298, 'gust': 15.94},\n",
       "  'visibility': 10000,\n",
       "  'pop': 0,\n",
       "  'sys': {'pod': 'n'},\n",
       "  'dt_txt': '2024-11-19 21:00:00'},\n",
       " {'dt': 1732060800,\n",
       "  'main': {'temp': 15.55,\n",
       "   'feels_like': 15.04,\n",
       "   'temp_min': 15.55,\n",
       "   'temp_max': 15.55,\n",
       "   'pressure': 1012,\n",
       "   'sea_level': 1012,\n",
       "   'grnd_level': 1005,\n",
       "   'humidity': 72,\n",
       "   'temp_kf': 0},\n",
       "  'weather': [{'id': 803,\n",
       "    'main': 'Clouds',\n",
       "    'description': 'broken clouds',\n",
       "    'icon': '04n'}],\n",
       "  'clouds': {'all': 70},\n",
       "  'wind': {'speed': 10.86, 'deg': 291, 'gust': 15.95},\n",
       "  'visibility': 10000,\n",
       "  'pop': 0,\n",
       "  'sys': {'pod': 'n'},\n",
       "  'dt_txt': '2024-11-20 00:00:00'},\n",
       " {'dt': 1732071600,\n",
       "  'main': {'temp': 15.24,\n",
       "   'feels_like': 14.7,\n",
       "   'temp_min': 15.24,\n",
       "   'temp_max': 15.24,\n",
       "   'pressure': 1011,\n",
       "   'sea_level': 1011,\n",
       "   'grnd_level': 1003,\n",
       "   'humidity': 72,\n",
       "   'temp_kf': 0},\n",
       "  'weather': [{'id': 804,\n",
       "    'main': 'Clouds',\n",
       "    'description': 'overcast clouds',\n",
       "    'icon': '04n'}],\n",
       "  'clouds': {'all': 100},\n",
       "  'wind': {'speed': 10.35, 'deg': 291, 'gust': 15.87},\n",
       "  'visibility': 10000,\n",
       "  'pop': 0,\n",
       "  'sys': {'pod': 'n'},\n",
       "  'dt_txt': '2024-11-20 03:00:00'},\n",
       " {'dt': 1732082400,\n",
       "  'main': {'temp': 15.54,\n",
       "   'feels_like': 15,\n",
       "   'temp_min': 15.54,\n",
       "   'temp_max': 15.54,\n",
       "   'pressure': 1008,\n",
       "   'sea_level': 1008,\n",
       "   'grnd_level': 1001,\n",
       "   'humidity': 71,\n",
       "   'temp_kf': 0},\n",
       "  'weather': [{'id': 804,\n",
       "    'main': 'Clouds',\n",
       "    'description': 'overcast clouds',\n",
       "    'icon': '04n'}],\n",
       "  'clouds': {'all': 94},\n",
       "  'wind': {'speed': 12.01, 'deg': 291, 'gust': 19.39},\n",
       "  'visibility': 10000,\n",
       "  'pop': 0,\n",
       "  'sys': {'pod': 'n'},\n",
       "  'dt_txt': '2024-11-20 06:00:00'},\n",
       " {'dt': 1732093200,\n",
       "  'main': {'temp': 16.45,\n",
       "   'feels_like': 16.06,\n",
       "   'temp_min': 16.45,\n",
       "   'temp_max': 16.45,\n",
       "   'pressure': 1007,\n",
       "   'sea_level': 1007,\n",
       "   'grnd_level': 1000,\n",
       "   'humidity': 73,\n",
       "   'temp_kf': 0},\n",
       "  'weather': [{'id': 804,\n",
       "    'main': 'Clouds',\n",
       "    'description': 'overcast clouds',\n",
       "    'icon': '04d'}],\n",
       "  'clouds': {'all': 100},\n",
       "  'wind': {'speed': 13.8, 'deg': 281, 'gust': 21.87},\n",
       "  'visibility': 10000,\n",
       "  'pop': 0,\n",
       "  'sys': {'pod': 'd'},\n",
       "  'dt_txt': '2024-11-20 09:00:00'},\n",
       " {'dt': 1732104000,\n",
       "  'main': {'temp': 16.71,\n",
       "   'feels_like': 16.32,\n",
       "   'temp_min': 16.71,\n",
       "   'temp_max': 16.71,\n",
       "   'pressure': 1006,\n",
       "   'sea_level': 1006,\n",
       "   'grnd_level': 999,\n",
       "   'humidity': 72,\n",
       "   'temp_kf': 0},\n",
       "  'weather': [{'id': 500,\n",
       "    'main': 'Rain',\n",
       "    'description': 'light rain',\n",
       "    'icon': '10d'}],\n",
       "  'clouds': {'all': 100},\n",
       "  'wind': {'speed': 12.96, 'deg': 291, 'gust': 15.84},\n",
       "  'visibility': 10000,\n",
       "  'pop': 0.2,\n",
       "  'rain': {'3h': 0.27},\n",
       "  'sys': {'pod': 'd'},\n",
       "  'dt_txt': '2024-11-20 12:00:00'},\n",
       " {'dt': 1732114800,\n",
       "  'main': {'temp': 15.8,\n",
       "   'feels_like': 15.13,\n",
       "   'temp_min': 15.8,\n",
       "   'temp_max': 15.8,\n",
       "   'pressure': 1006,\n",
       "   'sea_level': 1006,\n",
       "   'grnd_level': 998,\n",
       "   'humidity': 65,\n",
       "   'temp_kf': 0},\n",
       "  'weather': [{'id': 500,\n",
       "    'main': 'Rain',\n",
       "    'description': 'light rain',\n",
       "    'icon': '10d'}],\n",
       "  'clouds': {'all': 85},\n",
       "  'wind': {'speed': 13.92, 'deg': 300, 'gust': 20.34},\n",
       "  'visibility': 10000,\n",
       "  'pop': 0.2,\n",
       "  'rain': {'3h': 0.18},\n",
       "  'sys': {'pod': 'd'},\n",
       "  'dt_txt': '2024-11-20 15:00:00'}]"
      ]
     },
     "execution_count": 12,
     "metadata": {},
     "output_type": "execute_result"
    }
   ],
   "source": [
    "response.json().get('list')"
   ]
  },
  {
   "cell_type": "markdown",
   "metadata": {},
   "source": [
    "CREATION DU DATAFRAME AVEC LES PREVISIONS METEO POUR UNE SEULE VILLE"
   ]
  },
  {
   "cell_type": "code",
   "execution_count": 13,
   "metadata": {},
   "outputs": [],
   "source": [
    "liste_previsions_une_ville = response.json().get('list')\n",
    "\n",
    "len(liste_previsions_une_ville)\n",
    "df_prevision_une_ville = pd.DataFrame(columns=['Ville','date','heure', 'temp','id_type_temps','type_temps'])\n",
    "for i in range(len(liste_previsions_une_ville)):\n",
    "    \n",
    "    ville = 'Marseille'\n",
    "    dt_text= liste_previsions_une_ville[i]['dt_txt']\n",
    "    date = dt_text.split(\" \")[0]\n",
    "    heure= dt_text.split(\" \")[1]\n",
    "    temp=liste_previsions_une_ville[i]['main']['temp']\n",
    "    id_type_temps=liste_previsions_une_ville[i]['weather'][0]['id']\n",
    "    type_temps=liste_previsions_une_ville[i]['weather'][0]['main']\n",
    "\n",
    "    df_prevision_une_ville.loc[i] = [ville,date,heure,temp,id_type_temps,type_temps]"
   ]
  },
  {
   "cell_type": "code",
   "execution_count": 14,
   "metadata": {},
   "outputs": [
    {
     "data": {
      "text/html": [
       "<div>\n",
       "<style scoped>\n",
       "    .dataframe tbody tr th:only-of-type {\n",
       "        vertical-align: middle;\n",
       "    }\n",
       "\n",
       "    .dataframe tbody tr th {\n",
       "        vertical-align: top;\n",
       "    }\n",
       "\n",
       "    .dataframe thead th {\n",
       "        text-align: right;\n",
       "    }\n",
       "</style>\n",
       "<table border=\"1\" class=\"dataframe\">\n",
       "  <thead>\n",
       "    <tr style=\"text-align: right;\">\n",
       "      <th></th>\n",
       "      <th>Ville</th>\n",
       "      <th>date</th>\n",
       "      <th>heure</th>\n",
       "      <th>temp</th>\n",
       "      <th>id_type_temps</th>\n",
       "      <th>type_temps</th>\n",
       "    </tr>\n",
       "  </thead>\n",
       "  <tbody>\n",
       "    <tr>\n",
       "      <th>0</th>\n",
       "      <td>Marseille</td>\n",
       "      <td>2024-11-15</td>\n",
       "      <td>18:00:00</td>\n",
       "      <td>14.42</td>\n",
       "      <td>800</td>\n",
       "      <td>Clear</td>\n",
       "    </tr>\n",
       "    <tr>\n",
       "      <th>1</th>\n",
       "      <td>Marseille</td>\n",
       "      <td>2024-11-15</td>\n",
       "      <td>21:00:00</td>\n",
       "      <td>14.59</td>\n",
       "      <td>800</td>\n",
       "      <td>Clear</td>\n",
       "    </tr>\n",
       "    <tr>\n",
       "      <th>2</th>\n",
       "      <td>Marseille</td>\n",
       "      <td>2024-11-16</td>\n",
       "      <td>00:00:00</td>\n",
       "      <td>14.34</td>\n",
       "      <td>800</td>\n",
       "      <td>Clear</td>\n",
       "    </tr>\n",
       "    <tr>\n",
       "      <th>3</th>\n",
       "      <td>Marseille</td>\n",
       "      <td>2024-11-16</td>\n",
       "      <td>03:00:00</td>\n",
       "      <td>13.87</td>\n",
       "      <td>800</td>\n",
       "      <td>Clear</td>\n",
       "    </tr>\n",
       "    <tr>\n",
       "      <th>4</th>\n",
       "      <td>Marseille</td>\n",
       "      <td>2024-11-16</td>\n",
       "      <td>06:00:00</td>\n",
       "      <td>13.42</td>\n",
       "      <td>800</td>\n",
       "      <td>Clear</td>\n",
       "    </tr>\n",
       "  </tbody>\n",
       "</table>\n",
       "</div>"
      ],
      "text/plain": [
       "       Ville        date     heure   temp  id_type_temps type_temps\n",
       "0  Marseille  2024-11-15  18:00:00  14.42            800      Clear\n",
       "1  Marseille  2024-11-15  21:00:00  14.59            800      Clear\n",
       "2  Marseille  2024-11-16  00:00:00  14.34            800      Clear\n",
       "3  Marseille  2024-11-16  03:00:00  13.87            800      Clear\n",
       "4  Marseille  2024-11-16  06:00:00  13.42            800      Clear"
      ]
     },
     "execution_count": 14,
     "metadata": {},
     "output_type": "execute_result"
    }
   ],
   "source": [
    "df_prevision_une_ville.head()"
   ]
  },
  {
   "cell_type": "markdown",
   "metadata": {},
   "source": [
    "ON PREND PAS LES PREVISIONS ENTRE MINUIT ET 6H"
   ]
  },
  {
   "cell_type": "code",
   "execution_count": 15,
   "metadata": {},
   "outputs": [],
   "source": [
    "mask = df_prevision_une_ville['heure'] >= '06:00:00'\n",
    "data = df_prevision_une_ville[mask]"
   ]
  },
  {
   "cell_type": "code",
   "execution_count": 16,
   "metadata": {},
   "outputs": [
    {
     "data": {
      "text/html": [
       "<div>\n",
       "<style scoped>\n",
       "    .dataframe tbody tr th:only-of-type {\n",
       "        vertical-align: middle;\n",
       "    }\n",
       "\n",
       "    .dataframe tbody tr th {\n",
       "        vertical-align: top;\n",
       "    }\n",
       "\n",
       "    .dataframe thead th {\n",
       "        text-align: right;\n",
       "    }\n",
       "</style>\n",
       "<table border=\"1\" class=\"dataframe\">\n",
       "  <thead>\n",
       "    <tr style=\"text-align: right;\">\n",
       "      <th></th>\n",
       "      <th>Ville</th>\n",
       "      <th>date</th>\n",
       "      <th>heure</th>\n",
       "      <th>temp</th>\n",
       "      <th>id_type_temps</th>\n",
       "      <th>type_temps</th>\n",
       "    </tr>\n",
       "  </thead>\n",
       "  <tbody>\n",
       "    <tr>\n",
       "      <th>0</th>\n",
       "      <td>Marseille</td>\n",
       "      <td>2024-11-15</td>\n",
       "      <td>18:00:00</td>\n",
       "      <td>14.42</td>\n",
       "      <td>800</td>\n",
       "      <td>Clear</td>\n",
       "    </tr>\n",
       "    <tr>\n",
       "      <th>1</th>\n",
       "      <td>Marseille</td>\n",
       "      <td>2024-11-15</td>\n",
       "      <td>21:00:00</td>\n",
       "      <td>14.59</td>\n",
       "      <td>800</td>\n",
       "      <td>Clear</td>\n",
       "    </tr>\n",
       "    <tr>\n",
       "      <th>4</th>\n",
       "      <td>Marseille</td>\n",
       "      <td>2024-11-16</td>\n",
       "      <td>06:00:00</td>\n",
       "      <td>13.42</td>\n",
       "      <td>800</td>\n",
       "      <td>Clear</td>\n",
       "    </tr>\n",
       "    <tr>\n",
       "      <th>5</th>\n",
       "      <td>Marseille</td>\n",
       "      <td>2024-11-16</td>\n",
       "      <td>09:00:00</td>\n",
       "      <td>14.33</td>\n",
       "      <td>800</td>\n",
       "      <td>Clear</td>\n",
       "    </tr>\n",
       "    <tr>\n",
       "      <th>6</th>\n",
       "      <td>Marseille</td>\n",
       "      <td>2024-11-16</td>\n",
       "      <td>12:00:00</td>\n",
       "      <td>15.70</td>\n",
       "      <td>800</td>\n",
       "      <td>Clear</td>\n",
       "    </tr>\n",
       "  </tbody>\n",
       "</table>\n",
       "</div>"
      ],
      "text/plain": [
       "       Ville        date     heure   temp  id_type_temps type_temps\n",
       "0  Marseille  2024-11-15  18:00:00  14.42            800      Clear\n",
       "1  Marseille  2024-11-15  21:00:00  14.59            800      Clear\n",
       "4  Marseille  2024-11-16  06:00:00  13.42            800      Clear\n",
       "5  Marseille  2024-11-16  09:00:00  14.33            800      Clear\n",
       "6  Marseille  2024-11-16  12:00:00  15.70            800      Clear"
      ]
     },
     "execution_count": 16,
     "metadata": {},
     "output_type": "execute_result"
    }
   ],
   "source": [
    "data.head()"
   ]
  },
  {
   "cell_type": "markdown",
   "metadata": {},
   "source": [
    "+++++++++++++++++++++++++++++++++++++++++++++++++++++++++++++++++++++++++++++++++++++++++++\n",
    "\n",
    "PASSAGE AUX CHOSES SERIEUSES"
   ]
  },
  {
   "cell_type": "markdown",
   "metadata": {},
   "source": [
    "BOUCLE POUR TOUTES LES PREVISIONS DE TOUTES LES VILLES"
   ]
  },
  {
   "cell_type": "code",
   "execution_count": 17,
   "metadata": {},
   "outputs": [],
   "source": [
    "url_ow = \"https://api.openweathermap.org/data/2.5/forecast?\"\n",
    "\n",
    "df_prevision_toutes_les_villes = pd.DataFrame(columns=['Ville','date','heure','Part_of_day', 'temp','id_type_temps','type_temps','couv_nuageuse','vent','prob_pluie','pluie'])\n",
    "\n",
    "# BOUCLE SUR LES VILLES \n",
    "for v in range(len(df_villes)):\n",
    "\n",
    "    lat = df_villes.loc[v,\"lat\"]\n",
    "    lon = df_villes.loc[v,\"lon\"]\n",
    "    p = {'lat' : lat, 'lon' : lon, 'units':'metric', 'appid' :  os.environ.get('openweather_active')}\n",
    "    response = requests.get(url_ow, params=p)\n",
    "    response.json().get('list')\n",
    "\n",
    "    liste_previsions_une_ville_final = response.json().get('list')\n",
    "    nb_prev = len(liste_previsions_une_ville_final)\n",
    "    # BOUCLES SUR LES PREVISIONS\n",
    "    for i in range(len(liste_previsions_une_ville_final)):\n",
    "        \n",
    "        ville = df_villes.loc[v,\"ville\"]\n",
    "        dt_text= liste_previsions_une_ville_final[i]['dt_txt']\n",
    "        date = dt_text.split(\" \")[0]\n",
    "        heure= dt_text.split(\" \")[1]\n",
    "        temp=liste_previsions_une_ville_final[i]['main']['temp']\n",
    "        id_type_temps=liste_previsions_une_ville_final[i]['weather'][0]['id']\n",
    "        type_temps=liste_previsions_une_ville_final[i]['weather'][0]['main']\n",
    "        couv_nuageuse=liste_previsions_une_ville_final[i]['clouds']['all']\n",
    "        vent=liste_previsions_une_ville_final[i]['wind']['speed']\n",
    "        prob_pluie=liste_previsions_une_ville_final[i]['pop']\n",
    "        pluie = 0\n",
    "        if 'rain' in liste_previsions_une_ville_final[i].keys():\n",
    "            pluie = liste_previsions_une_ville_final[i]['rain']['3h']\n",
    "        pod = liste_previsions_une_ville_final[i]['sys']['pod']\n",
    "\n",
    "        df_prevision_toutes_les_villes.loc[len(df_prevision_toutes_les_villes)+1] = [ville,date,heure,pod,temp,id_type_temps,type_temps,couv_nuageuse,vent,prob_pluie,pluie]\n",
    "        "
   ]
  },
  {
   "cell_type": "code",
   "execution_count": 18,
   "metadata": {},
   "outputs": [],
   "source": [
    "mask = df_prevision_toutes_les_villes['heure'] >= '06:00:00'\n",
    "data_toutes_les_villes = df_prevision_toutes_les_villes[mask]"
   ]
  },
  {
   "cell_type": "markdown",
   "metadata": {},
   "source": [
    "ON REGARDE LES DIFFERENTES VALEURS DU TYPE DE METEO POUR ETABLIR UN CLASSEMENT"
   ]
  },
  {
   "cell_type": "code",
   "execution_count": 19,
   "metadata": {},
   "outputs": [
    {
     "data": {
      "text/plain": [
       "array([803, 804, 801, 500, 501, 802, 800, 502], dtype=int64)"
      ]
     },
     "execution_count": 19,
     "metadata": {},
     "output_type": "execute_result"
    }
   ],
   "source": [
    "data_toutes_les_villes['id_type_temps'].unique()"
   ]
  },
  {
   "cell_type": "markdown",
   "metadata": {},
   "source": [
    "MAPPING ET CREATION D'UNE NOUVELLE COLONNE AVEC LA NOTE DE LA PREVISION"
   ]
  },
  {
   "cell_type": "code",
   "execution_count": 20,
   "metadata": {},
   "outputs": [
    {
     "name": "stderr",
     "output_type": "stream",
     "text": [
      "C:\\Users\\Admin\\AppData\\Local\\Temp\\ipykernel_12804\\3510448894.py:2: SettingWithCopyWarning: \n",
      "A value is trying to be set on a copy of a slice from a DataFrame.\n",
      "Try using .loc[row_indexer,col_indexer] = value instead\n",
      "\n",
      "See the caveats in the documentation: https://pandas.pydata.org/pandas-docs/stable/user_guide/indexing.html#returning-a-view-versus-a-copy\n",
      "  data_toutes_les_villes['note_type_temps']=data_toutes_les_villes['id_type_temps'].apply(lambda x: classement[x] if x in classement else 1)\n"
     ]
    }
   ],
   "source": [
    "classement = {800: 10, 801:9,802:8,803:7,804:6,500:4,501:3, 601:2}\n",
    "data_toutes_les_villes['note_type_temps']=data_toutes_les_villes['id_type_temps'].apply(lambda x: classement[x] if x in classement else 1)"
   ]
  },
  {
   "cell_type": "code",
   "execution_count": 21,
   "metadata": {},
   "outputs": [
    {
     "data": {
      "text/html": [
       "<div>\n",
       "<style scoped>\n",
       "    .dataframe tbody tr th:only-of-type {\n",
       "        vertical-align: middle;\n",
       "    }\n",
       "\n",
       "    .dataframe tbody tr th {\n",
       "        vertical-align: top;\n",
       "    }\n",
       "\n",
       "    .dataframe thead th {\n",
       "        text-align: right;\n",
       "    }\n",
       "</style>\n",
       "<table border=\"1\" class=\"dataframe\">\n",
       "  <thead>\n",
       "    <tr style=\"text-align: right;\">\n",
       "      <th></th>\n",
       "      <th>Ville</th>\n",
       "      <th>date</th>\n",
       "      <th>heure</th>\n",
       "      <th>Part_of_day</th>\n",
       "      <th>temp</th>\n",
       "      <th>id_type_temps</th>\n",
       "      <th>type_temps</th>\n",
       "      <th>couv_nuageuse</th>\n",
       "      <th>vent</th>\n",
       "      <th>prob_pluie</th>\n",
       "      <th>pluie</th>\n",
       "      <th>note_type_temps</th>\n",
       "    </tr>\n",
       "  </thead>\n",
       "  <tbody>\n",
       "    <tr>\n",
       "      <th>554</th>\n",
       "      <td>Fort-de-France</td>\n",
       "      <td>2024-11-19</td>\n",
       "      <td>21:00:00</td>\n",
       "      <td>d</td>\n",
       "      <td>27.55</td>\n",
       "      <td>802</td>\n",
       "      <td>Clouds</td>\n",
       "      <td>26</td>\n",
       "      <td>3.80</td>\n",
       "      <td>0.00</td>\n",
       "      <td>0.00</td>\n",
       "      <td>8</td>\n",
       "    </tr>\n",
       "    <tr>\n",
       "      <th>557</th>\n",
       "      <td>Fort-de-France</td>\n",
       "      <td>2024-11-20</td>\n",
       "      <td>06:00:00</td>\n",
       "      <td>n</td>\n",
       "      <td>25.16</td>\n",
       "      <td>500</td>\n",
       "      <td>Rain</td>\n",
       "      <td>15</td>\n",
       "      <td>3.01</td>\n",
       "      <td>0.97</td>\n",
       "      <td>0.15</td>\n",
       "      <td>4</td>\n",
       "    </tr>\n",
       "    <tr>\n",
       "      <th>558</th>\n",
       "      <td>Fort-de-France</td>\n",
       "      <td>2024-11-20</td>\n",
       "      <td>09:00:00</td>\n",
       "      <td>n</td>\n",
       "      <td>25.06</td>\n",
       "      <td>801</td>\n",
       "      <td>Clouds</td>\n",
       "      <td>15</td>\n",
       "      <td>2.52</td>\n",
       "      <td>0.00</td>\n",
       "      <td>0.00</td>\n",
       "      <td>9</td>\n",
       "    </tr>\n",
       "    <tr>\n",
       "      <th>559</th>\n",
       "      <td>Fort-de-France</td>\n",
       "      <td>2024-11-20</td>\n",
       "      <td>12:00:00</td>\n",
       "      <td>d</td>\n",
       "      <td>26.94</td>\n",
       "      <td>500</td>\n",
       "      <td>Rain</td>\n",
       "      <td>23</td>\n",
       "      <td>2.77</td>\n",
       "      <td>0.20</td>\n",
       "      <td>0.21</td>\n",
       "      <td>4</td>\n",
       "    </tr>\n",
       "    <tr>\n",
       "      <th>560</th>\n",
       "      <td>Fort-de-France</td>\n",
       "      <td>2024-11-20</td>\n",
       "      <td>15:00:00</td>\n",
       "      <td>d</td>\n",
       "      <td>28.38</td>\n",
       "      <td>500</td>\n",
       "      <td>Rain</td>\n",
       "      <td>91</td>\n",
       "      <td>3.28</td>\n",
       "      <td>1.00</td>\n",
       "      <td>0.96</td>\n",
       "      <td>4</td>\n",
       "    </tr>\n",
       "  </tbody>\n",
       "</table>\n",
       "</div>"
      ],
      "text/plain": [
       "              Ville        date     heure Part_of_day   temp  id_type_temps  \\\n",
       "554  Fort-de-France  2024-11-19  21:00:00           d  27.55            802   \n",
       "557  Fort-de-France  2024-11-20  06:00:00           n  25.16            500   \n",
       "558  Fort-de-France  2024-11-20  09:00:00           n  25.06            801   \n",
       "559  Fort-de-France  2024-11-20  12:00:00           d  26.94            500   \n",
       "560  Fort-de-France  2024-11-20  15:00:00           d  28.38            500   \n",
       "\n",
       "    type_temps  couv_nuageuse  vent  prob_pluie  pluie  note_type_temps  \n",
       "554     Clouds             26  3.80        0.00   0.00                8  \n",
       "557       Rain             15  3.01        0.97   0.15                4  \n",
       "558     Clouds             15  2.52        0.00   0.00                9  \n",
       "559       Rain             23  2.77        0.20   0.21                4  \n",
       "560       Rain             91  3.28        1.00   0.96                4  "
      ]
     },
     "execution_count": 21,
     "metadata": {},
     "output_type": "execute_result"
    }
   ],
   "source": [
    "data_toutes_les_villes.tail()"
   ]
  },
  {
   "cell_type": "code",
   "execution_count": 22,
   "metadata": {},
   "outputs": [],
   "source": [
    "total_par_ville = data_toutes_les_villes.groupby('Ville')['note_type_temps'].sum()"
   ]
  },
  {
   "cell_type": "code",
   "execution_count": 23,
   "metadata": {},
   "outputs": [
    {
     "data": {
      "text/plain": [
       "Ville\n",
       "Casablanca        218\n",
       "Fort-de-France    157\n",
       "Ibiza             238\n",
       "Lisbonne          227\n",
       "Londres           188\n",
       "Los Angeles       261\n",
       "Nairobi           174\n",
       "New York          247\n",
       "Paris             176\n",
       "Rio de Janeiro    202\n",
       "Shanghai          179\n",
       "Tokyo             177\n",
       "Valence           224\n",
       "Vienne            215\n",
       "Name: note_type_temps, dtype: int64"
      ]
     },
     "execution_count": 23,
     "metadata": {},
     "output_type": "execute_result"
    }
   ],
   "source": [
    "total_par_ville"
   ]
  },
  {
   "cell_type": "code",
   "execution_count": 24,
   "metadata": {},
   "outputs": [],
   "source": [
    "moyenne_temp_par_ville = data_toutes_les_villes.groupby('Ville')['temp'].mean()"
   ]
  },
  {
   "cell_type": "markdown",
   "metadata": {},
   "source": [
    "ON FUSIONNE LES TROIS TABLES POUR AVOIR NOS DONNEES FINALES (VILLES ET COORDONNEES, SCORE, TEMPERATURE MOYENNE)"
   ]
  },
  {
   "cell_type": "code",
   "execution_count": 25,
   "metadata": {},
   "outputs": [],
   "source": [
    "df_final = df_villes.merge(total_par_ville,left_on='ville',right_on='Ville')\n",
    "df_final = df_final.merge(moyenne_temp_par_ville,left_on='ville', right_on='Ville')"
   ]
  },
  {
   "cell_type": "markdown",
   "metadata": {},
   "source": [
    "CHANGEMENT DU TYPE DE DONNEES POUR LATITUDE ET LONGITUDE"
   ]
  },
  {
   "cell_type": "code",
   "execution_count": 26,
   "metadata": {},
   "outputs": [],
   "source": [
    "df_final['lat'] = df_final['lat'].astype('float64')\n",
    "df_final['lon'] = df_final['lon'].astype('float64')"
   ]
  },
  {
   "cell_type": "markdown",
   "metadata": {},
   "source": [
    "AFFICHAGE DU DATASET FINAL UTILISE POUR LA CARTE"
   ]
  },
  {
   "cell_type": "code",
   "execution_count": 27,
   "metadata": {},
   "outputs": [
    {
     "data": {
      "text/html": [
       "<div>\n",
       "<style scoped>\n",
       "    .dataframe tbody tr th:only-of-type {\n",
       "        vertical-align: middle;\n",
       "    }\n",
       "\n",
       "    .dataframe tbody tr th {\n",
       "        vertical-align: top;\n",
       "    }\n",
       "\n",
       "    .dataframe thead th {\n",
       "        text-align: right;\n",
       "    }\n",
       "</style>\n",
       "<table border=\"1\" class=\"dataframe\">\n",
       "  <thead>\n",
       "    <tr style=\"text-align: right;\">\n",
       "      <th></th>\n",
       "      <th>ville</th>\n",
       "      <th>lat</th>\n",
       "      <th>lon</th>\n",
       "      <th>note_type_temps</th>\n",
       "      <th>temp</th>\n",
       "    </tr>\n",
       "  </thead>\n",
       "  <tbody>\n",
       "    <tr>\n",
       "      <th>10</th>\n",
       "      <td>Los Angeles</td>\n",
       "      <td>34.053691</td>\n",
       "      <td>-118.242766</td>\n",
       "      <td>261</td>\n",
       "      <td>14.532667</td>\n",
       "    </tr>\n",
       "    <tr>\n",
       "      <th>2</th>\n",
       "      <td>New York</td>\n",
       "      <td>40.712728</td>\n",
       "      <td>-74.006015</td>\n",
       "      <td>247</td>\n",
       "      <td>11.178000</td>\n",
       "    </tr>\n",
       "    <tr>\n",
       "      <th>3</th>\n",
       "      <td>Ibiza</td>\n",
       "      <td>38.974390</td>\n",
       "      <td>1.419746</td>\n",
       "      <td>238</td>\n",
       "      <td>17.684667</td>\n",
       "    </tr>\n",
       "    <tr>\n",
       "      <th>6</th>\n",
       "      <td>Lisbonne</td>\n",
       "      <td>38.707751</td>\n",
       "      <td>-9.136592</td>\n",
       "      <td>227</td>\n",
       "      <td>17.077000</td>\n",
       "    </tr>\n",
       "    <tr>\n",
       "      <th>5</th>\n",
       "      <td>Valence</td>\n",
       "      <td>39.469707</td>\n",
       "      <td>-0.376335</td>\n",
       "      <td>224</td>\n",
       "      <td>17.548333</td>\n",
       "    </tr>\n",
       "    <tr>\n",
       "      <th>8</th>\n",
       "      <td>Casablanca</td>\n",
       "      <td>33.594514</td>\n",
       "      <td>-7.620028</td>\n",
       "      <td>218</td>\n",
       "      <td>20.971333</td>\n",
       "    </tr>\n",
       "    <tr>\n",
       "      <th>4</th>\n",
       "      <td>Vienne</td>\n",
       "      <td>48.208354</td>\n",
       "      <td>16.372504</td>\n",
       "      <td>215</td>\n",
       "      <td>6.558667</td>\n",
       "    </tr>\n",
       "    <tr>\n",
       "      <th>12</th>\n",
       "      <td>Rio de Janeiro</td>\n",
       "      <td>-22.911014</td>\n",
       "      <td>-43.209373</td>\n",
       "      <td>202</td>\n",
       "      <td>24.290000</td>\n",
       "    </tr>\n",
       "    <tr>\n",
       "      <th>1</th>\n",
       "      <td>Londres</td>\n",
       "      <td>51.507446</td>\n",
       "      <td>-0.127765</td>\n",
       "      <td>188</td>\n",
       "      <td>6.773667</td>\n",
       "    </tr>\n",
       "    <tr>\n",
       "      <th>7</th>\n",
       "      <td>Shanghai</td>\n",
       "      <td>31.232344</td>\n",
       "      <td>121.469102</td>\n",
       "      <td>179</td>\n",
       "      <td>15.497000</td>\n",
       "    </tr>\n",
       "    <tr>\n",
       "      <th>11</th>\n",
       "      <td>Tokyo</td>\n",
       "      <td>35.676860</td>\n",
       "      <td>139.763895</td>\n",
       "      <td>177</td>\n",
       "      <td>14.307333</td>\n",
       "    </tr>\n",
       "    <tr>\n",
       "      <th>0</th>\n",
       "      <td>Paris</td>\n",
       "      <td>48.858890</td>\n",
       "      <td>2.320041</td>\n",
       "      <td>176</td>\n",
       "      <td>8.535333</td>\n",
       "    </tr>\n",
       "    <tr>\n",
       "      <th>9</th>\n",
       "      <td>Nairobi</td>\n",
       "      <td>-1.283253</td>\n",
       "      <td>36.817245</td>\n",
       "      <td>174</td>\n",
       "      <td>19.993667</td>\n",
       "    </tr>\n",
       "    <tr>\n",
       "      <th>13</th>\n",
       "      <td>Fort-de-France</td>\n",
       "      <td>14.602796</td>\n",
       "      <td>-61.067672</td>\n",
       "      <td>157</td>\n",
       "      <td>27.241000</td>\n",
       "    </tr>\n",
       "  </tbody>\n",
       "</table>\n",
       "</div>"
      ],
      "text/plain": [
       "             ville        lat         lon  note_type_temps       temp\n",
       "10     Los Angeles  34.053691 -118.242766              261  14.532667\n",
       "2         New York  40.712728  -74.006015              247  11.178000\n",
       "3            Ibiza  38.974390    1.419746              238  17.684667\n",
       "6         Lisbonne  38.707751   -9.136592              227  17.077000\n",
       "5          Valence  39.469707   -0.376335              224  17.548333\n",
       "8       Casablanca  33.594514   -7.620028              218  20.971333\n",
       "4           Vienne  48.208354   16.372504              215   6.558667\n",
       "12  Rio de Janeiro -22.911014  -43.209373              202  24.290000\n",
       "1          Londres  51.507446   -0.127765              188   6.773667\n",
       "7         Shanghai  31.232344  121.469102              179  15.497000\n",
       "11           Tokyo  35.676860  139.763895              177  14.307333\n",
       "0            Paris  48.858890    2.320041              176   8.535333\n",
       "9          Nairobi  -1.283253   36.817245              174  19.993667\n",
       "13  Fort-de-France  14.602796  -61.067672              157  27.241000"
      ]
     },
     "execution_count": 27,
     "metadata": {},
     "output_type": "execute_result"
    }
   ],
   "source": [
    "df_final.sort_values(\"note_type_temps\", ascending=False)"
   ]
  },
  {
   "cell_type": "markdown",
   "metadata": {},
   "source": [
    "CREATION DE LA CARTE"
   ]
  },
  {
   "cell_type": "code",
   "execution_count": 28,
   "metadata": {},
   "outputs": [
    {
     "data": {
      "application/vnd.plotly.v1+json": {
       "config": {
        "plotlyServerURL": "https://plot.ly"
       },
       "data": [
        {
         "customdata": [
          [
           8.535333333333334
          ],
          [
           6.773666666666667
          ],
          [
           11.178
          ],
          [
           17.684666666666665
          ],
          [
           6.558666666666666
          ],
          [
           17.548333333333336
          ],
          [
           17.076999999999998
          ],
          [
           15.497000000000002
          ],
          [
           20.971333333333334
          ],
          [
           19.993666666666666
          ],
          [
           14.532666666666668
          ],
          [
           14.307333333333334
          ],
          [
           24.290000000000003
          ],
          [
           27.241
          ]
         ],
         "hovertemplate": "<b>%{hovertext}</b><br><br>temp=%{customdata[0]}<br>lat=%{lat}<br>lon=%{lon}<br>note_type_temps=%{marker.color}<extra></extra>",
         "hovertext": [
          "Paris",
          "Londres",
          "New York",
          "Ibiza",
          "Vienne",
          "Valence",
          "Lisbonne",
          "Shanghai",
          "Casablanca",
          "Nairobi",
          "Los Angeles",
          "Tokyo",
          "Rio de Janeiro",
          "Fort-de-France"
         ],
         "lat": [
          48.8588897,
          51.5074456,
          40.7127281,
          38.974390099999994,
          48.2083537,
          39.4697065,
          38.7077507,
          31.2323437,
          33.5945144,
          -1.2832533,
          34.0536909,
          35.6768601,
          -22.9110137,
          14.6027962
         ],
         "legendgroup": "",
         "lon": [
          2.3200410217200766,
          -0.1277653,
          -74.0060152,
          1.4197463178515335,
          16.3725042,
          -0.3763353,
          -9.1365919,
          121.4691024,
          -7.6200284,
          36.8172449,
          -118.242766,
          139.7638947,
          -43.2093727,
          -61.0676724
         ],
         "marker": {
          "color": [
           176,
           188,
           247,
           238,
           215,
           224,
           227,
           179,
           218,
           174,
           261,
           177,
           202,
           157
          ],
          "coloraxis": "coloraxis",
          "size": [
           8.535333333333334,
           6.773666666666667,
           11.178,
           17.684666666666665,
           6.558666666666666,
           17.548333333333336,
           17.076999999999998,
           15.497000000000002,
           20.971333333333334,
           19.993666666666666,
           14.532666666666668,
           14.307333333333334,
           24.290000000000003,
           27.241
          ],
          "sizemode": "area",
          "sizeref": 0.0681025
         },
         "mode": "markers",
         "name": "",
         "showlegend": false,
         "subplot": "mapbox",
         "type": "scattermapbox"
        }
       ],
       "layout": {
        "coloraxis": {
         "colorbar": {
          "title": {
           "text": "note_type_temps"
          }
         },
         "colorscale": [
          [
           0,
           "red"
          ],
          [
           0.3333333333333333,
           "orange"
          ],
          [
           0.6666666666666666,
           "yellowgreen"
          ],
          [
           1,
           "green"
          ]
         ]
        },
        "height": 700,
        "legend": {
         "itemsizing": "constant",
         "tracegroupgap": 0
        },
        "mapbox": {
         "center": {
          "lat": 30.81465733571428,
          "lon": 0.31257045282654417
         },
         "domain": {
          "x": [
           0,
           1
          ],
          "y": [
           0,
           1
          ]
         },
         "style": "open-street-map",
         "zoom": 1
        },
        "template": {
         "data": {
          "bar": [
           {
            "error_x": {
             "color": "#2a3f5f"
            },
            "error_y": {
             "color": "#2a3f5f"
            },
            "marker": {
             "line": {
              "color": "#E5ECF6",
              "width": 0.5
             },
             "pattern": {
              "fillmode": "overlay",
              "size": 10,
              "solidity": 0.2
             }
            },
            "type": "bar"
           }
          ],
          "barpolar": [
           {
            "marker": {
             "line": {
              "color": "#E5ECF6",
              "width": 0.5
             },
             "pattern": {
              "fillmode": "overlay",
              "size": 10,
              "solidity": 0.2
             }
            },
            "type": "barpolar"
           }
          ],
          "carpet": [
           {
            "aaxis": {
             "endlinecolor": "#2a3f5f",
             "gridcolor": "white",
             "linecolor": "white",
             "minorgridcolor": "white",
             "startlinecolor": "#2a3f5f"
            },
            "baxis": {
             "endlinecolor": "#2a3f5f",
             "gridcolor": "white",
             "linecolor": "white",
             "minorgridcolor": "white",
             "startlinecolor": "#2a3f5f"
            },
            "type": "carpet"
           }
          ],
          "choropleth": [
           {
            "colorbar": {
             "outlinewidth": 0,
             "ticks": ""
            },
            "type": "choropleth"
           }
          ],
          "contour": [
           {
            "colorbar": {
             "outlinewidth": 0,
             "ticks": ""
            },
            "colorscale": [
             [
              0,
              "#0d0887"
             ],
             [
              0.1111111111111111,
              "#46039f"
             ],
             [
              0.2222222222222222,
              "#7201a8"
             ],
             [
              0.3333333333333333,
              "#9c179e"
             ],
             [
              0.4444444444444444,
              "#bd3786"
             ],
             [
              0.5555555555555556,
              "#d8576b"
             ],
             [
              0.6666666666666666,
              "#ed7953"
             ],
             [
              0.7777777777777778,
              "#fb9f3a"
             ],
             [
              0.8888888888888888,
              "#fdca26"
             ],
             [
              1,
              "#f0f921"
             ]
            ],
            "type": "contour"
           }
          ],
          "contourcarpet": [
           {
            "colorbar": {
             "outlinewidth": 0,
             "ticks": ""
            },
            "type": "contourcarpet"
           }
          ],
          "heatmap": [
           {
            "colorbar": {
             "outlinewidth": 0,
             "ticks": ""
            },
            "colorscale": [
             [
              0,
              "#0d0887"
             ],
             [
              0.1111111111111111,
              "#46039f"
             ],
             [
              0.2222222222222222,
              "#7201a8"
             ],
             [
              0.3333333333333333,
              "#9c179e"
             ],
             [
              0.4444444444444444,
              "#bd3786"
             ],
             [
              0.5555555555555556,
              "#d8576b"
             ],
             [
              0.6666666666666666,
              "#ed7953"
             ],
             [
              0.7777777777777778,
              "#fb9f3a"
             ],
             [
              0.8888888888888888,
              "#fdca26"
             ],
             [
              1,
              "#f0f921"
             ]
            ],
            "type": "heatmap"
           }
          ],
          "heatmapgl": [
           {
            "colorbar": {
             "outlinewidth": 0,
             "ticks": ""
            },
            "colorscale": [
             [
              0,
              "#0d0887"
             ],
             [
              0.1111111111111111,
              "#46039f"
             ],
             [
              0.2222222222222222,
              "#7201a8"
             ],
             [
              0.3333333333333333,
              "#9c179e"
             ],
             [
              0.4444444444444444,
              "#bd3786"
             ],
             [
              0.5555555555555556,
              "#d8576b"
             ],
             [
              0.6666666666666666,
              "#ed7953"
             ],
             [
              0.7777777777777778,
              "#fb9f3a"
             ],
             [
              0.8888888888888888,
              "#fdca26"
             ],
             [
              1,
              "#f0f921"
             ]
            ],
            "type": "heatmapgl"
           }
          ],
          "histogram": [
           {
            "marker": {
             "pattern": {
              "fillmode": "overlay",
              "size": 10,
              "solidity": 0.2
             }
            },
            "type": "histogram"
           }
          ],
          "histogram2d": [
           {
            "colorbar": {
             "outlinewidth": 0,
             "ticks": ""
            },
            "colorscale": [
             [
              0,
              "#0d0887"
             ],
             [
              0.1111111111111111,
              "#46039f"
             ],
             [
              0.2222222222222222,
              "#7201a8"
             ],
             [
              0.3333333333333333,
              "#9c179e"
             ],
             [
              0.4444444444444444,
              "#bd3786"
             ],
             [
              0.5555555555555556,
              "#d8576b"
             ],
             [
              0.6666666666666666,
              "#ed7953"
             ],
             [
              0.7777777777777778,
              "#fb9f3a"
             ],
             [
              0.8888888888888888,
              "#fdca26"
             ],
             [
              1,
              "#f0f921"
             ]
            ],
            "type": "histogram2d"
           }
          ],
          "histogram2dcontour": [
           {
            "colorbar": {
             "outlinewidth": 0,
             "ticks": ""
            },
            "colorscale": [
             [
              0,
              "#0d0887"
             ],
             [
              0.1111111111111111,
              "#46039f"
             ],
             [
              0.2222222222222222,
              "#7201a8"
             ],
             [
              0.3333333333333333,
              "#9c179e"
             ],
             [
              0.4444444444444444,
              "#bd3786"
             ],
             [
              0.5555555555555556,
              "#d8576b"
             ],
             [
              0.6666666666666666,
              "#ed7953"
             ],
             [
              0.7777777777777778,
              "#fb9f3a"
             ],
             [
              0.8888888888888888,
              "#fdca26"
             ],
             [
              1,
              "#f0f921"
             ]
            ],
            "type": "histogram2dcontour"
           }
          ],
          "mesh3d": [
           {
            "colorbar": {
             "outlinewidth": 0,
             "ticks": ""
            },
            "type": "mesh3d"
           }
          ],
          "parcoords": [
           {
            "line": {
             "colorbar": {
              "outlinewidth": 0,
              "ticks": ""
             }
            },
            "type": "parcoords"
           }
          ],
          "pie": [
           {
            "automargin": true,
            "type": "pie"
           }
          ],
          "scatter": [
           {
            "fillpattern": {
             "fillmode": "overlay",
             "size": 10,
             "solidity": 0.2
            },
            "type": "scatter"
           }
          ],
          "scatter3d": [
           {
            "line": {
             "colorbar": {
              "outlinewidth": 0,
              "ticks": ""
             }
            },
            "marker": {
             "colorbar": {
              "outlinewidth": 0,
              "ticks": ""
             }
            },
            "type": "scatter3d"
           }
          ],
          "scattercarpet": [
           {
            "marker": {
             "colorbar": {
              "outlinewidth": 0,
              "ticks": ""
             }
            },
            "type": "scattercarpet"
           }
          ],
          "scattergeo": [
           {
            "marker": {
             "colorbar": {
              "outlinewidth": 0,
              "ticks": ""
             }
            },
            "type": "scattergeo"
           }
          ],
          "scattergl": [
           {
            "marker": {
             "colorbar": {
              "outlinewidth": 0,
              "ticks": ""
             }
            },
            "type": "scattergl"
           }
          ],
          "scattermapbox": [
           {
            "marker": {
             "colorbar": {
              "outlinewidth": 0,
              "ticks": ""
             }
            },
            "type": "scattermapbox"
           }
          ],
          "scatterpolar": [
           {
            "marker": {
             "colorbar": {
              "outlinewidth": 0,
              "ticks": ""
             }
            },
            "type": "scatterpolar"
           }
          ],
          "scatterpolargl": [
           {
            "marker": {
             "colorbar": {
              "outlinewidth": 0,
              "ticks": ""
             }
            },
            "type": "scatterpolargl"
           }
          ],
          "scatterternary": [
           {
            "marker": {
             "colorbar": {
              "outlinewidth": 0,
              "ticks": ""
             }
            },
            "type": "scatterternary"
           }
          ],
          "surface": [
           {
            "colorbar": {
             "outlinewidth": 0,
             "ticks": ""
            },
            "colorscale": [
             [
              0,
              "#0d0887"
             ],
             [
              0.1111111111111111,
              "#46039f"
             ],
             [
              0.2222222222222222,
              "#7201a8"
             ],
             [
              0.3333333333333333,
              "#9c179e"
             ],
             [
              0.4444444444444444,
              "#bd3786"
             ],
             [
              0.5555555555555556,
              "#d8576b"
             ],
             [
              0.6666666666666666,
              "#ed7953"
             ],
             [
              0.7777777777777778,
              "#fb9f3a"
             ],
             [
              0.8888888888888888,
              "#fdca26"
             ],
             [
              1,
              "#f0f921"
             ]
            ],
            "type": "surface"
           }
          ],
          "table": [
           {
            "cells": {
             "fill": {
              "color": "#EBF0F8"
             },
             "line": {
              "color": "white"
             }
            },
            "header": {
             "fill": {
              "color": "#C8D4E3"
             },
             "line": {
              "color": "white"
             }
            },
            "type": "table"
           }
          ]
         },
         "layout": {
          "annotationdefaults": {
           "arrowcolor": "#2a3f5f",
           "arrowhead": 0,
           "arrowwidth": 1
          },
          "autotypenumbers": "strict",
          "coloraxis": {
           "colorbar": {
            "outlinewidth": 0,
            "ticks": ""
           }
          },
          "colorscale": {
           "diverging": [
            [
             0,
             "#8e0152"
            ],
            [
             0.1,
             "#c51b7d"
            ],
            [
             0.2,
             "#de77ae"
            ],
            [
             0.3,
             "#f1b6da"
            ],
            [
             0.4,
             "#fde0ef"
            ],
            [
             0.5,
             "#f7f7f7"
            ],
            [
             0.6,
             "#e6f5d0"
            ],
            [
             0.7,
             "#b8e186"
            ],
            [
             0.8,
             "#7fbc41"
            ],
            [
             0.9,
             "#4d9221"
            ],
            [
             1,
             "#276419"
            ]
           ],
           "sequential": [
            [
             0,
             "#0d0887"
            ],
            [
             0.1111111111111111,
             "#46039f"
            ],
            [
             0.2222222222222222,
             "#7201a8"
            ],
            [
             0.3333333333333333,
             "#9c179e"
            ],
            [
             0.4444444444444444,
             "#bd3786"
            ],
            [
             0.5555555555555556,
             "#d8576b"
            ],
            [
             0.6666666666666666,
             "#ed7953"
            ],
            [
             0.7777777777777778,
             "#fb9f3a"
            ],
            [
             0.8888888888888888,
             "#fdca26"
            ],
            [
             1,
             "#f0f921"
            ]
           ],
           "sequentialminus": [
            [
             0,
             "#0d0887"
            ],
            [
             0.1111111111111111,
             "#46039f"
            ],
            [
             0.2222222222222222,
             "#7201a8"
            ],
            [
             0.3333333333333333,
             "#9c179e"
            ],
            [
             0.4444444444444444,
             "#bd3786"
            ],
            [
             0.5555555555555556,
             "#d8576b"
            ],
            [
             0.6666666666666666,
             "#ed7953"
            ],
            [
             0.7777777777777778,
             "#fb9f3a"
            ],
            [
             0.8888888888888888,
             "#fdca26"
            ],
            [
             1,
             "#f0f921"
            ]
           ]
          },
          "colorway": [
           "#636efa",
           "#EF553B",
           "#00cc96",
           "#ab63fa",
           "#FFA15A",
           "#19d3f3",
           "#FF6692",
           "#B6E880",
           "#FF97FF",
           "#FECB52"
          ],
          "font": {
           "color": "#2a3f5f"
          },
          "geo": {
           "bgcolor": "white",
           "lakecolor": "white",
           "landcolor": "#E5ECF6",
           "showlakes": true,
           "showland": true,
           "subunitcolor": "white"
          },
          "hoverlabel": {
           "align": "left"
          },
          "hovermode": "closest",
          "mapbox": {
           "style": "light"
          },
          "paper_bgcolor": "white",
          "plot_bgcolor": "#E5ECF6",
          "polar": {
           "angularaxis": {
            "gridcolor": "white",
            "linecolor": "white",
            "ticks": ""
           },
           "bgcolor": "#E5ECF6",
           "radialaxis": {
            "gridcolor": "white",
            "linecolor": "white",
            "ticks": ""
           }
          },
          "scene": {
           "xaxis": {
            "backgroundcolor": "#E5ECF6",
            "gridcolor": "white",
            "gridwidth": 2,
            "linecolor": "white",
            "showbackground": true,
            "ticks": "",
            "zerolinecolor": "white"
           },
           "yaxis": {
            "backgroundcolor": "#E5ECF6",
            "gridcolor": "white",
            "gridwidth": 2,
            "linecolor": "white",
            "showbackground": true,
            "ticks": "",
            "zerolinecolor": "white"
           },
           "zaxis": {
            "backgroundcolor": "#E5ECF6",
            "gridcolor": "white",
            "gridwidth": 2,
            "linecolor": "white",
            "showbackground": true,
            "ticks": "",
            "zerolinecolor": "white"
           }
          },
          "shapedefaults": {
           "line": {
            "color": "#2a3f5f"
           }
          },
          "ternary": {
           "aaxis": {
            "gridcolor": "white",
            "linecolor": "white",
            "ticks": ""
           },
           "baxis": {
            "gridcolor": "white",
            "linecolor": "white",
            "ticks": ""
           },
           "bgcolor": "#E5ECF6",
           "caxis": {
            "gridcolor": "white",
            "linecolor": "white",
            "ticks": ""
           }
          },
          "title": {
           "x": 0.05
          },
          "xaxis": {
           "automargin": true,
           "gridcolor": "white",
           "linecolor": "white",
           "ticks": "",
           "title": {
            "standoff": 15
           },
           "zerolinecolor": "white",
           "zerolinewidth": 2
          },
          "yaxis": {
           "automargin": true,
           "gridcolor": "white",
           "linecolor": "white",
           "ticks": "",
           "title": {
            "standoff": 15
           },
           "zerolinecolor": "white",
           "zerolinewidth": 2
          }
         }
        },
        "title": {
         "text": "Où on part ce weekend ?",
         "x": 0.5
        }
       }
      }
     },
     "metadata": {},
     "output_type": "display_data"
    }
   ],
   "source": [
    "fig = px.scatter_mapbox(df_final,lat=\"lat\", lon=\"lon\", color=\"note_type_temps\", hover_name=\"ville\", hover_data='temp', height=700,\n",
    "mapbox_style=\"open-street-map\",title='Où on part ce weekend ?',zoom=1,color_continuous_scale=[\"red\",\"orange\",\"yellowgreen\",\"green\"], size=\"temp\")\n",
    "fig.update_layout(title_x=0.5)\n",
    "fig.show()"
   ]
  }
 ],
 "metadata": {
  "kernelspec": {
   "display_name": "base",
   "language": "python",
   "name": "python3"
  },
  "language_info": {
   "codemirror_mode": {
    "name": "ipython",
    "version": 3
   },
   "file_extension": ".py",
   "mimetype": "text/x-python",
   "name": "python",
   "nbconvert_exporter": "python",
   "pygments_lexer": "ipython3",
   "version": "3.12.4"
  }
 },
 "nbformat": 4,
 "nbformat_minor": 2
}
