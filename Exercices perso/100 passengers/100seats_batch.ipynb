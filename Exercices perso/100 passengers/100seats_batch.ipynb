{
 "cells": [
  {
   "cell_type": "code",
   "execution_count": null,
   "metadata": {},
   "outputs": [],
   "source": [
    "import random\n",
    "\n",
    "passengers = int(input(\"Nombre de passagers?\"))\n",
    "nb_tests = int(input(\"Nombre de tests?\"))\n",
    "nb_vrai = 0\n",
    "\n",
    "for a in range(0, nb_tests+1):\n",
    "    \n",
    "    # On crée et remplit 2 listes, les sièges (tous vides) et les passagers (de 1 à x)\n",
    "    list_passengers=[]\n",
    "    list_seats=[]\n",
    "    for i in range(0,passengers):\n",
    "        list_seats.append(\"0\")\n",
    "        list_passengers.append(i+1)\n",
    "\n",
    "    \n",
    "    #index du premier siege attribué au hasard\n",
    "    index_premier_siege = random.randint(0,passengers-1)\n",
    "    list_seats[index_premier_siege]= \"1\"\n",
    "\n",
    "    #On fait les autres passagers donc on commence à l'index 1 (i = l'index du passager)\n",
    "    for i in range(1,len(list_passengers)):\n",
    "       \n",
    "        index_siege_par_defaut = i\n",
    "        \n",
    "        # On cherche un siège vide   \n",
    "        while(list_seats[index_siege_par_defaut]!=\"0\"):\n",
    "            index_siege_par_defaut=random.randint(0,passengers-1)\n",
    "        \n",
    "        list_seats[index_siege_par_defaut]=str(i+1)\n",
    "\n",
    "\n",
    "    # Est-ce que le dernier est dans le bon siège\n",
    "    dernier_passager = list_passengers[passengers-1]\n",
    "    dernier_siege = list_seats[passengers-1]\n",
    "\n",
    "    if(int(dernier_passager)==int(dernier_siege)):\n",
    "        nb_vrai+=1\n",
    "\n",
    "print(f\"Sur {nb_tests} tests et sur {passengers} passagers, le dernier passager a son siège attribué dans {(nb_vrai/nb_tests*100):.2f}% des cas ({nb_vrai/nb_tests})\")"
   ]
  },
  {
   "cell_type": "code",
   "execution_count": null,
   "metadata": {},
   "outputs": [],
   "source": []
  }
 ],
 "metadata": {
  "kernelspec": {
   "display_name": "base",
   "language": "python",
   "name": "python3"
  },
  "language_info": {
   "codemirror_mode": {
    "name": "ipython",
    "version": 3
   },
   "file_extension": ".py",
   "mimetype": "text/x-python",
   "name": "python",
   "nbconvert_exporter": "python",
   "pygments_lexer": "ipython3",
   "version": "3.12.4"
  }
 },
 "nbformat": 4,
 "nbformat_minor": 2
}
