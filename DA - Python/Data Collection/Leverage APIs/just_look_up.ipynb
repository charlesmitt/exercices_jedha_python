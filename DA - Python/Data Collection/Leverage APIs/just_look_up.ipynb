{
 "cells": [
  {
   "cell_type": "code",
   "execution_count": 10,
   "metadata": {},
   "outputs": [],
   "source": [
    "import os\n",
    "import requests\n",
    "import pandas as pd\n",
    "from dotenv import load_dotenv\n",
    "load_dotenv()                    \n",
    "x_api_key = os.environ.get('openaq_key')\n",
    "\n",
    "url = \"https://api.openaq.org/v3/countries/42\"\n",
    "header = {'X-API-Key': x_api_key}\n",
    "\n",
    "resp = requests.get(url, headers=header)"
   ]
  },
  {
   "cell_type": "code",
   "execution_count": 12,
   "metadata": {},
   "outputs": [],
   "source": [
    "url_param = \"https://api.openaq.org/v2/parameters\"\n",
    "\n",
    "resp_param = requests.get(url_param, headers=header)"
   ]
  },
  {
   "cell_type": "markdown",
   "metadata": {},
   "source": [
    "Obtenir la liste des pays - ATTENTION V2 ET V3 DONNENT PAS LES MEMES RESULTATS"
   ]
  },
  {
   "cell_type": "code",
   "execution_count": 14,
   "metadata": {},
   "outputs": [],
   "source": [
    "url_pays = \"https://api.openaq.org/v3/countries\"\n",
    "\n",
    "p = {'parameters_id':2}\n",
    "\n",
    "resp_pays = requests.get(url_pays, params=p, headers=header)"
   ]
  },
  {
   "cell_type": "code",
   "execution_count": null,
   "metadata": {},
   "outputs": [],
   "source": [
    "resp_pays.json()"
   ]
  },
  {
   "cell_type": "markdown",
   "metadata": {},
   "source": [
    "On veut que la liste des pays et pas les métadonnées"
   ]
  },
  {
   "cell_type": "code",
   "execution_count": 16,
   "metadata": {},
   "outputs": [],
   "source": [
    "liste_pays = resp_pays.json().get('results')"
   ]
  },
  {
   "cell_type": "code",
   "execution_count": null,
   "metadata": {},
   "outputs": [],
   "source": [
    "liste_pays"
   ]
  },
  {
   "cell_type": "code",
   "execution_count": 18,
   "metadata": {},
   "outputs": [],
   "source": [
    "df = pd.DataFrame(liste_pays)"
   ]
  },
  {
   "cell_type": "code",
   "execution_count": 19,
   "metadata": {},
   "outputs": [
    {
     "data": {
      "text/html": [
       "<div>\n",
       "<style scoped>\n",
       "    .dataframe tbody tr th:only-of-type {\n",
       "        vertical-align: middle;\n",
       "    }\n",
       "\n",
       "    .dataframe tbody tr th {\n",
       "        vertical-align: top;\n",
       "    }\n",
       "\n",
       "    .dataframe thead th {\n",
       "        text-align: right;\n",
       "    }\n",
       "</style>\n",
       "<table border=\"1\" class=\"dataframe\">\n",
       "  <thead>\n",
       "    <tr style=\"text-align: right;\">\n",
       "      <th></th>\n",
       "      <th>id</th>\n",
       "      <th>code</th>\n",
       "      <th>name</th>\n",
       "      <th>datetimeFirst</th>\n",
       "      <th>datetimeLast</th>\n",
       "      <th>parameters</th>\n",
       "    </tr>\n",
       "  </thead>\n",
       "  <tbody>\n",
       "    <tr>\n",
       "      <th>14</th>\n",
       "      <td>22</td>\n",
       "      <td>FR</td>\n",
       "      <td>France</td>\n",
       "      <td>2016-11-21T11:00:00Z</td>\n",
       "      <td>2024-11-15T16:00:00Z</td>\n",
       "      <td>[{'id': 1, 'name': 'pm10', 'units': 'µg/m³', '...</td>\n",
       "    </tr>\n",
       "  </tbody>\n",
       "</table>\n",
       "</div>"
      ],
      "text/plain": [
       "    id code    name         datetimeFirst          datetimeLast  \\\n",
       "14  22   FR  France  2016-11-21T11:00:00Z  2024-11-15T16:00:00Z   \n",
       "\n",
       "                                           parameters  \n",
       "14  [{'id': 1, 'name': 'pm10', 'units': 'µg/m³', '...  "
      ]
     },
     "execution_count": 19,
     "metadata": {},
     "output_type": "execute_result"
    }
   ],
   "source": [
    "df[df[\"name\"]=='France']"
   ]
  },
  {
   "cell_type": "code",
   "execution_count": 20,
   "metadata": {},
   "outputs": [],
   "source": [
    "url_pays = \"https://api.openaq.org/v2/countries/92\"\n",
    "\n",
    "\n",
    "resp_pays = requests.get(url_pays, headers=header)"
   ]
  },
  {
   "cell_type": "code",
   "execution_count": null,
   "metadata": {},
   "outputs": [],
   "source": [
    "resp_pays.json()"
   ]
  },
  {
   "cell_type": "markdown",
   "metadata": {},
   "source": [
    "Stations de mesures en Suisse"
   ]
  },
  {
   "cell_type": "code",
   "execution_count": 22,
   "metadata": {},
   "outputs": [],
   "source": [
    "url_locations = \"https://api.openaq.org/v3/locations\"\n",
    "p = {'countries_id': ['92']}\n",
    "\n",
    "#, 'parameters_id':2\n",
    "resp_locations = requests.get(url_locations, params=p,  headers=header)\n"
   ]
  },
  {
   "cell_type": "code",
   "execution_count": null,
   "metadata": {},
   "outputs": [],
   "source": [
    "resp_locations.json()"
   ]
  },
  {
   "cell_type": "code",
   "execution_count": 26,
   "metadata": {},
   "outputs": [],
   "source": [
    "id_location = 2819\n",
    "\n",
    "url_location = \"https://api.openaq.org/v3/locations/\"+str(id_location)\n",
    "resp_location = requests.get(url_location, headers=header)"
   ]
  }
 ],
 "metadata": {
  "kernelspec": {
   "display_name": "base",
   "language": "python",
   "name": "python3"
  },
  "language_info": {
   "codemirror_mode": {
    "name": "ipython",
    "version": 3
   },
   "file_extension": ".py",
   "mimetype": "text/x-python",
   "name": "python",
   "nbconvert_exporter": "python",
   "pygments_lexer": "ipython3",
   "version": "3.12.4"
  }
 },
 "nbformat": 4,
 "nbformat_minor": 2
}
