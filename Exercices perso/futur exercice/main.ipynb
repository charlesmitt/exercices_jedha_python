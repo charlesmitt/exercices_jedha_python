{
 "cells": [
  {
   "cell_type": "code",
   "execution_count": null,
   "metadata": {},
   "outputs": [],
   "source": [
    "print(\"Nouvel exercice\")"
   ]
  },
  {
   "cell_type": "code",
   "execution_count": 4,
   "metadata": {},
   "outputs": [
    {
     "data": {
      "text/plain": [
       "169.375"
      ]
     },
     "execution_count": 4,
     "metadata": {},
     "output_type": "execute_result"
    }
   ],
   "source": [
    "def average(array):\n",
    "    \n",
    "    no_dupl = []\n",
    "    for i in array:\n",
    "        if(not (i in no_dupl)):\n",
    "            no_dupl.append(i)\n",
    "\n",
    "    return (sum(no_dupl)/len(no_dupl))\n",
    "\n",
    "\n",
    "average([161, 182, 161, 154, 176, 170, 167, 171, 170, 174])"
   ]
  },
  {
   "cell_type": "code",
   "execution_count": 14,
   "metadata": {},
   "outputs": [
    {
     "name": "stdout",
     "output_type": "stream",
     "text": [
      "Array a:\n",
      "[[ 2  1  4]\n",
      " [ 1  2 -1]\n",
      " [ 3  1  2]]\n",
      "[[-0.33333333 -0.13333333  0.6       ]\n",
      " [ 0.33333333  0.53333333 -0.4       ]\n",
      " [ 0.33333333 -0.06666667 -0.2       ]]\n",
      "[-1  0  2]\n",
      "[ 1.53333333 -1.13333333 -0.73333333]\n"
     ]
    }
   ],
   "source": [
    "import numpy as np \n",
    "a = np.array([[2,1,4],[1,2,-1],[3,1,2]]) \n",
    "v = np.array([-1, 0, 2])\n",
    "print(\"Array a:\")\n",
    "print(a)\n",
    "ainv = np.linalg.inv(a)\n",
    "print(ainv)\n",
    "print(v)\n",
    "\n",
    "res = np.dot(ainv,v)\n",
    "print(res)"
   ]
  },
  {
   "cell_type": "code",
   "execution_count": 25,
   "metadata": {},
   "outputs": [
    {
     "name": "stdout",
     "output_type": "stream",
     "text": [
      "-1.0000000000000004\n",
      "0.0\n",
      "1.9999999999999996\n"
     ]
    }
   ],
   "source": [
    "x = 4.6/3\n",
    "y = -3.4/3\n",
    "z= -2.2/3\n",
    "\n",
    "print(2*x + y + 4*z)\n",
    "print(x + 2*y - z)\n",
    "print(3*x + y +2*z)"
   ]
  },
  {
   "cell_type": "code",
   "execution_count": 26,
   "metadata": {},
   "outputs": [
    {
     "name": "stdout",
     "output_type": "stream",
     "text": [
      "Probability of renewing and purchasing additional service : (0.2)\n"
     ]
    }
   ],
   "source": [
    "#P(A∩B)= 0.20\n",
    "P_renew = 0.40\n",
    "P_additional_service = 0.50\n",
    "\n",
    "P_renew_and_additional = P_renew * P_additional_service\n",
    "\n",
    "print(f\"Probability of renewing and purchasing additional service : ({P_renew_and_additional})\")"
   ]
  },
  {
   "cell_type": "code",
   "execution_count": 27,
   "metadata": {},
   "outputs": [
    {
     "name": "stdout",
     "output_type": "stream",
     "text": [
      "La probabilité d'acheter une garantie sachant qu'il y a uyn achat de laptop est de 0.33333333333333337\n"
     ]
    }
   ],
   "source": [
    "#Quelle probabilité qu'un client prenne une garantie sachant qu'ils a acheté un laptop\n",
    "#P(A/B) = P(A∩B)/P(B)\n",
    "\n",
    "P_laptop = 0.3 # 30% des clients achètent un laptop\n",
    "P_garantie_et_laptop = 0.1 # 10% des clients achètent un laptop et une garantie\n",
    "\n",
    "P_garantie_sachant_que_laptop = P_garantie_et_laptop/P_laptop\n",
    "\n",
    "print(f\"La probabilité d'acheter une garantie sachant qu'il y a uyn achat de laptop est de {P_garantie_sachant_que_laptop }\")"
   ]
  },
  {
   "cell_type": "code",
   "execution_count": 30,
   "metadata": {},
   "outputs": [],
   "source": [
    "import numpy as np\n",
    "def diagonalDifference(arr):\n",
    "    print(arr)\n",
    "    a = np.array(arr)\n",
    "    diag1 = a.diagonal()\n",
    "    diag2 = np.fliplr(a).diagonal()\n",
    "\n",
    "    return abs(sum(diag1)-sum(diag2))\n",
    "    # Write your code here"
   ]
  },
  {
   "cell_type": "code",
   "execution_count": 31,
   "metadata": {},
   "outputs": [
    {
     "name": "stdout",
     "output_type": "stream",
     "text": [
      "[[11, 2, 4], [4, 5, 6], [10, 8, 12]]\n"
     ]
    },
    {
     "data": {
      "text/plain": [
       "9"
      ]
     },
     "execution_count": 31,
     "metadata": {},
     "output_type": "execute_result"
    }
   ],
   "source": [
    "diagonalDifference([[11,2,4],[4,5,6],[10,8,12]])"
   ]
  },
  {
   "cell_type": "code",
   "execution_count": 32,
   "metadata": {},
   "outputs": [
    {
     "data": {
      "text/plain": [
       "<Axes: ylabel='Frequency'>"
      ]
     },
     "execution_count": 32,
     "metadata": {},
     "output_type": "execute_result"
    },
    {
     "data": {
      "image/png": "[encoded data removed]",
      "text/plain": [
       "<Figure size 640x480 with 1 Axes>"
      ]
     },
     "metadata": {},
     "output_type": "display_data"
    }
   ],
   "source": [
    "import pandas as pd\n",
    "import random\n",
    "\n",
    "ds = pd.Series(index=range(0,1000), dtype=float)\n",
    "for i in range(0,1000):\n",
    "    sample = pd.Series([random.uniform(0,160) for i in range(6)])\n",
    "    ds[i] = sample.sum()\n",
    "\n",
    "\n",
    "ds.plot.hist(bins=20)"
   ]
  }
 ],
 "metadata": {
  "kernelspec": {
   "display_name": "base",
   "language": "python",
   "name": "python3"
  },
  "language_info": {
   "codemirror_mode": {
    "name": "ipython",
    "version": 3
   },
   "file_extension": ".py",
   "mimetype": "text/x-python",
   "name": "python",
   "nbconvert_exporter": "python",
   "pygments_lexer": "ipython3",
   "version": "3.12.4"
  }
 },
 "nbformat": 4,
 "nbformat_minor": 2
}
