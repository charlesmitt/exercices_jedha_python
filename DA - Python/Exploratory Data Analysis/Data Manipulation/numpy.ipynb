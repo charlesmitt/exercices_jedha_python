{
 "cells": [
  {
   "cell_type": "markdown",
   "metadata": {},
   "source": [
    "## Task\n",
    "\n",
    "You are given a space separated list of numbers.\n",
    "Your task is to print a reversed NumPy array with the element type float.\n",
    "\n",
    "### Input Format (1 2 3 4 -8 -10)\n",
    "\n",
    "A single line of input containing space separated numbers.\n",
    "\n",
    "### Output Format\n",
    "\n",
    "Print the reverse NumPy array with type float."
   ]
  },
  {
   "cell_type": "code",
   "execution_count": 6,
   "metadata": {},
   "outputs": [
    {
     "name": "stdout",
     "output_type": "stream",
     "text": [
      "[-10.  -8.   4.   3.   2.   1.]\n"
     ]
    }
   ],
   "source": [
    "import numpy\n",
    "\n",
    "def arrays(arr):\n",
    "    # complete this function\n",
    "    # use numpy.array\n",
    "    ar = numpy.array(arr, dtype=float)\n",
    "    return numpy.flip(ar)\n",
    "\n",
    "arr = input().strip().split(' ')\n",
    "result = arrays(arr)\n",
    "print(result)"
   ]
  },
  {
   "cell_type": "markdown",
   "metadata": {},
   "source": [
    "## Task\n",
    "\n",
    "You are given a space separated list of nine integers. Your task is to convert this list into a\n",
    "X\n",
    "\n",
    "NumPy array.\n",
    "\n",
    "### Input Format\n",
    "\n",
    "A single line of input containing\n",
    "\n",
    "space separated integers.\n",
    "\n",
    "### Output Format\n",
    "\n",
    "Print the\n",
    "X\n",
    "\n",
    "NumPy array.\n",
    "\n",
    "### Sample Input\n",
    "\n",
    "1 2 3 4 5 6 7 8 9\n",
    "\n",
    "### Sample Output\n",
    "\n",
    "[[1 2 3]\n",
    " [4 5 6]\n",
    " [7 8 9]]\n"
   ]
  },
  {
   "cell_type": "code",
   "execution_count": 7,
   "metadata": {},
   "outputs": [
    {
     "name": "stdout",
     "output_type": "stream",
     "text": [
      "[[1 2 3]\n",
      " [4 5 6]\n",
      " [7 8 9]]\n"
     ]
    }
   ],
   "source": [
    "import numpy\n",
    "\n",
    "list = input().strip().split(\" \")\n",
    "\n",
    "arr = numpy.array(list, dtype=int)\n",
    "\n",
    "print(numpy.reshape(arr,(3,3)))"
   ]
  },
  {
   "cell_type": "markdown",
   "metadata": {},
   "source": [
    "## Task\n",
    "\n",
    "You are given a X integer array matrix with space separated elements \n",
    "( = rows and columns).\n",
    "Your task is to print the transpose and flatten results.\n",
    "\n",
    "### Input Format\n",
    "\n",
    "The first line contains the space separated values of rows and columns\n",
    "The next lines contains the space separated elements of rows.\n",
    "\n",
    "### Output Format\n",
    "\n",
    "First, print the transpose array and then print the flatten.\n",
    "\n",
    "### Sample Input\n",
    "\n",
    "2 2\n",
    "1 2\n",
    "3 4\n",
    "\n",
    "### Sample Output\n",
    "\n",
    "[[1 3]\n",
    " [2 4]]\n",
    "[1 2 3 4]\n"
   ]
  },
  {
   "cell_type": "code",
   "execution_count": 11,
   "metadata": {},
   "outputs": [
    {
     "name": "stdout",
     "output_type": "stream",
     "text": [
      "[[1 3]\n",
      " [2 4]]\n",
      "[1 2 3 4]\n"
     ]
    }
   ],
   "source": [
    "import numpy\n",
    "\n",
    "\n",
    "list = input().strip().split(\" \")\n",
    "n = int(list[0])\n",
    "m = int(list[1])\n",
    "values = []\n",
    "for i in range(n):\n",
    "    values.append(input().split(\" \"))\n",
    "    \n",
    "arr = numpy.array(values, dtype=int)\n",
    "\n",
    "print(numpy.reshape(arr,(n,m)).transpose())\n",
    "print(arr.flatten())"
   ]
  },
  {
   "cell_type": "markdown",
   "metadata": {},
   "source": [
    "## Task\n",
    "\n",
    "You are given two integer arrays of size NxP and MxP (N & M are rows, and P is the column). \n",
    "Your task is to concatenate the arrays along axis 0.\n",
    "\n",
    "### Input Format\n",
    "\n",
    "The first line contains space separated integers N, M and P.\n",
    "The next N lines contains the space separated elements of the P columns.\n",
    "After that, the next M lines contains the space separated elements of the P columns.\n",
    "\n",
    "### Output Format\n",
    "\n",
    "Print the concatenated array of size (N+M)xP.\n",
    "\n",
    "### Sample Input\n",
    "\n",
    "4 3 2\n",
    "1 2\n",
    "1 2 \n",
    "1 2\n",
    "1 2\n",
    "3 4\n",
    "3 4\n",
    "3 4 \n",
    "\n",
    "### Sample Output\n",
    "\n",
    "[[1 2]\n",
    " [1 2]\n",
    " [1 2]\n",
    " [1 2]\n",
    " [3 4]\n",
    " [3 4]\n",
    " [3 4]] \n"
   ]
  },
  {
   "cell_type": "code",
   "execution_count": null,
   "metadata": {},
   "outputs": [
    {
     "name": "stdout",
     "output_type": "stream",
     "text": [
      "[['1', '2'], ['1', '2'], ['1', '2'], ['1', '2']]\n",
      "[['3', '4'], ['3', '4'], ['3', '4']]\n",
      "[[1 2]\n",
      " [1 2]\n",
      " [1 2]\n",
      " [1 2]\n",
      " [3 4]\n",
      " [3 4]\n",
      " [3 4]]\n"
     ]
    }
   ],
   "source": [
    "import numpy \n",
    "\n",
    "list = input().strip().split(\" \")\n",
    "n = int(list[0])\n",
    "m = int(list[1])\n",
    "p = int(list[2])\n",
    "\n",
    "values1 = []\n",
    "for i in range(n):\n",
    "    values1.append(input().split(\" \"))\n",
    "\n",
    "values2 = []\n",
    "for i in range(m):\n",
    "    values2.append(input().split(\" \"))\n",
    "\n",
    "arr1 = numpy.array(values1, dtype=int)\n",
    "arr2 = numpy.array(values2, dtype=int)\n",
    "print(numpy.concatenate((arr1, arr2), axis = 0))\n",
    "#print(numpy.reshape(arr1,(p,m)))\n",
    "#print(numpy.reshape(arr2,(p,n)))\n"
   ]
  },
  {
   "cell_type": "markdown",
   "metadata": {},
   "source": [
    "## Task\n",
    "\n",
    "You are given the shape of the array in the form of space-separated integers, each integer representing the size of different dimensions, your task is to print an array of the given shape and integer type using the tools numpy.zeros and numpy.ones.\n",
    "\n",
    "### Input Format\n",
    "\n",
    "A single line containing the space-separated integers.\n",
    "\n",
    "### Constraints\n",
    "\n",
    "1 <= each integer <= 3\n",
    "\n",
    "### Output Format\n",
    "\n",
    "First, print the array using the numpy.zeros tool and then print the array with the numpy.ones tool.\n",
    "\n",
    "### Sample Input 0\n",
    "\n",
    "3 3 3\n",
    "\n",
    "### Sample Output 0\n",
    "\n",
    "[[[0 0 0]\n",
    "  [0 0 0]\n",
    "  [0 0 0]]\n",
    "\n",
    " [[0 0 0]\n",
    "  [0 0 0]\n",
    "  [0 0 0]]\n",
    "\n",
    " [[0 0 0]\n",
    "  [0 0 0]\n",
    "  [0 0 0]]]\n",
    "[[[1 1 1]\n",
    "  [1 1 1]\n",
    "  [1 1 1]]\n",
    "\n",
    " [[1 1 1]\n",
    "  [1 1 1]\n",
    "  [1 1 1]]\n",
    "\n",
    " [[1 1 1]\n",
    "  [1 1 1]\n",
    "  [1 1 1]]]\n",
    "\n"
   ]
  },
  {
   "cell_type": "code",
   "execution_count": null,
   "metadata": {},
   "outputs": [
    {
     "name": "stdout",
     "output_type": "stream",
     "text": [
      "[[[0 0 0]\n",
      "  [0 0 0]\n",
      "  [0 0 0]]\n",
      "\n",
      " [[0 0 0]\n",
      "  [0 0 0]\n",
      "  [0 0 0]]\n",
      "\n",
      " [[0 0 0]\n",
      "  [0 0 0]\n",
      "  [0 0 0]]]\n",
      "[[[1 1 1]\n",
      "  [1 1 1]\n",
      "  [1 1 1]]\n",
      "\n",
      " [[1 1 1]\n",
      "  [1 1 1]\n",
      "  [1 1 1]]\n",
      "\n",
      " [[1 1 1]\n",
      "  [1 1 1]\n",
      "  [1 1 1]]]\n"
     ]
    }
   ],
   "source": [
    "import numpy\n",
    "\n",
    "list = input().strip().split(\" \")\n",
    "\n",
    "#Pour gérer la taille variable (3 3 3) ou (2 3), il faut utiliser un tuple qui va reprendre en int les valeurs passées en input\n",
    "liste1 = tuple([int(x) for x in list])\n",
    "\n",
    "arr = numpy.zeros((liste1), dtype=int)\n",
    "print(arr)\n",
    "\n",
    "arr = numpy.ones((liste1), dtype=int)\n",
    "print(arr)\n"
   ]
  },
  {
   "cell_type": "markdown",
   "metadata": {},
   "source": [
    "## Task\n",
    "\n",
    "Your task is to print an array of size NxM\n",
    "with its main diagonal elements as 1's and\n",
    "0's everywhere else.\n",
    "\n",
    "### Note\n",
    "\n",
    "In order to get alignment correct, please insert the line\n",
    "numpy.set_printoptions(legacy='1.13')\n",
    "below the numpy import.\n",
    "\n",
    "### Input Format\n",
    "\n",
    "A single line containing the space separated values of N\n",
    "and M.\n",
    "N denotes the rows.\n",
    "\n",
    "M denotes the columns.\n",
    "\n",
    "### Output Format\n",
    "\n",
    "Print the desired NxM array.\n",
    "\n",
    "### Sample Input\n",
    "\n",
    "3 3\n",
    "\n",
    "### Sample Output\n",
    "\n",
    "[[ 1.  0.  0.]\n",
    " [ 0.  1.  0.]\n",
    " [ 0.  0.  1.]]\n"
   ]
  },
  {
   "cell_type": "code",
   "execution_count": 35,
   "metadata": {},
   "outputs": [
    {
     "name": "stdout",
     "output_type": "stream",
     "text": [
      "[[ 1.  0.  0.  0.]\n",
      " [ 0.  1.  0.  0.]\n",
      " [ 0.  0.  1.  0.]]\n"
     ]
    }
   ],
   "source": [
    "import numpy\n",
    "\n",
    "numpy.set_printoptions(legacy='1.13')\n",
    "\n",
    "list = input().strip().split(\" \")\n",
    "\n",
    "n = int(list[0])\n",
    "m = int(list[1])\n",
    "\n",
    "print(numpy.eye(n,m))"
   ]
  },
  {
   "cell_type": "markdown",
   "metadata": {},
   "source": [
    "## Task\n",
    "\n",
    "You are given two integer arrays, A and B of dimensions NxM\n",
    "Your task is to perform the following operations:\n",
    "\n",
    "Add (A+B)\n",
    "Subtract (A-B)\n",
    "Multiply (A*B)\n",
    "Integer Division (A/B)\n",
    "Mod (A%B)\n",
    "Power (A**B)\n",
    "\n",
    "Note\n",
    "There is a method numpy.floor_divide() that works like numpy.divide() except it performs a floor division.\n",
    "\n",
    "### Input Format\n",
    "\n",
    "The first line contains two space separated integers, N and M.\n",
    "The next N lines contains M space separated integers of array A.\n",
    "The following N lines contains M space separated integers of array B.\n",
    "\n",
    "### Output Format\n",
    "\n",
    "Print the result of each operation in the given order under Task.\n",
    "\n",
    "### Sample Input\n",
    "\n",
    "1 4\n",
    "1 2 3 4\n",
    "5 6 7 8\n",
    "\n",
    "### Sample Output\n",
    "\n",
    "[[ 6  8 10 12]]\n",
    "[[-4 -4 -4 -4]]\n",
    "[[ 5 12 21 32]]\n",
    "[[0 0 0 0]]\n",
    "[[1 2 3 4]]\n",
    "[[    1    64  2187 65536]] \n"
   ]
  },
  {
   "cell_type": "code",
   "execution_count": 41,
   "metadata": {},
   "outputs": [
    {
     "name": "stdout",
     "output_type": "stream",
     "text": [
      "[[ 6  8 10 12]\n",
      " [ 6  8 10 12]]\n",
      "[[-4 -4 -4 -4]\n",
      " [-4 -4 -4 -4]]\n",
      "[[ 5 12 21 32]\n",
      " [ 5 12 21 32]]\n",
      "[[0 0 0 0]\n",
      " [0 0 0 0]]\n",
      "[[1 2 3 4]\n",
      " [1 2 3 4]]\n",
      "[[    1    64  2187 65536]\n",
      " [    1    64  2187 65536]]\n"
     ]
    }
   ],
   "source": [
    "import numpy\n",
    "\n",
    "list = input().strip().split(\" \")\n",
    "\n",
    "n = int(list[0])\n",
    "m = int(list[1])\n",
    "\n",
    "values=[]\n",
    "for i in range(n):\n",
    "    values +=input().split(\" \")\n",
    "\n",
    "a = numpy.array(values, dtype=\"int\")\n",
    "\n",
    "values=[]\n",
    "for i in range(n):\n",
    "    values +=input().split(\" \")\n",
    "b = numpy.array(values, dtype=\"int\")\n",
    "\n",
    "a = numpy.reshape(a, (n, m))\n",
    "b = numpy.reshape(b, (n, m))\n",
    "\n",
    "print(numpy.add(a, b))\n",
    "print(numpy.subtract(a, b))\n",
    "print(numpy.multiply(a, b))\n",
    "print(numpy.floor_divide(a, b))\n",
    "print(numpy.mod(a, b))\n",
    "print(numpy.power(a, b))"
   ]
  },
  {
   "cell_type": "markdown",
   "metadata": {},
   "source": [
    "## Task\n",
    "You are given a 1-D array, A. Your task is to print the floor, ceil and rint of all the elements of A.\n",
    "\n",
    "### Input Format\n",
    "\n",
    "A single line of input containing the space separated elements of array A.\n",
    "\n",
    "### Output Format\n",
    "\n",
    "On the first line, print the floor of A.\n",
    "On the second line, print the ceil of A.\n",
    "On the third line, print the rint of A.\n",
    "\n",
    "#### Sample Input\n",
    "\n",
    "1.1 2.2 3.3 4.4 5.5 6.6 7.7 8.8 9.9\n",
    "\n",
    "### Sample Output\n",
    "\n",
    "[ 1.  2.  3.  4.  5.  6.  7.  8.  9.]\n",
    "[  2.   3.   4.   5.   6.   7.   8.   9.  10.]\n",
    "[  1.   2.   3.   4.   6.   7.   8.   9.  10.]\n"
   ]
  },
  {
   "cell_type": "code",
   "execution_count": 47,
   "metadata": {},
   "outputs": [
    {
     "name": "stdout",
     "output_type": "stream",
     "text": [
      "[ 1.  2.  3.  4.  5.  6.  7.  8.  9.]\n",
      "[  2.   3.   4.   5.   6.   7.   8.   9.  10.]\n",
      "[  1.   2.   3.   4.   6.   7.   8.   9.  10.]\n"
     ]
    }
   ],
   "source": [
    "import numpy\n",
    "\n",
    "numpy.set_printoptions(legacy='1.13')\n",
    "\n",
    "list = input().strip().split(\" \")\n",
    "\n",
    "arr = numpy.array(list, dtype=float)\n",
    "\n",
    "print(numpy.floor(arr)) \n",
    "print(numpy.ceil(arr)) \n",
    "print(numpy.rint(arr)) \n"
   ]
  },
  {
   "cell_type": "markdown",
   "metadata": {},
   "source": [
    "## Task\n",
    "\n",
    "You are given a 2-D array with dimensions NxM.\n",
    "Your task is to perform the sum tool over axis and then find the product\n",
    "of that result.\n",
    "\n",
    "### Input Format\n",
    "\n",
    "The first line of input contains space separated values of N and M.\n",
    "The next N lines contains M space separated integers.\n",
    "\n",
    "### Output Format\n",
    "\n",
    "Compute the sum along axis 0. Then, print the product of that sum.\n",
    "\n",
    "### Sample Input\n",
    "\n",
    "2 2\n",
    "1 2\n",
    "3 4\n",
    "\n",
    "### Sample Output\n",
    "\n",
    "24\n",
    "\n",
    "### Explanation\n",
    "\n",
    "The sum along axis 0 = [4 6]\n",
    "The product of this sum = 24"
   ]
  },
  {
   "cell_type": "code",
   "execution_count": null,
   "metadata": {},
   "outputs": [
    {
     "name": "stdout",
     "output_type": "stream",
     "text": [
      "[[1 2]\n",
      " [3 2]]\n",
      "[4 4]\n",
      "16\n"
     ]
    }
   ],
   "source": [
    "import numpy\n",
    "\n",
    "list = input().strip().split(\" \")\n",
    "n = int(list[0])\n",
    "m = int(list[1])\n",
    "        \n",
    "values = []\n",
    "for i in range(n):\n",
    "    values += input().split(\" \")\n",
    "\n",
    "arr = numpy.array(values, dtype=int)\n",
    "arr = numpy.reshape(arr, (n,m))\n",
    "arr0 = numpy.sum(arr, axis=0)\n",
    "print(numpy.prod(arr0))"
   ]
  },
  {
   "cell_type": "code",
   "execution_count": null,
   "metadata": {},
   "outputs": [],
   "source": []
  }
 ],
 "metadata": {
  "kernelspec": {
   "display_name": "base",
   "language": "python",
   "name": "python3"
  },
  "language_info": {
   "codemirror_mode": {
    "name": "ipython",
    "version": 3
   },
   "file_extension": ".py",
   "mimetype": "text/x-python",
   "name": "python",
   "nbconvert_exporter": "python",
   "pygments_lexer": "ipython3",
   "version": "3.12.4"
  }
 },
 "nbformat": 4,
 "nbformat_minor": 2
}
