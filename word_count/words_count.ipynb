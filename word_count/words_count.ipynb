{
 "cells": [
  {
   "cell_type": "code",
   "execution_count": 5,
   "metadata": {},
   "outputs": [
    {
     "name": "stdout",
     "output_type": "stream",
     "text": [
      "Cette phrase contient 6 mots:\n",
      "['Cette', 'phrase', 'est', 'super', 'longue', 'youpi']\n"
     ]
    }
   ],
   "source": [
    "phrase = input(\"Saisir une phrase\")\n",
    "\n",
    "list = phrase.split(\" \")\n",
    "\n",
    "print(f\"Cette phrase contient {len(list)} mots:\")\n",
    "print(list)"
   ]
  },
  {
   "cell_type": "code",
   "execution_count": 10,
   "metadata": {},
   "outputs": [
    {
     "name": "stdout",
     "output_type": "stream",
     "text": [
      "Total words in the file 3258\n",
      "{'': 285, 'de': 109, 'format': 73, 'le': 71, 'texte': 67, 'un': 65, 'et': 52, 'les': 51, 'est': 51, 'des': 50, 'la': 44, 'à': 41, 'une': 41, ':': 38, 'en': 33, 'par': 31, 'que': 30, 'fichier': 30, 'caractères': 26, 'dans': 26, 'pour': 25, 'du': 25, 'on': 25, 'qui': 25, 'il': 24, 'avec': 19, 'au': 19, 'sont': 19, 'ce': 15, 'langage': 15, 'pas': 15, 'exemple': 15, 'comme': 14, '«': 14, '»': 14, 'plus': 14, 'ou': 13, 'c’est': 13, 'ne': 13, 'mais': 13, 'vous': 12, 'a': 11, 'cette': 10, 'je': 10, 'toutes': 10, 'page': 9, 'ces': 9, 'tout': 9, 'qu’il': 9, 'peut': 9, 'si': 9, ';': 9, 'codage': 8, 'logiciel': 8, 'd’un': 8, 'bien': 8, 'fait': 8, 'html': 8, '<line': 8, 'son': 7, 'extension': 7, 'peu': 7, 'formats': 7, 'donc': 7, 'norme': 7, 'l’extension': 7, 'règles': 7, 'libre': 6, 'aussi': 6, 'simple': 6, 'lui': 6, 'choses': 6, 'comment': 6, 'parce': 6, '2022': 6, 'd’autres': 5, 'avez': 5, 'txt': 5, 'text': 5, 'mot': 5, 'voici': 5, 'autre': 5, 'fichiers': 5, 'également': 5, 'utf-8': 5, 'l’ascii': 5, 'ses': 5, 'formelles': 5, 'forme': 5, 'notes': 5, 'sur': 5, 'sivers': 5, 'arguments': 4, 'faveur': 4, 'ouvre': 4, 'simplicité': 4, 'plain': 4, 'uniquement': 4, 'cyrano': 4, 'non': 4, 'dire': 4, 'qu’un': 4, 'données': 4, 'toujours': 4, 'navigateur': 4, 'quelques': 4, 'spécifiques': 4, 'logiciels': 4, 'qu’on': 4, 'tous': 4, 'suivant': 4, 'être': 4, 'xml': 4, 'structurer': 4, 'a4': 4, 'grande': 4, 'feuille': 4, 'prendre': 4, 'plutôt': 4, 'informatique': 4, 'syntaxe': 4, 'cela': 4, 'faire': 4, 'deux': 4, 'connaître': 4, 'notamment': 4, 'utile': 4, 'd’outils': 4, 'années': 4, '3': 3, 'jour': 3, '1': 3, '2': 3, '4': 3, 'éditeur': 3, 'textualité': 3, 'liens': 3, 'déjà': 3, 'etc': 3, 'petit': 3, 'code': 3, 'se': 3, 'manière': 3, 'extrait': 3, 'très': 3, 'exprimer': 3, 'sortes': 3, 'ici': 3, 'sert': 3, 'exemples': 3, 'n’est': 3, 'pdf': 3, 'là': 3, 'l’utiliser': 3, 'seul': 3, 'outils': 3, 'manipuler': 3, 'capables': 3, '–': 3, 'pourquoi': 3, 'utilisables': 3, 'mêmes': 3, 'ascii': 3, '128': 3, 'alors': 3, 'dénominateur': 3, 'commun': 3, 'l’utf-8': 3, 'remplacer': 3, 'quel': 3, 'série': 3, 'conventions': 3, 'définissent': 3, 'donner': 3, 'quelque': 3, 'notion': 3, 'papier': 3, 'entre': 3, 'veut': 3, 'y': 3, 'règle': 3, 'crayon': 3, 'méthode': 3, 'faut': 3, 'cadre': 3, 'd’une': 3, 'mis': 3, 'l’écriture': 3, 'j’ai': 3, 'truc.txt': 3, 'machine': 3, 'ainsi': 3, 'particulier': 3, 'éditeurs': 3, 'simples': 3, '2021': 3, 'facile': 3, 'outil': 3, 'technique': 3, 'in': 3, 'arthur': 2, 'perret': 2, 'université': 2, 'qu’est': 2, 'utilisation': 2, 'elle': 2, 'vers': 2, 'qu’est-ce': 2, '3.1': 2, '3.2': 2, '3.3': 2, '5': 2, '5.1': 2, 'légèreté': 2, '5.2': 2, '5.3': 2, 'stabilité': 2, 'fiabilité': 2, '5.4': 2, 'polyvalence': 2, '5.5': 2, 'stoïcisme': 2, '5.6': 2, 'utiles': 2, 'bibliographie': 2, 'dont': 2, 'nom': 2, 'peut-être': 2, 'brut': 2, 'souvent': 2, 'cas': 2, 'parfois': 2, 'encore': 2, 'moins': 2, 'beaucoup': 2, 'sa': 2, 'potentiellement': 2, 'question': 2, 'textuels': 2, 'dit': 2, 'contient': 2, 'vicomte:': 2, 'nez': 2, 'grand': 2, \"c'est\": 2, 'soit': 2, 'sens': 2, 'csv': 2, 'utilisé': 2, 'fois': 2, 'écrit': 2, '<': 2, '/': 2, 'verra': 2, 'image': 2, 'x1=\"12\"': 2, 'x2=\"12\"': 2, 'x1=\"4.22\"': 2, 'x2=\"5.64\"': 2, 'x1=\"18.36\"': 2, 'x2=\"19.78\"': 2, 'y1=\"12\"': 2, 'y2=\"12\"></line>': 2, 'soleil': 2, 'reste': 2, 'svg': 2, 'images': 2, 'nature': 2, 'docx': 2, 'où': 2, 'générique': 2, 'permettent': 2, 'parle': 2, 'symboles': 2, 'inclut': 2, 'définit': 2, 'normes': 2, 'alphabets': 2, 'latins': 2, 'l’inverse': 2, 'codés': 2, 'web': 2, 'mots': 2, 'problème': 2, 'certains': 2, 'codages': 2, 'universelle': 2, 'même': 2, 'd’utiliser': 2, 'plupart': 2, 'quelle': 2, 'chose': 2, 'l’informatique': 2, 'prend': 2, 'ciseaux': 2, 'mesure': 2, 'cornell': 2, 'prise': 2, 'zones': 2, 'revanche': 2, 'dimensions': 2, 'œuvre': 2, 'c’est-à-dire': 2, 'd’écriture': 2, 'termes': 2, 'signification': 2, 'mes': 2, 'peux': 2, 'mon': 2, 'associé': 2, 'partie': 2, 'contenu': 2, 'suggérer': 2, 'programme': 2, 'ouvrir': 2, 'n’importe': 2, 'type': 2, 'traitements': 2, 'd’afficher': 2, 'word': 2, 'utilisés': 2, 'actuellement': 2, 'existe': 2, 'notoriété': 2, 'or': 2, 'est-ce': 2, 'rien': 2, 'descy': 2, 'stoehr': 2, 'léger': 2, 'actions': 2, 'portable': 2, 'car': 2, 'propriétaire': 2, 'librement': 2, 'ceci': 2, 'favorise': 2, 'permet': 2, 'd’être': 2, 'hors': 2, 'depuis': 2, 'créé': 2, 'facilite': 2, 'derek': 2, 'selon': 2, 'souhaitable': 2, 'fonctionnalités': 2, 'ligne': 2, 'nous': 2, 'techniques': 2, 'déconnexion': 2, 'basée': 2, 'liste': 2, '[en': 2, 'ligne]': 2, 'disponible': 2, \"l'adresse\": 2, 'pandoc': 2, 'jean': 1, 'moulin': 1, 'lyon': 1, '🚧': 1, 'construction': 1, '—': 1, 'dernière': 1, 'mise': 1, '19/04/2023': 1, 'explique': 1, 'donne': 1, 'ressources': 1, 'explorer': 1, 'l’écosystème': 1, 'probablement': 1, 'vu': 1, 'finit': 1, 'ouvert': 1, 'genre': 1, 'bloc-notes': 1, 'windows': 1, 'textedit': 1, 'mac': 1, 'gedit': 1, 'linux': 1, 'croisé': 1, 'occasions': 1, 'traduis': 1, 'l’anglais': 1, 'ni': 1, 'trouve': 1, 'pur': 1, 'n’aime': 1, 'connotations': 1, 'adjectifs': 1, 'préfère': 1, 'mettre': 1, 'avant': 1, 'important': 1, 'malgré': 1, 'cause': 1, 'polysémie': 1, 'effet': 1, 'lié': 1, 'tradition': 1, 'shs': 1, 'l’analyse': 1, 'critique': 1, 'logiques': 1, 'formatage': 1, 'cadrage': 1, 'contrôle': 1, 'cheval': 1, 'troie': 1, 'embarque': 1, 'l’aliénation': 1, 'l’émancipation': 1, 'binaire': 1, 'suite': 1, '0': 1, 'traduit': 1, 'opposition': 1, 'pixels': 1, 'sons': 1, 'courte': 1, 'personne': 1, 'attendez': 1, 'vais': 1, 'lancer': 1, 'traits': 1, \"s'avance\": 1, \"l'observe\": 1, 'campant': 1, 'devant': 1, \"d'un\": 1, 'air': 1, 'fat):': 1, 'heu': 1, 'gravement):': 1, 'vicomte': 1, 'riant):': 1, 'ha': 1, 'imperturbable):': 1, 'cyrano:': 1, 'ah': 1, 'court': 1, 'jeune': 1, 'homme': 1, 'pouvait': 1, 'oh': 1, 'dieu': 1, 'somme': 1, 'signifie': 1, 'contienne': 1, 'littéraire': 1, 'date,open,high,low,close,volume,adj': 1, 'close': 1, '2018-06-01,569.16,590.00,548.50,584.00,14077000,581.50': 1, '2018-05-01,584.90,596.76,522.18,577.73,18827900,575.26': 1, '2018-04-02,601.83,644.00,555.00,583.98,28759100,581.48': 1, 'utilisez': 1, 'régulièrement': 1, 'tableur': 1, 'aurez': 1, 'reconnu': 1, 'comma-separated': 1, 'values': 1, 'tabulaires': 1, 'balisage': 1, '<figure>': 1, '<img': 1, 'src=\"cyrano.jpg\"': 1, 'alt=\"portrait': 1, 'cyrano\">': 1, '<figcaption>': 1, 'bergerac': 1, 'interprété': 1, 'gérard': 1, 'depardieu': 1, '</figcaption>': 1, '</figure>': 1, 'alphabétiques': 1, 'côtoient': 1, '=': 1, 'cyrano.jpg': 1, 'légende': 1, 'dernier': 1, '<svg': 1, 'style=\"display:': 1, 'none;\">': 1, '<symbol': 1, 'viewbox=\"-3': 1, '-3': 1, '30': 1, '30\"': 1, 'id=\"soleil\">': 1, '<circle': 1, 'cx=\"12\"': 1, 'cy=\"12\"': 1, 'r=\"5\"></circle>': 1, 'y1=\"1\"': 1, 'y2=\"3\"></line>': 1, 'y1=\"21\"': 1, 'y2=\"23\"></line>': 1, 'y1=\"4.22\"': 1, 'y2=\"5.64\"></line>': 1, 'y1=\"18.36\"': 1, 'y2=\"19.78\"></line>': 1, 'x1=\"1\"': 1, 'x2=\"3\"': 1, 'x1=\"21\"': 1, 'x2=\"23\"': 1, 'y1=\"19.78\"': 1, 'y2=\"18.36\"></line>': 1, 'y1=\"5.64\"': 1, 'y2=\"4.22\"></line>': 1, '</symbol>': 1, '</svg>': 1, 'reconnaît': 1, 'ressemble': 1, 'géométrie': 1, 'line': 1, 'circle': 1, 'coordonnées': 1, 'dessin': 1, 'vectoriel': 1, 'l’image': 1, 's’agit': 1, 'scalable': 1, 'vector': 1, 'graphics': 1, 'montrent': 1, 'noms': 1, 'cités': 1, 'ci-dessus': 1, 'défini': 1, 'contiennent': 1, 'créer': 1, 'méta-format': 1, 'matérialité': 1, 'mode': 1, 'd’existence': 1, 'l’information': 1, 'transversal': 1, 'nombreuses': 1, 'catégories': 1, 'd’objets': 1, 'd’environnements': 1, 'transversalité': 1, 'découle': 1, 'avantage': 1, 'définition': 1, 'exprimable': 1, 'littérature': 1, 'hypertexte': 1, 'chiffrées': 1, 'vectorielles': 1, 'd’écosystème': 1, 'désigner': 1, 'l’ensemble': 1, 'pratiques': 1, 's’y': 1, 'rattachent': 1, 'j’entends': 1, 'd’imprimerie': 1, 'chiffres': 1, 'lettres': 1, 'd’espacement': 1, 'emoji': 1, 'là-dedans': 1, 'dépend': 1, 'quels': 1, 'codent': 1, 'américano-centrée': 1, 'assez': 1, 'ancienne': 1, 'excluant': 1, 'seulement': 1, 'accentués': 1, 'arabe': 1, 'cyrillique': 1, 'hébreu': 1, 'idéogrammes…': 1, 'internationale': 1, 'récente': 1, 'unicode': 1, 'incluant': 1, 'emoji…': 1, 'sûrement': 1, 'consulté': 1, 'l’apparence': 1, 'étrange': 1, 'numã©rique': 1, 'caractã¨res': 1, 'codée': 1, 'certaine': 1, 'essaye': 1, 'décoder': 1, 'latin-1': 1, 'n’inclut': 1, 'derniers': 1, 'mal': 1, 'affichés': 1, 'garantit': 1, 'compatibilité': 1, 'minima': 1, 'systèmes': 1, 'actuels': 1, 'documents': 1, 'anciens': 1, 'millions': 1, 'globalisation': 1, 'échanges': 1, 'tend': 1, 'premiers': 1, 'ceux': 1, 'considéré': 1, 'sauf': 1, 'contre-indication': 1, 'spécifique': 1, 'recommande': 1, 'situations': 1, 'mélange': 1, 'truc.xml': 1, 'différence': 1, 'lien': 1, 'antérieure': 1, 'feuilles': 1, 'rectangle': 1, '21': 1, '29,7': 1, 'cm': 1, 'ratio': 1, '1√2': 1, 'longueur': 1, 'côtés': 1, 'tailler': 1, 'trace': 1, 'découpe': 1, 'consiste': 1, 'définir': 1, 'organisation': 1, 'spatiale': 1, 'lesquelles': 1, 'doit': 1, 'écrire': 1, 'différentes': 1, 'métadonnées': 1, 'prises': 1, 'fil': 1, 'l’eau': 1, 'synthèse': 1, 'réserver': 1, 'haut': 1, 'bas': 1, 'marge': 1, 'gauche': 1, 's’aider': 1, 'strictes': 1, 'doivent': 1, 'respecter': 1, 'proportions': 1, 'relatives': 1, 'exactes': 1, 'traduisent': 1, 'repose': 1, 'parallèle': 1, 'langues': 1, 'naturelles': 1, 'grammaire': 1, 'vocabulaire': 1, 'ayant': 1, 'spéciale': 1, 'contexte': 1, 'précédents': 1, 'remplacés': 1, 'instructions': 1, 'écrites': 1, 'formulées': 1, 'précise': 1, 'prenons': 1, 'transformons-le': 1, 'utilise': 1, 'combine': 1, '>': 1, 'p': 1, 'paragraphe': 1, 'strong': 1, 'forte': 1, 'emphase': 1, '<p><strong>un': 1, 'format</strong>': 1, 'chose.</p>': 1, 'décrire': 1, 'viens': 1, 'expressions': 1, 'vraies': 1, 'simplement': 1, 'reflètent': 1, 'nécessairement': 1, 'n’existe': 1, 'située': 1, 'après': 1, 'point': 1, 'purement': 1, 'déclarative': 1, 'changer': 1, 'change': 1, 'détermine': 1, 'connue': 1, 'défaut': 1, 'chaîne': 1, 'pourrait': 1, 's’appeler': 1, 'truc.text': 1, 'truc.chose': 1, 'extensions': 1, 'possibles': 1, 'aux': 1, 'humains': 1, 'particulière': 1, 'l’utilise': 1, 'indiquer': 1, 'sans': 1, 'présence': 1, 'machines': 1, 'reconnaissent': 1, 'ouvrent': 1, 'correspondants': 1, 'afficher': 1, 'médias': 1, 'audiovisuels': 1, 'lecteur': 1, 'd’environnement': 1, 'dédié': 1, 'confondre': 1, 'editors': 1, 'catégorie': 1, 'large': 1, 'utilitaires': 1, 'développeurs': 1, 'environnements': 1, 'conçus': 1, 'processors': 1, 'eux': 1, 'appartiennent': 1, 'bureautique': 1, 'ils': 1, 'principalement': 1, 'odt': 1, 'consultez': 1, 'souffre': 1, 'déficit': 1, 'inverse': 1, 'utilité': 1, 'potentiel': 1, 'éducatif': 1, 'émancipateur': 1, 's’il': 1, 'connu': 1, 'eh': 1, 'difficile': 1, 'l’argent': 1, 'efficaces': 1, 'coûteuses': 1, 'précisément': 1, 'ça': 1, 'coûte': 1, 'gens': 1, 'susceptibles': 1, 'd’investir': 1, 'temps': 1, 'moyens': 1, 'vendre': 1, 'd’où': 1, 'l’importance': 1, 'moi': 1, 'travail': 1, 'principaux': 1, 'synthétisés': 1, 'd’après': 1, 'sources': 1, 'détaillées': 1, 'fin': 1, 'caractérisé': 1, 'objectivement': 1, 'complexité': 1, 'faible': 1, 'volume': 1, 'réduit': 1, 'caractéristiques': 1, 'découlent': 1, 'avantages': 1, 'performant': 1, 'rapides': 1, 'ouverture': 1, 'édition': 1, 'sauvegarde…': 1, 'rapide': 1, 'copier': 1, 'économe': 1, 'espace': 1, 'stockage': 1, 'utilisable': 1, 'tel': 1, 'système': 1, 'd’exploitation': 1, 'main': 1, 'interactions': 1, 'limité': 1, 'expressif': 1, 'sauvegarder': 1, 'synchroniser': 1, 'différents': 1, 'appareils': 1, 'parfait': 1, 'gestion': 1, 'versions': 1, 'diffuser': 1, 'fonctionnement': 1, 'modifier': 1, 'libertés': 1, 'fondamentales': 1, 'internationales': 1, 'adoptées': 1, 'l’iso': 1, 'l’ietf': 1, 'relève': 1, 'plusieurs': 1, 'conséquences': 1, 'avantagent': 1, 'utilisateurs': 1, 'd’abord': 1, 'concurrence': 1, 'l’offre': 1, 'logicielle': 1, 'résulte': 1, 'diversité': 1, 'liberté': 1, 'choix': 1, 'ensuite': 1, 'accroît': 1, 'durée': 1, 'vie': 1, 'aura': 1, 'gratuit': 1, 'diminue': 1, 'risques': 1, 'enfermé': 1, 'permettait': 1, 'interpréter': 1, 'devient': 1, 'payant': 1, 'disparaît': 1, '1960': 1, '1990': 1, 'égales': 1, 'ailleurs': 1, 'stable': 1, 'fiable': 1, 'alternatives': 1, 'propriétaires': 1, 'récentes': 1, '1970': 1, 'consultable': 1, 'aujourd’hui': 1, 'conditions': 1, 'qu’à': 1, 'l’époque': 1, 'va': 1, 'j’écris': 1, 'sera': 1, 'autant': 1, '2070': 1, 'incroyablement': 1, 'flexible': 1, 'usages': 1, 'mentionné': 1, 'introduction': 1, 'langages': 1, 'dérivés': 1, 'expressivité': 1, 'partir': 1, 'conversions': 1, 'faisons': 1, 'côté': 1, 'propose': 1, 'considérer': 1, 'perspective': 1, 'stoïciste': 1, 'd’accroître': 1, 'notre': 1, 'autonomie': 1, 'vis-à-vis': 1, 'favorisant': 1, 'disposant': 1, 'travailler': 1, 'sommes': 1, 'volontiers': 1, 'dépendants': 1, 'particuliers': 1, 'qu’ils': 1, 'proposent': 1, 'jugeons': 1, 'indispensables': 1, 'réalité': 1, 'nombreux': 1, 'besoins': 1, 'peuvent': 1, 'couverts': 1, 'expressives': 1, 'polyvalentes': 1, 'viable': 1, 'génériques': 1, 'précis': 1, 'vient': 1, 'evernote': 1, 'proposés': 1, 'sous': 1, 'logiciels-services': 1, 'serviciels': 1, 'software-as-a-service': 1, 'saas': 1, 'rappelle': 1, 'dispose': 1, 'connexion': 1, 'internet': 1, 'surtout': 1, 's’avérer': 1, 'contextes': 1, 'concentration': 1, 'disposer': 1, 'compatibles': 1, 's’inscrit': 1, 'logique': 1, 'l’ultime': 1, 'qualité': 1, 'souhaite': 1, 'mentionner': 1, 'rapport': 1, 'truisme': 1, 'toute': 1, 'activité': 1, 'indiqué': 1, 'dès': 1, 'commenter': 1, 'documenter': 1, 'transcrire…': 1, 'opérations': 1, 'recherche': 1, 'n’a': 1, 'd’anodin': 1, 'omniprésent': 1, 'nos': 1, 'activités': 1, 'essayez': 1, 'faites': 1, 'journée': 1, 'impliquent': 1, 'lire': 1, 'd’écrire': 1, 'chances': 1, 'longue': 1, 'considérez': 1, 'suivante': 1, 'gestes': 1, 'passe': 1, 'serait': 1, 'légère': 1, 'performante': 1, 'gratuite': 1, 'pérenne': 1, 'pouvant': 1, 'rendre': 1, 'services': 1, 'sorte': 1, 'lingua': 1, 'franca': 1, 'version': 1, 'numérique': 1, 'songez': 1, 'versatilité': 1, 'couple': 1, 'papier-crayon': 1, 'tâches': 1, 'transposez-la': 1, 'obtenez': 1, 'ma': 1, 'écriture': 1, 'scientifique': 1, 'project': 1, 'michael': 1, 'productivity': 1, '[consulté': 1, '22': 1, 'avril': 1, '2022]': 1, 'http://plaintext-productivity.net': 1, 'write': 1, 'files': 1, 'sive.rs': 1, 'mars': 1, 'https://sive.rs/plaintext': 1, 'thierry': 1, 'ancestrales': 1, 'commandes': 1, 'moderne': 1, 'paris': 1, 'cité': 1, '17': 1, 'mai': 1, 'cc': 1, 'by': 1, '2020-2024': 1, 'make': 1, '↦': 1, 'www.arthurperret.fr': 1}\n"
     ]
    }
   ],
   "source": [
    "f = open(\"text.txt\", \"r\")\n",
    "word_count= {}\n",
    "total_words = 0\n",
    "for x in f:\n",
    "  line_split = x.split(\" \")\n",
    "  for w in line_split:\n",
    "    w = w.strip(\"\\n.?!,( )\").lower()\n",
    "    try:\n",
    "        word_count[w]+=1\n",
    "    except:\n",
    "        word_count[w]=1\n",
    "    total_words+=1\n",
    "\n",
    "\n",
    "sorted_words = sorted(word_count.items(), key=lambda x:x[1],reverse=True)\n",
    "sorted_words_dict = dict(sorted_words)\n",
    "print(f\"Total words in the file {total_words}\")\n",
    "print(sorted_words_dict)"
   ]
  },
  {
   "cell_type": "code",
   "execution_count": null,
   "metadata": {},
   "outputs": [],
   "source": []
  }
 ],
 "metadata": {
  "kernelspec": {
   "display_name": "base",
   "language": "python",
   "name": "python3"
  },
  "language_info": {
   "codemirror_mode": {
    "name": "ipython",
    "version": 3
   },
   "file_extension": ".py",
   "mimetype": "text/x-python",
   "name": "python",
   "nbconvert_exporter": "python",
   "pygments_lexer": "ipython3",
   "version": "3.12.4"
  }
 },
 "nbformat": 4,
 "nbformat_minor": 2
}
