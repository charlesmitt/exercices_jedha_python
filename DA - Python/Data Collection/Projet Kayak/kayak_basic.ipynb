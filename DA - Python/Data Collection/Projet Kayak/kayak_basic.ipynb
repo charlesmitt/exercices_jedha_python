{
 "cells": [
  {
   "cell_type": "code",
   "execution_count": 13,
   "metadata": {},
   "outputs": [],
   "source": [
    "import requests\n",
    "import pandas as pd\n",
    "import plotly.express as px\n",
    "\n",
    "from dotenv import load_dotenv   #for python-dotenv method\n",
    "load_dotenv()                    #for python-dotenv method\n",
    "\n",
    "import os \n",
    "\n",
    "liste_villes = [\"Mont Saint Michel\",\"St Malo\",\"Bayeux\",\"Le Havre\",\"Rouen\",\"Paris\",\"Amiens\",\"Lille\",\"Strasbourg\",\n",
    "\"Chateau du Haut Koenigsbourg\",\"Colmar\",\"Eguisheim\",\"Besancon\",\"Dijon\",\"Annecy\",\"Grenoble\",\"Lyon\",\"Gorges du Verdon\",\n",
    "\"Bormes les Mimosas\",\"Cassis\",\"Marseille\",\"Aix en Provence\",\"Avignon\",\"Uzes\",\"Nimes\",\"Aigues Mortes\",\"Saintes Maries de la mer\",\n",
    "\"Collioure\",\"Carcassonne\",\"Ariege\",\"Toulouse\",\"Montauban\",\"Biarritz\",\"Bayonne\",\"La Rochelle\"]\n"
   ]
  },
  {
   "cell_type": "markdown",
   "metadata": {},
   "source": [
    "COORDONNEES D'UNE SEULE VILLE"
   ]
  },
  {
   "cell_type": "code",
   "execution_count": 5,
   "metadata": {},
   "outputs": [],
   "source": [
    "# ESSAI MANUEL POUR UNE SEULE VILLE \n",
    "\n",
    "url = \"https://nominatim.openstreetmap.org/search?\"\n",
    "headers = {\"accept\": \"application/json\", 'user_agent':'charles.mittempergher@gmail.com'}\n",
    "p = {'city' : 'Toulouse', 'country':'France', 'format':'json', 'limit':1}\n",
    "\n",
    "response = requests.get(url, headers=headers, params=p)"
   ]
  },
  {
   "cell_type": "markdown",
   "metadata": {},
   "source": [
    "BOUCLE POUR LES COORDONNEES TOUTES LES VILLES"
   ]
  },
  {
   "cell_type": "code",
   "execution_count": null,
   "metadata": {},
   "outputs": [],
   "source": [
    "# RECUPERATION DES DONNEES POUR TOUTE LA LISTE DES VILLES\n",
    "url = \"https://nominatim.openstreetmap.org/search?\"\n",
    "headers = {'user_agent':'charles.mittempergher@gmail.com'}\n",
    "\n",
    "df_villes = pd.DataFrame(columns=['ville','lat','lon'])\n",
    "\n",
    "for i in range(len(liste_villes)):\n",
    "    \n",
    "    p = {'city' : {liste_villes[i]}, 'country':'France', 'format':'json', 'limit':1, 'email':'charles@gmail.com'}\n",
    "\n",
    "    r = requests.get(url, headers=headers, params=p)\n",
    "    ville = r.json()[0]['name']\n",
    "    lat   = r.json()[0]['lat']\n",
    "    lon   = r.json()[0]['lon']\n",
    "\n",
    "    df_villes.loc[i] = [ville, lat,lon]\n",
    "    print(f'Ajout de {liste_villes[i]} effectué')"
   ]
  },
  {
   "cell_type": "code",
   "execution_count": 8,
   "metadata": {},
   "outputs": [
    {
     "data": {
      "text/html": [
       "<div>\n",
       "<style scoped>\n",
       "    .dataframe tbody tr th:only-of-type {\n",
       "        vertical-align: middle;\n",
       "    }\n",
       "\n",
       "    .dataframe tbody tr th {\n",
       "        vertical-align: top;\n",
       "    }\n",
       "\n",
       "    .dataframe thead th {\n",
       "        text-align: right;\n",
       "    }\n",
       "</style>\n",
       "<table border=\"1\" class=\"dataframe\">\n",
       "  <thead>\n",
       "    <tr style=\"text-align: right;\">\n",
       "      <th></th>\n",
       "      <th>ville</th>\n",
       "      <th>lat</th>\n",
       "      <th>lon</th>\n",
       "    </tr>\n",
       "  </thead>\n",
       "  <tbody>\n",
       "    <tr>\n",
       "      <th>0</th>\n",
       "      <td>Mont Saint-Michel</td>\n",
       "      <td>48.6359541</td>\n",
       "      <td>-1.511459954959514</td>\n",
       "    </tr>\n",
       "    <tr>\n",
       "      <th>1</th>\n",
       "      <td>Saint-Malo</td>\n",
       "      <td>48.649518</td>\n",
       "      <td>-2.0260409</td>\n",
       "    </tr>\n",
       "    <tr>\n",
       "      <th>2</th>\n",
       "      <td>Bayeux</td>\n",
       "      <td>49.2764624</td>\n",
       "      <td>-0.7024738</td>\n",
       "    </tr>\n",
       "    <tr>\n",
       "      <th>3</th>\n",
       "      <td>Le Havre</td>\n",
       "      <td>49.4938975</td>\n",
       "      <td>0.1079732</td>\n",
       "    </tr>\n",
       "    <tr>\n",
       "      <th>4</th>\n",
       "      <td>Rouen</td>\n",
       "      <td>49.4404591</td>\n",
       "      <td>1.0939658</td>\n",
       "    </tr>\n",
       "  </tbody>\n",
       "</table>\n",
       "</div>"
      ],
      "text/plain": [
       "               ville         lat                 lon\n",
       "0  Mont Saint-Michel  48.6359541  -1.511459954959514\n",
       "1         Saint-Malo   48.649518          -2.0260409\n",
       "2             Bayeux  49.2764624          -0.7024738\n",
       "3           Le Havre  49.4938975           0.1079732\n",
       "4              Rouen  49.4404591           1.0939658"
      ]
     },
     "execution_count": 8,
     "metadata": {},
     "output_type": "execute_result"
    }
   ],
   "source": [
    "df_villes.head()"
   ]
  },
  {
   "cell_type": "markdown",
   "metadata": {},
   "source": [
    " DEBUT DE LA PARTIE AVEC OPENWEATHER"
   ]
  },
  {
   "cell_type": "code",
   "execution_count": 14,
   "metadata": {},
   "outputs": [],
   "source": [
    "url_ow = \"https://api.openweathermap.org/data/2.5/forecast?\"\n",
    "\n",
    "lat = 43.2961743\n",
    "lon = 5.3699525\n",
    "p = {'lat' : lat, 'lon' : lon, 'units':'metric', 'appid' : os.environ.get('openweather_active')}\n",
    "response = requests.get(url_ow, params=p)\n"
   ]
  },
  {
   "cell_type": "code",
   "execution_count": 15,
   "metadata": {},
   "outputs": [
    {
     "data": {
      "text/plain": [
       "<Response [200]>"
      ]
     },
     "execution_count": 15,
     "metadata": {},
     "output_type": "execute_result"
    }
   ],
   "source": [
    "response"
   ]
  },
  {
   "cell_type": "code",
   "execution_count": 10,
   "metadata": {},
   "outputs": [],
   "source": [
    "response.json().get('list')"
   ]
  },
  {
   "cell_type": "markdown",
   "metadata": {},
   "source": [
    "CREATION DU DATAFRAME AVEC LES PREVISIONS METEO POUR UNE SEULE VILLE"
   ]
  },
  {
   "cell_type": "code",
   "execution_count": 16,
   "metadata": {},
   "outputs": [],
   "source": [
    "liste_previsions_une_ville = response.json().get('list')\n",
    "\n",
    "len(liste_previsions_une_ville)\n",
    "df_prevision_une_ville = pd.DataFrame(columns=['Ville','date','heure', 'temp','id_type_temps','type_temps'])\n",
    "for i in range(len(liste_previsions_une_ville)):\n",
    "    \n",
    "    ville = 'Marseille'\n",
    "    dt_text= liste_previsions_une_ville[i]['dt_txt']\n",
    "    date = dt_text.split(\" \")[0]\n",
    "    heure= dt_text.split(\" \")[1]\n",
    "    temp=liste_previsions_une_ville[i]['main']['temp']\n",
    "    id_type_temps=liste_previsions_une_ville[i]['weather'][0]['id']\n",
    "    type_temps=liste_previsions_une_ville[i]['weather'][0]['main']\n",
    "\n",
    "    df_prevision_une_ville.loc[i] = [ville,date,heure,temp,id_type_temps,type_temps]"
   ]
  },
  {
   "cell_type": "code",
   "execution_count": null,
   "metadata": {},
   "outputs": [
    {
     "data": {
      "text/html": [
       "<div>\n",
       "<style scoped>\n",
       "    .dataframe tbody tr th:only-of-type {\n",
       "        vertical-align: middle;\n",
       "    }\n",
       "\n",
       "    .dataframe tbody tr th {\n",
       "        vertical-align: top;\n",
       "    }\n",
       "\n",
       "    .dataframe thead th {\n",
       "        text-align: right;\n",
       "    }\n",
       "</style>\n",
       "<table border=\"1\" class=\"dataframe\">\n",
       "  <thead>\n",
       "    <tr style=\"text-align: right;\">\n",
       "      <th></th>\n",
       "      <th>Ville</th>\n",
       "      <th>date</th>\n",
       "      <th>heure</th>\n",
       "      <th>temp</th>\n",
       "      <th>id_type_temps</th>\n",
       "      <th>type_temps</th>\n",
       "    </tr>\n",
       "  </thead>\n",
       "  <tbody>\n",
       "    <tr>\n",
       "      <th>0</th>\n",
       "      <td>Marseille</td>\n",
       "      <td>2024-11-14</td>\n",
       "      <td>18:00:00</td>\n",
       "      <td>12.29</td>\n",
       "      <td>800</td>\n",
       "      <td>Clear</td>\n",
       "    </tr>\n",
       "    <tr>\n",
       "      <th>1</th>\n",
       "      <td>Marseille</td>\n",
       "      <td>2024-11-14</td>\n",
       "      <td>21:00:00</td>\n",
       "      <td>12.83</td>\n",
       "      <td>800</td>\n",
       "      <td>Clear</td>\n",
       "    </tr>\n",
       "    <tr>\n",
       "      <th>2</th>\n",
       "      <td>Marseille</td>\n",
       "      <td>2024-11-15</td>\n",
       "      <td>00:00:00</td>\n",
       "      <td>13.10</td>\n",
       "      <td>800</td>\n",
       "      <td>Clear</td>\n",
       "    </tr>\n",
       "    <tr>\n",
       "      <th>3</th>\n",
       "      <td>Marseille</td>\n",
       "      <td>2024-11-15</td>\n",
       "      <td>03:00:00</td>\n",
       "      <td>13.00</td>\n",
       "      <td>800</td>\n",
       "      <td>Clear</td>\n",
       "    </tr>\n",
       "    <tr>\n",
       "      <th>4</th>\n",
       "      <td>Marseille</td>\n",
       "      <td>2024-11-15</td>\n",
       "      <td>06:00:00</td>\n",
       "      <td>12.73</td>\n",
       "      <td>800</td>\n",
       "      <td>Clear</td>\n",
       "    </tr>\n",
       "  </tbody>\n",
       "</table>\n",
       "</div>"
      ],
      "text/plain": [
       "       Ville        date     heure   temp  id_type_temps type_temps\n",
       "0  Marseille  2024-11-14  18:00:00  12.29            800      Clear\n",
       "1  Marseille  2024-11-14  21:00:00  12.83            800      Clear\n",
       "2  Marseille  2024-11-15  00:00:00  13.10            800      Clear\n",
       "3  Marseille  2024-11-15  03:00:00  13.00            800      Clear\n",
       "4  Marseille  2024-11-15  06:00:00  12.73            800      Clear"
      ]
     },
     "execution_count": 47,
     "metadata": {},
     "output_type": "execute_result"
    }
   ],
   "source": [
    "df_prevision_une_ville.head()"
   ]
  },
  {
   "cell_type": "markdown",
   "metadata": {},
   "source": [
    "ON PREND PAS LES PREVISIONS ENTRE MINUIT ET 6H"
   ]
  },
  {
   "cell_type": "code",
   "execution_count": null,
   "metadata": {},
   "outputs": [],
   "source": [
    "mask = df_prevision_une_ville['heure'] >= '06:00:00'\n",
    "data = df_prevision_une_ville[mask]"
   ]
  },
  {
   "cell_type": "code",
   "execution_count": null,
   "metadata": {},
   "outputs": [
    {
     "data": {
      "text/html": [
       "<div>\n",
       "<style scoped>\n",
       "    .dataframe tbody tr th:only-of-type {\n",
       "        vertical-align: middle;\n",
       "    }\n",
       "\n",
       "    .dataframe tbody tr th {\n",
       "        vertical-align: top;\n",
       "    }\n",
       "\n",
       "    .dataframe thead th {\n",
       "        text-align: right;\n",
       "    }\n",
       "</style>\n",
       "<table border=\"1\" class=\"dataframe\">\n",
       "  <thead>\n",
       "    <tr style=\"text-align: right;\">\n",
       "      <th></th>\n",
       "      <th>Ville</th>\n",
       "      <th>date</th>\n",
       "      <th>heure</th>\n",
       "      <th>temp</th>\n",
       "      <th>id_type_temps</th>\n",
       "      <th>type_temps</th>\n",
       "    </tr>\n",
       "  </thead>\n",
       "  <tbody>\n",
       "    <tr>\n",
       "      <th>0</th>\n",
       "      <td>Marseille</td>\n",
       "      <td>2024-11-14</td>\n",
       "      <td>18:00:00</td>\n",
       "      <td>12.29</td>\n",
       "      <td>800</td>\n",
       "      <td>Clear</td>\n",
       "    </tr>\n",
       "    <tr>\n",
       "      <th>1</th>\n",
       "      <td>Marseille</td>\n",
       "      <td>2024-11-14</td>\n",
       "      <td>21:00:00</td>\n",
       "      <td>12.83</td>\n",
       "      <td>800</td>\n",
       "      <td>Clear</td>\n",
       "    </tr>\n",
       "    <tr>\n",
       "      <th>4</th>\n",
       "      <td>Marseille</td>\n",
       "      <td>2024-11-15</td>\n",
       "      <td>06:00:00</td>\n",
       "      <td>12.73</td>\n",
       "      <td>800</td>\n",
       "      <td>Clear</td>\n",
       "    </tr>\n",
       "    <tr>\n",
       "      <th>5</th>\n",
       "      <td>Marseille</td>\n",
       "      <td>2024-11-15</td>\n",
       "      <td>09:00:00</td>\n",
       "      <td>13.82</td>\n",
       "      <td>800</td>\n",
       "      <td>Clear</td>\n",
       "    </tr>\n",
       "    <tr>\n",
       "      <th>6</th>\n",
       "      <td>Marseille</td>\n",
       "      <td>2024-11-15</td>\n",
       "      <td>12:00:00</td>\n",
       "      <td>14.84</td>\n",
       "      <td>800</td>\n",
       "      <td>Clear</td>\n",
       "    </tr>\n",
       "  </tbody>\n",
       "</table>\n",
       "</div>"
      ],
      "text/plain": [
       "       Ville        date     heure   temp  id_type_temps type_temps\n",
       "0  Marseille  2024-11-14  18:00:00  12.29            800      Clear\n",
       "1  Marseille  2024-11-14  21:00:00  12.83            800      Clear\n",
       "4  Marseille  2024-11-15  06:00:00  12.73            800      Clear\n",
       "5  Marseille  2024-11-15  09:00:00  13.82            800      Clear\n",
       "6  Marseille  2024-11-15  12:00:00  14.84            800      Clear"
      ]
     },
     "execution_count": 49,
     "metadata": {},
     "output_type": "execute_result"
    }
   ],
   "source": [
    "data.head()"
   ]
  },
  {
   "cell_type": "markdown",
   "metadata": {},
   "source": [
    "+++++++++++++++++++++++++++++++++++++++++++++++++++++++++++++++++++++++++++++++++++++++++++\n",
    "\n",
    "PASSAGE AUX CHOSES SERIEUSES"
   ]
  },
  {
   "cell_type": "markdown",
   "metadata": {},
   "source": [
    "BOUCLE POUR TOUTES LES PREVISIONS DE TOUTES LES VILLES"
   ]
  },
  {
   "cell_type": "code",
   "execution_count": 17,
   "metadata": {},
   "outputs": [],
   "source": [
    "url_ow = \"https://api.openweathermap.org/data/2.5/forecast?\"\n",
    "\n",
    "df_prevision_toutes_les_villes = pd.DataFrame(columns=['Ville','date','heure','Part_of_day', 'temp','id_type_temps','type_temps','couv_nuageuse','vent','prob_pluie','pluie'])\n",
    "\n",
    "# BOUCLE SUR LES VILLES \n",
    "for v in range(len(df_villes)):\n",
    "\n",
    "    lat = df_villes.loc[v,\"lat\"]\n",
    "    lon = df_villes.loc[v,\"lon\"]\n",
    "    p = {'lat' : lat, 'lon' : lon, 'units':'metric', 'appid' :  os.environ.get('openweather_active')}\n",
    "    response = requests.get(url_ow, params=p)\n",
    "    response.json().get('list')\n",
    "\n",
    "    liste_previsions_une_ville_final = response.json().get('list')\n",
    "    nb_prev = len(liste_previsions_une_ville_final)\n",
    "    # BOUCLES SUR LES PREVISIONS\n",
    "    for i in range(len(liste_previsions_une_ville_final)):\n",
    "        \n",
    "        ville = df_villes.loc[v,\"ville\"]\n",
    "        dt_text= liste_previsions_une_ville_final[i]['dt_txt']\n",
    "        date = dt_text.split(\" \")[0]\n",
    "        heure= dt_text.split(\" \")[1]\n",
    "        temp=liste_previsions_une_ville_final[i]['main']['temp']\n",
    "        id_type_temps=liste_previsions_une_ville_final[i]['weather'][0]['id']\n",
    "        type_temps=liste_previsions_une_ville_final[i]['weather'][0]['main']\n",
    "        couv_nuageuse=liste_previsions_une_ville_final[i]['clouds']['all']\n",
    "        vent=liste_previsions_une_ville_final[i]['wind']['speed']\n",
    "        prob_pluie=liste_previsions_une_ville_final[i]['pop']\n",
    "        pluie = 0\n",
    "        if 'rain' in liste_previsions_une_ville_final[i].keys():\n",
    "            pluie = liste_previsions_une_ville_final[i]['rain']['3h']\n",
    "        pod = liste_previsions_une_ville_final[i]['sys']['pod']\n",
    "\n",
    "        df_prevision_toutes_les_villes.loc[len(df_prevision_toutes_les_villes)+1] = [ville,date,heure,pod,temp,id_type_temps,type_temps,couv_nuageuse,vent,prob_pluie,pluie]\n",
    "        "
   ]
  },
  {
   "cell_type": "code",
   "execution_count": 18,
   "metadata": {},
   "outputs": [],
   "source": [
    "mask = df_prevision_toutes_les_villes['heure'] >= '06:00:00'\n",
    "data_toutes_les_villes = df_prevision_toutes_les_villes[mask]"
   ]
  },
  {
   "cell_type": "markdown",
   "metadata": {},
   "source": [
    "ON REGARDE LES DIFFERENTES VALEURS DU TYPE DE METEO POUR ETABLIR UN CLASSEMENT"
   ]
  },
  {
   "cell_type": "code",
   "execution_count": 19,
   "metadata": {},
   "outputs": [
    {
     "data": {
      "text/plain": [
       "array([802, 803, 801, 804, 500, 501, 800, 601, 600, 502], dtype=int64)"
      ]
     },
     "execution_count": 19,
     "metadata": {},
     "output_type": "execute_result"
    }
   ],
   "source": [
    "data_toutes_les_villes['id_type_temps'].unique()"
   ]
  },
  {
   "cell_type": "markdown",
   "metadata": {},
   "source": [
    "MAPPING ET CREATION D'UNE NOUVELLE COLONNE AVEC LA NOTE DE LA PREVISION"
   ]
  },
  {
   "cell_type": "code",
   "execution_count": 20,
   "metadata": {},
   "outputs": [
    {
     "name": "stderr",
     "output_type": "stream",
     "text": [
      "C:\\Users\\Admin\\AppData\\Local\\Temp\\ipykernel_21084\\3510448894.py:2: SettingWithCopyWarning: \n",
      "A value is trying to be set on a copy of a slice from a DataFrame.\n",
      "Try using .loc[row_indexer,col_indexer] = value instead\n",
      "\n",
      "See the caveats in the documentation: https://pandas.pydata.org/pandas-docs/stable/user_guide/indexing.html#returning-a-view-versus-a-copy\n",
      "  data_toutes_les_villes['note_type_temps']=data_toutes_les_villes['id_type_temps'].apply(lambda x: classement[x] if x in classement else 1)\n"
     ]
    }
   ],
   "source": [
    "classement = {800: 10, 801:9,802:8,803:7,804:6,500:4,501:3, 601:2}\n",
    "data_toutes_les_villes['note_type_temps']=data_toutes_les_villes['id_type_temps'].apply(lambda x: classement[x] if x in classement else 1)"
   ]
  },
  {
   "cell_type": "code",
   "execution_count": 21,
   "metadata": {},
   "outputs": [
    {
     "data": {
      "text/html": [
       "<div>\n",
       "<style scoped>\n",
       "    .dataframe tbody tr th:only-of-type {\n",
       "        vertical-align: middle;\n",
       "    }\n",
       "\n",
       "    .dataframe tbody tr th {\n",
       "        vertical-align: top;\n",
       "    }\n",
       "\n",
       "    .dataframe thead th {\n",
       "        text-align: right;\n",
       "    }\n",
       "</style>\n",
       "<table border=\"1\" class=\"dataframe\">\n",
       "  <thead>\n",
       "    <tr style=\"text-align: right;\">\n",
       "      <th></th>\n",
       "      <th>Ville</th>\n",
       "      <th>date</th>\n",
       "      <th>heure</th>\n",
       "      <th>Part_of_day</th>\n",
       "      <th>temp</th>\n",
       "      <th>id_type_temps</th>\n",
       "      <th>type_temps</th>\n",
       "      <th>couv_nuageuse</th>\n",
       "      <th>vent</th>\n",
       "      <th>prob_pluie</th>\n",
       "      <th>pluie</th>\n",
       "      <th>note_type_temps</th>\n",
       "    </tr>\n",
       "  </thead>\n",
       "  <tbody>\n",
       "    <tr>\n",
       "      <th>1</th>\n",
       "      <td>Mont Saint-Michel</td>\n",
       "      <td>2024-11-15</td>\n",
       "      <td>18:00:00</td>\n",
       "      <td>n</td>\n",
       "      <td>9.92</td>\n",
       "      <td>802</td>\n",
       "      <td>Clouds</td>\n",
       "      <td>47</td>\n",
       "      <td>2.26</td>\n",
       "      <td>0.0</td>\n",
       "      <td>0.0</td>\n",
       "      <td>8</td>\n",
       "    </tr>\n",
       "    <tr>\n",
       "      <th>2</th>\n",
       "      <td>Mont Saint-Michel</td>\n",
       "      <td>2024-11-15</td>\n",
       "      <td>21:00:00</td>\n",
       "      <td>n</td>\n",
       "      <td>8.08</td>\n",
       "      <td>803</td>\n",
       "      <td>Clouds</td>\n",
       "      <td>80</td>\n",
       "      <td>2.12</td>\n",
       "      <td>0.0</td>\n",
       "      <td>0.0</td>\n",
       "      <td>7</td>\n",
       "    </tr>\n",
       "    <tr>\n",
       "      <th>5</th>\n",
       "      <td>Mont Saint-Michel</td>\n",
       "      <td>2024-11-16</td>\n",
       "      <td>06:00:00</td>\n",
       "      <td>n</td>\n",
       "      <td>4.40</td>\n",
       "      <td>801</td>\n",
       "      <td>Clouds</td>\n",
       "      <td>11</td>\n",
       "      <td>1.17</td>\n",
       "      <td>0.0</td>\n",
       "      <td>0.0</td>\n",
       "      <td>9</td>\n",
       "    </tr>\n",
       "    <tr>\n",
       "      <th>6</th>\n",
       "      <td>Mont Saint-Michel</td>\n",
       "      <td>2024-11-16</td>\n",
       "      <td>09:00:00</td>\n",
       "      <td>d</td>\n",
       "      <td>6.48</td>\n",
       "      <td>802</td>\n",
       "      <td>Clouds</td>\n",
       "      <td>30</td>\n",
       "      <td>0.83</td>\n",
       "      <td>0.0</td>\n",
       "      <td>0.0</td>\n",
       "      <td>8</td>\n",
       "    </tr>\n",
       "    <tr>\n",
       "      <th>7</th>\n",
       "      <td>Mont Saint-Michel</td>\n",
       "      <td>2024-11-16</td>\n",
       "      <td>12:00:00</td>\n",
       "      <td>d</td>\n",
       "      <td>9.97</td>\n",
       "      <td>802</td>\n",
       "      <td>Clouds</td>\n",
       "      <td>38</td>\n",
       "      <td>1.20</td>\n",
       "      <td>0.0</td>\n",
       "      <td>0.0</td>\n",
       "      <td>8</td>\n",
       "    </tr>\n",
       "  </tbody>\n",
       "</table>\n",
       "</div>"
      ],
      "text/plain": [
       "               Ville        date     heure Part_of_day  temp  id_type_temps  \\\n",
       "1  Mont Saint-Michel  2024-11-15  18:00:00           n  9.92            802   \n",
       "2  Mont Saint-Michel  2024-11-15  21:00:00           n  8.08            803   \n",
       "5  Mont Saint-Michel  2024-11-16  06:00:00           n  4.40            801   \n",
       "6  Mont Saint-Michel  2024-11-16  09:00:00           d  6.48            802   \n",
       "7  Mont Saint-Michel  2024-11-16  12:00:00           d  9.97            802   \n",
       "\n",
       "  type_temps  couv_nuageuse  vent  prob_pluie  pluie  note_type_temps  \n",
       "1     Clouds             47  2.26         0.0    0.0                8  \n",
       "2     Clouds             80  2.12         0.0    0.0                7  \n",
       "5     Clouds             11  1.17         0.0    0.0                9  \n",
       "6     Clouds             30  0.83         0.0    0.0                8  \n",
       "7     Clouds             38  1.20         0.0    0.0                8  "
      ]
     },
     "execution_count": 21,
     "metadata": {},
     "output_type": "execute_result"
    }
   ],
   "source": [
    "data_toutes_les_villes.head()"
   ]
  },
  {
   "cell_type": "code",
   "execution_count": 22,
   "metadata": {},
   "outputs": [],
   "source": [
    "total_par_ville = data_toutes_les_villes.groupby('Ville')['note_type_temps'].sum()"
   ]
  },
  {
   "cell_type": "code",
   "execution_count": 23,
   "metadata": {},
   "outputs": [
    {
     "data": {
      "text/plain": [
       "Ville\n",
       "Aigues-Mortes                  199\n",
       "Aix-en-Provence                222\n",
       "Amiens                         180\n",
       "Annecy                         191\n",
       "Avignon                        208\n",
       "Bayeux                         175\n",
       "Bayonne                        190\n",
       "Besançon                       167\n",
       "Biarritz                       189\n",
       "Bormes-les-Mimosas             241\n",
       "Carcassonne                    206\n",
       "Cassis                         224\n",
       "Château du Haut-Kœnigsbourg    155\n",
       "Collioure                      228\n",
       "Colmar                         160\n",
       "Dijon                          174\n",
       "Eguisheim                      158\n",
       "Gorges du Verdon               221\n",
       "Grenoble                       195\n",
       "La Rochelle                    179\n",
       "Le Havre                       169\n",
       "Lille                          158\n",
       "Lyon                           200\n",
       "Marseille                      220\n",
       "Mont Saint-Michel              169\n",
       "Montauban                      203\n",
       "Nîmes                          209\n",
       "Paris                          176\n",
       "Rouen                          178\n",
       "Saint-Malo                     161\n",
       "Saintes-Maries-de-la-Mer       196\n",
       "Strasbourg                     172\n",
       "Tarascon-sur-Ariège            210\n",
       "Toulouse                       207\n",
       "Uzès                           207\n",
       "Name: note_type_temps, dtype: int64"
      ]
     },
     "execution_count": 23,
     "metadata": {},
     "output_type": "execute_result"
    }
   ],
   "source": [
    "total_par_ville"
   ]
  },
  {
   "cell_type": "code",
   "execution_count": 24,
   "metadata": {},
   "outputs": [],
   "source": [
    "moyenne_temp_par_ville = data_toutes_les_villes.groupby('Ville')['temp'].mean()"
   ]
  },
  {
   "cell_type": "markdown",
   "metadata": {},
   "source": [
    "ON FUSIONNE LES TROIS TABLES POUR AVOIR NOS DONNEES FINALES (VILLES ET COORDONNEES, SCORE, TEMPERATURE MOYENNE)"
   ]
  },
  {
   "cell_type": "code",
   "execution_count": 25,
   "metadata": {},
   "outputs": [],
   "source": [
    "df_final = df_villes.merge(total_par_ville,left_on='ville',right_on='Ville')\n",
    "df_final = df_final.merge(moyenne_temp_par_ville,left_on='ville', right_on='Ville')"
   ]
  },
  {
   "cell_type": "markdown",
   "metadata": {},
   "source": [
    "CHANGEMENT DU TYPE DE DONNEES POUR LATITUDE ET LONGITUDE"
   ]
  },
  {
   "cell_type": "code",
   "execution_count": 26,
   "metadata": {},
   "outputs": [],
   "source": [
    "df_final['lat'] = df_final['lat'].astype('float64')\n",
    "df_final['lon'] = df_final['lon'].astype('float64')"
   ]
  },
  {
   "cell_type": "markdown",
   "metadata": {},
   "source": [
    "AFFICHAGE DU DATASET FINAL UTILISE POUR LA CARTE"
   ]
  },
  {
   "cell_type": "code",
   "execution_count": 27,
   "metadata": {},
   "outputs": [
    {
     "data": {
      "text/html": [
       "<div>\n",
       "<style scoped>\n",
       "    .dataframe tbody tr th:only-of-type {\n",
       "        vertical-align: middle;\n",
       "    }\n",
       "\n",
       "    .dataframe tbody tr th {\n",
       "        vertical-align: top;\n",
       "    }\n",
       "\n",
       "    .dataframe thead th {\n",
       "        text-align: right;\n",
       "    }\n",
       "</style>\n",
       "<table border=\"1\" class=\"dataframe\">\n",
       "  <thead>\n",
       "    <tr style=\"text-align: right;\">\n",
       "      <th></th>\n",
       "      <th>ville</th>\n",
       "      <th>lat</th>\n",
       "      <th>lon</th>\n",
       "      <th>note_type_temps</th>\n",
       "      <th>temp</th>\n",
       "    </tr>\n",
       "  </thead>\n",
       "  <tbody>\n",
       "    <tr>\n",
       "      <th>18</th>\n",
       "      <td>Bormes-les-Mimosas</td>\n",
       "      <td>43.150697</td>\n",
       "      <td>6.341928</td>\n",
       "      <td>241</td>\n",
       "      <td>13.463333</td>\n",
       "    </tr>\n",
       "    <tr>\n",
       "      <th>27</th>\n",
       "      <td>Collioure</td>\n",
       "      <td>42.525050</td>\n",
       "      <td>3.083155</td>\n",
       "      <td>228</td>\n",
       "      <td>14.706000</td>\n",
       "    </tr>\n",
       "    <tr>\n",
       "      <th>19</th>\n",
       "      <td>Cassis</td>\n",
       "      <td>43.214036</td>\n",
       "      <td>5.539632</td>\n",
       "      <td>224</td>\n",
       "      <td>14.137000</td>\n",
       "    </tr>\n",
       "    <tr>\n",
       "      <th>21</th>\n",
       "      <td>Aix-en-Provence</td>\n",
       "      <td>43.529842</td>\n",
       "      <td>5.447474</td>\n",
       "      <td>222</td>\n",
       "      <td>12.424000</td>\n",
       "    </tr>\n",
       "    <tr>\n",
       "      <th>17</th>\n",
       "      <td>Gorges du Verdon</td>\n",
       "      <td>43.749656</td>\n",
       "      <td>6.328562</td>\n",
       "      <td>221</td>\n",
       "      <td>6.619333</td>\n",
       "    </tr>\n",
       "    <tr>\n",
       "      <th>20</th>\n",
       "      <td>Marseille</td>\n",
       "      <td>43.296174</td>\n",
       "      <td>5.369953</td>\n",
       "      <td>220</td>\n",
       "      <td>14.945667</td>\n",
       "    </tr>\n",
       "    <tr>\n",
       "      <th>29</th>\n",
       "      <td>Tarascon-sur-Ariège</td>\n",
       "      <td>42.845802</td>\n",
       "      <td>1.606759</td>\n",
       "      <td>210</td>\n",
       "      <td>12.212667</td>\n",
       "    </tr>\n",
       "    <tr>\n",
       "      <th>24</th>\n",
       "      <td>Nîmes</td>\n",
       "      <td>43.837425</td>\n",
       "      <td>4.360069</td>\n",
       "      <td>209</td>\n",
       "      <td>11.902000</td>\n",
       "    </tr>\n",
       "    <tr>\n",
       "      <th>22</th>\n",
       "      <td>Avignon</td>\n",
       "      <td>43.949249</td>\n",
       "      <td>4.805901</td>\n",
       "      <td>208</td>\n",
       "      <td>11.828333</td>\n",
       "    </tr>\n",
       "    <tr>\n",
       "      <th>30</th>\n",
       "      <td>Toulouse</td>\n",
       "      <td>43.604462</td>\n",
       "      <td>1.444247</td>\n",
       "      <td>207</td>\n",
       "      <td>12.013667</td>\n",
       "    </tr>\n",
       "    <tr>\n",
       "      <th>23</th>\n",
       "      <td>Uzès</td>\n",
       "      <td>44.012128</td>\n",
       "      <td>4.419672</td>\n",
       "      <td>207</td>\n",
       "      <td>11.046333</td>\n",
       "    </tr>\n",
       "    <tr>\n",
       "      <th>28</th>\n",
       "      <td>Carcassonne</td>\n",
       "      <td>43.213036</td>\n",
       "      <td>2.349107</td>\n",
       "      <td>206</td>\n",
       "      <td>12.108333</td>\n",
       "    </tr>\n",
       "    <tr>\n",
       "      <th>31</th>\n",
       "      <td>Montauban</td>\n",
       "      <td>44.017584</td>\n",
       "      <td>1.354999</td>\n",
       "      <td>203</td>\n",
       "      <td>11.113333</td>\n",
       "    </tr>\n",
       "    <tr>\n",
       "      <th>16</th>\n",
       "      <td>Lyon</td>\n",
       "      <td>45.757814</td>\n",
       "      <td>4.832011</td>\n",
       "      <td>200</td>\n",
       "      <td>8.692333</td>\n",
       "    </tr>\n",
       "    <tr>\n",
       "      <th>25</th>\n",
       "      <td>Aigues-Mortes</td>\n",
       "      <td>43.566152</td>\n",
       "      <td>4.191540</td>\n",
       "      <td>199</td>\n",
       "      <td>13.499667</td>\n",
       "    </tr>\n",
       "    <tr>\n",
       "      <th>26</th>\n",
       "      <td>Saintes-Maries-de-la-Mer</td>\n",
       "      <td>43.451592</td>\n",
       "      <td>4.427720</td>\n",
       "      <td>196</td>\n",
       "      <td>14.092667</td>\n",
       "    </tr>\n",
       "    <tr>\n",
       "      <th>15</th>\n",
       "      <td>Grenoble</td>\n",
       "      <td>45.187560</td>\n",
       "      <td>5.735782</td>\n",
       "      <td>195</td>\n",
       "      <td>8.904000</td>\n",
       "    </tr>\n",
       "    <tr>\n",
       "      <th>14</th>\n",
       "      <td>Annecy</td>\n",
       "      <td>45.899235</td>\n",
       "      <td>6.128885</td>\n",
       "      <td>191</td>\n",
       "      <td>7.190667</td>\n",
       "    </tr>\n",
       "    <tr>\n",
       "      <th>33</th>\n",
       "      <td>Bayonne</td>\n",
       "      <td>43.494514</td>\n",
       "      <td>-1.473666</td>\n",
       "      <td>190</td>\n",
       "      <td>14.111000</td>\n",
       "    </tr>\n",
       "    <tr>\n",
       "      <th>32</th>\n",
       "      <td>Biarritz</td>\n",
       "      <td>43.483252</td>\n",
       "      <td>-1.559278</td>\n",
       "      <td>189</td>\n",
       "      <td>14.491667</td>\n",
       "    </tr>\n",
       "    <tr>\n",
       "      <th>6</th>\n",
       "      <td>Amiens</td>\n",
       "      <td>49.894171</td>\n",
       "      <td>2.295695</td>\n",
       "      <td>180</td>\n",
       "      <td>7.184000</td>\n",
       "    </tr>\n",
       "    <tr>\n",
       "      <th>34</th>\n",
       "      <td>La Rochelle</td>\n",
       "      <td>46.159732</td>\n",
       "      <td>-1.151595</td>\n",
       "      <td>179</td>\n",
       "      <td>11.336667</td>\n",
       "    </tr>\n",
       "    <tr>\n",
       "      <th>4</th>\n",
       "      <td>Rouen</td>\n",
       "      <td>49.440459</td>\n",
       "      <td>1.093966</td>\n",
       "      <td>178</td>\n",
       "      <td>7.738333</td>\n",
       "    </tr>\n",
       "    <tr>\n",
       "      <th>5</th>\n",
       "      <td>Paris</td>\n",
       "      <td>48.853495</td>\n",
       "      <td>2.348391</td>\n",
       "      <td>176</td>\n",
       "      <td>8.536333</td>\n",
       "    </tr>\n",
       "    <tr>\n",
       "      <th>2</th>\n",
       "      <td>Bayeux</td>\n",
       "      <td>49.276462</td>\n",
       "      <td>-0.702474</td>\n",
       "      <td>175</td>\n",
       "      <td>8.260667</td>\n",
       "    </tr>\n",
       "    <tr>\n",
       "      <th>13</th>\n",
       "      <td>Dijon</td>\n",
       "      <td>47.321581</td>\n",
       "      <td>5.041470</td>\n",
       "      <td>174</td>\n",
       "      <td>6.216667</td>\n",
       "    </tr>\n",
       "    <tr>\n",
       "      <th>8</th>\n",
       "      <td>Strasbourg</td>\n",
       "      <td>48.584614</td>\n",
       "      <td>7.750713</td>\n",
       "      <td>172</td>\n",
       "      <td>6.329667</td>\n",
       "    </tr>\n",
       "    <tr>\n",
       "      <th>3</th>\n",
       "      <td>Le Havre</td>\n",
       "      <td>49.493898</td>\n",
       "      <td>0.107973</td>\n",
       "      <td>169</td>\n",
       "      <td>9.609000</td>\n",
       "    </tr>\n",
       "    <tr>\n",
       "      <th>0</th>\n",
       "      <td>Mont Saint-Michel</td>\n",
       "      <td>48.635954</td>\n",
       "      <td>-1.511460</td>\n",
       "      <td>169</td>\n",
       "      <td>8.931667</td>\n",
       "    </tr>\n",
       "    <tr>\n",
       "      <th>12</th>\n",
       "      <td>Besançon</td>\n",
       "      <td>47.238022</td>\n",
       "      <td>6.024362</td>\n",
       "      <td>167</td>\n",
       "      <td>5.883000</td>\n",
       "    </tr>\n",
       "    <tr>\n",
       "      <th>1</th>\n",
       "      <td>Saint-Malo</td>\n",
       "      <td>48.649518</td>\n",
       "      <td>-2.026041</td>\n",
       "      <td>161</td>\n",
       "      <td>10.032000</td>\n",
       "    </tr>\n",
       "    <tr>\n",
       "      <th>10</th>\n",
       "      <td>Colmar</td>\n",
       "      <td>48.077752</td>\n",
       "      <td>7.357964</td>\n",
       "      <td>160</td>\n",
       "      <td>6.498333</td>\n",
       "    </tr>\n",
       "    <tr>\n",
       "      <th>11</th>\n",
       "      <td>Eguisheim</td>\n",
       "      <td>48.044797</td>\n",
       "      <td>7.307962</td>\n",
       "      <td>158</td>\n",
       "      <td>6.261333</td>\n",
       "    </tr>\n",
       "    <tr>\n",
       "      <th>7</th>\n",
       "      <td>Lille</td>\n",
       "      <td>50.636565</td>\n",
       "      <td>3.063528</td>\n",
       "      <td>158</td>\n",
       "      <td>7.208000</td>\n",
       "    </tr>\n",
       "    <tr>\n",
       "      <th>9</th>\n",
       "      <td>Château du Haut-Kœnigsbourg</td>\n",
       "      <td>48.249523</td>\n",
       "      <td>7.345492</td>\n",
       "      <td>155</td>\n",
       "      <td>3.707667</td>\n",
       "    </tr>\n",
       "  </tbody>\n",
       "</table>\n",
       "</div>"
      ],
      "text/plain": [
       "                          ville        lat       lon  note_type_temps  \\\n",
       "18           Bormes-les-Mimosas  43.150697  6.341928              241   \n",
       "27                    Collioure  42.525050  3.083155              228   \n",
       "19                       Cassis  43.214036  5.539632              224   \n",
       "21              Aix-en-Provence  43.529842  5.447474              222   \n",
       "17             Gorges du Verdon  43.749656  6.328562              221   \n",
       "20                    Marseille  43.296174  5.369953              220   \n",
       "29          Tarascon-sur-Ariège  42.845802  1.606759              210   \n",
       "24                        Nîmes  43.837425  4.360069              209   \n",
       "22                      Avignon  43.949249  4.805901              208   \n",
       "30                     Toulouse  43.604462  1.444247              207   \n",
       "23                         Uzès  44.012128  4.419672              207   \n",
       "28                  Carcassonne  43.213036  2.349107              206   \n",
       "31                    Montauban  44.017584  1.354999              203   \n",
       "16                         Lyon  45.757814  4.832011              200   \n",
       "25                Aigues-Mortes  43.566152  4.191540              199   \n",
       "26     Saintes-Maries-de-la-Mer  43.451592  4.427720              196   \n",
       "15                     Grenoble  45.187560  5.735782              195   \n",
       "14                       Annecy  45.899235  6.128885              191   \n",
       "33                      Bayonne  43.494514 -1.473666              190   \n",
       "32                     Biarritz  43.483252 -1.559278              189   \n",
       "6                        Amiens  49.894171  2.295695              180   \n",
       "34                  La Rochelle  46.159732 -1.151595              179   \n",
       "4                         Rouen  49.440459  1.093966              178   \n",
       "5                         Paris  48.853495  2.348391              176   \n",
       "2                        Bayeux  49.276462 -0.702474              175   \n",
       "13                        Dijon  47.321581  5.041470              174   \n",
       "8                    Strasbourg  48.584614  7.750713              172   \n",
       "3                      Le Havre  49.493898  0.107973              169   \n",
       "0             Mont Saint-Michel  48.635954 -1.511460              169   \n",
       "12                     Besançon  47.238022  6.024362              167   \n",
       "1                    Saint-Malo  48.649518 -2.026041              161   \n",
       "10                       Colmar  48.077752  7.357964              160   \n",
       "11                    Eguisheim  48.044797  7.307962              158   \n",
       "7                         Lille  50.636565  3.063528              158   \n",
       "9   Château du Haut-Kœnigsbourg  48.249523  7.345492              155   \n",
       "\n",
       "         temp  \n",
       "18  13.463333  \n",
       "27  14.706000  \n",
       "19  14.137000  \n",
       "21  12.424000  \n",
       "17   6.619333  \n",
       "20  14.945667  \n",
       "29  12.212667  \n",
       "24  11.902000  \n",
       "22  11.828333  \n",
       "30  12.013667  \n",
       "23  11.046333  \n",
       "28  12.108333  \n",
       "31  11.113333  \n",
       "16   8.692333  \n",
       "25  13.499667  \n",
       "26  14.092667  \n",
       "15   8.904000  \n",
       "14   7.190667  \n",
       "33  14.111000  \n",
       "32  14.491667  \n",
       "6    7.184000  \n",
       "34  11.336667  \n",
       "4    7.738333  \n",
       "5    8.536333  \n",
       "2    8.260667  \n",
       "13   6.216667  \n",
       "8    6.329667  \n",
       "3    9.609000  \n",
       "0    8.931667  \n",
       "12   5.883000  \n",
       "1   10.032000  \n",
       "10   6.498333  \n",
       "11   6.261333  \n",
       "7    7.208000  \n",
       "9    3.707667  "
      ]
     },
     "execution_count": 27,
     "metadata": {},
     "output_type": "execute_result"
    }
   ],
   "source": [
    "df_final.sort_values(\"note_type_temps\", ascending=False)"
   ]
  },
  {
   "cell_type": "markdown",
   "metadata": {},
   "source": [
    "CREATION DE LA CARTE"
   ]
  },
  {
   "cell_type": "code",
   "execution_count": 28,
   "metadata": {},
   "outputs": [
    {
     "data": {
      "application/vnd.plotly.v1+json": {
       "config": {
        "plotlyServerURL": "https://plot.ly"
       },
       "data": [
        {
         "customdata": [
          [
           8.931666666666667
          ],
          [
           10.032
          ],
          [
           8.260666666666667
          ],
          [
           9.609
          ],
          [
           7.738333333333333
          ],
          [
           8.536333333333333
          ],
          [
           7.184
          ],
          [
           7.208
          ],
          [
           6.329666666666666
          ],
          [
           3.707666666666667
          ],
          [
           6.498333333333333
          ],
          [
           6.261333333333334
          ],
          [
           5.883
          ],
          [
           6.216666666666667
          ],
          [
           7.190666666666667
          ],
          [
           8.904
          ],
          [
           8.692333333333332
          ],
          [
           6.619333333333333
          ],
          [
           13.463333333333333
          ],
          [
           14.137
          ],
          [
           14.945666666666666
          ],
          [
           12.424
          ],
          [
           11.828333333333335
          ],
          [
           11.046333333333333
          ],
          [
           11.902
          ],
          [
           13.499666666666666
          ],
          [
           14.092666666666666
          ],
          [
           14.706
          ],
          [
           12.108333333333333
          ],
          [
           12.212666666666667
          ],
          [
           12.013666666666667
          ],
          [
           11.113333333333333
          ],
          [
           14.491666666666667
          ],
          [
           14.110999999999999
          ],
          [
           11.336666666666668
          ]
         ],
         "hovertemplate": "<b>%{hovertext}</b><br><br>temp=%{customdata[0]}<br>lat=%{lat}<br>lon=%{lon}<br>note_type_temps=%{marker.color}<extra></extra>",
         "hovertext": [
          "Mont Saint-Michel",
          "Saint-Malo",
          "Bayeux",
          "Le Havre",
          "Rouen",
          "Paris",
          "Amiens",
          "Lille",
          "Strasbourg",
          "Château du Haut-Kœnigsbourg",
          "Colmar",
          "Eguisheim",
          "Besançon",
          "Dijon",
          "Annecy",
          "Grenoble",
          "Lyon",
          "Gorges du Verdon",
          "Bormes-les-Mimosas",
          "Cassis",
          "Marseille",
          "Aix-en-Provence",
          "Avignon",
          "Uzès",
          "Nîmes",
          "Aigues-Mortes",
          "Saintes-Maries-de-la-Mer",
          "Collioure",
          "Carcassonne",
          "Tarascon-sur-Ariège",
          "Toulouse",
          "Montauban",
          "Biarritz",
          "Bayonne",
          "La Rochelle"
         ],
         "lat": [
          48.6359541,
          48.649518,
          49.2764624,
          49.4938975,
          49.4404591,
          48.8534951,
          49.8941708,
          50.6365654,
          48.584614,
          48.2495226,
          48.0777517,
          48.0447968,
          47.2380222,
          47.3215806,
          45.8992348,
          45.1875602,
          45.7578137,
          43.7496562,
          43.1506968,
          43.2140359,
          43.2961743,
          43.5298424,
          43.9492493,
          44.0121279,
          43.8374249,
          43.5661521,
          43.4515922,
          42.52505,
          43.2130358,
          42.8458016,
          43.6044622,
          44.0175835,
          43.4832523,
          43.4945144,
          46.159732
         ],
         "legendgroup": "",
         "lon": [
          -1.511459954959514,
          -2.0260409,
          -0.7024738,
          0.1079732,
          1.0939658,
          2.3483915,
          2.2956951,
          3.0635282,
          7.7507127,
          7.3454923,
          7.3579641,
          7.3079618,
          6.0243622,
          5.0414701,
          6.1288847,
          5.7357819,
          4.8320114,
          6.3285616,
          6.3419285,
          5.5396318,
          5.3699525,
          5.4474738,
          4.8059012,
          4.4196718,
          4.3600687,
          4.19154,
          4.4277202,
          3.0831554,
          2.3491069,
          1.6067586,
          1.4442469,
          1.3549991,
          -1.5592776,
          -1.4736657,
          -1.1515951
         ],
         "marker": {
          "color": [
           169,
           161,
           175,
           169,
           178,
           176,
           180,
           158,
           172,
           155,
           160,
           158,
           167,
           174,
           191,
           195,
           200,
           221,
           241,
           224,
           220,
           222,
           208,
           207,
           209,
           199,
           196,
           228,
           206,
           210,
           207,
           203,
           189,
           190,
           179
          ],
          "coloraxis": "coloraxis",
          "size": [
           8.931666666666667,
           10.032,
           8.260666666666667,
           9.609,
           7.738333333333333,
           8.536333333333333,
           7.184,
           7.208,
           6.329666666666666,
           3.707666666666667,
           6.498333333333333,
           6.261333333333334,
           5.883,
           6.216666666666667,
           7.190666666666667,
           8.904,
           8.692333333333332,
           6.619333333333333,
           13.463333333333333,
           14.137,
           14.945666666666666,
           12.424,
           11.828333333333335,
           11.046333333333333,
           11.902,
           13.499666666666666,
           14.092666666666666,
           14.706,
           12.108333333333333,
           12.212666666666667,
           12.013666666666667,
           11.113333333333333,
           14.491666666666667,
           14.110999999999999,
           11.336666666666668
          ],
          "sizemode": "area",
          "sizeref": 0.037364166666666664
         },
         "mode": "markers",
         "name": "",
         "showlegend": false,
         "subplot": "mapbox",
         "type": "scattermapbox"
        }
       ],
       "layout": {
        "coloraxis": {
         "colorbar": {
          "title": {
           "text": "note_type_temps"
          }
         },
         "colorscale": [
          [
           0,
           "red"
          ],
          [
           0.3333333333333333,
           "orange"
          ],
          [
           0.6666666666666666,
           "yellowgreen"
          ],
          [
           1,
           "green"
          ]
         ]
        },
        "height": 700,
        "legend": {
         "itemsizing": "constant",
         "tracegroupgap": 0
        },
        "mapbox": {
         "center": {
          "lat": 46.327408,
          "lon": 2.232999
         },
         "domain": {
          "x": [
           0,
           1
          ],
          "y": [
           0,
           1
          ]
         },
         "style": "open-street-map",
         "zoom": 4.5
        },
        "template": {
         "data": {
          "bar": [
           {
            "error_x": {
             "color": "#2a3f5f"
            },
            "error_y": {
             "color": "#2a3f5f"
            },
            "marker": {
             "line": {
              "color": "#E5ECF6",
              "width": 0.5
             },
             "pattern": {
              "fillmode": "overlay",
              "size": 10,
              "solidity": 0.2
             }
            },
            "type": "bar"
           }
          ],
          "barpolar": [
           {
            "marker": {
             "line": {
              "color": "#E5ECF6",
              "width": 0.5
             },
             "pattern": {
              "fillmode": "overlay",
              "size": 10,
              "solidity": 0.2
             }
            },
            "type": "barpolar"
           }
          ],
          "carpet": [
           {
            "aaxis": {
             "endlinecolor": "#2a3f5f",
             "gridcolor": "white",
             "linecolor": "white",
             "minorgridcolor": "white",
             "startlinecolor": "#2a3f5f"
            },
            "baxis": {
             "endlinecolor": "#2a3f5f",
             "gridcolor": "white",
             "linecolor": "white",
             "minorgridcolor": "white",
             "startlinecolor": "#2a3f5f"
            },
            "type": "carpet"
           }
          ],
          "choropleth": [
           {
            "colorbar": {
             "outlinewidth": 0,
             "ticks": ""
            },
            "type": "choropleth"
           }
          ],
          "contour": [
           {
            "colorbar": {
             "outlinewidth": 0,
             "ticks": ""
            },
            "colorscale": [
             [
              0,
              "#0d0887"
             ],
             [
              0.1111111111111111,
              "#46039f"
             ],
             [
              0.2222222222222222,
              "#7201a8"
             ],
             [
              0.3333333333333333,
              "#9c179e"
             ],
             [
              0.4444444444444444,
              "#bd3786"
             ],
             [
              0.5555555555555556,
              "#d8576b"
             ],
             [
              0.6666666666666666,
              "#ed7953"
             ],
             [
              0.7777777777777778,
              "#fb9f3a"
             ],
             [
              0.8888888888888888,
              "#fdca26"
             ],
             [
              1,
              "#f0f921"
             ]
            ],
            "type": "contour"
           }
          ],
          "contourcarpet": [
           {
            "colorbar": {
             "outlinewidth": 0,
             "ticks": ""
            },
            "type": "contourcarpet"
           }
          ],
          "heatmap": [
           {
            "colorbar": {
             "outlinewidth": 0,
             "ticks": ""
            },
            "colorscale": [
             [
              0,
              "#0d0887"
             ],
             [
              0.1111111111111111,
              "#46039f"
             ],
             [
              0.2222222222222222,
              "#7201a8"
             ],
             [
              0.3333333333333333,
              "#9c179e"
             ],
             [
              0.4444444444444444,
              "#bd3786"
             ],
             [
              0.5555555555555556,
              "#d8576b"
             ],
             [
              0.6666666666666666,
              "#ed7953"
             ],
             [
              0.7777777777777778,
              "#fb9f3a"
             ],
             [
              0.8888888888888888,
              "#fdca26"
             ],
             [
              1,
              "#f0f921"
             ]
            ],
            "type": "heatmap"
           }
          ],
          "heatmapgl": [
           {
            "colorbar": {
             "outlinewidth": 0,
             "ticks": ""
            },
            "colorscale": [
             [
              0,
              "#0d0887"
             ],
             [
              0.1111111111111111,
              "#46039f"
             ],
             [
              0.2222222222222222,
              "#7201a8"
             ],
             [
              0.3333333333333333,
              "#9c179e"
             ],
             [
              0.4444444444444444,
              "#bd3786"
             ],
             [
              0.5555555555555556,
              "#d8576b"
             ],
             [
              0.6666666666666666,
              "#ed7953"
             ],
             [
              0.7777777777777778,
              "#fb9f3a"
             ],
             [
              0.8888888888888888,
              "#fdca26"
             ],
             [
              1,
              "#f0f921"
             ]
            ],
            "type": "heatmapgl"
           }
          ],
          "histogram": [
           {
            "marker": {
             "pattern": {
              "fillmode": "overlay",
              "size": 10,
              "solidity": 0.2
             }
            },
            "type": "histogram"
           }
          ],
          "histogram2d": [
           {
            "colorbar": {
             "outlinewidth": 0,
             "ticks": ""
            },
            "colorscale": [
             [
              0,
              "#0d0887"
             ],
             [
              0.1111111111111111,
              "#46039f"
             ],
             [
              0.2222222222222222,
              "#7201a8"
             ],
             [
              0.3333333333333333,
              "#9c179e"
             ],
             [
              0.4444444444444444,
              "#bd3786"
             ],
             [
              0.5555555555555556,
              "#d8576b"
             ],
             [
              0.6666666666666666,
              "#ed7953"
             ],
             [
              0.7777777777777778,
              "#fb9f3a"
             ],
             [
              0.8888888888888888,
              "#fdca26"
             ],
             [
              1,
              "#f0f921"
             ]
            ],
            "type": "histogram2d"
           }
          ],
          "histogram2dcontour": [
           {
            "colorbar": {
             "outlinewidth": 0,
             "ticks": ""
            },
            "colorscale": [
             [
              0,
              "#0d0887"
             ],
             [
              0.1111111111111111,
              "#46039f"
             ],
             [
              0.2222222222222222,
              "#7201a8"
             ],
             [
              0.3333333333333333,
              "#9c179e"
             ],
             [
              0.4444444444444444,
              "#bd3786"
             ],
             [
              0.5555555555555556,
              "#d8576b"
             ],
             [
              0.6666666666666666,
              "#ed7953"
             ],
             [
              0.7777777777777778,
              "#fb9f3a"
             ],
             [
              0.8888888888888888,
              "#fdca26"
             ],
             [
              1,
              "#f0f921"
             ]
            ],
            "type": "histogram2dcontour"
           }
          ],
          "mesh3d": [
           {
            "colorbar": {
             "outlinewidth": 0,
             "ticks": ""
            },
            "type": "mesh3d"
           }
          ],
          "parcoords": [
           {
            "line": {
             "colorbar": {
              "outlinewidth": 0,
              "ticks": ""
             }
            },
            "type": "parcoords"
           }
          ],
          "pie": [
           {
            "automargin": true,
            "type": "pie"
           }
          ],
          "scatter": [
           {
            "fillpattern": {
             "fillmode": "overlay",
             "size": 10,
             "solidity": 0.2
            },
            "type": "scatter"
           }
          ],
          "scatter3d": [
           {
            "line": {
             "colorbar": {
              "outlinewidth": 0,
              "ticks": ""
             }
            },
            "marker": {
             "colorbar": {
              "outlinewidth": 0,
              "ticks": ""
             }
            },
            "type": "scatter3d"
           }
          ],
          "scattercarpet": [
           {
            "marker": {
             "colorbar": {
              "outlinewidth": 0,
              "ticks": ""
             }
            },
            "type": "scattercarpet"
           }
          ],
          "scattergeo": [
           {
            "marker": {
             "colorbar": {
              "outlinewidth": 0,
              "ticks": ""
             }
            },
            "type": "scattergeo"
           }
          ],
          "scattergl": [
           {
            "marker": {
             "colorbar": {
              "outlinewidth": 0,
              "ticks": ""
             }
            },
            "type": "scattergl"
           }
          ],
          "scattermapbox": [
           {
            "marker": {
             "colorbar": {
              "outlinewidth": 0,
              "ticks": ""
             }
            },
            "type": "scattermapbox"
           }
          ],
          "scatterpolar": [
           {
            "marker": {
             "colorbar": {
              "outlinewidth": 0,
              "ticks": ""
             }
            },
            "type": "scatterpolar"
           }
          ],
          "scatterpolargl": [
           {
            "marker": {
             "colorbar": {
              "outlinewidth": 0,
              "ticks": ""
             }
            },
            "type": "scatterpolargl"
           }
          ],
          "scatterternary": [
           {
            "marker": {
             "colorbar": {
              "outlinewidth": 0,
              "ticks": ""
             }
            },
            "type": "scatterternary"
           }
          ],
          "surface": [
           {
            "colorbar": {
             "outlinewidth": 0,
             "ticks": ""
            },
            "colorscale": [
             [
              0,
              "#0d0887"
             ],
             [
              0.1111111111111111,
              "#46039f"
             ],
             [
              0.2222222222222222,
              "#7201a8"
             ],
             [
              0.3333333333333333,
              "#9c179e"
             ],
             [
              0.4444444444444444,
              "#bd3786"
             ],
             [
              0.5555555555555556,
              "#d8576b"
             ],
             [
              0.6666666666666666,
              "#ed7953"
             ],
             [
              0.7777777777777778,
              "#fb9f3a"
             ],
             [
              0.8888888888888888,
              "#fdca26"
             ],
             [
              1,
              "#f0f921"
             ]
            ],
            "type": "surface"
           }
          ],
          "table": [
           {
            "cells": {
             "fill": {
              "color": "#EBF0F8"
             },
             "line": {
              "color": "white"
             }
            },
            "header": {
             "fill": {
              "color": "#C8D4E3"
             },
             "line": {
              "color": "white"
             }
            },
            "type": "table"
           }
          ]
         },
         "layout": {
          "annotationdefaults": {
           "arrowcolor": "#2a3f5f",
           "arrowhead": 0,
           "arrowwidth": 1
          },
          "autotypenumbers": "strict",
          "coloraxis": {
           "colorbar": {
            "outlinewidth": 0,
            "ticks": ""
           }
          },
          "colorscale": {
           "diverging": [
            [
             0,
             "#8e0152"
            ],
            [
             0.1,
             "#c51b7d"
            ],
            [
             0.2,
             "#de77ae"
            ],
            [
             0.3,
             "#f1b6da"
            ],
            [
             0.4,
             "#fde0ef"
            ],
            [
             0.5,
             "#f7f7f7"
            ],
            [
             0.6,
             "#e6f5d0"
            ],
            [
             0.7,
             "#b8e186"
            ],
            [
             0.8,
             "#7fbc41"
            ],
            [
             0.9,
             "#4d9221"
            ],
            [
             1,
             "#276419"
            ]
           ],
           "sequential": [
            [
             0,
             "#0d0887"
            ],
            [
             0.1111111111111111,
             "#46039f"
            ],
            [
             0.2222222222222222,
             "#7201a8"
            ],
            [
             0.3333333333333333,
             "#9c179e"
            ],
            [
             0.4444444444444444,
             "#bd3786"
            ],
            [
             0.5555555555555556,
             "#d8576b"
            ],
            [
             0.6666666666666666,
             "#ed7953"
            ],
            [
             0.7777777777777778,
             "#fb9f3a"
            ],
            [
             0.8888888888888888,
             "#fdca26"
            ],
            [
             1,
             "#f0f921"
            ]
           ],
           "sequentialminus": [
            [
             0,
             "#0d0887"
            ],
            [
             0.1111111111111111,
             "#46039f"
            ],
            [
             0.2222222222222222,
             "#7201a8"
            ],
            [
             0.3333333333333333,
             "#9c179e"
            ],
            [
             0.4444444444444444,
             "#bd3786"
            ],
            [
             0.5555555555555556,
             "#d8576b"
            ],
            [
             0.6666666666666666,
             "#ed7953"
            ],
            [
             0.7777777777777778,
             "#fb9f3a"
            ],
            [
             0.8888888888888888,
             "#fdca26"
            ],
            [
             1,
             "#f0f921"
            ]
           ]
          },
          "colorway": [
           "#636efa",
           "#EF553B",
           "#00cc96",
           "#ab63fa",
           "#FFA15A",
           "#19d3f3",
           "#FF6692",
           "#B6E880",
           "#FF97FF",
           "#FECB52"
          ],
          "font": {
           "color": "#2a3f5f"
          },
          "geo": {
           "bgcolor": "white",
           "lakecolor": "white",
           "landcolor": "#E5ECF6",
           "showlakes": true,
           "showland": true,
           "subunitcolor": "white"
          },
          "hoverlabel": {
           "align": "left"
          },
          "hovermode": "closest",
          "mapbox": {
           "style": "light"
          },
          "paper_bgcolor": "white",
          "plot_bgcolor": "#E5ECF6",
          "polar": {
           "angularaxis": {
            "gridcolor": "white",
            "linecolor": "white",
            "ticks": ""
           },
           "bgcolor": "#E5ECF6",
           "radialaxis": {
            "gridcolor": "white",
            "linecolor": "white",
            "ticks": ""
           }
          },
          "scene": {
           "xaxis": {
            "backgroundcolor": "#E5ECF6",
            "gridcolor": "white",
            "gridwidth": 2,
            "linecolor": "white",
            "showbackground": true,
            "ticks": "",
            "zerolinecolor": "white"
           },
           "yaxis": {
            "backgroundcolor": "#E5ECF6",
            "gridcolor": "white",
            "gridwidth": 2,
            "linecolor": "white",
            "showbackground": true,
            "ticks": "",
            "zerolinecolor": "white"
           },
           "zaxis": {
            "backgroundcolor": "#E5ECF6",
            "gridcolor": "white",
            "gridwidth": 2,
            "linecolor": "white",
            "showbackground": true,
            "ticks": "",
            "zerolinecolor": "white"
           }
          },
          "shapedefaults": {
           "line": {
            "color": "#2a3f5f"
           }
          },
          "ternary": {
           "aaxis": {
            "gridcolor": "white",
            "linecolor": "white",
            "ticks": ""
           },
           "baxis": {
            "gridcolor": "white",
            "linecolor": "white",
            "ticks": ""
           },
           "bgcolor": "#E5ECF6",
           "caxis": {
            "gridcolor": "white",
            "linecolor": "white",
            "ticks": ""
           }
          },
          "title": {
           "x": 0.05
          },
          "xaxis": {
           "automargin": true,
           "gridcolor": "white",
           "linecolor": "white",
           "ticks": "",
           "title": {
            "standoff": 15
           },
           "zerolinecolor": "white",
           "zerolinewidth": 2
          },
          "yaxis": {
           "automargin": true,
           "gridcolor": "white",
           "linecolor": "white",
           "ticks": "",
           "title": {
            "standoff": 15
           },
           "zerolinecolor": "white",
           "zerolinewidth": 2
          }
         }
        },
        "title": {
         "text": "Où on part ce weekend ?",
         "x": 0.5
        }
       }
      }
     },
     "metadata": {},
     "output_type": "display_data"
    }
   ],
   "source": [
    "fig = px.scatter_mapbox(df_final,lat=\"lat\", lon=\"lon\", color=\"note_type_temps\", hover_name=\"ville\", hover_data='temp', height=700,\n",
    "mapbox_style=\"open-street-map\",title='Où on part ce weekend ?',zoom=4.5,color_continuous_scale=[\"red\",\"orange\",\"yellowgreen\",\"green\"], size=\"temp\", center={'lon':2.232999,\"lat\":46.327408})\n",
    "fig.update_layout(title_x=0.5)\n",
    "fig.show()"
   ]
  }
 ],
 "metadata": {
  "kernelspec": {
   "display_name": "base",
   "language": "python",
   "name": "python3"
  },
  "language_info": {
   "codemirror_mode": {
    "name": "ipython",
    "version": 3
   },
   "file_extension": ".py",
   "mimetype": "text/x-python",
   "name": "python",
   "nbconvert_exporter": "python",
   "pygments_lexer": "ipython3",
   "version": "3.12.4"
  }
 },
 "nbformat": 4,
 "nbformat_minor": 2
}
