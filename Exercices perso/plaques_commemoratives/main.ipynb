{
 "cells": [
  {
   "cell_type": "markdown",
   "metadata": {},
   "source": [
    "ON IMPORTE LES LIBRAIRES ET ON IMPORTE LE CSV"
   ]
  },
  {
   "cell_type": "code",
   "execution_count": 2,
   "metadata": {},
   "outputs": [],
   "source": [
    "import pandas as pd\n",
    "import plotly.express as px\n",
    "\n",
    "data = pd.read_csv(\"src/plaques_commemoratives.csv\", sep=\";\")\n"
   ]
  },
  {
   "cell_type": "markdown",
   "metadata": {},
   "source": [
    "EN FAISANT UN DATA HEAD ON VOIT QUE LES COORDONNEES SONT REGROUPEES DONC ON SPLIT POUR AVOIR LA LAT ET LA LON DANS DEUX COLONNES SEPAREES"
   ]
  },
  {
   "cell_type": "code",
   "execution_count": 3,
   "metadata": {},
   "outputs": [],
   "source": [
    "data['lat'] = data[\"geo_point_2d\"].apply(lambda x : x.split(',')[0]).astype('float64')\n",
    "data['lon'] = data[\"geo_point_2d\"].apply(lambda x : x.split(',')[1]).astype('float64')"
   ]
  },
  {
   "cell_type": "code",
   "execution_count": 7,
   "metadata": {},
   "outputs": [],
   "source": [
    "data[\"Pays\"].value_counts(dropna=False)\n",
    "\n",
    "data_sans_na = data[data['Pays'].notnull()]"
   ]
  },
  {
   "cell_type": "code",
   "execution_count": 8,
   "metadata": {},
   "outputs": [
    {
     "data": {
      "text/plain": [
       "(2544, 23)"
      ]
     },
     "execution_count": 8,
     "metadata": {},
     "output_type": "execute_result"
    }
   ],
   "source": [
    "data_sans_na.shape"
   ]
  },
  {
   "cell_type": "code",
   "execution_count": 9,
   "metadata": {},
   "outputs": [
    {
     "data": {
      "text/plain": [
       "(2577, 23)"
      ]
     },
     "execution_count": 9,
     "metadata": {},
     "output_type": "execute_result"
    }
   ],
   "source": [
    "data.shape"
   ]
  },
  {
   "cell_type": "code",
   "execution_count": 10,
   "metadata": {},
   "outputs": [
    {
     "name": "stdout",
     "output_type": "stream",
     "text": [
      "['France']\n",
      "['France', ' Philippines']\n",
      "['France']\n",
      "['France']\n",
      "['France', ' Portugal']\n",
      "['France']\n",
      "['France', ' Suisse']\n",
      "['France']\n",
      "['France']\n",
      "['France', ' Suède']\n",
      "['France', ' Suisse']\n",
      "['France']\n",
      "['France']\n",
      "['France', ' Allemagne']\n",
      "['France']\n",
      "['France', ' Liban', \" Etats-Unis d'Amérique\"]\n",
      "['France']\n",
      "['France']\n",
      "['France']\n",
      "['France']\n",
      "['France']\n",
      "['France']\n",
      "['France']\n",
      "['France', ' Pologne']\n",
      "['France']\n",
      "['France']\n",
      "['France']\n",
      "['France']\n",
      "['France']\n",
      "['France', ' Argentine']\n",
      "['France']\n",
      "['France', ' Hongrie']\n",
      "['France']\n",
      "['France']\n",
      "['France']\n",
      "['France']\n",
      "['France']\n",
      "['France']\n",
      "['France']\n",
      "['France']\n",
      "['France']\n",
      "['France']\n",
      "['France']\n",
      "['France']\n",
      "['France']\n",
      "['France', ' Japon']\n",
      "['France']\n",
      "['France', ' États-Unis']\n",
      "['France']\n",
      "['France']\n",
      "['France']\n",
      "['France']\n",
      "['France']\n",
      "['France']\n",
      "['France']\n",
      "['France']\n",
      "['France']\n",
      "['France']\n",
      "['France']\n",
      "['France']\n",
      "['France']\n",
      "['France']\n",
      "['France']\n",
      "['France']\n",
      "['France']\n",
      "['France']\n",
      "['France']\n",
      "['France']\n",
      "['France']\n",
      "['France', ' Espagne']\n",
      "['France']\n",
      "['France']\n",
      "['France']\n",
      "['France']\n",
      "['France']\n",
      "['France']\n",
      "['France']\n",
      "['France']\n",
      "['France']\n",
      "['France']\n",
      "['France']\n",
      "['France']\n",
      "['France']\n",
      "['France']\n",
      "['France']\n",
      "['France', ' Roumanie']\n",
      "['France', ' Irlande']\n",
      "['France']\n",
      "['France', ' Grande-Bretagne', ' États-Unis']\n",
      "['France']\n",
      "['France']\n",
      "['France']\n",
      "['France']\n",
      "['France']\n",
      "['France']\n",
      "['France']\n",
      "['France']\n",
      "['France', ' Autriche']\n",
      "['France']\n",
      "['France']\n",
      "['France']\n",
      "['France']\n",
      "['France']\n",
      "['France']\n",
      "['France']\n",
      "['France']\n",
      "['France']\n",
      "['France']\n",
      "['France', \" Etats-Unis d'Amérique\"]\n",
      "['France', ' Russie']\n",
      "['France']\n",
      "['France']\n",
      "['France', ' République tchèque']\n",
      "['France']\n",
      "['France']\n",
      "['France']\n",
      "['France']\n",
      "['France']\n",
      "['France']\n",
      "['France']\n",
      "['France']\n",
      "['France']\n",
      "['France']\n",
      "['France', ' Autriche']\n",
      "['France']\n",
      "['France', \" Etats-Unis d'Amérique\"]\n",
      "['France']\n",
      "['France']\n",
      "['France', ' Danemark', ' Norvège']\n",
      "['France']\n",
      "['France']\n",
      "['France', ' Tunisie']\n",
      "['France']\n",
      "['France']\n",
      "['France']\n",
      "['France']\n",
      "['France']\n",
      "['France']\n",
      "['France']\n",
      "['France']\n",
      "['France']\n",
      "['France']\n",
      "['France']\n",
      "['France']\n",
      "['France']\n",
      "['France']\n",
      "['France']\n",
      "['France']\n",
      "['France']\n",
      "['France']\n",
      "['France', ' Indochine']\n",
      "['France']\n",
      "['France']\n",
      "['France']\n",
      "['France']\n",
      "['France']\n",
      "['France']\n",
      "['France']\n",
      "['France']\n",
      "['France']\n",
      "['France']\n",
      "['France']\n",
      "['France']\n",
      "['France']\n",
      "['France']\n",
      "['France']\n",
      "['France']\n",
      "['France']\n",
      "['France']\n",
      "['France']\n",
      "['France']\n",
      "['France']\n",
      "['France']\n",
      "['France']\n",
      "['France']\n",
      "['France']\n",
      "['France']\n",
      "['France']\n",
      "['France', ' Allemagne']\n",
      "['France', ' Italie']\n",
      "['France']\n",
      "['France']\n",
      "['France']\n",
      "['France']\n",
      "['France', ' Slovaquie']\n",
      "['France']\n",
      "['France']\n",
      "['France']\n",
      "['France']\n",
      "['France', ' Luxembourg']\n",
      "['France']\n",
      "['France']\n",
      "['France']\n",
      "['France']\n",
      "['France']\n",
      "['France']\n",
      "['France']\n",
      "['France']\n",
      "['France']\n",
      "['France']\n",
      "['France']\n",
      "['France']\n",
      "['France']\n",
      "['France']\n",
      "['France']\n",
      "['France']\n",
      "['France']\n",
      "['France', ' Russie']\n",
      "['France']\n",
      "['France']\n",
      "['France']\n",
      "['France']\n",
      "['France']\n",
      "['France']\n",
      "['France', ' Belgique']\n",
      "['France', \" Etats-Unis d'Amérique\"]\n",
      "['France']\n",
      "['France', ' Brésil']\n",
      "['France']\n",
      "['France']\n",
      "['France']\n",
      "['France']\n",
      "['France']\n",
      "['France']\n",
      "['France']\n",
      "['France']\n",
      "['France', ' Etats-Unis']\n",
      "['France']\n",
      "['France']\n",
      "['France']\n",
      "['France']\n",
      "['France', ' Espagne']\n",
      "['France']\n",
      "['France']\n",
      "['France']\n",
      "['France']\n",
      "['France']\n",
      "['France']\n",
      "['France']\n",
      "['France']\n",
      "['France']\n",
      "['France']\n",
      "['France']\n",
      "['France']\n",
      "['France']\n",
      "['France']\n",
      "['France']\n",
      "['France']\n",
      "['France']\n",
      "['France']\n",
      "['France']\n",
      "['France']\n",
      "['France']\n",
      "['France', ' Roumanie']\n",
      "['France']\n",
      "['France']\n",
      "['France']\n",
      "['France']\n",
      "['France']\n",
      "['France', ' Arménie']\n",
      "['France']\n",
      "['France']\n",
      "['France']\n",
      "['France']\n",
      "['France']\n",
      "['France']\n",
      "['France']\n",
      "['France']\n",
      "['France']\n",
      "['France']\n",
      "['France']\n",
      "['France']\n",
      "['France']\n",
      "['France']\n",
      "['France']\n",
      "['France']\n",
      "['France']\n",
      "['France', ' Portugal']\n",
      "['France']\n",
      "['France', ' Pays-Bas']\n",
      "['France']\n",
      "['France', ' Serbie']\n",
      "['France']\n",
      "['France']\n",
      "['France']\n",
      "['France', ' Russie']\n",
      "['France']\n",
      "['France']\n",
      "['France']\n",
      "['France']\n",
      "['France', ' Espagne']\n",
      "['France', ' Turquie']\n",
      "['France']\n",
      "['France']\n",
      "['France']\n",
      "['France']\n",
      "['France', ' Croatie']\n",
      "['France']\n",
      "['France']\n",
      "['France']\n",
      "['France']\n",
      "['France']\n",
      "['France']\n",
      "['France']\n",
      "['France']\n",
      "['France']\n",
      "['France']\n",
      "['France']\n",
      "['France']\n",
      "['France']\n",
      "['France', ' Pays-Bas']\n",
      "['France']\n",
      "['France']\n",
      "['France', \" Etats-Unis d'Amérique\"]\n",
      "['France']\n",
      "['France']\n",
      "['France']\n",
      "['France']\n",
      "['France']\n",
      "['France']\n",
      "['France']\n",
      "['France']\n",
      "['France']\n",
      "['France']\n",
      "['France']\n",
      "['France']\n",
      "['France']\n",
      "['France']\n",
      "['France']\n",
      "['France']\n",
      "['France']\n",
      "['France', ' Allemagne']\n",
      "['France']\n",
      "['France']\n",
      "['France']\n",
      "['France', ' Allemagne']\n",
      "['France']\n",
      "['France']\n",
      "['France']\n",
      "['France', ' Québec']\n",
      "['France']\n",
      "['France']\n",
      "['France']\n",
      "['France', ' Pérou']\n",
      "['France']\n",
      "['France']\n",
      "['France']\n",
      "['France']\n",
      "['France']\n",
      "['France']\n",
      "['France']\n",
      "['France']\n",
      "['France']\n",
      "['France']\n",
      "['France']\n",
      "['France']\n",
      "['France']\n",
      "['France']\n",
      "['France']\n",
      "['France']\n",
      "['France']\n",
      "['France']\n",
      "['France']\n",
      "['France']\n",
      "['France']\n",
      "['France']\n",
      "['France']\n",
      "['France']\n",
      "['France']\n",
      "['France']\n",
      "['France']\n",
      "['France']\n",
      "['France']\n",
      "['France']\n",
      "['France']\n",
      "['France']\n",
      "['France']\n",
      "['France']\n",
      "['France']\n",
      "['France']\n",
      "['France']\n",
      "['France']\n",
      "['France']\n",
      "['France']\n",
      "['France']\n",
      "['France', ' Espagne']\n",
      "['France']\n",
      "['France']\n",
      "['France']\n",
      "['France']\n",
      "['France']\n",
      "['France', ' Argentine']\n",
      "['France', ' Espagne']\n",
      "['France']\n",
      "['France', \" Etats-Unis d'Amérique\"]\n",
      "['France']\n",
      "['France']\n",
      "['France']\n",
      "['France']\n",
      "['France']\n",
      "['France']\n",
      "['France']\n",
      "['France']\n",
      "['France']\n",
      "['France']\n",
      "['France', ' Russie']\n",
      "['France']\n",
      "['France']\n",
      "['France']\n",
      "['France']\n",
      "['France']\n",
      "['France']\n",
      "['France']\n",
      "['France']\n",
      "['France']\n",
      "['France']\n",
      "['France']\n",
      "['France']\n",
      "['France', ' Israël']\n",
      "['France']\n",
      "['France']\n",
      "['France']\n",
      "['France']\n",
      "['France']\n",
      "['France']\n",
      "['France']\n",
      "['France']\n",
      "['France']\n",
      "['France', ' Russie']\n",
      "['France']\n",
      "['France']\n",
      "['France']\n",
      "['France']\n",
      "['France']\n",
      "['France']\n",
      "['France']\n",
      "['France', ' Roumanie']\n",
      "['France']\n",
      "['France']\n",
      "['France', ' Argentine']\n",
      "['France']\n",
      "['France']\n",
      "['France']\n",
      "['France']\n",
      "['France']\n",
      "['France']\n",
      "['France']\n",
      "['France']\n",
      "['France']\n",
      "['France']\n",
      "['France']\n",
      "['France']\n",
      "['France']\n",
      "['France']\n",
      "['France']\n",
      "['France']\n",
      "['France']\n",
      "['France']\n",
      "['France']\n",
      "['France']\n",
      "['France']\n",
      "['France', ' Suisse']\n",
      "['France']\n",
      "['France']\n",
      "['France']\n",
      "['France']\n",
      "['France']\n",
      "['France']\n",
      "['France']\n",
      "['France']\n",
      "['France']\n",
      "['France', ' Espagne']\n",
      "['France']\n",
      "['France']\n",
      "['France']\n",
      "['France']\n",
      "['France', ' Autriche']\n",
      "['France']\n",
      "['France']\n",
      "['France']\n",
      "['France']\n",
      "['France', ' Russie']\n",
      "['France']\n",
      "['France']\n",
      "['France']\n",
      "['France']\n",
      "['France']\n",
      "['France']\n",
      "['France', ' Egypte']\n",
      "['France']\n",
      "['France']\n",
      "['France']\n",
      "['France']\n",
      "['France']\n",
      "['France']\n",
      "['France']\n",
      "['France', ' Italie']\n",
      "['France']\n",
      "['France']\n",
      "['France']\n",
      "['France']\n",
      "['France']\n",
      "['France']\n",
      "['France', ' Pologne']\n",
      "['France']\n",
      "['France']\n",
      "['France']\n",
      "['France']\n",
      "['France']\n",
      "['France']\n",
      "['France']\n",
      "['France']\n",
      "['France']\n",
      "['France']\n",
      "['France']\n",
      "['France', ' Maroc']\n",
      "['France', ' Brésil']\n",
      "['France']\n",
      "['France', ' Pologne']\n",
      "['France']\n",
      "['France']\n",
      "['France']\n",
      "['France']\n",
      "['France']\n",
      "['France']\n",
      "['France']\n",
      "['France', ' Nouvelle-Calédonie']\n",
      "['France']\n",
      "['France']\n",
      "['France']\n",
      "['France', ' Italie']\n",
      "['France']\n",
      "['France', ' Philippines']\n",
      "['France']\n",
      "['France']\n",
      "['France']\n",
      "['France']\n",
      "['France']\n",
      "['France']\n",
      "['France', ' Danemark']\n",
      "['France']\n",
      "['France']\n",
      "['France']\n",
      "['France']\n",
      "['France']\n",
      "['France', ' Algérie', ' Tunisie', ' Maroc']\n",
      "['France']\n",
      "['France', ' Argentine']\n",
      "['France']\n",
      "['France']\n",
      "['France']\n",
      "['France']\n",
      "['France']\n",
      "['France', ' Espagne']\n",
      "['France']\n",
      "['France']\n",
      "['France']\n",
      "['France']\n",
      "['France']\n",
      "['France']\n",
      "['France']\n",
      "['France', ' Costa Rica']\n",
      "['Allemagne']\n",
      "['France', \" Etats-Unis d'Amérique\"]\n",
      "['France', ' Espagne']\n",
      "['France']\n",
      "['France']\n",
      "['France']\n",
      "['France']\n",
      "['France']\n",
      "['France']\n",
      "['France', ' Pologne']\n",
      "['France']\n",
      "['France']\n",
      "['France']\n",
      "['France']\n",
      "['France']\n",
      "['France', ' Belgique']\n",
      "['France']\n",
      "['France', ' Egypte']\n",
      "['France']\n",
      "['France']\n",
      "['France']\n",
      "['France']\n",
      "['France', ' Mexique']\n",
      "['France']\n",
      "['France']\n",
      "['France']\n",
      "['France']\n",
      "['France']\n",
      "['France']\n",
      "['France']\n",
      "['France']\n",
      "['France']\n",
      "['France']\n",
      "['France', ' Roumanie']\n",
      "['France']\n",
      "['France', ' Arménie']\n",
      "['France']\n",
      "['France']\n",
      "['France']\n",
      "['France']\n",
      "['France']\n",
      "['France']\n",
      "['France']\n",
      "['France']\n",
      "['France', ' Pologne']\n",
      "['France']\n",
      "['France']\n",
      "['France']\n",
      "['France']\n",
      "['France']\n",
      "['France']\n",
      "['France']\n",
      "['France']\n",
      "['France']\n",
      "['France']\n",
      "['France']\n",
      "['France', ' États-Unis']\n",
      "['France']\n",
      "['France']\n",
      "['France']\n",
      "['France']\n",
      "['France']\n",
      "['France', ' Belgique']\n",
      "['France']\n",
      "['France']\n",
      "['France']\n",
      "['France', ' Algérie']\n",
      "['France']\n",
      "['France', ' Italie']\n",
      "['France', \" Etats-Unis d'Amérique\"]\n",
      "['France']\n",
      "['France', \" Etats-Unis d'Amérique\"]\n",
      "['France']\n",
      "['France']\n",
      "['France']\n",
      "['France']\n",
      "['France']\n",
      "['France']\n",
      "['France', ' Canada']\n",
      "['France']\n",
      "['France']\n",
      "['France']\n",
      "['France']\n",
      "['France']\n",
      "['France']\n",
      "['France']\n",
      "['France']\n",
      "['France', ' Pologne']\n",
      "['France']\n",
      "['France']\n",
      "['France']\n",
      "['France']\n",
      "['France']\n",
      "['France']\n",
      "['France']\n",
      "['France', ' Roumanie']\n",
      "['France']\n",
      "['France', ' Colombie']\n",
      "['France']\n",
      "['France']\n",
      "['France']\n",
      "['France']\n",
      "['France', ' Danemark']\n",
      "['France']\n",
      "['France']\n",
      "['France']\n",
      "['France']\n",
      "['France']\n",
      "['France']\n",
      "['France']\n",
      "['France', ' Ukraine']\n",
      "['France']\n",
      "['France']\n",
      "['France']\n",
      "['France']\n",
      "['France', ' Allemagne']\n",
      "['France']\n",
      "['France', ' Russie']\n",
      "['France']\n",
      "['France']\n",
      "['France']\n",
      "['France']\n",
      "['France']\n",
      "['France', ' Inde']\n",
      "['France']\n",
      "['France']\n",
      "['France']\n",
      "['France']\n",
      "['France']\n",
      "['France']\n",
      "['France']\n",
      "['France']\n",
      "['France', ' Grèce']\n",
      "['France', ' Roumanie']\n",
      "['France', ' Indochine']\n",
      "['France']\n",
      "['France']\n",
      "['France']\n",
      "['France']\n",
      "['France']\n",
      "['France']\n",
      "['France', ' Espagne']\n",
      "['France']\n",
      "['France']\n",
      "['France']\n",
      "['France']\n",
      "['France']\n",
      "['France']\n",
      "['France']\n",
      "['France']\n",
      "['France']\n",
      "['France']\n",
      "['France']\n",
      "['France']\n",
      "['France', ' Portugal']\n",
      "['France']\n",
      "['France']\n",
      "['France', ' Bolivie']\n",
      "['France']\n",
      "['France', ' États-Unis']\n",
      "['France']\n",
      "['France']\n",
      "['France']\n",
      "['France']\n",
      "['France']\n",
      "['France']\n",
      "['France', ' Irlande']\n",
      "['France', ' Nouvelle-Zélande']\n",
      "['France']\n",
      "['France']\n",
      "['France']\n",
      "['France']\n",
      "['France', ' Italie']\n",
      "['France']\n",
      "['France']\n",
      "['France']\n",
      "['France']\n",
      "['France']\n",
      "['France', \" Etats-Unis d'Amérique\"]\n",
      "['France']\n",
      "['France', ' Pologne']\n",
      "['France']\n",
      "['France']\n",
      "['France']\n",
      "['France']\n",
      "['France']\n",
      "['France']\n",
      "['France']\n",
      "['France']\n",
      "['France']\n",
      "['France']\n",
      "['France']\n",
      "['France']\n",
      "['France']\n",
      "['France']\n",
      "['France']\n",
      "['France']\n",
      "['France', ' Lituanie']\n",
      "['France']\n",
      "['France']\n",
      "['France', ' Espagne']\n",
      "['France']\n",
      "['France']\n",
      "['France']\n",
      "['France']\n",
      "['France']\n",
      "['France']\n",
      "['France', ' Roumanie']\n",
      "['France']\n",
      "['France']\n",
      "['France']\n",
      "['France']\n",
      "['France']\n",
      "['France']\n",
      "['France']\n",
      "['France']\n",
      "['France']\n",
      "['France']\n",
      "['France']\n",
      "['France']\n",
      "['France', ' Espagne']\n",
      "['France']\n",
      "['France']\n",
      "['France']\n",
      "['France']\n",
      "['France']\n",
      "['France']\n",
      "['France']\n",
      "['France']\n",
      "['France']\n",
      "['France']\n",
      "['France']\n",
      "['France']\n",
      "['France']\n",
      "['France']\n",
      "['France']\n",
      "['France']\n",
      "['France', ' Porto Rico']\n",
      "['France']\n",
      "['France']\n",
      "['France']\n",
      "['France']\n",
      "['France']\n",
      "['France', ' Roumanie']\n",
      "['France']\n",
      "['France', ' Russie']\n",
      "['France']\n",
      "['France', ' Suède']\n",
      "['France']\n",
      "['France']\n",
      "['France']\n",
      "['France']\n",
      "['France']\n",
      "['France']\n",
      "['France']\n",
      "['France']\n",
      "['France']\n",
      "['France']\n",
      "['France', ' Algérie', ' Tunisie', ' Maroc']\n",
      "['France']\n",
      "['France', ' Russie']\n",
      "['France']\n",
      "['France', ' Grande-Bretagne']\n",
      "['France']\n",
      "['France']\n",
      "['France']\n",
      "['France', ' Espagne']\n",
      "['France']\n",
      "['France']\n",
      "['France']\n",
      "['France']\n",
      "['France']\n",
      "['France', ' Russie']\n",
      "['France']\n",
      "['France']\n",
      "['France', ' Cuba']\n",
      "['France']\n",
      "['France', \" Etats-Unis d'Amérique\"]\n",
      "['France']\n",
      "['France']\n",
      "['France']\n",
      "['France']\n",
      "['France']\n",
      "['France']\n",
      "['France']\n",
      "['France']\n",
      "['France']\n",
      "['France', ' Guatemala']\n",
      "['France']\n",
      "['France']\n",
      "['France']\n",
      "['France']\n",
      "['France']\n",
      "['France']\n",
      "['France']\n",
      "['France']\n",
      "['France']\n",
      "['France']\n",
      "['France']\n",
      "['France']\n",
      "['France']\n",
      "['France']\n",
      "['France']\n",
      "['France']\n",
      "['France']\n",
      "['France']\n",
      "['France']\n",
      "['France']\n",
      "['France', ' Pologne']\n",
      "['France']\n",
      "['France']\n",
      "['France']\n",
      "['France/ Proche Orient']\n",
      "['France', ' Bulgarie']\n",
      "['France']\n",
      "['France']\n",
      "['France']\n",
      "['France', ' Pologne']\n",
      "['France']\n",
      "['France']\n",
      "['France']\n",
      "['France']\n",
      "['France', ' Espagne']\n",
      "['France', ' Suède']\n",
      "['France']\n",
      "['France']\n",
      "['France']\n",
      "['France']\n",
      "['France']\n",
      "['France', ' Irlande']\n",
      "['France']\n",
      "['France']\n",
      "['France']\n",
      "['France']\n",
      "['France']\n",
      "['France', ' Roumanie']\n",
      "['France', ' Roumanie']\n",
      "['France']\n",
      "['France']\n",
      "['France', ' Pologne']\n",
      "['France', ' Pays-Bas']\n",
      "['France']\n",
      "['France']\n",
      "['France']\n",
      "['France']\n",
      "['France']\n",
      "['France']\n",
      "['France']\n",
      "['France']\n",
      "['France']\n",
      "['France']\n",
      "['France', ' Allemagne']\n",
      "['France']\n",
      "['France']\n",
      "['France']\n",
      "['France', \" Etats-Unis d'Amérique\", ' Angleterre']\n",
      "['France']\n",
      "['France']\n",
      "['France', ' Portugal']\n",
      "['France']\n",
      "['France']\n",
      "['France']\n",
      "['France']\n",
      "['France']\n",
      "['France']\n",
      "['France']\n",
      "['France']\n",
      "['France']\n",
      "['France']\n",
      "['France']\n",
      "['France']\n",
      "['France']\n",
      "['France']\n",
      "['France']\n",
      "['France']\n",
      "['France']\n",
      "['France']\n",
      "['France']\n",
      "['France']\n",
      "['France']\n",
      "['France']\n",
      "['France']\n",
      "['France']\n",
      "['France']\n",
      "['France']\n",
      "['France']\n",
      "['France']\n",
      "['France']\n",
      "['France']\n",
      "['France']\n",
      "['France']\n",
      "['France']\n",
      "['France']\n",
      "['France']\n",
      "['France']\n",
      "['France']\n",
      "['France']\n",
      "['France']\n",
      "['France']\n",
      "['France']\n",
      "['France']\n",
      "['France']\n",
      "['France']\n",
      "['France']\n",
      "['France']\n",
      "['France']\n",
      "['France']\n",
      "['France']\n",
      "['France']\n",
      "['France']\n",
      "['France']\n",
      "['France', ' Espagne']\n",
      "['France']\n",
      "['France']\n",
      "['France']\n",
      "['France']\n",
      "['France']\n",
      "['France']\n",
      "['France', ' République Tchèque']\n",
      "['France']\n",
      "['France']\n",
      "['France']\n",
      "['France']\n",
      "['France']\n",
      "['France']\n",
      "['France']\n",
      "['France']\n",
      "['France']\n",
      "['France']\n",
      "['France']\n",
      "['France']\n",
      "['France']\n",
      "['France']\n",
      "['France']\n",
      "['France']\n",
      "['France']\n",
      "['France']\n",
      "['France']\n",
      "['France']\n",
      "['France']\n",
      "['France']\n",
      "['France', ' Chili']\n",
      "['France']\n",
      "['France']\n",
      "['France']\n",
      "['France', ' Philippines']\n",
      "['France']\n",
      "['France', \" Etats-Unis d'Amérique\"]\n",
      "['France']\n",
      "['France', ' Canada']\n",
      "['France']\n",
      "['France']\n",
      "['France']\n",
      "['France']\n",
      "['France']\n",
      "['France']\n",
      "['France']\n",
      "['France']\n",
      "['France']\n",
      "['France']\n",
      "['France', ' Mexique']\n",
      "['France']\n",
      "['France']\n",
      "['France']\n",
      "['France', ' Pologne']\n",
      "['France']\n",
      "['France']\n",
      "['France']\n",
      "['France', ' Pologne']\n",
      "['France']\n",
      "['France']\n",
      "['France']\n",
      "['France', ' Ukraine']\n",
      "['France', ' Angleterre']\n",
      "['France']\n",
      "['France']\n",
      "['France']\n",
      "['France']\n",
      "['France']\n",
      "['France']\n",
      "['France', ' Chine']\n",
      "['France', ' Italie']\n",
      "['France']\n",
      "['France']\n",
      "['France']\n",
      "['France']\n",
      "['France']\n",
      "['France', ' Pologne']\n",
      "['France']\n",
      "['France']\n",
      "['France']\n",
      "['France']\n",
      "['France']\n",
      "['France']\n",
      "['France']\n",
      "['France']\n",
      "['France']\n",
      "['France']\n",
      "['France', ' Russie']\n",
      "['France']\n",
      "['France']\n",
      "['France']\n",
      "['France']\n",
      "['France', ' Roumanie']\n",
      "['France']\n",
      "['France']\n",
      "['France']\n",
      "['France']\n",
      "['France']\n",
      "['France']\n",
      "['France']\n",
      "['France']\n",
      "['France']\n",
      "['France']\n",
      "['France']\n",
      "['France']\n",
      "['France']\n",
      "['France']\n",
      "['France']\n",
      "['France']\n",
      "['France']\n",
      "['France']\n",
      "['France']\n",
      "['France']\n",
      "['France', ' Equateur']\n",
      "['France']\n",
      "['France']\n",
      "['France']\n",
      "['France', \" Etats-Unis d'Amérique\"]\n",
      "['France']\n",
      "['France']\n",
      "['France']\n",
      "['France']\n",
      "['France']\n",
      "['France']\n",
      "['France']\n",
      "['France']\n",
      "['France']\n",
      "['France', ' Allemagne']\n",
      "['France']\n",
      "['France']\n",
      "['France']\n",
      "['France']\n",
      "['France']\n",
      "['France']\n",
      "['France']\n",
      "['France']\n",
      "['France']\n",
      "['France']\n",
      "['France']\n",
      "['France', ' Belgique']\n",
      "['France']\n",
      "['France']\n",
      "['France']\n",
      "['France', \" Etats-Unis d'Amérique\"]\n",
      "['France']\n",
      "['France']\n",
      "['France']\n",
      "['France']\n",
      "['France']\n",
      "['France']\n",
      "['France']\n",
      "['France']\n",
      "['France']\n",
      "['France']\n",
      "['France']\n",
      "['France', ' Pologne']\n",
      "['France', ' Pologne']\n",
      "['France']\n",
      "['France']\n",
      "['France', ' Suède']\n",
      "['France']\n",
      "['France']\n",
      "['France']\n",
      "['France']\n",
      "['France', ' Hongrie']\n",
      "['France', ' Pologne']\n",
      "['France', ' Hongrie']\n",
      "['France']\n",
      "['France', \" Etats-Unis d'Amérique\"]\n",
      "['France']\n",
      "['France']\n",
      "['France', ' Pologne']\n",
      "['France', ' Russie']\n",
      "['France']\n",
      "['France']\n",
      "['France', ' Flandres']\n",
      "['France']\n",
      "['France']\n",
      "['France']\n",
      "['France']\n",
      "['France']\n",
      "['France']\n",
      "['France']\n",
      "['France']\n",
      "['France']\n",
      "['France']\n",
      "['France']\n",
      "['France']\n",
      "['France']\n",
      "['France', ' Espagne']\n",
      "['France']\n",
      "['France', ' Algérie']\n",
      "['France']\n",
      "['France']\n",
      "['France']\n",
      "['France']\n",
      "['France']\n",
      "['France']\n",
      "['France', ' Espagne']\n",
      "['France']\n",
      "['France']\n",
      "['France']\n",
      "['France']\n",
      "['France']\n",
      "['France']\n",
      "['France']\n",
      "['France']\n",
      "['France']\n",
      "['France']\n",
      "['France', ' États-Unis']\n",
      "['France']\n",
      "['France']\n",
      "['France']\n",
      "['France']\n",
      "['France']\n",
      "['France']\n",
      "['France']\n",
      "['France']\n",
      "['France']\n",
      "['France']\n",
      "['France']\n",
      "['France']\n",
      "['France']\n",
      "['France']\n",
      "['France']\n",
      "['France']\n",
      "['France']\n",
      "['France']\n",
      "['France', ' Pologne']\n",
      "['France', ' Japon']\n",
      "['France', ' Suède']\n",
      "['France']\n",
      "['France']\n",
      "['France']\n",
      "['France']\n",
      "['France']\n",
      "['France']\n",
      "['France']\n",
      "['France']\n",
      "['France']\n",
      "['France', ' Espagne']\n",
      "['France']\n",
      "['France']\n",
      "['France']\n",
      "['France']\n",
      "['France']\n",
      "['France']\n",
      "['France']\n",
      "['France']\n",
      "['France']\n",
      "['France']\n",
      "['France']\n",
      "['France']\n",
      "['France']\n",
      "['France']\n",
      "['France']\n",
      "['France']\n",
      "['France']\n",
      "['France']\n",
      "['France']\n",
      "['France']\n",
      "['France']\n",
      "['France', ' République Tchèque']\n",
      "['France']\n",
      "['France']\n",
      "['France']\n",
      "['France']\n",
      "['France']\n",
      "['France']\n",
      "['France']\n",
      "['France']\n",
      "['France']\n",
      "['France']\n",
      "['France', ' Belgique']\n",
      "['France']\n",
      "['France']\n",
      "['France', \" Etats-Unis d'Amérique\"]\n",
      "['France']\n",
      "['France']\n",
      "['France']\n",
      "['France']\n",
      "['France', ' Pologne']\n",
      "['France']\n",
      "['France']\n",
      "['France']\n",
      "['France', ' Russie']\n",
      "['France']\n",
      "['France']\n",
      "['France']\n",
      "['France']\n",
      "['France']\n",
      "['France']\n",
      "['France']\n",
      "['France']\n",
      "['France']\n",
      "['France']\n",
      "['France', ' Espagne']\n",
      "['France']\n",
      "['France']\n",
      "['France']\n",
      "['France']\n",
      "['France']\n",
      "['France']\n",
      "['France']\n",
      "['France']\n",
      "['France']\n",
      "['France', ' Québec']\n",
      "['France']\n",
      "['France']\n",
      "['France']\n",
      "['France']\n",
      "['France']\n",
      "['France']\n",
      "['France']\n",
      "['France']\n",
      "['France']\n",
      "['France']\n",
      "['France', ' Arménie']\n",
      "['France']\n",
      "['France']\n",
      "['France', ' Belgique']\n",
      "['France']\n",
      "['France']\n",
      "['France']\n",
      "['France']\n",
      "['France']\n",
      "['France', ' Allemagne']\n",
      "['France']\n",
      "['France']\n",
      "['France']\n",
      "['France']\n",
      "['France', \" Etats-Unis d'Amérique\"]\n",
      "['France']\n",
      "['France']\n",
      "['France', ' Italie']\n",
      "['France']\n",
      "['France']\n",
      "['France']\n",
      "['France']\n",
      "['France']\n",
      "['France']\n",
      "['France']\n",
      "['France']\n",
      "['France', ' Serbie']\n",
      "['France']\n",
      "['France']\n",
      "['France']\n",
      "['France']\n",
      "['France', ' Roumanie']\n",
      "['France']\n",
      "['France']\n",
      "['France']\n",
      "['France']\n",
      "['France']\n",
      "['France']\n",
      "['France']\n",
      "['France']\n",
      "['France']\n",
      "['France']\n",
      "['France']\n",
      "['France']\n",
      "['France']\n",
      "['France', ' Brésil']\n",
      "['France']\n",
      "['France', ' Grande-Bretagne']\n",
      "['France']\n",
      "['France', ' Roumanie']\n",
      "['France']\n",
      "['France']\n",
      "['France']\n",
      "['France']\n",
      "['France']\n",
      "['France']\n",
      "['France']\n",
      "['France']\n",
      "['France']\n",
      "['France', \" Etats-Unis d'Amérique\"]\n",
      "['France', ' Venezuela']\n",
      "['France']\n",
      "['France']\n",
      "['France']\n",
      "['France']\n",
      "['France']\n",
      "['France']\n",
      "['France']\n",
      "['France']\n",
      "['France']\n",
      "['France']\n",
      "['France']\n",
      "['France']\n",
      "['France']\n",
      "['France']\n",
      "['France']\n",
      "['France']\n",
      "['France']\n",
      "['France']\n",
      "['France']\n",
      "['France']\n",
      "['France']\n",
      "['France']\n",
      "['France', ' Pays-Bas']\n",
      "['France']\n",
      "['France']\n",
      "['France']\n",
      "['France']\n",
      "['France']\n",
      "['France']\n",
      "['France']\n",
      "['France']\n",
      "['France']\n",
      "['France']\n",
      "['France']\n",
      "['France']\n",
      "['France']\n",
      "['France']\n",
      "['France']\n",
      "['France']\n",
      "['France']\n",
      "['France']\n",
      "['France']\n",
      "['France']\n",
      "['France']\n",
      "['France']\n",
      "['France']\n",
      "['France']\n",
      "['France']\n",
      "['France']\n",
      "['France', ' Espagne']\n",
      "['France']\n",
      "['France']\n",
      "['France', ' Portugal', ' Hongrie']\n",
      "['France']\n",
      "['France']\n",
      "['France']\n",
      "['France']\n",
      "['France']\n",
      "['France']\n",
      "['France']\n",
      "['France', ' Turquie']\n",
      "['France']\n",
      "['France']\n",
      "['France']\n",
      "['France']\n",
      "['France']\n",
      "['France']\n",
      "['France']\n",
      "['France', ' Pologne']\n",
      "['France', ' Japon']\n",
      "['France']\n",
      "['France', ' Norvège']\n",
      "['France', ' Allemagne']\n",
      "['France', ' Belgique']\n",
      "['France']\n",
      "['France']\n",
      "['France']\n",
      "['France']\n",
      "['France']\n",
      "['France']\n",
      "['France']\n",
      "['France']\n",
      "['France']\n",
      "['France']\n",
      "['France']\n",
      "['France']\n",
      "['France']\n",
      "['France']\n",
      "['France']\n",
      "['France', ' Sénégal']\n",
      "['France', ' Uruguay']\n",
      "['France']\n",
      "['France']\n",
      "['France']\n",
      "['France']\n",
      "['France', \" Etats-Unis d'Amérique\"]\n",
      "['France']\n",
      "['France']\n",
      "['France']\n",
      "['France', ' Ukraine']\n",
      "['France', ' Equateur']\n",
      "['France']\n",
      "['France']\n",
      "['France']\n",
      "['France', ' Roumanie']\n",
      "['France']\n",
      "['France', ' Algérie']\n",
      "['France']\n",
      "['France']\n",
      "['France']\n",
      "['France']\n",
      "['France']\n",
      "['France']\n",
      "['France']\n",
      "['France']\n",
      "['France']\n",
      "['France']\n",
      "['France', \" Etats-Unis d'Amérique\"]\n",
      "['France']\n",
      "['France']\n",
      "['France']\n",
      "['France']\n",
      "['France', ' Biélorussie']\n",
      "['France']\n",
      "['France', ' Pays-Bas']\n",
      "['France']\n",
      "['France']\n",
      "['France']\n",
      "['France']\n",
      "['France', ' Danemark']\n",
      "['France', ' Indochine']\n",
      "['France']\n",
      "['France']\n",
      "['France']\n",
      "['France']\n",
      "['France']\n",
      "['France']\n",
      "['France']\n",
      "['France']\n",
      "['France']\n",
      "['France']\n",
      "['France', ' Serbie']\n",
      "['France']\n",
      "['France']\n",
      "['France', \" Etats-Unis d'Amérique\"]\n",
      "['France']\n",
      "['France']\n",
      "['France']\n",
      "['France', ' Grèce']\n",
      "['France']\n",
      "['France']\n",
      "['France', ' Indochine']\n",
      "['France']\n",
      "['France']\n",
      "['France']\n",
      "['France']\n",
      "['France']\n",
      "['France']\n",
      "['France']\n",
      "['France']\n",
      "['France']\n",
      "['France']\n",
      "['France']\n",
      "['France']\n",
      "['France']\n",
      "['France']\n",
      "['France']\n",
      "['France']\n",
      "['France']\n",
      "['France']\n",
      "['France']\n",
      "['France']\n",
      "['France']\n",
      "['France']\n",
      "['France']\n",
      "['France']\n",
      "['France']\n",
      "['France']\n",
      "['France']\n",
      "['France', ' Russie']\n",
      "['France']\n",
      "['Suède']\n",
      "['France']\n",
      "['France']\n",
      "['France']\n",
      "['France']\n",
      "['France']\n",
      "['France', ' Roumanie']\n",
      "['France', ' Nicaragua']\n",
      "['France']\n",
      "['France']\n",
      "['France']\n",
      "['France']\n",
      "['France']\n",
      "['France']\n",
      "['France']\n",
      "['France']\n",
      "['France']\n",
      "['France']\n",
      "['France']\n",
      "['France']\n",
      "['France']\n",
      "['France']\n",
      "['France']\n",
      "['France']\n",
      "['France']\n",
      "['France']\n",
      "['France']\n",
      "['France']\n",
      "['France']\n",
      "['France']\n",
      "['France']\n",
      "['France']\n",
      "['France']\n",
      "['France']\n",
      "['France']\n",
      "['France']\n",
      "['France']\n",
      "['France', ' Roumanie']\n",
      "['France', ' Portugal']\n",
      "['France', \" Etats-Unis d'Amérique\"]\n",
      "['France']\n",
      "['France']\n",
      "['France']\n",
      "['France']\n",
      "['France']\n",
      "['France']\n",
      "['France']\n",
      "['France']\n",
      "['France']\n",
      "['France']\n",
      "['France']\n",
      "['France']\n",
      "['France']\n",
      "['France']\n",
      "['France']\n",
      "['France', ' Suisse']\n",
      "['France']\n",
      "['France']\n",
      "['France']\n",
      "['France']\n",
      "['France']\n",
      "['France']\n",
      "['France']\n",
      "['France']\n",
      "['France']\n",
      "['France', ' Russie']\n",
      "['France']\n",
      "['France', ' Grèce']\n",
      "['France', ' Hongrie']\n",
      "['France']\n",
      "['France']\n",
      "['France']\n",
      "['France']\n",
      "['France']\n",
      "['France']\n",
      "['France']\n",
      "['France']\n",
      "['France']\n",
      "['France']\n",
      "['France']\n",
      "['France']\n",
      "['France']\n",
      "['France']\n",
      "['France']\n",
      "['France']\n",
      "['France']\n",
      "['France']\n",
      "['France']\n",
      "['France']\n",
      "['France']\n",
      "['France', ' Ile Maurice']\n",
      "['France']\n",
      "['France']\n",
      "['France']\n",
      "['France']\n",
      "['France']\n",
      "['France']\n",
      "['France']\n",
      "['France']\n",
      "['France']\n",
      "['France']\n",
      "['France']\n",
      "['France']\n",
      "['France']\n",
      "['France']\n",
      "['France']\n",
      "['France']\n",
      "['France']\n",
      "['France', ' Hongrie']\n",
      "['France', ' République Tchèque']\n",
      "['France']\n",
      "['France']\n",
      "['France']\n",
      "['France']\n",
      "['France', ' Hongrie']\n",
      "['France']\n",
      "['France']\n",
      "['France']\n",
      "['France']\n",
      "['France']\n",
      "['France']\n",
      "['France']\n",
      "['France']\n",
      "['France']\n",
      "['France', ' Québec']\n",
      "['France']\n",
      "['France']\n",
      "['France']\n",
      "['France']\n",
      "['France']\n",
      "['France', ' Grèce']\n",
      "['France']\n",
      "['France']\n",
      "['France']\n",
      "['France', ' Hongrie']\n",
      "['France', ' Hongrie']\n",
      "['France']\n",
      "['France']\n",
      "['France']\n",
      "['France']\n",
      "['France']\n",
      "['France']\n",
      "['France']\n",
      "['France']\n",
      "['France', ' Empire Ottoman']\n",
      "['France']\n",
      "['France']\n",
      "['France']\n",
      "['France', ' Serbie']\n",
      "['France']\n",
      "['France']\n",
      "['France', ' Norvège']\n",
      "['France']\n",
      "['France']\n",
      "['France']\n",
      "['France']\n",
      "['France']\n",
      "['France', ' Azerbaïdjan']\n",
      "['France', \" Etats-Unis d'Amérique\"]\n",
      "['France']\n",
      "['France']\n",
      "['France']\n",
      "['France']\n",
      "['France']\n",
      "['France']\n",
      "['France']\n",
      "['France']\n",
      "['France']\n",
      "['France']\n",
      "['France']\n",
      "['France']\n",
      "['France']\n",
      "['France']\n",
      "['France']\n",
      "['France']\n",
      "['France']\n",
      "['France']\n",
      "['France', ' Russie']\n",
      "['France']\n",
      "['France']\n",
      "['France']\n",
      "['France']\n",
      "['France']\n",
      "['France']\n",
      "['France']\n",
      "['France']\n",
      "['France']\n",
      "['France']\n",
      "['France', ' Espagne']\n",
      "['France']\n",
      "['France']\n",
      "['France']\n",
      "['France']\n",
      "['France']\n",
      "['France']\n",
      "['France']\n",
      "['France']\n",
      "['France']\n",
      "['France']\n",
      "['France']\n",
      "['France']\n",
      "['France']\n",
      "['France']\n",
      "['France']\n",
      "['France']\n",
      "['France', ' Russie']\n",
      "['France']\n",
      "['France']\n",
      "['France']\n",
      "['France', \" Etats-Unis d'Amérique\"]\n",
      "['France']\n",
      "['France']\n",
      "['France']\n",
      "['France']\n",
      "['France']\n",
      "['France']\n",
      "['France']\n",
      "['France']\n",
      "['France']\n",
      "['France']\n",
      "['France']\n",
      "['France']\n",
      "['France', ' Equateur']\n",
      "['France']\n",
      "['France']\n",
      "['France', \" Etats-Unis d'Amérique\"]\n",
      "['France']\n",
      "['France']\n",
      "['France']\n",
      "['France']\n",
      "['France']\n",
      "['France']\n",
      "['France', ' Autriche']\n",
      "['France']\n",
      "['France']\n",
      "['France']\n",
      "['France', ' Autriche']\n",
      "['France']\n",
      "['France']\n",
      "['France']\n",
      "['France']\n",
      "['France']\n",
      "['France']\n",
      "['France']\n",
      "['France']\n",
      "['France']\n",
      "['France']\n",
      "['France']\n",
      "['France']\n",
      "['France', ' Allemagne']\n",
      "['France']\n",
      "['France']\n",
      "['France']\n",
      "['France']\n",
      "['France']\n",
      "['France']\n",
      "['France', ' Ukraine']\n",
      "['France']\n",
      "['France']\n",
      "['France']\n",
      "['France']\n",
      "['France', ' Etats-Unis']\n",
      "['France']\n",
      "['France']\n",
      "['France']\n",
      "['France', ' Espagne']\n",
      "['France']\n",
      "['France']\n",
      "['France']\n",
      "['France']\n",
      "['France']\n",
      "['France']\n",
      "['France']\n",
      "['France']\n",
      "['France']\n",
      "['France']\n",
      "['France']\n",
      "['France']\n",
      "['France']\n",
      "['France']\n",
      "['France']\n",
      "['France']\n",
      "['France']\n",
      "['France']\n",
      "['France', ' Espagne']\n",
      "['France']\n",
      "['France']\n",
      "['France']\n",
      "['France']\n",
      "['France']\n",
      "['France']\n",
      "['France']\n",
      "['France']\n",
      "['France']\n",
      "['France']\n",
      "['Tunisie', ' Maroc', ' Algérie', ' Corée', ' Indochine']\n",
      "['France']\n",
      "['France']\n",
      "['France']\n",
      "['France']\n",
      "['France']\n",
      "['France']\n",
      "['France']\n",
      "['France']\n",
      "['France']\n",
      "['France']\n",
      "['France']\n",
      "['France']\n",
      "['France']\n",
      "['France']\n",
      "['France']\n",
      "['France']\n",
      "['France']\n",
      "['France']\n",
      "['France']\n",
      "['France']\n",
      "['France']\n",
      "['France']\n",
      "['France']\n",
      "['France', ' Russie']\n",
      "['France']\n",
      "['France']\n",
      "['France']\n",
      "['France']\n",
      "['France']\n",
      "['France']\n",
      "['France']\n",
      "['France', ' Grèce']\n",
      "['France', ' Serbie']\n",
      "['France']\n",
      "['France']\n",
      "['France', ' Russie']\n",
      "['France', ' Bulgarie']\n",
      "['France']\n",
      "['France']\n",
      "['France']\n",
      "['France']\n",
      "['France']\n",
      "['France']\n",
      "['France']\n",
      "['France']\n",
      "['France', ' Allemagne']\n",
      "['France']\n",
      "['France']\n",
      "['France']\n",
      "['France']\n",
      "['France']\n",
      "['France']\n",
      "['France']\n",
      "['France']\n",
      "['France']\n",
      "['France']\n",
      "['France']\n",
      "['France']\n",
      "['France']\n",
      "['France']\n",
      "['France']\n",
      "['France']\n",
      "['France']\n",
      "['France', ' Grèce']\n",
      "['France']\n",
      "['France', ' Hongrie']\n",
      "['France']\n",
      "['France']\n",
      "['France']\n",
      "['France', ' Russie']\n",
      "['France']\n",
      "['France']\n",
      "['France']\n",
      "['France']\n",
      "['France']\n",
      "['France']\n",
      "['France']\n",
      "['France']\n",
      "['France']\n",
      "['France']\n",
      "['France']\n",
      "['France', \" Etats-Unis d'Amérique\"]\n",
      "['France']\n",
      "['France']\n",
      "['France']\n",
      "['France']\n",
      "['France']\n",
      "['France']\n",
      "['France']\n",
      "['France']\n",
      "['France']\n",
      "['France', ' Arménie']\n",
      "['France']\n",
      "['France']\n",
      "['France']\n",
      "['France']\n",
      "['France']\n",
      "['France']\n",
      "['France']\n",
      "['France']\n",
      "['France']\n",
      "['France', ' Japon']\n",
      "['France', ' Liban']\n",
      "['France']\n",
      "['France']\n",
      "['France']\n",
      "['France']\n",
      "['France']\n",
      "['France']\n",
      "['France']\n",
      "['France']\n",
      "['France']\n",
      "['France']\n",
      "['France']\n",
      "['France']\n",
      "['France']\n",
      "['France']\n",
      "['France']\n",
      "['France']\n",
      "['France']\n",
      "['France']\n",
      "['France']\n",
      "['France']\n",
      "['France']\n",
      "['France']\n",
      "['France']\n",
      "['France']\n",
      "['France']\n",
      "['France']\n",
      "['France']\n",
      "['France']\n",
      "['France']\n",
      "['France']\n",
      "['France', ' Pays-Bas']\n",
      "['France', ' Brésil']\n",
      "['France', ' Hongrie']\n",
      "['France']\n",
      "['France']\n",
      "['France']\n",
      "['France']\n",
      "['France']\n",
      "['France']\n",
      "['France']\n",
      "['France']\n",
      "['France']\n",
      "['France']\n",
      "['France']\n",
      "['France']\n",
      "['France', \" Etats-Unis d'Amérique\"]\n",
      "['France']\n",
      "['France']\n",
      "['France']\n",
      "['France']\n",
      "['France', ' Argentine']\n",
      "['France', ' Canada']\n",
      "['France']\n",
      "['France']\n",
      "['France']\n",
      "['France']\n",
      "['France']\n",
      "['France']\n",
      "['France']\n",
      "['France']\n",
      "['France']\n",
      "['France']\n",
      "['France']\n",
      "['France']\n",
      "['France']\n",
      "['France', ' Russie']\n",
      "['France']\n",
      "['France']\n",
      "['France', ' Vietnam']\n",
      "['France']\n",
      "['France', ' Arménie']\n",
      "['France']\n",
      "['France']\n",
      "['France']\n",
      "['France']\n",
      "['France']\n",
      "['France']\n",
      "['France']\n",
      "['France']\n",
      "['France']\n",
      "['France']\n",
      "['France']\n",
      "['France']\n",
      "['France', ' Espagne']\n",
      "['France']\n",
      "['France']\n",
      "['France']\n",
      "['France', ' Pologne']\n",
      "['France']\n",
      "['France']\n",
      "['France']\n",
      "['France']\n",
      "['France']\n",
      "['France']\n",
      "['France', ' Espagne']\n",
      "['France']\n",
      "['France']\n",
      "['France']\n",
      "['France']\n",
      "['France']\n",
      "['France']\n",
      "['France']\n",
      "['France']\n",
      "['France']\n",
      "['France']\n",
      "['France']\n",
      "['France']\n",
      "['France', ' Danemark']\n",
      "['France']\n",
      "['France']\n",
      "['France']\n",
      "['France']\n",
      "['France']\n",
      "['France']\n",
      "['France']\n",
      "['France']\n",
      "['France']\n",
      "['France']\n",
      "['France']\n",
      "['France']\n",
      "['France']\n",
      "['France']\n",
      "['France', ' Argentine']\n",
      "['France']\n",
      "['France']\n",
      "['France']\n",
      "['France']\n",
      "['France', ' Portugal']\n",
      "['France']\n",
      "['France']\n",
      "['France']\n",
      "['France']\n",
      "['France']\n",
      "['France', ' Suède']\n",
      "['France']\n",
      "['France']\n",
      "['France']\n",
      "['France']\n",
      "['France']\n",
      "['France', ' Finlande', ' Allemagne', ' Irlande']\n",
      "['France']\n",
      "['France']\n",
      "['France']\n",
      "['France']\n",
      "['France']\n",
      "['France']\n",
      "['France']\n",
      "['France']\n",
      "['France']\n",
      "['France']\n",
      "['France']\n",
      "['France', ' Venezuela']\n",
      "['France', ' Costa Rica']\n",
      "['France']\n",
      "['France']\n",
      "['France']\n",
      "['France', ' Mexique']\n",
      "['France']\n",
      "['France']\n",
      "['France']\n",
      "['France']\n",
      "['France']\n",
      "['France']\n",
      "['France']\n",
      "['France']\n",
      "['France']\n",
      "['France']\n",
      "['France']\n",
      "['France']\n",
      "['France']\n",
      "['France']\n",
      "['France']\n",
      "['France', ' Pologne']\n",
      "['France']\n",
      "['France']\n",
      "['France']\n",
      "['France', \" Etats-Unis d'Amérique\"]\n",
      "['France']\n",
      "['France', ' Nouvelle-Calédonie']\n",
      "['France']\n",
      "['France']\n",
      "['France']\n",
      "['France']\n",
      "['France']\n",
      "['France']\n",
      "['France']\n",
      "['France']\n",
      "['France']\n",
      "['France']\n",
      "['France']\n",
      "['France']\n",
      "['France']\n",
      "['France']\n",
      "['France']\n",
      "['France', ' ALgérie']\n",
      "['France']\n",
      "['France', ' Pérou']\n",
      "['France']\n",
      "['France', ' Cuba']\n",
      "['France', ' Italie']\n",
      "['France']\n",
      "['France']\n",
      "['France']\n",
      "['France']\n",
      "['France']\n",
      "['France']\n",
      "['France', ' Canada']\n",
      "['France']\n",
      "['France']\n",
      "['France']\n",
      "['France']\n",
      "['France']\n",
      "['France']\n",
      "['France']\n",
      "['France']\n",
      "['France', ' Suède']\n",
      "['France']\n",
      "['France']\n",
      "['France']\n",
      "['France']\n",
      "['France']\n",
      "['France', ' Autriche-Hongrie']\n",
      "['France', \" Etats-Unis d'Amérique\", ' Grande-Bretagne', ' Italie', ' Japon']\n",
      "['France']\n",
      "['France']\n",
      "['France']\n",
      "['France']\n",
      "['France']\n",
      "['France']\n",
      "['France']\n",
      "['France', ' Tibet', ' Hongrie']\n",
      "['France']\n",
      "['France']\n",
      "['France']\n",
      "['France']\n",
      "['France']\n",
      "['France', ' Pologne']\n",
      "['France']\n",
      "['France']\n",
      "['France']\n",
      "['France']\n",
      "['France']\n",
      "['France']\n",
      "['France']\n",
      "['France']\n",
      "['France', ' Pologne']\n",
      "['France']\n",
      "['France']\n",
      "['France']\n",
      "['France']\n",
      "['France', ' Espagne']\n",
      "['France']\n",
      "['France']\n",
      "['France']\n",
      "['France']\n",
      "['France']\n",
      "['France']\n",
      "['France']\n",
      "['France', ' Espagne']\n",
      "['France']\n",
      "['France']\n",
      "['France']\n",
      "['France']\n",
      "['France', ' Inde']\n",
      "['France', ' Danemark']\n",
      "['France']\n",
      "['France']\n",
      "['France']\n",
      "['France']\n",
      "['France']\n",
      "['France']\n",
      "['France']\n",
      "['France']\n",
      "['France']\n",
      "['France']\n",
      "['France', ' Corée']\n",
      "['France']\n",
      "['France']\n",
      "['France']\n",
      "['France']\n",
      "['France']\n",
      "['France']\n",
      "['France']\n",
      "['France']\n",
      "['France']\n",
      "['France', ' Brésil']\n",
      "['France']\n",
      "['France']\n",
      "['France']\n",
      "['France']\n",
      "['France']\n",
      "['France']\n",
      "['France']\n",
      "['France']\n",
      "['France']\n",
      "['France']\n",
      "['France']\n",
      "['France']\n",
      "['France']\n",
      "['France']\n",
      "['France']\n",
      "['France']\n",
      "['France', ' Pologne']\n",
      "['France']\n",
      "['France']\n",
      "['France']\n",
      "['France']\n",
      "['France']\n",
      "['France']\n",
      "['France']\n",
      "['France']\n",
      "['France', ' Portugal']\n",
      "['France']\n",
      "['France']\n",
      "['France']\n",
      "['France']\n",
      "['France']\n",
      "['France']\n",
      "['France']\n",
      "['France']\n",
      "['France']\n",
      "['France']\n",
      "['France']\n",
      "['France']\n",
      "['France']\n",
      "['France']\n",
      "['France']\n",
      "['France']\n",
      "['France']\n",
      "['France']\n",
      "['France']\n",
      "['France']\n",
      "['France']\n",
      "['France']\n",
      "['France', ' Angleterre', ' Etats-Unis']\n",
      "['France']\n",
      "['France']\n",
      "['France']\n",
      "['France']\n",
      "['France']\n",
      "['France']\n",
      "['France']\n",
      "['France']\n",
      "['France']\n",
      "['France']\n",
      "['France']\n",
      "['France']\n",
      "['France']\n",
      "['France', ' Espagne']\n",
      "['France']\n",
      "['France']\n",
      "['France']\n",
      "['France']\n",
      "['France']\n",
      "['France']\n",
      "['France']\n",
      "['France']\n",
      "['France', ' Hongrie']\n",
      "['France']\n",
      "['France']\n",
      "['France']\n",
      "['France']\n",
      "['France']\n",
      "['France']\n",
      "['France']\n",
      "['France']\n",
      "['France', ' Hongrie']\n",
      "['France']\n",
      "['France']\n",
      "['France']\n",
      "['France', ' Lituanie']\n",
      "['France']\n",
      "['France']\n",
      "['France']\n",
      "['France', ' Pologne']\n",
      "['France']\n",
      "['France', ' Canada']\n",
      "['France', ' Espagne']\n",
      "['France']\n",
      "['France']\n",
      "['France']\n",
      "['France']\n",
      "['France']\n",
      "['France']\n",
      "['France']\n",
      "['France']\n",
      "['France']\n",
      "['France']\n",
      "['France']\n",
      "['France']\n",
      "['France', ' Roumanie']\n",
      "['France']\n",
      "['France']\n",
      "['France']\n",
      "['France']\n",
      "['France']\n",
      "['France', ' Russie']\n",
      "['France']\n",
      "['France']\n",
      "['France']\n",
      "['France']\n",
      "['France']\n",
      "['France']\n",
      "['France']\n",
      "['France']\n",
      "['France']\n",
      "['France']\n",
      "['France']\n",
      "['France']\n",
      "['France']\n",
      "['France']\n",
      "['France']\n",
      "['France']\n",
      "['France']\n",
      "['France']\n",
      "['France']\n",
      "['France']\n",
      "['France']\n",
      "['France']\n",
      "['France']\n",
      "['France']\n",
      "['France']\n",
      "['France']\n",
      "['France']\n",
      "['France']\n",
      "['France']\n",
      "['France']\n",
      "['France']\n",
      "['France']\n",
      "['France']\n",
      "['France']\n",
      "['France']\n",
      "['France']\n",
      "['France', ' Espagne']\n",
      "['France']\n",
      "['France', ' Pologne']\n",
      "['France']\n",
      "['France']\n",
      "['France']\n",
      "['France']\n",
      "['France']\n",
      "['France']\n",
      "['France', ' Allemagne']\n",
      "['France']\n",
      "['France']\n",
      "['France']\n",
      "['France']\n",
      "['France']\n",
      "['France']\n",
      "['France']\n",
      "['France', ' Yougoslavie']\n",
      "['France']\n",
      "['France']\n",
      "['France']\n",
      "['France']\n",
      "['France']\n",
      "['France']\n",
      "['France']\n",
      "['France']\n",
      "['France']\n",
      "['France']\n",
      "['France']\n",
      "['France']\n",
      "['France']\n",
      "['France']\n",
      "['France']\n",
      "['France']\n",
      "['France']\n",
      "['France']\n",
      "['France']\n",
      "['France']\n",
      "['France']\n",
      "['France']\n",
      "['France']\n",
      "['France']\n",
      "['France', ' Autriche']\n",
      "['France']\n",
      "['France']\n",
      "['France', ' Allemagne']\n",
      "['France']\n",
      "['France']\n",
      "['France']\n",
      "['France']\n",
      "['France']\n",
      "['France']\n",
      "['France']\n",
      "['France']\n",
      "['France']\n",
      "['France']\n",
      "['France']\n",
      "['France']\n",
      "['France', ' Argentine']\n",
      "['France']\n",
      "['France', ' Inde']\n",
      "['France']\n",
      "['France']\n",
      "['France']\n",
      "['France', ' Espagne']\n",
      "['France']\n",
      "['France']\n",
      "['France', ' Italie']\n",
      "['France']\n",
      "['France']\n",
      "['France']\n",
      "['France']\n",
      "['France']\n",
      "['France']\n",
      "['France']\n",
      "['France']\n",
      "['France']\n",
      "['France']\n",
      "['France']\n",
      "['France', ' Brésil']\n",
      "['France']\n",
      "['France']\n",
      "['France']\n",
      "['France', \" Etats-Unis d'Amérique\"]\n",
      "['France']\n",
      "['France']\n",
      "['France', ' Espagne']\n",
      "['France']\n",
      "['France', ' Russie']\n",
      "['France']\n",
      "['France']\n",
      "['France']\n",
      "['France']\n",
      "['France']\n",
      "['France']\n",
      "['France']\n",
      "['France']\n",
      "['France']\n",
      "['France']\n",
      "['France']\n",
      "['France']\n",
      "['France']\n",
      "['France']\n",
      "['France']\n",
      "['France']\n",
      "['France']\n",
      "['France']\n",
      "['France']\n",
      "['France', ' Argentine']\n",
      "['France']\n",
      "['France']\n",
      "['France']\n",
      "['France']\n",
      "['France']\n",
      "['France']\n",
      "['France']\n",
      "['France']\n",
      "['France']\n",
      "['France']\n",
      "['France', ' Espagne']\n",
      "['France']\n",
      "['France']\n",
      "['France']\n",
      "['France']\n",
      "['France']\n",
      "['France', ' Pologne']\n",
      "['France']\n",
      "['France']\n",
      "['France']\n",
      "['France']\n",
      "['France']\n",
      "['France']\n",
      "['France']\n",
      "['France']\n",
      "['France']\n",
      "['France']\n",
      "['France']\n",
      "['France']\n",
      "['France']\n",
      "['France']\n",
      "['France']\n",
      "['France']\n",
      "['France', ' Russie']\n",
      "['France']\n",
      "['France']\n",
      "['France']\n",
      "['France']\n",
      "['France']\n",
      "['France']\n",
      "['France']\n",
      "['France']\n",
      "['France', ' Pologne']\n",
      "['France']\n",
      "['France']\n",
      "['France']\n",
      "['France']\n",
      "['France']\n",
      "['France']\n",
      "['France']\n",
      "['France']\n",
      "['France']\n",
      "['France', ' Hongrie']\n",
      "['France', ' Pologne']\n",
      "['France']\n",
      "['France']\n",
      "['France', ' Roumanie']\n",
      "['France', ' Norvège']\n",
      "['France', ' Espagne']\n",
      "['France']\n",
      "['France']\n",
      "['France']\n",
      "['France']\n",
      "['France']\n",
      "['France']\n",
      "['France']\n",
      "['France']\n",
      "['France']\n",
      "['France']\n",
      "['France']\n",
      "['France']\n"
     ]
    },
    {
     "name": "stderr",
     "output_type": "stream",
     "text": [
      "C:\\Users\\Admin\\AppData\\Local\\Temp\\ipykernel_2544\\1333431087.py:8: SettingWithCopyWarning: \n",
      "A value is trying to be set on a copy of a slice from a DataFrame.\n",
      "Try using .loc[row_indexer,col_indexer] = value instead\n",
      "\n",
      "See the caveats in the documentation: https://pandas.pydata.org/pandas-docs/stable/user_guide/indexing.html#returning-a-view-versus-a-copy\n",
      "  data_sans_na['Liste_Pays'] = data_sans_na[\"Pays\"].apply(lambda x : split_countries(x))\n"
     ]
    }
   ],
   "source": [
    "def split_countries(s):\n",
    "    liste=[]\n",
    "    if not pd.isna(s):\n",
    "        liste = s.split(',')\n",
    "        print(liste)\n",
    "    return liste\n",
    "\n",
    "data_sans_na['Liste_Pays'] = data_sans_na[\"Pays\"].apply(lambda x : split_countries(x))"
   ]
  },
  {
   "cell_type": "code",
   "execution_count": 17,
   "metadata": {},
   "outputs": [
    {
     "data": {
      "text/plain": [
       "Index(['Y', 'X', 'Index plaque', 'Arrondissement', 'Adresse', 'Emplacement',\n",
       "       'Retranscription', 'Materiau', 'Taille', 'Titre', 'Siècle', 'Période 1',\n",
       "       'Période 2', 'Objet de la plaque', 'Objet de la plaque 2', 'Genre',\n",
       "       'Personnalité', 'Pays', 'Date arrêt', 'geo_shape', 'geo_point_2d',\n",
       "       'lat', 'lon', 'Liste_Pays'],\n",
       "      dtype='object')"
      ]
     },
     "execution_count": 17,
     "metadata": {},
     "output_type": "execute_result"
    }
   ],
   "source": [
    "data_sans_na.columns"
   ]
  },
  {
   "cell_type": "code",
   "execution_count": 20,
   "metadata": {},
   "outputs": [
    {
     "name": "stderr",
     "output_type": "stream",
     "text": [
      "C:\\Users\\Admin\\AppData\\Local\\Temp\\ipykernel_2544\\1850066277.py:1: SettingWithCopyWarning:\n",
      "\n",
      "\n",
      "A value is trying to be set on a copy of a slice from a DataFrame.\n",
      "Try using .loc[row_indexer,col_indexer] = value instead\n",
      "\n",
      "See the caveats in the documentation: https://pandas.pydata.org/pandas-docs/stable/user_guide/indexing.html#returning-a-view-versus-a-copy\n",
      "\n"
     ]
    }
   ],
   "source": [
    "data_sans_na['first_country']= data_sans_na['Liste_Pays'].apply(lambda x: x[1] if len(x)>1 else x[0])"
   ]
  },
  {
   "cell_type": "code",
   "execution_count": 24,
   "metadata": {},
   "outputs": [],
   "source": [
    "data_sans_na_ni_la_france = data_sans_na[data_sans_na['first_country']!=\"France\"]"
   ]
  },
  {
   "cell_type": "code",
   "execution_count": 39,
   "metadata": {},
   "outputs": [
    {
     "data": {
      "application/vnd.plotly.v1+json": {
       "config": {
        "plotlyServerURL": "https://plot.ly"
       },
       "data": [
        {
         "hovertemplate": "<b>%{hovertext}</b><br><br>first_country= Philippines<br>lat=%{lat}<br>lon=%{lon}<extra></extra>",
         "hovertext": [
          "José Rizal",
          "José Rizal",
          "José Rizal"
         ],
         "lat": [
          48.875259998711556,
          48.8817599991336,
          48.846745998685755
         ],
         "legendgroup": " Philippines",
         "lon": [
          2.341299999907898,
          2.347310000040066,
          2.326347999845683
         ],
         "marker": {
          "color": "#636efa"
         },
         "mode": "markers",
         "name": " Philippines",
         "showlegend": true,
         "subplot": "mapbox",
         "type": "scattermapbox"
        },
        {
         "hovertemplate": "<b>%{hovertext}</b><br><br>first_country= Portugal<br>lat=%{lat}<br>lon=%{lon}<extra></extra>",
         "hovertext": [
          "Amadeo de Souza-Cardoso",
          "Avenue des Portugais",
          "Augusto Manuel Alvès de Veiga",
          "Francis Smith",
          "Maria Helena Vieira da Silva, Árpád Szenes",
          "Amorim de Carvalho",
          "António Nobre",
          "Mário de Sá-Carneiro"
         ],
         "lat": [
          48.83298899865006,
          48.87021599932949,
          48.86850499920179,
          48.88084399893021,
          48.829709999329964,
          48.84151499870274,
          48.84946476900422,
          48.88085099864761
         ],
         "legendgroup": " Portugal",
         "lon": [
          2.328459000012755,
          2.2932219998362586,
          2.2967079998185116,
          2.3317179998854694,
          2.3161310000758006,
          2.3435809996714547,
          2.343286077352108,
          2.3375090000830583
         ],
         "marker": {
          "color": "#EF553B"
         },
         "mode": "markers",
         "name": " Portugal",
         "showlegend": true,
         "subplot": "mapbox",
         "type": "scattermapbox"
        },
        {
         "hovertemplate": "<b>%{hovertext}</b><br><br>first_country= Suisse<br>lat=%{lat}<br>lon=%{lon}<extra></extra>",
         "hovertext": [
          "Alberto Giacometti",
          "Fondation suisse",
          "Théophile Alexandre Steinlen",
          "Gabriel Tristan Franconi"
         ],
         "lat": [
          48.83065399898978,
          48.81769999949221,
          48.88963472262965,
          48.85204999931558
         ],
         "legendgroup": " Suisse",
         "lon": [
          2.3186250006518745,
          2.342000000354347,
          2.336766985769059,
          2.3332899994028327
         ],
         "marker": {
          "color": "#00cc96"
         },
         "mode": "markers",
         "name": " Suisse",
         "showlegend": true,
         "subplot": "mapbox",
         "type": "scattermapbox"
        },
        {
         "hovertemplate": "<b>%{hovertext}</b><br><br>first_country= Suède<br>lat=%{lat}<br>lon=%{lon}<extra></extra>",
         "hovertext": [
          "Maison des étudiants suédois",
          "Maison des étudiants suédois",
          "Raoul Nordling",
          "Collège de Linköping",
          "Anders Zorn",
          "August Strindberg",
          "Collège de Suesse"
         ],
         "lat": [
          48.81869999902585,
          48.81869999902585,
          48.8653687902215,
          48.84829699907457,
          48.883479998978714,
          48.845905998627934,
          48.852079999293125
         ],
         "legendgroup": " Suède",
         "lon": [
          2.3421000002244905,
          2.3421000002244905,
          2.2799449891813266,
          2.3470309998595935,
          2.3275499994875326,
          2.3313150002201746,
          2.3426370004316674
         ],
         "marker": {
          "color": "#ab63fa"
         },
         "mode": "markers",
         "name": " Suède",
         "showlegend": true,
         "subplot": "mapbox",
         "type": "scattermapbox"
        },
        {
         "hovertemplate": "<b>%{hovertext}</b><br><br>first_country= Allemagne<br>lat=%{lat}<br>lon=%{lon}<extra></extra>",
         "hovertext": [
          "Heinrich Heine",
          "Richard Wagner",
          "Richard Wagner",
          "Franz Stock",
          "Alfred et Wolfgang Döblin",
          "Robert Schuman",
          "Christian Friedrich Samuel Hahnemann",
          "Alexander von Humboldt",
          "Walter Benjamin",
          "Max Ernst",
          "Richard Wagner",
          "Paul Celan",
          "Rainer Maria Rilke"
         ],
         "lat": [
          48.876189999224415,
          48.87768999892758,
          48.85502699944063,
          48.84345999911197,
          48.83189399900596,
          48.85736599949187,
          48.85563999891206,
          48.8575939990707,
          48.83643499886927,
          48.85803599895614,
          48.87787099923232,
          48.842534864350064,
          48.847109999072885
         ],
         "legendgroup": " Allemagne",
         "lon": [
          2.348408000086895,
          2.33692999997575,
          2.33580900043781,
          2.3466489993482935,
          2.329630999637251,
          2.3316059998126155,
          2.3310039994329337,
          2.3359310000041273,
          2.296418999954635,
          2.3305619999341536,
          2.3371969998520434,
          2.3481535433073963,
          2.343149999897078
         ],
         "marker": {
          "color": "#FFA15A"
         },
         "mode": "markers",
         "name": " Allemagne",
         "showlegend": true,
         "subplot": "mapbox",
         "type": "scattermapbox"
        },
        {
         "hovertemplate": "<b>%{hovertext}</b><br><br>first_country= Liban<br>lat=%{lat}<br>lon=%{lon}<extra></extra>",
         "hovertext": [
          "Gibran Khalil Gibran",
          "Gabriel Sionite"
         ],
         "lat": [
          48.84421199891656,
          48.85200796120799
         ],
         "legendgroup": " Liban",
         "lon": [
          2.320298999633473,
          2.358327592650989
         ],
         "marker": {
          "color": "#19d3f3"
         },
         "mode": "markers",
         "name": " Liban",
         "showlegend": true,
         "subplot": "mapbox",
         "type": "scattermapbox"
        },
        {
         "hovertemplate": "<b>%{hovertext}</b><br><br>first_country= Pologne<br>lat=%{lat}<br>lon=%{lon}<extra></extra>",
         "hovertext": [
          "Alexandre Tansman",
          "Napoléon Orda",
          "Frédéric Chopin",
          "Cyprian Kamil Norwid",
          "Aron Skrobek",
          "Marie Curie",
          "Marian Smoluchowski",
          "Rachel Muller",
          "Léon Goldberg",
          "Découverte du radium",
          "Louise Jacobson, Olga Jacobson",
          "Ignacy Paderewski",
          "Pierre et Marie Curie",
          "Découverte du radium",
          "Bruno Durocher",
          "Sabine Zlatin",
          "Frédéric Chopin",
          "Frédéric Chopin",
          "Rosa Luxemburg",
          "Marcel Rajman",
          "Henri Krasucki",
          "George Sand et Frédéric Chopin",
          "Joachim Lelewel",
          "Marie Curie",
          "Solidarnosc",
          "Samuel Tyszelman",
          "Joseph Epstein",
          "Adam Mickiewicz",
          "Władysław Sikorski",
          "Daniel Zdrojewski"
         ],
         "lat": [
          48.849824999249314,
          48.86869999935237,
          48.86707199924298,
          48.83153499923793,
          48.866666999414704,
          48.85105399892628,
          48.845897999446066,
          48.87241999887977,
          48.880239998622734,
          48.84197099872904,
          48.84969999944472,
          48.869045999443394,
          48.83556599942808,
          48.84126183260296,
          48.84036999915634,
          48.84861999878418,
          48.87121499893231,
          48.877199999368194,
          48.886876998869376,
          48.84909999917402,
          48.868499998856706,
          48.87896699902762,
          48.85370199928481,
          48.88507999931953,
          48.858629998755674,
          48.857670998860364,
          48.8362123860472,
          48.85446399868289,
          48.856422998835185,
          48.86481699925591
         ],
         "legendgroup": " Pologne",
         "lon": [
          2.275448000614014,
          2.3323999997117837,
          2.3299790005689074,
          2.3731559997304026,
          2.333332999949055,
          2.356338999634413,
          2.3313229994401006,
          2.3960599998466945,
          2.3724100003098383,
          2.347602999501807,
          2.3915000005640454,
          2.2838189995811455,
          2.3450100001393266,
          2.3476322148733915,
          2.349186000222051,
          2.331498999961841,
          2.3435459998155794,
          2.335049999387187,
          2.345855000202901,
          2.392799999981316,
          2.410099999960329,
          2.333391000181564,
          2.332309999735273,
          2.3794199995914505,
          2.3147300004120446,
          2.3644010004084075,
          2.3098221784581137,
          2.336970000119879,
          2.332063999646255,
          2.33641100026358
         ],
         "marker": {
          "color": "#FF6692"
         },
         "mode": "markers",
         "name": " Pologne",
         "showlegend": true,
         "subplot": "mapbox",
         "type": "scattermapbox"
        },
        {
         "hovertemplate": "<b>%{hovertext}</b><br><br>first_country= Argentine<br>lat=%{lat}<br>lon=%{lon}<extra></extra>",
         "hovertext": [
          "Julio Victorica Roca",
          "José de San Martín",
          "Juan Bautista Alberdi",
          "Julio Cortázar",
          "Ricardo Güiraldes",
          "Fondation Argentine",
          "Fondation Argentine",
          "Copi"
         ],
         "lat": [
          48.874309998939886,
          48.87629999944016,
          48.875423998958546,
          48.873631999497064,
          48.8595879992514,
          48.82035499874368,
          48.82035499874368,
          48.85661399941256
         ],
         "legendgroup": " Argentine",
         "lon": [
          2.289708000065958,
          2.3421000005497823,
          2.293929999612089,
          2.352868999492997,
          2.301935999841137,
          2.3373900004823422,
          2.3373900004823422,
          2.3522189995313108
         ],
         "marker": {
          "color": "#B6E880"
         },
         "mode": "markers",
         "name": " Argentine",
         "showlegend": true,
         "subplot": "mapbox",
         "type": "scattermapbox"
        },
        {
         "hovertemplate": "<b>%{hovertext}</b><br><br>first_country= Hongrie<br>lat=%{lat}<br>lon=%{lon}<extra></extra>",
         "hovertext": [
          "Edmond Széchenyi",
          "Franz Liszt",
          "Blanche de Teleki et Emma Téléki de Gérando",
          "Gyula Illyés",
          "István Keszei",
          "Endre Ady",
          "István Keszei",
          "Lajos Kossuth",
          "Miklós Radnóti",
          "Franz Listz",
          "János Batsányi",
          "Victor et Hélène Basch",
          "Attila József"
         ],
         "lat": [
          48.85893999935604,
          48.866757998645774,
          48.84789999862239,
          48.85187399912752,
          48.85571799914939,
          48.85038499930983,
          48.854645998711014,
          48.8760189987148,
          48.84799231546126,
          48.87677999917172,
          48.85606099888254,
          48.84623899890345,
          48.85150999908503
         ],
         "legendgroup": " Hongrie",
         "lon": [
          2.2923889998413407,
          2.342217999747936,
          2.3302210001794337,
          2.35553699938339,
          2.336504000359029,
          2.3394400004340126,
          2.3364050005169745,
          2.3406199995517105,
          2.342234581994709,
          2.3517480006542053,
          2.337403000027173,
          2.32920800015054,
          2.3325800002817108
         ],
         "marker": {
          "color": "#FF97FF"
         },
         "mode": "markers",
         "name": " Hongrie",
         "showlegend": true,
         "subplot": "mapbox",
         "type": "scattermapbox"
        },
        {
         "hovertemplate": "<b>%{hovertext}</b><br><br>first_country= Japon<br>lat=%{lat}<br>lon=%{lon}<extra></extra>",
         "hovertext": [
          "Tsuguharu Foujita",
          "Hisayoshi Nagashima",
          "Kéou Nishimura",
          "Ken Sasaki"
         ],
         "lat": [
          48.84173799907934,
          48.88073999946117,
          48.854273999371806,
          48.857536999508234
         ],
         "legendgroup": " Japon",
         "lon": [
          2.3286809999387916,
          2.3440000006216093,
          2.3408060003932465,
          2.3506050000650784
         ],
         "marker": {
          "color": "#FECB52"
         },
         "mode": "markers",
         "name": " Japon",
         "showlegend": true,
         "subplot": "mapbox",
         "type": "scattermapbox"
        },
        {
         "hovertemplate": "<b>%{hovertext}</b><br><br>first_country= États-Unis<br>lat=%{lat}<br>lon=%{lon}<extra></extra>",
         "hovertext": [
          "Beauford Delaney",
          "Alan H. Muhr, Burnham Robinson et George Aubrey",
          "Louis Armstrong",
          "Sylvia Beach, James Joyce"
         ],
         "lat": [
          48.840063999399284,
          48.86778467120463,
          48.87983799894027,
          48.850922998823584
         ],
         "legendgroup": " États-Unis",
         "lon": [
          2.3235740006471897,
          2.2950436159297154,
          2.3425689996110775,
          2.3385949998345543
         ],
         "marker": {
          "color": "#636efa"
         },
         "mode": "markers",
         "name": " États-Unis",
         "showlegend": true,
         "subplot": "mapbox",
         "type": "scattermapbox"
        },
        {
         "hovertemplate": "<b>%{hovertext}</b><br><br>first_country= Espagne<br>lat=%{lat}<br>lon=%{lon}<extra></extra>",
         "hovertext": [
          "Manuel Pinto Queiroz Ruiz",
          "Volontaires des Brigades Internationales",
          "Dictature franquiste",
          "Colonne Dronne",
          "Max Aub",
          "José Baron Carreno",
          "Joan Miro",
          "Celestino Alfonso",
          "Républicains espagnoles de la Colonne Dronne",
          "Pablo Picasso",
          "Pablo Picasso",
          "Pablo Picasso",
          "Colonne Dronne",
          "Joaquín Rodrigo",
          "Manuel Bergés i Arderiu",
          "Colonne Dronne",
          "Juan Negrín",
          "Colonne Dronne",
          "Colonne Dronne",
          "Apel·les Fenosa",
          "Juan Crisostomo de Arriaga",
          "FEDIP",
          "Domingo Tejero Perez",
          "Lieutenant-Colonel Jules Dimont",
          "Colonne Dronne",
          "Francisco Ferrer Guardia",
          "Colonne Dronne",
          "Isaac Albenitz",
          "Colonne Dronne",
          "Gregorio Marañón",
          "Isaac Albeniz",
          "Colonne Dronne",
          "Juan Crisóstomo de Arriaga"
         ],
         "lat": [
          48.878489999289705,
          48.87824999874793,
          48.87249999900205,
          48.82582081342335,
          48.87448999949047,
          48.85816429252688,
          48.83881699865412,
          48.82983299945502,
          48.82132299928666,
          48.854616998680896,
          48.88617999941625,
          48.88620199884724,
          48.83801932727856,
          48.84624799862181,
          48.87627449869769,
          48.834505650981775,
          48.8644899987791,
          48.82311175753547,
          48.83087414491998,
          48.83262699908867,
          48.865240999099,
          48.88191769942083,
          48.882939998675496,
          48.86340799937249,
          48.8449269679026,
          48.874049999415405,
          48.85736759759212,
          48.875019999158006,
          48.83344172605682,
          48.87028999887586,
          48.844734999066105,
          48.829039455111456,
          48.865255998624
         ],
         "legendgroup": " Espagne",
         "lon": [
          2.399929999536202,
          2.3730999999833844,
          2.3020500005108695,
          2.363071722438515,
          2.346609999696731,
          2.323732089639689,
          2.2918309998643522,
          2.374641999437867,
          2.3586010000313555,
          2.3409590002161433,
          2.3388700006039174,
          2.3389350006246423,
          2.359958284778384,
          2.3432959997597296,
          2.37123889973873,
          2.3610092226082844,
          2.2729970006486475,
          2.3594349294023917,
          2.3640492101881567,
          2.336829999657072,
          2.3314269997965957,
          2.3255941005995675,
          2.385199999698992,
          2.410470999494768,
          2.3660561142778733,
          2.3456200001831737,
          2.351013592656836,
          2.3409200001167663,
          2.3618522183325776,
          2.289147000487558,
          2.2604399997396225,
          2.3653231029513466,
          2.3315230000900597
         ],
         "marker": {
          "color": "#EF553B"
         },
         "mode": "markers",
         "name": " Espagne",
         "showlegend": true,
         "subplot": "mapbox",
         "type": "scattermapbox"
        },
        {
         "hovertemplate": "<b>%{hovertext}</b><br><br>first_country= Roumanie<br>lat=%{lat}<br>lon=%{lon}<extra></extra>",
         "hovertext": [
          "Benjamin Fondane",
          "Georges Enesco",
          "Académie Lyrique Roumaine",
          "Mircea Eliade",
          "Constantin Brâncuși",
          "Sylvia Brodfeld",
          "Aristizza et Grigore Manolescu",
          "Olga Bancic",
          "Jean-Louis Calderon",
          "Constantin Brâncuși",
          "Eugène Ionesco",
          "Edouard de Max",
          "Hélène Varesco",
          "Anna de Noailles",
          "Julia Petriceicu Hasdeu",
          "Mihai Eminescu",
          "Anna de Noailles",
          "Comité national de l'unité roumaine"
         ],
         "lat": [
          48.84461499924648,
          48.8789099993913,
          48.88360199937084,
          48.88322099901822,
          48.84950064674932,
          48.86272999944919,
          48.86246999899327,
          48.83555499907868,
          48.849536763128505,
          48.84945549270626,
          48.84251699894557,
          48.87518999873755,
          48.86613199868104,
          48.86063399906017,
          48.85139599873011,
          48.849258999147196,
          48.862346999203204,
          48.8661159986925
         ],
         "legendgroup": " Roumanie",
         "lon": [
          2.3516180002428047,
          2.3297999996586762,
          2.312116000154211,
          2.3422230005038345,
          2.347043221682413,
          2.3675139996534598,
          2.339452999539778,
          2.3197999995806793,
          2.347067114617646,
          2.346998068733194,
          2.32767999991292,
          2.3284499997729857,
          2.2962730001979614,
          2.309910000559006,
          2.3358230001371636,
          2.346659999975752,
          2.2816880000323847,
          2.3344370005286286
         ],
         "marker": {
          "color": "#00cc96"
         },
         "mode": "markers",
         "name": " Roumanie",
         "showlegend": true,
         "subplot": "mapbox",
         "type": "scattermapbox"
        },
        {
         "hovertemplate": "<b>%{hovertext}</b><br><br>first_country= Irlande<br>lat=%{lat}<br>lon=%{lon}<extra></extra>",
         "hovertext": [
          "James Joyce",
          "Oscar Wilde",
          "Eileen Gray"
         ],
         "lat": [
          48.84553899933236,
          48.8562409992757,
          48.855590998878625
         ],
         "legendgroup": " Irlande",
         "lon": [
          2.3502289999388397,
          2.335187000563871,
          2.3340820004774643
         ],
         "marker": {
          "color": "#ab63fa"
         },
         "mode": "markers",
         "name": " Irlande",
         "showlegend": true,
         "subplot": "mapbox",
         "type": "scattermapbox"
        },
        {
         "hovertemplate": "<b>%{hovertext}</b><br><br>first_country= Grande-Bretagne<br>lat=%{lat}<br>lon=%{lon}<extra></extra>",
         "hovertext": [
          "Thomas Paine",
          "Edith Cavell",
          "Sidney Gilchrist Thomas"
         ],
         "lat": [
          48.85104999945722,
          48.83586099866944,
          48.87015499893526
         ],
         "legendgroup": " Grande-Bretagne",
         "lon": [
          2.338592999462412,
          2.2870420004605814,
          2.2980179996722963
         ],
         "marker": {
          "color": "#FFA15A"
         },
         "mode": "markers",
         "name": " Grande-Bretagne",
         "showlegend": true,
         "subplot": "mapbox",
         "type": "scattermapbox"
        },
        {
         "hovertemplate": "<b>%{hovertext}</b><br><br>first_country= Autriche<br>lat=%{lat}<br>lon=%{lon}<extra></extra>",
         "hovertext": [
          "Librairie Martin et Karl Flinker",
          "Wolfgang Amadeus Mozart",
          "Ernest",
          "Joseph Roth",
          "Sigmund Freud",
          "Sigmund Freud"
         ],
         "lat": [
          48.85664199925722,
          48.868519998632316,
          48.84660199907611,
          48.849549999288904,
          48.84554799885115,
          48.8464569992324
         ],
         "legendgroup": " Autriche",
         "lon": [
          2.3416320005755367,
          2.3456770000950695,
          2.271406999753639,
          2.337356999401734,
          2.340949000426297,
          2.3413649996106076
         ],
         "marker": {
          "color": "#19d3f3"
         },
         "mode": "markers",
         "name": " Autriche",
         "showlegend": true,
         "subplot": "mapbox",
         "type": "scattermapbox"
        },
        {
         "hovertemplate": "<b>%{hovertext}</b><br><br>first_country= Etats-Unis d'Amérique<br>lat=%{lat}<br>lon=%{lon}<extra></extra>",
         "hovertext": [
          "Richard Wright",
          "New York Herald",
          "Bataille de Chesapeake",
          "Ambassade du Texas",
          "Joséphine Baker",
          "Jacqueline Kennedy-Onassis",
          "William Faulkner",
          "Edith Wharton",
          "50e anniversaire du Plan Marshall (anglais)",
          "Association CARE",
          "Traité d'indépendance des Etats-Unis",
          "Samuel de Champlain",
          "Fondation Singer-Polignac",
          "Bataille de Yorktown",
          "James Abbott McNeill Whistler",
          "Armée de l'air américaine",
          "Getrude Stein",
          "Orville J. Cunningham",
          "Grace Whitney-Hoff",
          "Section Française de la Société des Cincinatti",
          "Robert S. White",
          "50e anniversaire du Plan Marshall",
          "Mary Cassatt",
          "Alan H. Muhr, Burnham Robinson, George Aubrey",
          "Robert Fulton",
          "Jean-Baptiste-Donatien de Vimeur de Rochambeau",
          "Thomas Jefferson",
          "Myron Timothy Herrick",
          "Fédération internationale des sociétés de la Croix-Rouge",
          "Franklin Roosevelt"
         ],
         "lat": [
          48.85045999950453,
          48.869999998699704,
          48.8673279988478,
          48.866719998995706,
          48.8828799994875,
          48.852448998841325,
          48.84937999879015,
          48.85429699927692,
          48.86646899947586,
          48.85787199862694,
          48.85623499896857,
          48.86185099906684,
          48.86347399865282,
          48.86018699889957,
          48.85298099891974,
          48.88992299932316,
          48.8470189988747,
          48.86931599947652,
          48.84511899886137,
          48.84973899911971,
          48.8531619992509,
          48.86643699885741,
          48.86834799930661,
          48.868009999286365,
          48.86389999875463,
          48.849738999312706,
          48.871661999297444,
          48.866125999033116,
          48.863783999307884,
          48.86578499921099
         ],
         "legendgroup": " Etats-Unis d'Amérique",
         "lon": [
          2.3396220005475636,
          2.332999999709306,
          2.2955190001158803,
          2.328720000412138,
          2.3330900005049533,
          2.268072000182315,
          2.334870000268855,
          2.321216000488422,
          2.3237019999872355,
          2.307753000287095,
          2.3321030001183107,
          2.362622000535978,
          2.2818700001844854,
          2.285745000638251,
          2.323575000370532,
          2.3634010005885604,
          2.329345000578091,
          2.3218990004632163,
          2.339610000370031,
          2.3263830006386765,
          2.3431160002149616,
          2.3236240005005064,
          2.3065529999675425,
          2.2942420006492403,
          2.299000000556659,
          2.326379999848506,
          2.3033769993794366,
          2.2963100004871047,
          2.3324439997906294,
          2.3098510004217045
         ],
         "marker": {
          "color": "#FF6692"
         },
         "mode": "markers",
         "name": " Etats-Unis d'Amérique",
         "showlegend": true,
         "subplot": "mapbox",
         "type": "scattermapbox"
        },
        {
         "hovertemplate": "<b>%{hovertext}</b><br><br>first_country= Russie<br>lat=%{lat}<br>lon=%{lon}<extra></extra>",
         "hovertext": [
          "Ossip Mandelstam",
          "Andreï Tarkovski",
          "Sergueï Chtchoukine",
          "Comtesse de Ségur",
          "Nicolas Evreïnoff",
          "Alexandre Tcherepnine",
          "Michel Kikoïne",
          "Vladimir Ilitch Lénine",
          "Serge Prokofiev",
          "Georges et Ludmilla Pitoëff",
          "Ivan Tourgueniev",
          "Nicolas Gogol",
          "Famille Beighel",
          "Maurice de Seynes",
          "Vladimir Lossky",
          "Demeure de Félix Youssoupov et Irina Alexandrovna",
          "André Lanskoy",
          "Isaac Païles",
          "Fédor Chaliapine",
          "Ivan Tourgueniev",
          "Ivan Bounine",
          "Alexandre Benois",
          "Jean-Toussaint et Dominique Desanti",
          "Rudolf Noureev"
         ],
         "lat": [
          48.84950801108566,
          48.87999999873957,
          48.84586099942728,
          48.85731499928295,
          48.84708299869442,
          48.854665998910036,
          48.831157998723974,
          48.82416199900883,
          48.8469799995087,
          48.87345799875076,
          48.88322799905171,
          48.869853998914294,
          48.87145999903999,
          48.8653687902215,
          48.851002999409644,
          48.85043599941111,
          48.852448998841325,
          48.84301699913386,
          48.86449599880154,
          48.86455899923596,
          48.85640999948767,
          48.84601099922428,
          48.87926899878131,
          48.85896299947379
         ],
         "legendgroup": " Russie",
         "lon": [
          2.3433155823387857,
          2.2933329997535896,
          2.271353999698373,
          2.318971999873756,
          2.2660899999988495,
          2.3359739998347595,
          2.3284170006025255,
          2.329461999339354,
          2.3102699997186122,
          2.3254849994789617,
          2.3311129997372815,
          2.340963000213989,
          2.376830000267359,
          2.2799449891813266,
          2.359022000196982,
          2.265052999364905,
          2.268072000182315,
          2.3196919995434313,
          2.284757999616745,
          2.329942000343798,
          2.2726499998885012,
          2.279149000111795,
          2.3392490001808666,
          2.330667000014478
         ],
         "marker": {
          "color": "#B6E880"
         },
         "mode": "markers",
         "name": " Russie",
         "showlegend": true,
         "subplot": "mapbox",
         "type": "scattermapbox"
        },
        {
         "hovertemplate": "<b>%{hovertext}</b><br><br>first_country= République tchèque<br>lat=%{lat}<br>lon=%{lon}<extra></extra>",
         "hovertext": [
          "Alfons Mucha"
         ],
         "lat": [
          48.84105475978931
         ],
         "legendgroup": " République tchèque",
         "lon": [
          2.340429262968805
         ],
         "marker": {
          "color": "#FF97FF"
         },
         "mode": "markers",
         "name": " République tchèque",
         "showlegend": true,
         "subplot": "mapbox",
         "type": "scattermapbox"
        },
        {
         "hovertemplate": "<b>%{hovertext}</b><br><br>first_country= Danemark<br>lat=%{lat}<br>lon=%{lon}<extra></extra>",
         "hovertext": [
          "Christian VIII",
          "Fondation Danoise",
          "Collège de Dace",
          "Jacques Benigne Winslow",
          "Auguste Bournonville",
          "Fondation Danoise"
         ],
         "lat": [
          48.85564099931427,
          48.818481998793764,
          48.84931999908553,
          48.851798999239456,
          48.86437599865598,
          48.818481998793764
         ],
         "legendgroup": " Danemark",
         "lon": [
          2.3333859999285167,
          2.3424379995636646,
          2.348570000434622,
          2.348491999426363,
          2.3362309993727566,
          2.3424379995636646
         ],
         "marker": {
          "color": "#FECB52"
         },
         "mode": "markers",
         "name": " Danemark",
         "showlegend": true,
         "subplot": "mapbox",
         "type": "scattermapbox"
        },
        {
         "hovertemplate": "<b>%{hovertext}</b><br><br>first_country= Tunisie<br>lat=%{lat}<br>lon=%{lon}<extra></extra>",
         "hovertext": [
          "Azzedine Alaïa"
         ],
         "lat": [
          48.857489999138295
         ],
         "legendgroup": " Tunisie",
         "lon": [
          2.35205000021246
         ],
         "marker": {
          "color": "#636efa"
         },
         "mode": "markers",
         "name": " Tunisie",
         "showlegend": true,
         "subplot": "mapbox",
         "type": "scattermapbox"
        },
        {
         "hovertemplate": "<b>%{hovertext}</b><br><br>first_country= Indochine<br>lat=%{lat}<br>lon=%{lon}<extra></extra>",
         "hovertext": [
          "Emile Lemonnier",
          "Morts en Indochine - 1944",
          "Guerre d'Indochine",
          "Combattants des Armées et de la Résistance en Indochine 1940-1945"
         ],
         "lat": [
          48.86103199925442,
          48.86409899871197,
          48.87377999927595,
          48.8637209986973
         ],
         "legendgroup": " Indochine",
         "lon": [
          2.3299650000747008,
          2.2762829998787497,
          2.2950550004984054,
          2.3319089998895666
         ],
         "marker": {
          "color": "#EF553B"
         },
         "mode": "markers",
         "name": " Indochine",
         "showlegend": true,
         "subplot": "mapbox",
         "type": "scattermapbox"
        },
        {
         "hovertemplate": "<b>%{hovertext}</b><br><br>first_country= Italie<br>lat=%{lat}<br>lon=%{lon}<extra></extra>",
         "hovertext": [
          "Gioachino Rossini",
          "Vilfredo Pareto",
          "Cino del Duca",
          "Café Procope",
          "Giuseppe Ungaretti",
          "Cino Del Duca",
          "Carlo Goldoni",
          "Alessandro Manzoni",
          "Lionello Fiumi"
         ],
         "lat": [
          48.871206999465485,
          48.845201404749744,
          48.87148299864157,
          48.853399998730154,
          48.8491589992411,
          48.85190899914763,
          48.86587099890244,
          48.86512491621717,
          48.84444799898789
         ],
         "legendgroup": " Italie",
         "lon": [
          2.3342060000286353,
          2.3553566629981626,
          2.3359749994250003,
          2.3393500004332486,
          2.3476840003509336,
          2.3005299997473676,
          2.348902000078343,
          2.3322189517278176,
          2.3208219999098256
         ],
         "marker": {
          "color": "#00cc96"
         },
         "mode": "markers",
         "name": " Italie",
         "showlegend": true,
         "subplot": "mapbox",
         "type": "scattermapbox"
        },
        {
         "hovertemplate": "<b>%{hovertext}</b><br><br>first_country= Slovaquie<br>lat=%{lat}<br>lon=%{lon}<extra></extra>",
         "hovertext": [
          "Milan Rastislav Štefánik"
         ],
         "lat": [
          48.83383299900499
         ],
         "legendgroup": " Slovaquie",
         "lon": [
          2.3353929995504896
         ],
         "marker": {
          "color": "#ab63fa"
         },
         "mode": "markers",
         "name": " Slovaquie",
         "showlegend": true,
         "subplot": "mapbox",
         "type": "scattermapbox"
        },
        {
         "hovertemplate": "<b>%{hovertext}</b><br><br>first_country= Luxembourg<br>lat=%{lat}<br>lon=%{lon}<extra></extra>",
         "hovertext": [
          "Jean Thill"
         ],
         "lat": [
          48.86851499927469
         ],
         "legendgroup": " Luxembourg",
         "lon": [
          2.3600849996332127
         ],
         "marker": {
          "color": "#FFA15A"
         },
         "mode": "markers",
         "name": " Luxembourg",
         "showlegend": true,
         "subplot": "mapbox",
         "type": "scattermapbox"
        },
        {
         "hovertemplate": "<b>%{hovertext}</b><br><br>first_country= Belgique<br>lat=%{lat}<br>lon=%{lon}<extra></extra>",
         "hovertext": [
          "Adolphe Sax",
          "César Franck",
          "Philippe de Champagne",
          "Zénobe Gramme",
          "Syndicat d'initiative du Vieux Montmartre",
          "César Franck",
          "Secours de guerre 1914-1918"
         ],
         "lat": [
          48.87742099897609,
          48.85871335230906,
          48.85710971836874,
          48.878237998785934,
          48.88709999939002,
          48.84457999925959,
          48.85055599887946
         ],
         "legendgroup": " Belgique",
         "lon": [
          2.3374369994940793,
          2.3194037132021283,
          2.3588911724839483,
          2.2946140004932642,
          2.341300000083502,
          2.3394699999904662,
          2.33367199959316
         ],
         "marker": {
          "color": "#19d3f3"
         },
         "mode": "markers",
         "name": " Belgique",
         "showlegend": true,
         "subplot": "mapbox",
         "type": "scattermapbox"
        },
        {
         "hovertemplate": "<b>%{hovertext}</b><br><br>first_country= Brésil<br>lat=%{lat}<br>lon=%{lon}<extra></extra>",
         "hovertext": [
          "Augusto Severo de Albuquerque Maranhão",
          "Heitor Villa-Lobos",
          "Luiz de Souza Dantas",
          "Maison du Brésil",
          "Cícero Dias",
          "Alberto Santos-Dumont"
         ],
         "lat": [
          48.83829199890957,
          48.85308499912677,
          48.86759099869492,
          48.817659999368075,
          48.86731399920089,
          48.87219799945671
         ],
         "legendgroup": " Brésil",
         "lon": [
          2.3230190006546874,
          2.3433970005769655,
          2.3070780001532722,
          2.3435500004933956,
          2.2779660004782074,
          2.3011109997807675
         ],
         "marker": {
          "color": "#FF6692"
         },
         "mode": "markers",
         "name": " Brésil",
         "showlegend": true,
         "subplot": "mapbox",
         "type": "scattermapbox"
        },
        {
         "hovertemplate": "<b>%{hovertext}</b><br><br>first_country= Etats-Unis<br>lat=%{lat}<br>lon=%{lon}<extra></extra>",
         "hovertext": [
          "Eva Kotchever",
          "Ernest Hemingway"
         ],
         "lat": [
          48.89770319921341,
          48.84484899935532
         ],
         "legendgroup": " Etats-Unis",
         "lon": [
          2.3576956005827774,
          2.3496159994661325
         ],
         "marker": {
          "color": "#B6E880"
         },
         "mode": "markers",
         "name": " Etats-Unis",
         "showlegend": true,
         "subplot": "mapbox",
         "type": "scattermapbox"
        },
        {
         "hovertemplate": "<b>%{hovertext}</b><br><br>first_country= Arménie<br>lat=%{lat}<br>lon=%{lon}<extra></extra>",
         "hovertext": [
          "Missak et Mélinée Manouchian",
          "Groupe Manouchian",
          "L'affiche rouge",
          "Charles Aznavour",
          "Rouben Mélik"
         ],
         "lat": [
          48.832426998817176,
          48.871059999350415,
          48.86460899893202,
          48.84918899890106,
          48.89166699865305
         ],
         "legendgroup": " Arménie",
         "lon": [
          2.319702000652696,
          2.403990000266112,
          2.3562309996276527,
          2.3402990003582453,
          2.3422219993483417
         ],
         "marker": {
          "color": "#FF97FF"
         },
         "mode": "markers",
         "name": " Arménie",
         "showlegend": true,
         "subplot": "mapbox",
         "type": "scattermapbox"
        },
        {
         "hovertemplate": "<b>%{hovertext}</b><br><br>first_country= Pays-Bas<br>lat=%{lat}<br>lon=%{lon}<extra></extra>",
         "hovertext": [
          "Conrad Busken Huet",
          "Johan Barthold Jongkind",
          "Collège de Montaigu",
          "Vincent Van Gogh",
          "Conrad Kickert",
          "Collège néerlandais"
         ],
         "lat": [
          48.86102599931638,
          48.84160999886912,
          48.846819999433976,
          48.88659499910292,
          48.83891999886414,
          48.821999999276635
         ],
         "legendgroup": " Pays-Bas",
         "lon": [
          2.311183000331945,
          2.3314869994058496,
          2.3460800002472775,
          2.33406500005204,
          2.3395699994587646,
          2.330800000200102
         ],
         "marker": {
          "color": "#FECB52"
         },
         "mode": "markers",
         "name": " Pays-Bas",
         "showlegend": true,
         "subplot": "mapbox",
         "type": "scattermapbox"
        },
        {
         "hovertemplate": "<b>%{hovertext}</b><br><br>first_country= Serbie<br>lat=%{lat}<br>lon=%{lon}<extra></extra>",
         "hovertext": [
          "Natalija Obrenović",
          "Baltazar Bogišić",
          "Jumelage Montmartre-Skadarlija",
          "Danilo Kiš",
          "Pierre Ier de Serbie"
         ],
         "lat": [
          48.86783799888062,
          48.85313499939861,
          48.887099999512564,
          48.87197899902148,
          48.86819899877374
         ],
         "legendgroup": " Serbie",
         "lon": [
          2.322744000286854,
          2.329719999999102,
          2.3378000000002728,
          2.3706589993885494,
          2.3004960005376254
         ],
         "marker": {
          "color": "#636efa"
         },
         "mode": "markers",
         "name": " Serbie",
         "showlegend": true,
         "subplot": "mapbox",
         "type": "scattermapbox"
        },
        {
         "hovertemplate": "<b>%{hovertext}</b><br><br>first_country= Turquie<br>lat=%{lat}<br>lon=%{lon}<extra></extra>",
         "hovertext": [
          "Génocide des Arméniens",
          "Triple assassinat de militantes kurdes"
         ],
         "lat": [
          48.864439999112975,
          48.88018399887795
         ],
         "legendgroup": " Turquie",
         "lon": [
          2.3097700005359147,
          2.360384000658967
         ],
         "marker": {
          "color": "#EF553B"
         },
         "mode": "markers",
         "name": " Turquie",
         "showlegend": true,
         "subplot": "mapbox",
         "type": "scattermapbox"
        },
        {
         "hovertemplate": "<b>%{hovertext}</b><br><br>first_country= Croatie<br>lat=%{lat}<br>lon=%{lon}<extra></extra>",
         "hovertext": [
          "Roger Joseph Boscovich"
         ],
         "lat": [
          48.857226998933406
         ],
         "legendgroup": " Croatie",
         "lon": [
          2.336413999387397
         ],
         "marker": {
          "color": "#00cc96"
         },
         "mode": "markers",
         "name": " Croatie",
         "showlegend": true,
         "subplot": "mapbox",
         "type": "scattermapbox"
        },
        {
         "hovertemplate": "<b>%{hovertext}</b><br><br>first_country= Québec<br>lat=%{lat}<br>lon=%{lon}<extra></extra>",
         "hovertext": [
          "Félix Leclerc",
          "Anne Hébert",
          "Paul-Émile Borduas"
         ],
         "lat": [
          48.85435999885983,
          48.84914799876905,
          48.84908299899007
         ],
         "legendgroup": " Québec",
         "lon": [
          2.3330199996516776,
          2.3512010004109887,
          2.3185840002172315
         ],
         "marker": {
          "color": "#ab63fa"
         },
         "mode": "markers",
         "name": " Québec",
         "showlegend": true,
         "subplot": "mapbox",
         "type": "scattermapbox"
        },
        {
         "hovertemplate": "<b>%{hovertext}</b><br><br>first_country= Pérou<br>lat=%{lat}<br>lon=%{lon}<extra></extra>",
         "hovertext": [
          "Cesar Vallejo",
          "César Vallejo"
         ],
         "lat": [
          48.865333998897896,
          48.86526199927372
         ],
         "legendgroup": " Pérou",
         "lon": [
          2.3361459999747582,
          2.3362190000336907
         ],
         "marker": {
          "color": "#FFA15A"
         },
         "mode": "markers",
         "name": " Pérou",
         "showlegend": true,
         "subplot": "mapbox",
         "type": "scattermapbox"
        },
        {
         "hovertemplate": "<b>%{hovertext}</b><br><br>first_country= Israël<br>lat=%{lat}<br>lon=%{lon}<extra></extra>",
         "hovertext": [
          "Yitzhak Rabin"
         ],
         "lat": [
          48.87162799929137
         ],
         "legendgroup": " Israël",
         "lon": [
          2.3150220000295785
         ],
         "marker": {
          "color": "#19d3f3"
         },
         "mode": "markers",
         "name": " Israël",
         "showlegend": true,
         "subplot": "mapbox",
         "type": "scattermapbox"
        },
        {
         "hovertemplate": "<b>%{hovertext}</b><br><br>first_country= Egypte<br>lat=%{lat}<br>lon=%{lon}<extra></extra>",
         "hovertext": [
          "Jean-François Champollion",
          "Pierre Montet"
         ],
         "lat": [
          48.85617899945508,
          48.82513199939492
         ],
         "legendgroup": " Egypte",
         "lon": [
          2.337181999422488,
          2.3541170000848393
         ],
         "marker": {
          "color": "#FF6692"
         },
         "mode": "markers",
         "name": " Egypte",
         "showlegend": true,
         "subplot": "mapbox",
         "type": "scattermapbox"
        },
        {
         "hovertemplate": "<b>%{hovertext}</b><br><br>first_country= Maroc<br>lat=%{lat}<br>lon=%{lon}<extra></extra>",
         "hovertext": [
          "Mehdi Ben Barka",
          "Morts en Indochine, Corée, Tunisie, Maroc"
         ],
         "lat": [
          48.853770998812365,
          48.85812999940306
         ],
         "legendgroup": " Maroc",
         "lon": [
          2.3324329995576685,
          2.3798650005088393
         ],
         "marker": {
          "color": "#B6E880"
         },
         "mode": "markers",
         "name": " Maroc",
         "showlegend": true,
         "subplot": "mapbox",
         "type": "scattermapbox"
        },
        {
         "hovertemplate": "<b>%{hovertext}</b><br><br>first_country= Nouvelle-Calédonie<br>lat=%{lat}<br>lon=%{lon}<extra></extra>",
         "hovertext": [
          "Francis Carco",
          "Zoo humain du Jardin d'Acclimatation"
         ],
         "lat": [
          48.85047599923167,
          48.87776899893349
         ],
         "legendgroup": " Nouvelle-Calédonie",
         "lon": [
          2.358054999966263,
          2.269921000026093
         ],
         "marker": {
          "color": "#FF97FF"
         },
         "mode": "markers",
         "name": " Nouvelle-Calédonie",
         "showlegend": true,
         "subplot": "mapbox",
         "type": "scattermapbox"
        },
        {
         "hovertemplate": "<b>%{hovertext}</b><br><br>first_country= Algérie<br>lat=%{lat}<br>lon=%{lon}<extra></extra>",
         "hovertext": [
          "Guerres de décolonisations nord-africaines",
          "Malik Oussekine",
          "Morts en Afrique du Nord 1945-1956",
          "Amokrane Ould Aoudia",
          "Manifestation du 8 février 1962"
         ],
         "lat": [
          48.87377999927595,
          48.85013999896192,
          48.86409899871197,
          48.87843739877108,
          48.85551999864447
         ],
         "legendgroup": " Algérie",
         "lon": [
          2.2950550004984054,
          2.340019999570833,
          2.2762829998787497,
          2.375578799475214,
          2.3841599994117004
         ],
         "marker": {
          "color": "#FECB52"
         },
         "mode": "markers",
         "name": " Algérie",
         "showlegend": true,
         "subplot": "mapbox",
         "type": "scattermapbox"
        },
        {
         "hovertemplate": "<b>%{hovertext}</b><br><br>first_country= Costa Rica<br>lat=%{lat}<br>lon=%{lon}<extra></extra>",
         "hovertext": [
          "Luis Alberto Monge",
          "Luis Dobles Segreda"
         ],
         "lat": [
          48.85858199910373,
          48.848861999485365
         ],
         "legendgroup": " Costa Rica",
         "lon": [
          2.2849249996871515,
          2.271170999977242
         ],
         "marker": {
          "color": "#636efa"
         },
         "mode": "markers",
         "name": " Costa Rica",
         "showlegend": true,
         "subplot": "mapbox",
         "type": "scattermapbox"
        },
        {
         "hovertemplate": "<b>%{hovertext}</b><br><br>first_country=Allemagne<br>lat=%{lat}<br>lon=%{lon}<extra></extra>",
         "hovertext": [
          "Chute du Mur de Berlin 1989"
         ],
         "lat": [
          48.86699999870086
         ],
         "legendgroup": "Allemagne",
         "lon": [
          2.3106110003975653
         ],
         "marker": {
          "color": "#EF553B"
         },
         "mode": "markers",
         "name": "Allemagne",
         "showlegend": true,
         "subplot": "mapbox",
         "type": "scattermapbox"
        },
        {
         "hovertemplate": "<b>%{hovertext}</b><br><br>first_country= Mexique<br>lat=%{lat}<br>lon=%{lon}<extra></extra>",
         "hovertext": [
          "José María Luis Mora",
          "Maison du Mexique",
          "Carlos Fuentes"
         ],
         "lat": [
          48.88242299863111,
          48.81898499935898,
          48.86460599861667
         ],
         "legendgroup": " Mexique",
         "lon": [
          2.3332920001241737,
          2.3394080000817397,
          2.2924099993865448
         ],
         "marker": {
          "color": "#00cc96"
         },
         "mode": "markers",
         "name": " Mexique",
         "showlegend": true,
         "subplot": "mapbox",
         "type": "scattermapbox"
        },
        {
         "hovertemplate": "<b>%{hovertext}</b><br><br>first_country= Canada<br>lat=%{lat}<br>lon=%{lon}<extra></extra>",
         "hovertext": [
          "Louis Hébert",
          "Charles Hindelang",
          "Erable à sucre offert par le Canada",
          "Joseph Francis Plaskett",
          "L'Embagle de Charles Daudelin"
         ],
         "lat": [
          48.86149099879874,
          48.8759899991024,
          48.865310998806635,
          48.85961499869066,
          48.85346499933447
         ],
         "legendgroup": " Canada",
         "lon": [
          2.341473000429672,
          2.3443799993278365,
          2.3100190005114376,
          2.3556800004668434,
          2.3332079997518838
         ],
         "marker": {
          "color": "#ab63fa"
         },
         "mode": "markers",
         "name": " Canada",
         "showlegend": true,
         "subplot": "mapbox",
         "type": "scattermapbox"
        },
        {
         "hovertemplate": "<b>%{hovertext}</b><br><br>first_country= Colombie<br>lat=%{lat}<br>lon=%{lon}<extra></extra>",
         "hovertext": [
          "Gabriel García Márquez"
         ],
         "lat": [
          48.84796145801316
         ],
         "legendgroup": " Colombie",
         "lon": [
          2.3422951949397235
         ],
         "marker": {
          "color": "#FFA15A"
         },
         "mode": "markers",
         "name": " Colombie",
         "showlegend": true,
         "subplot": "mapbox",
         "type": "scattermapbox"
        },
        {
         "hovertemplate": "<b>%{hovertext}</b><br><br>first_country= Ukraine<br>lat=%{lat}<br>lon=%{lon}<extra></extra>",
         "hovertext": [
          "Vladimir Dyck",
          "Robert et Sonia Delaunay",
          "Manès Sperber",
          "Immigrés ukrainiens"
         ],
         "lat": [
          48.84588899911822,
          48.85593199927921,
          48.84258499930079,
          48.85453099924337
         ],
         "legendgroup": " Ukraine",
         "lon": [
          2.312048999564858,
          2.32344400061617,
          2.3319930005884384,
          2.3306040002743864
         ],
         "marker": {
          "color": "#19d3f3"
         },
         "mode": "markers",
         "name": " Ukraine",
         "showlegend": true,
         "subplot": "mapbox",
         "type": "scattermapbox"
        },
        {
         "hovertemplate": "<b>%{hovertext}</b><br><br>first_country= Inde<br>lat=%{lat}<br>lon=%{lon}<extra></extra>",
         "hovertext": [
          "Gandhi",
          "Humayun Kabir",
          "Antoine Ponnoussamy"
         ],
         "lat": [
          48.87124299931219,
          48.8191139988755,
          48.871288999353666
         ],
         "legendgroup": " Inde",
         "lon": [
          2.355151000263467,
          2.341761999817612,
          2.3550729999362825
         ],
         "marker": {
          "color": "#FF6692"
         },
         "mode": "markers",
         "name": " Inde",
         "showlegend": true,
         "subplot": "mapbox",
         "type": "scattermapbox"
        },
        {
         "hovertemplate": "<b>%{hovertext}</b><br><br>first_country= Grèce<br>lat=%{lat}<br>lon=%{lon}<extra></extra>",
         "hovertext": [
          "Iannis Xenakis",
          "Démétrius Galanis",
          "Georges Moustaki",
          "Théâtre de l'ABC",
          "Maria Callas",
          "Níkos Kazantzákis"
         ],
         "lat": [
          48.88057299874663,
          48.88770499890701,
          48.85153199895278,
          48.87104999933381,
          48.86802999872291,
          48.849841999126575
         ],
         "legendgroup": " Grèce",
         "lon": [
          2.333709000443781,
          2.340672000120327,
          2.3575790006234034,
          2.345620000233151,
          2.2815360003721983,
          2.3464890004858674
         ],
         "marker": {
          "color": "#B6E880"
         },
         "mode": "markers",
         "name": " Grèce",
         "showlegend": true,
         "subplot": "mapbox",
         "type": "scattermapbox"
        },
        {
         "hovertemplate": "<b>%{hovertext}</b><br><br>first_country= Bolivie<br>lat=%{lat}<br>lon=%{lon}<extra></extra>",
         "hovertext": [
          "Place de Bolivie"
         ],
         "lat": [
          48.85511199884609
         ],
         "legendgroup": " Bolivie",
         "lon": [
          2.2827159996303563
         ],
         "marker": {
          "color": "#FF97FF"
         },
         "mode": "markers",
         "name": " Bolivie",
         "showlegend": true,
         "subplot": "mapbox",
         "type": "scattermapbox"
        },
        {
         "hovertemplate": "<b>%{hovertext}</b><br><br>first_country= Nouvelle-Zélande<br>lat=%{lat}<br>lon=%{lon}<extra></extra>",
         "hovertext": [
          "Warren Lloyd McCrae Harre"
         ],
         "lat": [
          48.85717599937986
         ],
         "legendgroup": " Nouvelle-Zélande",
         "lon": [
          2.3366810004153673
         ],
         "marker": {
          "color": "#FECB52"
         },
         "mode": "markers",
         "name": " Nouvelle-Zélande",
         "showlegend": true,
         "subplot": "mapbox",
         "type": "scattermapbox"
        },
        {
         "hovertemplate": "<b>%{hovertext}</b><br><br>first_country= Lituanie<br>lat=%{lat}<br>lon=%{lon}<extra></extra>",
         "hovertext": [
          "Baruch et Dora Matykanski",
          "Romain Gary"
         ],
         "lat": [
          48.85703999879259,
          48.8531989991338
         ],
         "legendgroup": " Lituanie",
         "lon": [
          2.358800000439155,
          2.323573999343196
         ],
         "marker": {
          "color": "#636efa"
         },
         "mode": "markers",
         "name": " Lituanie",
         "showlegend": true,
         "subplot": "mapbox",
         "type": "scattermapbox"
        },
        {
         "hovertemplate": "<b>%{hovertext}</b><br><br>first_country= Porto Rico<br>lat=%{lat}<br>lon=%{lon}<extra></extra>",
         "hovertext": [
          "Ramón Emeterio Betances"
         ],
         "lat": [
          48.87569999896839
         ],
         "legendgroup": " Porto Rico",
         "lon": [
          2.3414500001444614
         ],
         "marker": {
          "color": "#EF553B"
         },
         "mode": "markers",
         "name": " Porto Rico",
         "showlegend": true,
         "subplot": "mapbox",
         "type": "scattermapbox"
        },
        {
         "hovertemplate": "<b>%{hovertext}</b><br><br>first_country= Cuba<br>lat=%{lat}<br>lon=%{lon}<extra></extra>",
         "hovertext": [
          "Joaquin Albarran",
          "Rafael Padilla (Clown chocolat) et Georges Foottit"
         ],
         "lat": [
          48.86095999951428,
          48.86699199895577
         ],
         "legendgroup": " Cuba",
         "lon": [
          2.323904000357736,
          2.327026000519665
         ],
         "marker": {
          "color": "#00cc96"
         },
         "mode": "markers",
         "name": " Cuba",
         "showlegend": true,
         "subplot": "mapbox",
         "type": "scattermapbox"
        },
        {
         "hovertemplate": "<b>%{hovertext}</b><br><br>first_country= Guatemala<br>lat=%{lat}<br>lon=%{lon}<extra></extra>",
         "hovertext": [
          "Miguel Angel Asturias"
         ],
         "lat": [
          48.87856599890747
         ],
         "legendgroup": " Guatemala",
         "lon": [
          2.3045100004546035
         ],
         "marker": {
          "color": "#ab63fa"
         },
         "mode": "markers",
         "name": " Guatemala",
         "showlegend": true,
         "subplot": "mapbox",
         "type": "scattermapbox"
        },
        {
         "hovertemplate": "<b>%{hovertext}</b><br><br>first_country=France/ Proche Orient<br>lat=%{lat}<br>lon=%{lon}<extra></extra>",
         "hovertext": [
          "Campagne Front d'Orient"
         ],
         "lat": [
          48.88199529874846
         ],
         "legendgroup": "France/ Proche Orient",
         "lon": [
          2.2838584001835085
         ],
         "marker": {
          "color": "#FFA15A"
         },
         "mode": "markers",
         "name": "France/ Proche Orient",
         "showlegend": true,
         "subplot": "mapbox",
         "type": "scattermapbox"
        },
        {
         "hovertemplate": "<b>%{hovertext}</b><br><br>first_country= Bulgarie<br>lat=%{lat}<br>lon=%{lon}<extra></extra>",
         "hovertext": [
          "Jules Pascin",
          "Vasil Levski"
         ],
         "lat": [
          48.866666999414704,
          48.86211399892985
         ],
         "legendgroup": " Bulgarie",
         "lon": [
          2.333332999949055,
          2.301958000393694
         ],
         "marker": {
          "color": "#19d3f3"
         },
         "mode": "markers",
         "name": " Bulgarie",
         "showlegend": true,
         "subplot": "mapbox",
         "type": "scattermapbox"
        },
        {
         "hovertemplate": "<b>%{hovertext}</b><br><br>first_country= République Tchèque<br>lat=%{lat}<br>lon=%{lon}<extra></extra>",
         "hovertext": [
          "Institut d'études slaves",
          "Jaroslav Cermák",
          "Conseil national des Pays tchèques"
         ],
         "lat": [
          48.842359999473736,
          48.88498199934883,
          48.85615499934995
         ],
         "legendgroup": " République Tchèque",
         "lon": [
          2.3354100003065796,
          2.303161000333659,
          2.3339530001264532
         ],
         "marker": {
          "color": "#FF6692"
         },
         "mode": "markers",
         "name": " République Tchèque",
         "showlegend": true,
         "subplot": "mapbox",
         "type": "scattermapbox"
        },
        {
         "hovertemplate": "<b>%{hovertext}</b><br><br>first_country= Chili<br>lat=%{lat}<br>lon=%{lon}<extra></extra>",
         "hovertext": [
          "Pablo Neruda"
         ],
         "lat": [
          48.85729499924229
         ],
         "legendgroup": " Chili",
         "lon": [
          2.3096429996888297
         ],
         "marker": {
          "color": "#B6E880"
         },
         "mode": "markers",
         "name": " Chili",
         "showlegend": true,
         "subplot": "mapbox",
         "type": "scattermapbox"
        },
        {
         "hovertemplate": "<b>%{hovertext}</b><br><br>first_country= Angleterre<br>lat=%{lat}<br>lon=%{lon}<extra></extra>",
         "hovertext": [
          "George Gissing",
          "Traité de Paix du 3 septembre 1783, indépendance des USA"
         ],
         "lat": [
          48.86222799900812,
          48.85642199866072
         ],
         "legendgroup": " Angleterre",
         "lon": [
          2.274755000471419,
          2.3321206994301997
         ],
         "marker": {
          "color": "#FF97FF"
         },
         "mode": "markers",
         "name": " Angleterre",
         "showlegend": true,
         "subplot": "mapbox",
         "type": "scattermapbox"
        },
        {
         "hovertemplate": "<b>%{hovertext}</b><br><br>first_country= Chine<br>lat=%{lat}<br>lon=%{lon}<extra></extra>",
         "hovertext": [
          "Zhou Enlai"
         ],
         "lat": [
          48.83188199919144
         ],
         "legendgroup": " Chine",
         "lon": [
          2.3571769999634937
         ],
         "marker": {
          "color": "#FECB52"
         },
         "mode": "markers",
         "name": " Chine",
         "showlegend": true,
         "subplot": "mapbox",
         "type": "scattermapbox"
        },
        {
         "hovertemplate": "<b>%{hovertext}</b><br><br>first_country= Equateur<br>lat=%{lat}<br>lon=%{lon}<extra></extra>",
         "hovertext": [
          "Jorge Carrera Andrade",
          "Juan Montalvo",
          "Pedro Vincente Moldonado"
         ],
         "lat": [
          48.87733599909651,
          48.88166699912496,
          48.87915399899933
         ],
         "legendgroup": " Equateur",
         "lon": [
          2.311163999428954,
          2.3036110002733268,
          2.3032230001417284
         ],
         "marker": {
          "color": "#636efa"
         },
         "mode": "markers",
         "name": " Equateur",
         "showlegend": true,
         "subplot": "mapbox",
         "type": "scattermapbox"
        },
        {
         "hovertemplate": "<b>%{hovertext}</b><br><br>first_country= Flandres<br>lat=%{lat}<br>lon=%{lon}<extra></extra>",
         "hovertext": [
          "Hôtel de la Chasse"
         ],
         "lat": [
          48.852307999433954
         ],
         "legendgroup": " Flandres",
         "lon": [
          2.330137000199289
         ],
         "marker": {
          "color": "#EF553B"
         },
         "mode": "markers",
         "name": " Flandres",
         "showlegend": true,
         "subplot": "mapbox",
         "type": "scattermapbox"
        },
        {
         "hovertemplate": "<b>%{hovertext}</b><br><br>first_country= Venezuela<br>lat=%{lat}<br>lon=%{lon}<extra></extra>",
         "hovertext": [
          "Reynaldo Hahn",
          "Manuel Palacio-Fajardo"
         ],
         "lat": [
          48.87291199947456,
          48.869069998779
         ],
         "legendgroup": " Venezuela",
         "lon": [
          2.325129999393962,
          2.2902490005534286
         ],
         "marker": {
          "color": "#00cc96"
         },
         "mode": "markers",
         "name": " Venezuela",
         "showlegend": true,
         "subplot": "mapbox",
         "type": "scattermapbox"
        },
        {
         "hovertemplate": "<b>%{hovertext}</b><br><br>first_country= Norvège<br>lat=%{lat}<br>lon=%{lon}<extra></extra>",
         "hovertext": [
          "Knut Hamsun",
          "Victoire de Narvik 1940",
          "Bjørnstjerne Bjørnson"
         ],
         "lat": [
          48.84914599913663,
          48.87666599915285,
          48.864599999514695
         ],
         "legendgroup": " Norvège",
         "lon": [
          2.339835999838686,
          2.312838999318847,
          2.3302950002187717
         ],
         "marker": {
          "color": "#ab63fa"
         },
         "mode": "markers",
         "name": " Norvège",
         "showlegend": true,
         "subplot": "mapbox",
         "type": "scattermapbox"
        },
        {
         "hovertemplate": "<b>%{hovertext}</b><br><br>first_country= Sénégal<br>lat=%{lat}<br>lon=%{lon}<extra></extra>",
         "hovertext": [
          "Cheikh Anta Diop"
         ],
         "lat": [
          48.8486129992701
         ],
         "legendgroup": " Sénégal",
         "lon": [
          2.3480499996924187
         ],
         "marker": {
          "color": "#FFA15A"
         },
         "mode": "markers",
         "name": " Sénégal",
         "showlegend": true,
         "subplot": "mapbox",
         "type": "scattermapbox"
        },
        {
         "hovertemplate": "<b>%{hovertext}</b><br><br>first_country= Uruguay<br>lat=%{lat}<br>lon=%{lon}<extra></extra>",
         "hovertext": [
          "Jean Supervielle"
         ],
         "lat": [
          48.85057999900443
         ],
         "legendgroup": " Uruguay",
         "lon": [
          2.277807999329023
         ],
         "marker": {
          "color": "#19d3f3"
         },
         "mode": "markers",
         "name": " Uruguay",
         "showlegend": true,
         "subplot": "mapbox",
         "type": "scattermapbox"
        },
        {
         "hovertemplate": "<b>%{hovertext}</b><br><br>first_country= Biélorussie<br>lat=%{lat}<br>lon=%{lon}<extra></extra>",
         "hovertext": [
          "Marc Chagall"
         ],
         "lat": [
          48.859032999055984
         ],
         "legendgroup": " Biélorussie",
         "lon": [
          2.2809149996787914
         ],
         "marker": {
          "color": "#FF6692"
         },
         "mode": "markers",
         "name": " Biélorussie",
         "showlegend": true,
         "subplot": "mapbox",
         "type": "scattermapbox"
        },
        {
         "hovertemplate": "<b>%{hovertext}</b><br><br>first_country=Suède<br>lat=%{lat}<br>lon=%{lon}<extra></extra>",
         "hovertext": [
          "Raoul Nordling"
         ],
         "lat": [
          48.8746409987946
         ],
         "legendgroup": "Suède",
         "lon": [
          2.322772999801157
         ],
         "marker": {
          "color": "#B6E880"
         },
         "mode": "markers",
         "name": "Suède",
         "showlegend": true,
         "subplot": "mapbox",
         "type": "scattermapbox"
        },
        {
         "hovertemplate": "<b>%{hovertext}</b><br><br>first_country= Nicaragua<br>lat=%{lat}<br>lon=%{lon}<extra></extra>",
         "hovertext": [
          "Ruben Dario"
         ],
         "lat": [
          48.843413999278475
         ],
         "legendgroup": " Nicaragua",
         "lon": [
          2.3381510000571954
         ],
         "marker": {
          "color": "#FF97FF"
         },
         "mode": "markers",
         "name": " Nicaragua",
         "showlegend": true,
         "subplot": "mapbox",
         "type": "scattermapbox"
        },
        {
         "hovertemplate": "<b>%{hovertext}</b><br><br>first_country= Ile Maurice<br>lat=%{lat}<br>lon=%{lon}<extra></extra>",
         "hovertext": [
          "Hervé Masson"
         ],
         "lat": [
          48.865791399472336
         ],
         "legendgroup": " Ile Maurice",
         "lon": [
          2.389258999344265
         ],
         "marker": {
          "color": "#FECB52"
         },
         "mode": "markers",
         "name": " Ile Maurice",
         "showlegend": true,
         "subplot": "mapbox",
         "type": "scattermapbox"
        },
        {
         "hovertemplate": "<b>%{hovertext}</b><br><br>first_country= Empire Ottoman<br>lat=%{lat}<br>lon=%{lon}<extra></extra>",
         "hovertext": [
          "Oël Moché Guerre 1914-1918"
         ],
         "lat": [
          48.85809999900077
         ],
         "legendgroup": " Empire Ottoman",
         "lon": [
          2.377699999992381
         ],
         "marker": {
          "color": "#636efa"
         },
         "mode": "markers",
         "name": " Empire Ottoman",
         "showlegend": true,
         "subplot": "mapbox",
         "type": "scattermapbox"
        },
        {
         "hovertemplate": "<b>%{hovertext}</b><br><br>first_country= Azerbaïdjan<br>lat=%{lat}<br>lon=%{lon}<extra></extra>",
         "hovertext": [
          "Alimerdan Bey Toptchoubachov"
         ],
         "lat": [
          48.8637019988929
         ],
         "legendgroup": " Azerbaïdjan",
         "lon": [
          2.2786529999670817
         ],
         "marker": {
          "color": "#EF553B"
         },
         "mode": "markers",
         "name": " Azerbaïdjan",
         "showlegend": true,
         "subplot": "mapbox",
         "type": "scattermapbox"
        },
        {
         "hovertemplate": "<b>%{hovertext}</b><br><br>first_country= Vietnam<br>lat=%{lat}<br>lon=%{lon}<extra></extra>",
         "hovertext": [
          "Hô Chi Minh"
         ],
         "lat": [
          48.88746399902204
         ],
         "legendgroup": " Vietnam",
         "lon": [
          2.3198900002716796
         ],
         "marker": {
          "color": "#00cc96"
         },
         "mode": "markers",
         "name": " Vietnam",
         "showlegend": true,
         "subplot": "mapbox",
         "type": "scattermapbox"
        },
        {
         "hovertemplate": "<b>%{hovertext}</b><br><br>first_country= Finlande<br>lat=%{lat}<br>lon=%{lon}<extra></extra>",
         "hovertext": [
          "Charles Baudelaire, Jean Sibelius, Richard Wagner, Oscar Wilde"
         ],
         "lat": [
          48.85875399904718
         ],
         "legendgroup": " Finlande",
         "lon": [
          2.3311639994562166
         ],
         "marker": {
          "color": "#ab63fa"
         },
         "mode": "markers",
         "name": " Finlande",
         "showlegend": true,
         "subplot": "mapbox",
         "type": "scattermapbox"
        },
        {
         "hovertemplate": "<b>%{hovertext}</b><br><br>first_country= ALgérie<br>lat=%{lat}<br>lon=%{lon}<extra></extra>",
         "hovertext": [
          "Abdelkader Guermaz"
         ],
         "lat": [
          48.85906399923576
         ],
         "legendgroup": " ALgérie",
         "lon": [
          2.3406369996566063
         ],
         "marker": {
          "color": "#FFA15A"
         },
         "mode": "markers",
         "name": " ALgérie",
         "showlegend": true,
         "subplot": "mapbox",
         "type": "scattermapbox"
        },
        {
         "hovertemplate": "<b>%{hovertext}</b><br><br>first_country= Autriche-Hongrie<br>lat=%{lat}<br>lon=%{lon}<extra></extra>",
         "hovertext": [
          "Theodor Herzl"
         ],
         "lat": [
          48.86834499915006
         ],
         "legendgroup": " Autriche-Hongrie",
         "lon": [
          2.3268879993519094
         ],
         "marker": {
          "color": "#19d3f3"
         },
         "mode": "markers",
         "name": " Autriche-Hongrie",
         "showlegend": true,
         "subplot": "mapbox",
         "type": "scattermapbox"
        },
        {
         "hovertemplate": "<b>%{hovertext}</b><br><br>first_country= Tibet<br>lat=%{lat}<br>lon=%{lon}<extra></extra>",
         "hovertext": [
          "Philippe-Édouard Foucaux"
         ],
         "lat": [
          48.85510899866308
         ],
         "legendgroup": " Tibet",
         "lon": [
          2.3304429995345246
         ],
         "marker": {
          "color": "#FF6692"
         },
         "mode": "markers",
         "name": " Tibet",
         "showlegend": true,
         "subplot": "mapbox",
         "type": "scattermapbox"
        },
        {
         "hovertemplate": "<b>%{hovertext}</b><br><br>first_country= Corée<br>lat=%{lat}<br>lon=%{lon}<extra></extra>",
         "hovertext": [
          "Guerre de Corée"
         ],
         "lat": [
          48.87377999927595
         ],
         "legendgroup": " Corée",
         "lon": [
          2.2950550004984054
         ],
         "marker": {
          "color": "#B6E880"
         },
         "mode": "markers",
         "name": " Corée",
         "showlegend": true,
         "subplot": "mapbox",
         "type": "scattermapbox"
        },
        {
         "hovertemplate": "<b>%{hovertext}</b><br><br>first_country= Yougoslavie<br>lat=%{lat}<br>lon=%{lon}<extra></extra>",
         "hovertext": [
          "Jean Kopitovitch"
         ],
         "lat": [
          48.84861999931182
         ],
         "legendgroup": " Yougoslavie",
         "lon": [
          2.3394199993934066
         ],
         "marker": {
          "color": "#FF97FF"
         },
         "mode": "markers",
         "name": " Yougoslavie",
         "showlegend": true,
         "subplot": "mapbox",
         "type": "scattermapbox"
        }
       ],
       "layout": {
        "height": 700,
        "legend": {
         "title": {
          "text": "first_country"
         },
         "tracegroupgap": 0
        },
        "mapbox": {
         "center": {
          "lat": 48.858202868807396,
          "lon": 2.3307724709321644
         },
         "domain": {
          "x": [
           0,
           1
          ],
          "y": [
           0,
           1
          ]
         },
         "style": "open-street-map",
         "zoom": 10
        },
        "template": {
         "data": {
          "bar": [
           {
            "error_x": {
             "color": "#2a3f5f"
            },
            "error_y": {
             "color": "#2a3f5f"
            },
            "marker": {
             "line": {
              "color": "#E5ECF6",
              "width": 0.5
             },
             "pattern": {
              "fillmode": "overlay",
              "size": 10,
              "solidity": 0.2
             }
            },
            "type": "bar"
           }
          ],
          "barpolar": [
           {
            "marker": {
             "line": {
              "color": "#E5ECF6",
              "width": 0.5
             },
             "pattern": {
              "fillmode": "overlay",
              "size": 10,
              "solidity": 0.2
             }
            },
            "type": "barpolar"
           }
          ],
          "carpet": [
           {
            "aaxis": {
             "endlinecolor": "#2a3f5f",
             "gridcolor": "white",
             "linecolor": "white",
             "minorgridcolor": "white",
             "startlinecolor": "#2a3f5f"
            },
            "baxis": {
             "endlinecolor": "#2a3f5f",
             "gridcolor": "white",
             "linecolor": "white",
             "minorgridcolor": "white",
             "startlinecolor": "#2a3f5f"
            },
            "type": "carpet"
           }
          ],
          "choropleth": [
           {
            "colorbar": {
             "outlinewidth": 0,
             "ticks": ""
            },
            "type": "choropleth"
           }
          ],
          "contour": [
           {
            "colorbar": {
             "outlinewidth": 0,
             "ticks": ""
            },
            "colorscale": [
             [
              0,
              "#0d0887"
             ],
             [
              0.1111111111111111,
              "#46039f"
             ],
             [
              0.2222222222222222,
              "#7201a8"
             ],
             [
              0.3333333333333333,
              "#9c179e"
             ],
             [
              0.4444444444444444,
              "#bd3786"
             ],
             [
              0.5555555555555556,
              "#d8576b"
             ],
             [
              0.6666666666666666,
              "#ed7953"
             ],
             [
              0.7777777777777778,
              "#fb9f3a"
             ],
             [
              0.8888888888888888,
              "#fdca26"
             ],
             [
              1,
              "#f0f921"
             ]
            ],
            "type": "contour"
           }
          ],
          "contourcarpet": [
           {
            "colorbar": {
             "outlinewidth": 0,
             "ticks": ""
            },
            "type": "contourcarpet"
           }
          ],
          "heatmap": [
           {
            "colorbar": {
             "outlinewidth": 0,
             "ticks": ""
            },
            "colorscale": [
             [
              0,
              "#0d0887"
             ],
             [
              0.1111111111111111,
              "#46039f"
             ],
             [
              0.2222222222222222,
              "#7201a8"
             ],
             [
              0.3333333333333333,
              "#9c179e"
             ],
             [
              0.4444444444444444,
              "#bd3786"
             ],
             [
              0.5555555555555556,
              "#d8576b"
             ],
             [
              0.6666666666666666,
              "#ed7953"
             ],
             [
              0.7777777777777778,
              "#fb9f3a"
             ],
             [
              0.8888888888888888,
              "#fdca26"
             ],
             [
              1,
              "#f0f921"
             ]
            ],
            "type": "heatmap"
           }
          ],
          "heatmapgl": [
           {
            "colorbar": {
             "outlinewidth": 0,
             "ticks": ""
            },
            "colorscale": [
             [
              0,
              "#0d0887"
             ],
             [
              0.1111111111111111,
              "#46039f"
             ],
             [
              0.2222222222222222,
              "#7201a8"
             ],
             [
              0.3333333333333333,
              "#9c179e"
             ],
             [
              0.4444444444444444,
              "#bd3786"
             ],
             [
              0.5555555555555556,
              "#d8576b"
             ],
             [
              0.6666666666666666,
              "#ed7953"
             ],
             [
              0.7777777777777778,
              "#fb9f3a"
             ],
             [
              0.8888888888888888,
              "#fdca26"
             ],
             [
              1,
              "#f0f921"
             ]
            ],
            "type": "heatmapgl"
           }
          ],
          "histogram": [
           {
            "marker": {
             "pattern": {
              "fillmode": "overlay",
              "size": 10,
              "solidity": 0.2
             }
            },
            "type": "histogram"
           }
          ],
          "histogram2d": [
           {
            "colorbar": {
             "outlinewidth": 0,
             "ticks": ""
            },
            "colorscale": [
             [
              0,
              "#0d0887"
             ],
             [
              0.1111111111111111,
              "#46039f"
             ],
             [
              0.2222222222222222,
              "#7201a8"
             ],
             [
              0.3333333333333333,
              "#9c179e"
             ],
             [
              0.4444444444444444,
              "#bd3786"
             ],
             [
              0.5555555555555556,
              "#d8576b"
             ],
             [
              0.6666666666666666,
              "#ed7953"
             ],
             [
              0.7777777777777778,
              "#fb9f3a"
             ],
             [
              0.8888888888888888,
              "#fdca26"
             ],
             [
              1,
              "#f0f921"
             ]
            ],
            "type": "histogram2d"
           }
          ],
          "histogram2dcontour": [
           {
            "colorbar": {
             "outlinewidth": 0,
             "ticks": ""
            },
            "colorscale": [
             [
              0,
              "#0d0887"
             ],
             [
              0.1111111111111111,
              "#46039f"
             ],
             [
              0.2222222222222222,
              "#7201a8"
             ],
             [
              0.3333333333333333,
              "#9c179e"
             ],
             [
              0.4444444444444444,
              "#bd3786"
             ],
             [
              0.5555555555555556,
              "#d8576b"
             ],
             [
              0.6666666666666666,
              "#ed7953"
             ],
             [
              0.7777777777777778,
              "#fb9f3a"
             ],
             [
              0.8888888888888888,
              "#fdca26"
             ],
             [
              1,
              "#f0f921"
             ]
            ],
            "type": "histogram2dcontour"
           }
          ],
          "mesh3d": [
           {
            "colorbar": {
             "outlinewidth": 0,
             "ticks": ""
            },
            "type": "mesh3d"
           }
          ],
          "parcoords": [
           {
            "line": {
             "colorbar": {
              "outlinewidth": 0,
              "ticks": ""
             }
            },
            "type": "parcoords"
           }
          ],
          "pie": [
           {
            "automargin": true,
            "type": "pie"
           }
          ],
          "scatter": [
           {
            "fillpattern": {
             "fillmode": "overlay",
             "size": 10,
             "solidity": 0.2
            },
            "type": "scatter"
           }
          ],
          "scatter3d": [
           {
            "line": {
             "colorbar": {
              "outlinewidth": 0,
              "ticks": ""
             }
            },
            "marker": {
             "colorbar": {
              "outlinewidth": 0,
              "ticks": ""
             }
            },
            "type": "scatter3d"
           }
          ],
          "scattercarpet": [
           {
            "marker": {
             "colorbar": {
              "outlinewidth": 0,
              "ticks": ""
             }
            },
            "type": "scattercarpet"
           }
          ],
          "scattergeo": [
           {
            "marker": {
             "colorbar": {
              "outlinewidth": 0,
              "ticks": ""
             }
            },
            "type": "scattergeo"
           }
          ],
          "scattergl": [
           {
            "marker": {
             "colorbar": {
              "outlinewidth": 0,
              "ticks": ""
             }
            },
            "type": "scattergl"
           }
          ],
          "scattermapbox": [
           {
            "marker": {
             "colorbar": {
              "outlinewidth": 0,
              "ticks": ""
             }
            },
            "type": "scattermapbox"
           }
          ],
          "scatterpolar": [
           {
            "marker": {
             "colorbar": {
              "outlinewidth": 0,
              "ticks": ""
             }
            },
            "type": "scatterpolar"
           }
          ],
          "scatterpolargl": [
           {
            "marker": {
             "colorbar": {
              "outlinewidth": 0,
              "ticks": ""
             }
            },
            "type": "scatterpolargl"
           }
          ],
          "scatterternary": [
           {
            "marker": {
             "colorbar": {
              "outlinewidth": 0,
              "ticks": ""
             }
            },
            "type": "scatterternary"
           }
          ],
          "surface": [
           {
            "colorbar": {
             "outlinewidth": 0,
             "ticks": ""
            },
            "colorscale": [
             [
              0,
              "#0d0887"
             ],
             [
              0.1111111111111111,
              "#46039f"
             ],
             [
              0.2222222222222222,
              "#7201a8"
             ],
             [
              0.3333333333333333,
              "#9c179e"
             ],
             [
              0.4444444444444444,
              "#bd3786"
             ],
             [
              0.5555555555555556,
              "#d8576b"
             ],
             [
              0.6666666666666666,
              "#ed7953"
             ],
             [
              0.7777777777777778,
              "#fb9f3a"
             ],
             [
              0.8888888888888888,
              "#fdca26"
             ],
             [
              1,
              "#f0f921"
             ]
            ],
            "type": "surface"
           }
          ],
          "table": [
           {
            "cells": {
             "fill": {
              "color": "#EBF0F8"
             },
             "line": {
              "color": "white"
             }
            },
            "header": {
             "fill": {
              "color": "#C8D4E3"
             },
             "line": {
              "color": "white"
             }
            },
            "type": "table"
           }
          ]
         },
         "layout": {
          "annotationdefaults": {
           "arrowcolor": "#2a3f5f",
           "arrowhead": 0,
           "arrowwidth": 1
          },
          "autotypenumbers": "strict",
          "coloraxis": {
           "colorbar": {
            "outlinewidth": 0,
            "ticks": ""
           }
          },
          "colorscale": {
           "diverging": [
            [
             0,
             "#8e0152"
            ],
            [
             0.1,
             "#c51b7d"
            ],
            [
             0.2,
             "#de77ae"
            ],
            [
             0.3,
             "#f1b6da"
            ],
            [
             0.4,
             "#fde0ef"
            ],
            [
             0.5,
             "#f7f7f7"
            ],
            [
             0.6,
             "#e6f5d0"
            ],
            [
             0.7,
             "#b8e186"
            ],
            [
             0.8,
             "#7fbc41"
            ],
            [
             0.9,
             "#4d9221"
            ],
            [
             1,
             "#276419"
            ]
           ],
           "sequential": [
            [
             0,
             "#0d0887"
            ],
            [
             0.1111111111111111,
             "#46039f"
            ],
            [
             0.2222222222222222,
             "#7201a8"
            ],
            [
             0.3333333333333333,
             "#9c179e"
            ],
            [
             0.4444444444444444,
             "#bd3786"
            ],
            [
             0.5555555555555556,
             "#d8576b"
            ],
            [
             0.6666666666666666,
             "#ed7953"
            ],
            [
             0.7777777777777778,
             "#fb9f3a"
            ],
            [
             0.8888888888888888,
             "#fdca26"
            ],
            [
             1,
             "#f0f921"
            ]
           ],
           "sequentialminus": [
            [
             0,
             "#0d0887"
            ],
            [
             0.1111111111111111,
             "#46039f"
            ],
            [
             0.2222222222222222,
             "#7201a8"
            ],
            [
             0.3333333333333333,
             "#9c179e"
            ],
            [
             0.4444444444444444,
             "#bd3786"
            ],
            [
             0.5555555555555556,
             "#d8576b"
            ],
            [
             0.6666666666666666,
             "#ed7953"
            ],
            [
             0.7777777777777778,
             "#fb9f3a"
            ],
            [
             0.8888888888888888,
             "#fdca26"
            ],
            [
             1,
             "#f0f921"
            ]
           ]
          },
          "colorway": [
           "#636efa",
           "#EF553B",
           "#00cc96",
           "#ab63fa",
           "#FFA15A",
           "#19d3f3",
           "#FF6692",
           "#B6E880",
           "#FF97FF",
           "#FECB52"
          ],
          "font": {
           "color": "#2a3f5f"
          },
          "geo": {
           "bgcolor": "white",
           "lakecolor": "white",
           "landcolor": "#E5ECF6",
           "showlakes": true,
           "showland": true,
           "subunitcolor": "white"
          },
          "hoverlabel": {
           "align": "left"
          },
          "hovermode": "closest",
          "mapbox": {
           "style": "light"
          },
          "paper_bgcolor": "white",
          "plot_bgcolor": "#E5ECF6",
          "polar": {
           "angularaxis": {
            "gridcolor": "white",
            "linecolor": "white",
            "ticks": ""
           },
           "bgcolor": "#E5ECF6",
           "radialaxis": {
            "gridcolor": "white",
            "linecolor": "white",
            "ticks": ""
           }
          },
          "scene": {
           "xaxis": {
            "backgroundcolor": "#E5ECF6",
            "gridcolor": "white",
            "gridwidth": 2,
            "linecolor": "white",
            "showbackground": true,
            "ticks": "",
            "zerolinecolor": "white"
           },
           "yaxis": {
            "backgroundcolor": "#E5ECF6",
            "gridcolor": "white",
            "gridwidth": 2,
            "linecolor": "white",
            "showbackground": true,
            "ticks": "",
            "zerolinecolor": "white"
           },
           "zaxis": {
            "backgroundcolor": "#E5ECF6",
            "gridcolor": "white",
            "gridwidth": 2,
            "linecolor": "white",
            "showbackground": true,
            "ticks": "",
            "zerolinecolor": "white"
           }
          },
          "shapedefaults": {
           "line": {
            "color": "#2a3f5f"
           }
          },
          "ternary": {
           "aaxis": {
            "gridcolor": "white",
            "linecolor": "white",
            "ticks": ""
           },
           "baxis": {
            "gridcolor": "white",
            "linecolor": "white",
            "ticks": ""
           },
           "bgcolor": "#E5ECF6",
           "caxis": {
            "gridcolor": "white",
            "linecolor": "white",
            "ticks": ""
           }
          },
          "title": {
           "x": 0.05
          },
          "xaxis": {
           "automargin": true,
           "gridcolor": "white",
           "linecolor": "white",
           "ticks": "",
           "title": {
            "standoff": 15
           },
           "zerolinecolor": "white",
           "zerolinewidth": 2
          },
          "yaxis": {
           "automargin": true,
           "gridcolor": "white",
           "linecolor": "white",
           "ticks": "",
           "title": {
            "standoff": 15
           },
           "zerolinecolor": "white",
           "zerolinewidth": 2
          }
         }
        },
        "title": {
         "text": "Carte des plaques",
         "x": 0.5
        }
       }
      }
     },
     "metadata": {},
     "output_type": "display_data"
    }
   ],
   "source": [
    "\n",
    "fig = px.scatter_mapbox(data_sans_na_ni_la_france,lat=\"lat\", lon=\"lon\",  hover_name=\"Titre\", height=700, color='first_country',\n",
    "mapbox_style=\"open-street-map\",title='Carte des plaques',zoom=10,color_continuous_scale=[\"red\",\"orange\",\"yellowgreen\",\"green\"])\n",
    "fig.update_layout(title_x=0.5)\n",
    "fig.show()"
   ]
  },
  {
   "cell_type": "code",
   "execution_count": null,
   "metadata": {},
   "outputs": [],
   "source": []
  }
 ],
 "metadata": {
  "kernelspec": {
   "display_name": "base",
   "language": "python",
   "name": "python3"
  },
  "language_info": {
   "codemirror_mode": {
    "name": "ipython",
    "version": 3
   },
   "file_extension": ".py",
   "mimetype": "text/x-python",
   "name": "python",
   "nbconvert_exporter": "python",
   "pygments_lexer": "ipython3",
   "version": "3.12.4"
  }
 },
 "nbformat": 4,
 "nbformat_minor": 2
}
