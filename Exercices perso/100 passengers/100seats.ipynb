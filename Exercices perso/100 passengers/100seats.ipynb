{
 "cells": [
  {
   "cell_type": "code",
   "execution_count": 5,
   "metadata": {},
   "outputs": [
    {
     "name": "stdout",
     "output_type": "stream",
     "text": [
      "Les sièges à la fin\n",
      "['10', '2', '3', '4', '5', '1', '7', '8', '9', '6']\n",
      "\n",
      "Le dernier passager n'est pas dans son siège attribué\n"
     ]
    }
   ],
   "source": [
    "import random\n",
    "\n",
    "passengers = int(input(\"Number of passengers?\"))\n",
    "\n",
    "list_passengers=[]\n",
    "list_seats=[]\n",
    "for i in range(0,passengers):\n",
    "    list_seats.append(\"0\")\n",
    "    list_passengers.append(i+1)\n",
    "\n",
    "# index du premier siege attribué au hasard\n",
    "index_premier_siege = random.randint(0,passengers-1)\n",
    "list_seats[index_premier_siege]= \"1\"\n",
    "#print(f\"Le premier passager prend aléatoirement le siège {index_premier_siege+1} (index {index_premier_siege})\")\n",
    "#print(\"\")\n",
    "\n",
    "\n",
    "# Les listes ont des index qui commencent à 0 mais les valeurs commencent à 1\n",
    "\n",
    "# On fait les autres passagers donc on commence à l'index 1\n",
    "for i in range(1,len(list_passengers)):\n",
    "    # i = l'index du passager \n",
    "\n",
    "    index_siege_par_defaut = i\n",
    "    \n",
    "    \n",
    "    while(list_seats[index_siege_par_defaut]!=\"0\"):\n",
    "        index_siege_par_defaut=random.randint(0,passengers-1)\n",
    "    \n",
    "    list_seats[index_siege_par_defaut]=str(i+1)\n",
    "    #print(f\"Le passager numéro {i+1} prend le siège {index_siege_par_defaut+1}\")  \n",
    "    #print(\"\")\n",
    "\n",
    "print(\"Les sièges à la fin\")\n",
    "print(list_seats)\n",
    "print(\"\")\n",
    "\n",
    "index_dernier = passengers-1\n",
    "\n",
    "dernier_passager = list_passengers[index_dernier]\n",
    "dernier_siege = list_seats[index_dernier]\n",
    "\n",
    "if(int(dernier_passager)==int(dernier_siege)):\n",
    "    print(\"Le dernier passager est dans son siège attribué\")\n",
    "else:\n",
    "    print(\"Le dernier passager n'est pas dans son siège attribué\")"
   ]
  },
  {
   "cell_type": "code",
   "execution_count": null,
   "metadata": {},
   "outputs": [],
   "source": []
  }
 ],
 "metadata": {
  "kernelspec": {
   "display_name": "base",
   "language": "python",
   "name": "python3"
  },
  "language_info": {
   "codemirror_mode": {
    "name": "ipython",
    "version": 3
   },
   "file_extension": ".py",
   "mimetype": "text/x-python",
   "name": "python",
   "nbconvert_exporter": "python",
   "pygments_lexer": "ipython3",
   "version": "3.12.4"
  }
 },
 "nbformat": 4,
 "nbformat_minor": 2
}
