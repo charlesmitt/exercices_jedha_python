{
 "cells": [
  {
   "cell_type": "code",
   "execution_count": 1,
   "metadata": {},
   "outputs": [
    {
     "name": "stdout",
     "output_type": "stream",
     "text": [
      "['Hello', 'World', 'from', 'Bondy']\n"
     ]
    }
   ],
   "source": [
    "items = [\"Hello\", \"World\", \"from\", \"Bondy\"]\n",
    "\n",
    "print(items)"
   ]
  },
  {
   "cell_type": "code",
   "execution_count": 3,
   "metadata": {},
   "outputs": [
    {
     "name": "stdout",
     "output_type": "stream",
     "text": [
      "Hello\n",
      "World\n",
      "from\n",
      "Bondy\n"
     ]
    }
   ],
   "source": [
    "print(items[0])\n",
    "print(items[1])\n",
    "print(items[2])\n",
    "print(items[3])"
   ]
  },
  {
   "cell_type": "code",
   "execution_count": 4,
   "metadata": {},
   "outputs": [
    {
     "name": "stdout",
     "output_type": "stream",
     "text": [
      "Hello\n",
      "World\n",
      "from\n",
      "Bondy\n"
     ]
    }
   ],
   "source": [
    "for item in items:\n",
    "    print(item)"
   ]
  },
  {
   "cell_type": "code",
   "execution_count": 5,
   "metadata": {},
   "outputs": [
    {
     "name": "stdout",
     "output_type": "stream",
     "text": [
      "Hello\n",
      "World\n",
      "from\n",
      "Bondy\n"
     ]
    }
   ],
   "source": [
    "length = len(items)\n",
    "\n",
    "for i in range(length):\n",
    "    print(items[i])"
   ]
  },
  {
   "cell_type": "code",
   "execution_count": 6,
   "metadata": {},
   "outputs": [
    {
     "name": "stdout",
     "output_type": "stream",
     "text": [
      "(0, 'Hello')\n",
      "(1, 'World')\n",
      "(2, 'from')\n",
      "(3, 'Bondy')\n"
     ]
    }
   ],
   "source": [
    "for item in enumerate(items):\n",
    "    print(item)"
   ]
  },
  {
   "cell_type": "code",
   "execution_count": 7,
   "metadata": {},
   "outputs": [
    {
     "name": "stdout",
     "output_type": "stream",
     "text": [
      "Item Hello has index 0\n",
      "Item World has index 1\n",
      "Item from has index 2\n",
      "Item Bondy has index 3\n"
     ]
    }
   ],
   "source": [
    "for i, item in enumerate(items):\n",
    "    print(\"Item {} has index {}\".format(item, i))"
   ]
  },
  {
   "cell_type": "code",
   "execution_count": null,
   "metadata": {},
   "outputs": [],
   "source": []
  }
 ],
 "metadata": {
  "kernelspec": {
   "display_name": "base",
   "language": "python",
   "name": "python3"
  },
  "language_info": {
   "codemirror_mode": {
    "name": "ipython",
    "version": 3
   },
   "file_extension": ".py",
   "mimetype": "text/x-python",
   "name": "python",
   "nbconvert_exporter": "python",
   "pygments_lexer": "ipython3",
   "version": "3.12.4"
  }
 },
 "nbformat": 4,
 "nbformat_minor": 2
}
