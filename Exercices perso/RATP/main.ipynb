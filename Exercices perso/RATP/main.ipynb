{
 "cells": [
  {
   "cell_type": "code",
   "execution_count": 1,
   "metadata": {},
   "outputs": [],
   "source": [
    "import plotly.express as px\n",
    "import pandas as pd\n",
    "import numpy as np\n",
    "import seaborn as sns\n",
    "import datetime\n",
    "import requests\n",
    "import random\n",
    "import csv\n",
    "from dotenv import load_dotenv   #for python-dotenv method\n",
    "load_dotenv()                    #for python-dotenv method\n",
    "import os"
   ]
  },
  {
   "cell_type": "markdown",
   "metadata": {},
   "source": [
    "ON CHARGE LES LISTES DES LIGNES ET DES ARRETS\n"
   ]
  },
  {
   "cell_type": "code",
   "execution_count": 2,
   "metadata": {},
   "outputs": [],
   "source": [
    "df_lignes = pd.read_csv('src/referentiel-des-lignes.csv', sep=';', index_col='ID_Line')\n",
    "df_arrets = pd.read_csv('src/arrets.csv', sep=';', index_col='ArRId')"
   ]
  },
  {
   "cell_type": "markdown",
   "metadata": {},
   "source": [
    "LES DONNEES QU'ON VEUT UTILISER POUR L'INSTANT"
   ]
  },
  {
   "cell_type": "code",
   "execution_count": 3,
   "metadata": {},
   "outputs": [],
   "source": [
    "ar_prof_vaillant = '21611'\n",
    "ar_bondy_rer = '41013'\n",
    "ar_fdc = '463048'\n",
    "ar_ob = '463059' #> Bobigny\n",
    "ar_ob2='21905' #> Place d'Italie\n",
    "\n",
    "# Tous les arrêts de Bondy\n",
    "liste_arrets_bondy = df_arrets[df_arrets['ArRTown']=='Bondy'].reset_index()\n",
    "liste_arrets_bondy_li = liste_arrets_bondy['ArRId'].to_list()\n",
    "\n",
    "li_E = 'C01729'\n",
    "li_105 = 'C01134'\n",
    "li_5 = 'C01375'\n",
    "li_9 ='C01379'\n",
    "\n",
    "# ON GARDE UNE LISTE DES INFOS RECUPEREES \n",
    "infos_messages = []\n",
    "infos_horaires = []"
   ]
  },
  {
   "cell_type": "markdown",
   "metadata": {},
   "source": [
    "FONCTIONS DE RECHERCHE DES INFOS D'UNE LIGNE ET D'UN ARRET A PARTIR DE SON CODE"
   ]
  },
  {
   "cell_type": "code",
   "execution_count": 4,
   "metadata": {},
   "outputs": [],
   "source": [
    "def get_line_name(s):\n",
    "    line = s[-7:-1]\n",
    "    if (pd.isnull(df_lignes.loc[line]['NetworkName'])):\n",
    "         ret = df_lignes.loc[line]['TransportMode'] +' '+f\"{df_lignes.loc[line]['ShortName_Line']}\"\n",
    "    else: \n",
    "        ret = df_lignes.loc[line]['NetworkName']+' '+f\"{df_lignes.loc[line]['ShortName_Line']}\"\n",
    "        \n",
    "    return ret\n",
    "\n",
    "def get_stop_name(s):\n",
    "    arret = s[-6:-1]\n",
    "    nom = df_arrets.loc[int(arret)]['ArRName']\n",
    "    return nom"
   ]
  },
  {
   "cell_type": "markdown",
   "metadata": {},
   "source": [
    "\"MESSAGES AFFICHES SUR LES ECRANS\""
   ]
  },
  {
   "cell_type": "code",
   "execution_count": 5,
   "metadata": {},
   "outputs": [],
   "source": [
    "url = \"https://prim.iledefrance-mobilites.fr/marketplace/general-message?\"\n",
    "headers = {'apiKey': os.environ.get('RATP')}\n",
    "p = {'StopPointRef' : f'STIF:StopPoint:Q:{ar_bondy_rer}:'}\n",
    "#p = {'LineRef':f'STIF:Line::{li_E}:'}\n",
    "\n",
    "response = requests.get(url, headers=headers, params=p)"
   ]
  },
  {
   "cell_type": "code",
   "execution_count": null,
   "metadata": {},
   "outputs": [],
   "source": [
    "response.json()"
   ]
  },
  {
   "cell_type": "code",
   "execution_count": 6,
   "metadata": {},
   "outputs": [],
   "source": [
    "isMessages = len(response.json()['Siri']['ServiceDelivery']['GeneralMessageDelivery'][0]['InfoMessage'])>0\n",
    "list_messages=[]\n",
    "if isMessages:\n",
    "    arret = response.json()['Siri']['ServiceDelivery']['GeneralMessageDelivery'][0]['InfoMessage'][0]['Content']['StopPointRef'][0]['value']\n",
    "    list_messages = response.json().get(\"Siri\").get(\"ServiceDelivery\").get('GeneralMessageDelivery')[0].get('InfoMessage')\n",
    "\n",
    "for i in list_messages:\n",
    "    arret_name = get_stop_name(arret)\n",
    "    type_message = i['InfoChannelRef']['value']\n",
    "    message = i.get('Content').get('Message')[0].get('MessageText').get('value')\n",
    "    sysdate = datetime.datetime.strftime(datetime.datetime.now(),\"%Y-%m-%d %H:%M:%S\")\n",
    " \n",
    "    infos_messages.append({\"arret\":arret_name, \"message\": message, \"type_message\":type_message,\"sysdate\": sysdate})\n",
    "    #print(message)"
   ]
  },
  {
   "cell_type": "code",
   "execution_count": 7,
   "metadata": {},
   "outputs": [
    {
     "data": {
      "text/plain": [
       "[{'arret': 'Gare de Bondy',\n",
       "  'message': 'De Magenta vers Nanterre-La-Folie : suppression',\n",
       "  'type_message': 'Perturbation',\n",
       "  'sysdate': '2024-11-29 10:58:20'},\n",
       " {'arret': 'Gare de Bondy',\n",
       "  'message': 'Pour votre sécurité, nous vous invitons à ne laisser aucun bagage sans surveillance. Veuillez nous signaler tout colis ou bagage qui vous paraitrait abandonné.Merci de votre vigilance',\n",
       "  'type_message': 'Information',\n",
       "  'sysdate': '2024-11-29 10:58:20'},\n",
       " {'arret': 'Gare de Bondy',\n",
       "  'message': 'RER E et Ligne P. En soirée la semaine et les week-ends, des travaux ont lieu sur vos lignes avec mise en place de bus de remplacement.',\n",
       "  'type_message': 'Perturbation',\n",
       "  'sysdate': '2024-11-29 10:58:20'},\n",
       " {'arret': 'Gare de Bondy',\n",
       "  'message': 'En raison des conditions climatiques, les sols peuvent être glissants. Merci de rester vigilants lors de vos déplacements.',\n",
       "  'type_message': 'Information',\n",
       "  'sysdate': '2024-11-29 10:58:20'}]"
      ]
     },
     "execution_count": 7,
     "metadata": {},
     "output_type": "execute_result"
    }
   ],
   "source": [
    "infos_messages"
   ]
  },
  {
   "cell_type": "markdown",
   "metadata": {},
   "source": [
    "PROCHAINS PASSAGES"
   ]
  },
  {
   "cell_type": "code",
   "execution_count": 8,
   "metadata": {},
   "outputs": [],
   "source": [
    "\n",
    "url = \"https://prim.iledefrance-mobilites.fr/marketplace/stop-monitoring?\"\n",
    "headers = {'apiKey': os.environ.get('RATP')}\n",
    "p = {'MonitoringRef' : f'STIF:StopPoint:Q:{ar_ob}:'}\n",
    "\n",
    "\n",
    "response = requests.get(url, headers=headers, params=p)"
   ]
  },
  {
   "cell_type": "code",
   "execution_count": null,
   "metadata": {},
   "outputs": [],
   "source": [
    "response.json()"
   ]
  },
  {
   "cell_type": "markdown",
   "metadata": {},
   "source": [
    "ON RECUPERE LE NOM DE L'ARRET ET LES DIFFERENTES DESTINATIONS"
   ]
  },
  {
   "cell_type": "code",
   "execution_count": 9,
   "metadata": {},
   "outputs": [
    {
     "name": "stdout",
     "output_type": "stream",
     "text": [
      "Arrêt : Oberkampf\n",
      "Directions : ['Bobigny-Pablo-Picasso']\n"
     ]
    }
   ],
   "source": [
    "arret = response.json()['Siri']['ServiceDelivery']['StopMonitoringDelivery'][0]['MonitoredStopVisit'][0]['MonitoredVehicleJourney']['MonitoredCall']['StopPointName'][0]['value']\n",
    "direction = response.json()['Siri']['ServiceDelivery']['StopMonitoringDelivery'][0]['MonitoredStopVisit'][0]['MonitoredVehicleJourney']['DestinationName'][0]['value']\n",
    "\n",
    "\n",
    "dir_names = []\n",
    "directions = response.json()['Siri']['ServiceDelivery']['StopMonitoringDelivery'][0]['MonitoredStopVisit']\n",
    "\n",
    "for d in directions:\n",
    "    dir_name =d['MonitoredVehicleJourney']['DestinationName'][0]['value']\n",
    "    if dir_name not in dir_names:\n",
    "        dir_names.append(dir_name)\n",
    "\n",
    "print(f\"Arrêt : {arret}\")\n",
    "print(f\"Directions : {dir_names}\")"
   ]
  },
  {
   "cell_type": "code",
   "execution_count": 9,
   "metadata": {},
   "outputs": [
    {
     "name": "stdout",
     "output_type": "stream",
     "text": [
      "Direction > Bobigny-Pablo-Picasso\n",
      "metro 5\n",
      "Prochain départ > 2024-11-29 10:58:14.564000\n",
      "**************************************************\n",
      "Direction > Bobigny-Pablo-Picasso\n",
      "metro 5\n",
      "Prochain départ > 2024-11-29 11:02:13.572000\n",
      "**************************************************\n",
      "Direction > Bobigny-Pablo-Picasso\n",
      "metro 5\n",
      "Prochain départ > 2024-11-29 11:05:31.625000\n",
      "**************************************************\n",
      "Direction > Bobigny-Pablo-Picasso\n",
      "metro 5\n",
      "Prochain départ > 2024-11-29 11:08:28.574000\n",
      "**************************************************\n"
     ]
    }
   ],
   "source": [
    "\n",
    "list_passages = response.json()['Siri']['ServiceDelivery']['StopMonitoringDelivery'][0]['MonitoredStopVisit']\n",
    "\n",
    "for i in list_passages:\n",
    "    horaire= {}\n",
    "\n",
    "    # HEURE PROCHAIN PASSAGE\n",
    "    str_date = i['MonitoredVehicleJourney']['MonitoredCall']['ExpectedDepartureTime']\n",
    "    date_and_time = datetime.datetime.strptime(str_date, \"%Y-%m-%dT%H:%M:%S.%fZ\")+datetime.timedelta(hours=1)\n",
    "    str_prochain_passage = datetime.datetime.strftime(date_and_time,\"%Y-%m-%d %H:%M:%S\")\n",
    "\n",
    "    # DIRECTION \n",
    "    direction = i['MonitoredVehicleJourney']['DestinationName'][0]['value']\n",
    "   \n",
    "    # LIGNE\n",
    "    ligne = get_line_name(i['MonitoredVehicleJourney']['LineRef']['value'])\n",
    "    if len(i['MonitoredVehicleJourney']['JourneyNote'])>0:\n",
    "        ligne += f\" - {i['MonitoredVehicleJourney']['JourneyNote'][0]['value']}\"\n",
    "    \n",
    "    if True:\n",
    "        print(f\"Direction > {direction}\")\n",
    "        print(ligne)\n",
    "        print(f\"Prochain départ > {date_and_time}\")\n",
    "        print(\"*\"*50)\n",
    "\n",
    "    # ON SAUVEGARDE LES INFOS DANS UNE LISTE\n",
    "    horaire.update({'arret':arret,\n",
    "                    'ligne':ligne, \n",
    "                    'direction':direction, \n",
    "                    'passage':str_prochain_passage})\n",
    "    infos_horaires.append(horaire)\n"
   ]
  },
  {
   "cell_type": "code",
   "execution_count": 11,
   "metadata": {},
   "outputs": [
    {
     "name": "stdout",
     "output_type": "stream",
     "text": [
      "[{'arret': 'Oberkampf', 'ligne': 'metro 5', 'direction': 'Bobigny-Pablo-Picasso', 'passage': '2024-11-27 12:03:38'}, {'arret': 'Oberkampf', 'ligne': 'metro 5', 'direction': 'Bobigny-Pablo-Picasso', 'passage': '2024-11-27 12:07:17'}, {'arret': 'Oberkampf', 'ligne': 'metro 5', 'direction': 'Bobigny-Pablo-Picasso', 'passage': '2024-11-27 12:10:48'}, {'arret': 'Oberkampf', 'ligne': 'metro 5', 'direction': 'Bobigny-Pablo-Picasso', 'passage': '2024-11-27 12:14:11'}]\n"
     ]
    }
   ],
   "source": [
    "print(infos_horaires)"
   ]
  },
  {
   "cell_type": "markdown",
   "metadata": {},
   "source": [
    "SAUVEGARDE DES INFOS EN CSV"
   ]
  },
  {
   "cell_type": "code",
   "execution_count": 12,
   "metadata": {},
   "outputs": [],
   "source": [
    "if (len(infos_messages)>0):\n",
    "    with open('src/backup_messages.csv', 'a') as csvfile:\n",
    "        writer = csv.DictWriter(csvfile, fieldnames=infos_messages[0].keys())\n",
    "        writer.writeheader()\n",
    "        writer.writerows(infos_messages)\n",
    "\n",
    "if (len(infos_horaires)>0):\n",
    "    with open('src/backup_horaires.csv', 'a') as csvfile:\n",
    "        writer = csv.DictWriter(csvfile, fieldnames=infos_horaires[0].keys())\n",
    "        writer.writeheader()\n",
    "        writer.writerows(infos_horaires)"
   ]
  },
  {
   "cell_type": "markdown",
   "metadata": {},
   "source": [
    "ESSAIS METRO"
   ]
  },
  {
   "cell_type": "code",
   "execution_count": 13,
   "metadata": {},
   "outputs": [
    {
     "data": {
      "text/html": [
       "<div>\n",
       "<style scoped>\n",
       "    .dataframe tbody tr th:only-of-type {\n",
       "        vertical-align: middle;\n",
       "    }\n",
       "\n",
       "    .dataframe tbody tr th {\n",
       "        vertical-align: top;\n",
       "    }\n",
       "\n",
       "    .dataframe thead th {\n",
       "        text-align: right;\n",
       "    }\n",
       "</style>\n",
       "<table border=\"1\" class=\"dataframe\">\n",
       "  <thead>\n",
       "    <tr style=\"text-align: right;\">\n",
       "      <th></th>\n",
       "      <th>ArRVersion</th>\n",
       "      <th>ArRCreated</th>\n",
       "      <th>ArRChanged</th>\n",
       "      <th>ArRName</th>\n",
       "      <th>ArRType</th>\n",
       "      <th>ArRXEpsg2154</th>\n",
       "      <th>ArRYEpsg2154</th>\n",
       "      <th>ArRTown</th>\n",
       "      <th>ArRPostalRegion</th>\n",
       "      <th>ArRAccessibility</th>\n",
       "      <th>ArRAudibleSignals</th>\n",
       "      <th>ArRVisualSigns</th>\n",
       "      <th>ArRFareZone</th>\n",
       "      <th>ZdAId</th>\n",
       "      <th>ArRGeopoint</th>\n",
       "    </tr>\n",
       "    <tr>\n",
       "      <th>ArRId</th>\n",
       "      <th></th>\n",
       "      <th></th>\n",
       "      <th></th>\n",
       "      <th></th>\n",
       "      <th></th>\n",
       "      <th></th>\n",
       "      <th></th>\n",
       "      <th></th>\n",
       "      <th></th>\n",
       "      <th></th>\n",
       "      <th></th>\n",
       "      <th></th>\n",
       "      <th></th>\n",
       "      <th></th>\n",
       "      <th></th>\n",
       "    </tr>\n",
       "  </thead>\n",
       "  <tbody>\n",
       "    <tr>\n",
       "      <th>463059</th>\n",
       "      <td>1022249-45193</td>\n",
       "      <td>2019-01-28T00:00:00+01:00</td>\n",
       "      <td>2021-05-04T17:56:37+02:00</td>\n",
       "      <td>Oberkampf</td>\n",
       "      <td>metro</td>\n",
       "      <td>653679</td>\n",
       "      <td>6862920</td>\n",
       "      <td>Paris 11e</td>\n",
       "      <td>75111</td>\n",
       "      <td>false</td>\n",
       "      <td>true</td>\n",
       "      <td>true</td>\n",
       "      <td>1</td>\n",
       "      <td>45193</td>\n",
       "      <td>48.86464456515162, 2.368604562580775</td>\n",
       "    </tr>\n",
       "    <tr>\n",
       "      <th>21905</th>\n",
       "      <td>1022328-45193</td>\n",
       "      <td>2014-12-29T00:00:00+01:00</td>\n",
       "      <td>2021-05-04T17:56:37+02:00</td>\n",
       "      <td>Oberkampf</td>\n",
       "      <td>metro</td>\n",
       "      <td>653674</td>\n",
       "      <td>6862913</td>\n",
       "      <td>Paris 11e</td>\n",
       "      <td>75111</td>\n",
       "      <td>false</td>\n",
       "      <td>true</td>\n",
       "      <td>true</td>\n",
       "      <td>1</td>\n",
       "      <td>45193</td>\n",
       "      <td>48.86458119805383, 2.3685262686038393</td>\n",
       "    </tr>\n",
       "    <tr>\n",
       "      <th>463054</th>\n",
       "      <td>1022319-45193</td>\n",
       "      <td>2019-01-28T00:00:00+01:00</td>\n",
       "      <td>2021-05-04T17:56:37+02:00</td>\n",
       "      <td>Oberkampf</td>\n",
       "      <td>metro</td>\n",
       "      <td>653652</td>\n",
       "      <td>6862945</td>\n",
       "      <td>Paris 11e</td>\n",
       "      <td>75111</td>\n",
       "      <td>false</td>\n",
       "      <td>true</td>\n",
       "      <td>true</td>\n",
       "      <td>1</td>\n",
       "      <td>45193</td>\n",
       "      <td>48.86487188758151, 2.368223670880745</td>\n",
       "    </tr>\n",
       "    <tr>\n",
       "      <th>21925</th>\n",
       "      <td>1022311-45193</td>\n",
       "      <td>2014-12-29T00:00:00+01:00</td>\n",
       "      <td>2021-05-04T17:56:37+02:00</td>\n",
       "      <td>Oberkampf</td>\n",
       "      <td>metro</td>\n",
       "      <td>653647</td>\n",
       "      <td>6862935</td>\n",
       "      <td>Paris 11e</td>\n",
       "      <td>75111</td>\n",
       "      <td>false</td>\n",
       "      <td>true</td>\n",
       "      <td>true</td>\n",
       "      <td>1</td>\n",
       "      <td>45193</td>\n",
       "      <td>48.86477709850769, 2.368155845394551</td>\n",
       "    </tr>\n",
       "  </tbody>\n",
       "</table>\n",
       "</div>"
      ],
      "text/plain": [
       "           ArRVersion                 ArRCreated                 ArRChanged  \\\n",
       "ArRId                                                                         \n",
       "463059  1022249-45193  2019-01-28T00:00:00+01:00  2021-05-04T17:56:37+02:00   \n",
       "21905   1022328-45193  2014-12-29T00:00:00+01:00  2021-05-04T17:56:37+02:00   \n",
       "463054  1022319-45193  2019-01-28T00:00:00+01:00  2021-05-04T17:56:37+02:00   \n",
       "21925   1022311-45193  2014-12-29T00:00:00+01:00  2021-05-04T17:56:37+02:00   \n",
       "\n",
       "          ArRName ArRType  ArRXEpsg2154  ArRYEpsg2154    ArRTown  \\\n",
       "ArRId                                                              \n",
       "463059  Oberkampf   metro        653679       6862920  Paris 11e   \n",
       "21905   Oberkampf   metro        653674       6862913  Paris 11e   \n",
       "463054  Oberkampf   metro        653652       6862945  Paris 11e   \n",
       "21925   Oberkampf   metro        653647       6862935  Paris 11e   \n",
       "\n",
       "        ArRPostalRegion ArRAccessibility ArRAudibleSignals ArRVisualSigns  \\\n",
       "ArRId                                                                       \n",
       "463059            75111            false              true           true   \n",
       "21905             75111            false              true           true   \n",
       "463054            75111            false              true           true   \n",
       "21925             75111            false              true           true   \n",
       "\n",
       "       ArRFareZone  ZdAId                            ArRGeopoint  \n",
       "ArRId                                                             \n",
       "463059           1  45193   48.86464456515162, 2.368604562580775  \n",
       "21905            1  45193  48.86458119805383, 2.3685262686038393  \n",
       "463054           1  45193   48.86487188758151, 2.368223670880745  \n",
       "21925            1  45193   48.86477709850769, 2.368155845394551  "
      ]
     },
     "execution_count": 13,
     "metadata": {},
     "output_type": "execute_result"
    }
   ],
   "source": [
    "mask = df_arrets['ArRType']==\"metro\"\n",
    "\n",
    "mask = df_arrets['ArRName']==\"Oberkampf\"\n",
    "df_arrets[mask]"
   ]
  },
  {
   "cell_type": "code",
   "execution_count": 14,
   "metadata": {},
   "outputs": [
    {
     "name": "stdout",
     "output_type": "stream",
     "text": [
      "Arrêt : Oberkampf\n",
      "Direction : Bobigny-Pablo-Picasso\n",
      "Direction : Bobigny-Pablo-Picasso\n",
      "Direction : Bobigny-Pablo-Picasso\n",
      "Direction : Bobigny-Pablo-Picasso\n"
     ]
    }
   ],
   "source": [
    "arret = response.json()['Siri']['ServiceDelivery']['StopMonitoringDelivery'][0]['MonitoredStopVisit'][0]['MonitoredVehicleJourney']['MonitoredCall']['StopPointName'][0]['value']\n",
    "directions = response.json()['Siri']['ServiceDelivery']['StopMonitoringDelivery'][0]['MonitoredStopVisit']\n",
    "#\n",
    "print(f\"Arrêt : {arret}\")\n",
    "for d in directions:\n",
    "    print(f\"Direction : {d['MonitoredVehicleJourney']['DestinationName'][0]['value']}\")\n",
    "    "
   ]
  },
  {
   "cell_type": "code",
   "execution_count": 15,
   "metadata": {},
   "outputs": [],
   "source": [
    "\n",
    "url = \"https://prim.iledefrance-mobilites.fr/marketplace/general-message?\"\n",
    "headers = {'apiKey': os.environ.get('RATP')}\n",
    "p = {'StopPointRef' : f'STIF:StopPoint:Q:{ar_ob}:'}\n",
    "\n",
    "response = requests.get(url, headers=headers, params=p)\n",
    "\n"
   ]
  },
  {
   "cell_type": "code",
   "execution_count": 16,
   "metadata": {},
   "outputs": [],
   "source": [
    "list_messages = response.json().get(\"Siri\").get(\"ServiceDelivery\").get('GeneralMessageDelivery')[0].get('InfoMessage')\n",
    "\n",
    "for i in list_messages:\n",
    "    print(i.get('Content').get('Message')[0].get('MessageText').get('value'))"
   ]
  },
  {
   "cell_type": "markdown",
   "metadata": {},
   "source": [
    "LISTE HORAIRES POUR LISTE d'ARRETS"
   ]
  },
  {
   "cell_type": "code",
   "execution_count": null,
   "metadata": {},
   "outputs": [],
   "source": [
    "\n",
    "url = \"https://prim.iledefrance-mobilites.fr/marketplace/stop-monitoring?\"\n",
    "headers = {'apiKey': os.environ.get('RATP')}\n",
    "\n",
    "for l in liste_arrets_bondy_li:\n",
    "    p = {'MonitoringRef' : f'STIF:StopPoint:Q:{l}:'}\n",
    "\n",
    "\n",
    "    response = requests.get(url, headers=headers, params=p)\n",
    "    \n",
    "    try:\n",
    "        arret = response.json()['Siri']['ServiceDelivery']['StopMonitoringDelivery'][0]['MonitoredStopVisit'][0]['MonitoredVehicleJourney']['MonitoredCall']['StopPointName'][0]['value']\n",
    "        direction = response.json()['Siri']['ServiceDelivery']['StopMonitoringDelivery'][0]['MonitoredStopVisit'][0]['MonitoredVehicleJourney']['DestinationName'][0]['value']\n",
    "\n",
    "\n",
    "        dir_names = []\n",
    "        directions = response.json()['Siri']['ServiceDelivery']['StopMonitoringDelivery'][0]['MonitoredStopVisit']\n",
    "\n",
    "        list_passages = response.json()['Siri']['ServiceDelivery']['StopMonitoringDelivery'][0]['MonitoredStopVisit']\n",
    "\n",
    "        for i in list_passages:\n",
    "            horaire= {}\n",
    "\n",
    "            # HEURE PROCHAIN PASSAGE\n",
    "            str_date = i['MonitoredVehicleJourney']['MonitoredCall']['ExpectedDepartureTime']\n",
    "            date_and_time = datetime.datetime.strptime(str_date, \"%Y-%m-%dT%H:%M:%S.%fZ\")+datetime.timedelta(hours=1)\n",
    "            str_prochain_passage = datetime.datetime.strftime(date_and_time,\"%Y-%m-%d %H:%M:%S\")\n",
    "\n",
    "            # DIRECTION \n",
    "            direction = i['MonitoredVehicleJourney']['DestinationName'][0]['value']\n",
    "        \n",
    "            # LIGNE\n",
    "            ligne = get_line_name(i['MonitoredVehicleJourney']['LineRef']['value'])\n",
    "            if len(i['MonitoredVehicleJourney']['JourneyNote'])>0:\n",
    "                ligne += f\" - {i['MonitoredVehicleJourney']['JourneyNote'][0]['value']}\"\n",
    "            \n",
    "            if True:\n",
    "                print(f\"Direction > {direction}\")\n",
    "                print(ligne)\n",
    "                print(f\"Prochain départ > {date_and_time}\")\n",
    "                print(\"*\"*50)\n",
    "\n",
    "            # ON SAUVEGARDE LES INFOS DANS UNE LISTE\n",
    "            horaire.update({'arret':arret,\n",
    "                            'ligne':ligne, \n",
    "                            'direction':direction, \n",
    "                            'passage':str_prochain_passage})\n",
    "            infos_horaires.append(horaire)\n",
    "\n",
    "    except:\n",
    "        print(f\"PAS D'INFOs POUR {l}\")"
   ]
  },
  {
   "cell_type": "markdown",
   "metadata": {},
   "source": [
    "SAUVEGARDE DES HORAIRES"
   ]
  },
  {
   "cell_type": "code",
   "execution_count": null,
   "metadata": {},
   "outputs": [],
   "source": [
    "if (len(infos_horaires)>0):\n",
    "    with open('src/backup_horaires.csv', 'a') as csvfile:\n",
    "        writer = csv.DictWriter(csvfile, fieldnames=infos_horaires[0].keys())\n",
    "        writer.writeheader()\n",
    "        writer.writerows(infos_horaires)"
   ]
  }
 ],
 "metadata": {
  "kernelspec": {
   "display_name": "base",
   "language": "python",
   "name": "python3"
  },
  "language_info": {
   "codemirror_mode": {
    "name": "ipython",
    "version": 3
   },
   "file_extension": ".py",
   "mimetype": "text/x-python",
   "name": "python",
   "nbconvert_exporter": "python",
   "pygments_lexer": "ipython3",
   "version": "3.12.4"
  }
 },
 "nbformat": 4,
 "nbformat_minor": 2
}
