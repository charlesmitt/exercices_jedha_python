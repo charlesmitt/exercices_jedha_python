{
 "cells": [
  {
   "cell_type": "code",
   "execution_count": 435,
   "metadata": {},
   "outputs": [],
   "source": [
    "import plotly.express as px\n",
    "import pandas as pd\n",
    "import numpy as np\n",
    "import seaborn as sns\n",
    "import datetime\n",
    "import requests\n",
    "import random\n",
    "import csv\n",
    "from dotenv import load_dotenv   #for python-dotenv method\n",
    "load_dotenv()                    #for python-dotenv method\n",
    "import os"
   ]
  },
  {
   "cell_type": "markdown",
   "metadata": {},
   "source": [
    "ON CHARGE LES LISTES DES LIGNES ET DES ARRETS\n"
   ]
  },
  {
   "cell_type": "code",
   "execution_count": 425,
   "metadata": {},
   "outputs": [],
   "source": [
    "df_lignes = pd.read_csv('src/referentiel-des-lignes.csv', sep=';', index_col='ID_Line')\n",
    "df_arrets = pd.read_csv('src/arrets.csv', sep=';', index_col='ArRId')"
   ]
  },
  {
   "cell_type": "markdown",
   "metadata": {},
   "source": [
    "LES DONNEES QU'ON VEUT UTILISER POUR L'INSTANT"
   ]
  },
  {
   "cell_type": "code",
   "execution_count": 426,
   "metadata": {},
   "outputs": [],
   "source": [
    "ar_prof_vaillant = '21611'\n",
    "ar_bondy_rer = '41013'\n",
    "ar_fdc = '463048'\n",
    "ar_ob = '463059'\n",
    "\n",
    "li_E = 'C01729'\n",
    "li_105 = 'C01134'\n",
    "\n",
    "# ON GARDE UNE LISTE DES INFOS RECUPEREES \n",
    "infos_messages = []\n",
    "infos_horaires = []"
   ]
  },
  {
   "cell_type": "markdown",
   "metadata": {},
   "source": [
    "FONCTIONS DE RECHERCHE DES INFOS D'UNE LIGNE ET D'UN ARRET"
   ]
  },
  {
   "cell_type": "code",
   "execution_count": 427,
   "metadata": {},
   "outputs": [],
   "source": [
    "def get_line_name(s):\n",
    "    line = s[-7:-1]\n",
    "    if (pd.isnull(df_lignes.loc[line]['NetworkName'])):\n",
    "         ret = df_lignes.loc[line]['TransportMode'] +' '+f\"{df_lignes.loc[line]['ShortName_Line']}\"\n",
    "    else: \n",
    "        ret = df_lignes.loc[line]['NetworkName']+' '+f\"{df_lignes.loc[line]['ShortName_Line']}\"\n",
    "        \n",
    "    return ret\n",
    "\n",
    "def get_stop_name(s):\n",
    "    arret = s[-6:-1]\n",
    "    nom = df_arrets.loc[int(arret)]['ArRName']\n",
    "    return nom"
   ]
  },
  {
   "cell_type": "markdown",
   "metadata": {},
   "source": [
    "\"MESSAGES AFFICHES SUR LES ECRANS\""
   ]
  },
  {
   "cell_type": "code",
   "execution_count": 440,
   "metadata": {},
   "outputs": [],
   "source": [
    "url = \"https://prim.iledefrance-mobilites.fr/marketplace/general-message?\"\n",
    "headers = {'apiKey': os.environ.get('RATP')}\n",
    "p = {'StopPointRef' : f'STIF:StopPoint:Q:{ar_bondy_rer}:'}\n",
    "\n",
    "response = requests.get(url, headers=headers, params=p)"
   ]
  },
  {
   "cell_type": "code",
   "execution_count": 441,
   "metadata": {},
   "outputs": [],
   "source": [
    "arret = response.json()['Siri']['ServiceDelivery']['GeneralMessageDelivery'][0]['InfoMessage'][0]['Content']['StopPointRef'][0]['value']\n",
    "list_messages = response.json().get(\"Siri\").get(\"ServiceDelivery\").get('GeneralMessageDelivery')[0].get('InfoMessage')\n",
    "\n",
    "for i in list_messages:\n",
    "    arret_name = get_stop_name(arret)\n",
    "    type_message = i['InfoChannelRef']['value']\n",
    "    message = i.get('Content').get('Message')[0].get('MessageText').get('value')\n",
    "    sysdate = datetime.datetime.strftime(datetime.datetime.now(),\"%Y-%m-%d %H:%M:%S\")\n",
    " \n",
    "    infos_messages.append({\"arret\":arret_name, \"message\": message, \"type_message\":type_message,\"sysdate\": sysdate})\n",
    "    #print(message)"
   ]
  },
  {
   "cell_type": "code",
   "execution_count": 442,
   "metadata": {},
   "outputs": [
    {
     "data": {
      "text/plain": [
       "[{'arret': 'Gare de Bondy',\n",
       "  'message': 'Pour votre sécurité, nous vous invitons à ne laisser aucun bagage sans surveillance. Veuillez nous signaler tout colis ou bagage qui vous paraitrait abandonné.Merci de votre vigilance',\n",
       "  'type_message': 'Information',\n",
       "  'sysdate': '2024-11-24 15:58:00'},\n",
       " {'arret': 'Gare de Bondy',\n",
       "  'message': \"23-24/11 jusqu'à 16H : Rosa Parks non desservie dans les 2 sens et Pantin non desservie en direction de Paris. Motif : Travaux.\",\n",
       "  'type_message': 'Perturbation',\n",
       "  'sysdate': '2024-11-24 15:58:00'},\n",
       " {'arret': 'Gare de Bondy',\n",
       "  'message': \"23/11-24/11 jusqu'à 16H : Les trains de l'axe Chelles et Tournan sont au départ et à l'arrivée de Paris Est. Motif : travaux\",\n",
       "  'type_message': 'Perturbation',\n",
       "  'sysdate': '2024-11-24 15:58:00'},\n",
       " {'arret': 'Gare de Bondy',\n",
       "  'message': 'Pour votre sécurité, nous vous invitons à ne laisser aucun bagage sans surveillance. Veuillez nous signaler tout colis ou bagage qui vous paraitrait abandonné.Merci de votre vigilance',\n",
       "  'type_message': 'Information',\n",
       "  'sysdate': '2024-11-24 16:11:17'},\n",
       " {'arret': 'Gare de Bondy',\n",
       "  'message': \"23-24/11 jusqu'à 16H : Rosa Parks non desservie dans les 2 sens et Pantin non desservie en direction de Paris. Motif : Travaux.\",\n",
       "  'type_message': 'Perturbation',\n",
       "  'sysdate': '2024-11-24 16:11:17'},\n",
       " {'arret': 'Gare de Bondy',\n",
       "  'message': \"23/11-24/11 jusqu'à 16H : Les trains de l'axe Chelles et Tournan sont au départ et à l'arrivée de Paris Est. Motif : travaux\",\n",
       "  'type_message': 'Perturbation',\n",
       "  'sysdate': '2024-11-24 16:11:17'}]"
      ]
     },
     "execution_count": 442,
     "metadata": {},
     "output_type": "execute_result"
    }
   ],
   "source": [
    "infos_messages"
   ]
  },
  {
   "cell_type": "markdown",
   "metadata": {},
   "source": [
    "PROCHAINS PASSAGES"
   ]
  },
  {
   "cell_type": "code",
   "execution_count": 431,
   "metadata": {},
   "outputs": [],
   "source": [
    "\n",
    "url = \"https://prim.iledefrance-mobilites.fr/marketplace/stop-monitoring?\"\n",
    "headers = {'apiKey': os.environ.get('RATP')}\n",
    "p = {'MonitoringRef' : f'STIF:StopPoint:Q:{ar_prof_vaillant}:'}\n",
    "\n",
    "\n",
    "response = requests.get(url, headers=headers, params=p)"
   ]
  },
  {
   "cell_type": "code",
   "execution_count": null,
   "metadata": {},
   "outputs": [],
   "source": [
    "response.json()"
   ]
  },
  {
   "cell_type": "markdown",
   "metadata": {},
   "source": [
    "ON RECUPERE LE NOM DE L'ARRET ET LES DIFFERENTES DESTINATIONS"
   ]
  },
  {
   "cell_type": "code",
   "execution_count": 432,
   "metadata": {},
   "outputs": [
    {
     "name": "stdout",
     "output_type": "stream",
     "text": [
      "Arrêt : Professeur Vaillant\n",
      "Directions : ['Porte des Lilas']\n"
     ]
    }
   ],
   "source": [
    "arret = response.json()['Siri']['ServiceDelivery']['StopMonitoringDelivery'][0]['MonitoredStopVisit'][0]['MonitoredVehicleJourney']['MonitoredCall']['StopPointName'][0]['value']\n",
    "direction = response.json()['Siri']['ServiceDelivery']['StopMonitoringDelivery'][0]['MonitoredStopVisit'][0]['MonitoredVehicleJourney']['DestinationName'][0]['value']\n",
    "\n",
    "\n",
    "dir_names = []\n",
    "directions = response.json()['Siri']['ServiceDelivery']['StopMonitoringDelivery'][0]['MonitoredStopVisit']\n",
    "\n",
    "for d in directions:\n",
    "    dir_name =d['MonitoredVehicleJourney']['DestinationName'][0]['value']\n",
    "    if dir_name not in dir_names:\n",
    "        dir_names.append(dir_name)\n",
    "\n",
    "print(f\"Arrêt : {arret}\")\n",
    "print(f\"Directions : {dir_names}\")"
   ]
  },
  {
   "cell_type": "code",
   "execution_count": 433,
   "metadata": {},
   "outputs": [
    {
     "name": "stdout",
     "output_type": "stream",
     "text": [
      "Direction > Porte des Lilas\n",
      "bus 105\n",
      "Prochain départ > 2024-11-24 16:06:13\n",
      "**************************************************\n",
      "Direction > Porte des Lilas\n",
      "bus 105\n",
      "Prochain départ > 2024-11-24 16:24:36\n",
      "**************************************************\n"
     ]
    }
   ],
   "source": [
    "\n",
    "list_passages = response.json()['Siri']['ServiceDelivery']['StopMonitoringDelivery'][0]['MonitoredStopVisit']\n",
    "\n",
    "for i in list_passages:\n",
    "    horaire= {}\n",
    "\n",
    "    # HEURE PROCHAIN PASSAGE\n",
    "    str_date = i['MonitoredVehicleJourney']['MonitoredCall']['ExpectedDepartureTime']\n",
    "    date_and_time = datetime.datetime.strptime(str_date, \"%Y-%m-%dT%H:%M:%S.%fZ\")+datetime.timedelta(hours=1)\n",
    "    str_prochain_passage = datetime.datetime.strftime(date_and_time,\"%Y-%m-%d %H:%M:%S\")\n",
    "\n",
    "    # DIRECTION \n",
    "    direction = i['MonitoredVehicleJourney']['DestinationName'][0]['value']\n",
    "   \n",
    "    # LIGNE\n",
    "    ligne = get_line_name(i['MonitoredVehicleJourney']['LineRef']['value'])\n",
    "    if len(i['MonitoredVehicleJourney']['JourneyNote'])>0:\n",
    "        ligne += f\" - {i['MonitoredVehicleJourney']['JourneyNote'][0]['value']}\"\n",
    "    \n",
    "    if True:\n",
    "        print(f\"Direction > {direction}\")\n",
    "        print(ligne)\n",
    "        print(f\"Prochain départ > {date_and_time}\")\n",
    "        print(\"*\"*50)\n",
    "\n",
    "    # ON SAUVEGARDE LES INFOS DANS UNE LISTE\n",
    "    horaire.update({'arret':arret,\n",
    "                    'ligne':ligne, \n",
    "                    'direction':direction, \n",
    "                    'passage':str_prochain_passage})\n",
    "    infos_horaires.append(horaire)\n"
   ]
  },
  {
   "cell_type": "code",
   "execution_count": 434,
   "metadata": {},
   "outputs": [
    {
     "data": {
      "text/plain": [
       "[{'arret': 'Professeur Vaillant',\n",
       "  'ligne': 'bus 105',\n",
       "  'direction': 'Porte des Lilas',\n",
       "  'passage': '2024-11-24 16:06:13'},\n",
       " {'arret': 'Professeur Vaillant',\n",
       "  'ligne': 'bus 105',\n",
       "  'direction': 'Porte des Lilas',\n",
       "  'passage': '2024-11-24 16:24:36'}]"
      ]
     },
     "execution_count": 434,
     "metadata": {},
     "output_type": "execute_result"
    }
   ],
   "source": [
    "infos_horaires"
   ]
  },
  {
   "cell_type": "markdown",
   "metadata": {},
   "source": [
    "SAUVEGARDE DES INFOS EN CSV"
   ]
  },
  {
   "cell_type": "code",
   "execution_count": null,
   "metadata": {},
   "outputs": [],
   "source": [
    "with open('src/backup_messages.csv', 'a') as csvfile:\n",
    "    writer = csv.DictWriter(csvfile, fieldnames=infos_messages[0].keys())\n",
    "    writer.writeheader()\n",
    "    writer.writerows(infos_messages)\n",
    "\n",
    "\n",
    "with open('src/backup_horaires.csv', 'a') as csvfile:\n",
    "    writer = csv.DictWriter(csvfile, fieldnames=infos_horaires[0].keys())\n",
    "    writer.writeheader()\n",
    "    writer.writerows(infos_horaires)"
   ]
  },
  {
   "cell_type": "markdown",
   "metadata": {},
   "source": [
    "ESSAIS METRO"
   ]
  },
  {
   "cell_type": "code",
   "execution_count": null,
   "metadata": {},
   "outputs": [],
   "source": [
    "mask = df_arrets['ArRType']==\"metro\"\n",
    "\n",
    "mask = df_arrets['ArRName']==\"Oberkampf\"\n",
    "df_arrets[mask]"
   ]
  },
  {
   "cell_type": "code",
   "execution_count": null,
   "metadata": {},
   "outputs": [],
   "source": [
    "arret = response.json()['Siri']['ServiceDelivery']['StopMonitoringDelivery'][0]['MonitoredStopVisit'][0]['MonitoredVehicleJourney']['MonitoredCall']['StopPointName'][0]['value']\n",
    "directions = response.json()['Siri']['ServiceDelivery']['StopMonitoringDelivery'][0]['MonitoredStopVisit']\n",
    "#\n",
    "print(f\"Arrêt : {arret}\")\n",
    "for d in directions:\n",
    "    print(f\"Direction : {d['MonitoredVehicleJourney']['DestinationName'][0]['value']}\")\n",
    "    "
   ]
  },
  {
   "cell_type": "code",
   "execution_count": null,
   "metadata": {},
   "outputs": [],
   "source": [
    "\n",
    "url = \"https://prim.iledefrance-mobilites.fr/marketplace/general-message?\"\n",
    "headers = {'apiKey': os.environ.get('RATP')}\n",
    "p = {'StopPointRef' : f'STIF:StopPoint:Q:{ar_ob}:'}\n",
    "\n",
    "response = requests.get(url, headers=headers, params=p)\n",
    "\n"
   ]
  },
  {
   "cell_type": "code",
   "execution_count": null,
   "metadata": {},
   "outputs": [],
   "source": [
    "response.content"
   ]
  },
  {
   "cell_type": "code",
   "execution_count": null,
   "metadata": {},
   "outputs": [],
   "source": [
    "list_messages = response.json().get(\"Siri\").get(\"ServiceDelivery\").get('GeneralMessageDelivery')[0].get('InfoMessage')\n",
    "\n",
    "for i in list_messages:\n",
    "    print(i.get('Content').get('Message')[0].get('MessageText').get('value'))"
   ]
  }
 ],
 "metadata": {
  "kernelspec": {
   "display_name": "base",
   "language": "python",
   "name": "python3"
  },
  "language_info": {
   "codemirror_mode": {
    "name": "ipython",
    "version": 3
   },
   "file_extension": ".py",
   "mimetype": "text/x-python",
   "name": "python",
   "nbconvert_exporter": "python",
   "pygments_lexer": "ipython3",
   "version": "3.12.4"
  }
 },
 "nbformat": 4,
 "nbformat_minor": 2
}
