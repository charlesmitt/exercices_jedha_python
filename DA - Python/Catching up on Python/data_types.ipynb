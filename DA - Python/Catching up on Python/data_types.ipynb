{
 "cells": [
  {
   "cell_type": "code",
   "execution_count": 1,
   "metadata": {},
   "outputs": [
    {
     "name": "stdout",
     "output_type": "stream",
     "text": [
      "Hello\n",
      "I\n",
      "Michel\n",
      "am\n"
     ]
    }
   ],
   "source": [
    "michel = [\"Hello\", \"I\", \"Michel\", \"am\"]\n",
    "\n",
    "for i in michel:\n",
    "    print(i)"
   ]
  },
  {
   "cell_type": "code",
   "execution_count": 2,
   "metadata": {},
   "outputs": [
    {
     "name": "stdout",
     "output_type": "stream",
     "text": [
      "Hello\n",
      "I\n",
      "am\n",
      "Michel\n"
     ]
    }
   ],
   "source": [
    "michel = [\"Hello\", \"I\", \"Michel\", \"am\"]\n",
    "\n",
    "mi = michel.pop(2)\n",
    "michel.append(mi)\n",
    "\n",
    "\n",
    "for i in michel:\n",
    "    print(i)"
   ]
  },
  {
   "cell_type": "code",
   "execution_count": 18,
   "metadata": {},
   "outputs": [
    {
     "name": "stdout",
     "output_type": "stream",
     "text": [
      "5\n",
      "avant\n",
      "[12, 34, 16, 58, 9]\n",
      "après\n",
      "[9, 34, 16, 58, 12]\n",
      "avant\n",
      "[9, 34, 16, 58, 12]\n",
      "après\n",
      "[9, 16, 34, 58, 12]\n",
      "avant\n",
      "[9, 16, 34, 58, 12]\n",
      "après\n",
      "[9, 12, 34, 58, 16]\n",
      "avant\n",
      "[9, 12, 34, 58, 16]\n",
      "après\n",
      "[9, 12, 16, 58, 34]\n",
      "avant\n",
      "[9, 12, 16, 58, 34]\n",
      "après\n",
      "[9, 12, 16, 34, 58]\n",
      "[9, 12, 16, 34, 58]\n"
     ]
    }
   ],
   "source": [
    "age = [12, 34, 16, 58, 9]\n",
    "\n",
    "nb_elem = len(age)\n",
    "print(nb_elem)\n",
    "\n",
    "for i in range(0, nb_elem):\n",
    "    \n",
    "    for b in range(i+1,nb_elem):\n",
    "    \n",
    "        if(age[i]>age[b]):\n",
    "            age[i], age[b]=age[b],age[i]\n",
    "\n",
    "#age.sort()\n",
    "print(age)"
   ]
  },
  {
   "cell_type": "code",
   "execution_count": 39,
   "metadata": {},
   "outputs": [
    {
     "name": "stdout",
     "output_type": "stream",
     "text": [
      "Luke Skywalker is 172 cm tall and weighs 77 kg. He was born in 19BBY\n",
      "Luke Skywalker is 172 cm tall and weighs 77 kg. He was born in 19BBY\n"
     ]
    }
   ],
   "source": [
    "import requests\n",
    "request = requests.get(\"https://swapi.dev/api/people/1/\")\n",
    "dic = request.json()\n",
    "\n",
    "\n",
    "\n",
    "print(\"{} is {} cm tall and weighs {} kg. He was born in {}\".format(dic['name'], dic['height'], dic['mass'], dic['birth_year']))\n",
    "\n",
    "\n",
    "print(f\"{dic['name']} is {dic['height']} cm tall and weighs {dic['mass']} kg. He was born in {dic['birth_year']}\")\n"
   ]
  },
  {
   "cell_type": "code",
   "execution_count": 50,
   "metadata": {},
   "outputs": [
    {
     "name": "stdout",
     "output_type": "stream",
     "text": [
      "Luke Skywalker is 172 cm tall and weighs 77 kg. He was born in 19BBY\n",
      "C-3PO is 167 cm tall and weighs 75 kg. He was born in 112BBY\n",
      "R2-D2 is 96 cm tall and weighs 32 kg. He was born in 33BBY\n",
      "Darth Vader is 202 cm tall and weighs 136 kg. He was born in 41.9BBY\n",
      "Leia Organa is 150 cm tall and weighs 49 kg. She was born in 19BBY\n",
      "Owen Lars is 178 cm tall and weighs 120 kg. He was born in 52BBY\n",
      "Beru Whitesun lars is 165 cm tall and weighs 75 kg. She was born in 47BBY\n",
      "R5-D4 is 97 cm tall and weighs 32 kg. He was born in unknown\n",
      "Biggs Darklighter is 183 cm tall and weighs 84 kg. He was born in 24BBY\n",
      "Obi-Wan Kenobi is 182 cm tall and weighs 77 kg. He was born in 57BBY\n",
      "Anakin Skywalker is 188 cm tall and weighs 84 kg. He was born in 41.9BBY\n",
      "Wilhuff Tarkin is 180 cm tall and weighs unknown kg. He was born in 64BBY\n",
      "Chewbacca is 228 cm tall and weighs 112 kg. He was born in 200BBY\n",
      "Han Solo is 180 cm tall and weighs 80 kg. He was born in 29BBY\n",
      "Greedo is 173 cm tall and weighs 74 kg. He was born in 44BBY\n"
     ]
    }
   ],
   "source": [
    "import requests\n",
    "\n",
    "for i in range(1, 17):\n",
    "    request = requests.get(f\"https://swapi.dev/api/people/{i}/\")\n",
    "    dic = request.json()\n",
    "\n",
    "    if (dic['gender']==\"female\"):\n",
    "        print(f\"{dic['name']} is {dic['height']} cm tall and weighs {dic['mass']} kg. She was born in {dic['birth_year']}\")\n",
    "    else:\n",
    "        print(f\"{dic['name']} is {dic['height']} cm tall and weighs {dic['mass']} kg. He was born in {dic['birth_year']}\")\n",
    "\n",
    "\n",
    "\n",
    "\n",
    "\n",
    "\n"
   ]
  },
  {
   "cell_type": "code",
   "execution_count": 54,
   "metadata": {},
   "outputs": [],
   "source": [
    "del sum"
   ]
  },
  {
   "cell_type": "code",
   "execution_count": 59,
   "metadata": {},
   "outputs": [
    {
     "name": "stdout",
     "output_type": "stream",
     "text": [
      "On average, users travelled 156.0 km to get to work.\n"
     ]
    }
   ],
   "source": [
    "kilometres_travelled = [50, 10, 100, 25, 1000, 21, 12,30]\n",
    "\n",
    "sum = 0\n",
    "for i in kilometres_travelled:\n",
    "    sum += i/len(kilometres_travelled)\n",
    "\n",
    "print(f\"On average, users travelled {sum} km to get to work.\")"
   ]
  },
  {
   "cell_type": "code",
   "execution_count": 65,
   "metadata": {},
   "outputs": [
    {
     "name": "stdout",
     "output_type": "stream",
     "text": [
      "On average, users travelled 35.42857142857142 km to get to work.\n"
     ]
    }
   ],
   "source": [
    "kilometres_travelled = [30,35,36,37,24,25,61]\n",
    "\n",
    "sum = 0\n",
    "for i in kilometres_travelled:\n",
    "    sum += i/len(kilometres_travelled)\n",
    "\n",
    "print(f\"On average, users travelled {sum} km to get to work.\")"
   ]
  },
  {
   "cell_type": "code",
   "execution_count": null,
   "metadata": {},
   "outputs": [],
   "source": []
  }
 ],
 "metadata": {
  "kernelspec": {
   "display_name": "base",
   "language": "python",
   "name": "python3"
  },
  "language_info": {
   "codemirror_mode": {
    "name": "ipython",
    "version": 3
   },
   "file_extension": ".py",
   "mimetype": "text/x-python",
   "name": "python",
   "nbconvert_exporter": "python",
   "pygments_lexer": "ipython3",
   "version": "3.12.4"
  }
 },
 "nbformat": 4,
 "nbformat_minor": 2
}
