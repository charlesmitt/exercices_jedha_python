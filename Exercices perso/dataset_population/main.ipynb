{
 "cells": [
  {
   "cell_type": "code",
   "execution_count": 5,
   "metadata": {},
   "outputs": [
    {
     "name": "stderr",
     "output_type": "stream",
     "text": [
      "C:\\Users\\Admin\\AppData\\Local\\Temp\\ipykernel_10476\\627746763.py:3: DtypeWarning: Columns (0) have mixed types. Specify dtype option on import or set low_memory=False.\n",
      "  data = pd.read_csv(\"data/DS_RP_POPULATION_PRINC_data.csv\", sep=\";\")\n"
     ]
    },
    {
     "data": {
      "text/html": [
       "<div>\n",
       "<style scoped>\n",
       "    .dataframe tbody tr th:only-of-type {\n",
       "        vertical-align: middle;\n",
       "    }\n",
       "\n",
       "    .dataframe tbody tr th {\n",
       "        vertical-align: top;\n",
       "    }\n",
       "\n",
       "    .dataframe thead th {\n",
       "        text-align: right;\n",
       "    }\n",
       "</style>\n",
       "<table border=\"1\" class=\"dataframe\">\n",
       "  <thead>\n",
       "    <tr style=\"text-align: right;\">\n",
       "      <th></th>\n",
       "      <th>GEO</th>\n",
       "      <th>GEO_OBJECT</th>\n",
       "      <th>SEX</th>\n",
       "      <th>EMPSTA_ENQ</th>\n",
       "      <th>AGE</th>\n",
       "      <th>HAR</th>\n",
       "      <th>RP_MEASURE</th>\n",
       "      <th>CIVIL_STATUS</th>\n",
       "      <th>TIME_PERIOD</th>\n",
       "      <th>OBS_VALUE</th>\n",
       "    </tr>\n",
       "  </thead>\n",
       "  <tbody>\n",
       "    <tr>\n",
       "      <th>0</th>\n",
       "      <td>44107</td>\n",
       "      <td>UU2020</td>\n",
       "      <td>_T</td>\n",
       "      <td>33</td>\n",
       "      <td>Y_GE15</td>\n",
       "      <td>_T</td>\n",
       "      <td>POP</td>\n",
       "      <td>_T</td>\n",
       "      <td>2021</td>\n",
       "      <td>241.43284</td>\n",
       "    </tr>\n",
       "    <tr>\n",
       "      <th>1</th>\n",
       "      <td>41202</td>\n",
       "      <td>UU2020</td>\n",
       "      <td>_T</td>\n",
       "      <td>33</td>\n",
       "      <td>Y_GE15</td>\n",
       "      <td>_T</td>\n",
       "      <td>POP</td>\n",
       "      <td>_T</td>\n",
       "      <td>2021</td>\n",
       "      <td>272.34522</td>\n",
       "    </tr>\n",
       "    <tr>\n",
       "      <th>2</th>\n",
       "      <td>38102</td>\n",
       "      <td>UU2020</td>\n",
       "      <td>_T</td>\n",
       "      <td>33</td>\n",
       "      <td>Y_GE15</td>\n",
       "      <td>_T</td>\n",
       "      <td>POP</td>\n",
       "      <td>_T</td>\n",
       "      <td>2021</td>\n",
       "      <td>91.31346</td>\n",
       "    </tr>\n",
       "    <tr>\n",
       "      <th>3</th>\n",
       "      <td>46106</td>\n",
       "      <td>UU2020</td>\n",
       "      <td>_T</td>\n",
       "      <td>33</td>\n",
       "      <td>Y_GE15</td>\n",
       "      <td>_T</td>\n",
       "      <td>POP</td>\n",
       "      <td>_T</td>\n",
       "      <td>2021</td>\n",
       "      <td>164.43183</td>\n",
       "    </tr>\n",
       "    <tr>\n",
       "      <th>4</th>\n",
       "      <td>35221</td>\n",
       "      <td>UU2020</td>\n",
       "      <td>_T</td>\n",
       "      <td>33</td>\n",
       "      <td>Y_GE15</td>\n",
       "      <td>_T</td>\n",
       "      <td>POP</td>\n",
       "      <td>_T</td>\n",
       "      <td>2021</td>\n",
       "      <td>546.04913</td>\n",
       "    </tr>\n",
       "  </tbody>\n",
       "</table>\n",
       "</div>"
      ],
      "text/plain": [
       "     GEO GEO_OBJECT SEX EMPSTA_ENQ     AGE HAR RP_MEASURE CIVIL_STATUS  \\\n",
       "0  44107     UU2020  _T         33  Y_GE15  _T        POP           _T   \n",
       "1  41202     UU2020  _T         33  Y_GE15  _T        POP           _T   \n",
       "2  38102     UU2020  _T         33  Y_GE15  _T        POP           _T   \n",
       "3  46106     UU2020  _T         33  Y_GE15  _T        POP           _T   \n",
       "4  35221     UU2020  _T         33  Y_GE15  _T        POP           _T   \n",
       "\n",
       "   TIME_PERIOD  OBS_VALUE  \n",
       "0         2021  241.43284  \n",
       "1         2021  272.34522  \n",
       "2         2021   91.31346  \n",
       "3         2021  164.43183  \n",
       "4         2021  546.04913  "
      ]
     },
     "execution_count": 5,
     "metadata": {},
     "output_type": "execute_result"
    }
   ],
   "source": [
    "import pandas as pd\n",
    "\n",
    "data = pd.read_csv(\"data/DS_RP_POPULATION_PRINC_data.csv\", sep=\";\")\n",
    "meta = pd.read_csv(\"data/DS_RP_POPULATION_PRINC_metadata.csv\", sep=\";\")\n",
    "data.head()\n"
   ]
  },
  {
   "cell_type": "code",
   "execution_count": 6,
   "metadata": {},
   "outputs": [
    {
     "data": {
      "text/plain": [
       "GEO             6101001\n",
       "GEO_OBJECT      6101001\n",
       "SEX             6101001\n",
       "EMPSTA_ENQ      6101001\n",
       "AGE             6101001\n",
       "HAR             6101001\n",
       "RP_MEASURE      6101001\n",
       "CIVIL_STATUS    6101001\n",
       "TIME_PERIOD     6101001\n",
       "OBS_VALUE       6101001\n",
       "dtype: int64"
      ]
     },
     "execution_count": 6,
     "metadata": {},
     "output_type": "execute_result"
    }
   ],
   "source": [
    "data.count()"
   ]
  },
  {
   "cell_type": "code",
   "execution_count": 14,
   "metadata": {},
   "outputs": [
    {
     "name": "stdout",
     "output_type": "stream",
     "text": [
      "Sun 10 May 2015 13:54:36 -0700\n",
      "25200.0\n",
      "Sat 02 May 2015 19:54:36 +0530\n",
      "88200.0\n"
     ]
    }
   ],
   "source": [
    "#!/bin/python3\n",
    "\n",
    "import math\n",
    "import os\n",
    "import random\n",
    "import re\n",
    "import sys\n",
    "import datetime as d\n",
    "\n",
    "# Complete the time_delta function below.\n",
    "def time_delta(t1, t2):\n",
    "    print(t1)\n",
    "    date1 = d.datetime.strptime(t1, '%a %d %B %Y %H:%M:%S %z') \n",
    "    date2 = d.datetime.strptime(t2, '%a %d %B %Y %H:%M:%S %z') \n",
    "    return date1-date2\n",
    "\n",
    "if __name__ == '__main__':\n",
    "\n",
    "    t1 = \"Sun 10 May 2015 13:54:36 -0700\"\n",
    "    t2 = \"Sun 10 May 2015 13:54:36 -0000\"\n",
    "    delta = time_delta(t1, t2)\n",
    "    print(delta.total_seconds())\n",
    "    t1 = \"Sat 02 May 2015 19:54:36 +0530\"\n",
    "    t2 = \"Fri 01 May 2015 13:54:36 -0000\"   \n",
    "    delta = time_delta(t1, t2)\n",
    "    print(delta.total_seconds())\n",
    "\n",
    "\n",
    "\n",
    "    "
   ]
  },
  {
   "cell_type": "code",
   "execution_count": null,
   "metadata": {},
   "outputs": [],
   "source": [
    "2\n",
    "Sun 10 May 2015 13:54:36 -0700\n",
    "Sun 10 May 2015 13:54:36 -0000\n",
    "Sat 02 May 2015 19:54:36 +0530\n",
    "Fri 01 May 2015 13:54:36 -0000"
   ]
  },
  {
   "cell_type": "code",
   "execution_count": null,
   "metadata": {},
   "outputs": [],
   "source": []
  }
 ],
 "metadata": {
  "kernelspec": {
   "display_name": "base",
   "language": "python",
   "name": "python3"
  },
  "language_info": {
   "codemirror_mode": {
    "name": "ipython",
    "version": 3
   },
   "file_extension": ".py",
   "mimetype": "text/x-python",
   "name": "python",
   "nbconvert_exporter": "python",
   "pygments_lexer": "ipython3",
   "version": "3.12.4"
  }
 },
 "nbformat": 4,
 "nbformat_minor": 2
}
